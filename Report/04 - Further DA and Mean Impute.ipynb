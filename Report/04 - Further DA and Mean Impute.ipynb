{
 "cells": [
  {
   "cell_type": "markdown",
   "metadata": {},
   "source": [
    "# Further Data Analysis\n",
    "\n",
    "We're going to conduct a bit more Data Analysis and in this process also conduct a simple mean imputation as a baseline model for our data.\n",
    "\n",
    "First of all we import our data."
   ]
  },
  {
   "cell_type": "code",
   "execution_count": 2,
   "metadata": {
    "collapsed": true,
    "jupyter": {
     "outputs_hidden": true
    }
   },
   "outputs": [
    {
     "name": "stderr",
     "output_type": "stream",
     "text": [
      "\n",
      "Attaching package: 'lubridate'\n",
      "\n",
      "\n",
      "The following objects are masked from 'package:base':\n",
      "\n",
      "    date, intersect, setdiff, union\n",
      "\n",
      "\n",
      "Loading required package: mice\n",
      "\n",
      "\n",
      "Attaching package: 'mice'\n",
      "\n",
      "\n",
      "The following object is masked from 'package:stats':\n",
      "\n",
      "    filter\n",
      "\n",
      "\n",
      "The following objects are masked from 'package:base':\n",
      "\n",
      "    cbind, rbind\n",
      "\n",
      "\n",
      "Registered S3 method overwritten by 'quantmod':\n",
      "  method            from\n",
      "  as.zoo.data.frame zoo \n",
      "\n",
      "\n",
      "Attaching package: 'dlookr'\n",
      "\n",
      "\n",
      "The following object is masked from 'package:base':\n",
      "\n",
      "    transform\n",
      "\n",
      "\n",
      "\n",
      "Attaching package: 'dplyr'\n",
      "\n",
      "\n",
      "The following objects are masked from 'package:stats':\n",
      "\n",
      "    filter, lag\n",
      "\n",
      "\n",
      "The following objects are masked from 'package:base':\n",
      "\n",
      "    intersect, setdiff, setequal, union\n",
      "\n",
      "\n",
      "Loading required package: colorspace\n",
      "\n",
      "Loading required package: grid\n",
      "\n",
      "VIM is ready to use.\n",
      "\n",
      "\n",
      "Suggestions and bug-reports can be submitted at: https://github.com/statistikat/VIM/issues\n",
      "\n",
      "\n",
      "Attaching package: 'VIM'\n",
      "\n",
      "\n",
      "The following object is masked from 'package:datasets':\n",
      "\n",
      "    sleep\n",
      "\n",
      "\n",
      "Loading required package: Rcpp\n",
      "\n",
      "## \n",
      "## Amelia II: Multiple Imputation\n",
      "## (Version 1.7.6, built: 2019-11-24)\n",
      "## Copyright (C) 2005-2020 James Honaker, Gary King and Matthew Blackwell\n",
      "## Refer to http://gking.harvard.edu/amelia/ for more information\n",
      "## \n",
      "\n",
      "Loading required package: survival\n",
      "\n"
     ]
    }
   ],
   "source": [
    "library(lubridate)\n",
    "library(dlookr)\n",
    "library(dplyr)\n",
    "library(mice)\n",
    "library(VIM)\n",
    "library(Amelia)\n",
    "library(Zelig)"
   ]
  },
  {
   "cell_type": "code",
   "execution_count": 3,
   "metadata": {},
   "outputs": [
    {
     "name": "stdout",
     "output_type": "stream",
     "text": [
      "[1] \"Data imported in:\"\n",
      "[1] \"2.57000000000002S\"\n"
     ]
    }
   ],
   "source": [
    "temp2 <- tempfile()\n",
    "start <- proc.time()\n",
    "download.file(\"https://github.com/Galeforse/DST-Assessment-02/raw/main/Data/1_percent_data.csv.gz\",temp2)\n",
    "data <- (read.csv(gzfile(temp2)))\n",
    "print(\"Data imported in:\")\n",
    "print(seconds_to_period((proc.time()-start)[3]))"
   ]
  },
  {
   "cell_type": "code",
   "execution_count": 4,
   "metadata": {},
   "outputs": [
    {
     "name": "stdout",
     "output_type": "stream",
     "text": [
      "[1] \"Data imported in:\"\n",
      "[1] \"2.00999999999999S\"\n"
     ]
    }
   ],
   "source": [
    "temp2 <- tempfile()\n",
    "start <- proc.time()\n",
    "download.file(\"https://github.com/Galeforse/DST-Assessment-02/raw/main/Data/1_percent_data_head.csv.gz\",temp2)\n",
    "datah <- (read.csv(gzfile(temp2)))\n",
    "print(\"Data imported in:\")\n",
    "print(seconds_to_period((proc.time()-start)[3]))"
   ]
  },
  {
   "cell_type": "code",
   "execution_count": 7,
   "metadata": {},
   "outputs": [
    {
     "data": {
      "text/html": [
       "<table>\n",
       "<caption>A data.frame: 6 × 17</caption>\n",
       "<thead>\n",
       "\t<tr><th></th><th scope=col>ts</th><th scope=col>orig_ip</th><th scope=col>orig_port</th><th scope=col>resp_ip</th><th scope=col>resp_port</th><th scope=col>proto</th><th scope=col>service</th><th scope=col>duration</th><th scope=col>orig_bytes</th><th scope=col>resp_bytes</th><th scope=col>conn_state</th><th scope=col>missed_bytes</th><th scope=col>history</th><th scope=col>orig_pkts</th><th scope=col>orig_ip_bytes</th><th scope=col>resp_pkts</th><th scope=col>resp_ip_bytes</th></tr>\n",
       "\t<tr><th></th><th scope=col>&lt;dbl&gt;</th><th scope=col>&lt;chr&gt;</th><th scope=col>&lt;int&gt;</th><th scope=col>&lt;chr&gt;</th><th scope=col>&lt;int&gt;</th><th scope=col>&lt;chr&gt;</th><th scope=col>&lt;chr&gt;</th><th scope=col>&lt;dbl&gt;</th><th scope=col>&lt;dbl&gt;</th><th scope=col>&lt;int&gt;</th><th scope=col>&lt;chr&gt;</th><th scope=col>&lt;int&gt;</th><th scope=col>&lt;chr&gt;</th><th scope=col>&lt;int&gt;</th><th scope=col>&lt;int&gt;</th><th scope=col>&lt;int&gt;</th><th scope=col>&lt;int&gt;</th></tr>\n",
       "</thead>\n",
       "<tbody>\n",
       "\t<tr><th scope=row>1</th><td>1331915797</td><td>192.168.202.102</td><td> 2633</td><td>192.168.23.202</td><td>  80</td><td>tcp</td><td>http</td><td>0.03</td><td>481</td><td>8133</td><td>RSTO</td><td>0</td><td>ShADadfR</td><td>8</td><td>813</td><td>9</td><td>8505</td></tr>\n",
       "\t<tr><th scope=row>2</th><td>1331923392</td><td>192.168.202.110</td><td>11574</td><td>192.168.23.253</td><td>1724</td><td>tcp</td><td>    </td><td>  NA</td><td> NA</td><td>  NA</td><td>REJ </td><td>0</td><td>Sr      </td><td>1</td><td> 48</td><td>1</td><td>  40</td></tr>\n",
       "\t<tr><th scope=row>3</th><td>1331905217</td><td>192.168.202.83 </td><td>41267</td><td>192.168.206.44</td><td>8010</td><td>tcp</td><td>    </td><td>  NA</td><td> NA</td><td>  NA</td><td>REJ </td><td>0</td><td>Sr      </td><td>1</td><td> 60</td><td>1</td><td>  40</td></tr>\n",
       "\t<tr><th scope=row>4</th><td>1331994375</td><td>192.168.202.83 </td><td>58519</td><td>192.168.206.44</td><td>5214</td><td>tcp</td><td>    </td><td>  NA</td><td> NA</td><td>  NA</td><td>REJ </td><td>0</td><td>Sr      </td><td>1</td><td> 60</td><td>1</td><td>  40</td></tr>\n",
       "\t<tr><th scope=row>5</th><td>1331999507</td><td>192.168.202.140</td><td>25774</td><td>192.168.23.252</td><td>1625</td><td>tcp</td><td>    </td><td>  NA</td><td> NA</td><td>  NA</td><td>S0  </td><td>0</td><td>S       </td><td>1</td><td> 48</td><td>0</td><td>   0</td></tr>\n",
       "\t<tr><th scope=row>6</th><td>1331935766</td><td>192.168.202.83 </td><td>60760</td><td>192.168.206.44</td><td>1580</td><td>tcp</td><td>    </td><td>  NA</td><td> NA</td><td>  NA</td><td>REJ </td><td>0</td><td>Sr      </td><td>1</td><td> 60</td><td>1</td><td>  40</td></tr>\n",
       "</tbody>\n",
       "</table>\n"
      ],
      "text/latex": [
       "A data.frame: 6 × 17\n",
       "\\begin{tabular}{r|lllllllllllllllll}\n",
       "  & ts & orig\\_ip & orig\\_port & resp\\_ip & resp\\_port & proto & service & duration & orig\\_bytes & resp\\_bytes & conn\\_state & missed\\_bytes & history & orig\\_pkts & orig\\_ip\\_bytes & resp\\_pkts & resp\\_ip\\_bytes\\\\\n",
       "  & <dbl> & <chr> & <int> & <chr> & <int> & <chr> & <chr> & <dbl> & <dbl> & <int> & <chr> & <int> & <chr> & <int> & <int> & <int> & <int>\\\\\n",
       "\\hline\n",
       "\t1 & 1331915797 & 192.168.202.102 &  2633 & 192.168.23.202 &   80 & tcp & http & 0.03 & 481 & 8133 & RSTO & 0 & ShADadfR & 8 & 813 & 9 & 8505\\\\\n",
       "\t2 & 1331923392 & 192.168.202.110 & 11574 & 192.168.23.253 & 1724 & tcp &      &   NA &  NA &   NA & REJ  & 0 & Sr       & 1 &  48 & 1 &   40\\\\\n",
       "\t3 & 1331905217 & 192.168.202.83  & 41267 & 192.168.206.44 & 8010 & tcp &      &   NA &  NA &   NA & REJ  & 0 & Sr       & 1 &  60 & 1 &   40\\\\\n",
       "\t4 & 1331994375 & 192.168.202.83  & 58519 & 192.168.206.44 & 5214 & tcp &      &   NA &  NA &   NA & REJ  & 0 & Sr       & 1 &  60 & 1 &   40\\\\\n",
       "\t5 & 1331999507 & 192.168.202.140 & 25774 & 192.168.23.252 & 1625 & tcp &      &   NA &  NA &   NA & S0   & 0 & S        & 1 &  48 & 0 &    0\\\\\n",
       "\t6 & 1331935766 & 192.168.202.83  & 60760 & 192.168.206.44 & 1580 & tcp &      &   NA &  NA &   NA & REJ  & 0 & Sr       & 1 &  60 & 1 &   40\\\\\n",
       "\\end{tabular}\n"
      ],
      "text/markdown": [
       "\n",
       "A data.frame: 6 × 17\n",
       "\n",
       "| <!--/--> | ts &lt;dbl&gt; | orig_ip &lt;chr&gt; | orig_port &lt;int&gt; | resp_ip &lt;chr&gt; | resp_port &lt;int&gt; | proto &lt;chr&gt; | service &lt;chr&gt; | duration &lt;dbl&gt; | orig_bytes &lt;dbl&gt; | resp_bytes &lt;int&gt; | conn_state &lt;chr&gt; | missed_bytes &lt;int&gt; | history &lt;chr&gt; | orig_pkts &lt;int&gt; | orig_ip_bytes &lt;int&gt; | resp_pkts &lt;int&gt; | resp_ip_bytes &lt;int&gt; |\n",
       "|---|---|---|---|---|---|---|---|---|---|---|---|---|---|---|---|---|---|\n",
       "| 1 | 1331915797 | 192.168.202.102 |  2633 | 192.168.23.202 |   80 | tcp | http | 0.03 | 481 | 8133 | RSTO | 0 | ShADadfR | 8 | 813 | 9 | 8505 |\n",
       "| 2 | 1331923392 | 192.168.202.110 | 11574 | 192.168.23.253 | 1724 | tcp | <!----> |   NA |  NA |   NA | REJ  | 0 | Sr       | 1 |  48 | 1 |   40 |\n",
       "| 3 | 1331905217 | 192.168.202.83  | 41267 | 192.168.206.44 | 8010 | tcp | <!----> |   NA |  NA |   NA | REJ  | 0 | Sr       | 1 |  60 | 1 |   40 |\n",
       "| 4 | 1331994375 | 192.168.202.83  | 58519 | 192.168.206.44 | 5214 | tcp | <!----> |   NA |  NA |   NA | REJ  | 0 | Sr       | 1 |  60 | 1 |   40 |\n",
       "| 5 | 1331999507 | 192.168.202.140 | 25774 | 192.168.23.252 | 1625 | tcp | <!----> |   NA |  NA |   NA | S0   | 0 | S        | 1 |  48 | 0 |    0 |\n",
       "| 6 | 1331935766 | 192.168.202.83  | 60760 | 192.168.206.44 | 1580 | tcp | <!----> |   NA |  NA |   NA | REJ  | 0 | Sr       | 1 |  60 | 1 |   40 |\n",
       "\n"
      ],
      "text/plain": [
       "  ts         orig_ip         orig_port resp_ip        resp_port proto service\n",
       "1 1331915797 192.168.202.102  2633     192.168.23.202   80      tcp   http   \n",
       "2 1331923392 192.168.202.110 11574     192.168.23.253 1724      tcp          \n",
       "3 1331905217 192.168.202.83  41267     192.168.206.44 8010      tcp          \n",
       "4 1331994375 192.168.202.83  58519     192.168.206.44 5214      tcp          \n",
       "5 1331999507 192.168.202.140 25774     192.168.23.252 1625      tcp          \n",
       "6 1331935766 192.168.202.83  60760     192.168.206.44 1580      tcp          \n",
       "  duration orig_bytes resp_bytes conn_state missed_bytes history  orig_pkts\n",
       "1 0.03     481        8133       RSTO       0            ShADadfR 8        \n",
       "2   NA      NA          NA       REJ        0            Sr       1        \n",
       "3   NA      NA          NA       REJ        0            Sr       1        \n",
       "4   NA      NA          NA       REJ        0            Sr       1        \n",
       "5   NA      NA          NA       S0         0            S        1        \n",
       "6   NA      NA          NA       REJ        0            Sr       1        \n",
       "  orig_ip_bytes resp_pkts resp_ip_bytes\n",
       "1 813           9         8505         \n",
       "2  48           1           40         \n",
       "3  60           1           40         \n",
       "4  60           1           40         \n",
       "5  48           0            0         \n",
       "6  60           1           40         "
      ]
     },
     "metadata": {},
     "output_type": "display_data"
    }
   ],
   "source": [
    "head(data)"
   ]
  },
  {
   "cell_type": "code",
   "execution_count": 9,
   "metadata": {},
   "outputs": [
    {
     "data": {
      "text/html": [
       "<table>\n",
       "<caption>A matrix: 2 × 3 of type dbl</caption>\n",
       "<thead>\n",
       "\t<tr><th></th><th scope=col>icmp</th><th scope=col>tcp</th><th scope=col>udp</th></tr>\n",
       "</thead>\n",
       "<tbody>\n",
       "\t<tr><th scope=row>FALSE</th><td>0.8683921</td><td>0.1649403</td><td>0.3135747</td></tr>\n",
       "\t<tr><th scope=row>TRUE</th><td>0.1316079</td><td>0.8350597</td><td>0.6864253</td></tr>\n",
       "</tbody>\n",
       "</table>\n"
      ],
      "text/latex": [
       "A matrix: 2 × 3 of type dbl\n",
       "\\begin{tabular}{r|lll}\n",
       "  & icmp & tcp & udp\\\\\n",
       "\\hline\n",
       "\tFALSE & 0.8683921 & 0.1649403 & 0.3135747\\\\\n",
       "\tTRUE & 0.1316079 & 0.8350597 & 0.6864253\\\\\n",
       "\\end{tabular}\n"
      ],
      "text/markdown": [
       "\n",
       "A matrix: 2 × 3 of type dbl\n",
       "\n",
       "| <!--/--> | icmp | tcp | udp |\n",
       "|---|---|---|---|\n",
       "| FALSE | 0.8683921 | 0.1649403 | 0.3135747 |\n",
       "| TRUE | 0.1316079 | 0.8350597 | 0.6864253 |\n",
       "\n"
      ],
      "text/plain": [
       "               proto\n",
       "missingduration icmp      tcp       udp      \n",
       "          FALSE 0.8683921 0.1649403 0.3135747\n",
       "          TRUE  0.1316079 0.8350597 0.6864253"
      ]
     },
     "metadata": {},
     "output_type": "display_data"
    }
   ],
   "source": [
    "mtab0=data.frame(\n",
    "    missingduration=is.na(data[,\"duration\"]),\n",
    "    proto=data[,\"proto\"])\n",
    "mtab=table(mtab0)\n",
    "(apply(mtab,2,function(x)x/sum(x)))"
   ]
  },
  {
   "cell_type": "code",
   "execution_count": 10,
   "metadata": {},
   "outputs": [
    {
     "data": {
      "text/html": [
       "<table>\n",
       "<caption>A matrix: 2 × 3 of type dbl</caption>\n",
       "<thead>\n",
       "\t<tr><th></th><th scope=col>icmp</th><th scope=col>tcp</th><th scope=col>udp</th></tr>\n",
       "</thead>\n",
       "<tbody>\n",
       "\t<tr><th scope=row>FALSE</th><td>0.2989691</td><td>0.6409311</td><td>0.2180095</td></tr>\n",
       "\t<tr><th scope=row>TRUE</th><td>0.7010309</td><td>0.3590689</td><td>0.7819905</td></tr>\n",
       "</tbody>\n",
       "</table>\n"
      ],
      "text/latex": [
       "A matrix: 2 × 3 of type dbl\n",
       "\\begin{tabular}{r|lll}\n",
       "  & icmp & tcp & udp\\\\\n",
       "\\hline\n",
       "\tFALSE & 0.2989691 & 0.6409311 & 0.2180095\\\\\n",
       "\tTRUE & 0.7010309 & 0.3590689 & 0.7819905\\\\\n",
       "\\end{tabular}\n"
      ],
      "text/markdown": [
       "\n",
       "A matrix: 2 × 3 of type dbl\n",
       "\n",
       "| <!--/--> | icmp | tcp | udp |\n",
       "|---|---|---|---|\n",
       "| FALSE | 0.2989691 | 0.6409311 | 0.2180095 |\n",
       "| TRUE | 0.7010309 | 0.3590689 | 0.7819905 |\n",
       "\n"
      ],
      "text/plain": [
       "               proto\n",
       "missingduration icmp      tcp       udp      \n",
       "          FALSE 0.2989691 0.6409311 0.2180095\n",
       "          TRUE  0.7010309 0.3590689 0.7819905"
      ]
     },
     "metadata": {},
     "output_type": "display_data"
    }
   ],
   "source": [
    "mtab0=data.frame(\n",
    "    missingduration=is.na(datah[,\"duration\"]),\n",
    "    proto=datah[,\"proto\"])\n",
    "mtab=table(mtab0)\n",
    "(apply(mtab,2,function(x)x/sum(x)))"
   ]
  },
  {
   "cell_type": "markdown",
   "metadata": {},
   "source": [
    "The above code is taken from the workshop on missing data and is used to see the randomness of the missing `duration` (which will therefore also apply to `orig_bytes` and `resp_bytes`). It seems that the data is not missing completely at random as there seems to be trends between what protocol corresponds to missing data. However it is interesting to note that oddly enough, for the two datasets we're looking at, the `tcp` and `icmp` protocol seem to flip in trend between the two, which suggests this trend may not be prevalent throughout the whole data set, but it could also be bias from our sample.\n",
    "\n",
    "(As an extra note in the workshop the above command was used on the complete dataset and showed a trend similar to the random sample `data` set so it seems that most of the data would follow this trend and our \"head\" data is skewed in that regard.)\n",
    "\n",
    "Now, we're going to have a look for some outliers."
   ]
  },
  {
   "cell_type": "code",
   "execution_count": 11,
   "metadata": {},
   "outputs": [
    {
     "name": "stderr",
     "output_type": "stream",
     "text": [
      "Warning message in xy.coords(x, y, xlabel, ylabel, log):\n",
      "\"98 y values <= 0 omitted from logarithmic plot\"\n"
     ]
    },
    {
     "data": {
      "image/png": "[encoded data removed]",
      "text/plain": [
       "plot without title"
      ]
     },
     "metadata": {
      "image/png": {
       "height": 420,
       "width": 420
      }
     },
     "output_type": "display_data"
    }
   ],
   "source": [
    "nbreaks=101 \n",
    "thist=hist(data[,\"duration\"],breaks=nbreaks,plot=FALSE)\n",
    "\n",
    "plot(thist$mids,thist$density,log=\"y\",type=\"b\",\n",
    "     xlab=\"duration\",ylab=\"histogram density\")\n",
    "threshold=1200 \n",
    "abline(v=threshold,col=2) "
   ]
  },
  {
   "cell_type": "code",
   "execution_count": 14,
   "metadata": {},
   "outputs": [
    {
     "name": "stderr",
     "output_type": "stream",
     "text": [
      "Warning message in xy.coords(x, y, xlabel, ylabel, log):\n",
      "\"44 y values <= 0 omitted from logarithmic plot\"\n"
     ]
    },
    {
     "data": {
      "image/png": "[encoded data removed]",
      "text/plain": [
       "plot without title"
      ]
     },
     "metadata": {
      "image/png": {
       "height": 420,
       "width": 420
      }
     },
     "output_type": "display_data"
    }
   ],
   "source": [
    "nbreaks=101 \n",
    "thist=hist(datah[,\"duration\"],breaks=nbreaks,plot=FALSE)\n",
    "\n",
    "plot(thist$mids,thist$density,log=\"y\",type=\"b\",\n",
    "     xlab=\"duration\",ylab=\"histogram density\")\n",
    "threshold=120\n",
    "abline(v=threshold,col=2) "
   ]
  },
  {
   "cell_type": "markdown",
   "metadata": {},
   "source": [
    "We see that the outliers in the \"head\" data are considerably more spaced out than in the randomly sampled but there seems to a similar amount in each dataset. The most noteable thing we can see in these graphs is that the duration variable in the sampled data is considerable less than in the randomly sampled, possibly showing a time bias on the data (i.e. the head data is early on in the data and might not reflect the general distribution of the data).\n",
    "\n",
    "We can verify whether each point is an outlier with different statistical tests. We first want use Grubbs test but this relys on our data being approximately normally distrubted. But our data contains missing values so we use mean imputation to impute some data. \n",
    "\n",
    "We will also drop the service column due to the reasons previously stated."
   ]
  },
  {
   "cell_type": "code",
   "execution_count": 18,
   "metadata": {},
   "outputs": [],
   "source": [
    "data1 <- subset(data, select = -c(service))\n",
    "datah1 <- subset(datah, select = -c(service))"
   ]
  },
  {
   "cell_type": "markdown",
   "metadata": {},
   "source": [
    "We are also going to add a `logduration` column as for some methods the `duration` variable ends up being regressed wrongly resulting in a negative value which we do not want to see!"
   ]
  },
  {
   "cell_type": "code",
   "execution_count": 22,
   "metadata": {},
   "outputs": [],
   "source": [
    "data1[,\"logduration\"]=log(data1[,\"duration\"])\n",
    "datah1[,\"logduration\"]=log(datah1[,\"duration\"])"
   ]
  },
  {
   "cell_type": "code",
   "execution_count": 24,
   "metadata": {},
   "outputs": [
    {
     "data": {
      "text/html": [
       "<table>\n",
       "<caption>A data.frame: 6 × 17</caption>\n",
       "<thead>\n",
       "\t<tr><th></th><th scope=col>ts</th><th scope=col>orig_ip</th><th scope=col>orig_port</th><th scope=col>resp_ip</th><th scope=col>resp_port</th><th scope=col>proto</th><th scope=col>duration</th><th scope=col>orig_bytes</th><th scope=col>resp_bytes</th><th scope=col>conn_state</th><th scope=col>missed_bytes</th><th scope=col>history</th><th scope=col>orig_pkts</th><th scope=col>orig_ip_bytes</th><th scope=col>resp_pkts</th><th scope=col>resp_ip_bytes</th><th scope=col>logduration</th></tr>\n",
       "\t<tr><th></th><th scope=col>&lt;dbl&gt;</th><th scope=col>&lt;chr&gt;</th><th scope=col>&lt;int&gt;</th><th scope=col>&lt;chr&gt;</th><th scope=col>&lt;int&gt;</th><th scope=col>&lt;chr&gt;</th><th scope=col>&lt;dbl&gt;</th><th scope=col>&lt;dbl&gt;</th><th scope=col>&lt;dbl&gt;</th><th scope=col>&lt;chr&gt;</th><th scope=col>&lt;int&gt;</th><th scope=col>&lt;chr&gt;</th><th scope=col>&lt;int&gt;</th><th scope=col>&lt;int&gt;</th><th scope=col>&lt;int&gt;</th><th scope=col>&lt;int&gt;</th><th scope=col>&lt;dbl&gt;</th></tr>\n",
       "</thead>\n",
       "<tbody>\n",
       "\t<tr><th scope=row>1</th><td>1331915797</td><td>192.168.202.102</td><td> 2633</td><td>192.168.23.202</td><td>  80</td><td>tcp</td><td>0.030000</td><td>   481.0</td><td>8133.0000</td><td>RSTO</td><td>0</td><td>ShADadfR</td><td>8</td><td>813</td><td>9</td><td>8505</td><td>-3.506558</td></tr>\n",
       "\t<tr><th scope=row>2</th><td>1331923392</td><td>192.168.202.110</td><td>11574</td><td>192.168.23.253</td><td>1724</td><td>tcp</td><td>1.474315</td><td>518931.4</td><td> 666.5486</td><td>REJ </td><td>0</td><td>Sr      </td><td>1</td><td> 48</td><td>1</td><td>  40</td><td>-3.160371</td></tr>\n",
       "\t<tr><th scope=row>3</th><td>1331905217</td><td>192.168.202.83 </td><td>41267</td><td>192.168.206.44</td><td>8010</td><td>tcp</td><td>1.474315</td><td>518931.4</td><td> 666.5486</td><td>REJ </td><td>0</td><td>Sr      </td><td>1</td><td> 60</td><td>1</td><td>  40</td><td>-3.160371</td></tr>\n",
       "\t<tr><th scope=row>4</th><td>1331994375</td><td>192.168.202.83 </td><td>58519</td><td>192.168.206.44</td><td>5214</td><td>tcp</td><td>1.474315</td><td>518931.4</td><td> 666.5486</td><td>REJ </td><td>0</td><td>Sr      </td><td>1</td><td> 60</td><td>1</td><td>  40</td><td>-3.160371</td></tr>\n",
       "\t<tr><th scope=row>5</th><td>1331999507</td><td>192.168.202.140</td><td>25774</td><td>192.168.23.252</td><td>1625</td><td>tcp</td><td>1.474315</td><td>518931.4</td><td> 666.5486</td><td>S0  </td><td>0</td><td>S       </td><td>1</td><td> 48</td><td>0</td><td>   0</td><td>-3.160371</td></tr>\n",
       "\t<tr><th scope=row>6</th><td>1331935766</td><td>192.168.202.83 </td><td>60760</td><td>192.168.206.44</td><td>1580</td><td>tcp</td><td>1.474315</td><td>518931.4</td><td> 666.5486</td><td>REJ </td><td>0</td><td>Sr      </td><td>1</td><td> 60</td><td>1</td><td>  40</td><td>-3.160371</td></tr>\n",
       "</tbody>\n",
       "</table>\n"
      ],
      "text/latex": [
       "A data.frame: 6 × 17\n",
       "\\begin{tabular}{r|lllllllllllllllll}\n",
       "  & ts & orig\\_ip & orig\\_port & resp\\_ip & resp\\_port & proto & duration & orig\\_bytes & resp\\_bytes & conn\\_state & missed\\_bytes & history & orig\\_pkts & orig\\_ip\\_bytes & resp\\_pkts & resp\\_ip\\_bytes & logduration\\\\\n",
       "  & <dbl> & <chr> & <int> & <chr> & <int> & <chr> & <dbl> & <dbl> & <dbl> & <chr> & <int> & <chr> & <int> & <int> & <int> & <int> & <dbl>\\\\\n",
       "\\hline\n",
       "\t1 & 1331915797 & 192.168.202.102 &  2633 & 192.168.23.202 &   80 & tcp & 0.030000 &    481.0 & 8133.0000 & RSTO & 0 & ShADadfR & 8 & 813 & 9 & 8505 & -3.506558\\\\\n",
       "\t2 & 1331923392 & 192.168.202.110 & 11574 & 192.168.23.253 & 1724 & tcp & 1.474315 & 518931.4 &  666.5486 & REJ  & 0 & Sr       & 1 &  48 & 1 &   40 & -3.160371\\\\\n",
       "\t3 & 1331905217 & 192.168.202.83  & 41267 & 192.168.206.44 & 8010 & tcp & 1.474315 & 518931.4 &  666.5486 & REJ  & 0 & Sr       & 1 &  60 & 1 &   40 & -3.160371\\\\\n",
       "\t4 & 1331994375 & 192.168.202.83  & 58519 & 192.168.206.44 & 5214 & tcp & 1.474315 & 518931.4 &  666.5486 & REJ  & 0 & Sr       & 1 &  60 & 1 &   40 & -3.160371\\\\\n",
       "\t5 & 1331999507 & 192.168.202.140 & 25774 & 192.168.23.252 & 1625 & tcp & 1.474315 & 518931.4 &  666.5486 & S0   & 0 & S        & 1 &  48 & 0 &    0 & -3.160371\\\\\n",
       "\t6 & 1331935766 & 192.168.202.83  & 60760 & 192.168.206.44 & 1580 & tcp & 1.474315 & 518931.4 &  666.5486 & REJ  & 0 & Sr       & 1 &  60 & 1 &   40 & -3.160371\\\\\n",
       "\\end{tabular}\n"
      ],
      "text/markdown": [
       "\n",
       "A data.frame: 6 × 17\n",
       "\n",
       "| <!--/--> | ts &lt;dbl&gt; | orig_ip &lt;chr&gt; | orig_port &lt;int&gt; | resp_ip &lt;chr&gt; | resp_port &lt;int&gt; | proto &lt;chr&gt; | duration &lt;dbl&gt; | orig_bytes &lt;dbl&gt; | resp_bytes &lt;dbl&gt; | conn_state &lt;chr&gt; | missed_bytes &lt;int&gt; | history &lt;chr&gt; | orig_pkts &lt;int&gt; | orig_ip_bytes &lt;int&gt; | resp_pkts &lt;int&gt; | resp_ip_bytes &lt;int&gt; | logduration &lt;dbl&gt; |\n",
       "|---|---|---|---|---|---|---|---|---|---|---|---|---|---|---|---|---|---|\n",
       "| 1 | 1331915797 | 192.168.202.102 |  2633 | 192.168.23.202 |   80 | tcp | 0.030000 |    481.0 | 8133.0000 | RSTO | 0 | ShADadfR | 8 | 813 | 9 | 8505 | -3.506558 |\n",
       "| 2 | 1331923392 | 192.168.202.110 | 11574 | 192.168.23.253 | 1724 | tcp | 1.474315 | 518931.4 |  666.5486 | REJ  | 0 | Sr       | 1 |  48 | 1 |   40 | -3.160371 |\n",
       "| 3 | 1331905217 | 192.168.202.83  | 41267 | 192.168.206.44 | 8010 | tcp | 1.474315 | 518931.4 |  666.5486 | REJ  | 0 | Sr       | 1 |  60 | 1 |   40 | -3.160371 |\n",
       "| 4 | 1331994375 | 192.168.202.83  | 58519 | 192.168.206.44 | 5214 | tcp | 1.474315 | 518931.4 |  666.5486 | REJ  | 0 | Sr       | 1 |  60 | 1 |   40 | -3.160371 |\n",
       "| 5 | 1331999507 | 192.168.202.140 | 25774 | 192.168.23.252 | 1625 | tcp | 1.474315 | 518931.4 |  666.5486 | S0   | 0 | S        | 1 |  48 | 0 |    0 | -3.160371 |\n",
       "| 6 | 1331935766 | 192.168.202.83  | 60760 | 192.168.206.44 | 1580 | tcp | 1.474315 | 518931.4 |  666.5486 | REJ  | 0 | Sr       | 1 |  60 | 1 |   40 | -3.160371 |\n",
       "\n"
      ],
      "text/plain": [
       "  ts         orig_ip         orig_port resp_ip        resp_port proto duration\n",
       "1 1331915797 192.168.202.102  2633     192.168.23.202   80      tcp   0.030000\n",
       "2 1331923392 192.168.202.110 11574     192.168.23.253 1724      tcp   1.474315\n",
       "3 1331905217 192.168.202.83  41267     192.168.206.44 8010      tcp   1.474315\n",
       "4 1331994375 192.168.202.83  58519     192.168.206.44 5214      tcp   1.474315\n",
       "5 1331999507 192.168.202.140 25774     192.168.23.252 1625      tcp   1.474315\n",
       "6 1331935766 192.168.202.83  60760     192.168.206.44 1580      tcp   1.474315\n",
       "  orig_bytes resp_bytes conn_state missed_bytes history  orig_pkts\n",
       "1    481.0   8133.0000  RSTO       0            ShADadfR 8        \n",
       "2 518931.4    666.5486  REJ        0            Sr       1        \n",
       "3 518931.4    666.5486  REJ        0            Sr       1        \n",
       "4 518931.4    666.5486  REJ        0            Sr       1        \n",
       "5 518931.4    666.5486  S0         0            S        1        \n",
       "6 518931.4    666.5486  REJ        0            Sr       1        \n",
       "  orig_ip_bytes resp_pkts resp_ip_bytes logduration\n",
       "1 813           9         8505          -3.506558  \n",
       "2  48           1           40          -3.160371  \n",
       "3  60           1           40          -3.160371  \n",
       "4  60           1           40          -3.160371  \n",
       "5  48           0            0          -3.160371  \n",
       "6  60           1           40          -3.160371  "
      ]
     },
     "metadata": {},
     "output_type": "display_data"
    }
   ],
   "source": [
    "conn_mean<-data1\n",
    "conn_mean[is.na(conn_mean[,\"duration\"]),\n",
    "              \"duration\"]=\n",
    "    mean(na.omit(conn_mean[,\"duration\"]))\n",
    "conn_mean[is.na(conn_mean[,\"orig_bytes\"]),\n",
    "              \"orig_bytes\"]=\n",
    "    mean(na.omit(conn_mean[,\"orig_bytes\"]))\n",
    "conn_mean[is.na(conn_mean[,\"resp_bytes\"]),\n",
    "              \"resp_bytes\"]=\n",
    "    mean(na.omit(conn_mean[,\"resp_bytes\"]))\n",
    "conn_mean[is.na(conn_mean[,\"logduration\"]),\n",
    "              \"logduration\"]=\n",
    "    mean(na.omit(conn_mean[,\"logduration\"]))\n",
    "head(conn_mean)"
   ]
  },
  {
   "cell_type": "code",
   "execution_count": 25,
   "metadata": {},
   "outputs": [
    {
     "data": {
      "text/html": [
       "<table>\n",
       "<caption>A data.frame: 6 × 17</caption>\n",
       "<thead>\n",
       "\t<tr><th></th><th scope=col>ts</th><th scope=col>orig_ip</th><th scope=col>orig_port</th><th scope=col>resp_ip</th><th scope=col>resp_port</th><th scope=col>proto</th><th scope=col>duration</th><th scope=col>orig_bytes</th><th scope=col>resp_bytes</th><th scope=col>conn_state</th><th scope=col>missed_bytes</th><th scope=col>history</th><th scope=col>orig_pkts</th><th scope=col>orig_ip_bytes</th><th scope=col>resp_pkts</th><th scope=col>resp_ip_bytes</th><th scope=col>logduration</th></tr>\n",
       "\t<tr><th></th><th scope=col>&lt;dbl&gt;</th><th scope=col>&lt;chr&gt;</th><th scope=col>&lt;int&gt;</th><th scope=col>&lt;chr&gt;</th><th scope=col>&lt;int&gt;</th><th scope=col>&lt;chr&gt;</th><th scope=col>&lt;dbl&gt;</th><th scope=col>&lt;dbl&gt;</th><th scope=col>&lt;dbl&gt;</th><th scope=col>&lt;chr&gt;</th><th scope=col>&lt;int&gt;</th><th scope=col>&lt;chr&gt;</th><th scope=col>&lt;int&gt;</th><th scope=col>&lt;int&gt;</th><th scope=col>&lt;int&gt;</th><th scope=col>&lt;int&gt;</th><th scope=col>&lt;dbl&gt;</th></tr>\n",
       "</thead>\n",
       "<tbody>\n",
       "\t<tr><th scope=row>1</th><td>1331901000</td><td>192.168.202.79</td><td>50463</td><td>192.168.229.251</td><td> 80</td><td>tcp</td><td>0.3745079</td><td> 50.35395</td><td>  21.58427</td><td>SH</td><td>0</td><td>Fa       </td><td>1</td><td> 52</td><td> 1</td><td>  52</td><td>-3.664367</td></tr>\n",
       "\t<tr><th scope=row>2</th><td>1331901000</td><td>192.168.202.79</td><td>46117</td><td>192.168.229.254</td><td>443</td><td>tcp</td><td>0.3745079</td><td> 50.35395</td><td>  21.58427</td><td>SF</td><td>0</td><td>dDafFr   </td><td>3</td><td>382</td><td> 9</td><td> 994</td><td>-3.664367</td></tr>\n",
       "\t<tr><th scope=row>3</th><td>1331901000</td><td>192.168.202.79</td><td>50465</td><td>192.168.229.251</td><td> 80</td><td>tcp</td><td>0.0100000</td><td>166.00000</td><td> 214.00000</td><td>SF</td><td>0</td><td>ShADfFa  </td><td>4</td><td>382</td><td> 3</td><td> 382</td><td>-4.605170</td></tr>\n",
       "\t<tr><th scope=row>4</th><td>1331901000</td><td>192.168.202.79</td><td>50467</td><td>192.168.229.251</td><td> 80</td><td>tcp</td><td>0.0100000</td><td>166.00000</td><td> 214.00000</td><td>SF</td><td>0</td><td>ShADfFa  </td><td>4</td><td>382</td><td> 3</td><td> 382</td><td>-4.605170</td></tr>\n",
       "\t<tr><th scope=row>5</th><td>1331901000</td><td>192.168.202.79</td><td>46119</td><td>192.168.229.254</td><td>443</td><td>tcp</td><td>0.0200000</td><td>544.00000</td><td>1060.00000</td><td>SF</td><td>0</td><td>ShADadfFr</td><td>8</td><td>968</td><td>13</td><td>1744</td><td>-3.912023</td></tr>\n",
       "\t<tr><th scope=row>6</th><td>1331901000</td><td>192.168.202.79</td><td>46121</td><td>192.168.229.254</td><td>443</td><td>tcp</td><td>0.0100000</td><td>544.00000</td><td>1060.00000</td><td>SF</td><td>0</td><td>ShADadfFr</td><td>8</td><td>968</td><td>13</td><td>1744</td><td>-4.605170</td></tr>\n",
       "</tbody>\n",
       "</table>\n"
      ],
      "text/latex": [
       "A data.frame: 6 × 17\n",
       "\\begin{tabular}{r|lllllllllllllllll}\n",
       "  & ts & orig\\_ip & orig\\_port & resp\\_ip & resp\\_port & proto & duration & orig\\_bytes & resp\\_bytes & conn\\_state & missed\\_bytes & history & orig\\_pkts & orig\\_ip\\_bytes & resp\\_pkts & resp\\_ip\\_bytes & logduration\\\\\n",
       "  & <dbl> & <chr> & <int> & <chr> & <int> & <chr> & <dbl> & <dbl> & <dbl> & <chr> & <int> & <chr> & <int> & <int> & <int> & <int> & <dbl>\\\\\n",
       "\\hline\n",
       "\t1 & 1331901000 & 192.168.202.79 & 50463 & 192.168.229.251 &  80 & tcp & 0.3745079 &  50.35395 &   21.58427 & SH & 0 & Fa        & 1 &  52 &  1 &   52 & -3.664367\\\\\n",
       "\t2 & 1331901000 & 192.168.202.79 & 46117 & 192.168.229.254 & 443 & tcp & 0.3745079 &  50.35395 &   21.58427 & SF & 0 & dDafFr    & 3 & 382 &  9 &  994 & -3.664367\\\\\n",
       "\t3 & 1331901000 & 192.168.202.79 & 50465 & 192.168.229.251 &  80 & tcp & 0.0100000 & 166.00000 &  214.00000 & SF & 0 & ShADfFa   & 4 & 382 &  3 &  382 & -4.605170\\\\\n",
       "\t4 & 1331901000 & 192.168.202.79 & 50467 & 192.168.229.251 &  80 & tcp & 0.0100000 & 166.00000 &  214.00000 & SF & 0 & ShADfFa   & 4 & 382 &  3 &  382 & -4.605170\\\\\n",
       "\t5 & 1331901000 & 192.168.202.79 & 46119 & 192.168.229.254 & 443 & tcp & 0.0200000 & 544.00000 & 1060.00000 & SF & 0 & ShADadfFr & 8 & 968 & 13 & 1744 & -3.912023\\\\\n",
       "\t6 & 1331901000 & 192.168.202.79 & 46121 & 192.168.229.254 & 443 & tcp & 0.0100000 & 544.00000 & 1060.00000 & SF & 0 & ShADadfFr & 8 & 968 & 13 & 1744 & -4.605170\\\\\n",
       "\\end{tabular}\n"
      ],
      "text/markdown": [
       "\n",
       "A data.frame: 6 × 17\n",
       "\n",
       "| <!--/--> | ts &lt;dbl&gt; | orig_ip &lt;chr&gt; | orig_port &lt;int&gt; | resp_ip &lt;chr&gt; | resp_port &lt;int&gt; | proto &lt;chr&gt; | duration &lt;dbl&gt; | orig_bytes &lt;dbl&gt; | resp_bytes &lt;dbl&gt; | conn_state &lt;chr&gt; | missed_bytes &lt;int&gt; | history &lt;chr&gt; | orig_pkts &lt;int&gt; | orig_ip_bytes &lt;int&gt; | resp_pkts &lt;int&gt; | resp_ip_bytes &lt;int&gt; | logduration &lt;dbl&gt; |\n",
       "|---|---|---|---|---|---|---|---|---|---|---|---|---|---|---|---|---|---|\n",
       "| 1 | 1331901000 | 192.168.202.79 | 50463 | 192.168.229.251 |  80 | tcp | 0.3745079 |  50.35395 |   21.58427 | SH | 0 | Fa        | 1 |  52 |  1 |   52 | -3.664367 |\n",
       "| 2 | 1331901000 | 192.168.202.79 | 46117 | 192.168.229.254 | 443 | tcp | 0.3745079 |  50.35395 |   21.58427 | SF | 0 | dDafFr    | 3 | 382 |  9 |  994 | -3.664367 |\n",
       "| 3 | 1331901000 | 192.168.202.79 | 50465 | 192.168.229.251 |  80 | tcp | 0.0100000 | 166.00000 |  214.00000 | SF | 0 | ShADfFa   | 4 | 382 |  3 |  382 | -4.605170 |\n",
       "| 4 | 1331901000 | 192.168.202.79 | 50467 | 192.168.229.251 |  80 | tcp | 0.0100000 | 166.00000 |  214.00000 | SF | 0 | ShADfFa   | 4 | 382 |  3 |  382 | -4.605170 |\n",
       "| 5 | 1331901000 | 192.168.202.79 | 46119 | 192.168.229.254 | 443 | tcp | 0.0200000 | 544.00000 | 1060.00000 | SF | 0 | ShADadfFr | 8 | 968 | 13 | 1744 | -3.912023 |\n",
       "| 6 | 1331901000 | 192.168.202.79 | 46121 | 192.168.229.254 | 443 | tcp | 0.0100000 | 544.00000 | 1060.00000 | SF | 0 | ShADadfFr | 8 | 968 | 13 | 1744 | -4.605170 |\n",
       "\n"
      ],
      "text/plain": [
       "  ts         orig_ip        orig_port resp_ip         resp_port proto duration \n",
       "1 1331901000 192.168.202.79 50463     192.168.229.251  80       tcp   0.3745079\n",
       "2 1331901000 192.168.202.79 46117     192.168.229.254 443       tcp   0.3745079\n",
       "3 1331901000 192.168.202.79 50465     192.168.229.251  80       tcp   0.0100000\n",
       "4 1331901000 192.168.202.79 50467     192.168.229.251  80       tcp   0.0100000\n",
       "5 1331901000 192.168.202.79 46119     192.168.229.254 443       tcp   0.0200000\n",
       "6 1331901000 192.168.202.79 46121     192.168.229.254 443       tcp   0.0100000\n",
       "  orig_bytes resp_bytes conn_state missed_bytes history   orig_pkts\n",
       "1  50.35395    21.58427 SH         0            Fa        1        \n",
       "2  50.35395    21.58427 SF         0            dDafFr    3        \n",
       "3 166.00000   214.00000 SF         0            ShADfFa   4        \n",
       "4 166.00000   214.00000 SF         0            ShADfFa   4        \n",
       "5 544.00000  1060.00000 SF         0            ShADadfFr 8        \n",
       "6 544.00000  1060.00000 SF         0            ShADadfFr 8        \n",
       "  orig_ip_bytes resp_pkts resp_ip_bytes logduration\n",
       "1  52            1          52          -3.664367  \n",
       "2 382            9         994          -3.664367  \n",
       "3 382            3         382          -4.605170  \n",
       "4 382            3         382          -4.605170  \n",
       "5 968           13        1744          -3.912023  \n",
       "6 968           13        1744          -4.605170  "
      ]
     },
     "metadata": {},
     "output_type": "display_data"
    }
   ],
   "source": [
    "conn_meanh<-datah1\n",
    "conn_meanh[is.na(conn_meanh[,\"duration\"]),\n",
    "              \"duration\"]=\n",
    "    mean(na.omit(conn_meanh[,\"duration\"]))\n",
    "conn_meanh[is.na(conn_meanh[,\"orig_bytes\"]),\n",
    "              \"orig_bytes\"]=\n",
    "    mean(na.omit(conn_meanh[,\"orig_bytes\"]))\n",
    "conn_meanh[is.na(conn_meanh[,\"resp_bytes\"]),\n",
    "              \"resp_bytes\"]=\n",
    "    mean(na.omit(conn_meanh[,\"resp_bytes\"]))\n",
    "conn_meanh[is.na(conn_meanh[,\"logduration\"]),\n",
    "              \"logduration\"]=\n",
    "    mean(na.omit(conn_meanh[,\"logduration\"]))\n",
    "head(conn_meanh)"
   ]
  },
  {
   "cell_type": "code",
   "execution_count": null,
   "metadata": {},
   "outputs": [],
   "source": [
    "plot(density(conn_mean[,\"logduration\"]))"
   ]
  },
  {
   "cell_type": "code",
   "execution_count": null,
   "metadata": {},
   "outputs": [],
   "source": [
    "plot(density(conn_mean[,\"orig_bytes\"]))"
   ]
  }
 ],
 "metadata": {
  "kernelspec": {
   "display_name": "R",
   "language": "R",
   "name": "ir"
  },
  "language_info": {
   "codemirror_mode": "r",
   "file_extension": ".r",
   "mimetype": "text/x-r-source",
   "name": "R",
   "pygments_lexer": "r",
   "version": "4.0.3"
  }
 },
 "nbformat": 4,
 "nbformat_minor": 4
}
