{
 "cells": [
  {
   "cell_type": "markdown",
   "metadata": {},
   "source": [
    "# Performance Analysis\n",
    "\n",
    "In this part of the report we are going to talk about the performance of our models, limited though the results that we achieved may be.\n",
    "\n",
    "# R-Squared\n",
    "\n",
    "We have mentioned in the previous section briefly about R-squared values. The main conclusion that we have been able to draw is that the non-trivial model, when trained correctly, is a great increase in performance over the baseline model. There is a significant increase in the value of the R-squared variable. This makes sense as we would hope that such a complex and multiply iterated process would perform better than a simple mean imputation, that takes a manner of seconds.\n",
    "\n",
    "# Variable comparison\n",
    "\n",
    "Here we are going to conduct a simple method, where we subtract our imputed values in a column from the true data, and then take the mean of the column to see the average variance in data from the truth and then taking a mean of this new column vector to get an impression of how much it differs from the actual data. We will import the data and then do data manipulation to achieve these results."
   ]
  },
  {
   "cell_type": "code",
   "execution_count": 1,
   "metadata": {
    "collapsed": true,
    "jupyter": {
     "outputs_hidden": true
    }
   },
   "outputs": [
    {
     "name": "stderr",
     "output_type": "stream",
     "text": [
      "\n",
      "Attaching package: 'lubridate'\n",
      "\n",
      "\n",
      "The following objects are masked from 'package:base':\n",
      "\n",
      "    date, intersect, setdiff, union\n",
      "\n",
      "\n"
     ]
    }
   ],
   "source": [
    "library(lubridate)"
   ]
  },
  {
   "cell_type": "code",
   "execution_count": 2,
   "metadata": {},
   "outputs": [
    {
     "name": "stdout",
     "output_type": "stream",
     "text": [
      "[1] \"Data imported in:\"\n",
      "[1] \"3.76S\"\n"
     ]
    }
   ],
   "source": [
    "temp2 <- tempfile()\n",
    "start <- proc.time()\n",
    "download.file(\"https://github.com/Galeforse/DST-Assessment-02/raw/main/Data/test_complete1.csv.gz\",temp2)\n",
    "datacomplete <- (read.csv(gzfile(temp2)))\n",
    "print(\"Data imported in:\")\n",
    "print(seconds_to_period((proc.time()-start)[3]))"
   ]
  },
  {
   "cell_type": "code",
   "execution_count": 3,
   "metadata": {},
   "outputs": [
    {
     "name": "stdout",
     "output_type": "stream",
     "text": [
      "[1] \"Data imported in:\"\n",
      "[1] \"7.67S\"\n"
     ]
    }
   ],
   "source": [
    "temp2 <- tempfile()\n",
    "start <- proc.time()\n",
    "download.file(\"https://github.com/Galeforse/DST-Assessment-02/raw/main/Data/amelia_predict_3.csv\",temp2)\n",
    "dataamelia <- read.csv(temp2)\n",
    "print(\"Data imported in:\")\n",
    "print(seconds_to_period((proc.time()-start)[3]))"
   ]
  },
  {
   "cell_type": "code",
   "execution_count": 4,
   "metadata": {},
   "outputs": [
    {
     "name": "stdout",
     "output_type": "stream",
     "text": [
      "[1] \"Data imported in:\"\n",
      "[1] \"3.25S\"\n"
     ]
    }
   ],
   "source": [
    "temp2 <- tempfile()\n",
    "start <- proc.time()\n",
    "download.file(\"https://github.com/Galeforse/DST-Assessment-02/raw/main/Data/Mean_impute_fill.csv.gz\",temp2)\n",
    "datamean <- (read.csv(gzfile(temp2)))\n",
    "print(\"Data imported in:\")\n",
    "print(seconds_to_period((proc.time()-start)[3]))"
   ]
  },
  {
   "cell_type": "code",
   "execution_count": 5,
   "metadata": {},
   "outputs": [
    {
     "name": "stdout",
     "output_type": "stream",
     "text": [
      "[1] \"Data imported in:\"\n",
      "[1] \"1.22S\"\n"
     ]
    }
   ],
   "source": [
    "temp2 <- tempfile()\n",
    "start <- proc.time()\n",
    "download.file(\"https://github.com/Galeforse/DST-Assessment-02/raw/main/Data/output_missforest.csv.gz\",temp2)\n",
    "dataforest <- (read.csv(gzfile(temp2)))\n",
    "print(\"Data imported in:\")\n",
    "print(seconds_to_period((proc.time()-start)[3]))"
   ]
  },
  {
   "cell_type": "code",
   "execution_count": 6,
   "metadata": {},
   "outputs": [
    {
     "data": {
      "text/html": [
       "194980"
      ],
      "text/latex": [
       "194980"
      ],
      "text/markdown": [
       "194980"
      ],
      "text/plain": [
       "[1] 194980"
      ]
     },
     "metadata": {},
     "output_type": "display_data"
    },
    {
     "data": {
      "text/html": [
       "194980"
      ],
      "text/latex": [
       "194980"
      ],
      "text/markdown": [
       "194980"
      ],
      "text/plain": [
       "[1] 194980"
      ]
     },
     "metadata": {},
     "output_type": "display_data"
    },
    {
     "data": {
      "text/html": [
       "194980"
      ],
      "text/latex": [
       "194980"
      ],
      "text/markdown": [
       "194980"
      ],
      "text/plain": [
       "[1] 194980"
      ]
     },
     "metadata": {},
     "output_type": "display_data"
    },
    {
     "data": {
      "text/html": [
       "194980"
      ],
      "text/latex": [
       "194980"
      ],
      "text/markdown": [
       "194980"
      ],
      "text/plain": [
       "[1] 194980"
      ]
     },
     "metadata": {},
     "output_type": "display_data"
    }
   ],
   "source": [
    "nrow(datamean)\n",
    "nrow(datacomplete)\n",
    "nrow(dataamelia)\n",
    "nrow(dataforest)"
   ]
  },
  {
   "cell_type": "code",
   "execution_count": 7,
   "metadata": {},
   "outputs": [
    {
     "data": {
      "text/html": [
       "<table>\n",
       "<caption>A data.frame: 6 × 18</caption>\n",
       "<thead>\n",
       "\t<tr><th></th><th scope=col>ts</th><th scope=col>orig_ip</th><th scope=col>orig_port</th><th scope=col>resp_ip</th><th scope=col>resp_port</th><th scope=col>proto</th><th scope=col>service</th><th scope=col>duration</th><th scope=col>orig_bytes</th><th scope=col>resp_bytes</th><th scope=col>conn_state</th><th scope=col>missed_bytes</th><th scope=col>history</th><th scope=col>orig_pkts</th><th scope=col>orig_ip_bytes</th><th scope=col>resp_pkts</th><th scope=col>resp_ip_bytes</th><th scope=col>logduration</th></tr>\n",
       "\t<tr><th></th><th scope=col>&lt;dbl&gt;</th><th scope=col>&lt;chr&gt;</th><th scope=col>&lt;int&gt;</th><th scope=col>&lt;chr&gt;</th><th scope=col>&lt;int&gt;</th><th scope=col>&lt;chr&gt;</th><th scope=col>&lt;chr&gt;</th><th scope=col>&lt;dbl&gt;</th><th scope=col>&lt;dbl&gt;</th><th scope=col>&lt;int&gt;</th><th scope=col>&lt;chr&gt;</th><th scope=col>&lt;int&gt;</th><th scope=col>&lt;chr&gt;</th><th scope=col>&lt;int&gt;</th><th scope=col>&lt;int&gt;</th><th scope=col>&lt;int&gt;</th><th scope=col>&lt;int&gt;</th><th scope=col>&lt;dbl&gt;</th></tr>\n",
       "</thead>\n",
       "<tbody>\n",
       "\t<tr><th scope=row>1</th><td>1331915797</td><td>192.168.202.102</td><td> 2633</td><td>192.168.23.202 </td><td>   80</td><td>tcp</td><td>http</td><td>0.03</td><td> 481</td><td>8133</td><td>RSTO</td><td>0</td><td>ShADadfR</td><td> 8</td><td> 813</td><td>9</td><td>8505</td><td>-3.506558</td></tr>\n",
       "\t<tr><th scope=row>2</th><td>1331921224</td><td>192.168.202.102</td><td> 4094</td><td>192.168.24.101 </td><td>   80</td><td>tcp</td><td>    </td><td>0.01</td><td>7085</td><td> 172</td><td>RSTO</td><td>0</td><td>ShADadfR</td><td>10</td><td>7497</td><td>9</td><td> 544</td><td>-4.605170</td></tr>\n",
       "\t<tr><th scope=row>3</th><td>1331903910</td><td>192.168.202.110</td><td>16066</td><td>192.168.27.152 </td><td>12486</td><td>tcp</td><td>    </td><td>0.01</td><td>   0</td><td>   0</td><td>REJ </td><td>0</td><td>Sr      </td><td> 1</td><td>  48</td><td>1</td><td>  40</td><td>-4.605170</td></tr>\n",
       "\t<tr><th scope=row>4</th><td>1331988939</td><td>192.168.204.45 </td><td>42997</td><td>192.168.23.1   </td><td>28745</td><td>tcp</td><td>    </td><td>0.01</td><td>   0</td><td>   0</td><td>REJ </td><td>0</td><td>Sr      </td><td> 1</td><td>  60</td><td>1</td><td>  40</td><td>-4.605170</td></tr>\n",
       "\t<tr><th scope=row>5</th><td>1331918792</td><td>192.168.202.110</td><td>38566</td><td>192.168.229.252</td><td>32754</td><td>tcp</td><td>    </td><td>0.20</td><td>   0</td><td>   0</td><td>REJ </td><td>0</td><td>Sr      </td><td> 1</td><td>  48</td><td>1</td><td>  40</td><td>-1.609438</td></tr>\n",
       "\t<tr><th scope=row>6</th><td>1331901863</td><td>192.168.202.79 </td><td>63805</td><td>192.168.229.252</td><td>45078</td><td>tcp</td><td>    </td><td>0.06</td><td>   0</td><td>   0</td><td>REJ </td><td>0</td><td>Sr      </td><td> 1</td><td>  44</td><td>1</td><td>  40</td><td>-2.813411</td></tr>\n",
       "</tbody>\n",
       "</table>\n"
      ],
      "text/latex": [
       "A data.frame: 6 × 18\n",
       "\\begin{tabular}{r|llllllllllllllllll}\n",
       "  & ts & orig\\_ip & orig\\_port & resp\\_ip & resp\\_port & proto & service & duration & orig\\_bytes & resp\\_bytes & conn\\_state & missed\\_bytes & history & orig\\_pkts & orig\\_ip\\_bytes & resp\\_pkts & resp\\_ip\\_bytes & logduration\\\\\n",
       "  & <dbl> & <chr> & <int> & <chr> & <int> & <chr> & <chr> & <dbl> & <dbl> & <int> & <chr> & <int> & <chr> & <int> & <int> & <int> & <int> & <dbl>\\\\\n",
       "\\hline\n",
       "\t1 & 1331915797 & 192.168.202.102 &  2633 & 192.168.23.202  &    80 & tcp & http & 0.03 &  481 & 8133 & RSTO & 0 & ShADadfR &  8 &  813 & 9 & 8505 & -3.506558\\\\\n",
       "\t2 & 1331921224 & 192.168.202.102 &  4094 & 192.168.24.101  &    80 & tcp &      & 0.01 & 7085 &  172 & RSTO & 0 & ShADadfR & 10 & 7497 & 9 &  544 & -4.605170\\\\\n",
       "\t3 & 1331903910 & 192.168.202.110 & 16066 & 192.168.27.152  & 12486 & tcp &      & 0.01 &    0 &    0 & REJ  & 0 & Sr       &  1 &   48 & 1 &   40 & -4.605170\\\\\n",
       "\t4 & 1331988939 & 192.168.204.45  & 42997 & 192.168.23.1    & 28745 & tcp &      & 0.01 &    0 &    0 & REJ  & 0 & Sr       &  1 &   60 & 1 &   40 & -4.605170\\\\\n",
       "\t5 & 1331918792 & 192.168.202.110 & 38566 & 192.168.229.252 & 32754 & tcp &      & 0.20 &    0 &    0 & REJ  & 0 & Sr       &  1 &   48 & 1 &   40 & -1.609438\\\\\n",
       "\t6 & 1331901863 & 192.168.202.79  & 63805 & 192.168.229.252 & 45078 & tcp &      & 0.06 &    0 &    0 & REJ  & 0 & Sr       &  1 &   44 & 1 &   40 & -2.813411\\\\\n",
       "\\end{tabular}\n"
      ],
      "text/markdown": [
       "\n",
       "A data.frame: 6 × 18\n",
       "\n",
       "| <!--/--> | ts &lt;dbl&gt; | orig_ip &lt;chr&gt; | orig_port &lt;int&gt; | resp_ip &lt;chr&gt; | resp_port &lt;int&gt; | proto &lt;chr&gt; | service &lt;chr&gt; | duration &lt;dbl&gt; | orig_bytes &lt;dbl&gt; | resp_bytes &lt;int&gt; | conn_state &lt;chr&gt; | missed_bytes &lt;int&gt; | history &lt;chr&gt; | orig_pkts &lt;int&gt; | orig_ip_bytes &lt;int&gt; | resp_pkts &lt;int&gt; | resp_ip_bytes &lt;int&gt; | logduration &lt;dbl&gt; |\n",
       "|---|---|---|---|---|---|---|---|---|---|---|---|---|---|---|---|---|---|---|\n",
       "| 1 | 1331915797 | 192.168.202.102 |  2633 | 192.168.23.202  |    80 | tcp | http | 0.03 |  481 | 8133 | RSTO | 0 | ShADadfR |  8 |  813 | 9 | 8505 | -3.506558 |\n",
       "| 2 | 1331921224 | 192.168.202.102 |  4094 | 192.168.24.101  |    80 | tcp | <!----> | 0.01 | 7085 |  172 | RSTO | 0 | ShADadfR | 10 | 7497 | 9 |  544 | -4.605170 |\n",
       "| 3 | 1331903910 | 192.168.202.110 | 16066 | 192.168.27.152  | 12486 | tcp | <!----> | 0.01 |    0 |    0 | REJ  | 0 | Sr       |  1 |   48 | 1 |   40 | -4.605170 |\n",
       "| 4 | 1331988939 | 192.168.204.45  | 42997 | 192.168.23.1    | 28745 | tcp | <!----> | 0.01 |    0 |    0 | REJ  | 0 | Sr       |  1 |   60 | 1 |   40 | -4.605170 |\n",
       "| 5 | 1331918792 | 192.168.202.110 | 38566 | 192.168.229.252 | 32754 | tcp | <!----> | 0.20 |    0 |    0 | REJ  | 0 | Sr       |  1 |   48 | 1 |   40 | -1.609438 |\n",
       "| 6 | 1331901863 | 192.168.202.79  | 63805 | 192.168.229.252 | 45078 | tcp | <!----> | 0.06 |    0 |    0 | REJ  | 0 | Sr       |  1 |   44 | 1 |   40 | -2.813411 |\n",
       "\n"
      ],
      "text/plain": [
       "  ts         orig_ip         orig_port resp_ip         resp_port proto service\n",
       "1 1331915797 192.168.202.102  2633     192.168.23.202     80     tcp   http   \n",
       "2 1331921224 192.168.202.102  4094     192.168.24.101     80     tcp          \n",
       "3 1331903910 192.168.202.110 16066     192.168.27.152  12486     tcp          \n",
       "4 1331988939 192.168.204.45  42997     192.168.23.1    28745     tcp          \n",
       "5 1331918792 192.168.202.110 38566     192.168.229.252 32754     tcp          \n",
       "6 1331901863 192.168.202.79  63805     192.168.229.252 45078     tcp          \n",
       "  duration orig_bytes resp_bytes conn_state missed_bytes history  orig_pkts\n",
       "1 0.03      481       8133       RSTO       0            ShADadfR  8       \n",
       "2 0.01     7085        172       RSTO       0            ShADadfR 10       \n",
       "3 0.01        0          0       REJ        0            Sr        1       \n",
       "4 0.01        0          0       REJ        0            Sr        1       \n",
       "5 0.20        0          0       REJ        0            Sr        1       \n",
       "6 0.06        0          0       REJ        0            Sr        1       \n",
       "  orig_ip_bytes resp_pkts resp_ip_bytes logduration\n",
       "1  813          9         8505          -3.506558  \n",
       "2 7497          9          544          -4.605170  \n",
       "3   48          1           40          -4.605170  \n",
       "4   60          1           40          -4.605170  \n",
       "5   48          1           40          -1.609438  \n",
       "6   44          1           40          -2.813411  "
      ]
     },
     "metadata": {},
     "output_type": "display_data"
    },
    {
     "data": {
      "text/html": [
       "<table>\n",
       "<caption>A data.frame: 6 × 12</caption>\n",
       "<thead>\n",
       "\t<tr><th></th><th scope=col>X</th><th scope=col>ts</th><th scope=col>orig_port</th><th scope=col>resp_port</th><th scope=col>duration</th><th scope=col>orig_bytes</th><th scope=col>resp_bytes</th><th scope=col>orig_pkts</th><th scope=col>orig_ip_bytes</th><th scope=col>resp_pkts</th><th scope=col>resp_ip_bytes</th><th scope=col>logduration</th></tr>\n",
       "\t<tr><th></th><th scope=col>&lt;int&gt;</th><th scope=col>&lt;dbl&gt;</th><th scope=col>&lt;int&gt;</th><th scope=col>&lt;int&gt;</th><th scope=col>&lt;dbl&gt;</th><th scope=col>&lt;dbl&gt;</th><th scope=col>&lt;dbl&gt;</th><th scope=col>&lt;int&gt;</th><th scope=col>&lt;int&gt;</th><th scope=col>&lt;int&gt;</th><th scope=col>&lt;int&gt;</th><th scope=col>&lt;dbl&gt;</th></tr>\n",
       "</thead>\n",
       "<tbody>\n",
       "\t<tr><th scope=row>1</th><td>1</td><td>1331915797</td><td> 2633</td><td>   80</td><td>-11.468966</td><td> -952483.2</td><td>8172.7190</td><td> 8</td><td> 813</td><td>9</td><td>8505</td><td>-2.7361080</td></tr>\n",
       "\t<tr><th scope=row>2</th><td>2</td><td>1331921224</td><td> 4094</td><td>   80</td><td>  0.010000</td><td>    7085.0</td><td> 172.0000</td><td>10</td><td>7497</td><td>9</td><td> 544</td><td>-4.6051702</td></tr>\n",
       "\t<tr><th scope=row>3</th><td>3</td><td>1331903910</td><td>16066</td><td>12486</td><td> 35.346244</td><td>-5688781.5</td><td>-747.6270</td><td> 1</td><td>  48</td><td>1</td><td>  40</td><td>-4.1732967</td></tr>\n",
       "\t<tr><th scope=row>4</th><td>4</td><td>1331988939</td><td>42997</td><td>28745</td><td>  9.635934</td><td>11816006.4</td><td>-299.4441</td><td> 1</td><td>  60</td><td>1</td><td>  40</td><td>-0.8505876</td></tr>\n",
       "\t<tr><th scope=row>5</th><td>5</td><td>1331918792</td><td>38566</td><td>32754</td><td> -7.491613</td><td> 1549102.1</td><td> -36.9680</td><td> 1</td><td>  48</td><td>1</td><td>  40</td><td>-4.1641293</td></tr>\n",
       "\t<tr><th scope=row>6</th><td>6</td><td>1331901863</td><td>63805</td><td>45078</td><td>-12.463868</td><td> 7241565.8</td><td> 362.8646</td><td> 1</td><td>  44</td><td>1</td><td>  40</td><td>-3.1555827</td></tr>\n",
       "</tbody>\n",
       "</table>\n"
      ],
      "text/latex": [
       "A data.frame: 6 × 12\n",
       "\\begin{tabular}{r|llllllllllll}\n",
       "  & X & ts & orig\\_port & resp\\_port & duration & orig\\_bytes & resp\\_bytes & orig\\_pkts & orig\\_ip\\_bytes & resp\\_pkts & resp\\_ip\\_bytes & logduration\\\\\n",
       "  & <int> & <dbl> & <int> & <int> & <dbl> & <dbl> & <dbl> & <int> & <int> & <int> & <int> & <dbl>\\\\\n",
       "\\hline\n",
       "\t1 & 1 & 1331915797 &  2633 &    80 & -11.468966 &  -952483.2 & 8172.7190 &  8 &  813 & 9 & 8505 & -2.7361080\\\\\n",
       "\t2 & 2 & 1331921224 &  4094 &    80 &   0.010000 &     7085.0 &  172.0000 & 10 & 7497 & 9 &  544 & -4.6051702\\\\\n",
       "\t3 & 3 & 1331903910 & 16066 & 12486 &  35.346244 & -5688781.5 & -747.6270 &  1 &   48 & 1 &   40 & -4.1732967\\\\\n",
       "\t4 & 4 & 1331988939 & 42997 & 28745 &   9.635934 & 11816006.4 & -299.4441 &  1 &   60 & 1 &   40 & -0.8505876\\\\\n",
       "\t5 & 5 & 1331918792 & 38566 & 32754 &  -7.491613 &  1549102.1 &  -36.9680 &  1 &   48 & 1 &   40 & -4.1641293\\\\\n",
       "\t6 & 6 & 1331901863 & 63805 & 45078 & -12.463868 &  7241565.8 &  362.8646 &  1 &   44 & 1 &   40 & -3.1555827\\\\\n",
       "\\end{tabular}\n"
      ],
      "text/markdown": [
       "\n",
       "A data.frame: 6 × 12\n",
       "\n",
       "| <!--/--> | X &lt;int&gt; | ts &lt;dbl&gt; | orig_port &lt;int&gt; | resp_port &lt;int&gt; | duration &lt;dbl&gt; | orig_bytes &lt;dbl&gt; | resp_bytes &lt;dbl&gt; | orig_pkts &lt;int&gt; | orig_ip_bytes &lt;int&gt; | resp_pkts &lt;int&gt; | resp_ip_bytes &lt;int&gt; | logduration &lt;dbl&gt; |\n",
       "|---|---|---|---|---|---|---|---|---|---|---|---|---|\n",
       "| 1 | 1 | 1331915797 |  2633 |    80 | -11.468966 |  -952483.2 | 8172.7190 |  8 |  813 | 9 | 8505 | -2.7361080 |\n",
       "| 2 | 2 | 1331921224 |  4094 |    80 |   0.010000 |     7085.0 |  172.0000 | 10 | 7497 | 9 |  544 | -4.6051702 |\n",
       "| 3 | 3 | 1331903910 | 16066 | 12486 |  35.346244 | -5688781.5 | -747.6270 |  1 |   48 | 1 |   40 | -4.1732967 |\n",
       "| 4 | 4 | 1331988939 | 42997 | 28745 |   9.635934 | 11816006.4 | -299.4441 |  1 |   60 | 1 |   40 | -0.8505876 |\n",
       "| 5 | 5 | 1331918792 | 38566 | 32754 |  -7.491613 |  1549102.1 |  -36.9680 |  1 |   48 | 1 |   40 | -4.1641293 |\n",
       "| 6 | 6 | 1331901863 | 63805 | 45078 | -12.463868 |  7241565.8 |  362.8646 |  1 |   44 | 1 |   40 | -3.1555827 |\n",
       "\n"
      ],
      "text/plain": [
       "  X ts         orig_port resp_port duration   orig_bytes resp_bytes orig_pkts\n",
       "1 1 1331915797  2633        80     -11.468966  -952483.2 8172.7190   8       \n",
       "2 2 1331921224  4094        80       0.010000     7085.0  172.0000  10       \n",
       "3 3 1331903910 16066     12486      35.346244 -5688781.5 -747.6270   1       \n",
       "4 4 1331988939 42997     28745       9.635934 11816006.4 -299.4441   1       \n",
       "5 5 1331918792 38566     32754      -7.491613  1549102.1  -36.9680   1       \n",
       "6 6 1331901863 63805     45078     -12.463868  7241565.8  362.8646   1       \n",
       "  orig_ip_bytes resp_pkts resp_ip_bytes logduration\n",
       "1  813          9         8505          -2.7361080 \n",
       "2 7497          9          544          -4.6051702 \n",
       "3   48          1           40          -4.1732967 \n",
       "4   60          1           40          -0.8505876 \n",
       "5   48          1           40          -4.1641293 \n",
       "6   44          1           40          -3.1555827 "
      ]
     },
     "metadata": {},
     "output_type": "display_data"
    },
    {
     "data": {
      "text/html": [
       "<table>\n",
       "<caption>A data.frame: 6 × 18</caption>\n",
       "<thead>\n",
       "\t<tr><th></th><th scope=col>ts</th><th scope=col>orig_ip</th><th scope=col>orig_port</th><th scope=col>resp_ip</th><th scope=col>resp_port</th><th scope=col>proto</th><th scope=col>service</th><th scope=col>duration</th><th scope=col>orig_bytes</th><th scope=col>resp_bytes</th><th scope=col>conn_state</th><th scope=col>missed_bytes</th><th scope=col>history</th><th scope=col>orig_pkts</th><th scope=col>orig_ip_bytes</th><th scope=col>resp_pkts</th><th scope=col>resp_ip_bytes</th><th scope=col>logduration</th></tr>\n",
       "\t<tr><th></th><th scope=col>&lt;dbl&gt;</th><th scope=col>&lt;chr&gt;</th><th scope=col>&lt;int&gt;</th><th scope=col>&lt;chr&gt;</th><th scope=col>&lt;int&gt;</th><th scope=col>&lt;chr&gt;</th><th scope=col>&lt;chr&gt;</th><th scope=col>&lt;dbl&gt;</th><th scope=col>&lt;dbl&gt;</th><th scope=col>&lt;dbl&gt;</th><th scope=col>&lt;chr&gt;</th><th scope=col>&lt;int&gt;</th><th scope=col>&lt;chr&gt;</th><th scope=col>&lt;int&gt;</th><th scope=col>&lt;int&gt;</th><th scope=col>&lt;int&gt;</th><th scope=col>&lt;int&gt;</th><th scope=col>&lt;dbl&gt;</th></tr>\n",
       "</thead>\n",
       "<tbody>\n",
       "\t<tr><th scope=row>1</th><td>1331915797</td><td>192.168.202.102</td><td> 2633</td><td>192.168.23.202 </td><td>   80</td><td>tcp</td><td>http</td><td>1.419635</td><td>356075.8</td><td>1679.826</td><td>RSTO</td><td>0</td><td>ShADadfR</td><td> 8</td><td> 813</td><td>9</td><td>8505</td><td>-3.156832</td></tr>\n",
       "\t<tr><th scope=row>2</th><td>1331921224</td><td>192.168.202.102</td><td> 4094</td><td>192.168.24.101 </td><td>   80</td><td>tcp</td><td>    </td><td>0.010000</td><td>  7085.0</td><td> 172.000</td><td>RSTO</td><td>0</td><td>ShADadfR</td><td>10</td><td>7497</td><td>9</td><td> 544</td><td>-4.605170</td></tr>\n",
       "\t<tr><th scope=row>3</th><td>1331903910</td><td>192.168.202.110</td><td>16066</td><td>192.168.27.152 </td><td>12486</td><td>tcp</td><td>    </td><td>1.419635</td><td>356075.8</td><td>1679.826</td><td>REJ </td><td>0</td><td>Sr      </td><td> 1</td><td>  48</td><td>1</td><td>  40</td><td>-3.156832</td></tr>\n",
       "\t<tr><th scope=row>4</th><td>1331988939</td><td>192.168.204.45 </td><td>42997</td><td>192.168.23.1   </td><td>28745</td><td>tcp</td><td>    </td><td>1.419635</td><td>356075.8</td><td>1679.826</td><td>REJ </td><td>0</td><td>Sr      </td><td> 1</td><td>  60</td><td>1</td><td>  40</td><td>-3.156832</td></tr>\n",
       "\t<tr><th scope=row>5</th><td>1331918792</td><td>192.168.202.110</td><td>38566</td><td>192.168.229.252</td><td>32754</td><td>tcp</td><td>    </td><td>1.419635</td><td>356075.8</td><td>1679.826</td><td>REJ </td><td>0</td><td>Sr      </td><td> 1</td><td>  48</td><td>1</td><td>  40</td><td>-3.156832</td></tr>\n",
       "\t<tr><th scope=row>6</th><td>1331901863</td><td>192.168.202.79 </td><td>63805</td><td>192.168.229.252</td><td>45078</td><td>tcp</td><td>    </td><td>1.419635</td><td>356075.8</td><td>1679.826</td><td>REJ </td><td>0</td><td>Sr      </td><td> 1</td><td>  44</td><td>1</td><td>  40</td><td>-3.156832</td></tr>\n",
       "</tbody>\n",
       "</table>\n"
      ],
      "text/latex": [
       "A data.frame: 6 × 18\n",
       "\\begin{tabular}{r|llllllllllllllllll}\n",
       "  & ts & orig\\_ip & orig\\_port & resp\\_ip & resp\\_port & proto & service & duration & orig\\_bytes & resp\\_bytes & conn\\_state & missed\\_bytes & history & orig\\_pkts & orig\\_ip\\_bytes & resp\\_pkts & resp\\_ip\\_bytes & logduration\\\\\n",
       "  & <dbl> & <chr> & <int> & <chr> & <int> & <chr> & <chr> & <dbl> & <dbl> & <dbl> & <chr> & <int> & <chr> & <int> & <int> & <int> & <int> & <dbl>\\\\\n",
       "\\hline\n",
       "\t1 & 1331915797 & 192.168.202.102 &  2633 & 192.168.23.202  &    80 & tcp & http & 1.419635 & 356075.8 & 1679.826 & RSTO & 0 & ShADadfR &  8 &  813 & 9 & 8505 & -3.156832\\\\\n",
       "\t2 & 1331921224 & 192.168.202.102 &  4094 & 192.168.24.101  &    80 & tcp &      & 0.010000 &   7085.0 &  172.000 & RSTO & 0 & ShADadfR & 10 & 7497 & 9 &  544 & -4.605170\\\\\n",
       "\t3 & 1331903910 & 192.168.202.110 & 16066 & 192.168.27.152  & 12486 & tcp &      & 1.419635 & 356075.8 & 1679.826 & REJ  & 0 & Sr       &  1 &   48 & 1 &   40 & -3.156832\\\\\n",
       "\t4 & 1331988939 & 192.168.204.45  & 42997 & 192.168.23.1    & 28745 & tcp &      & 1.419635 & 356075.8 & 1679.826 & REJ  & 0 & Sr       &  1 &   60 & 1 &   40 & -3.156832\\\\\n",
       "\t5 & 1331918792 & 192.168.202.110 & 38566 & 192.168.229.252 & 32754 & tcp &      & 1.419635 & 356075.8 & 1679.826 & REJ  & 0 & Sr       &  1 &   48 & 1 &   40 & -3.156832\\\\\n",
       "\t6 & 1331901863 & 192.168.202.79  & 63805 & 192.168.229.252 & 45078 & tcp &      & 1.419635 & 356075.8 & 1679.826 & REJ  & 0 & Sr       &  1 &   44 & 1 &   40 & -3.156832\\\\\n",
       "\\end{tabular}\n"
      ],
      "text/markdown": [
       "\n",
       "A data.frame: 6 × 18\n",
       "\n",
       "| <!--/--> | ts &lt;dbl&gt; | orig_ip &lt;chr&gt; | orig_port &lt;int&gt; | resp_ip &lt;chr&gt; | resp_port &lt;int&gt; | proto &lt;chr&gt; | service &lt;chr&gt; | duration &lt;dbl&gt; | orig_bytes &lt;dbl&gt; | resp_bytes &lt;dbl&gt; | conn_state &lt;chr&gt; | missed_bytes &lt;int&gt; | history &lt;chr&gt; | orig_pkts &lt;int&gt; | orig_ip_bytes &lt;int&gt; | resp_pkts &lt;int&gt; | resp_ip_bytes &lt;int&gt; | logduration &lt;dbl&gt; |\n",
       "|---|---|---|---|---|---|---|---|---|---|---|---|---|---|---|---|---|---|---|\n",
       "| 1 | 1331915797 | 192.168.202.102 |  2633 | 192.168.23.202  |    80 | tcp | http | 1.419635 | 356075.8 | 1679.826 | RSTO | 0 | ShADadfR |  8 |  813 | 9 | 8505 | -3.156832 |\n",
       "| 2 | 1331921224 | 192.168.202.102 |  4094 | 192.168.24.101  |    80 | tcp | <!----> | 0.010000 |   7085.0 |  172.000 | RSTO | 0 | ShADadfR | 10 | 7497 | 9 |  544 | -4.605170 |\n",
       "| 3 | 1331903910 | 192.168.202.110 | 16066 | 192.168.27.152  | 12486 | tcp | <!----> | 1.419635 | 356075.8 | 1679.826 | REJ  | 0 | Sr       |  1 |   48 | 1 |   40 | -3.156832 |\n",
       "| 4 | 1331988939 | 192.168.204.45  | 42997 | 192.168.23.1    | 28745 | tcp | <!----> | 1.419635 | 356075.8 | 1679.826 | REJ  | 0 | Sr       |  1 |   60 | 1 |   40 | -3.156832 |\n",
       "| 5 | 1331918792 | 192.168.202.110 | 38566 | 192.168.229.252 | 32754 | tcp | <!----> | 1.419635 | 356075.8 | 1679.826 | REJ  | 0 | Sr       |  1 |   48 | 1 |   40 | -3.156832 |\n",
       "| 6 | 1331901863 | 192.168.202.79  | 63805 | 192.168.229.252 | 45078 | tcp | <!----> | 1.419635 | 356075.8 | 1679.826 | REJ  | 0 | Sr       |  1 |   44 | 1 |   40 | -3.156832 |\n",
       "\n"
      ],
      "text/plain": [
       "  ts         orig_ip         orig_port resp_ip         resp_port proto service\n",
       "1 1331915797 192.168.202.102  2633     192.168.23.202     80     tcp   http   \n",
       "2 1331921224 192.168.202.102  4094     192.168.24.101     80     tcp          \n",
       "3 1331903910 192.168.202.110 16066     192.168.27.152  12486     tcp          \n",
       "4 1331988939 192.168.204.45  42997     192.168.23.1    28745     tcp          \n",
       "5 1331918792 192.168.202.110 38566     192.168.229.252 32754     tcp          \n",
       "6 1331901863 192.168.202.79  63805     192.168.229.252 45078     tcp          \n",
       "  duration orig_bytes resp_bytes conn_state missed_bytes history  orig_pkts\n",
       "1 1.419635 356075.8   1679.826   RSTO       0            ShADadfR  8       \n",
       "2 0.010000   7085.0    172.000   RSTO       0            ShADadfR 10       \n",
       "3 1.419635 356075.8   1679.826   REJ        0            Sr        1       \n",
       "4 1.419635 356075.8   1679.826   REJ        0            Sr        1       \n",
       "5 1.419635 356075.8   1679.826   REJ        0            Sr        1       \n",
       "6 1.419635 356075.8   1679.826   REJ        0            Sr        1       \n",
       "  orig_ip_bytes resp_pkts resp_ip_bytes logduration\n",
       "1  813          9         8505          -3.156832  \n",
       "2 7497          9          544          -4.605170  \n",
       "3   48          1           40          -3.156832  \n",
       "4   60          1           40          -3.156832  \n",
       "5   48          1           40          -3.156832  \n",
       "6   44          1           40          -3.156832  "
      ]
     },
     "metadata": {},
     "output_type": "display_data"
    },
    {
     "data": {
      "text/html": [
       "<table>\n",
       "<caption>A data.frame: 6 × 4</caption>\n",
       "<thead>\n",
       "\t<tr><th></th><th scope=col>duration</th><th scope=col>orig_bytes</th><th scope=col>resp_bytes</th><th scope=col>logduration</th></tr>\n",
       "\t<tr><th></th><th scope=col>&lt;dbl&gt;</th><th scope=col>&lt;dbl&gt;</th><th scope=col>&lt;dbl&gt;</th><th scope=col>&lt;dbl&gt;</th></tr>\n",
       "</thead>\n",
       "<tbody>\n",
       "\t<tr><th scope=row>1</th><td>0.02081250</td><td>4.80831e+02</td><td>8133</td><td>-3.87220151</td></tr>\n",
       "\t<tr><th scope=row>2</th><td>0.01000000</td><td>7.08500e+03</td><td> 172</td><td>-4.60517019</td></tr>\n",
       "\t<tr><th scope=row>3</th><td>1.01061582</td><td>1.99191e-04</td><td>   0</td><td> 0.01055987</td></tr>\n",
       "\t<tr><th scope=row>4</th><td>0.01291319</td><td>1.99191e-04</td><td>   0</td><td>-4.34950609</td></tr>\n",
       "\t<tr><th scope=row>5</th><td>0.17636876</td><td>1.99191e-04</td><td>   0</td><td>-1.73517827</td></tr>\n",
       "\t<tr><th scope=row>6</th><td>0.02720282</td><td>1.99191e-04</td><td>   0</td><td>-3.60443473</td></tr>\n",
       "</tbody>\n",
       "</table>\n"
      ],
      "text/latex": [
       "A data.frame: 6 × 4\n",
       "\\begin{tabular}{r|llll}\n",
       "  & duration & orig\\_bytes & resp\\_bytes & logduration\\\\\n",
       "  & <dbl> & <dbl> & <dbl> & <dbl>\\\\\n",
       "\\hline\n",
       "\t1 & 0.02081250 & 4.80831e+02 & 8133 & -3.87220151\\\\\n",
       "\t2 & 0.01000000 & 7.08500e+03 &  172 & -4.60517019\\\\\n",
       "\t3 & 1.01061582 & 1.99191e-04 &    0 &  0.01055987\\\\\n",
       "\t4 & 0.01291319 & 1.99191e-04 &    0 & -4.34950609\\\\\n",
       "\t5 & 0.17636876 & 1.99191e-04 &    0 & -1.73517827\\\\\n",
       "\t6 & 0.02720282 & 1.99191e-04 &    0 & -3.60443473\\\\\n",
       "\\end{tabular}\n"
      ],
      "text/markdown": [
       "\n",
       "A data.frame: 6 × 4\n",
       "\n",
       "| <!--/--> | duration &lt;dbl&gt; | orig_bytes &lt;dbl&gt; | resp_bytes &lt;dbl&gt; | logduration &lt;dbl&gt; |\n",
       "|---|---|---|---|---|\n",
       "| 1 | 0.02081250 | 4.80831e+02 | 8133 | -3.87220151 |\n",
       "| 2 | 0.01000000 | 7.08500e+03 |  172 | -4.60517019 |\n",
       "| 3 | 1.01061582 | 1.99191e-04 |    0 |  0.01055987 |\n",
       "| 4 | 0.01291319 | 1.99191e-04 |    0 | -4.34950609 |\n",
       "| 5 | 0.17636876 | 1.99191e-04 |    0 | -1.73517827 |\n",
       "| 6 | 0.02720282 | 1.99191e-04 |    0 | -3.60443473 |\n",
       "\n"
      ],
      "text/plain": [
       "  duration   orig_bytes  resp_bytes logduration\n",
       "1 0.02081250 4.80831e+02 8133       -3.87220151\n",
       "2 0.01000000 7.08500e+03  172       -4.60517019\n",
       "3 1.01061582 1.99191e-04    0        0.01055987\n",
       "4 0.01291319 1.99191e-04    0       -4.34950609\n",
       "5 0.17636876 1.99191e-04    0       -1.73517827\n",
       "6 0.02720282 1.99191e-04    0       -3.60443473"
      ]
     },
     "metadata": {},
     "output_type": "display_data"
    }
   ],
   "source": [
    "datacomplete[,\"logduration\"]=log(datacomplete[,\"duration\"])\n",
    "head(datacomplete)\n",
    "head(dataamelia)\n",
    "head(datamean)\n",
    "dataforest[,\"logduration\"]=log(dataforest[,\"duration\"])\n",
    "head(dataforest)"
   ]
  },
  {
   "cell_type": "code",
   "execution_count": 8,
   "metadata": {},
   "outputs": [
    {
     "data": {
      "text/html": [
       "<table>\n",
       "<caption>A data.frame: 20 × 1</caption>\n",
       "<thead>\n",
       "\t<tr><th></th><th scope=col>amelia_compld</th></tr>\n",
       "\t<tr><th></th><th scope=col>&lt;dbl&gt;</th></tr>\n",
       "</thead>\n",
       "<tbody>\n",
       "\t<tr><th scope=row>1</th><td>-0.7705</td></tr>\n",
       "\t<tr><th scope=row>2</th><td> 0.0000</td></tr>\n",
       "\t<tr><th scope=row>3</th><td>-0.4319</td></tr>\n",
       "\t<tr><th scope=row>4</th><td>-3.7546</td></tr>\n",
       "\t<tr><th scope=row>5</th><td> 2.5547</td></tr>\n",
       "\t<tr><th scope=row>6</th><td> 0.3422</td></tr>\n",
       "\t<tr><th scope=row>7</th><td>-2.1050</td></tr>\n",
       "\t<tr><th scope=row>8</th><td> 2.6543</td></tr>\n",
       "\t<tr><th scope=row>9</th><td>-0.4122</td></tr>\n",
       "\t<tr><th scope=row>10</th><td> 0.0000</td></tr>\n",
       "\t<tr><th scope=row>11</th><td> 2.4954</td></tr>\n",
       "\t<tr><th scope=row>12</th><td>-0.2120</td></tr>\n",
       "\t<tr><th scope=row>13</th><td>-1.4308</td></tr>\n",
       "\t<tr><th scope=row>14</th><td>-3.7350</td></tr>\n",
       "\t<tr><th scope=row>15</th><td>-0.3662</td></tr>\n",
       "\t<tr><th scope=row>16</th><td> 0.0000</td></tr>\n",
       "\t<tr><th scope=row>17</th><td> 0.7426</td></tr>\n",
       "\t<tr><th scope=row>18</th><td>-3.2424</td></tr>\n",
       "\t<tr><th scope=row>19</th><td>-0.0177</td></tr>\n",
       "\t<tr><th scope=row>20</th><td> 0.0000</td></tr>\n",
       "</tbody>\n",
       "</table>\n"
      ],
      "text/latex": [
       "A data.frame: 20 × 1\n",
       "\\begin{tabular}{r|l}\n",
       "  & amelia\\_compld\\\\\n",
       "  & <dbl>\\\\\n",
       "\\hline\n",
       "\t1 & -0.7705\\\\\n",
       "\t2 &  0.0000\\\\\n",
       "\t3 & -0.4319\\\\\n",
       "\t4 & -3.7546\\\\\n",
       "\t5 &  2.5547\\\\\n",
       "\t6 &  0.3422\\\\\n",
       "\t7 & -2.1050\\\\\n",
       "\t8 &  2.6543\\\\\n",
       "\t9 & -0.4122\\\\\n",
       "\t10 &  0.0000\\\\\n",
       "\t11 &  2.4954\\\\\n",
       "\t12 & -0.2120\\\\\n",
       "\t13 & -1.4308\\\\\n",
       "\t14 & -3.7350\\\\\n",
       "\t15 & -0.3662\\\\\n",
       "\t16 &  0.0000\\\\\n",
       "\t17 &  0.7426\\\\\n",
       "\t18 & -3.2424\\\\\n",
       "\t19 & -0.0177\\\\\n",
       "\t20 &  0.0000\\\\\n",
       "\\end{tabular}\n"
      ],
      "text/markdown": [
       "\n",
       "A data.frame: 20 × 1\n",
       "\n",
       "| <!--/--> | amelia_compld &lt;dbl&gt; |\n",
       "|---|---|\n",
       "| 1 | -0.7705 |\n",
       "| 2 |  0.0000 |\n",
       "| 3 | -0.4319 |\n",
       "| 4 | -3.7546 |\n",
       "| 5 |  2.5547 |\n",
       "| 6 |  0.3422 |\n",
       "| 7 | -2.1050 |\n",
       "| 8 |  2.6543 |\n",
       "| 9 | -0.4122 |\n",
       "| 10 |  0.0000 |\n",
       "| 11 |  2.4954 |\n",
       "| 12 | -0.2120 |\n",
       "| 13 | -1.4308 |\n",
       "| 14 | -3.7350 |\n",
       "| 15 | -0.3662 |\n",
       "| 16 |  0.0000 |\n",
       "| 17 |  0.7426 |\n",
       "| 18 | -3.2424 |\n",
       "| 19 | -0.0177 |\n",
       "| 20 |  0.0000 |\n",
       "\n"
      ],
      "text/plain": [
       "   amelia_compld\n",
       "1  -0.7705      \n",
       "2   0.0000      \n",
       "3  -0.4319      \n",
       "4  -3.7546      \n",
       "5   2.5547      \n",
       "6   0.3422      \n",
       "7  -2.1050      \n",
       "8   2.6543      \n",
       "9  -0.4122      \n",
       "10  0.0000      \n",
       "11  2.4954      \n",
       "12 -0.2120      \n",
       "13 -1.4308      \n",
       "14 -3.7350      \n",
       "15 -0.3662      \n",
       "16  0.0000      \n",
       "17  0.7426      \n",
       "18 -3.2424      \n",
       "19 -0.0177      \n",
       "20  0.0000      "
      ]
     },
     "metadata": {},
     "output_type": "display_data"
    },
    {
     "data": {
      "text/html": [
       "-0.157021016001641"
      ],
      "text/latex": [
       "-0.157021016001641"
      ],
      "text/markdown": [
       "-0.157021016001641"
      ],
      "text/plain": [
       "[1] -0.157021"
      ]
     },
     "metadata": {},
     "output_type": "display_data"
    }
   ],
   "source": [
    "amelia_compld <- round(datacomplete$logduration, digits = 4) - round(dataamelia$logduration, digits = 4)\n",
    "amelia_compld <- as.data.frame(amelia_compld,row.names=NULL)\n",
    "head(amelia_compld,20)\n",
    "mean(amelia_compld$amelia_compld)"
   ]
  },
  {
   "cell_type": "code",
   "execution_count": 9,
   "metadata": {},
   "outputs": [
    {
     "data": {
      "text/html": [
       "<table>\n",
       "<caption>A data.frame: 20 × 1</caption>\n",
       "<thead>\n",
       "\t<tr><th></th><th scope=col>mean_compld</th></tr>\n",
       "\t<tr><th></th><th scope=col>&lt;dbl&gt;</th></tr>\n",
       "</thead>\n",
       "<tbody>\n",
       "\t<tr><th scope=row>1</th><td>-0.3498</td></tr>\n",
       "\t<tr><th scope=row>2</th><td> 0.0000</td></tr>\n",
       "\t<tr><th scope=row>3</th><td>-1.4484</td></tr>\n",
       "\t<tr><th scope=row>4</th><td>-1.4484</td></tr>\n",
       "\t<tr><th scope=row>5</th><td> 1.5474</td></tr>\n",
       "\t<tr><th scope=row>6</th><td> 0.3434</td></tr>\n",
       "\t<tr><th scope=row>7</th><td> 0.9495</td></tr>\n",
       "\t<tr><th scope=row>8</th><td> 3.2790</td></tr>\n",
       "\t<tr><th scope=row>9</th><td> 1.8475</td></tr>\n",
       "\t<tr><th scope=row>10</th><td> 0.0000</td></tr>\n",
       "\t<tr><th scope=row>11</th><td>-0.0621</td></tr>\n",
       "\t<tr><th scope=row>12</th><td> 0.9495</td></tr>\n",
       "\t<tr><th scope=row>13</th><td>-1.4484</td></tr>\n",
       "\t<tr><th scope=row>14</th><td>-0.3498</td></tr>\n",
       "\t<tr><th scope=row>15</th><td> 0.9495</td></tr>\n",
       "\t<tr><th scope=row>16</th><td> 0.0000</td></tr>\n",
       "\t<tr><th scope=row>17</th><td>-0.7552</td></tr>\n",
       "\t<tr><th scope=row>18</th><td>-1.4484</td></tr>\n",
       "\t<tr><th scope=row>19</th><td> 1.7705</td></tr>\n",
       "\t<tr><th scope=row>20</th><td> 0.0000</td></tr>\n",
       "</tbody>\n",
       "</table>\n"
      ],
      "text/latex": [
       "A data.frame: 20 × 1\n",
       "\\begin{tabular}{r|l}\n",
       "  & mean\\_compld\\\\\n",
       "  & <dbl>\\\\\n",
       "\\hline\n",
       "\t1 & -0.3498\\\\\n",
       "\t2 &  0.0000\\\\\n",
       "\t3 & -1.4484\\\\\n",
       "\t4 & -1.4484\\\\\n",
       "\t5 &  1.5474\\\\\n",
       "\t6 &  0.3434\\\\\n",
       "\t7 &  0.9495\\\\\n",
       "\t8 &  3.2790\\\\\n",
       "\t9 &  1.8475\\\\\n",
       "\t10 &  0.0000\\\\\n",
       "\t11 & -0.0621\\\\\n",
       "\t12 &  0.9495\\\\\n",
       "\t13 & -1.4484\\\\\n",
       "\t14 & -0.3498\\\\\n",
       "\t15 &  0.9495\\\\\n",
       "\t16 &  0.0000\\\\\n",
       "\t17 & -0.7552\\\\\n",
       "\t18 & -1.4484\\\\\n",
       "\t19 &  1.7705\\\\\n",
       "\t20 &  0.0000\\\\\n",
       "\\end{tabular}\n"
      ],
      "text/markdown": [
       "\n",
       "A data.frame: 20 × 1\n",
       "\n",
       "| <!--/--> | mean_compld &lt;dbl&gt; |\n",
       "|---|---|\n",
       "| 1 | -0.3498 |\n",
       "| 2 |  0.0000 |\n",
       "| 3 | -1.4484 |\n",
       "| 4 | -1.4484 |\n",
       "| 5 |  1.5474 |\n",
       "| 6 |  0.3434 |\n",
       "| 7 |  0.9495 |\n",
       "| 8 |  3.2790 |\n",
       "| 9 |  1.8475 |\n",
       "| 10 |  0.0000 |\n",
       "| 11 | -0.0621 |\n",
       "| 12 |  0.9495 |\n",
       "| 13 | -1.4484 |\n",
       "| 14 | -0.3498 |\n",
       "| 15 |  0.9495 |\n",
       "| 16 |  0.0000 |\n",
       "| 17 | -0.7552 |\n",
       "| 18 | -1.4484 |\n",
       "| 19 |  1.7705 |\n",
       "| 20 |  0.0000 |\n",
       "\n"
      ],
      "text/plain": [
       "   mean_compld\n",
       "1  -0.3498    \n",
       "2   0.0000    \n",
       "3  -1.4484    \n",
       "4  -1.4484    \n",
       "5   1.5474    \n",
       "6   0.3434    \n",
       "7   0.9495    \n",
       "8   3.2790    \n",
       "9   1.8475    \n",
       "10  0.0000    \n",
       "11 -0.0621    \n",
       "12  0.9495    \n",
       "13 -1.4484    \n",
       "14 -0.3498    \n",
       "15  0.9495    \n",
       "16  0.0000    \n",
       "17 -0.7552    \n",
       "18 -1.4484    \n",
       "19  1.7705    \n",
       "20  0.0000    "
      ]
     },
     "metadata": {},
     "output_type": "display_data"
    },
    {
     "data": {
      "text/html": [
       "-0.00968640270796999"
      ],
      "text/latex": [
       "-0.00968640270796999"
      ],
      "text/markdown": [
       "-0.00968640270796999"
      ],
      "text/plain": [
       "[1] -0.009686403"
      ]
     },
     "metadata": {},
     "output_type": "display_data"
    }
   ],
   "source": [
    "mean_compld <- round(datacomplete$logduration, digits = 4) - round(datamean$logduration, digits = 4)\n",
    "mean_compld <- as.data.frame(mean_compld,row.names=NULL)\n",
    "head(mean_compld,20)\n",
    "mean(mean_compld$mean_compld)"
   ]
  },
  {
   "cell_type": "code",
   "execution_count": 10,
   "metadata": {},
   "outputs": [
    {
     "data": {
      "text/html": [
       "<table>\n",
       "<caption>A data.frame: 20 × 1</caption>\n",
       "<thead>\n",
       "\t<tr><th></th><th scope=col>forest_compld</th></tr>\n",
       "\t<tr><th></th><th scope=col>&lt;dbl&gt;</th></tr>\n",
       "</thead>\n",
       "<tbody>\n",
       "\t<tr><th scope=row>1</th><td> 0.3656</td></tr>\n",
       "\t<tr><th scope=row>2</th><td> 0.0000</td></tr>\n",
       "\t<tr><th scope=row>3</th><td>-4.6158</td></tr>\n",
       "\t<tr><th scope=row>4</th><td>-0.2557</td></tr>\n",
       "\t<tr><th scope=row>5</th><td> 0.1258</td></tr>\n",
       "\t<tr><th scope=row>6</th><td> 0.7910</td></tr>\n",
       "\t<tr><th scope=row>7</th><td> 1.7621</td></tr>\n",
       "\t<tr><th scope=row>8</th><td> 1.8972</td></tr>\n",
       "\t<tr><th scope=row>9</th><td>-1.3755</td></tr>\n",
       "\t<tr><th scope=row>10</th><td> 0.0000</td></tr>\n",
       "\t<tr><th scope=row>11</th><td> 0.4485</td></tr>\n",
       "\t<tr><th scope=row>12</th><td>-2.2332</td></tr>\n",
       "\t<tr><th scope=row>13</th><td>-0.0694</td></tr>\n",
       "\t<tr><th scope=row>14</th><td>-1.6551</td></tr>\n",
       "\t<tr><th scope=row>15</th><td>-0.0005</td></tr>\n",
       "\t<tr><th scope=row>16</th><td> 0.0000</td></tr>\n",
       "\t<tr><th scope=row>17</th><td> 0.0000</td></tr>\n",
       "\t<tr><th scope=row>18</th><td>-0.4930</td></tr>\n",
       "\t<tr><th scope=row>19</th><td> 0.1913</td></tr>\n",
       "\t<tr><th scope=row>20</th><td> 0.0000</td></tr>\n",
       "</tbody>\n",
       "</table>\n"
      ],
      "text/latex": [
       "A data.frame: 20 × 1\n",
       "\\begin{tabular}{r|l}\n",
       "  & forest\\_compld\\\\\n",
       "  & <dbl>\\\\\n",
       "\\hline\n",
       "\t1 &  0.3656\\\\\n",
       "\t2 &  0.0000\\\\\n",
       "\t3 & -4.6158\\\\\n",
       "\t4 & -0.2557\\\\\n",
       "\t5 &  0.1258\\\\\n",
       "\t6 &  0.7910\\\\\n",
       "\t7 &  1.7621\\\\\n",
       "\t8 &  1.8972\\\\\n",
       "\t9 & -1.3755\\\\\n",
       "\t10 &  0.0000\\\\\n",
       "\t11 &  0.4485\\\\\n",
       "\t12 & -2.2332\\\\\n",
       "\t13 & -0.0694\\\\\n",
       "\t14 & -1.6551\\\\\n",
       "\t15 & -0.0005\\\\\n",
       "\t16 &  0.0000\\\\\n",
       "\t17 &  0.0000\\\\\n",
       "\t18 & -0.4930\\\\\n",
       "\t19 &  0.1913\\\\\n",
       "\t20 &  0.0000\\\\\n",
       "\\end{tabular}\n"
      ],
      "text/markdown": [
       "\n",
       "A data.frame: 20 × 1\n",
       "\n",
       "| <!--/--> | forest_compld &lt;dbl&gt; |\n",
       "|---|---|\n",
       "| 1 |  0.3656 |\n",
       "| 2 |  0.0000 |\n",
       "| 3 | -4.6158 |\n",
       "| 4 | -0.2557 |\n",
       "| 5 |  0.1258 |\n",
       "| 6 |  0.7910 |\n",
       "| 7 |  1.7621 |\n",
       "| 8 |  1.8972 |\n",
       "| 9 | -1.3755 |\n",
       "| 10 |  0.0000 |\n",
       "| 11 |  0.4485 |\n",
       "| 12 | -2.2332 |\n",
       "| 13 | -0.0694 |\n",
       "| 14 | -1.6551 |\n",
       "| 15 | -0.0005 |\n",
       "| 16 |  0.0000 |\n",
       "| 17 |  0.0000 |\n",
       "| 18 | -0.4930 |\n",
       "| 19 |  0.1913 |\n",
       "| 20 |  0.0000 |\n",
       "\n"
      ],
      "text/plain": [
       "   forest_compld\n",
       "1   0.3656      \n",
       "2   0.0000      \n",
       "3  -4.6158      \n",
       "4  -0.2557      \n",
       "5   0.1258      \n",
       "6   0.7910      \n",
       "7   1.7621      \n",
       "8   1.8972      \n",
       "9  -1.3755      \n",
       "10  0.0000      \n",
       "11  0.4485      \n",
       "12 -2.2332      \n",
       "13 -0.0694      \n",
       "14 -1.6551      \n",
       "15 -0.0005      \n",
       "16  0.0000      \n",
       "17  0.0000      \n",
       "18 -0.4930      \n",
       "19  0.1913      \n",
       "20  0.0000      "
      ]
     },
     "metadata": {},
     "output_type": "display_data"
    },
    {
     "data": {
      "text/html": [
       "-0.499131113447533"
      ],
      "text/latex": [
       "-0.499131113447533"
      ],
      "text/markdown": [
       "-0.499131113447533"
      ],
      "text/plain": [
       "[1] -0.4991311"
      ]
     },
     "metadata": {},
     "output_type": "display_data"
    }
   ],
   "source": [
    "forest_compld <- round(datacomplete$logduration, digits = 4) - round(dataforest$logduration, digits = 4)\n",
    "forest_compld <- as.data.frame(forest_compld,row.names=NULL)\n",
    "head(forest_compld,20)\n",
    "mean(forest_compld$forest_compld)"
   ]
  },
  {
   "cell_type": "markdown",
   "metadata": {},
   "source": [
    "We have mostly decided to focus on `logduration` as simple by eye analysis of some of the data shows that our predicted bytes columns are off by a long shot as detailed below:"
   ]
  },
  {
   "cell_type": "code",
   "execution_count": 11,
   "metadata": {},
   "outputs": [
    {
     "data": {
      "text/html": [
       "<table>\n",
       "<caption>A data.frame: 6 × 1</caption>\n",
       "<thead>\n",
       "\t<tr><th></th><th scope=col>dataamelia$orig_bytes</th></tr>\n",
       "\t<tr><th></th><th scope=col>&lt;dbl&gt;</th></tr>\n",
       "</thead>\n",
       "<tbody>\n",
       "\t<tr><th scope=row>1</th><td> -952483.2</td></tr>\n",
       "\t<tr><th scope=row>2</th><td>    7085.0</td></tr>\n",
       "\t<tr><th scope=row>3</th><td>-5688781.5</td></tr>\n",
       "\t<tr><th scope=row>4</th><td>11816006.4</td></tr>\n",
       "\t<tr><th scope=row>5</th><td> 1549102.1</td></tr>\n",
       "\t<tr><th scope=row>6</th><td> 7241565.8</td></tr>\n",
       "</tbody>\n",
       "</table>\n"
      ],
      "text/latex": [
       "A data.frame: 6 × 1\n",
       "\\begin{tabular}{r|l}\n",
       "  & dataamelia\\$orig\\_bytes\\\\\n",
       "  & <dbl>\\\\\n",
       "\\hline\n",
       "\t1 &  -952483.2\\\\\n",
       "\t2 &     7085.0\\\\\n",
       "\t3 & -5688781.5\\\\\n",
       "\t4 & 11816006.4\\\\\n",
       "\t5 &  1549102.1\\\\\n",
       "\t6 &  7241565.8\\\\\n",
       "\\end{tabular}\n"
      ],
      "text/markdown": [
       "\n",
       "A data.frame: 6 × 1\n",
       "\n",
       "| <!--/--> | dataamelia$orig_bytes &lt;dbl&gt; |\n",
       "|---|---|\n",
       "| 1 |  -952483.2 |\n",
       "| 2 |     7085.0 |\n",
       "| 3 | -5688781.5 |\n",
       "| 4 | 11816006.4 |\n",
       "| 5 |  1549102.1 |\n",
       "| 6 |  7241565.8 |\n",
       "\n"
      ],
      "text/plain": [
       "  dataamelia$orig_bytes\n",
       "1  -952483.2           \n",
       "2     7085.0           \n",
       "3 -5688781.5           \n",
       "4 11816006.4           \n",
       "5  1549102.1           \n",
       "6  7241565.8           "
      ]
     },
     "metadata": {},
     "output_type": "display_data"
    },
    {
     "data": {
      "text/html": [
       "<table>\n",
       "<caption>A data.frame: 6 × 1</caption>\n",
       "<thead>\n",
       "\t<tr><th></th><th scope=col>datacomplete$orig_bytes</th></tr>\n",
       "\t<tr><th></th><th scope=col>&lt;dbl&gt;</th></tr>\n",
       "</thead>\n",
       "<tbody>\n",
       "\t<tr><th scope=row>1</th><td> 481</td></tr>\n",
       "\t<tr><th scope=row>2</th><td>7085</td></tr>\n",
       "\t<tr><th scope=row>3</th><td>   0</td></tr>\n",
       "\t<tr><th scope=row>4</th><td>   0</td></tr>\n",
       "\t<tr><th scope=row>5</th><td>   0</td></tr>\n",
       "\t<tr><th scope=row>6</th><td>   0</td></tr>\n",
       "</tbody>\n",
       "</table>\n"
      ],
      "text/latex": [
       "A data.frame: 6 × 1\n",
       "\\begin{tabular}{r|l}\n",
       "  & datacomplete\\$orig\\_bytes\\\\\n",
       "  & <dbl>\\\\\n",
       "\\hline\n",
       "\t1 &  481\\\\\n",
       "\t2 & 7085\\\\\n",
       "\t3 &    0\\\\\n",
       "\t4 &    0\\\\\n",
       "\t5 &    0\\\\\n",
       "\t6 &    0\\\\\n",
       "\\end{tabular}\n"
      ],
      "text/markdown": [
       "\n",
       "A data.frame: 6 × 1\n",
       "\n",
       "| <!--/--> | datacomplete$orig_bytes &lt;dbl&gt; |\n",
       "|---|---|\n",
       "| 1 |  481 |\n",
       "| 2 | 7085 |\n",
       "| 3 |    0 |\n",
       "| 4 |    0 |\n",
       "| 5 |    0 |\n",
       "| 6 |    0 |\n",
       "\n"
      ],
      "text/plain": [
       "  datacomplete$orig_bytes\n",
       "1  481                   \n",
       "2 7085                   \n",
       "3    0                   \n",
       "4    0                   \n",
       "5    0                   \n",
       "6    0                   "
      ]
     },
     "metadata": {},
     "output_type": "display_data"
    },
    {
     "data": {
      "text/html": [
       "<table>\n",
       "<caption>A data.frame: 6 × 1</caption>\n",
       "<thead>\n",
       "\t<tr><th></th><th scope=col>datamean$orig_bytes</th></tr>\n",
       "\t<tr><th></th><th scope=col>&lt;dbl&gt;</th></tr>\n",
       "</thead>\n",
       "<tbody>\n",
       "\t<tr><th scope=row>1</th><td>356075.8</td></tr>\n",
       "\t<tr><th scope=row>2</th><td>  7085.0</td></tr>\n",
       "\t<tr><th scope=row>3</th><td>356075.8</td></tr>\n",
       "\t<tr><th scope=row>4</th><td>356075.8</td></tr>\n",
       "\t<tr><th scope=row>5</th><td>356075.8</td></tr>\n",
       "\t<tr><th scope=row>6</th><td>356075.8</td></tr>\n",
       "</tbody>\n",
       "</table>\n"
      ],
      "text/latex": [
       "A data.frame: 6 × 1\n",
       "\\begin{tabular}{r|l}\n",
       "  & datamean\\$orig\\_bytes\\\\\n",
       "  & <dbl>\\\\\n",
       "\\hline\n",
       "\t1 & 356075.8\\\\\n",
       "\t2 &   7085.0\\\\\n",
       "\t3 & 356075.8\\\\\n",
       "\t4 & 356075.8\\\\\n",
       "\t5 & 356075.8\\\\\n",
       "\t6 & 356075.8\\\\\n",
       "\\end{tabular}\n"
      ],
      "text/markdown": [
       "\n",
       "A data.frame: 6 × 1\n",
       "\n",
       "| <!--/--> | datamean$orig_bytes &lt;dbl&gt; |\n",
       "|---|---|\n",
       "| 1 | 356075.8 |\n",
       "| 2 |   7085.0 |\n",
       "| 3 | 356075.8 |\n",
       "| 4 | 356075.8 |\n",
       "| 5 | 356075.8 |\n",
       "| 6 | 356075.8 |\n",
       "\n"
      ],
      "text/plain": [
       "  datamean$orig_bytes\n",
       "1 356075.8           \n",
       "2   7085.0           \n",
       "3 356075.8           \n",
       "4 356075.8           \n",
       "5 356075.8           \n",
       "6 356075.8           "
      ]
     },
     "metadata": {},
     "output_type": "display_data"
    },
    {
     "data": {
      "text/html": [
       "<table>\n",
       "<caption>A data.frame: 6 × 1</caption>\n",
       "<thead>\n",
       "\t<tr><th></th><th scope=col>round(dataforest$orig_bytes, digits = 4)</th></tr>\n",
       "\t<tr><th></th><th scope=col>&lt;dbl&gt;</th></tr>\n",
       "</thead>\n",
       "<tbody>\n",
       "\t<tr><th scope=row>1</th><td> 480.8310</td></tr>\n",
       "\t<tr><th scope=row>2</th><td>7085.0000</td></tr>\n",
       "\t<tr><th scope=row>3</th><td>   0.0002</td></tr>\n",
       "\t<tr><th scope=row>4</th><td>   0.0002</td></tr>\n",
       "\t<tr><th scope=row>5</th><td>   0.0002</td></tr>\n",
       "\t<tr><th scope=row>6</th><td>   0.0002</td></tr>\n",
       "</tbody>\n",
       "</table>\n"
      ],
      "text/latex": [
       "A data.frame: 6 × 1\n",
       "\\begin{tabular}{r|l}\n",
       "  & round(dataforest\\$orig\\_bytes, digits = 4)\\\\\n",
       "  & <dbl>\\\\\n",
       "\\hline\n",
       "\t1 &  480.8310\\\\\n",
       "\t2 & 7085.0000\\\\\n",
       "\t3 &    0.0002\\\\\n",
       "\t4 &    0.0002\\\\\n",
       "\t5 &    0.0002\\\\\n",
       "\t6 &    0.0002\\\\\n",
       "\\end{tabular}\n"
      ],
      "text/markdown": [
       "\n",
       "A data.frame: 6 × 1\n",
       "\n",
       "| <!--/--> | round(dataforest$orig_bytes, digits = 4) &lt;dbl&gt; |\n",
       "|---|---|\n",
       "| 1 |  480.8310 |\n",
       "| 2 | 7085.0000 |\n",
       "| 3 |    0.0002 |\n",
       "| 4 |    0.0002 |\n",
       "| 5 |    0.0002 |\n",
       "| 6 |    0.0002 |\n",
       "\n"
      ],
      "text/plain": [
       "  round(dataforest$orig_bytes, digits = 4)\n",
       "1  480.8310                               \n",
       "2 7085.0000                               \n",
       "3    0.0002                               \n",
       "4    0.0002                               \n",
       "5    0.0002                               \n",
       "6    0.0002                               "
      ]
     },
     "metadata": {},
     "output_type": "display_data"
    }
   ],
   "source": [
    "head(as.data.frame(dataamelia$orig_bytes))\n",
    "head(as.data.frame(datacomplete$orig_bytes))\n",
    "head(as.data.frame(datamean$orig_bytes))\n",
    "head(as.data.frame(round(dataforest$orig_bytes,digits=4)))"
   ]
  },
  {
   "cell_type": "markdown",
   "metadata": {},
   "source": [
    "The prevalence of this problem in the mean case as well shows that it would seem that our data is being greatly skewed by outliers that drag the bytes imputations into creating bad conclusions that massively bias the results.\n",
    "\n",
    "We do however notice that the only method that seems to successfully even get close to predicting these values accurately is the non-trivial method of the random forest imputation. However for comparison with the others, we will still focus on `logduration`.\n",
    "\n",
    "Below we plot a histogram of our logduration variables in order to achieve a visual representation of what each method's imputation has arrived at."
   ]
  },
  {
   "cell_type": "code",
   "execution_count": 12,
   "metadata": {},
   "outputs": [
    {
     "name": "stderr",
     "output_type": "stream",
     "text": [
      "Warning message in xy.coords(x, y, xlabel, ylabel, log):\n",
      "\"22 y values <= 0 omitted from logarithmic plot\"\n"
     ]
    },
    {
     "data": {
      "image/png": "[encoded data removed]",
      "text/plain": [
       "plot without title"
      ]
     },
     "metadata": {
      "image/png": {
       "height": 420,
       "width": 420
      }
     },
     "output_type": "display_data"
    }
   ],
   "source": [
    "nbreaks=101 \n",
    "thist=hist(datacomplete[,\"logduration\"],breaks=nbreaks,plot=FALSE)\n",
    "thist1=hist(datamean[,\"logduration\"],breaks=nbreaks,plot=FALSE)\n",
    "thist2=hist(dataamelia[,\"logduration\"],breaks=100000,plot=FALSE)\n",
    "thist3=hist(dataforest[,\"logduration\"],breaks=nbreaks,plot=FALSE)\n",
    "\n",
    "plot(thist$mids,thist$density,log=\"y\",type=\"b\",\n",
    "     xlab=\"logduration\",ylab=\"histogram density\",col = \"blue\")\n",
    "points(thist1$mids,thist1$density,col = \"red\",type=\"b\")\n",
    "points(thist2$mids,thist2$density,col = \"orange\",type=\"b\")\n",
    "points(thist3$mids,thist3$density,col = \"maroon1\",type=\"b\")\n",
    "legend(5, 5, legend=c(\"Complete Data\", \"Mean Imputation\", \"Amelia Imputation\",\"Forest Imputation\"),\n",
    "       col=c(\"blue\", \"red\", \"orange\",\"maroon1\"),pch=0, cex=0.8)"
   ]
  },
  {
   "cell_type": "markdown",
   "metadata": {},
   "source": [
    "In blue we see the complete original data distribution plotted. by observation we can see that in general the imputed plots to follow this same distribution, meaning that they all have some relatively good degree of accuracy to the truth. The worst is (as predicted) the mean imputation, as the distribution is more equally spread across the dataset (due to is being the mean). The mean imputation also has one extremely high jump (going off of the plot) which we can infer is the mean value, as this will obviously have a massively skewed distribution in the data.\n",
    "\n",
    "We see that imputation from the amelia package follows a similar shape to the complete data, albeit appearing slightly lower on the graph, and following a much stricter linear structure, with very few jumps, this is probably down to the method of imputation, which assumes a normal distribution.\n",
    "\n",
    "As expected we see that the best functioning, non-trivial random forest imputation performs the best here as well, sticking extremeley closely to the original distribution, only seemingly falling off towards the lower `logduration` values. Above 0 the correlation is incredibly (almost unbelievably in our opinion) accurate to the true data.\n",
    "\n",
    "## Final thoughts\n",
    "\n",
    "From all this various data we have found that our methods of imputation are more accurate than first percieved, at least for `logduration`. The plot at the end is a very nice representation and good way of observing the data and drawing conclusions. \n",
    "\n",
    "In comparison the more basic metric of comparing the mean of differences is not particularly useful as we see that in the mean imputation's case we get a very small value, which would suggest there's not much variance in the results, however we know better, and that this is easiliy the worst method out of all those used. Therefore this metric is not particularly useful and we will probably not attempt to use it in future projects; though the comparison between variables in this method was interesting, but would be time consuming to compare all of the thousands of results."
   ]
  }
 ],
 "metadata": {
  "kernelspec": {
   "display_name": "R",
   "language": "R",
   "name": "ir"
  },
  "language_info": {
   "codemirror_mode": "r",
   "file_extension": ".r",
   "mimetype": "text/x-r-source",
   "name": "R",
   "pygments_lexer": "r",
   "version": "4.0.3"
  }
 },
 "nbformat": 4,
 "nbformat_minor": 4
}
