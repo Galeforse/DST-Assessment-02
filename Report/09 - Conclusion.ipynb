{
 "cells": [
  {
   "cell_type": "markdown",
   "metadata": {},
   "source": [
    "# Conclusion\n",
    "\n",
    "In this project we have discovered (and struggled) with many methods for imputation of missing data. We have seen that there are many packages available that apply non-trivial imputation algorithms. However there are a variety of restrictions and other problems that arise in how the data is handled which can cause functions to fail. This is in part one of the problems with with using pre-made functions as they have certain requirments which can be difficult to discern from error messages unless you know the function in great detail. \n",
    "\n",
    "We also struggled to come up with a universal and useful performance metric. The only one that seemed vaguely possible was a direct comparison between predicted variables and \"correct\" variables. This however required the creation \"fake NA\" data for us to test with, which probably doesn't reflect the original dataset well depending on the randomness of missing data. There are other methods for comparing the accuracy of data such as the R-squared value which was mentioned in the implementation of the missForest function, however general confusion, lack of time, and broken models resulted in this being hard to measure for all the models; and even when we did do so successfully it was difficult to train parameters in order to get a good model that accounted for outliers. This value gives a measure for how well the data follows a regression model, but has not actual comparison of how accurate the imputed data is.\n",
    "\n",
    "In tuning our parameters we could see that the missForest function that uses a Random Forest method to predict the missing data, created far better (higher) r-squared values than in the mean imputation case, showing that non-trivial implementation with multiple iterations provides significantly better imputed data than the most basic mean imputation. This is of course on top of the unpreferable case that we instead would remove the data from the dataset, which would result in a large amount of data lost - the easiest solution for most data analysis and also the most accurate, however would result in several cases in a large loss of data. In our wider reading, it was suggested to remove any variables where the missing data was over a 5% threshold and throughout our project, we've been dealing with missing data far higher than that.\n",
    "\n",
    "As part of that the `service` variable was frequently dropped, due to it's unpredictable nature. Being both categorical and missing the vast majority of it's rows values, meant that this data seemed to be more harmful than useful in this situation.\n",
    "\n",
    "The model seemed to perform well on our \"training\" data which is the data that we experimented with for use in our methods throughout the report, although again, we are unsure of how good our testing data was to use; and potentially does not perform well out of sample, due to the fabricated nature of the data.\n",
    "\n",
    "If we were to repeat this project, we would make sure to do further wider reading to understand the problem better. We would try to agree on a more robust and widely applicable inference goal and therefore achieve better results overall. We would also make sure to allocate more time to experiment with additional/other variables in various provided non-trivial methods, as the time constraints of the project resulted in several blocks of non-functioning code."
   ]
  },
  {
   "cell_type": "markdown",
   "metadata": {},
   "source": [
    "## Additional References\n",
    "\n",
    "[Mean Imputation](https://statisticsglobe.com/mean-imputation-for-missing-data/)\n",
    "[Imputing data tutorial](https://www.analyticsvidhya.com/blog/2016/03/tutorial-powerful-packages-imputing-missing-values/)"
   ]
  }
 ],
 "metadata": {
  "kernelspec": {
   "display_name": "R",
   "language": "R",
   "name": "ir"
  },
  "language_info": {
   "codemirror_mode": "r",
   "file_extension": ".r",
   "mimetype": "text/x-r-source",
   "name": "R",
   "pygments_lexer": "r",
   "version": "4.0.3"
  }
 },
 "nbformat": 4,
 "nbformat_minor": 4
}
