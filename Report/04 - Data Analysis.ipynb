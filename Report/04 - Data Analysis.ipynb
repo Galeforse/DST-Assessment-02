{
 "cells": [
  {
   "cell_type": "markdown",
   "metadata": {},
   "source": [
    "# Data Analysis\n",
    "\n",
    "In this part of the report we will do some exploratory data analysis on a subset of the data to get an impression of what kind of data we're dealing with."
   ]
  },
  {
   "cell_type": "code",
   "execution_count": 1,
   "metadata": {
    "collapsed": true,
    "jupyter": {
     "outputs_hidden": true
    }
   },
   "outputs": [
    {
     "name": "stderr",
     "output_type": "stream",
     "text": [
      "\n",
      "Attaching package: 'lubridate'\n",
      "\n",
      "\n",
      "The following objects are masked from 'package:base':\n",
      "\n",
      "    date, intersect, setdiff, union\n",
      "\n",
      "\n",
      "Loading required package: mice\n",
      "\n",
      "\n",
      "Attaching package: 'mice'\n",
      "\n",
      "\n",
      "The following object is masked from 'package:stats':\n",
      "\n",
      "    filter\n",
      "\n",
      "\n",
      "The following objects are masked from 'package:base':\n",
      "\n",
      "    cbind, rbind\n",
      "\n",
      "\n",
      "Registered S3 method overwritten by 'quantmod':\n",
      "  method            from\n",
      "  as.zoo.data.frame zoo \n",
      "\n",
      "\n",
      "Attaching package: 'dlookr'\n",
      "\n",
      "\n",
      "The following object is masked from 'package:base':\n",
      "\n",
      "    transform\n",
      "\n",
      "\n",
      "\n",
      "Attaching package: 'dplyr'\n",
      "\n",
      "\n",
      "The following objects are masked from 'package:stats':\n",
      "\n",
      "    filter, lag\n",
      "\n",
      "\n",
      "The following objects are masked from 'package:base':\n",
      "\n",
      "    intersect, setdiff, setequal, union\n",
      "\n",
      "\n",
      "Loading required package: colorspace\n",
      "\n",
      "Loading required package: grid\n",
      "\n",
      "VIM is ready to use.\n",
      "\n",
      "\n",
      "Suggestions and bug-reports can be submitted at: https://github.com/statistikat/VIM/issues\n",
      "\n",
      "\n",
      "Attaching package: 'VIM'\n",
      "\n",
      "\n",
      "The following object is masked from 'package:datasets':\n",
      "\n",
      "    sleep\n",
      "\n",
      "\n",
      "Loading required package: Rcpp\n",
      "\n",
      "## \n",
      "## Amelia II: Multiple Imputation\n",
      "## (Version 1.7.6, built: 2019-11-24)\n",
      "## Copyright (C) 2005-2020 James Honaker, Gary King and Matthew Blackwell\n",
      "## Refer to http://gking.harvard.edu/amelia/ for more information\n",
      "## \n",
      "\n"
     ]
    }
   ],
   "source": [
    "library(lubridate)\n",
    "library(dlookr)\n",
    "library(dplyr)\n",
    "library(mice)\n",
    "library(VIM)\n",
    "library(Amelia)"
   ]
  },
  {
   "cell_type": "markdown",
   "metadata": {},
   "source": [
    "We are going to look at our two 1 percent data sets, which we will see have starkly different results. First we import the data:"
   ]
  },
  {
   "cell_type": "code",
   "execution_count": 2,
   "metadata": {},
   "outputs": [
    {
     "name": "stdout",
     "output_type": "stream",
     "text": [
      "[1] \"Data imported in:\"\n",
      "[1] \"3.79S\"\n"
     ]
    }
   ],
   "source": [
    "temp2 <- tempfile()\n",
    "start <- proc.time()\n",
    "download.file(\"https://github.com/Galeforse/DST-Assessment-02/raw/main/Data/1_percent_data.csv.gz\",temp2)\n",
    "data <- (read.csv(gzfile(temp2)))\n",
    "print(\"Data imported in:\")\n",
    "print(seconds_to_period((proc.time()-start)[3]))"
   ]
  },
  {
   "cell_type": "code",
   "execution_count": 3,
   "metadata": {},
   "outputs": [
    {
     "name": "stdout",
     "output_type": "stream",
     "text": [
      "[1] \"Data imported in:\"\n",
      "[1] \"2.25S\"\n"
     ]
    }
   ],
   "source": [
    "temp2 <- tempfile()\n",
    "start <- proc.time()\n",
    "download.file(\"https://github.com/Galeforse/DST-Assessment-02/raw/main/Data/1_percent_data_head.csv.gz\",temp2)\n",
    "datah <- (read.csv(gzfile(temp2)))\n",
    "print(\"Data imported in:\")\n",
    "print(seconds_to_period((proc.time()-start)[3]))"
   ]
  },
  {
   "cell_type": "code",
   "execution_count": 4,
   "metadata": {},
   "outputs": [
    {
     "data": {
      "text/html": [
       "<table>\n",
       "<caption>A data.frame: 6 × 17</caption>\n",
       "<thead>\n",
       "\t<tr><th></th><th scope=col>ts</th><th scope=col>orig_ip</th><th scope=col>orig_port</th><th scope=col>resp_ip</th><th scope=col>resp_port</th><th scope=col>proto</th><th scope=col>service</th><th scope=col>duration</th><th scope=col>orig_bytes</th><th scope=col>resp_bytes</th><th scope=col>conn_state</th><th scope=col>missed_bytes</th><th scope=col>history</th><th scope=col>orig_pkts</th><th scope=col>orig_ip_bytes</th><th scope=col>resp_pkts</th><th scope=col>resp_ip_bytes</th></tr>\n",
       "\t<tr><th></th><th scope=col>&lt;dbl&gt;</th><th scope=col>&lt;chr&gt;</th><th scope=col>&lt;int&gt;</th><th scope=col>&lt;chr&gt;</th><th scope=col>&lt;int&gt;</th><th scope=col>&lt;chr&gt;</th><th scope=col>&lt;chr&gt;</th><th scope=col>&lt;dbl&gt;</th><th scope=col>&lt;dbl&gt;</th><th scope=col>&lt;int&gt;</th><th scope=col>&lt;chr&gt;</th><th scope=col>&lt;int&gt;</th><th scope=col>&lt;chr&gt;</th><th scope=col>&lt;int&gt;</th><th scope=col>&lt;int&gt;</th><th scope=col>&lt;int&gt;</th><th scope=col>&lt;int&gt;</th></tr>\n",
       "</thead>\n",
       "<tbody>\n",
       "\t<tr><th scope=row>1</th><td>1331915797</td><td>192.168.202.102</td><td> 2633</td><td>192.168.23.202</td><td>  80</td><td>tcp</td><td>http</td><td>0.03</td><td>481</td><td>8133</td><td>RSTO</td><td>0</td><td>ShADadfR</td><td>8</td><td>813</td><td>9</td><td>8505</td></tr>\n",
       "\t<tr><th scope=row>2</th><td>1331923392</td><td>192.168.202.110</td><td>11574</td><td>192.168.23.253</td><td>1724</td><td>tcp</td><td>    </td><td>  NA</td><td> NA</td><td>  NA</td><td>REJ </td><td>0</td><td>Sr      </td><td>1</td><td> 48</td><td>1</td><td>  40</td></tr>\n",
       "\t<tr><th scope=row>3</th><td>1331905217</td><td>192.168.202.83 </td><td>41267</td><td>192.168.206.44</td><td>8010</td><td>tcp</td><td>    </td><td>  NA</td><td> NA</td><td>  NA</td><td>REJ </td><td>0</td><td>Sr      </td><td>1</td><td> 60</td><td>1</td><td>  40</td></tr>\n",
       "\t<tr><th scope=row>4</th><td>1331994375</td><td>192.168.202.83 </td><td>58519</td><td>192.168.206.44</td><td>5214</td><td>tcp</td><td>    </td><td>  NA</td><td> NA</td><td>  NA</td><td>REJ </td><td>0</td><td>Sr      </td><td>1</td><td> 60</td><td>1</td><td>  40</td></tr>\n",
       "\t<tr><th scope=row>5</th><td>1331999507</td><td>192.168.202.140</td><td>25774</td><td>192.168.23.252</td><td>1625</td><td>tcp</td><td>    </td><td>  NA</td><td> NA</td><td>  NA</td><td>S0  </td><td>0</td><td>S       </td><td>1</td><td> 48</td><td>0</td><td>   0</td></tr>\n",
       "\t<tr><th scope=row>6</th><td>1331935766</td><td>192.168.202.83 </td><td>60760</td><td>192.168.206.44</td><td>1580</td><td>tcp</td><td>    </td><td>  NA</td><td> NA</td><td>  NA</td><td>REJ </td><td>0</td><td>Sr      </td><td>1</td><td> 60</td><td>1</td><td>  40</td></tr>\n",
       "</tbody>\n",
       "</table>\n"
      ],
      "text/latex": [
       "A data.frame: 6 × 17\n",
       "\\begin{tabular}{r|lllllllllllllllll}\n",
       "  & ts & orig\\_ip & orig\\_port & resp\\_ip & resp\\_port & proto & service & duration & orig\\_bytes & resp\\_bytes & conn\\_state & missed\\_bytes & history & orig\\_pkts & orig\\_ip\\_bytes & resp\\_pkts & resp\\_ip\\_bytes\\\\\n",
       "  & <dbl> & <chr> & <int> & <chr> & <int> & <chr> & <chr> & <dbl> & <dbl> & <int> & <chr> & <int> & <chr> & <int> & <int> & <int> & <int>\\\\\n",
       "\\hline\n",
       "\t1 & 1331915797 & 192.168.202.102 &  2633 & 192.168.23.202 &   80 & tcp & http & 0.03 & 481 & 8133 & RSTO & 0 & ShADadfR & 8 & 813 & 9 & 8505\\\\\n",
       "\t2 & 1331923392 & 192.168.202.110 & 11574 & 192.168.23.253 & 1724 & tcp &      &   NA &  NA &   NA & REJ  & 0 & Sr       & 1 &  48 & 1 &   40\\\\\n",
       "\t3 & 1331905217 & 192.168.202.83  & 41267 & 192.168.206.44 & 8010 & tcp &      &   NA &  NA &   NA & REJ  & 0 & Sr       & 1 &  60 & 1 &   40\\\\\n",
       "\t4 & 1331994375 & 192.168.202.83  & 58519 & 192.168.206.44 & 5214 & tcp &      &   NA &  NA &   NA & REJ  & 0 & Sr       & 1 &  60 & 1 &   40\\\\\n",
       "\t5 & 1331999507 & 192.168.202.140 & 25774 & 192.168.23.252 & 1625 & tcp &      &   NA &  NA &   NA & S0   & 0 & S        & 1 &  48 & 0 &    0\\\\\n",
       "\t6 & 1331935766 & 192.168.202.83  & 60760 & 192.168.206.44 & 1580 & tcp &      &   NA &  NA &   NA & REJ  & 0 & Sr       & 1 &  60 & 1 &   40\\\\\n",
       "\\end{tabular}\n"
      ],
      "text/markdown": [
       "\n",
       "A data.frame: 6 × 17\n",
       "\n",
       "| <!--/--> | ts &lt;dbl&gt; | orig_ip &lt;chr&gt; | orig_port &lt;int&gt; | resp_ip &lt;chr&gt; | resp_port &lt;int&gt; | proto &lt;chr&gt; | service &lt;chr&gt; | duration &lt;dbl&gt; | orig_bytes &lt;dbl&gt; | resp_bytes &lt;int&gt; | conn_state &lt;chr&gt; | missed_bytes &lt;int&gt; | history &lt;chr&gt; | orig_pkts &lt;int&gt; | orig_ip_bytes &lt;int&gt; | resp_pkts &lt;int&gt; | resp_ip_bytes &lt;int&gt; |\n",
       "|---|---|---|---|---|---|---|---|---|---|---|---|---|---|---|---|---|---|\n",
       "| 1 | 1331915797 | 192.168.202.102 |  2633 | 192.168.23.202 |   80 | tcp | http | 0.03 | 481 | 8133 | RSTO | 0 | ShADadfR | 8 | 813 | 9 | 8505 |\n",
       "| 2 | 1331923392 | 192.168.202.110 | 11574 | 192.168.23.253 | 1724 | tcp | <!----> |   NA |  NA |   NA | REJ  | 0 | Sr       | 1 |  48 | 1 |   40 |\n",
       "| 3 | 1331905217 | 192.168.202.83  | 41267 | 192.168.206.44 | 8010 | tcp | <!----> |   NA |  NA |   NA | REJ  | 0 | Sr       | 1 |  60 | 1 |   40 |\n",
       "| 4 | 1331994375 | 192.168.202.83  | 58519 | 192.168.206.44 | 5214 | tcp | <!----> |   NA |  NA |   NA | REJ  | 0 | Sr       | 1 |  60 | 1 |   40 |\n",
       "| 5 | 1331999507 | 192.168.202.140 | 25774 | 192.168.23.252 | 1625 | tcp | <!----> |   NA |  NA |   NA | S0   | 0 | S        | 1 |  48 | 0 |    0 |\n",
       "| 6 | 1331935766 | 192.168.202.83  | 60760 | 192.168.206.44 | 1580 | tcp | <!----> |   NA |  NA |   NA | REJ  | 0 | Sr       | 1 |  60 | 1 |   40 |\n",
       "\n"
      ],
      "text/plain": [
       "  ts         orig_ip         orig_port resp_ip        resp_port proto service\n",
       "1 1331915797 192.168.202.102  2633     192.168.23.202   80      tcp   http   \n",
       "2 1331923392 192.168.202.110 11574     192.168.23.253 1724      tcp          \n",
       "3 1331905217 192.168.202.83  41267     192.168.206.44 8010      tcp          \n",
       "4 1331994375 192.168.202.83  58519     192.168.206.44 5214      tcp          \n",
       "5 1331999507 192.168.202.140 25774     192.168.23.252 1625      tcp          \n",
       "6 1331935766 192.168.202.83  60760     192.168.206.44 1580      tcp          \n",
       "  duration orig_bytes resp_bytes conn_state missed_bytes history  orig_pkts\n",
       "1 0.03     481        8133       RSTO       0            ShADadfR 8        \n",
       "2   NA      NA          NA       REJ        0            Sr       1        \n",
       "3   NA      NA          NA       REJ        0            Sr       1        \n",
       "4   NA      NA          NA       REJ        0            Sr       1        \n",
       "5   NA      NA          NA       S0         0            S        1        \n",
       "6   NA      NA          NA       REJ        0            Sr       1        \n",
       "  orig_ip_bytes resp_pkts resp_ip_bytes\n",
       "1 813           9         8505         \n",
       "2  48           1           40         \n",
       "3  60           1           40         \n",
       "4  60           1           40         \n",
       "5  48           0            0         \n",
       "6  60           1           40         "
      ]
     },
     "metadata": {},
     "output_type": "display_data"
    }
   ],
   "source": [
    "head(data)"
   ]
  },
  {
   "cell_type": "markdown",
   "metadata": {},
   "source": [
    "We see that the service column is not properly displaying NA for missing data and so we rectify this in both sets of data with the following command."
   ]
  },
  {
   "cell_type": "code",
   "execution_count": 5,
   "metadata": {},
   "outputs": [
    {
     "data": {
      "text/html": [
       "<table>\n",
       "<caption>A data.frame: 6 × 17</caption>\n",
       "<thead>\n",
       "\t<tr><th></th><th scope=col>ts</th><th scope=col>orig_ip</th><th scope=col>orig_port</th><th scope=col>resp_ip</th><th scope=col>resp_port</th><th scope=col>proto</th><th scope=col>service</th><th scope=col>duration</th><th scope=col>orig_bytes</th><th scope=col>resp_bytes</th><th scope=col>conn_state</th><th scope=col>missed_bytes</th><th scope=col>history</th><th scope=col>orig_pkts</th><th scope=col>orig_ip_bytes</th><th scope=col>resp_pkts</th><th scope=col>resp_ip_bytes</th></tr>\n",
       "\t<tr><th></th><th scope=col>&lt;dbl&gt;</th><th scope=col>&lt;chr&gt;</th><th scope=col>&lt;int&gt;</th><th scope=col>&lt;chr&gt;</th><th scope=col>&lt;int&gt;</th><th scope=col>&lt;chr&gt;</th><th scope=col>&lt;chr&gt;</th><th scope=col>&lt;dbl&gt;</th><th scope=col>&lt;dbl&gt;</th><th scope=col>&lt;int&gt;</th><th scope=col>&lt;chr&gt;</th><th scope=col>&lt;int&gt;</th><th scope=col>&lt;chr&gt;</th><th scope=col>&lt;int&gt;</th><th scope=col>&lt;int&gt;</th><th scope=col>&lt;int&gt;</th><th scope=col>&lt;int&gt;</th></tr>\n",
       "</thead>\n",
       "<tbody>\n",
       "\t<tr><th scope=row>1</th><td>1331915797</td><td>192.168.202.102</td><td> 2633</td><td>192.168.23.202</td><td>  80</td><td>tcp</td><td>http</td><td>0.03</td><td>481</td><td>8133</td><td>RSTO</td><td>0</td><td>ShADadfR</td><td>8</td><td>813</td><td>9</td><td>8505</td></tr>\n",
       "\t<tr><th scope=row>2</th><td>1331923392</td><td>192.168.202.110</td><td>11574</td><td>192.168.23.253</td><td>1724</td><td>tcp</td><td>NA  </td><td>  NA</td><td> NA</td><td>  NA</td><td>REJ </td><td>0</td><td>Sr      </td><td>1</td><td> 48</td><td>1</td><td>  40</td></tr>\n",
       "\t<tr><th scope=row>3</th><td>1331905217</td><td>192.168.202.83 </td><td>41267</td><td>192.168.206.44</td><td>8010</td><td>tcp</td><td>NA  </td><td>  NA</td><td> NA</td><td>  NA</td><td>REJ </td><td>0</td><td>Sr      </td><td>1</td><td> 60</td><td>1</td><td>  40</td></tr>\n",
       "\t<tr><th scope=row>4</th><td>1331994375</td><td>192.168.202.83 </td><td>58519</td><td>192.168.206.44</td><td>5214</td><td>tcp</td><td>NA  </td><td>  NA</td><td> NA</td><td>  NA</td><td>REJ </td><td>0</td><td>Sr      </td><td>1</td><td> 60</td><td>1</td><td>  40</td></tr>\n",
       "\t<tr><th scope=row>5</th><td>1331999507</td><td>192.168.202.140</td><td>25774</td><td>192.168.23.252</td><td>1625</td><td>tcp</td><td>NA  </td><td>  NA</td><td> NA</td><td>  NA</td><td>S0  </td><td>0</td><td>S       </td><td>1</td><td> 48</td><td>0</td><td>   0</td></tr>\n",
       "\t<tr><th scope=row>6</th><td>1331935766</td><td>192.168.202.83 </td><td>60760</td><td>192.168.206.44</td><td>1580</td><td>tcp</td><td>NA  </td><td>  NA</td><td> NA</td><td>  NA</td><td>REJ </td><td>0</td><td>Sr      </td><td>1</td><td> 60</td><td>1</td><td>  40</td></tr>\n",
       "</tbody>\n",
       "</table>\n"
      ],
      "text/latex": [
       "A data.frame: 6 × 17\n",
       "\\begin{tabular}{r|lllllllllllllllll}\n",
       "  & ts & orig\\_ip & orig\\_port & resp\\_ip & resp\\_port & proto & service & duration & orig\\_bytes & resp\\_bytes & conn\\_state & missed\\_bytes & history & orig\\_pkts & orig\\_ip\\_bytes & resp\\_pkts & resp\\_ip\\_bytes\\\\\n",
       "  & <dbl> & <chr> & <int> & <chr> & <int> & <chr> & <chr> & <dbl> & <dbl> & <int> & <chr> & <int> & <chr> & <int> & <int> & <int> & <int>\\\\\n",
       "\\hline\n",
       "\t1 & 1331915797 & 192.168.202.102 &  2633 & 192.168.23.202 &   80 & tcp & http & 0.03 & 481 & 8133 & RSTO & 0 & ShADadfR & 8 & 813 & 9 & 8505\\\\\n",
       "\t2 & 1331923392 & 192.168.202.110 & 11574 & 192.168.23.253 & 1724 & tcp & NA   &   NA &  NA &   NA & REJ  & 0 & Sr       & 1 &  48 & 1 &   40\\\\\n",
       "\t3 & 1331905217 & 192.168.202.83  & 41267 & 192.168.206.44 & 8010 & tcp & NA   &   NA &  NA &   NA & REJ  & 0 & Sr       & 1 &  60 & 1 &   40\\\\\n",
       "\t4 & 1331994375 & 192.168.202.83  & 58519 & 192.168.206.44 & 5214 & tcp & NA   &   NA &  NA &   NA & REJ  & 0 & Sr       & 1 &  60 & 1 &   40\\\\\n",
       "\t5 & 1331999507 & 192.168.202.140 & 25774 & 192.168.23.252 & 1625 & tcp & NA   &   NA &  NA &   NA & S0   & 0 & S        & 1 &  48 & 0 &    0\\\\\n",
       "\t6 & 1331935766 & 192.168.202.83  & 60760 & 192.168.206.44 & 1580 & tcp & NA   &   NA &  NA &   NA & REJ  & 0 & Sr       & 1 &  60 & 1 &   40\\\\\n",
       "\\end{tabular}\n"
      ],
      "text/markdown": [
       "\n",
       "A data.frame: 6 × 17\n",
       "\n",
       "| <!--/--> | ts &lt;dbl&gt; | orig_ip &lt;chr&gt; | orig_port &lt;int&gt; | resp_ip &lt;chr&gt; | resp_port &lt;int&gt; | proto &lt;chr&gt; | service &lt;chr&gt; | duration &lt;dbl&gt; | orig_bytes &lt;dbl&gt; | resp_bytes &lt;int&gt; | conn_state &lt;chr&gt; | missed_bytes &lt;int&gt; | history &lt;chr&gt; | orig_pkts &lt;int&gt; | orig_ip_bytes &lt;int&gt; | resp_pkts &lt;int&gt; | resp_ip_bytes &lt;int&gt; |\n",
       "|---|---|---|---|---|---|---|---|---|---|---|---|---|---|---|---|---|---|\n",
       "| 1 | 1331915797 | 192.168.202.102 |  2633 | 192.168.23.202 |   80 | tcp | http | 0.03 | 481 | 8133 | RSTO | 0 | ShADadfR | 8 | 813 | 9 | 8505 |\n",
       "| 2 | 1331923392 | 192.168.202.110 | 11574 | 192.168.23.253 | 1724 | tcp | NA   |   NA |  NA |   NA | REJ  | 0 | Sr       | 1 |  48 | 1 |   40 |\n",
       "| 3 | 1331905217 | 192.168.202.83  | 41267 | 192.168.206.44 | 8010 | tcp | NA   |   NA |  NA |   NA | REJ  | 0 | Sr       | 1 |  60 | 1 |   40 |\n",
       "| 4 | 1331994375 | 192.168.202.83  | 58519 | 192.168.206.44 | 5214 | tcp | NA   |   NA |  NA |   NA | REJ  | 0 | Sr       | 1 |  60 | 1 |   40 |\n",
       "| 5 | 1331999507 | 192.168.202.140 | 25774 | 192.168.23.252 | 1625 | tcp | NA   |   NA |  NA |   NA | S0   | 0 | S        | 1 |  48 | 0 |    0 |\n",
       "| 6 | 1331935766 | 192.168.202.83  | 60760 | 192.168.206.44 | 1580 | tcp | NA   |   NA |  NA |   NA | REJ  | 0 | Sr       | 1 |  60 | 1 |   40 |\n",
       "\n"
      ],
      "text/plain": [
       "  ts         orig_ip         orig_port resp_ip        resp_port proto service\n",
       "1 1331915797 192.168.202.102  2633     192.168.23.202   80      tcp   http   \n",
       "2 1331923392 192.168.202.110 11574     192.168.23.253 1724      tcp   NA     \n",
       "3 1331905217 192.168.202.83  41267     192.168.206.44 8010      tcp   NA     \n",
       "4 1331994375 192.168.202.83  58519     192.168.206.44 5214      tcp   NA     \n",
       "5 1331999507 192.168.202.140 25774     192.168.23.252 1625      tcp   NA     \n",
       "6 1331935766 192.168.202.83  60760     192.168.206.44 1580      tcp   NA     \n",
       "  duration orig_bytes resp_bytes conn_state missed_bytes history  orig_pkts\n",
       "1 0.03     481        8133       RSTO       0            ShADadfR 8        \n",
       "2   NA      NA          NA       REJ        0            Sr       1        \n",
       "3   NA      NA          NA       REJ        0            Sr       1        \n",
       "4   NA      NA          NA       REJ        0            Sr       1        \n",
       "5   NA      NA          NA       S0         0            S        1        \n",
       "6   NA      NA          NA       REJ        0            Sr       1        \n",
       "  orig_ip_bytes resp_pkts resp_ip_bytes\n",
       "1 813           9         8505         \n",
       "2  48           1           40         \n",
       "3  60           1           40         \n",
       "4  60           1           40         \n",
       "5  48           0            0         \n",
       "6  60           1           40         "
      ]
     },
     "metadata": {},
     "output_type": "display_data"
    }
   ],
   "source": [
    "data$service[data$service==\"\"] <- NA\n",
    "datah$service[datah$service==\"\"] <- NA\n",
    "head(data)"
   ]
  },
  {
   "cell_type": "markdown",
   "metadata": {},
   "source": [
    "We are going to use the diagnose function to take a look at how much of the data is missing in each case along with a couple of additional commands."
   ]
  },
  {
   "cell_type": "code",
   "execution_count": 6,
   "metadata": {},
   "outputs": [
    {
     "data": {
      "text/html": [
       "<table>\n",
       "<caption>A tibble: 17 × 6</caption>\n",
       "<thead>\n",
       "\t<tr><th scope=col>variables</th><th scope=col>types</th><th scope=col>missing_count</th><th scope=col>missing_percent</th><th scope=col>unique_count</th><th scope=col>unique_rate</th></tr>\n",
       "\t<tr><th scope=col>&lt;chr&gt;</th><th scope=col>&lt;chr&gt;</th><th scope=col>&lt;int&gt;</th><th scope=col>&lt;dbl&gt;</th><th scope=col>&lt;int&gt;</th><th scope=col>&lt;dbl&gt;</th></tr>\n",
       "</thead>\n",
       "<tbody>\n",
       "\t<tr><td>ts           </td><td>numeric  </td><td>     0</td><td> 0.00000</td><td>167908</td><td>7.398686e-01</td></tr>\n",
       "\t<tr><td>orig_ip      </td><td>character</td><td>     0</td><td> 0.00000</td><td>   179</td><td>7.887443e-04</td></tr>\n",
       "\t<tr><td>orig_port    </td><td>integer  </td><td>     0</td><td> 0.00000</td><td> 50876</td><td>2.241796e-01</td></tr>\n",
       "\t<tr><td>resp_ip      </td><td>character</td><td>     0</td><td> 0.00000</td><td>  2764</td><td>1.217927e-02</td></tr>\n",
       "\t<tr><td>resp_port    </td><td>integer  </td><td>     0</td><td> 0.00000</td><td> 54572</td><td>2.404657e-01</td></tr>\n",
       "\t<tr><td>proto        </td><td>character</td><td>     0</td><td> 0.00000</td><td>     3</td><td>1.321918e-05</td></tr>\n",
       "\t<tr><td>service      </td><td>character</td><td>220157</td><td>97.00982</td><td>     9</td><td>3.965754e-05</td></tr>\n",
       "\t<tr><td>duration     </td><td>numeric  </td><td>187905</td><td>82.79832</td><td>  1024</td><td>4.512146e-03</td></tr>\n",
       "\t<tr><td>orig_bytes   </td><td>numeric  </td><td>187905</td><td>82.79832</td><td>  1011</td><td>4.454863e-03</td></tr>\n",
       "\t<tr><td>resp_bytes   </td><td>integer  </td><td>187905</td><td>82.79832</td><td>   893</td><td>3.934909e-03</td></tr>\n",
       "\t<tr><td>conn_state   </td><td>character</td><td>     0</td><td> 0.00000</td><td>    13</td><td>5.728311e-05</td></tr>\n",
       "\t<tr><td>missed_bytes </td><td>integer  </td><td>     0</td><td> 0.00000</td><td>     1</td><td>4.406393e-06</td></tr>\n",
       "\t<tr><td>history      </td><td>character</td><td>     0</td><td> 0.00000</td><td>   139</td><td>6.124886e-04</td></tr>\n",
       "\t<tr><td>orig_pkts    </td><td>integer  </td><td>     0</td><td> 0.00000</td><td>    75</td><td>3.304795e-04</td></tr>\n",
       "\t<tr><td>orig_ip_bytes</td><td>integer  </td><td>     0</td><td> 0.00000</td><td>  1421</td><td>6.261484e-03</td></tr>\n",
       "\t<tr><td>resp_pkts    </td><td>integer  </td><td>     0</td><td> 0.00000</td><td>    81</td><td>3.569178e-04</td></tr>\n",
       "\t<tr><td>resp_ip_bytes</td><td>integer  </td><td>     0</td><td> 0.00000</td><td>  1113</td><td>4.904315e-03</td></tr>\n",
       "</tbody>\n",
       "</table>\n"
      ],
      "text/latex": [
       "A tibble: 17 × 6\n",
       "\\begin{tabular}{llllll}\n",
       " variables & types & missing\\_count & missing\\_percent & unique\\_count & unique\\_rate\\\\\n",
       " <chr> & <chr> & <int> & <dbl> & <int> & <dbl>\\\\\n",
       "\\hline\n",
       "\t ts            & numeric   &      0 &  0.00000 & 167908 & 7.398686e-01\\\\\n",
       "\t orig\\_ip       & character &      0 &  0.00000 &    179 & 7.887443e-04\\\\\n",
       "\t orig\\_port     & integer   &      0 &  0.00000 &  50876 & 2.241796e-01\\\\\n",
       "\t resp\\_ip       & character &      0 &  0.00000 &   2764 & 1.217927e-02\\\\\n",
       "\t resp\\_port     & integer   &      0 &  0.00000 &  54572 & 2.404657e-01\\\\\n",
       "\t proto         & character &      0 &  0.00000 &      3 & 1.321918e-05\\\\\n",
       "\t service       & character & 220157 & 97.00982 &      9 & 3.965754e-05\\\\\n",
       "\t duration      & numeric   & 187905 & 82.79832 &   1024 & 4.512146e-03\\\\\n",
       "\t orig\\_bytes    & numeric   & 187905 & 82.79832 &   1011 & 4.454863e-03\\\\\n",
       "\t resp\\_bytes    & integer   & 187905 & 82.79832 &    893 & 3.934909e-03\\\\\n",
       "\t conn\\_state    & character &      0 &  0.00000 &     13 & 5.728311e-05\\\\\n",
       "\t missed\\_bytes  & integer   &      0 &  0.00000 &      1 & 4.406393e-06\\\\\n",
       "\t history       & character &      0 &  0.00000 &    139 & 6.124886e-04\\\\\n",
       "\t orig\\_pkts     & integer   &      0 &  0.00000 &     75 & 3.304795e-04\\\\\n",
       "\t orig\\_ip\\_bytes & integer   &      0 &  0.00000 &   1421 & 6.261484e-03\\\\\n",
       "\t resp\\_pkts     & integer   &      0 &  0.00000 &     81 & 3.569178e-04\\\\\n",
       "\t resp\\_ip\\_bytes & integer   &      0 &  0.00000 &   1113 & 4.904315e-03\\\\\n",
       "\\end{tabular}\n"
      ],
      "text/markdown": [
       "\n",
       "A tibble: 17 × 6\n",
       "\n",
       "| variables &lt;chr&gt; | types &lt;chr&gt; | missing_count &lt;int&gt; | missing_percent &lt;dbl&gt; | unique_count &lt;int&gt; | unique_rate &lt;dbl&gt; |\n",
       "|---|---|---|---|---|---|\n",
       "| ts            | numeric   |      0 |  0.00000 | 167908 | 7.398686e-01 |\n",
       "| orig_ip       | character |      0 |  0.00000 |    179 | 7.887443e-04 |\n",
       "| orig_port     | integer   |      0 |  0.00000 |  50876 | 2.241796e-01 |\n",
       "| resp_ip       | character |      0 |  0.00000 |   2764 | 1.217927e-02 |\n",
       "| resp_port     | integer   |      0 |  0.00000 |  54572 | 2.404657e-01 |\n",
       "| proto         | character |      0 |  0.00000 |      3 | 1.321918e-05 |\n",
       "| service       | character | 220157 | 97.00982 |      9 | 3.965754e-05 |\n",
       "| duration      | numeric   | 187905 | 82.79832 |   1024 | 4.512146e-03 |\n",
       "| orig_bytes    | numeric   | 187905 | 82.79832 |   1011 | 4.454863e-03 |\n",
       "| resp_bytes    | integer   | 187905 | 82.79832 |    893 | 3.934909e-03 |\n",
       "| conn_state    | character |      0 |  0.00000 |     13 | 5.728311e-05 |\n",
       "| missed_bytes  | integer   |      0 |  0.00000 |      1 | 4.406393e-06 |\n",
       "| history       | character |      0 |  0.00000 |    139 | 6.124886e-04 |\n",
       "| orig_pkts     | integer   |      0 |  0.00000 |     75 | 3.304795e-04 |\n",
       "| orig_ip_bytes | integer   |      0 |  0.00000 |   1421 | 6.261484e-03 |\n",
       "| resp_pkts     | integer   |      0 |  0.00000 |     81 | 3.569178e-04 |\n",
       "| resp_ip_bytes | integer   |      0 |  0.00000 |   1113 | 4.904315e-03 |\n",
       "\n"
      ],
      "text/plain": [
       "   variables     types     missing_count missing_percent unique_count\n",
       "1  ts            numeric        0         0.00000        167908      \n",
       "2  orig_ip       character      0         0.00000           179      \n",
       "3  orig_port     integer        0         0.00000         50876      \n",
       "4  resp_ip       character      0         0.00000          2764      \n",
       "5  resp_port     integer        0         0.00000         54572      \n",
       "6  proto         character      0         0.00000             3      \n",
       "7  service       character 220157        97.00982             9      \n",
       "8  duration      numeric   187905        82.79832          1024      \n",
       "9  orig_bytes    numeric   187905        82.79832          1011      \n",
       "10 resp_bytes    integer   187905        82.79832           893      \n",
       "11 conn_state    character      0         0.00000            13      \n",
       "12 missed_bytes  integer        0         0.00000             1      \n",
       "13 history       character      0         0.00000           139      \n",
       "14 orig_pkts     integer        0         0.00000            75      \n",
       "15 orig_ip_bytes integer        0         0.00000          1421      \n",
       "16 resp_pkts     integer        0         0.00000            81      \n",
       "17 resp_ip_bytes integer        0         0.00000          1113      \n",
       "   unique_rate \n",
       "1  7.398686e-01\n",
       "2  7.887443e-04\n",
       "3  2.241796e-01\n",
       "4  1.217927e-02\n",
       "5  2.404657e-01\n",
       "6  1.321918e-05\n",
       "7  3.965754e-05\n",
       "8  4.512146e-03\n",
       "9  4.454863e-03\n",
       "10 3.934909e-03\n",
       "11 5.728311e-05\n",
       "12 4.406393e-06\n",
       "13 6.124886e-04\n",
       "14 3.304795e-04\n",
       "15 6.261484e-03\n",
       "16 3.569178e-04\n",
       "17 4.904315e-03"
      ]
     },
     "metadata": {},
     "output_type": "display_data"
    },
    {
     "name": "stdout",
     "output_type": "stream",
     "text": [
      "[1] \"No. of entries in data:\"\n"
     ]
    },
    {
     "data": {
      "text/html": [
       "226943"
      ],
      "text/latex": [
       "226943"
      ],
      "text/markdown": [
       "226943"
      ],
      "text/plain": [
       "[1] 226943"
      ]
     },
     "metadata": {},
     "output_type": "display_data"
    },
    {
     "data": {
      "text/html": [
       "'data.frame'"
      ],
      "text/latex": [
       "'data.frame'"
      ],
      "text/markdown": [
       "'data.frame'"
      ],
      "text/plain": [
       "[1] \"data.frame\""
      ]
     },
     "metadata": {},
     "output_type": "display_data"
    }
   ],
   "source": [
    "diagnose(data)\n",
    "print(\"No. of entries in data:\")\n",
    "nrow(data)\n",
    "class(data)"
   ]
  },
  {
   "cell_type": "code",
   "execution_count": 7,
   "metadata": {},
   "outputs": [
    {
     "data": {
      "text/html": [
       "<table>\n",
       "<caption>A tibble: 17 × 6</caption>\n",
       "<thead>\n",
       "\t<tr><th scope=col>variables</th><th scope=col>types</th><th scope=col>missing_count</th><th scope=col>missing_percent</th><th scope=col>unique_count</th><th scope=col>unique_rate</th></tr>\n",
       "\t<tr><th scope=col>&lt;chr&gt;</th><th scope=col>&lt;chr&gt;</th><th scope=col>&lt;int&gt;</th><th scope=col>&lt;dbl&gt;</th><th scope=col>&lt;int&gt;</th><th scope=col>&lt;dbl&gt;</th></tr>\n",
       "</thead>\n",
       "<tbody>\n",
       "\t<tr><td>ts           </td><td>numeric  </td><td>     0</td><td> 0.00000</td><td> 8231</td><td>3.626902e-02</td></tr>\n",
       "\t<tr><td>orig_ip      </td><td>character</td><td>     0</td><td> 0.00000</td><td>   72</td><td>3.172603e-04</td></tr>\n",
       "\t<tr><td>orig_port    </td><td>integer  </td><td>     0</td><td> 0.00000</td><td> 5289</td><td>2.330541e-02</td></tr>\n",
       "\t<tr><td>resp_ip      </td><td>character</td><td>     0</td><td> 0.00000</td><td>  517</td><td>2.278105e-03</td></tr>\n",
       "\t<tr><td>resp_port    </td><td>integer  </td><td>     0</td><td> 0.00000</td><td>28117</td><td>1.238945e-01</td></tr>\n",
       "\t<tr><td>proto        </td><td>character</td><td>     0</td><td> 0.00000</td><td>    3</td><td>1.321918e-05</td></tr>\n",
       "\t<tr><td>service      </td><td>character</td><td>225579</td><td>99.39897</td><td>    6</td><td>2.643836e-05</td></tr>\n",
       "\t<tr><td>duration     </td><td>numeric  </td><td> 82146</td><td>36.19675</td><td> 1040</td><td>4.582649e-03</td></tr>\n",
       "\t<tr><td>orig_bytes   </td><td>integer  </td><td> 82146</td><td>36.19675</td><td>  202</td><td>8.900913e-04</td></tr>\n",
       "\t<tr><td>resp_bytes   </td><td>integer  </td><td> 82146</td><td>36.19675</td><td>   76</td><td>3.348859e-04</td></tr>\n",
       "\t<tr><td>conn_state   </td><td>character</td><td>     0</td><td> 0.00000</td><td>    9</td><td>3.965754e-05</td></tr>\n",
       "\t<tr><td>missed_bytes </td><td>integer  </td><td>     0</td><td> 0.00000</td><td>    1</td><td>4.406393e-06</td></tr>\n",
       "\t<tr><td>history      </td><td>character</td><td>     0</td><td> 0.00000</td><td>   39</td><td>1.718493e-04</td></tr>\n",
       "\t<tr><td>orig_pkts    </td><td>integer  </td><td>     0</td><td> 0.00000</td><td>   33</td><td>1.454110e-04</td></tr>\n",
       "\t<tr><td>orig_ip_bytes</td><td>integer  </td><td>     0</td><td> 0.00000</td><td>  334</td><td>1.471735e-03</td></tr>\n",
       "\t<tr><td>resp_pkts    </td><td>integer  </td><td>     0</td><td> 0.00000</td><td>   17</td><td>7.490868e-05</td></tr>\n",
       "\t<tr><td>resp_ip_bytes</td><td>integer  </td><td>     0</td><td> 0.00000</td><td>  123</td><td>5.419863e-04</td></tr>\n",
       "</tbody>\n",
       "</table>\n"
      ],
      "text/latex": [
       "A tibble: 17 × 6\n",
       "\\begin{tabular}{llllll}\n",
       " variables & types & missing\\_count & missing\\_percent & unique\\_count & unique\\_rate\\\\\n",
       " <chr> & <chr> & <int> & <dbl> & <int> & <dbl>\\\\\n",
       "\\hline\n",
       "\t ts            & numeric   &      0 &  0.00000 &  8231 & 3.626902e-02\\\\\n",
       "\t orig\\_ip       & character &      0 &  0.00000 &    72 & 3.172603e-04\\\\\n",
       "\t orig\\_port     & integer   &      0 &  0.00000 &  5289 & 2.330541e-02\\\\\n",
       "\t resp\\_ip       & character &      0 &  0.00000 &   517 & 2.278105e-03\\\\\n",
       "\t resp\\_port     & integer   &      0 &  0.00000 & 28117 & 1.238945e-01\\\\\n",
       "\t proto         & character &      0 &  0.00000 &     3 & 1.321918e-05\\\\\n",
       "\t service       & character & 225579 & 99.39897 &     6 & 2.643836e-05\\\\\n",
       "\t duration      & numeric   &  82146 & 36.19675 &  1040 & 4.582649e-03\\\\\n",
       "\t orig\\_bytes    & integer   &  82146 & 36.19675 &   202 & 8.900913e-04\\\\\n",
       "\t resp\\_bytes    & integer   &  82146 & 36.19675 &    76 & 3.348859e-04\\\\\n",
       "\t conn\\_state    & character &      0 &  0.00000 &     9 & 3.965754e-05\\\\\n",
       "\t missed\\_bytes  & integer   &      0 &  0.00000 &     1 & 4.406393e-06\\\\\n",
       "\t history       & character &      0 &  0.00000 &    39 & 1.718493e-04\\\\\n",
       "\t orig\\_pkts     & integer   &      0 &  0.00000 &    33 & 1.454110e-04\\\\\n",
       "\t orig\\_ip\\_bytes & integer   &      0 &  0.00000 &   334 & 1.471735e-03\\\\\n",
       "\t resp\\_pkts     & integer   &      0 &  0.00000 &    17 & 7.490868e-05\\\\\n",
       "\t resp\\_ip\\_bytes & integer   &      0 &  0.00000 &   123 & 5.419863e-04\\\\\n",
       "\\end{tabular}\n"
      ],
      "text/markdown": [
       "\n",
       "A tibble: 17 × 6\n",
       "\n",
       "| variables &lt;chr&gt; | types &lt;chr&gt; | missing_count &lt;int&gt; | missing_percent &lt;dbl&gt; | unique_count &lt;int&gt; | unique_rate &lt;dbl&gt; |\n",
       "|---|---|---|---|---|---|\n",
       "| ts            | numeric   |      0 |  0.00000 |  8231 | 3.626902e-02 |\n",
       "| orig_ip       | character |      0 |  0.00000 |    72 | 3.172603e-04 |\n",
       "| orig_port     | integer   |      0 |  0.00000 |  5289 | 2.330541e-02 |\n",
       "| resp_ip       | character |      0 |  0.00000 |   517 | 2.278105e-03 |\n",
       "| resp_port     | integer   |      0 |  0.00000 | 28117 | 1.238945e-01 |\n",
       "| proto         | character |      0 |  0.00000 |     3 | 1.321918e-05 |\n",
       "| service       | character | 225579 | 99.39897 |     6 | 2.643836e-05 |\n",
       "| duration      | numeric   |  82146 | 36.19675 |  1040 | 4.582649e-03 |\n",
       "| orig_bytes    | integer   |  82146 | 36.19675 |   202 | 8.900913e-04 |\n",
       "| resp_bytes    | integer   |  82146 | 36.19675 |    76 | 3.348859e-04 |\n",
       "| conn_state    | character |      0 |  0.00000 |     9 | 3.965754e-05 |\n",
       "| missed_bytes  | integer   |      0 |  0.00000 |     1 | 4.406393e-06 |\n",
       "| history       | character |      0 |  0.00000 |    39 | 1.718493e-04 |\n",
       "| orig_pkts     | integer   |      0 |  0.00000 |    33 | 1.454110e-04 |\n",
       "| orig_ip_bytes | integer   |      0 |  0.00000 |   334 | 1.471735e-03 |\n",
       "| resp_pkts     | integer   |      0 |  0.00000 |    17 | 7.490868e-05 |\n",
       "| resp_ip_bytes | integer   |      0 |  0.00000 |   123 | 5.419863e-04 |\n",
       "\n"
      ],
      "text/plain": [
       "   variables     types     missing_count missing_percent unique_count\n",
       "1  ts            numeric        0         0.00000         8231       \n",
       "2  orig_ip       character      0         0.00000           72       \n",
       "3  orig_port     integer        0         0.00000         5289       \n",
       "4  resp_ip       character      0         0.00000          517       \n",
       "5  resp_port     integer        0         0.00000        28117       \n",
       "6  proto         character      0         0.00000            3       \n",
       "7  service       character 225579        99.39897            6       \n",
       "8  duration      numeric    82146        36.19675         1040       \n",
       "9  orig_bytes    integer    82146        36.19675          202       \n",
       "10 resp_bytes    integer    82146        36.19675           76       \n",
       "11 conn_state    character      0         0.00000            9       \n",
       "12 missed_bytes  integer        0         0.00000            1       \n",
       "13 history       character      0         0.00000           39       \n",
       "14 orig_pkts     integer        0         0.00000           33       \n",
       "15 orig_ip_bytes integer        0         0.00000          334       \n",
       "16 resp_pkts     integer        0         0.00000           17       \n",
       "17 resp_ip_bytes integer        0         0.00000          123       \n",
       "   unique_rate \n",
       "1  3.626902e-02\n",
       "2  3.172603e-04\n",
       "3  2.330541e-02\n",
       "4  2.278105e-03\n",
       "5  1.238945e-01\n",
       "6  1.321918e-05\n",
       "7  2.643836e-05\n",
       "8  4.582649e-03\n",
       "9  8.900913e-04\n",
       "10 3.348859e-04\n",
       "11 3.965754e-05\n",
       "12 4.406393e-06\n",
       "13 1.718493e-04\n",
       "14 1.454110e-04\n",
       "15 1.471735e-03\n",
       "16 7.490868e-05\n",
       "17 5.419863e-04"
      ]
     },
     "metadata": {},
     "output_type": "display_data"
    },
    {
     "name": "stdout",
     "output_type": "stream",
     "text": [
      "[1] \"No. of entries in data:\"\n"
     ]
    },
    {
     "data": {
      "text/html": [
       "226943"
      ],
      "text/latex": [
       "226943"
      ],
      "text/markdown": [
       "226943"
      ],
      "text/plain": [
       "[1] 226943"
      ]
     },
     "metadata": {},
     "output_type": "display_data"
    },
    {
     "data": {
      "text/html": [
       "'data.frame'"
      ],
      "text/latex": [
       "'data.frame'"
      ],
      "text/markdown": [
       "'data.frame'"
      ],
      "text/plain": [
       "[1] \"data.frame\""
      ]
     },
     "metadata": {},
     "output_type": "display_data"
    }
   ],
   "source": [
    "diagnose(datah)\n",
    "print(\"No. of entries in data:\")\n",
    "nrow(datah)\n",
    "class(datah)"
   ]
  },
  {
   "cell_type": "markdown",
   "metadata": {},
   "source": [
    "As expected of 1 percent data, it's good to see that each set of data is of each size (from the `nrow` command). Upon inspecting the missing data we see that the missingness of data varies greatly.\n",
    "\n",
    "In our \"head\" data we see that about 36% of the entries in variables `duration`, `orig_bytes`, and `resp_bytes` are missing, which is a significant amount of missing data. However, the randomly sampled data has an even higher missing rate of 82% which is an extremely large amount of data missing.\n",
    "\n",
    "Additionally we notice that these 3 columns must be related to each other as they all share exactly the same amount of missing data.\n",
    "\n",
    "If we are to now address the service column we see that almost all of the data is missing from either of our samples. For this reason as there is barely any useful information to build upon, through the rest of this report you will notice that the service column is often dropped from use due it it's lack of significance."
   ]
  },
  {
   "cell_type": "code",
   "execution_count": 8,
   "metadata": {},
   "outputs": [
    {
     "data": {
      "text/html": [
       "221771"
      ],
      "text/latex": [
       "221771"
      ],
      "text/markdown": [
       "221771"
      ],
      "text/plain": [
       "[1] 221771"
      ]
     },
     "metadata": {},
     "output_type": "display_data"
    },
    {
     "data": {
      "text/html": [
       "5172"
      ],
      "text/latex": [
       "5172"
      ],
      "text/markdown": [
       "5172"
      ],
      "text/plain": [
       "[1] 5172"
      ]
     },
     "metadata": {},
     "output_type": "display_data"
    }
   ],
   "source": [
    "nrow(data[!complete.cases(data),])\n",
    "cut_data <- na.omit(data)\n",
    "nrow(cut_data)"
   ]
  },
  {
   "cell_type": "code",
   "execution_count": 9,
   "metadata": {},
   "outputs": [
    {
     "data": {
      "text/html": [
       "226181"
      ],
      "text/latex": [
       "226181"
      ],
      "text/markdown": [
       "226181"
      ],
      "text/plain": [
       "[1] 226181"
      ]
     },
     "metadata": {},
     "output_type": "display_data"
    },
    {
     "data": {
      "text/html": [
       "762"
      ],
      "text/latex": [
       "762"
      ],
      "text/markdown": [
       "762"
      ],
      "text/plain": [
       "[1] 762"
      ]
     },
     "metadata": {},
     "output_type": "display_data"
    }
   ],
   "source": [
    "nrow(datah[!complete.cases(datah),])\n",
    "cut_datah <- na.omit(datah)\n",
    "nrow(cut_datah)"
   ]
  },
  {
   "cell_type": "markdown",
   "metadata": {},
   "source": [
    "In either dataset it seems that it would not be a good idea just to cut data from our analysis as it would leave us with a miniscule fraction of our original data. This was the primary analysis that led us to decide to try and make a model that could predict missing data, as to move onto any other meaninful analysis we would either have to perform a very basic imputation for missing data (which we will discuss later in the report) or more easily cut the missing data. While this would still create a dataset that we could perform analysis on, it seemed that with this much missing data it would be interesting to have a go at trying to create a model to fill this in."
   ]
  },
  {
   "cell_type": "code",
   "execution_count": 10,
   "metadata": {},
   "outputs": [
    {
     "data": {
      "text/plain": [
       "       ts              orig_ip            orig_port       resp_ip         \n",
       " Min.   :1.332e+09   Length:226943      Min.   :    3   Length:226943     \n",
       " 1st Qu.:1.332e+09   Class :character   1st Qu.:35857   Class :character  \n",
       " Median :1.332e+09   Mode  :character   Median :44316   Mode  :character  \n",
       " Mean   :1.332e+09                      Mean   :42635                     \n",
       " 3rd Qu.:1.332e+09                      3rd Qu.:54373                     \n",
       " Max.   :1.332e+09                      Max.   :65535                     \n",
       "                                                                          \n",
       "   resp_port        proto             service             duration      \n",
       " Min.   :    0   Length:226943      Length:226943      Min.   :   0.01  \n",
       " 1st Qu.: 2111   Class :character   Class :character   1st Qu.:   0.01  \n",
       " Median :10115   Mode  :character   Mode  :character   Median :   0.02  \n",
       " Mean   :20391                                         Mean   :   1.47  \n",
       " 3rd Qu.:37749                                         3rd Qu.:   0.10  \n",
       " Max.   :65535                                         Max.   :5993.18  \n",
       "                                                       NA's   :187905   \n",
       "   orig_bytes          resp_bytes         conn_state         missed_bytes\n",
       " Min.   :0.000e+00   Min.   :      0.0   Length:226943      Min.   :0    \n",
       " 1st Qu.:0.000e+00   1st Qu.:      0.0   Class :character   1st Qu.:0    \n",
       " Median :0.000e+00   Median :      0.0   Mode  :character   Median :0    \n",
       " Mean   :5.189e+05   Mean   :    666.5                      Mean   :0    \n",
       " 3rd Qu.:0.000e+00   3rd Qu.:      0.0                      3rd Qu.:0    \n",
       " Max.   :5.401e+09   Max.   :1109912.0                      Max.   :0    \n",
       " NA's   :187905      NA's   :187905                                      \n",
       "   history            orig_pkts        orig_ip_bytes        resp_pkts       \n",
       " Length:226943      Min.   :   0.000   Min.   :     0.0   Min.   :   0.000  \n",
       " Class :character   1st Qu.:   1.000   1st Qu.:    44.0   1st Qu.:   0.000  \n",
       " Mode  :character   Median :   1.000   Median :    48.0   Median :   1.000  \n",
       "                    Mean   :   1.389   Mean   :   120.5   Mean   :   0.845  \n",
       "                    3rd Qu.:   1.000   3rd Qu.:    60.0   3rd Qu.:   1.000  \n",
       "                    Max.   :4968.000   Max.   :829914.0   Max.   :4966.000  \n",
       "                                                                            \n",
       " resp_ip_bytes      \n",
       " Min.   :      0.0  \n",
       " 1st Qu.:      0.0  \n",
       " Median :     40.0  \n",
       " Mean   :    159.3  \n",
       " 3rd Qu.:     40.0  \n",
       " Max.   :1575940.0  \n",
       "                    "
      ]
     },
     "metadata": {},
     "output_type": "display_data"
    }
   ],
   "source": [
    "summary(data)"
   ]
  },
  {
   "cell_type": "code",
   "execution_count": 11,
   "metadata": {},
   "outputs": [
    {
     "data": {
      "text/plain": [
       "       ts              orig_ip            orig_port       resp_ip         \n",
       " Min.   :1.332e+09   Length:226943      Min.   :    3   Length:226943     \n",
       " 1st Qu.:1.332e+09   Class :character   1st Qu.:63805   Class :character  \n",
       " Median :1.332e+09   Mode  :character   Median :63805   Mode  :character  \n",
       " Mean   :1.332e+09                      Mean   :63109                     \n",
       " 3rd Qu.:1.332e+09                      3rd Qu.:63805                     \n",
       " Max.   :1.332e+09                      Max.   :65456                     \n",
       "                                                                          \n",
       "   resp_port        proto             service             duration     \n",
       " Min.   :    0   Length:226943      Length:226943      Min.   :  0.01  \n",
       " 1st Qu.:18191   Class :character   Class :character   1st Qu.:  0.01  \n",
       " Median :33550   Mode  :character   Mode  :character   Median :  0.03  \n",
       " Mean   :33224                                         Mean   :  0.37  \n",
       " 3rd Qu.:48911                                         3rd Qu.:  0.04  \n",
       " Max.   :65535                                         Max.   :351.96  \n",
       "                                                       NA's   :82146   \n",
       "   orig_bytes        resp_bytes         conn_state         missed_bytes\n",
       " Min.   :      0   Min.   :      0.0   Length:226943      Min.   :0    \n",
       " 1st Qu.:      0   1st Qu.:      0.0   Class :character   1st Qu.:0    \n",
       " Median :      0   Median :      0.0   Mode  :character   Median :0    \n",
       " Mean   :     50   Mean   :     21.6                      Mean   :0    \n",
       " 3rd Qu.:      0   3rd Qu.:      0.0                      3rd Qu.:0    \n",
       " Max.   :6135377   Max.   :1705080.0                      Max.   :0    \n",
       " NA's   :82146     NA's   :82146                                       \n",
       "   history            orig_pkts        orig_ip_bytes       resp_pkts       \n",
       " Length:226943      Min.   :    0.00   Min.   :      0   Min.   :    0.00  \n",
       " Class :character   1st Qu.:    1.00   1st Qu.:     44   1st Qu.:    0.00  \n",
       " Mode  :character   Median :    1.00   Median :     44   Median :    1.00  \n",
       "                    Mean   :    1.32   Mean   :     93   Mean   :    1.02  \n",
       "                    3rd Qu.:    1.00   3rd Qu.:     44   3rd Qu.:    1.00  \n",
       "                    Max.   :43697.00   Max.   :8402145   Max.   :43683.00  \n",
       "                                                                           \n",
       " resp_ip_bytes    \n",
       " Min.   :      0  \n",
       " 1st Qu.:      0  \n",
       " Median :     40  \n",
       " Mean   :     59  \n",
       " 3rd Qu.:     40  \n",
       " Max.   :3975036  \n",
       "                  "
      ]
     },
     "metadata": {},
     "output_type": "display_data"
    }
   ],
   "source": [
    "summary(datah)"
   ]
  },
  {
   "cell_type": "markdown",
   "metadata": {},
   "source": [
    "Below we're going to take a quick look at the relationship of missing data using the `md.pattern` command."
   ]
  },
  {
   "cell_type": "code",
   "execution_count": 12,
   "metadata": {},
   "outputs": [
    {
     "name": "stdout",
     "output_type": "stream",
     "text": [
      "'data.frame':\t226943 obs. of  17 variables:\n",
      " $ ts           : num  1.33e+09 1.33e+09 1.33e+09 1.33e+09 1.33e+09 ...\n",
      " $ orig_ip      : chr  \"192.168.202.102\" \"192.168.202.110\" \"192.168.202.83\" \"192.168.202.83\" ...\n",
      " $ orig_port    : int  2633 11574 41267 58519 25774 60760 57224 60918 58071 46497 ...\n",
      " $ resp_ip      : chr  \"192.168.23.202\" \"192.168.23.253\" \"192.168.206.44\" \"192.168.206.44\" ...\n",
      " $ resp_port    : int  80 1724 8010 5214 1625 1580 36350 37723 4899 64100 ...\n",
      " $ proto        : chr  \"tcp\" \"tcp\" \"tcp\" \"tcp\" ...\n",
      " $ service      : chr  \"http\" NA NA NA ...\n",
      " $ duration     : num  0.03 NA NA NA NA NA NA NA NA NA ...\n",
      " $ orig_bytes   : num  481 NA NA NA NA NA NA NA NA NA ...\n",
      " $ resp_bytes   : int  8133 NA NA NA NA NA NA NA NA NA ...\n",
      " $ conn_state   : chr  \"RSTO\" \"REJ\" \"REJ\" \"REJ\" ...\n",
      " $ missed_bytes : int  0 0 0 0 0 0 0 0 0 0 ...\n",
      " $ history      : chr  \"ShADadfR\" \"Sr\" \"Sr\" \"Sr\" ...\n",
      " $ orig_pkts    : int  8 1 1 1 1 1 1 1 1 1 ...\n",
      " $ orig_ip_bytes: int  813 48 60 60 48 60 48 60 60 48 ...\n",
      " $ resp_pkts    : int  9 1 1 1 0 1 0 1 1 0 ...\n",
      " $ resp_ip_bytes: int  8505 40 40 40 0 40 0 40 40 0 ...\n"
     ]
    },
    {
     "data": {
      "text/html": [
       "<table>\n",
       "<caption>A matrix: 5 × 18 of type dbl</caption>\n",
       "<thead>\n",
       "\t<tr><th></th><th scope=col>ts</th><th scope=col>orig_ip</th><th scope=col>orig_port</th><th scope=col>resp_ip</th><th scope=col>resp_port</th><th scope=col>proto</th><th scope=col>conn_state</th><th scope=col>missed_bytes</th><th scope=col>history</th><th scope=col>orig_pkts</th><th scope=col>orig_ip_bytes</th><th scope=col>resp_pkts</th><th scope=col>resp_ip_bytes</th><th scope=col>duration</th><th scope=col>orig_bytes</th><th scope=col>resp_bytes</th><th scope=col>service</th><th scope=col></th></tr>\n",
       "</thead>\n",
       "<tbody>\n",
       "\t<tr><th scope=row>5172</th><td>1</td><td>1</td><td>1</td><td>1</td><td>1</td><td>1</td><td>1</td><td>1</td><td>1</td><td>1</td><td>1</td><td>1</td><td>1</td><td>     1</td><td>     1</td><td>     1</td><td>     1</td><td>     0</td></tr>\n",
       "\t<tr><th scope=row>33866</th><td>1</td><td>1</td><td>1</td><td>1</td><td>1</td><td>1</td><td>1</td><td>1</td><td>1</td><td>1</td><td>1</td><td>1</td><td>1</td><td>     1</td><td>     1</td><td>     1</td><td>     0</td><td>     1</td></tr>\n",
       "\t<tr><th scope=row>1614</th><td>1</td><td>1</td><td>1</td><td>1</td><td>1</td><td>1</td><td>1</td><td>1</td><td>1</td><td>1</td><td>1</td><td>1</td><td>1</td><td>     0</td><td>     0</td><td>     0</td><td>     1</td><td>     3</td></tr>\n",
       "\t<tr><th scope=row>186291</th><td>1</td><td>1</td><td>1</td><td>1</td><td>1</td><td>1</td><td>1</td><td>1</td><td>1</td><td>1</td><td>1</td><td>1</td><td>1</td><td>     0</td><td>     0</td><td>     0</td><td>     0</td><td>     4</td></tr>\n",
       "\t<tr><th scope=row></th><td>0</td><td>0</td><td>0</td><td>0</td><td>0</td><td>0</td><td>0</td><td>0</td><td>0</td><td>0</td><td>0</td><td>0</td><td>0</td><td>187905</td><td>187905</td><td>187905</td><td>220157</td><td>783872</td></tr>\n",
       "</tbody>\n",
       "</table>\n"
      ],
      "text/latex": [
       "A matrix: 5 × 18 of type dbl\n",
       "\\begin{tabular}{r|llllllllllllllllll}\n",
       "  & ts & orig\\_ip & orig\\_port & resp\\_ip & resp\\_port & proto & conn\\_state & missed\\_bytes & history & orig\\_pkts & orig\\_ip\\_bytes & resp\\_pkts & resp\\_ip\\_bytes & duration & orig\\_bytes & resp\\_bytes & service & \\\\\n",
       "\\hline\n",
       "\t5172 & 1 & 1 & 1 & 1 & 1 & 1 & 1 & 1 & 1 & 1 & 1 & 1 & 1 &      1 &      1 &      1 &      1 &      0\\\\\n",
       "\t33866 & 1 & 1 & 1 & 1 & 1 & 1 & 1 & 1 & 1 & 1 & 1 & 1 & 1 &      1 &      1 &      1 &      0 &      1\\\\\n",
       "\t1614 & 1 & 1 & 1 & 1 & 1 & 1 & 1 & 1 & 1 & 1 & 1 & 1 & 1 &      0 &      0 &      0 &      1 &      3\\\\\n",
       "\t186291 & 1 & 1 & 1 & 1 & 1 & 1 & 1 & 1 & 1 & 1 & 1 & 1 & 1 &      0 &      0 &      0 &      0 &      4\\\\\n",
       "\t & 0 & 0 & 0 & 0 & 0 & 0 & 0 & 0 & 0 & 0 & 0 & 0 & 0 & 187905 & 187905 & 187905 & 220157 & 783872\\\\\n",
       "\\end{tabular}\n"
      ],
      "text/markdown": [
       "\n",
       "A matrix: 5 × 18 of type dbl\n",
       "\n",
       "| <!--/--> | ts | orig_ip | orig_port | resp_ip | resp_port | proto | conn_state | missed_bytes | history | orig_pkts | orig_ip_bytes | resp_pkts | resp_ip_bytes | duration | orig_bytes | resp_bytes | service | <!----> |\n",
       "|---|---|---|---|---|---|---|---|---|---|---|---|---|---|---|---|---|---|---|\n",
       "| 5172 | 1 | 1 | 1 | 1 | 1 | 1 | 1 | 1 | 1 | 1 | 1 | 1 | 1 |      1 |      1 |      1 |      1 |      0 |\n",
       "| 33866 | 1 | 1 | 1 | 1 | 1 | 1 | 1 | 1 | 1 | 1 | 1 | 1 | 1 |      1 |      1 |      1 |      0 |      1 |\n",
       "| 1614 | 1 | 1 | 1 | 1 | 1 | 1 | 1 | 1 | 1 | 1 | 1 | 1 | 1 |      0 |      0 |      0 |      1 |      3 |\n",
       "| 186291 | 1 | 1 | 1 | 1 | 1 | 1 | 1 | 1 | 1 | 1 | 1 | 1 | 1 |      0 |      0 |      0 |      0 |      4 |\n",
       "| <!----> | 0 | 0 | 0 | 0 | 0 | 0 | 0 | 0 | 0 | 0 | 0 | 0 | 0 | 187905 | 187905 | 187905 | 220157 | 783872 |\n",
       "\n"
      ],
      "text/plain": [
       "       ts orig_ip orig_port resp_ip resp_port proto conn_state missed_bytes\n",
       "5172   1  1       1         1       1         1     1          1           \n",
       "33866  1  1       1         1       1         1     1          1           \n",
       "1614   1  1       1         1       1         1     1          1           \n",
       "186291 1  1       1         1       1         1     1          1           \n",
       "       0  0       0         0       0         0     0          0           \n",
       "       history orig_pkts orig_ip_bytes resp_pkts resp_ip_bytes duration\n",
       "5172   1       1         1             1         1                  1  \n",
       "33866  1       1         1             1         1                  1  \n",
       "1614   1       1         1             1         1                  0  \n",
       "186291 1       1         1             1         1                  0  \n",
       "       0       0         0             0         0             187905  \n",
       "       orig_bytes resp_bytes service       \n",
       "5172        1          1          1       0\n",
       "33866       1          1          0       1\n",
       "1614        0          0          1       3\n",
       "186291      0          0          0       4\n",
       "       187905     187905     220157  783872"
      ]
     },
     "metadata": {},
     "output_type": "display_data"
    },
    {
     "data": {
      "image/png": "[encoded data removed]",
      "text/plain": [
       "plot without title"
      ]
     },
     "metadata": {
      "image/png": {
       "height": 420,
       "width": 420
      }
     },
     "output_type": "display_data"
    }
   ],
   "source": [
    "str(data)\n",
    "md.pattern(data)"
   ]
  },
  {
   "cell_type": "code",
   "execution_count": 13,
   "metadata": {},
   "outputs": [
    {
     "name": "stdout",
     "output_type": "stream",
     "text": [
      "'data.frame':\t226943 obs. of  17 variables:\n",
      " $ ts           : num  1.33e+09 1.33e+09 1.33e+09 1.33e+09 1.33e+09 ...\n",
      " $ orig_ip      : chr  \"192.168.202.79\" \"192.168.202.79\" \"192.168.202.79\" \"192.168.202.79\" ...\n",
      " $ orig_port    : int  50463 46117 50465 50467 46119 46121 46123 50469 50471 50473 ...\n",
      " $ resp_ip      : chr  \"192.168.229.251\" \"192.168.229.254\" \"192.168.229.251\" \"192.168.229.251\" ...\n",
      " $ resp_port    : int  80 443 80 80 443 443 443 80 80 80 ...\n",
      " $ proto        : chr  \"tcp\" \"tcp\" \"tcp\" \"tcp\" ...\n",
      " $ service      : chr  NA NA \"http\" \"http\" ...\n",
      " $ duration     : num  NA NA 0.01 0.01 0.02 0.01 0.01 0.02 0.01 0.01 ...\n",
      " $ orig_bytes   : int  NA NA 166 166 544 544 548 166 166 164 ...\n",
      " $ resp_bytes   : int  NA NA 214 214 1060 1060 1060 214 214 214 ...\n",
      " $ conn_state   : chr  \"SH\" \"SF\" \"SF\" \"SF\" ...\n",
      " $ missed_bytes : int  0 0 0 0 0 0 0 0 0 0 ...\n",
      " $ history      : chr  \"Fa\" \"dDafFr\" \"ShADfFa\" \"ShADfFa\" ...\n",
      " $ orig_pkts    : int  1 3 4 4 8 8 8 4 4 4 ...\n",
      " $ orig_ip_bytes: int  52 382 382 382 968 968 972 382 382 380 ...\n",
      " $ resp_pkts    : int  1 9 3 3 13 13 13 3 3 3 ...\n",
      " $ resp_ip_bytes: int  52 994 382 382 1744 1744 1744 382 382 382 ...\n"
     ]
    },
    {
     "data": {
      "text/html": [
       "<table>\n",
       "<caption>A matrix: 5 × 18 of type dbl</caption>\n",
       "<thead>\n",
       "\t<tr><th></th><th scope=col>ts</th><th scope=col>orig_ip</th><th scope=col>orig_port</th><th scope=col>resp_ip</th><th scope=col>resp_port</th><th scope=col>proto</th><th scope=col>conn_state</th><th scope=col>missed_bytes</th><th scope=col>history</th><th scope=col>orig_pkts</th><th scope=col>orig_ip_bytes</th><th scope=col>resp_pkts</th><th scope=col>resp_ip_bytes</th><th scope=col>duration</th><th scope=col>orig_bytes</th><th scope=col>resp_bytes</th><th scope=col>service</th><th scope=col></th></tr>\n",
       "</thead>\n",
       "<tbody>\n",
       "\t<tr><th scope=row>762</th><td>1</td><td>1</td><td>1</td><td>1</td><td>1</td><td>1</td><td>1</td><td>1</td><td>1</td><td>1</td><td>1</td><td>1</td><td>1</td><td>    1</td><td>    1</td><td>    1</td><td>     1</td><td>     0</td></tr>\n",
       "\t<tr><th scope=row>144035</th><td>1</td><td>1</td><td>1</td><td>1</td><td>1</td><td>1</td><td>1</td><td>1</td><td>1</td><td>1</td><td>1</td><td>1</td><td>1</td><td>    1</td><td>    1</td><td>    1</td><td>     0</td><td>     1</td></tr>\n",
       "\t<tr><th scope=row>602</th><td>1</td><td>1</td><td>1</td><td>1</td><td>1</td><td>1</td><td>1</td><td>1</td><td>1</td><td>1</td><td>1</td><td>1</td><td>1</td><td>    0</td><td>    0</td><td>    0</td><td>     1</td><td>     3</td></tr>\n",
       "\t<tr><th scope=row>81544</th><td>1</td><td>1</td><td>1</td><td>1</td><td>1</td><td>1</td><td>1</td><td>1</td><td>1</td><td>1</td><td>1</td><td>1</td><td>1</td><td>    0</td><td>    0</td><td>    0</td><td>     0</td><td>     4</td></tr>\n",
       "\t<tr><th scope=row></th><td>0</td><td>0</td><td>0</td><td>0</td><td>0</td><td>0</td><td>0</td><td>0</td><td>0</td><td>0</td><td>0</td><td>0</td><td>0</td><td>82146</td><td>82146</td><td>82146</td><td>225579</td><td>472017</td></tr>\n",
       "</tbody>\n",
       "</table>\n"
      ],
      "text/latex": [
       "A matrix: 5 × 18 of type dbl\n",
       "\\begin{tabular}{r|llllllllllllllllll}\n",
       "  & ts & orig\\_ip & orig\\_port & resp\\_ip & resp\\_port & proto & conn\\_state & missed\\_bytes & history & orig\\_pkts & orig\\_ip\\_bytes & resp\\_pkts & resp\\_ip\\_bytes & duration & orig\\_bytes & resp\\_bytes & service & \\\\\n",
       "\\hline\n",
       "\t762 & 1 & 1 & 1 & 1 & 1 & 1 & 1 & 1 & 1 & 1 & 1 & 1 & 1 &     1 &     1 &     1 &      1 &      0\\\\\n",
       "\t144035 & 1 & 1 & 1 & 1 & 1 & 1 & 1 & 1 & 1 & 1 & 1 & 1 & 1 &     1 &     1 &     1 &      0 &      1\\\\\n",
       "\t602 & 1 & 1 & 1 & 1 & 1 & 1 & 1 & 1 & 1 & 1 & 1 & 1 & 1 &     0 &     0 &     0 &      1 &      3\\\\\n",
       "\t81544 & 1 & 1 & 1 & 1 & 1 & 1 & 1 & 1 & 1 & 1 & 1 & 1 & 1 &     0 &     0 &     0 &      0 &      4\\\\\n",
       "\t & 0 & 0 & 0 & 0 & 0 & 0 & 0 & 0 & 0 & 0 & 0 & 0 & 0 & 82146 & 82146 & 82146 & 225579 & 472017\\\\\n",
       "\\end{tabular}\n"
      ],
      "text/markdown": [
       "\n",
       "A matrix: 5 × 18 of type dbl\n",
       "\n",
       "| <!--/--> | ts | orig_ip | orig_port | resp_ip | resp_port | proto | conn_state | missed_bytes | history | orig_pkts | orig_ip_bytes | resp_pkts | resp_ip_bytes | duration | orig_bytes | resp_bytes | service | <!----> |\n",
       "|---|---|---|---|---|---|---|---|---|---|---|---|---|---|---|---|---|---|---|\n",
       "| 762 | 1 | 1 | 1 | 1 | 1 | 1 | 1 | 1 | 1 | 1 | 1 | 1 | 1 |     1 |     1 |     1 |      1 |      0 |\n",
       "| 144035 | 1 | 1 | 1 | 1 | 1 | 1 | 1 | 1 | 1 | 1 | 1 | 1 | 1 |     1 |     1 |     1 |      0 |      1 |\n",
       "| 602 | 1 | 1 | 1 | 1 | 1 | 1 | 1 | 1 | 1 | 1 | 1 | 1 | 1 |     0 |     0 |     0 |      1 |      3 |\n",
       "| 81544 | 1 | 1 | 1 | 1 | 1 | 1 | 1 | 1 | 1 | 1 | 1 | 1 | 1 |     0 |     0 |     0 |      0 |      4 |\n",
       "| <!----> | 0 | 0 | 0 | 0 | 0 | 0 | 0 | 0 | 0 | 0 | 0 | 0 | 0 | 82146 | 82146 | 82146 | 225579 | 472017 |\n",
       "\n"
      ],
      "text/plain": [
       "       ts orig_ip orig_port resp_ip resp_port proto conn_state missed_bytes\n",
       "762    1  1       1         1       1         1     1          1           \n",
       "144035 1  1       1         1       1         1     1          1           \n",
       "602    1  1       1         1       1         1     1          1           \n",
       "81544  1  1       1         1       1         1     1          1           \n",
       "       0  0       0         0       0         0     0          0           \n",
       "       history orig_pkts orig_ip_bytes resp_pkts resp_ip_bytes duration\n",
       "762    1       1         1             1         1                 1   \n",
       "144035 1       1         1             1         1                 1   \n",
       "602    1       1         1             1         1                 0   \n",
       "81544  1       1         1             1         1                 0   \n",
       "       0       0         0             0         0             82146   \n",
       "       orig_bytes resp_bytes service       \n",
       "762        1          1           1       0\n",
       "144035     1          1           0       1\n",
       "602        0          0           1       3\n",
       "81544      0          0           0       4\n",
       "       82146      82146      225579  472017"
      ]
     },
     "metadata": {},
     "output_type": "display_data"
    },
    {
     "data": {
      "image/png": "[encoded data removed]",
      "text/plain": [
       "plot without title"
      ]
     },
     "metadata": {
      "image/png": {
       "height": 420,
       "width": 420
      }
     },
     "output_type": "display_data"
    }
   ],
   "source": [
    "str(datah)\n",
    "md.pattern(datah)"
   ]
  },
  {
   "cell_type": "markdown",
   "metadata": {},
   "source": [
    "The plot actually shows pretty much the same information as the table above it, but just in a more visually appealing way. What we notice from this table is that in both cases it seems that service missing service is not dependent on the other columns. In fact the exact numbers for each data set are:\n",
    "### data\n",
    "* 5172 complete rows.\n",
    "* 33866 rows missing `service`, but not missing `duration`, `orig_bytes`, or `resp_bytes`.\n",
    "* 1614 rows missing just `duration`, `orig_bytes`, or `resp_bytes` but not `service`.\n",
    "* 186291 missing all four.\n",
    "\n",
    "### datah\n",
    "* 762 complete rows.\n",
    "* 144035 rows missing `service`, but not missing `duration`, `orig_bytes`, or `resp_bytes`.\n",
    "* 602 rows missing just `duration`, `orig_bytes`, or `resp_bytes` but not `service`.\n",
    "* 81544 missing all four.\n",
    "\n",
    "We can also show missing data distribution in a graphical way with the following commands."
   ]
  },
  {
   "cell_type": "code",
   "execution_count": 14,
   "metadata": {},
   "outputs": [
    {
     "name": "stdout",
     "output_type": "stream",
     "text": [
      "\n",
      " Variables sorted by number of missings: \n",
      "   Variable     Count\n",
      "    service 0.9700982\n",
      "   duration 0.8279832\n",
      " orig_bytes 0.8279832\n",
      " resp_bytes 0.8279832\n"
     ]
    },
    {
     "data": {
      "image/png": "[encoded data removed]",
      "text/plain": [
       "plot without title"
      ]
     },
     "metadata": {
      "image/png": {
       "height": 420,
       "width": 420
      }
     },
     "output_type": "display_data"
    }
   ],
   "source": [
    "data_mis <- subset(data, select = c(service,duration,orig_bytes,resp_bytes))\n",
    "mice_plot <- aggr(data_mis,numbers=TRUE, sortVars=TRUE,labels=c(\"service\",\"duration\",\"orig_bytes\",\"resp_bytes\"),cex.axis=.7,gap=3, ylab=c(\"Missing data\",\"pattern\"))"
   ]
  },
  {
   "cell_type": "code",
   "execution_count": 15,
   "metadata": {},
   "outputs": [
    {
     "name": "stdout",
     "output_type": "stream",
     "text": [
      "\n",
      " Variables sorted by number of missings: \n",
      "   Variable     Count\n",
      "    service 0.9939897\n",
      "   duration 0.3619675\n",
      " orig_bytes 0.3619675\n",
      " resp_bytes 0.3619675\n"
     ]
    },
    {
     "data": {
      "image/png": "[encoded data removed]",
      "text/plain": [
       "plot without title"
      ]
     },
     "metadata": {
      "image/png": {
       "height": 420,
       "width": 420
      }
     },
     "output_type": "display_data"
    }
   ],
   "source": [
    "data_mis <- subset(datah, select = c(service,duration,orig_bytes,resp_bytes))\n",
    "mice_plot <- aggr(data_mis,numbers=TRUE, sortVars=TRUE,labels=c(\"service\",\"duration\",\"orig_bytes\",\"resp_bytes\"),cex.axis=.7,gap=3, ylab=c(\"Missing data\",\"pattern\"))"
   ]
  },
  {
   "cell_type": "markdown",
   "metadata": {},
   "source": [
    "And in another method we create the following missingness maps."
   ]
  },
  {
   "cell_type": "code",
   "execution_count": 16,
   "metadata": {},
   "outputs": [
    {
     "data": {
      "image/png": "[encoded data removed]",
      "text/plain": [
       "Plot with title \"Missingness Map\""
      ]
     },
     "metadata": {
      "image/png": {
       "height": 420,
       "width": 420
      }
     },
     "output_type": "display_data"
    }
   ],
   "source": [
    "missmap(data)"
   ]
  },
  {
   "cell_type": "code",
   "execution_count": 17,
   "metadata": {},
   "outputs": [
    {
     "data": {
      "image/png": "[encoded data removed]",
      "text/plain": [
       "Plot with title \"Missingness Map\""
      ]
     },
     "metadata": {
      "image/png": {
       "height": 420,
       "width": 420
      }
     },
     "output_type": "display_data"
    }
   ],
   "source": [
    "missmap(datah)"
   ]
  },
  {
   "cell_type": "markdown",
   "metadata": {},
   "source": [
    "As previously mentioned, missing data is an interesting concept to try and predict. And we have attempted (some successfully, and some unsuccessfully) to imput the missing data of `duration`, `orig_bytes`, and `resp_bytes` in the rest of this report. Generally leaving service as it is both discrete and missing such a large portion of it's values."
   ]
  }
 ],
 "metadata": {
  "kernelspec": {
   "display_name": "R",
   "language": "R",
   "name": "ir"
  },
  "language_info": {
   "codemirror_mode": "r",
   "file_extension": ".r",
   "mimetype": "text/x-r-source",
   "name": "R",
   "pygments_lexer": "r",
   "version": "4.0.3"
  }
 },
 "nbformat": 4,
 "nbformat_minor": 4
}
