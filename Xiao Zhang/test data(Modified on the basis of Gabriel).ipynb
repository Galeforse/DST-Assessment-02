{
 "cells": [
  {
   "cell_type": "code",
   "execution_count": 2,
   "metadata": {},
   "outputs": [],
   "source": [
    "setwd(\"C:\\\\Users\\\\xiao\\\\Documents\\\\GitHub\\\\DST-Assessment-02\\\\Data\")\n",
    "conndata<-read.table(\"5_percent_data.csv.gz\", sep=\",\", header=TRUE, na.strings=c(\"\",\"NA\"))"
   ]
  },
  {
   "cell_type": "code",
   "execution_count": 3,
   "metadata": {},
   "outputs": [],
   "source": [
    "for(i in c(3,5,8,9,10,12,14:17)) conndata[,i]=as.numeric(conndata[,i])\n",
    "for(i in c(2,4,6,11,13)) conndata[,i]=as.factor(conndata[,i])"
   ]
  },
  {
   "cell_type": "code",
   "execution_count": 30,
   "metadata": {},
   "outputs": [
    {
     "name": "stdout",
     "output_type": "stream",
     "text": [
      "\n",
      " Variables sorted by number of missings: \n",
      "   Variable     Count\n",
      "    service 0.9704737\n",
      "   duration 0.8281686\n",
      " orig_bytes 0.8281686\n",
      " resp_bytes 0.8281686\n"
     ]
    },
    {
     "data": {
      "image/png": "[encoded data removed]",
      "text/plain": [
       "plot without title"
      ]
     },
     "metadata": {
      "image/png": {
       "height": 420,
       "width": 420
      }
     },
     "output_type": "display_data"
    }
   ],
   "source": [
    "library(\"VIM\")\n",
    "mice_plot <- aggr(conndata[,which(names(conndata) %in% c(\"service\",\"duration\",\"orig_bytes\",\"resp_bytes\"))],\n",
    "                  numbers=TRUE, sortVars=TRUE,cex.axis=.7,gap=3)"
   ]
  },
  {
   "cell_type": "code",
   "execution_count": 16,
   "metadata": {},
   "outputs": [
    {
     "data": {
      "text/html": [
       "0.828168609441826"
      ],
      "text/latex": [
       "0.828168609441826"
      ],
      "text/markdown": [
       "0.828168609441826"
      ],
      "text/plain": [
       "[1] 0.8281686"
      ]
     },
     "metadata": {},
     "output_type": "display_data"
    }
   ],
   "source": [
    "sum(is.na(conndata$duration))/nrow(conndata)"
   ]
  },
  {
   "cell_type": "code",
   "execution_count": 19,
   "metadata": {},
   "outputs": [],
   "source": [
    "data_complete<-conndata[-which(is.na(conndata$duration)),]"
   ]
  },
  {
   "cell_type": "code",
   "execution_count": 20,
   "metadata": {},
   "outputs": [
    {
     "data": {
      "text/html": [
       "194980"
      ],
      "text/latex": [
       "194980"
      ],
      "text/markdown": [
       "194980"
      ],
      "text/plain": [
       "[1] 194980"
      ]
     },
     "metadata": {},
     "output_type": "display_data"
    }
   ],
   "source": [
    "nrow(data_complete)"
   ]
  },
  {
   "cell_type": "code",
   "execution_count": 35,
   "metadata": {},
   "outputs": [],
   "source": [
    "data_missing <- data_complete\n",
    "set.seed(10)\n",
    "data_missing[sample(1:nrow(data_missing),nrow(data_missing)*0.8281686),\"duration\"] <- NA"
   ]
  },
  {
   "cell_type": "code",
   "execution_count": 36,
   "metadata": {},
   "outputs": [],
   "source": [
    "data_missing[is.na(data_missing$duration),\"orig_bytes\"] <- NA\n",
    "data_missing[is.na(data_missing$duration),\"resp_bytes\"] <- NA"
   ]
  },
  {
   "cell_type": "code",
   "execution_count": 37,
   "metadata": {},
   "outputs": [
    {
     "data": {
      "text/html": [
       "<table>\n",
       "<caption>A data.frame: 6 × 17</caption>\n",
       "<thead>\n",
       "\t<tr><th></th><th scope=col>ts</th><th scope=col>orig_ip</th><th scope=col>orig_port</th><th scope=col>resp_ip</th><th scope=col>resp_port</th><th scope=col>proto</th><th scope=col>service</th><th scope=col>duration</th><th scope=col>orig_bytes</th><th scope=col>resp_bytes</th><th scope=col>conn_state</th><th scope=col>missed_bytes</th><th scope=col>history</th><th scope=col>orig_pkts</th><th scope=col>orig_ip_bytes</th><th scope=col>resp_pkts</th><th scope=col>resp_ip_bytes</th></tr>\n",
       "\t<tr><th></th><th scope=col>&lt;dbl&gt;</th><th scope=col>&lt;fct&gt;</th><th scope=col>&lt;dbl&gt;</th><th scope=col>&lt;fct&gt;</th><th scope=col>&lt;dbl&gt;</th><th scope=col>&lt;fct&gt;</th><th scope=col>&lt;chr&gt;</th><th scope=col>&lt;dbl&gt;</th><th scope=col>&lt;dbl&gt;</th><th scope=col>&lt;dbl&gt;</th><th scope=col>&lt;fct&gt;</th><th scope=col>&lt;dbl&gt;</th><th scope=col>&lt;fct&gt;</th><th scope=col>&lt;dbl&gt;</th><th scope=col>&lt;dbl&gt;</th><th scope=col>&lt;dbl&gt;</th><th scope=col>&lt;dbl&gt;</th></tr>\n",
       "</thead>\n",
       "<tbody>\n",
       "\t<tr><th scope=row>1</th><td>1331915797</td><td>192.168.202.102</td><td> 2633</td><td>192.168.23.202 </td><td>   80</td><td>tcp</td><td>http</td><td>  NA</td><td>  NA</td><td> NA</td><td>RSTO</td><td>0</td><td>ShADadfR</td><td> 8</td><td> 813</td><td>9</td><td>8505</td></tr>\n",
       "\t<tr><th scope=row>13</th><td>1331921224</td><td>192.168.202.102</td><td> 4094</td><td>192.168.24.101 </td><td>   80</td><td>tcp</td><td>NA  </td><td>0.01</td><td>7085</td><td>172</td><td>RSTO</td><td>0</td><td>ShADadfR</td><td>10</td><td>7497</td><td>9</td><td> 544</td></tr>\n",
       "\t<tr><th scope=row>18</th><td>1331903910</td><td>192.168.202.110</td><td>16066</td><td>192.168.27.152 </td><td>12486</td><td>tcp</td><td>NA  </td><td>  NA</td><td>  NA</td><td> NA</td><td>REJ </td><td>0</td><td>Sr      </td><td> 1</td><td>  48</td><td>1</td><td>  40</td></tr>\n",
       "\t<tr><th scope=row>27</th><td>1331988939</td><td>192.168.204.45 </td><td>42997</td><td>192.168.23.1   </td><td>28745</td><td>tcp</td><td>NA  </td><td>  NA</td><td>  NA</td><td> NA</td><td>REJ </td><td>0</td><td>Sr      </td><td> 1</td><td>  60</td><td>1</td><td>  40</td></tr>\n",
       "\t<tr><th scope=row>29</th><td>1331918792</td><td>192.168.202.110</td><td>38566</td><td>192.168.229.252</td><td>32754</td><td>tcp</td><td>NA  </td><td>  NA</td><td>  NA</td><td> NA</td><td>REJ </td><td>0</td><td>Sr      </td><td> 1</td><td>  48</td><td>1</td><td>  40</td></tr>\n",
       "\t<tr><th scope=row>31</th><td>1331901863</td><td>192.168.202.79 </td><td>63805</td><td>192.168.229.252</td><td>45078</td><td>tcp</td><td>NA  </td><td>  NA</td><td>  NA</td><td> NA</td><td>REJ </td><td>0</td><td>Sr      </td><td> 1</td><td>  44</td><td>1</td><td>  40</td></tr>\n",
       "</tbody>\n",
       "</table>\n"
      ],
      "text/latex": [
       "A data.frame: 6 × 17\n",
       "\\begin{tabular}{r|lllllllllllllllll}\n",
       "  & ts & orig\\_ip & orig\\_port & resp\\_ip & resp\\_port & proto & service & duration & orig\\_bytes & resp\\_bytes & conn\\_state & missed\\_bytes & history & orig\\_pkts & orig\\_ip\\_bytes & resp\\_pkts & resp\\_ip\\_bytes\\\\\n",
       "  & <dbl> & <fct> & <dbl> & <fct> & <dbl> & <fct> & <chr> & <dbl> & <dbl> & <dbl> & <fct> & <dbl> & <fct> & <dbl> & <dbl> & <dbl> & <dbl>\\\\\n",
       "\\hline\n",
       "\t1 & 1331915797 & 192.168.202.102 &  2633 & 192.168.23.202  &    80 & tcp & http &   NA &   NA &  NA & RSTO & 0 & ShADadfR &  8 &  813 & 9 & 8505\\\\\n",
       "\t13 & 1331921224 & 192.168.202.102 &  4094 & 192.168.24.101  &    80 & tcp & NA   & 0.01 & 7085 & 172 & RSTO & 0 & ShADadfR & 10 & 7497 & 9 &  544\\\\\n",
       "\t18 & 1331903910 & 192.168.202.110 & 16066 & 192.168.27.152  & 12486 & tcp & NA   &   NA &   NA &  NA & REJ  & 0 & Sr       &  1 &   48 & 1 &   40\\\\\n",
       "\t27 & 1331988939 & 192.168.204.45  & 42997 & 192.168.23.1    & 28745 & tcp & NA   &   NA &   NA &  NA & REJ  & 0 & Sr       &  1 &   60 & 1 &   40\\\\\n",
       "\t29 & 1331918792 & 192.168.202.110 & 38566 & 192.168.229.252 & 32754 & tcp & NA   &   NA &   NA &  NA & REJ  & 0 & Sr       &  1 &   48 & 1 &   40\\\\\n",
       "\t31 & 1331901863 & 192.168.202.79  & 63805 & 192.168.229.252 & 45078 & tcp & NA   &   NA &   NA &  NA & REJ  & 0 & Sr       &  1 &   44 & 1 &   40\\\\\n",
       "\\end{tabular}\n"
      ],
      "text/markdown": [
       "\n",
       "A data.frame: 6 × 17\n",
       "\n",
       "| <!--/--> | ts &lt;dbl&gt; | orig_ip &lt;fct&gt; | orig_port &lt;dbl&gt; | resp_ip &lt;fct&gt; | resp_port &lt;dbl&gt; | proto &lt;fct&gt; | service &lt;chr&gt; | duration &lt;dbl&gt; | orig_bytes &lt;dbl&gt; | resp_bytes &lt;dbl&gt; | conn_state &lt;fct&gt; | missed_bytes &lt;dbl&gt; | history &lt;fct&gt; | orig_pkts &lt;dbl&gt; | orig_ip_bytes &lt;dbl&gt; | resp_pkts &lt;dbl&gt; | resp_ip_bytes &lt;dbl&gt; |\n",
       "|---|---|---|---|---|---|---|---|---|---|---|---|---|---|---|---|---|---|\n",
       "| 1 | 1331915797 | 192.168.202.102 |  2633 | 192.168.23.202  |    80 | tcp | http |   NA |   NA |  NA | RSTO | 0 | ShADadfR |  8 |  813 | 9 | 8505 |\n",
       "| 13 | 1331921224 | 192.168.202.102 |  4094 | 192.168.24.101  |    80 | tcp | NA   | 0.01 | 7085 | 172 | RSTO | 0 | ShADadfR | 10 | 7497 | 9 |  544 |\n",
       "| 18 | 1331903910 | 192.168.202.110 | 16066 | 192.168.27.152  | 12486 | tcp | NA   |   NA |   NA |  NA | REJ  | 0 | Sr       |  1 |   48 | 1 |   40 |\n",
       "| 27 | 1331988939 | 192.168.204.45  | 42997 | 192.168.23.1    | 28745 | tcp | NA   |   NA |   NA |  NA | REJ  | 0 | Sr       |  1 |   60 | 1 |   40 |\n",
       "| 29 | 1331918792 | 192.168.202.110 | 38566 | 192.168.229.252 | 32754 | tcp | NA   |   NA |   NA |  NA | REJ  | 0 | Sr       |  1 |   48 | 1 |   40 |\n",
       "| 31 | 1331901863 | 192.168.202.79  | 63805 | 192.168.229.252 | 45078 | tcp | NA   |   NA |   NA |  NA | REJ  | 0 | Sr       |  1 |   44 | 1 |   40 |\n",
       "\n"
      ],
      "text/plain": [
       "   ts         orig_ip         orig_port resp_ip         resp_port proto service\n",
       "1  1331915797 192.168.202.102  2633     192.168.23.202     80     tcp   http   \n",
       "13 1331921224 192.168.202.102  4094     192.168.24.101     80     tcp   NA     \n",
       "18 1331903910 192.168.202.110 16066     192.168.27.152  12486     tcp   NA     \n",
       "27 1331988939 192.168.204.45  42997     192.168.23.1    28745     tcp   NA     \n",
       "29 1331918792 192.168.202.110 38566     192.168.229.252 32754     tcp   NA     \n",
       "31 1331901863 192.168.202.79  63805     192.168.229.252 45078     tcp   NA     \n",
       "   duration orig_bytes resp_bytes conn_state missed_bytes history  orig_pkts\n",
       "1    NA       NA        NA        RSTO       0            ShADadfR  8       \n",
       "13 0.01     7085       172        RSTO       0            ShADadfR 10       \n",
       "18   NA       NA        NA        REJ        0            Sr        1       \n",
       "27   NA       NA        NA        REJ        0            Sr        1       \n",
       "29   NA       NA        NA        REJ        0            Sr        1       \n",
       "31   NA       NA        NA        REJ        0            Sr        1       \n",
       "   orig_ip_bytes resp_pkts resp_ip_bytes\n",
       "1   813          9         8505         \n",
       "13 7497          9          544         \n",
       "18   48          1           40         \n",
       "27   60          1           40         \n",
       "29   48          1           40         \n",
       "31   44          1           40         "
      ]
     },
     "metadata": {},
     "output_type": "display_data"
    }
   ],
   "source": [
    "head(data_missing)"
   ]
  },
  {
   "cell_type": "code",
   "execution_count": 38,
   "metadata": {},
   "outputs": [
    {
     "name": "stdout",
     "output_type": "stream",
     "text": [
      "\n",
      " Variables sorted by number of missings: \n",
      "   Variable     Count\n",
      "    service 0.8701969\n",
      "   duration 0.8281670\n",
      " orig_bytes 0.8281670\n",
      " resp_bytes 0.8281670\n"
     ]
    },
    {
     "data": {
      "image/png": "[encoded data removed]",
      "text/plain": [
       "plot without title"
      ]
     },
     "metadata": {
      "image/png": {
       "height": 420,
       "width": 420
      }
     },
     "output_type": "display_data"
    }
   ],
   "source": [
    "mice_plot <- aggr(data_missing[,which(names(data_missing) %in% c(\"service\",\"duration\",\"orig_bytes\",\"resp_bytes\"))],\n",
    "                  numbers=TRUE, sortVars=TRUE,cex.axis=.7,gap=3)"
   ]
  },
  {
   "cell_type": "markdown",
   "metadata": {},
   "source": [
    "We can see that The new test dataset has almost the same proportions of missing values for three numeric variables as the original dataset, we can think that the distribution of the two datasets is approximate, so that the model which applies to test data also applies to actual data."
   ]
  },
  {
   "cell_type": "code",
   "execution_count": 44,
   "metadata": {},
   "outputs": [],
   "source": [
    "library(crunch)\n",
    "write.csv.gz(data_missing,\"C:\\\\Users\\\\xiao\\\\Documents\\\\GitHub\\\\DST-Assessment-02\\\\Data\\\\test_missing1.csv.gz\",row.names=FALSE)"
   ]
  },
  {
   "cell_type": "code",
   "execution_count": 45,
   "metadata": {},
   "outputs": [],
   "source": [
    "write.csv.gz(data_complete,\"C:\\\\Users\\\\xiao\\\\Documents\\\\GitHub\\\\DST-Assessment-02\\\\Data\\\\test_complete1.csv.gz\",row.names=FALSE)"
   ]
  }
 ],
 "metadata": {
  "kernelspec": {
   "display_name": "R",
   "language": "R",
   "name": "ir"
  },
  "language_info": {
   "codemirror_mode": "r",
   "file_extension": ".r",
   "mimetype": "text/x-r-source",
   "name": "R",
   "pygments_lexer": "r",
   "version": "4.0.2"
  }
 },
 "nbformat": 4,
 "nbformat_minor": 4
}
