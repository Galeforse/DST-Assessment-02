{
 "cells": [
  {
   "cell_type": "markdown",
   "metadata": {},
   "source": [
    "V2"
   ]
  },
  {
   "cell_type": "code",
   "execution_count": 198,
   "metadata": {},
   "outputs": [],
   "source": [
    "library(\"mice\")\n",
    "library(\"VIM\")\n",
    "library(\"crunch\")"
   ]
  },
  {
   "cell_type": "code",
   "execution_count": 199,
   "metadata": {},
   "outputs": [],
   "source": [
    "setwd(\"C:\\\\Users\\\\xiao\\\\Documents\\\\GitHub\\\\DST-Assessment-02\\\\Data\")\n",
    "conndata<-read.table(\"5_percent_data.csv.gz\", sep=\",\", header=TRUE, na.strings=c(\"\",\"NA\"))\n",
    "data.missing<-read.table(\"test_missing1.csv.gz\", sep=\",\", header=TRUE, na.strings=c(\"\",\"NA\"))\n",
    "data.complete<-read.table(\"test_complete1.csv.gz\", sep=\",\", header=TRUE, na.strings=c(\"\",\"NA\"))"
   ]
  },
  {
   "cell_type": "markdown",
   "metadata": {},
   "source": [
    "### Observing missing values"
   ]
  },
  {
   "cell_type": "code",
   "execution_count": 200,
   "metadata": {},
   "outputs": [
    {
     "data": {
      "text/html": [
       "<table>\n",
       "<caption>A data.frame: 10 × 17</caption>\n",
       "<thead>\n",
       "\t<tr><th></th><th scope=col>ts</th><th scope=col>orig_ip</th><th scope=col>orig_port</th><th scope=col>resp_ip</th><th scope=col>resp_port</th><th scope=col>proto</th><th scope=col>service</th><th scope=col>duration</th><th scope=col>orig_bytes</th><th scope=col>resp_bytes</th><th scope=col>conn_state</th><th scope=col>missed_bytes</th><th scope=col>history</th><th scope=col>orig_pkts</th><th scope=col>orig_ip_bytes</th><th scope=col>resp_pkts</th><th scope=col>resp_ip_bytes</th></tr>\n",
       "\t<tr><th></th><th scope=col>&lt;dbl&gt;</th><th scope=col>&lt;fct&gt;</th><th scope=col>&lt;dbl&gt;</th><th scope=col>&lt;fct&gt;</th><th scope=col>&lt;dbl&gt;</th><th scope=col>&lt;fct&gt;</th><th scope=col>&lt;chr&gt;</th><th scope=col>&lt;dbl&gt;</th><th scope=col>&lt;dbl&gt;</th><th scope=col>&lt;dbl&gt;</th><th scope=col>&lt;fct&gt;</th><th scope=col>&lt;dbl&gt;</th><th scope=col>&lt;fct&gt;</th><th scope=col>&lt;dbl&gt;</th><th scope=col>&lt;dbl&gt;</th><th scope=col>&lt;dbl&gt;</th><th scope=col>&lt;dbl&gt;</th></tr>\n",
       "</thead>\n",
       "<tbody>\n",
       "\t<tr><th scope=row>1</th><td>1331915797</td><td>192.168.202.102</td><td> 2633</td><td>192.168.23.202</td><td>   80</td><td>tcp</td><td>http</td><td>0.03</td><td>481</td><td>8133</td><td>RSTO</td><td>0</td><td>ShADadfR</td><td>8</td><td>813</td><td>9</td><td>8505</td></tr>\n",
       "\t<tr><th scope=row>2</th><td>1331923392</td><td>192.168.202.110</td><td>11574</td><td>192.168.23.253</td><td> 1724</td><td>tcp</td><td>NA  </td><td>  NA</td><td> NA</td><td>  NA</td><td>REJ </td><td>0</td><td>Sr      </td><td>1</td><td> 48</td><td>1</td><td>  40</td></tr>\n",
       "\t<tr><th scope=row>3</th><td>1331905217</td><td>192.168.202.83 </td><td>41267</td><td>192.168.206.44</td><td> 8010</td><td>tcp</td><td>NA  </td><td>  NA</td><td> NA</td><td>  NA</td><td>REJ </td><td>0</td><td>Sr      </td><td>1</td><td> 60</td><td>1</td><td>  40</td></tr>\n",
       "\t<tr><th scope=row>4</th><td>1331994375</td><td>192.168.202.83 </td><td>58519</td><td>192.168.206.44</td><td> 5214</td><td>tcp</td><td>NA  </td><td>  NA</td><td> NA</td><td>  NA</td><td>REJ </td><td>0</td><td>Sr      </td><td>1</td><td> 60</td><td>1</td><td>  40</td></tr>\n",
       "\t<tr><th scope=row>5</th><td>1331999507</td><td>192.168.202.140</td><td>25774</td><td>192.168.23.252</td><td> 1625</td><td>tcp</td><td>NA  </td><td>  NA</td><td> NA</td><td>  NA</td><td>S0  </td><td>0</td><td>S       </td><td>1</td><td> 48</td><td>0</td><td>   0</td></tr>\n",
       "\t<tr><th scope=row>6</th><td>1331935766</td><td>192.168.202.83 </td><td>60760</td><td>192.168.206.44</td><td> 1580</td><td>tcp</td><td>NA  </td><td>  NA</td><td> NA</td><td>  NA</td><td>REJ </td><td>0</td><td>Sr      </td><td>1</td><td> 60</td><td>1</td><td>  40</td></tr>\n",
       "\t<tr><th scope=row>7</th><td>1332008609</td><td>192.168.202.138</td><td>57224</td><td>192.168.27.1  </td><td>36350</td><td>tcp</td><td>NA  </td><td>  NA</td><td> NA</td><td>  NA</td><td>S0  </td><td>0</td><td>S       </td><td>1</td><td> 48</td><td>0</td><td>   0</td></tr>\n",
       "\t<tr><th scope=row>8</th><td>1331989030</td><td>192.168.204.45 </td><td>60918</td><td>192.168.23.1  </td><td>37723</td><td>tcp</td><td>NA  </td><td>  NA</td><td> NA</td><td>  NA</td><td>REJ </td><td>0</td><td>Sr      </td><td>1</td><td> 60</td><td>1</td><td>  40</td></tr>\n",
       "\t<tr><th scope=row>9</th><td>1331987304</td><td>192.168.202.83 </td><td>58071</td><td>192.168.206.44</td><td> 4899</td><td>tcp</td><td>NA  </td><td>  NA</td><td> NA</td><td>  NA</td><td>REJ </td><td>0</td><td>Sr      </td><td>1</td><td> 60</td><td>1</td><td>  40</td></tr>\n",
       "\t<tr><th scope=row>10</th><td>1331921567</td><td>192.168.202.110</td><td>46497</td><td>192.168.28.25 </td><td>64100</td><td>tcp</td><td>NA  </td><td>  NA</td><td> NA</td><td>  NA</td><td>S0  </td><td>0</td><td>S       </td><td>1</td><td> 48</td><td>0</td><td>   0</td></tr>\n",
       "</tbody>\n",
       "</table>\n"
      ],
      "text/latex": [
       "A data.frame: 10 × 17\n",
       "\\begin{tabular}{r|lllllllllllllllll}\n",
       "  & ts & orig\\_ip & orig\\_port & resp\\_ip & resp\\_port & proto & service & duration & orig\\_bytes & resp\\_bytes & conn\\_state & missed\\_bytes & history & orig\\_pkts & orig\\_ip\\_bytes & resp\\_pkts & resp\\_ip\\_bytes\\\\\n",
       "  & <dbl> & <fct> & <dbl> & <fct> & <dbl> & <fct> & <chr> & <dbl> & <dbl> & <dbl> & <fct> & <dbl> & <fct> & <dbl> & <dbl> & <dbl> & <dbl>\\\\\n",
       "\\hline\n",
       "\t1 & 1331915797 & 192.168.202.102 &  2633 & 192.168.23.202 &    80 & tcp & http & 0.03 & 481 & 8133 & RSTO & 0 & ShADadfR & 8 & 813 & 9 & 8505\\\\\n",
       "\t2 & 1331923392 & 192.168.202.110 & 11574 & 192.168.23.253 &  1724 & tcp & NA   &   NA &  NA &   NA & REJ  & 0 & Sr       & 1 &  48 & 1 &   40\\\\\n",
       "\t3 & 1331905217 & 192.168.202.83  & 41267 & 192.168.206.44 &  8010 & tcp & NA   &   NA &  NA &   NA & REJ  & 0 & Sr       & 1 &  60 & 1 &   40\\\\\n",
       "\t4 & 1331994375 & 192.168.202.83  & 58519 & 192.168.206.44 &  5214 & tcp & NA   &   NA &  NA &   NA & REJ  & 0 & Sr       & 1 &  60 & 1 &   40\\\\\n",
       "\t5 & 1331999507 & 192.168.202.140 & 25774 & 192.168.23.252 &  1625 & tcp & NA   &   NA &  NA &   NA & S0   & 0 & S        & 1 &  48 & 0 &    0\\\\\n",
       "\t6 & 1331935766 & 192.168.202.83  & 60760 & 192.168.206.44 &  1580 & tcp & NA   &   NA &  NA &   NA & REJ  & 0 & Sr       & 1 &  60 & 1 &   40\\\\\n",
       "\t7 & 1332008609 & 192.168.202.138 & 57224 & 192.168.27.1   & 36350 & tcp & NA   &   NA &  NA &   NA & S0   & 0 & S        & 1 &  48 & 0 &    0\\\\\n",
       "\t8 & 1331989030 & 192.168.204.45  & 60918 & 192.168.23.1   & 37723 & tcp & NA   &   NA &  NA &   NA & REJ  & 0 & Sr       & 1 &  60 & 1 &   40\\\\\n",
       "\t9 & 1331987304 & 192.168.202.83  & 58071 & 192.168.206.44 &  4899 & tcp & NA   &   NA &  NA &   NA & REJ  & 0 & Sr       & 1 &  60 & 1 &   40\\\\\n",
       "\t10 & 1331921567 & 192.168.202.110 & 46497 & 192.168.28.25  & 64100 & tcp & NA   &   NA &  NA &   NA & S0   & 0 & S        & 1 &  48 & 0 &    0\\\\\n",
       "\\end{tabular}\n"
      ],
      "text/markdown": [
       "\n",
       "A data.frame: 10 × 17\n",
       "\n",
       "| <!--/--> | ts &lt;dbl&gt; | orig_ip &lt;fct&gt; | orig_port &lt;dbl&gt; | resp_ip &lt;fct&gt; | resp_port &lt;dbl&gt; | proto &lt;fct&gt; | service &lt;chr&gt; | duration &lt;dbl&gt; | orig_bytes &lt;dbl&gt; | resp_bytes &lt;dbl&gt; | conn_state &lt;fct&gt; | missed_bytes &lt;dbl&gt; | history &lt;fct&gt; | orig_pkts &lt;dbl&gt; | orig_ip_bytes &lt;dbl&gt; | resp_pkts &lt;dbl&gt; | resp_ip_bytes &lt;dbl&gt; |\n",
       "|---|---|---|---|---|---|---|---|---|---|---|---|---|---|---|---|---|---|\n",
       "| 1 | 1331915797 | 192.168.202.102 |  2633 | 192.168.23.202 |    80 | tcp | http | 0.03 | 481 | 8133 | RSTO | 0 | ShADadfR | 8 | 813 | 9 | 8505 |\n",
       "| 2 | 1331923392 | 192.168.202.110 | 11574 | 192.168.23.253 |  1724 | tcp | NA   |   NA |  NA |   NA | REJ  | 0 | Sr       | 1 |  48 | 1 |   40 |\n",
       "| 3 | 1331905217 | 192.168.202.83  | 41267 | 192.168.206.44 |  8010 | tcp | NA   |   NA |  NA |   NA | REJ  | 0 | Sr       | 1 |  60 | 1 |   40 |\n",
       "| 4 | 1331994375 | 192.168.202.83  | 58519 | 192.168.206.44 |  5214 | tcp | NA   |   NA |  NA |   NA | REJ  | 0 | Sr       | 1 |  60 | 1 |   40 |\n",
       "| 5 | 1331999507 | 192.168.202.140 | 25774 | 192.168.23.252 |  1625 | tcp | NA   |   NA |  NA |   NA | S0   | 0 | S        | 1 |  48 | 0 |    0 |\n",
       "| 6 | 1331935766 | 192.168.202.83  | 60760 | 192.168.206.44 |  1580 | tcp | NA   |   NA |  NA |   NA | REJ  | 0 | Sr       | 1 |  60 | 1 |   40 |\n",
       "| 7 | 1332008609 | 192.168.202.138 | 57224 | 192.168.27.1   | 36350 | tcp | NA   |   NA |  NA |   NA | S0   | 0 | S        | 1 |  48 | 0 |    0 |\n",
       "| 8 | 1331989030 | 192.168.204.45  | 60918 | 192.168.23.1   | 37723 | tcp | NA   |   NA |  NA |   NA | REJ  | 0 | Sr       | 1 |  60 | 1 |   40 |\n",
       "| 9 | 1331987304 | 192.168.202.83  | 58071 | 192.168.206.44 |  4899 | tcp | NA   |   NA |  NA |   NA | REJ  | 0 | Sr       | 1 |  60 | 1 |   40 |\n",
       "| 10 | 1331921567 | 192.168.202.110 | 46497 | 192.168.28.25  | 64100 | tcp | NA   |   NA |  NA |   NA | S0   | 0 | S        | 1 |  48 | 0 |    0 |\n",
       "\n"
      ],
      "text/plain": [
       "   ts         orig_ip         orig_port resp_ip        resp_port proto service\n",
       "1  1331915797 192.168.202.102  2633     192.168.23.202    80     tcp   http   \n",
       "2  1331923392 192.168.202.110 11574     192.168.23.253  1724     tcp   NA     \n",
       "3  1331905217 192.168.202.83  41267     192.168.206.44  8010     tcp   NA     \n",
       "4  1331994375 192.168.202.83  58519     192.168.206.44  5214     tcp   NA     \n",
       "5  1331999507 192.168.202.140 25774     192.168.23.252  1625     tcp   NA     \n",
       "6  1331935766 192.168.202.83  60760     192.168.206.44  1580     tcp   NA     \n",
       "7  1332008609 192.168.202.138 57224     192.168.27.1   36350     tcp   NA     \n",
       "8  1331989030 192.168.204.45  60918     192.168.23.1   37723     tcp   NA     \n",
       "9  1331987304 192.168.202.83  58071     192.168.206.44  4899     tcp   NA     \n",
       "10 1331921567 192.168.202.110 46497     192.168.28.25  64100     tcp   NA     \n",
       "   duration orig_bytes resp_bytes conn_state missed_bytes history  orig_pkts\n",
       "1  0.03     481        8133       RSTO       0            ShADadfR 8        \n",
       "2    NA      NA          NA       REJ        0            Sr       1        \n",
       "3    NA      NA          NA       REJ        0            Sr       1        \n",
       "4    NA      NA          NA       REJ        0            Sr       1        \n",
       "5    NA      NA          NA       S0         0            S        1        \n",
       "6    NA      NA          NA       REJ        0            Sr       1        \n",
       "7    NA      NA          NA       S0         0            S        1        \n",
       "8    NA      NA          NA       REJ        0            Sr       1        \n",
       "9    NA      NA          NA       REJ        0            Sr       1        \n",
       "10   NA      NA          NA       S0         0            S        1        \n",
       "   orig_ip_bytes resp_pkts resp_ip_bytes\n",
       "1  813           9         8505         \n",
       "2   48           1           40         \n",
       "3   60           1           40         \n",
       "4   60           1           40         \n",
       "5   48           0            0         \n",
       "6   60           1           40         \n",
       "7   48           0            0         \n",
       "8   60           1           40         \n",
       "9   60           1           40         \n",
       "10  48           0            0         "
      ]
     },
     "metadata": {},
     "output_type": "display_data"
    }
   ],
   "source": [
    "for(i in c(3,5,8,9,10,12,14:17)) conndata[,i]=as.numeric(conndata[,i])\n",
    "for(i in c(2,4,6,11,13)) conndata[,i]=as.factor(conndata[,i])\n",
    "head(conndata,10)"
   ]
  },
  {
   "cell_type": "code",
   "execution_count": 22,
   "metadata": {
    "scrolled": true
   },
   "outputs": [
    {
     "data": {
      "text/html": [
       "<table>\n",
       "<caption>A matrix: 5 × 18 of type dbl</caption>\n",
       "<thead>\n",
       "\t<tr><th></th><th scope=col>ts</th><th scope=col>orig_ip</th><th scope=col>orig_port</th><th scope=col>resp_ip</th><th scope=col>resp_port</th><th scope=col>proto</th><th scope=col>conn_state</th><th scope=col>missed_bytes</th><th scope=col>history</th><th scope=col>orig_pkts</th><th scope=col>orig_ip_bytes</th><th scope=col>resp_pkts</th><th scope=col>resp_ip_bytes</th><th scope=col>duration</th><th scope=col>orig_bytes</th><th scope=col>resp_bytes</th><th scope=col>service</th><th scope=col></th></tr>\n",
       "</thead>\n",
       "<tbody>\n",
       "\t<tr><th scope=row>25309</th><td>1</td><td>1</td><td>1</td><td>1</td><td>1</td><td>1</td><td>1</td><td>1</td><td>1</td><td>1</td><td>1</td><td>1</td><td>1</td><td>     1</td><td>     1</td><td>     1</td><td>      1</td><td>      0</td></tr>\n",
       "\t<tr><th scope=row>169671</th><td>1</td><td>1</td><td>1</td><td>1</td><td>1</td><td>1</td><td>1</td><td>1</td><td>1</td><td>1</td><td>1</td><td>1</td><td>1</td><td>     1</td><td>     1</td><td>     1</td><td>      0</td><td>      1</td></tr>\n",
       "\t<tr><th scope=row>8195</th><td>1</td><td>1</td><td>1</td><td>1</td><td>1</td><td>1</td><td>1</td><td>1</td><td>1</td><td>1</td><td>1</td><td>1</td><td>1</td><td>     0</td><td>     0</td><td>     0</td><td>      1</td><td>      3</td></tr>\n",
       "\t<tr><th scope=row>931542</th><td>1</td><td>1</td><td>1</td><td>1</td><td>1</td><td>1</td><td>1</td><td>1</td><td>1</td><td>1</td><td>1</td><td>1</td><td>1</td><td>     0</td><td>     0</td><td>     0</td><td>      0</td><td>      4</td></tr>\n",
       "\t<tr><th scope=row></th><td>0</td><td>0</td><td>0</td><td>0</td><td>0</td><td>0</td><td>0</td><td>0</td><td>0</td><td>0</td><td>0</td><td>0</td><td>0</td><td>939737</td><td>939737</td><td>939737</td><td>1101213</td><td>3920424</td></tr>\n",
       "</tbody>\n",
       "</table>\n"
      ],
      "text/latex": [
       "A matrix: 5 × 18 of type dbl\n",
       "\\begin{tabular}{r|llllllllllllllllll}\n",
       "  & ts & orig\\_ip & orig\\_port & resp\\_ip & resp\\_port & proto & conn\\_state & missed\\_bytes & history & orig\\_pkts & orig\\_ip\\_bytes & resp\\_pkts & resp\\_ip\\_bytes & duration & orig\\_bytes & resp\\_bytes & service & \\\\\n",
       "\\hline\n",
       "\t25309 & 1 & 1 & 1 & 1 & 1 & 1 & 1 & 1 & 1 & 1 & 1 & 1 & 1 &      1 &      1 &      1 &       1 &       0\\\\\n",
       "\t169671 & 1 & 1 & 1 & 1 & 1 & 1 & 1 & 1 & 1 & 1 & 1 & 1 & 1 &      1 &      1 &      1 &       0 &       1\\\\\n",
       "\t8195 & 1 & 1 & 1 & 1 & 1 & 1 & 1 & 1 & 1 & 1 & 1 & 1 & 1 &      0 &      0 &      0 &       1 &       3\\\\\n",
       "\t931542 & 1 & 1 & 1 & 1 & 1 & 1 & 1 & 1 & 1 & 1 & 1 & 1 & 1 &      0 &      0 &      0 &       0 &       4\\\\\n",
       "\t & 0 & 0 & 0 & 0 & 0 & 0 & 0 & 0 & 0 & 0 & 0 & 0 & 0 & 939737 & 939737 & 939737 & 1101213 & 3920424\\\\\n",
       "\\end{tabular}\n"
      ],
      "text/markdown": [
       "\n",
       "A matrix: 5 × 18 of type dbl\n",
       "\n",
       "| <!--/--> | ts | orig_ip | orig_port | resp_ip | resp_port | proto | conn_state | missed_bytes | history | orig_pkts | orig_ip_bytes | resp_pkts | resp_ip_bytes | duration | orig_bytes | resp_bytes | service | <!----> |\n",
       "|---|---|---|---|---|---|---|---|---|---|---|---|---|---|---|---|---|---|---|\n",
       "| 25309 | 1 | 1 | 1 | 1 | 1 | 1 | 1 | 1 | 1 | 1 | 1 | 1 | 1 |      1 |      1 |      1 |       1 |       0 |\n",
       "| 169671 | 1 | 1 | 1 | 1 | 1 | 1 | 1 | 1 | 1 | 1 | 1 | 1 | 1 |      1 |      1 |      1 |       0 |       1 |\n",
       "| 8195 | 1 | 1 | 1 | 1 | 1 | 1 | 1 | 1 | 1 | 1 | 1 | 1 | 1 |      0 |      0 |      0 |       1 |       3 |\n",
       "| 931542 | 1 | 1 | 1 | 1 | 1 | 1 | 1 | 1 | 1 | 1 | 1 | 1 | 1 |      0 |      0 |      0 |       0 |       4 |\n",
       "| <!----> | 0 | 0 | 0 | 0 | 0 | 0 | 0 | 0 | 0 | 0 | 0 | 0 | 0 | 939737 | 939737 | 939737 | 1101213 | 3920424 |\n",
       "\n"
      ],
      "text/plain": [
       "       ts orig_ip orig_port resp_ip resp_port proto conn_state missed_bytes\n",
       "25309  1  1       1         1       1         1     1          1           \n",
       "169671 1  1       1         1       1         1     1          1           \n",
       "8195   1  1       1         1       1         1     1          1           \n",
       "931542 1  1       1         1       1         1     1          1           \n",
       "       0  0       0         0       0         0     0          0           \n",
       "       history orig_pkts orig_ip_bytes resp_pkts resp_ip_bytes duration\n",
       "25309  1       1         1             1         1                  1  \n",
       "169671 1       1         1             1         1                  1  \n",
       "8195   1       1         1             1         1                  0  \n",
       "931542 1       1         1             1         1                  0  \n",
       "       0       0         0             0         0             939737  \n",
       "       orig_bytes resp_bytes service        \n",
       "25309       1          1           1       0\n",
       "169671      1          1           0       1\n",
       "8195        0          0           1       3\n",
       "931542      0          0           0       4\n",
       "       939737     939737     1101213 3920424"
      ]
     },
     "metadata": {},
     "output_type": "display_data"
    },
    {
     "data": {
      "image/png": "[encoded data removed]",
      "text/plain": [
       "plot without title"
      ]
     },
     "metadata": {
      "image/png": {
       "height": 420,
       "width": 420
      }
     },
     "output_type": "display_data"
    }
   ],
   "source": [
    "md.pattern(conndata)"
   ]
  },
  {
   "cell_type": "code",
   "execution_count": 23,
   "metadata": {},
   "outputs": [
    {
     "name": "stdout",
     "output_type": "stream",
     "text": [
      "\n",
      " Variables sorted by number of missings: \n",
      "   Variable     Count\n",
      "    service 0.9704737\n",
      "   duration 0.8281686\n",
      " orig_bytes 0.8281686\n",
      " resp_bytes 0.8281686\n"
     ]
    },
    {
     "data": {
      "image/png": "[encoded data removed]",
      "text/plain": [
       "plot without title"
      ]
     },
     "metadata": {
      "image/png": {
       "height": 420,
       "width": 420
      }
     },
     "output_type": "display_data"
    }
   ],
   "source": [
    "aggr(conndata[,which(names(conndata) %in% c(\"service\",\"duration\",\"orig_bytes\",\"resp_bytes\"))],\n",
    "                  numbers=TRUE, sortVars=TRUE,cex.axis=.7,gap=3)"
   ]
  },
  {
   "cell_type": "code",
   "execution_count": 201,
   "metadata": {},
   "outputs": [
    {
     "data": {
      "text/html": [
       "<table>\n",
       "<caption>A data.frame: 6 × 17</caption>\n",
       "<thead>\n",
       "\t<tr><th></th><th scope=col>ts</th><th scope=col>orig_ip</th><th scope=col>orig_port</th><th scope=col>resp_ip</th><th scope=col>resp_port</th><th scope=col>proto</th><th scope=col>service</th><th scope=col>duration</th><th scope=col>orig_bytes</th><th scope=col>resp_bytes</th><th scope=col>conn_state</th><th scope=col>missed_bytes</th><th scope=col>history</th><th scope=col>orig_pkts</th><th scope=col>orig_ip_bytes</th><th scope=col>resp_pkts</th><th scope=col>resp_ip_bytes</th></tr>\n",
       "\t<tr><th></th><th scope=col>&lt;dbl&gt;</th><th scope=col>&lt;fct&gt;</th><th scope=col>&lt;dbl&gt;</th><th scope=col>&lt;fct&gt;</th><th scope=col>&lt;dbl&gt;</th><th scope=col>&lt;fct&gt;</th><th scope=col>&lt;chr&gt;</th><th scope=col>&lt;dbl&gt;</th><th scope=col>&lt;dbl&gt;</th><th scope=col>&lt;dbl&gt;</th><th scope=col>&lt;fct&gt;</th><th scope=col>&lt;dbl&gt;</th><th scope=col>&lt;fct&gt;</th><th scope=col>&lt;dbl&gt;</th><th scope=col>&lt;dbl&gt;</th><th scope=col>&lt;dbl&gt;</th><th scope=col>&lt;dbl&gt;</th></tr>\n",
       "</thead>\n",
       "<tbody>\n",
       "\t<tr><th scope=row>1</th><td>1331915797</td><td>192.168.202.102</td><td> 2633</td><td>192.168.23.202 </td><td>   80</td><td>tcp</td><td>http</td><td>0.03</td><td> 481</td><td>8133</td><td>RSTO</td><td>0</td><td>ShADadfR</td><td> 8</td><td> 813</td><td>9</td><td>8505</td></tr>\n",
       "\t<tr><th scope=row>2</th><td>1331921224</td><td>192.168.202.102</td><td> 4094</td><td>192.168.24.101 </td><td>   80</td><td>tcp</td><td>NA  </td><td>0.01</td><td>7085</td><td> 172</td><td>RSTO</td><td>0</td><td>ShADadfR</td><td>10</td><td>7497</td><td>9</td><td> 544</td></tr>\n",
       "\t<tr><th scope=row>3</th><td>1331903910</td><td>192.168.202.110</td><td>16066</td><td>192.168.27.152 </td><td>12486</td><td>tcp</td><td>NA  </td><td>0.01</td><td>   0</td><td>   0</td><td>REJ </td><td>0</td><td>Sr      </td><td> 1</td><td>  48</td><td>1</td><td>  40</td></tr>\n",
       "\t<tr><th scope=row>4</th><td>1331988939</td><td>192.168.204.45 </td><td>42997</td><td>192.168.23.1   </td><td>28745</td><td>tcp</td><td>NA  </td><td>0.01</td><td>   0</td><td>   0</td><td>REJ </td><td>0</td><td>Sr      </td><td> 1</td><td>  60</td><td>1</td><td>  40</td></tr>\n",
       "\t<tr><th scope=row>5</th><td>1331918792</td><td>192.168.202.110</td><td>38566</td><td>192.168.229.252</td><td>32754</td><td>tcp</td><td>NA  </td><td>0.20</td><td>   0</td><td>   0</td><td>REJ </td><td>0</td><td>Sr      </td><td> 1</td><td>  48</td><td>1</td><td>  40</td></tr>\n",
       "\t<tr><th scope=row>6</th><td>1331901863</td><td>192.168.202.79 </td><td>63805</td><td>192.168.229.252</td><td>45078</td><td>tcp</td><td>NA  </td><td>0.06</td><td>   0</td><td>   0</td><td>REJ </td><td>0</td><td>Sr      </td><td> 1</td><td>  44</td><td>1</td><td>  40</td></tr>\n",
       "</tbody>\n",
       "</table>\n"
      ],
      "text/latex": [
       "A data.frame: 6 × 17\n",
       "\\begin{tabular}{r|lllllllllllllllll}\n",
       "  & ts & orig\\_ip & orig\\_port & resp\\_ip & resp\\_port & proto & service & duration & orig\\_bytes & resp\\_bytes & conn\\_state & missed\\_bytes & history & orig\\_pkts & orig\\_ip\\_bytes & resp\\_pkts & resp\\_ip\\_bytes\\\\\n",
       "  & <dbl> & <fct> & <dbl> & <fct> & <dbl> & <fct> & <chr> & <dbl> & <dbl> & <dbl> & <fct> & <dbl> & <fct> & <dbl> & <dbl> & <dbl> & <dbl>\\\\\n",
       "\\hline\n",
       "\t1 & 1331915797 & 192.168.202.102 &  2633 & 192.168.23.202  &    80 & tcp & http & 0.03 &  481 & 8133 & RSTO & 0 & ShADadfR &  8 &  813 & 9 & 8505\\\\\n",
       "\t2 & 1331921224 & 192.168.202.102 &  4094 & 192.168.24.101  &    80 & tcp & NA   & 0.01 & 7085 &  172 & RSTO & 0 & ShADadfR & 10 & 7497 & 9 &  544\\\\\n",
       "\t3 & 1331903910 & 192.168.202.110 & 16066 & 192.168.27.152  & 12486 & tcp & NA   & 0.01 &    0 &    0 & REJ  & 0 & Sr       &  1 &   48 & 1 &   40\\\\\n",
       "\t4 & 1331988939 & 192.168.204.45  & 42997 & 192.168.23.1    & 28745 & tcp & NA   & 0.01 &    0 &    0 & REJ  & 0 & Sr       &  1 &   60 & 1 &   40\\\\\n",
       "\t5 & 1331918792 & 192.168.202.110 & 38566 & 192.168.229.252 & 32754 & tcp & NA   & 0.20 &    0 &    0 & REJ  & 0 & Sr       &  1 &   48 & 1 &   40\\\\\n",
       "\t6 & 1331901863 & 192.168.202.79  & 63805 & 192.168.229.252 & 45078 & tcp & NA   & 0.06 &    0 &    0 & REJ  & 0 & Sr       &  1 &   44 & 1 &   40\\\\\n",
       "\\end{tabular}\n"
      ],
      "text/markdown": [
       "\n",
       "A data.frame: 6 × 17\n",
       "\n",
       "| <!--/--> | ts &lt;dbl&gt; | orig_ip &lt;fct&gt; | orig_port &lt;dbl&gt; | resp_ip &lt;fct&gt; | resp_port &lt;dbl&gt; | proto &lt;fct&gt; | service &lt;chr&gt; | duration &lt;dbl&gt; | orig_bytes &lt;dbl&gt; | resp_bytes &lt;dbl&gt; | conn_state &lt;fct&gt; | missed_bytes &lt;dbl&gt; | history &lt;fct&gt; | orig_pkts &lt;dbl&gt; | orig_ip_bytes &lt;dbl&gt; | resp_pkts &lt;dbl&gt; | resp_ip_bytes &lt;dbl&gt; |\n",
       "|---|---|---|---|---|---|---|---|---|---|---|---|---|---|---|---|---|---|\n",
       "| 1 | 1331915797 | 192.168.202.102 |  2633 | 192.168.23.202  |    80 | tcp | http | 0.03 |  481 | 8133 | RSTO | 0 | ShADadfR |  8 |  813 | 9 | 8505 |\n",
       "| 2 | 1331921224 | 192.168.202.102 |  4094 | 192.168.24.101  |    80 | tcp | NA   | 0.01 | 7085 |  172 | RSTO | 0 | ShADadfR | 10 | 7497 | 9 |  544 |\n",
       "| 3 | 1331903910 | 192.168.202.110 | 16066 | 192.168.27.152  | 12486 | tcp | NA   | 0.01 |    0 |    0 | REJ  | 0 | Sr       |  1 |   48 | 1 |   40 |\n",
       "| 4 | 1331988939 | 192.168.204.45  | 42997 | 192.168.23.1    | 28745 | tcp | NA   | 0.01 |    0 |    0 | REJ  | 0 | Sr       |  1 |   60 | 1 |   40 |\n",
       "| 5 | 1331918792 | 192.168.202.110 | 38566 | 192.168.229.252 | 32754 | tcp | NA   | 0.20 |    0 |    0 | REJ  | 0 | Sr       |  1 |   48 | 1 |   40 |\n",
       "| 6 | 1331901863 | 192.168.202.79  | 63805 | 192.168.229.252 | 45078 | tcp | NA   | 0.06 |    0 |    0 | REJ  | 0 | Sr       |  1 |   44 | 1 |   40 |\n",
       "\n"
      ],
      "text/plain": [
       "  ts         orig_ip         orig_port resp_ip         resp_port proto service\n",
       "1 1331915797 192.168.202.102  2633     192.168.23.202     80     tcp   http   \n",
       "2 1331921224 192.168.202.102  4094     192.168.24.101     80     tcp   NA     \n",
       "3 1331903910 192.168.202.110 16066     192.168.27.152  12486     tcp   NA     \n",
       "4 1331988939 192.168.204.45  42997     192.168.23.1    28745     tcp   NA     \n",
       "5 1331918792 192.168.202.110 38566     192.168.229.252 32754     tcp   NA     \n",
       "6 1331901863 192.168.202.79  63805     192.168.229.252 45078     tcp   NA     \n",
       "  duration orig_bytes resp_bytes conn_state missed_bytes history  orig_pkts\n",
       "1 0.03      481       8133       RSTO       0            ShADadfR  8       \n",
       "2 0.01     7085        172       RSTO       0            ShADadfR 10       \n",
       "3 0.01        0          0       REJ        0            Sr        1       \n",
       "4 0.01        0          0       REJ        0            Sr        1       \n",
       "5 0.20        0          0       REJ        0            Sr        1       \n",
       "6 0.06        0          0       REJ        0            Sr        1       \n",
       "  orig_ip_bytes resp_pkts resp_ip_bytes\n",
       "1  813          9         8505         \n",
       "2 7497          9          544         \n",
       "3   48          1           40         \n",
       "4   60          1           40         \n",
       "5   48          1           40         \n",
       "6   44          1           40         "
      ]
     },
     "metadata": {},
     "output_type": "display_data"
    }
   ],
   "source": [
    "for(i in c(3,5,8,9,10,12,14:17)) data.complete[,i]=as.numeric(data.complete[,i])\n",
    "for(i in c(2,4,6,11,13)) data.complete[,i]=as.factor(data.complete[,i])\n",
    "head(data.complete)"
   ]
  },
  {
   "cell_type": "code",
   "execution_count": 25,
   "metadata": {},
   "outputs": [
    {
     "name": "stdout",
     "output_type": "stream",
     "text": [
      "\n",
      " Variables sorted by number of missings: \n",
      "   Variable     Count\n",
      "    service 0.8701969\n",
      "   duration 0.0000000\n",
      " orig_bytes 0.0000000\n",
      " resp_bytes 0.0000000\n"
     ]
    },
    {
     "data": {
      "image/png": "[encoded data removed]",
      "text/plain": [
       "plot without title"
      ]
     },
     "metadata": {
      "image/png": {
       "height": 420,
       "width": 420
      }
     },
     "output_type": "display_data"
    }
   ],
   "source": [
    "aggr(data.complete[,which(names(data.complete) %in% c(\"service\",\"duration\",\"orig_bytes\",\"resp_bytes\"))],\n",
    "                  numbers=TRUE, sortVars=TRUE,cex.axis=.7,gap=3)"
   ]
  },
  {
   "cell_type": "code",
   "execution_count": 63,
   "metadata": {},
   "outputs": [
    {
     "name": "stderr",
     "output_type": "stream",
     "text": [
      "Warning message in xy.coords(x, y, xlabel, ylabel, log):\n",
      "\"83 y values <= 0 omitted from logarithmic plot\"\n"
     ]
    },
    {
     "data": {
      "text/html": [
       "<table>\n",
       "<caption>A matrix: 2 × 113 of type dbl</caption>\n",
       "<tbody>\n",
       "\t<tr><th scope=row>breaks</th><td>   100</td><td>200</td><td>300</td><td>400</td><td>500</td><td>600</td><td>700</td><td>800</td><td>900</td><td>1000</td><td>...</td><td>10400</td><td>10500</td><td>10600</td><td>10700</td><td>10800</td><td>10900</td><td>11000</td><td>11100</td><td>11200</td><td>11300</td></tr>\n",
       "\t<tr><th scope=row>counts</th><td>194637</td><td>151</td><td> 40</td><td> 22</td><td> 22</td><td> 17</td><td> 17</td><td> 12</td><td> 10</td><td>  14</td><td>...</td><td>    0</td><td>    0</td><td>    0</td><td>    0</td><td>    0</td><td>    0</td><td>    0</td><td>    0</td><td>    0</td><td>    1</td></tr>\n",
       "</tbody>\n",
       "</table>\n"
      ],
      "text/latex": [
       "A matrix: 2 × 113 of type dbl\n",
       "\\begin{tabular}{r|lllllllllllllllllllll}\n",
       "\tbreaks &    100 & 200 & 300 & 400 & 500 & 600 & 700 & 800 & 900 & 1000 & ... & 10400 & 10500 & 10600 & 10700 & 10800 & 10900 & 11000 & 11100 & 11200 & 11300\\\\\n",
       "\tcounts & 194637 & 151 &  40 &  22 &  22 &  17 &  17 &  12 &  10 &   14 & ... &     0 &     0 &     0 &     0 &     0 &     0 &     0 &     0 &     0 &     1\\\\\n",
       "\\end{tabular}\n"
      ],
      "text/markdown": [
       "\n",
       "A matrix: 2 × 113 of type dbl\n",
       "\n",
       "| breaks |    100 | 200 | 300 | 400 | 500 | 600 | 700 | 800 | 900 | 1000 | ... | 10400 | 10500 | 10600 | 10700 | 10800 | 10900 | 11000 | 11100 | 11200 | 11300 |\n",
       "| counts | 194637 | 151 |  40 |  22 |  22 |  17 |  17 |  12 |  10 |   14 | ... |     0 |     0 |     0 |     0 |     0 |     0 |     0 |     0 |     0 |     1 |\n",
       "\n"
      ],
      "text/plain": [
       "       [,1]   [,2] [,3] [,4] [,5] [,6] [,7] [,8] [,9] [,10] [,11] [,12] [,13]\n",
       "breaks    100 200  300  400  500  600  700  800  900  1000  ...   10400 10500\n",
       "counts 194637 151   40   22   22   17   17   12   10    14  ...       0     0\n",
       "       [,14] [,15] [,16] [,17] [,18] [,19] [,20] [,21]\n",
       "breaks 10600 10700 10800 10900 11000 11100 11200 11300\n",
       "counts     0     0     0     0     0     0     0     1"
      ]
     },
     "metadata": {},
     "output_type": "display_data"
    },
    {
     "data": {
      "image/png": "[encoded data removed]",
      "text/plain": [
       "plot without title"
      ]
     },
     "metadata": {
      "image/png": {
       "height": 420,
       "width": 420
      }
     },
     "output_type": "display_data"
    }
   ],
   "source": [
    "nbreaks=101 \n",
    "thist1=hist(data.complete[,\"duration\"],breaks=nbreaks,plot=FALSE)\n",
    "plot(thist1$mids,thist1$density,log=\"y\",type=\"b\",\n",
    "     xlab=\"duration\",ylab=\"histogram density\")\n",
    "\n",
    "breaks1<-thist1$breaks[-1]\n",
    "#counts1<-thist1$counts\n",
    "df1<-data.frame(breaks=breaks1,counts=thist1$counts)\n",
    "t(df1)"
   ]
  },
  {
   "cell_type": "code",
   "execution_count": 64,
   "metadata": {},
   "outputs": [
    {
     "name": "stderr",
     "output_type": "stream",
     "text": [
      "Warning message in xy.coords(x, y, xlabel, ylabel, log):\n",
      "\"70 y values <= 0 omitted from logarithmic plot\"\n"
     ]
    },
    {
     "data": {
      "text/html": [
       "<table>\n",
       "<caption>A matrix: 2 × 109 of type dbl</caption>\n",
       "<tbody>\n",
       "\t<tr><th scope=row>breaks</th><td>50000000</td><td>1e+08</td><td>1.5e+08</td><td>2e+08</td><td>2.5e+08</td><td>3e+08</td><td>3.5e+08</td><td>4e+08</td><td>4.5e+08</td><td>5e+08</td><td>...</td><td>5e+09</td><td>5.05e+09</td><td>5.1e+09</td><td>5.15e+09</td><td>5.2e+09</td><td>5.25e+09</td><td>5.3e+09</td><td>5.35e+09</td><td>5.4e+09</td><td>5.45e+09</td></tr>\n",
       "\t<tr><th scope=row>counts</th><td>  194914</td><td>0e+00</td><td>2.0e+00</td><td>2e+00</td><td>3.0e+00</td><td>1e+00</td><td>1.0e+00</td><td>3e+00</td><td>3.0e+00</td><td>1e+00</td><td>...</td><td>0e+00</td><td>0.00e+00</td><td>0.0e+00</td><td>0.00e+00</td><td>0.0e+00</td><td>0.00e+00</td><td>0.0e+00</td><td>0.00e+00</td><td>0.0e+00</td><td>1.00e+00</td></tr>\n",
       "</tbody>\n",
       "</table>\n"
      ],
      "text/latex": [
       "A matrix: 2 × 109 of type dbl\n",
       "\\begin{tabular}{r|lllllllllllllllllllll}\n",
       "\tbreaks & 50000000 & 1e+08 & 1.5e+08 & 2e+08 & 2.5e+08 & 3e+08 & 3.5e+08 & 4e+08 & 4.5e+08 & 5e+08 & ... & 5e+09 & 5.05e+09 & 5.1e+09 & 5.15e+09 & 5.2e+09 & 5.25e+09 & 5.3e+09 & 5.35e+09 & 5.4e+09 & 5.45e+09\\\\\n",
       "\tcounts &   194914 & 0e+00 & 2.0e+00 & 2e+00 & 3.0e+00 & 1e+00 & 1.0e+00 & 3e+00 & 3.0e+00 & 1e+00 & ... & 0e+00 & 0.00e+00 & 0.0e+00 & 0.00e+00 & 0.0e+00 & 0.00e+00 & 0.0e+00 & 0.00e+00 & 0.0e+00 & 1.00e+00\\\\\n",
       "\\end{tabular}\n"
      ],
      "text/markdown": [
       "\n",
       "A matrix: 2 × 109 of type dbl\n",
       "\n",
       "| breaks | 50000000 | 1e+08 | 1.5e+08 | 2e+08 | 2.5e+08 | 3e+08 | 3.5e+08 | 4e+08 | 4.5e+08 | 5e+08 | ... | 5e+09 | 5.05e+09 | 5.1e+09 | 5.15e+09 | 5.2e+09 | 5.25e+09 | 5.3e+09 | 5.35e+09 | 5.4e+09 | 5.45e+09 |\n",
       "| counts |   194914 | 0e+00 | 2.0e+00 | 2e+00 | 3.0e+00 | 1e+00 | 1.0e+00 | 3e+00 | 3.0e+00 | 1e+00 | ... | 0e+00 | 0.00e+00 | 0.0e+00 | 0.00e+00 | 0.0e+00 | 0.00e+00 | 0.0e+00 | 0.00e+00 | 0.0e+00 | 1.00e+00 |\n",
       "\n"
      ],
      "text/plain": [
       "       [,1]     [,2]  [,3]    [,4]  [,5]    [,6]  [,7]    [,8]  [,9]    [,10]\n",
       "breaks 50000000 1e+08 1.5e+08 2e+08 2.5e+08 3e+08 3.5e+08 4e+08 4.5e+08 5e+08\n",
       "counts   194914 0e+00 2.0e+00 2e+00 3.0e+00 1e+00 1.0e+00 3e+00 3.0e+00 1e+00\n",
       "       [,11] [,12] [,13]    [,14]   [,15]    [,16]   [,17]    [,18]   [,19]   \n",
       "breaks ...   5e+09 5.05e+09 5.1e+09 5.15e+09 5.2e+09 5.25e+09 5.3e+09 5.35e+09\n",
       "counts ...   0e+00 0.00e+00 0.0e+00 0.00e+00 0.0e+00 0.00e+00 0.0e+00 0.00e+00\n",
       "       [,20]   [,21]   \n",
       "breaks 5.4e+09 5.45e+09\n",
       "counts 0.0e+00 1.00e+00"
      ]
     },
     "metadata": {},
     "output_type": "display_data"
    },
    {
     "data": {
      "image/png": "[encoded data removed]",
      "text/plain": [
       "plot without title"
      ]
     },
     "metadata": {
      "image/png": {
       "height": 420,
       "width": 420
      }
     },
     "output_type": "display_data"
    }
   ],
   "source": [
    "thist2=hist(data.complete[,\"orig_bytes\"],breaks=nbreaks,plot=FALSE)\n",
    "plot(thist2$mids,thist2$density,log=\"y\",type=\"b\",\n",
    "     xlab=\"orig_bytes\",ylab=\"histogram density\")\n",
    "\n",
    "breaks2<-thist2$breaks[-1]\n",
    "df2<-data.frame(breaks=breaks2,counts=thist2$counts)\n",
    "t(df2)"
   ]
  },
  {
   "cell_type": "code",
   "execution_count": 65,
   "metadata": {},
   "outputs": [
    {
     "name": "stderr",
     "output_type": "stream",
     "text": [
      "Warning message in xy.coords(x, y, xlabel, ylabel, log):\n",
      "\"61 y values <= 0 omitted from logarithmic plot\"\n"
     ]
    },
    {
     "data": {
      "text/html": [
       "<table>\n",
       "<caption>A matrix: 2 × 72 of type dbl</caption>\n",
       "<tbody>\n",
       "\t<tr><th scope=row>breaks</th><td>500000</td><td>1000000</td><td>1500000</td><td>2e+06</td><td>2500000</td><td>3e+06</td><td>3500000</td><td>4e+06</td><td>4500000</td><td>5e+06</td><td>...</td><td>31500000</td><td>3.2e+07</td><td>32500000</td><td>3.3e+07</td><td>33500000</td><td>3.4e+07</td><td>34500000</td><td>3.5e+07</td><td>35500000</td><td>3.6e+07</td></tr>\n",
       "\t<tr><th scope=row>counts</th><td>194952</td><td>     13</td><td>      5</td><td>1e+00</td><td>      3</td><td>0e+00</td><td>      1</td><td>0e+00</td><td>      1</td><td>1e+00</td><td>...</td><td>       0</td><td>0.0e+00</td><td>       0</td><td>0.0e+00</td><td>       0</td><td>0.0e+00</td><td>       0</td><td>0.0e+00</td><td>       0</td><td>1.0e+00</td></tr>\n",
       "</tbody>\n",
       "</table>\n"
      ],
      "text/latex": [
       "A matrix: 2 × 72 of type dbl\n",
       "\\begin{tabular}{r|lllllllllllllllllllll}\n",
       "\tbreaks & 500000 & 1000000 & 1500000 & 2e+06 & 2500000 & 3e+06 & 3500000 & 4e+06 & 4500000 & 5e+06 & ... & 31500000 & 3.2e+07 & 32500000 & 3.3e+07 & 33500000 & 3.4e+07 & 34500000 & 3.5e+07 & 35500000 & 3.6e+07\\\\\n",
       "\tcounts & 194952 &      13 &       5 & 1e+00 &       3 & 0e+00 &       1 & 0e+00 &       1 & 1e+00 & ... &        0 & 0.0e+00 &        0 & 0.0e+00 &        0 & 0.0e+00 &        0 & 0.0e+00 &        0 & 1.0e+00\\\\\n",
       "\\end{tabular}\n"
      ],
      "text/markdown": [
       "\n",
       "A matrix: 2 × 72 of type dbl\n",
       "\n",
       "| breaks | 500000 | 1000000 | 1500000 | 2e+06 | 2500000 | 3e+06 | 3500000 | 4e+06 | 4500000 | 5e+06 | ... | 31500000 | 3.2e+07 | 32500000 | 3.3e+07 | 33500000 | 3.4e+07 | 34500000 | 3.5e+07 | 35500000 | 3.6e+07 |\n",
       "| counts | 194952 |      13 |       5 | 1e+00 |       3 | 0e+00 |       1 | 0e+00 |       1 | 1e+00 | ... |        0 | 0.0e+00 |        0 | 0.0e+00 |        0 | 0.0e+00 |        0 | 0.0e+00 |        0 | 1.0e+00 |\n",
       "\n"
      ],
      "text/plain": [
       "       [,1]   [,2]    [,3]    [,4]  [,5]    [,6]  [,7]    [,8]  [,9]    [,10]\n",
       "breaks 500000 1000000 1500000 2e+06 2500000 3e+06 3500000 4e+06 4500000 5e+06\n",
       "counts 194952      13       5 1e+00       3 0e+00       1 0e+00       1 1e+00\n",
       "       [,11] [,12]    [,13]   [,14]    [,15]   [,16]    [,17]   [,18]   \n",
       "breaks ...   31500000 3.2e+07 32500000 3.3e+07 33500000 3.4e+07 34500000\n",
       "counts ...          0 0.0e+00        0 0.0e+00        0 0.0e+00        0\n",
       "       [,19]   [,20]    [,21]  \n",
       "breaks 3.5e+07 35500000 3.6e+07\n",
       "counts 0.0e+00        0 1.0e+00"
      ]
     },
     "metadata": {},
     "output_type": "display_data"
    },
    {
     "data": {
      "image/png": "[encoded data removed]",
      "text/plain": [
       "plot without title"
      ]
     },
     "metadata": {
      "image/png": {
       "height": 420,
       "width": 420
      }
     },
     "output_type": "display_data"
    }
   ],
   "source": [
    "thist3=hist(data.complete[,\"resp_bytes\"],breaks=nbreaks,plot=FALSE)\n",
    "plot(thist3$mids,thist3$density,log=\"y\",type=\"b\",\n",
    "     xlab=\"resp_bytes\",ylab=\"histogram density\")\n",
    "\n",
    "breaks3<-thist3$breaks[-1]\n",
    "df3<-data.frame(breaks=breaks3,counts=thist3$counts)\n",
    "t(df3)"
   ]
  },
  {
   "cell_type": "code",
   "execution_count": 202,
   "metadata": {},
   "outputs": [
    {
     "data": {
      "text/html": [
       "<table>\n",
       "<caption>A data.frame: 6 × 17</caption>\n",
       "<thead>\n",
       "\t<tr><th></th><th scope=col>ts</th><th scope=col>orig_ip</th><th scope=col>orig_port</th><th scope=col>resp_ip</th><th scope=col>resp_port</th><th scope=col>proto</th><th scope=col>service</th><th scope=col>duration</th><th scope=col>orig_bytes</th><th scope=col>resp_bytes</th><th scope=col>conn_state</th><th scope=col>missed_bytes</th><th scope=col>history</th><th scope=col>orig_pkts</th><th scope=col>orig_ip_bytes</th><th scope=col>resp_pkts</th><th scope=col>resp_ip_bytes</th></tr>\n",
       "\t<tr><th></th><th scope=col>&lt;dbl&gt;</th><th scope=col>&lt;fct&gt;</th><th scope=col>&lt;dbl&gt;</th><th scope=col>&lt;fct&gt;</th><th scope=col>&lt;dbl&gt;</th><th scope=col>&lt;fct&gt;</th><th scope=col>&lt;chr&gt;</th><th scope=col>&lt;dbl&gt;</th><th scope=col>&lt;dbl&gt;</th><th scope=col>&lt;dbl&gt;</th><th scope=col>&lt;fct&gt;</th><th scope=col>&lt;dbl&gt;</th><th scope=col>&lt;fct&gt;</th><th scope=col>&lt;dbl&gt;</th><th scope=col>&lt;dbl&gt;</th><th scope=col>&lt;dbl&gt;</th><th scope=col>&lt;dbl&gt;</th></tr>\n",
       "</thead>\n",
       "<tbody>\n",
       "\t<tr><th scope=row>1</th><td>1331915797</td><td>192.168.202.102</td><td> 2633</td><td>192.168.23.202 </td><td>   80</td><td>tcp</td><td>http</td><td>  NA</td><td>  NA</td><td> NA</td><td>RSTO</td><td>0</td><td>ShADadfR</td><td> 8</td><td> 813</td><td>9</td><td>8505</td></tr>\n",
       "\t<tr><th scope=row>2</th><td>1331921224</td><td>192.168.202.102</td><td> 4094</td><td>192.168.24.101 </td><td>   80</td><td>tcp</td><td>NA  </td><td>0.01</td><td>7085</td><td>172</td><td>RSTO</td><td>0</td><td>ShADadfR</td><td>10</td><td>7497</td><td>9</td><td> 544</td></tr>\n",
       "\t<tr><th scope=row>3</th><td>1331903910</td><td>192.168.202.110</td><td>16066</td><td>192.168.27.152 </td><td>12486</td><td>tcp</td><td>NA  </td><td>  NA</td><td>  NA</td><td> NA</td><td>REJ </td><td>0</td><td>Sr      </td><td> 1</td><td>  48</td><td>1</td><td>  40</td></tr>\n",
       "\t<tr><th scope=row>4</th><td>1331988939</td><td>192.168.204.45 </td><td>42997</td><td>192.168.23.1   </td><td>28745</td><td>tcp</td><td>NA  </td><td>  NA</td><td>  NA</td><td> NA</td><td>REJ </td><td>0</td><td>Sr      </td><td> 1</td><td>  60</td><td>1</td><td>  40</td></tr>\n",
       "\t<tr><th scope=row>5</th><td>1331918792</td><td>192.168.202.110</td><td>38566</td><td>192.168.229.252</td><td>32754</td><td>tcp</td><td>NA  </td><td>  NA</td><td>  NA</td><td> NA</td><td>REJ </td><td>0</td><td>Sr      </td><td> 1</td><td>  48</td><td>1</td><td>  40</td></tr>\n",
       "\t<tr><th scope=row>6</th><td>1331901863</td><td>192.168.202.79 </td><td>63805</td><td>192.168.229.252</td><td>45078</td><td>tcp</td><td>NA  </td><td>  NA</td><td>  NA</td><td> NA</td><td>REJ </td><td>0</td><td>Sr      </td><td> 1</td><td>  44</td><td>1</td><td>  40</td></tr>\n",
       "</tbody>\n",
       "</table>\n"
      ],
      "text/latex": [
       "A data.frame: 6 × 17\n",
       "\\begin{tabular}{r|lllllllllllllllll}\n",
       "  & ts & orig\\_ip & orig\\_port & resp\\_ip & resp\\_port & proto & service & duration & orig\\_bytes & resp\\_bytes & conn\\_state & missed\\_bytes & history & orig\\_pkts & orig\\_ip\\_bytes & resp\\_pkts & resp\\_ip\\_bytes\\\\\n",
       "  & <dbl> & <fct> & <dbl> & <fct> & <dbl> & <fct> & <chr> & <dbl> & <dbl> & <dbl> & <fct> & <dbl> & <fct> & <dbl> & <dbl> & <dbl> & <dbl>\\\\\n",
       "\\hline\n",
       "\t1 & 1331915797 & 192.168.202.102 &  2633 & 192.168.23.202  &    80 & tcp & http &   NA &   NA &  NA & RSTO & 0 & ShADadfR &  8 &  813 & 9 & 8505\\\\\n",
       "\t2 & 1331921224 & 192.168.202.102 &  4094 & 192.168.24.101  &    80 & tcp & NA   & 0.01 & 7085 & 172 & RSTO & 0 & ShADadfR & 10 & 7497 & 9 &  544\\\\\n",
       "\t3 & 1331903910 & 192.168.202.110 & 16066 & 192.168.27.152  & 12486 & tcp & NA   &   NA &   NA &  NA & REJ  & 0 & Sr       &  1 &   48 & 1 &   40\\\\\n",
       "\t4 & 1331988939 & 192.168.204.45  & 42997 & 192.168.23.1    & 28745 & tcp & NA   &   NA &   NA &  NA & REJ  & 0 & Sr       &  1 &   60 & 1 &   40\\\\\n",
       "\t5 & 1331918792 & 192.168.202.110 & 38566 & 192.168.229.252 & 32754 & tcp & NA   &   NA &   NA &  NA & REJ  & 0 & Sr       &  1 &   48 & 1 &   40\\\\\n",
       "\t6 & 1331901863 & 192.168.202.79  & 63805 & 192.168.229.252 & 45078 & tcp & NA   &   NA &   NA &  NA & REJ  & 0 & Sr       &  1 &   44 & 1 &   40\\\\\n",
       "\\end{tabular}\n"
      ],
      "text/markdown": [
       "\n",
       "A data.frame: 6 × 17\n",
       "\n",
       "| <!--/--> | ts &lt;dbl&gt; | orig_ip &lt;fct&gt; | orig_port &lt;dbl&gt; | resp_ip &lt;fct&gt; | resp_port &lt;dbl&gt; | proto &lt;fct&gt; | service &lt;chr&gt; | duration &lt;dbl&gt; | orig_bytes &lt;dbl&gt; | resp_bytes &lt;dbl&gt; | conn_state &lt;fct&gt; | missed_bytes &lt;dbl&gt; | history &lt;fct&gt; | orig_pkts &lt;dbl&gt; | orig_ip_bytes &lt;dbl&gt; | resp_pkts &lt;dbl&gt; | resp_ip_bytes &lt;dbl&gt; |\n",
       "|---|---|---|---|---|---|---|---|---|---|---|---|---|---|---|---|---|---|\n",
       "| 1 | 1331915797 | 192.168.202.102 |  2633 | 192.168.23.202  |    80 | tcp | http |   NA |   NA |  NA | RSTO | 0 | ShADadfR |  8 |  813 | 9 | 8505 |\n",
       "| 2 | 1331921224 | 192.168.202.102 |  4094 | 192.168.24.101  |    80 | tcp | NA   | 0.01 | 7085 | 172 | RSTO | 0 | ShADadfR | 10 | 7497 | 9 |  544 |\n",
       "| 3 | 1331903910 | 192.168.202.110 | 16066 | 192.168.27.152  | 12486 | tcp | NA   |   NA |   NA |  NA | REJ  | 0 | Sr       |  1 |   48 | 1 |   40 |\n",
       "| 4 | 1331988939 | 192.168.204.45  | 42997 | 192.168.23.1    | 28745 | tcp | NA   |   NA |   NA |  NA | REJ  | 0 | Sr       |  1 |   60 | 1 |   40 |\n",
       "| 5 | 1331918792 | 192.168.202.110 | 38566 | 192.168.229.252 | 32754 | tcp | NA   |   NA |   NA |  NA | REJ  | 0 | Sr       |  1 |   48 | 1 |   40 |\n",
       "| 6 | 1331901863 | 192.168.202.79  | 63805 | 192.168.229.252 | 45078 | tcp | NA   |   NA |   NA |  NA | REJ  | 0 | Sr       |  1 |   44 | 1 |   40 |\n",
       "\n"
      ],
      "text/plain": [
       "  ts         orig_ip         orig_port resp_ip         resp_port proto service\n",
       "1 1331915797 192.168.202.102  2633     192.168.23.202     80     tcp   http   \n",
       "2 1331921224 192.168.202.102  4094     192.168.24.101     80     tcp   NA     \n",
       "3 1331903910 192.168.202.110 16066     192.168.27.152  12486     tcp   NA     \n",
       "4 1331988939 192.168.204.45  42997     192.168.23.1    28745     tcp   NA     \n",
       "5 1331918792 192.168.202.110 38566     192.168.229.252 32754     tcp   NA     \n",
       "6 1331901863 192.168.202.79  63805     192.168.229.252 45078     tcp   NA     \n",
       "  duration orig_bytes resp_bytes conn_state missed_bytes history  orig_pkts\n",
       "1   NA       NA        NA        RSTO       0            ShADadfR  8       \n",
       "2 0.01     7085       172        RSTO       0            ShADadfR 10       \n",
       "3   NA       NA        NA        REJ        0            Sr        1       \n",
       "4   NA       NA        NA        REJ        0            Sr        1       \n",
       "5   NA       NA        NA        REJ        0            Sr        1       \n",
       "6   NA       NA        NA        REJ        0            Sr        1       \n",
       "  orig_ip_bytes resp_pkts resp_ip_bytes\n",
       "1  813          9         8505         \n",
       "2 7497          9          544         \n",
       "3   48          1           40         \n",
       "4   60          1           40         \n",
       "5   48          1           40         \n",
       "6   44          1           40         "
      ]
     },
     "metadata": {},
     "output_type": "display_data"
    }
   ],
   "source": [
    "for(i in c(3,5,8,9,10,12,14:17)) data.missing[,i]=as.numeric(data.missing[,i])\n",
    "for(i in c(2,4,6,11,13)) data.missing[,i]=as.factor(data.missing[,i])\n",
    "head(data.missing)"
   ]
  },
  {
   "cell_type": "code",
   "execution_count": 11,
   "metadata": {},
   "outputs": [
    {
     "name": "stdout",
     "output_type": "stream",
     "text": [
      "\n",
      " Variables sorted by number of missings: \n",
      "   Variable     Count\n",
      "    service 0.8701969\n",
      "   duration 0.8281670\n",
      " orig_bytes 0.8281670\n",
      " resp_bytes 0.8281670\n"
     ]
    },
    {
     "data": {
      "image/png": "[encoded data removed]",
      "text/plain": [
       "plot without title"
      ]
     },
     "metadata": {
      "image/png": {
       "height": 420,
       "width": 420
      }
     },
     "output_type": "display_data"
    }
   ],
   "source": [
    "aggr(data.missing[,which(names(data.missing) %in% c(\"service\",\"duration\",\"orig_bytes\",\"resp_bytes\"))],\n",
    "                  numbers=TRUE, sortVars=TRUE,cex.axis=.7,gap=3)"
   ]
  },
  {
   "cell_type": "code",
   "execution_count": 26,
   "metadata": {},
   "outputs": [
    {
     "data": {
      "image/png": "[encoded data removed]",
      "text/plain": [
       "plot without title"
      ]
     },
     "metadata": {
      "image/png": {
       "height": 420,
       "width": 420
      }
     },
     "output_type": "display_data"
    }
   ],
   "source": [
    "matrixplot(data.missing,sortby = \"ts\")"
   ]
  },
  {
   "cell_type": "markdown",
   "metadata": {},
   "source": [
    "### Imputing the three numeric variables\n",
    "We delete the \"service\" column"
   ]
  },
  {
   "cell_type": "code",
   "execution_count": 203,
   "metadata": {},
   "outputs": [
    {
     "data": {
      "text/html": [
       "<table>\n",
       "<caption>A data.frame: 6 × 16</caption>\n",
       "<thead>\n",
       "\t<tr><th></th><th scope=col>ts</th><th scope=col>orig_ip</th><th scope=col>orig_port</th><th scope=col>resp_ip</th><th scope=col>resp_port</th><th scope=col>proto</th><th scope=col>duration</th><th scope=col>orig_bytes</th><th scope=col>resp_bytes</th><th scope=col>conn_state</th><th scope=col>missed_bytes</th><th scope=col>history</th><th scope=col>orig_pkts</th><th scope=col>orig_ip_bytes</th><th scope=col>resp_pkts</th><th scope=col>resp_ip_bytes</th></tr>\n",
       "\t<tr><th></th><th scope=col>&lt;dbl&gt;</th><th scope=col>&lt;fct&gt;</th><th scope=col>&lt;dbl&gt;</th><th scope=col>&lt;fct&gt;</th><th scope=col>&lt;dbl&gt;</th><th scope=col>&lt;fct&gt;</th><th scope=col>&lt;dbl&gt;</th><th scope=col>&lt;dbl&gt;</th><th scope=col>&lt;dbl&gt;</th><th scope=col>&lt;fct&gt;</th><th scope=col>&lt;dbl&gt;</th><th scope=col>&lt;fct&gt;</th><th scope=col>&lt;dbl&gt;</th><th scope=col>&lt;dbl&gt;</th><th scope=col>&lt;dbl&gt;</th><th scope=col>&lt;dbl&gt;</th></tr>\n",
       "</thead>\n",
       "<tbody>\n",
       "\t<tr><th scope=row>1</th><td>1331915797</td><td>192.168.202.102</td><td> 2633</td><td>192.168.23.202 </td><td>   80</td><td>tcp</td><td>  NA</td><td>  NA</td><td> NA</td><td>RSTO</td><td>0</td><td>ShADadfR</td><td> 8</td><td> 813</td><td>9</td><td>8505</td></tr>\n",
       "\t<tr><th scope=row>2</th><td>1331921224</td><td>192.168.202.102</td><td> 4094</td><td>192.168.24.101 </td><td>   80</td><td>tcp</td><td>0.01</td><td>7085</td><td>172</td><td>RSTO</td><td>0</td><td>ShADadfR</td><td>10</td><td>7497</td><td>9</td><td> 544</td></tr>\n",
       "\t<tr><th scope=row>3</th><td>1331903910</td><td>192.168.202.110</td><td>16066</td><td>192.168.27.152 </td><td>12486</td><td>tcp</td><td>  NA</td><td>  NA</td><td> NA</td><td>REJ </td><td>0</td><td>Sr      </td><td> 1</td><td>  48</td><td>1</td><td>  40</td></tr>\n",
       "\t<tr><th scope=row>4</th><td>1331988939</td><td>192.168.204.45 </td><td>42997</td><td>192.168.23.1   </td><td>28745</td><td>tcp</td><td>  NA</td><td>  NA</td><td> NA</td><td>REJ </td><td>0</td><td>Sr      </td><td> 1</td><td>  60</td><td>1</td><td>  40</td></tr>\n",
       "\t<tr><th scope=row>5</th><td>1331918792</td><td>192.168.202.110</td><td>38566</td><td>192.168.229.252</td><td>32754</td><td>tcp</td><td>  NA</td><td>  NA</td><td> NA</td><td>REJ </td><td>0</td><td>Sr      </td><td> 1</td><td>  48</td><td>1</td><td>  40</td></tr>\n",
       "\t<tr><th scope=row>6</th><td>1331901863</td><td>192.168.202.79 </td><td>63805</td><td>192.168.229.252</td><td>45078</td><td>tcp</td><td>  NA</td><td>  NA</td><td> NA</td><td>REJ </td><td>0</td><td>Sr      </td><td> 1</td><td>  44</td><td>1</td><td>  40</td></tr>\n",
       "</tbody>\n",
       "</table>\n"
      ],
      "text/latex": [
       "A data.frame: 6 × 16\n",
       "\\begin{tabular}{r|llllllllllllllll}\n",
       "  & ts & orig\\_ip & orig\\_port & resp\\_ip & resp\\_port & proto & duration & orig\\_bytes & resp\\_bytes & conn\\_state & missed\\_bytes & history & orig\\_pkts & orig\\_ip\\_bytes & resp\\_pkts & resp\\_ip\\_bytes\\\\\n",
       "  & <dbl> & <fct> & <dbl> & <fct> & <dbl> & <fct> & <dbl> & <dbl> & <dbl> & <fct> & <dbl> & <fct> & <dbl> & <dbl> & <dbl> & <dbl>\\\\\n",
       "\\hline\n",
       "\t1 & 1331915797 & 192.168.202.102 &  2633 & 192.168.23.202  &    80 & tcp &   NA &   NA &  NA & RSTO & 0 & ShADadfR &  8 &  813 & 9 & 8505\\\\\n",
       "\t2 & 1331921224 & 192.168.202.102 &  4094 & 192.168.24.101  &    80 & tcp & 0.01 & 7085 & 172 & RSTO & 0 & ShADadfR & 10 & 7497 & 9 &  544\\\\\n",
       "\t3 & 1331903910 & 192.168.202.110 & 16066 & 192.168.27.152  & 12486 & tcp &   NA &   NA &  NA & REJ  & 0 & Sr       &  1 &   48 & 1 &   40\\\\\n",
       "\t4 & 1331988939 & 192.168.204.45  & 42997 & 192.168.23.1    & 28745 & tcp &   NA &   NA &  NA & REJ  & 0 & Sr       &  1 &   60 & 1 &   40\\\\\n",
       "\t5 & 1331918792 & 192.168.202.110 & 38566 & 192.168.229.252 & 32754 & tcp &   NA &   NA &  NA & REJ  & 0 & Sr       &  1 &   48 & 1 &   40\\\\\n",
       "\t6 & 1331901863 & 192.168.202.79  & 63805 & 192.168.229.252 & 45078 & tcp &   NA &   NA &  NA & REJ  & 0 & Sr       &  1 &   44 & 1 &   40\\\\\n",
       "\\end{tabular}\n"
      ],
      "text/markdown": [
       "\n",
       "A data.frame: 6 × 16\n",
       "\n",
       "| <!--/--> | ts &lt;dbl&gt; | orig_ip &lt;fct&gt; | orig_port &lt;dbl&gt; | resp_ip &lt;fct&gt; | resp_port &lt;dbl&gt; | proto &lt;fct&gt; | duration &lt;dbl&gt; | orig_bytes &lt;dbl&gt; | resp_bytes &lt;dbl&gt; | conn_state &lt;fct&gt; | missed_bytes &lt;dbl&gt; | history &lt;fct&gt; | orig_pkts &lt;dbl&gt; | orig_ip_bytes &lt;dbl&gt; | resp_pkts &lt;dbl&gt; | resp_ip_bytes &lt;dbl&gt; |\n",
       "|---|---|---|---|---|---|---|---|---|---|---|---|---|---|---|---|---|\n",
       "| 1 | 1331915797 | 192.168.202.102 |  2633 | 192.168.23.202  |    80 | tcp |   NA |   NA |  NA | RSTO | 0 | ShADadfR |  8 |  813 | 9 | 8505 |\n",
       "| 2 | 1331921224 | 192.168.202.102 |  4094 | 192.168.24.101  |    80 | tcp | 0.01 | 7085 | 172 | RSTO | 0 | ShADadfR | 10 | 7497 | 9 |  544 |\n",
       "| 3 | 1331903910 | 192.168.202.110 | 16066 | 192.168.27.152  | 12486 | tcp |   NA |   NA |  NA | REJ  | 0 | Sr       |  1 |   48 | 1 |   40 |\n",
       "| 4 | 1331988939 | 192.168.204.45  | 42997 | 192.168.23.1    | 28745 | tcp |   NA |   NA |  NA | REJ  | 0 | Sr       |  1 |   60 | 1 |   40 |\n",
       "| 5 | 1331918792 | 192.168.202.110 | 38566 | 192.168.229.252 | 32754 | tcp |   NA |   NA |  NA | REJ  | 0 | Sr       |  1 |   48 | 1 |   40 |\n",
       "| 6 | 1331901863 | 192.168.202.79  | 63805 | 192.168.229.252 | 45078 | tcp |   NA |   NA |  NA | REJ  | 0 | Sr       |  1 |   44 | 1 |   40 |\n",
       "\n"
      ],
      "text/plain": [
       "  ts         orig_ip         orig_port resp_ip         resp_port proto duration\n",
       "1 1331915797 192.168.202.102  2633     192.168.23.202     80     tcp     NA    \n",
       "2 1331921224 192.168.202.102  4094     192.168.24.101     80     tcp   0.01    \n",
       "3 1331903910 192.168.202.110 16066     192.168.27.152  12486     tcp     NA    \n",
       "4 1331988939 192.168.204.45  42997     192.168.23.1    28745     tcp     NA    \n",
       "5 1331918792 192.168.202.110 38566     192.168.229.252 32754     tcp     NA    \n",
       "6 1331901863 192.168.202.79  63805     192.168.229.252 45078     tcp     NA    \n",
       "  orig_bytes resp_bytes conn_state missed_bytes history  orig_pkts\n",
       "1   NA        NA        RSTO       0            ShADadfR  8       \n",
       "2 7085       172        RSTO       0            ShADadfR 10       \n",
       "3   NA        NA        REJ        0            Sr        1       \n",
       "4   NA        NA        REJ        0            Sr        1       \n",
       "5   NA        NA        REJ        0            Sr        1       \n",
       "6   NA        NA        REJ        0            Sr        1       \n",
       "  orig_ip_bytes resp_pkts resp_ip_bytes\n",
       "1  813          9         8505         \n",
       "2 7497          9          544         \n",
       "3   48          1           40         \n",
       "4   60          1           40         \n",
       "5   48          1           40         \n",
       "6   44          1           40         "
      ]
     },
     "metadata": {},
     "output_type": "display_data"
    }
   ],
   "source": [
    "data.complete1<-data.complete[,-which(names(data.complete) %in% c(\"service\"))]\n",
    "data.missing1<-data.missing[,-which(names(data.missing) %in% c(\"service\"))]\n",
    "head(data.missing1)"
   ]
  },
  {
   "cell_type": "markdown",
   "metadata": {},
   "source": [
    "One way to examine the imputation model's performance is by how much variation it explains.\n",
    "We build a simple linear regression model, through this model, we can see the fit of \"duration\" and other variables. The closer the R-squared is to 1, the better the fit of the data, that is, the better the effect of imputation."
   ]
  },
  {
   "cell_type": "code",
   "execution_count": 12,
   "metadata": {},
   "outputs": [
    {
     "data": {
      "text/plain": [
       "\n",
       "Call:\n",
       "lm(formula = logduration ~ proto + ts + orig_port + resp_port + \n",
       "    conn_state + orig_pkts + orig_ip_bytes + resp_pkts + resp_ip_bytes, \n",
       "    data = conndata2)\n",
       "\n",
       "Residuals:\n",
       "     Min       1Q   Median       3Q      Max \n",
       "-16.5188  -0.9836  -0.4615   0.6292  12.3354 \n",
       "\n",
       "Coefficients:\n",
       "                 Estimate Std. Error t value Pr(>|t|)    \n",
       "(Intercept)     9.011e+03  2.293e+02  39.305  < 2e-16 ***\n",
       "prototcp        1.779e+00  2.237e-01   7.952 1.89e-15 ***\n",
       "protoudp        1.974e+00  2.330e-01   8.470  < 2e-16 ***\n",
       "ts             -6.765e-06  1.721e-07 -39.307  < 2e-16 ***\n",
       "orig_port      -9.129e-06  4.134e-07 -22.085  < 2e-16 ***\n",
       "resp_port      -8.783e-07  3.818e-07  -2.300   0.0214 *  \n",
       "conn_stateREJ  -4.676e+00  2.210e-01 -21.163  < 2e-16 ***\n",
       "conn_stateRSTO -4.450e+00  2.221e-01 -20.037  < 2e-16 ***\n",
       "conn_stateRSTR -2.785e+00  2.274e-01 -12.249  < 2e-16 ***\n",
       "conn_stateS0   -1.156e-01  2.241e-01  -0.516   0.6061    \n",
       "conn_stateS1    1.891e+00  3.547e-01   5.331 9.80e-08 ***\n",
       "conn_stateS2    2.151e+00  4.660e-01   4.615 3.94e-06 ***\n",
       "conn_stateS3    3.041e+00  1.379e+00   2.206   0.0274 *  \n",
       "conn_stateSF   -3.750e+00  2.226e-01 -16.849  < 2e-16 ***\n",
       "conn_stateSH    2.549e-01  4.251e-01   0.600   0.5488    \n",
       "conn_stateSHR  -1.859e+00  8.176e-01  -2.274   0.0230 *  \n",
       "orig_pkts       1.892e-02  1.198e-03  15.791  < 2e-16 ***\n",
       "orig_ip_bytes   5.920e-05  5.417e-06  10.930  < 2e-16 ***\n",
       "resp_pkts      -3.222e-02  1.370e-03 -23.524  < 2e-16 ***\n",
       "resp_ip_bytes   1.671e-05  1.231e-06  13.566  < 2e-16 ***\n",
       "---\n",
       "Signif. codes:  0 '***' 0.001 '**' 0.01 '*' 0.05 '.' 0.1 ' ' 1\n",
       "\n",
       "Residual standard error: 1.361 on 39018 degrees of freedom\n",
       "  (187905 observations deleted due to missingness)\n",
       "Multiple R-squared:  0.4579,\tAdjusted R-squared:  0.4577 \n",
       "F-statistic:  1735 on 19 and 39018 DF,  p-value: < 2.2e-16\n"
      ]
     },
     "metadata": {},
     "output_type": "display_data"
    }
   ],
   "source": [
    "conndata2[,\"logduration\"]=log(conndata2[,\"duration\"])\n",
    "lm1=lm(logduration~proto+ts+orig_port+resp_port+conn_state+orig_pkts+orig_ip_bytes +resp_pkts+resp_ip_bytes,data=conndata2)\n",
    "summary(lm1) "
   ]
  },
  {
   "cell_type": "markdown",
   "metadata": {},
   "source": [
    "#### Method 1: Deleting data with missing values"
   ]
  },
  {
   "cell_type": "code",
   "execution_count": 13,
   "metadata": {},
   "outputs": [],
   "source": [
    "conn_delete<-conndata2[complete.cases(conndata2),] "
   ]
  },
  {
   "cell_type": "code",
   "execution_count": 14,
   "metadata": {},
   "outputs": [
    {
     "data": {
      "text/plain": [
       "\n",
       "Call:\n",
       "lm(formula = logduration ~ proto + ts + orig_port + resp_port + \n",
       "    conn_state + orig_pkts + orig_ip_bytes + resp_pkts + resp_ip_bytes, \n",
       "    data = conn_delete)\n",
       "\n",
       "Residuals:\n",
       "     Min       1Q   Median       3Q      Max \n",
       "-16.5188  -0.9836  -0.4615   0.6292  12.3354 \n",
       "\n",
       "Coefficients:\n",
       "                 Estimate Std. Error t value Pr(>|t|)    \n",
       "(Intercept)     9.011e+03  2.293e+02  39.305  < 2e-16 ***\n",
       "prototcp        1.779e+00  2.237e-01   7.952 1.89e-15 ***\n",
       "protoudp        1.974e+00  2.330e-01   8.470  < 2e-16 ***\n",
       "ts             -6.765e-06  1.721e-07 -39.307  < 2e-16 ***\n",
       "orig_port      -9.129e-06  4.134e-07 -22.085  < 2e-16 ***\n",
       "resp_port      -8.783e-07  3.818e-07  -2.300   0.0214 *  \n",
       "conn_stateREJ  -4.676e+00  2.210e-01 -21.163  < 2e-16 ***\n",
       "conn_stateRSTO -4.450e+00  2.221e-01 -20.037  < 2e-16 ***\n",
       "conn_stateRSTR -2.785e+00  2.274e-01 -12.249  < 2e-16 ***\n",
       "conn_stateS0   -1.156e-01  2.241e-01  -0.516   0.6061    \n",
       "conn_stateS1    1.891e+00  3.547e-01   5.331 9.80e-08 ***\n",
       "conn_stateS2    2.151e+00  4.660e-01   4.615 3.94e-06 ***\n",
       "conn_stateS3    3.041e+00  1.379e+00   2.206   0.0274 *  \n",
       "conn_stateSF   -3.750e+00  2.226e-01 -16.849  < 2e-16 ***\n",
       "conn_stateSH    2.549e-01  4.251e-01   0.600   0.5488    \n",
       "conn_stateSHR  -1.859e+00  8.176e-01  -2.274   0.0230 *  \n",
       "orig_pkts       1.892e-02  1.198e-03  15.791  < 2e-16 ***\n",
       "orig_ip_bytes   5.920e-05  5.417e-06  10.930  < 2e-16 ***\n",
       "resp_pkts      -3.222e-02  1.370e-03 -23.524  < 2e-16 ***\n",
       "resp_ip_bytes   1.671e-05  1.231e-06  13.566  < 2e-16 ***\n",
       "---\n",
       "Signif. codes:  0 '***' 0.001 '**' 0.01 '*' 0.05 '.' 0.1 ' ' 1\n",
       "\n",
       "Residual standard error: 1.361 on 39018 degrees of freedom\n",
       "Multiple R-squared:  0.4579,\tAdjusted R-squared:  0.4577 \n",
       "F-statistic:  1735 on 19 and 39018 DF,  p-value: < 2.2e-16\n"
      ]
     },
     "metadata": {},
     "output_type": "display_data"
    }
   ],
   "source": [
    "lm_delete=lm(logduration~proto+ts+orig_port+resp_port+conn_state+orig_pkts+orig_ip_bytes +resp_pkts+resp_ip_bytes,data=conn_delete)\n",
    "summary(lm_delete) "
   ]
  },
  {
   "cell_type": "markdown",
   "metadata": {},
   "source": [
    "Since most of the data have missing values, this method is too simple and crude, and is not suitable for use in practice\n",
    "\n",
    "#### Method 2: Mean imputation"
   ]
  },
  {
   "cell_type": "code",
   "execution_count": 129,
   "metadata": {},
   "outputs": [
    {
     "data": {
      "text/html": [
       "<table>\n",
       "<caption>A data.frame: 6 × 17</caption>\n",
       "<thead>\n",
       "\t<tr><th></th><th scope=col>ts</th><th scope=col>orig_ip</th><th scope=col>orig_port</th><th scope=col>resp_ip</th><th scope=col>resp_port</th><th scope=col>proto</th><th scope=col>service</th><th scope=col>duration</th><th scope=col>orig_bytes</th><th scope=col>resp_bytes</th><th scope=col>conn_state</th><th scope=col>missed_bytes</th><th scope=col>history</th><th scope=col>orig_pkts</th><th scope=col>orig_ip_bytes</th><th scope=col>resp_pkts</th><th scope=col>resp_ip_bytes</th></tr>\n",
       "\t<tr><th></th><th scope=col>&lt;dbl&gt;</th><th scope=col>&lt;fct&gt;</th><th scope=col>&lt;dbl&gt;</th><th scope=col>&lt;fct&gt;</th><th scope=col>&lt;dbl&gt;</th><th scope=col>&lt;fct&gt;</th><th scope=col>&lt;chr&gt;</th><th scope=col>&lt;dbl&gt;</th><th scope=col>&lt;dbl&gt;</th><th scope=col>&lt;dbl&gt;</th><th scope=col>&lt;fct&gt;</th><th scope=col>&lt;dbl&gt;</th><th scope=col>&lt;fct&gt;</th><th scope=col>&lt;dbl&gt;</th><th scope=col>&lt;dbl&gt;</th><th scope=col>&lt;dbl&gt;</th><th scope=col>&lt;dbl&gt;</th></tr>\n",
       "</thead>\n",
       "<tbody>\n",
       "\t<tr><th scope=row>1</th><td>1331915797</td><td>192.168.202.102</td><td> 2633</td><td>192.168.23.202 </td><td>   80</td><td>tcp</td><td>http</td><td>1.419635</td><td>356075.8</td><td>1679.826</td><td>RSTO</td><td>0</td><td>ShADadfR</td><td> 8</td><td> 813</td><td>9</td><td>8505</td></tr>\n",
       "\t<tr><th scope=row>2</th><td>1331921224</td><td>192.168.202.102</td><td> 4094</td><td>192.168.24.101 </td><td>   80</td><td>tcp</td><td>NA  </td><td>0.010000</td><td>  7085.0</td><td> 172.000</td><td>RSTO</td><td>0</td><td>ShADadfR</td><td>10</td><td>7497</td><td>9</td><td> 544</td></tr>\n",
       "\t<tr><th scope=row>3</th><td>1331903910</td><td>192.168.202.110</td><td>16066</td><td>192.168.27.152 </td><td>12486</td><td>tcp</td><td>NA  </td><td>1.419635</td><td>356075.8</td><td>1679.826</td><td>REJ </td><td>0</td><td>Sr      </td><td> 1</td><td>  48</td><td>1</td><td>  40</td></tr>\n",
       "\t<tr><th scope=row>4</th><td>1331988939</td><td>192.168.204.45 </td><td>42997</td><td>192.168.23.1   </td><td>28745</td><td>tcp</td><td>NA  </td><td>1.419635</td><td>356075.8</td><td>1679.826</td><td>REJ </td><td>0</td><td>Sr      </td><td> 1</td><td>  60</td><td>1</td><td>  40</td></tr>\n",
       "\t<tr><th scope=row>5</th><td>1331918792</td><td>192.168.202.110</td><td>38566</td><td>192.168.229.252</td><td>32754</td><td>tcp</td><td>NA  </td><td>1.419635</td><td>356075.8</td><td>1679.826</td><td>REJ </td><td>0</td><td>Sr      </td><td> 1</td><td>  48</td><td>1</td><td>  40</td></tr>\n",
       "\t<tr><th scope=row>6</th><td>1331901863</td><td>192.168.202.79 </td><td>63805</td><td>192.168.229.252</td><td>45078</td><td>tcp</td><td>NA  </td><td>1.419635</td><td>356075.8</td><td>1679.826</td><td>REJ </td><td>0</td><td>Sr      </td><td> 1</td><td>  44</td><td>1</td><td>  40</td></tr>\n",
       "</tbody>\n",
       "</table>\n"
      ],
      "text/latex": [
       "A data.frame: 6 × 17\n",
       "\\begin{tabular}{r|lllllllllllllllll}\n",
       "  & ts & orig\\_ip & orig\\_port & resp\\_ip & resp\\_port & proto & service & duration & orig\\_bytes & resp\\_bytes & conn\\_state & missed\\_bytes & history & orig\\_pkts & orig\\_ip\\_bytes & resp\\_pkts & resp\\_ip\\_bytes\\\\\n",
       "  & <dbl> & <fct> & <dbl> & <fct> & <dbl> & <fct> & <chr> & <dbl> & <dbl> & <dbl> & <fct> & <dbl> & <fct> & <dbl> & <dbl> & <dbl> & <dbl>\\\\\n",
       "\\hline\n",
       "\t1 & 1331915797 & 192.168.202.102 &  2633 & 192.168.23.202  &    80 & tcp & http & 1.419635 & 356075.8 & 1679.826 & RSTO & 0 & ShADadfR &  8 &  813 & 9 & 8505\\\\\n",
       "\t2 & 1331921224 & 192.168.202.102 &  4094 & 192.168.24.101  &    80 & tcp & NA   & 0.010000 &   7085.0 &  172.000 & RSTO & 0 & ShADadfR & 10 & 7497 & 9 &  544\\\\\n",
       "\t3 & 1331903910 & 192.168.202.110 & 16066 & 192.168.27.152  & 12486 & tcp & NA   & 1.419635 & 356075.8 & 1679.826 & REJ  & 0 & Sr       &  1 &   48 & 1 &   40\\\\\n",
       "\t4 & 1331988939 & 192.168.204.45  & 42997 & 192.168.23.1    & 28745 & tcp & NA   & 1.419635 & 356075.8 & 1679.826 & REJ  & 0 & Sr       &  1 &   60 & 1 &   40\\\\\n",
       "\t5 & 1331918792 & 192.168.202.110 & 38566 & 192.168.229.252 & 32754 & tcp & NA   & 1.419635 & 356075.8 & 1679.826 & REJ  & 0 & Sr       &  1 &   48 & 1 &   40\\\\\n",
       "\t6 & 1331901863 & 192.168.202.79  & 63805 & 192.168.229.252 & 45078 & tcp & NA   & 1.419635 & 356075.8 & 1679.826 & REJ  & 0 & Sr       &  1 &   44 & 1 &   40\\\\\n",
       "\\end{tabular}\n"
      ],
      "text/markdown": [
       "\n",
       "A data.frame: 6 × 17\n",
       "\n",
       "| <!--/--> | ts &lt;dbl&gt; | orig_ip &lt;fct&gt; | orig_port &lt;dbl&gt; | resp_ip &lt;fct&gt; | resp_port &lt;dbl&gt; | proto &lt;fct&gt; | service &lt;chr&gt; | duration &lt;dbl&gt; | orig_bytes &lt;dbl&gt; | resp_bytes &lt;dbl&gt; | conn_state &lt;fct&gt; | missed_bytes &lt;dbl&gt; | history &lt;fct&gt; | orig_pkts &lt;dbl&gt; | orig_ip_bytes &lt;dbl&gt; | resp_pkts &lt;dbl&gt; | resp_ip_bytes &lt;dbl&gt; |\n",
       "|---|---|---|---|---|---|---|---|---|---|---|---|---|---|---|---|---|---|\n",
       "| 1 | 1331915797 | 192.168.202.102 |  2633 | 192.168.23.202  |    80 | tcp | http | 1.419635 | 356075.8 | 1679.826 | RSTO | 0 | ShADadfR |  8 |  813 | 9 | 8505 |\n",
       "| 2 | 1331921224 | 192.168.202.102 |  4094 | 192.168.24.101  |    80 | tcp | NA   | 0.010000 |   7085.0 |  172.000 | RSTO | 0 | ShADadfR | 10 | 7497 | 9 |  544 |\n",
       "| 3 | 1331903910 | 192.168.202.110 | 16066 | 192.168.27.152  | 12486 | tcp | NA   | 1.419635 | 356075.8 | 1679.826 | REJ  | 0 | Sr       |  1 |   48 | 1 |   40 |\n",
       "| 4 | 1331988939 | 192.168.204.45  | 42997 | 192.168.23.1    | 28745 | tcp | NA   | 1.419635 | 356075.8 | 1679.826 | REJ  | 0 | Sr       |  1 |   60 | 1 |   40 |\n",
       "| 5 | 1331918792 | 192.168.202.110 | 38566 | 192.168.229.252 | 32754 | tcp | NA   | 1.419635 | 356075.8 | 1679.826 | REJ  | 0 | Sr       |  1 |   48 | 1 |   40 |\n",
       "| 6 | 1331901863 | 192.168.202.79  | 63805 | 192.168.229.252 | 45078 | tcp | NA   | 1.419635 | 356075.8 | 1679.826 | REJ  | 0 | Sr       |  1 |   44 | 1 |   40 |\n",
       "\n"
      ],
      "text/plain": [
       "  ts         orig_ip         orig_port resp_ip         resp_port proto service\n",
       "1 1331915797 192.168.202.102  2633     192.168.23.202     80     tcp   http   \n",
       "2 1331921224 192.168.202.102  4094     192.168.24.101     80     tcp   NA     \n",
       "3 1331903910 192.168.202.110 16066     192.168.27.152  12486     tcp   NA     \n",
       "4 1331988939 192.168.204.45  42997     192.168.23.1    28745     tcp   NA     \n",
       "5 1331918792 192.168.202.110 38566     192.168.229.252 32754     tcp   NA     \n",
       "6 1331901863 192.168.202.79  63805     192.168.229.252 45078     tcp   NA     \n",
       "  duration orig_bytes resp_bytes conn_state missed_bytes history  orig_pkts\n",
       "1 1.419635 356075.8   1679.826   RSTO       0            ShADadfR  8       \n",
       "2 0.010000   7085.0    172.000   RSTO       0            ShADadfR 10       \n",
       "3 1.419635 356075.8   1679.826   REJ        0            Sr        1       \n",
       "4 1.419635 356075.8   1679.826   REJ        0            Sr        1       \n",
       "5 1.419635 356075.8   1679.826   REJ        0            Sr        1       \n",
       "6 1.419635 356075.8   1679.826   REJ        0            Sr        1       \n",
       "  orig_ip_bytes resp_pkts resp_ip_bytes\n",
       "1  813          9         8505         \n",
       "2 7497          9          544         \n",
       "3   48          1           40         \n",
       "4   60          1           40         \n",
       "5   48          1           40         \n",
       "6   44          1           40         "
      ]
     },
     "metadata": {},
     "output_type": "display_data"
    }
   ],
   "source": [
    "data.mean<-data.missing\n",
    "data.mean[is.na(data.mean[,\"duration\"]),\n",
    "              \"duration\"]=\n",
    "    mean(na.omit(data.mean[,\"duration\"]))\n",
    "\n",
    "data.mean[is.na(data.mean[,\"orig_bytes\"]),\n",
    "              \"orig_bytes\"]=\n",
    "    mean(na.omit(data.mean[,\"orig_bytes\"]))\n",
    "\n",
    "data.mean[is.na(data.mean[,\"resp_bytes\"]),\n",
    "              \"resp_bytes\"]=\n",
    "    mean(na.omit(data.mean[,\"resp_bytes\"]))\n",
    "\n",
    "head(data.mean)"
   ]
  },
  {
   "cell_type": "code",
   "execution_count": 16,
   "metadata": {},
   "outputs": [
    {
     "data": {
      "text/plain": [
       "\n",
       "Call:\n",
       "lm(formula = logduration ~ proto + ts + orig_port + resp_port + \n",
       "    conn_state + orig_pkts + orig_ip_bytes + resp_pkts + resp_ip_bytes, \n",
       "    data = conn_mean)\n",
       "\n",
       "Residuals:\n",
       "     Min       1Q   Median       3Q      Max \n",
       "-22.0928  -0.0824   0.0241   0.1229  12.8767 \n",
       "\n",
       "Coefficients:\n",
       "                   Estimate Std. Error t value Pr(>|t|)    \n",
       "(Intercept)       1.593e+03  4.716e+01  33.770  < 2e-16 ***\n",
       "prototcp         -2.143e+00  2.419e-02 -88.584  < 2e-16 ***\n",
       "protoudp         -1.000e+00  2.872e-02 -34.814  < 2e-16 ***\n",
       "ts               -1.196e-06  3.541e-08 -33.788  < 2e-16 ***\n",
       "orig_port        -1.444e-06  1.004e-07 -14.386  < 2e-16 ***\n",
       "resp_port        -2.342e-06  7.291e-08 -32.123  < 2e-16 ***\n",
       "conn_stateREJ    -1.587e-01  1.741e-02  -9.119  < 2e-16 ***\n",
       "conn_stateRSTO   -2.316e-01  2.009e-02 -11.527  < 2e-16 ***\n",
       "conn_stateRSTOS0  6.724e-03  6.964e-01   0.010    0.992    \n",
       "conn_stateRSTR    9.268e-01  3.164e-02  29.288  < 2e-16 ***\n",
       "conn_stateRSTRH  -1.083e-02  2.468e-01  -0.044    0.965    \n",
       "conn_stateS0     -3.195e-03  1.742e-02  -0.183    0.854    \n",
       "conn_stateS1      5.220e+00  1.352e-01  38.601  < 2e-16 ***\n",
       "conn_stateS2      6.161e+00  2.106e-01  29.249  < 2e-16 ***\n",
       "conn_stateS3      7.086e+00  6.964e-01  10.175  < 2e-16 ***\n",
       "conn_stateSF      2.042e-01  2.222e-02   9.189  < 2e-16 ***\n",
       "conn_stateSH      6.088e-01  7.660e-02   7.948 1.90e-15 ***\n",
       "conn_stateSHR    -8.728e-01  1.359e-01  -6.423 1.34e-10 ***\n",
       "orig_pkts         2.974e-02  5.973e-04  49.797  < 2e-16 ***\n",
       "orig_ip_bytes     5.027e-05  2.673e-06  18.811  < 2e-16 ***\n",
       "resp_pkts        -4.409e-02  6.920e-04 -63.715  < 2e-16 ***\n",
       "resp_ip_bytes     2.338e-05  6.242e-07  37.457  < 2e-16 ***\n",
       "---\n",
       "Signif. codes:  0 '***' 0.001 '**' 0.01 '*' 0.05 '.' 0.1 ' ' 1\n",
       "\n",
       "Residual standard error: 0.6962 on 226921 degrees of freedom\n",
       "Multiple R-squared:  0.1753,\tAdjusted R-squared:  0.1752 \n",
       "F-statistic:  2296 on 21 and 226921 DF,  p-value: < 2.2e-16\n"
      ]
     },
     "metadata": {},
     "output_type": "display_data"
    }
   ],
   "source": [
    "lm_mean=lm(logduration~proto+ts+orig_port+resp_port+conn_state+orig_pkts+orig_ip_bytes +resp_pkts+resp_ip_bytes,data=conn_mean)\n",
    "summary(lm_mean)"
   ]
  },
  {
   "cell_type": "code",
   "execution_count": 141,
   "metadata": {},
   "outputs": [
    {
     "data": {
      "text/plain": [
       "\n",
       "Call:\n",
       "lm(formula = logduration ~ proto + ts + orig_port + resp_port + \n",
       "    conn_state + orig_pkts + orig_ip_bytes + resp_pkts + resp_ip_bytes, \n",
       "    data = output.forest1)\n",
       "\n",
       "Residuals:\n",
       "    Min      1Q  Median      3Q     Max \n",
       "-9.5660 -0.4843  0.4817  0.9803  9.2083 \n",
       "\n",
       "Coefficients:\n",
       "                   Estimate Std. Error t value Pr(>|t|)    \n",
       "(Intercept)      -1.559e+03  1.180e+02 -13.215  < 2e-16 ***\n",
       "prototcp          1.537e+00  1.159e-01  13.260  < 2e-16 ***\n",
       "protoudp          1.897e+00  1.205e-01  15.737  < 2e-16 ***\n",
       "ts                1.172e-06  8.858e-08  13.229  < 2e-16 ***\n",
       "orig_port         1.434e-05  2.113e-07  67.833  < 2e-16 ***\n",
       "resp_port         2.275e-06  1.959e-07  11.614  < 2e-16 ***\n",
       "conn_stateREJ    -5.035e+00  1.142e-01 -44.079  < 2e-16 ***\n",
       "conn_stateRSTO   -5.716e+00  1.148e-01 -49.775  < 2e-16 ***\n",
       "conn_stateRSTOS0 -1.328e+00  5.097e-01  -2.606 0.009169 ** \n",
       "conn_stateRSTR   -2.141e+00  1.176e-01 -18.209  < 2e-16 ***\n",
       "conn_stateRSTRH   1.091e+00  6.020e-01   1.812 0.069942 .  \n",
       "conn_stateS0     -2.682e+00  1.160e-01 -23.130  < 2e-16 ***\n",
       "conn_stateS1     -1.352e-01  1.762e-01  -0.767 0.442949    \n",
       "conn_stateS2     -1.502e-02  2.507e-01  -0.060 0.952232    \n",
       "conn_stateS3      1.278e+00  3.389e-01   3.770 0.000163 ***\n",
       "conn_stateSF     -3.754e+00  1.152e-01 -32.594  < 2e-16 ***\n",
       "conn_stateSH     -1.902e-01  2.096e-01  -0.907 0.364326    \n",
       "conn_stateSHR    -1.936e+00  4.076e-01  -4.750 2.03e-06 ***\n",
       "orig_pkts         9.601e-04  1.017e-04   9.444  < 2e-16 ***\n",
       "orig_ip_bytes    -6.619e-07  5.724e-08 -11.564  < 2e-16 ***\n",
       "resp_pkts         6.215e-05  8.180e-05   0.760 0.447394    \n",
       "resp_ip_bytes    -5.940e-07  6.012e-08  -9.880  < 2e-16 ***\n",
       "---\n",
       "Signif. codes:  0 '***' 0.001 '**' 0.01 '*' 0.05 '.' 0.1 ' ' 1\n",
       "\n",
       "Residual standard error: 1.563 on 194958 degrees of freedom\n",
       "Multiple R-squared:  0.2735,\tAdjusted R-squared:  0.2735 \n",
       "F-statistic:  3496 on 21 and 194958 DF,  p-value: < 2.2e-16\n"
      ]
     },
     "metadata": {},
     "output_type": "display_data"
    }
   ],
   "source": [
    "output.forest1[,\"logduration\"]=log(output.forest1[,\"duration\"])\n",
    "lm_forest1=lm(logduration~proto+ts+orig_port+resp_port+conn_state+orig_pkts+orig_ip_bytes +resp_pkts+resp_ip_bytes,data=output.forest1)\n",
    "summary(lm_forest1)"
   ]
  },
  {
   "cell_type": "markdown",
   "metadata": {},
   "source": [
    "R-squared decreases, indicating that the effect of the mean imputation is not good.\n",
    "\n",
    "#### Method 3: MissForest imputation\n",
    "The function 'missForest' is used to impute missing values particularly in the case of mixed-type data. It uses a random forest trained on the observed values of a data matrix to predict the missing values. It can be used to impute continuous and/or categorical data including complex interactions and non-linear relations. It yields an out-of-bag (OOB) imputation error estimate without the need of a test set or elaborate cross-validation.\n",
    "\n",
    "We first make an initial guess for the missing value, for instance, replace it with the mean/median replacement, and then sort the variable from small to large according to the missing rate of the variable, first use random forest regression for the variable with the small missing rate to replace the missing value of the variable , And then iterate until the latest replacement result and the last replacement result no longer change (the change is small)."
   ]
  },
  {
   "cell_type": "code",
   "execution_count": 139,
   "metadata": {},
   "outputs": [],
   "source": [
    "library(\"missForest\")\n",
    "data.missing2<-data.missing[,-which(names(data.missing) %in% c(\"service\",\"orig_ip\",\"resp_ip\",\"history\"))]\n",
    "data.complete2<-data.complete[,-which(names(data.complete) %in% c(\"service\",\"orig_ip\",\"resp_ip\",\"history\"))]"
   ]
  },
  {
   "cell_type": "code",
   "execution_count": 146,
   "metadata": {},
   "outputs": [
    {
     "name": "stdout",
     "output_type": "stream",
     "text": [
      "  missForest iteration 1 in progress...done!\n",
      "    error(s): 0.7928336 0 \n",
      "    estimated error(s): 0.01940887 0 \n",
      "    difference(s): 6.352048e-05 0 \n",
      "    time: 15.06 seconds\n",
      "\n",
      "  missForest iteration 2 in progress...done!\n",
      "    error(s): 0.7459329 0 \n",
      "    estimated error(s): 0.01893483 0 \n",
      "    difference(s): 6.386609e-05 0 \n",
      "    time: 14.91 seconds\n",
      "\n"
     ]
    }
   ],
   "source": [
    "set.seed(10)\n",
    "forest1<- missForest(data.missing2, xtrue = data.complete2, verbose = TRUE, maxiter = 10, ntree = 10)"
   ]
  },
  {
   "cell_type": "code",
   "execution_count": 147,
   "metadata": {},
   "outputs": [
    {
     "data": {
      "text/html": [
       "<table>\n",
       "<caption>A data.frame: 6 × 13</caption>\n",
       "<thead>\n",
       "\t<tr><th></th><th scope=col>ts</th><th scope=col>orig_port</th><th scope=col>resp_port</th><th scope=col>proto</th><th scope=col>duration</th><th scope=col>orig_bytes</th><th scope=col>resp_bytes</th><th scope=col>conn_state</th><th scope=col>missed_bytes</th><th scope=col>orig_pkts</th><th scope=col>orig_ip_bytes</th><th scope=col>resp_pkts</th><th scope=col>resp_ip_bytes</th></tr>\n",
       "\t<tr><th></th><th scope=col>&lt;dbl&gt;</th><th scope=col>&lt;dbl&gt;</th><th scope=col>&lt;dbl&gt;</th><th scope=col>&lt;fct&gt;</th><th scope=col>&lt;dbl&gt;</th><th scope=col>&lt;dbl&gt;</th><th scope=col>&lt;dbl&gt;</th><th scope=col>&lt;fct&gt;</th><th scope=col>&lt;dbl&gt;</th><th scope=col>&lt;dbl&gt;</th><th scope=col>&lt;dbl&gt;</th><th scope=col>&lt;dbl&gt;</th><th scope=col>&lt;dbl&gt;</th></tr>\n",
       "</thead>\n",
       "<tbody>\n",
       "\t<tr><th scope=row>1</th><td>1331915797</td><td> 2633</td><td>   80</td><td>tcp</td><td>14.27558</td><td>3106.15769</td><td>8028.114</td><td>RSTO</td><td>0</td><td> 8</td><td> 813</td><td>9</td><td>8505</td></tr>\n",
       "\t<tr><th scope=row>2</th><td>1331921224</td><td> 4094</td><td>   80</td><td>tcp</td><td> 0.01000</td><td>7085.00000</td><td> 172.000</td><td>RSTO</td><td>0</td><td>10</td><td>7497</td><td>9</td><td> 544</td></tr>\n",
       "\t<tr><th scope=row>3</th><td>1331903910</td><td>16066</td><td>12486</td><td>tcp</td><td>19.11555</td><td>  91.80019</td><td>  17.500</td><td>REJ </td><td>0</td><td> 1</td><td>  48</td><td>1</td><td>  40</td></tr>\n",
       "\t<tr><th scope=row>4</th><td>1331988939</td><td>42997</td><td>28745</td><td>tcp</td><td>19.04756</td><td>  90.60019</td><td>   1.600</td><td>REJ </td><td>0</td><td> 1</td><td>  60</td><td>1</td><td>  40</td></tr>\n",
       "\t<tr><th scope=row>5</th><td>1331918792</td><td>38566</td><td>32754</td><td>tcp</td><td>19.11132</td><td>  90.60019</td><td>  17.500</td><td>REJ </td><td>0</td><td> 1</td><td>  48</td><td>1</td><td>  40</td></tr>\n",
       "\t<tr><th scope=row>6</th><td>1331901863</td><td>63805</td><td>45078</td><td>tcp</td><td>19.05420</td><td>  91.80019</td><td>  17.500</td><td>REJ </td><td>0</td><td> 1</td><td>  44</td><td>1</td><td>  40</td></tr>\n",
       "</tbody>\n",
       "</table>\n"
      ],
      "text/latex": [
       "A data.frame: 6 × 13\n",
       "\\begin{tabular}{r|lllllllllllll}\n",
       "  & ts & orig\\_port & resp\\_port & proto & duration & orig\\_bytes & resp\\_bytes & conn\\_state & missed\\_bytes & orig\\_pkts & orig\\_ip\\_bytes & resp\\_pkts & resp\\_ip\\_bytes\\\\\n",
       "  & <dbl> & <dbl> & <dbl> & <fct> & <dbl> & <dbl> & <dbl> & <fct> & <dbl> & <dbl> & <dbl> & <dbl> & <dbl>\\\\\n",
       "\\hline\n",
       "\t1 & 1331915797 &  2633 &    80 & tcp & 14.27558 & 3106.15769 & 8028.114 & RSTO & 0 &  8 &  813 & 9 & 8505\\\\\n",
       "\t2 & 1331921224 &  4094 &    80 & tcp &  0.01000 & 7085.00000 &  172.000 & RSTO & 0 & 10 & 7497 & 9 &  544\\\\\n",
       "\t3 & 1331903910 & 16066 & 12486 & tcp & 19.11555 &   91.80019 &   17.500 & REJ  & 0 &  1 &   48 & 1 &   40\\\\\n",
       "\t4 & 1331988939 & 42997 & 28745 & tcp & 19.04756 &   90.60019 &    1.600 & REJ  & 0 &  1 &   60 & 1 &   40\\\\\n",
       "\t5 & 1331918792 & 38566 & 32754 & tcp & 19.11132 &   90.60019 &   17.500 & REJ  & 0 &  1 &   48 & 1 &   40\\\\\n",
       "\t6 & 1331901863 & 63805 & 45078 & tcp & 19.05420 &   91.80019 &   17.500 & REJ  & 0 &  1 &   44 & 1 &   40\\\\\n",
       "\\end{tabular}\n"
      ],
      "text/markdown": [
       "\n",
       "A data.frame: 6 × 13\n",
       "\n",
       "| <!--/--> | ts &lt;dbl&gt; | orig_port &lt;dbl&gt; | resp_port &lt;dbl&gt; | proto &lt;fct&gt; | duration &lt;dbl&gt; | orig_bytes &lt;dbl&gt; | resp_bytes &lt;dbl&gt; | conn_state &lt;fct&gt; | missed_bytes &lt;dbl&gt; | orig_pkts &lt;dbl&gt; | orig_ip_bytes &lt;dbl&gt; | resp_pkts &lt;dbl&gt; | resp_ip_bytes &lt;dbl&gt; |\n",
       "|---|---|---|---|---|---|---|---|---|---|---|---|---|---|\n",
       "| 1 | 1331915797 |  2633 |    80 | tcp | 14.27558 | 3106.15769 | 8028.114 | RSTO | 0 |  8 |  813 | 9 | 8505 |\n",
       "| 2 | 1331921224 |  4094 |    80 | tcp |  0.01000 | 7085.00000 |  172.000 | RSTO | 0 | 10 | 7497 | 9 |  544 |\n",
       "| 3 | 1331903910 | 16066 | 12486 | tcp | 19.11555 |   91.80019 |   17.500 | REJ  | 0 |  1 |   48 | 1 |   40 |\n",
       "| 4 | 1331988939 | 42997 | 28745 | tcp | 19.04756 |   90.60019 |    1.600 | REJ  | 0 |  1 |   60 | 1 |   40 |\n",
       "| 5 | 1331918792 | 38566 | 32754 | tcp | 19.11132 |   90.60019 |   17.500 | REJ  | 0 |  1 |   48 | 1 |   40 |\n",
       "| 6 | 1331901863 | 63805 | 45078 | tcp | 19.05420 |   91.80019 |   17.500 | REJ  | 0 |  1 |   44 | 1 |   40 |\n",
       "\n"
      ],
      "text/plain": [
       "  ts         orig_port resp_port proto duration orig_bytes resp_bytes\n",
       "1 1331915797  2633        80     tcp   14.27558 3106.15769 8028.114  \n",
       "2 1331921224  4094        80     tcp    0.01000 7085.00000  172.000  \n",
       "3 1331903910 16066     12486     tcp   19.11555   91.80019   17.500  \n",
       "4 1331988939 42997     28745     tcp   19.04756   90.60019    1.600  \n",
       "5 1331918792 38566     32754     tcp   19.11132   90.60019   17.500  \n",
       "6 1331901863 63805     45078     tcp   19.05420   91.80019   17.500  \n",
       "  conn_state missed_bytes orig_pkts orig_ip_bytes resp_pkts resp_ip_bytes\n",
       "1 RSTO       0             8         813          9         8505         \n",
       "2 RSTO       0            10        7497          9          544         \n",
       "3 REJ        0             1          48          1           40         \n",
       "4 REJ        0             1          60          1           40         \n",
       "5 REJ        0             1          48          1           40         \n",
       "6 REJ        0             1          44          1           40         "
      ]
     },
     "metadata": {},
     "output_type": "display_data"
    },
    {
     "data": {
      "text/html": [
       "<style>\n",
       ".dl-inline {width: auto; margin:0; padding: 0}\n",
       ".dl-inline>dt, .dl-inline>dd {float: none; width: auto; display: inline-block}\n",
       ".dl-inline>dt::after {content: \":\\0020\"; padding-right: .5ex}\n",
       ".dl-inline>dt:not(:first-of-type) {padding-left: .5ex}\n",
       "</style><dl class=dl-inline><dt>NRMSE</dt><dd>0.0194088737751045</dd><dt>PFC</dt><dd>0</dd></dl>\n"
      ],
      "text/latex": [
       "\\begin{description*}\n",
       "\\item[NRMSE] 0.0194088737751045\n",
       "\\item[PFC] 0\n",
       "\\end{description*}\n"
      ],
      "text/markdown": [
       "NRMSE\n",
       ":   0.0194088737751045PFC\n",
       ":   0\n",
       "\n"
      ],
      "text/plain": [
       "     NRMSE        PFC \n",
       "0.01940887 0.00000000 "
      ]
     },
     "metadata": {},
     "output_type": "display_data"
    }
   ],
   "source": [
    "output.forest1<-forest1$ximp\n",
    "head(output.forest1)\n",
    "forest1$OOBerror"
   ]
  },
  {
   "cell_type": "markdown",
   "metadata": {},
   "source": [
    "R-squared increases and is very close to 1 compared to other methods, indicating that the effect of missforest imputation is very good.\n",
    "\n",
    "#### Researching parameters\n",
    "\"maxiter\" is the maximum number of iterations to be performed given the stopping criterion is not met beforehand. In order to avoid the program running time is too long, we set it to 10, that is, iterate at most ten times.\n",
    "\n",
    "\"ntree\" is the number of trees to grow in each forest, which should be an important parameter."
   ]
  },
  {
   "cell_type": "code",
   "execution_count": 152,
   "metadata": {},
   "outputs": [
    {
     "name": "stdout",
     "output_type": "stream",
     "text": [
      "  missForest iteration 1 in progress...done!\n",
      "    error(s): 1.233213 0 \n",
      "    estimated error(s): 0.01843294 0 \n",
      "    difference(s): 0.0005290394 0 \n",
      "    time: 43.05 seconds\n",
      "\n",
      "  missForest iteration 2 in progress...done!\n",
      "    error(s): 0.8774877 0 \n",
      "    estimated error(s): 0.01805376 0 \n",
      "    difference(s): 0.0004304837 0 \n",
      "    time: 42.9 seconds\n",
      "\n",
      "  missForest iteration 3 in progress...done!\n",
      "    error(s): 0.8313412 0 \n",
      "    estimated error(s): 0.01763182 0 \n",
      "    difference(s): 8.830291e-05 0 \n",
      "    time: 48.27 seconds\n",
      "\n",
      "  missForest iteration 4 in progress...done!\n",
      "    error(s): 0.8803801 0 \n",
      "    estimated error(s): 0.01756695 0 \n",
      "    difference(s): 6.75408e-05 0 \n",
      "    time: 45.88 seconds\n",
      "\n",
      "  missForest iteration 5 in progress...done!\n",
      "    error(s): 0.7488196 0 \n",
      "    estimated error(s): 0.01716752 0 \n",
      "    difference(s): 0.0001154925 0 \n",
      "    time: 47.24 seconds\n",
      "\n"
     ]
    }
   ],
   "source": [
    "forest2<- missForest(data.missing2, xtrue = data.complete2, verbose = TRUE, maxiter = 10, ntree = 30)"
   ]
  },
  {
   "cell_type": "code",
   "execution_count": 154,
   "metadata": {},
   "outputs": [
    {
     "data": {
      "text/html": [
       "<table>\n",
       "<caption>A data.frame: 6 × 13</caption>\n",
       "<thead>\n",
       "\t<tr><th></th><th scope=col>ts</th><th scope=col>orig_port</th><th scope=col>resp_port</th><th scope=col>proto</th><th scope=col>duration</th><th scope=col>orig_bytes</th><th scope=col>resp_bytes</th><th scope=col>conn_state</th><th scope=col>missed_bytes</th><th scope=col>orig_pkts</th><th scope=col>orig_ip_bytes</th><th scope=col>resp_pkts</th><th scope=col>resp_ip_bytes</th></tr>\n",
       "\t<tr><th></th><th scope=col>&lt;dbl&gt;</th><th scope=col>&lt;dbl&gt;</th><th scope=col>&lt;dbl&gt;</th><th scope=col>&lt;fct&gt;</th><th scope=col>&lt;dbl&gt;</th><th scope=col>&lt;dbl&gt;</th><th scope=col>&lt;dbl&gt;</th><th scope=col>&lt;fct&gt;</th><th scope=col>&lt;dbl&gt;</th><th scope=col>&lt;dbl&gt;</th><th scope=col>&lt;dbl&gt;</th><th scope=col>&lt;dbl&gt;</th><th scope=col>&lt;dbl&gt;</th></tr>\n",
       "</thead>\n",
       "<tbody>\n",
       "\t<tr><th scope=row>1</th><td>1331915797</td><td> 2633</td><td>   80</td><td>tcp</td><td>0.02846794</td><td>4.766848e+02</td><td>8.134712e+03</td><td>RSTO</td><td>0</td><td> 8</td><td> 813</td><td>9</td><td>8505</td></tr>\n",
       "\t<tr><th scope=row>2</th><td>1331921224</td><td> 4094</td><td>   80</td><td>tcp</td><td>0.01000000</td><td>7.085000e+03</td><td>1.720000e+02</td><td>RSTO</td><td>0</td><td>10</td><td>7497</td><td>9</td><td> 544</td></tr>\n",
       "\t<tr><th scope=row>3</th><td>1331903910</td><td>16066</td><td>12486</td><td>tcp</td><td>0.71132813</td><td>6.201778e-05</td><td>2.839698e-05</td><td>REJ </td><td>0</td><td> 1</td><td>  48</td><td>1</td><td>  40</td></tr>\n",
       "\t<tr><th scope=row>4</th><td>1331988939</td><td>42997</td><td>28745</td><td>tcp</td><td>0.02165369</td><td>6.201768e-05</td><td>2.839698e-05</td><td>REJ </td><td>0</td><td> 1</td><td>  60</td><td>1</td><td>  40</td></tr>\n",
       "\t<tr><th scope=row>5</th><td>1331918792</td><td>38566</td><td>32754</td><td>tcp</td><td>0.16481409</td><td>6.201768e-05</td><td>2.839698e-05</td><td>REJ </td><td>0</td><td> 1</td><td>  48</td><td>1</td><td>  40</td></tr>\n",
       "\t<tr><th scope=row>6</th><td>1331901863</td><td>63805</td><td>45078</td><td>tcp</td><td>0.19584980</td><td>6.201778e-05</td><td>2.839698e-05</td><td>REJ </td><td>0</td><td> 1</td><td>  44</td><td>1</td><td>  40</td></tr>\n",
       "</tbody>\n",
       "</table>\n"
      ],
      "text/latex": [
       "A data.frame: 6 × 13\n",
       "\\begin{tabular}{r|lllllllllllll}\n",
       "  & ts & orig\\_port & resp\\_port & proto & duration & orig\\_bytes & resp\\_bytes & conn\\_state & missed\\_bytes & orig\\_pkts & orig\\_ip\\_bytes & resp\\_pkts & resp\\_ip\\_bytes\\\\\n",
       "  & <dbl> & <dbl> & <dbl> & <fct> & <dbl> & <dbl> & <dbl> & <fct> & <dbl> & <dbl> & <dbl> & <dbl> & <dbl>\\\\\n",
       "\\hline\n",
       "\t1 & 1331915797 &  2633 &    80 & tcp & 0.02846794 & 4.766848e+02 & 8.134712e+03 & RSTO & 0 &  8 &  813 & 9 & 8505\\\\\n",
       "\t2 & 1331921224 &  4094 &    80 & tcp & 0.01000000 & 7.085000e+03 & 1.720000e+02 & RSTO & 0 & 10 & 7497 & 9 &  544\\\\\n",
       "\t3 & 1331903910 & 16066 & 12486 & tcp & 0.71132813 & 6.201778e-05 & 2.839698e-05 & REJ  & 0 &  1 &   48 & 1 &   40\\\\\n",
       "\t4 & 1331988939 & 42997 & 28745 & tcp & 0.02165369 & 6.201768e-05 & 2.839698e-05 & REJ  & 0 &  1 &   60 & 1 &   40\\\\\n",
       "\t5 & 1331918792 & 38566 & 32754 & tcp & 0.16481409 & 6.201768e-05 & 2.839698e-05 & REJ  & 0 &  1 &   48 & 1 &   40\\\\\n",
       "\t6 & 1331901863 & 63805 & 45078 & tcp & 0.19584980 & 6.201778e-05 & 2.839698e-05 & REJ  & 0 &  1 &   44 & 1 &   40\\\\\n",
       "\\end{tabular}\n"
      ],
      "text/markdown": [
       "\n",
       "A data.frame: 6 × 13\n",
       "\n",
       "| <!--/--> | ts &lt;dbl&gt; | orig_port &lt;dbl&gt; | resp_port &lt;dbl&gt; | proto &lt;fct&gt; | duration &lt;dbl&gt; | orig_bytes &lt;dbl&gt; | resp_bytes &lt;dbl&gt; | conn_state &lt;fct&gt; | missed_bytes &lt;dbl&gt; | orig_pkts &lt;dbl&gt; | orig_ip_bytes &lt;dbl&gt; | resp_pkts &lt;dbl&gt; | resp_ip_bytes &lt;dbl&gt; |\n",
       "|---|---|---|---|---|---|---|---|---|---|---|---|---|---|\n",
       "| 1 | 1331915797 |  2633 |    80 | tcp | 0.02846794 | 4.766848e+02 | 8.134712e+03 | RSTO | 0 |  8 |  813 | 9 | 8505 |\n",
       "| 2 | 1331921224 |  4094 |    80 | tcp | 0.01000000 | 7.085000e+03 | 1.720000e+02 | RSTO | 0 | 10 | 7497 | 9 |  544 |\n",
       "| 3 | 1331903910 | 16066 | 12486 | tcp | 0.71132813 | 6.201778e-05 | 2.839698e-05 | REJ  | 0 |  1 |   48 | 1 |   40 |\n",
       "| 4 | 1331988939 | 42997 | 28745 | tcp | 0.02165369 | 6.201768e-05 | 2.839698e-05 | REJ  | 0 |  1 |   60 | 1 |   40 |\n",
       "| 5 | 1331918792 | 38566 | 32754 | tcp | 0.16481409 | 6.201768e-05 | 2.839698e-05 | REJ  | 0 |  1 |   48 | 1 |   40 |\n",
       "| 6 | 1331901863 | 63805 | 45078 | tcp | 0.19584980 | 6.201778e-05 | 2.839698e-05 | REJ  | 0 |  1 |   44 | 1 |   40 |\n",
       "\n"
      ],
      "text/plain": [
       "  ts         orig_port resp_port proto duration   orig_bytes   resp_bytes  \n",
       "1 1331915797  2633        80     tcp   0.02846794 4.766848e+02 8.134712e+03\n",
       "2 1331921224  4094        80     tcp   0.01000000 7.085000e+03 1.720000e+02\n",
       "3 1331903910 16066     12486     tcp   0.71132813 6.201778e-05 2.839698e-05\n",
       "4 1331988939 42997     28745     tcp   0.02165369 6.201768e-05 2.839698e-05\n",
       "5 1331918792 38566     32754     tcp   0.16481409 6.201768e-05 2.839698e-05\n",
       "6 1331901863 63805     45078     tcp   0.19584980 6.201778e-05 2.839698e-05\n",
       "  conn_state missed_bytes orig_pkts orig_ip_bytes resp_pkts resp_ip_bytes\n",
       "1 RSTO       0             8         813          9         8505         \n",
       "2 RSTO       0            10        7497          9          544         \n",
       "3 REJ        0             1          48          1           40         \n",
       "4 REJ        0             1          60          1           40         \n",
       "5 REJ        0             1          48          1           40         \n",
       "6 REJ        0             1          44          1           40         "
      ]
     },
     "metadata": {},
     "output_type": "display_data"
    },
    {
     "data": {
      "text/html": [
       "<style>\n",
       ".dl-inline {width: auto; margin:0; padding: 0}\n",
       ".dl-inline>dt, .dl-inline>dd {float: none; width: auto; display: inline-block}\n",
       ".dl-inline>dt::after {content: \":\\0020\"; padding-right: .5ex}\n",
       ".dl-inline>dt:not(:first-of-type) {padding-left: .5ex}\n",
       "</style><dl class=dl-inline><dt>NRMSE</dt><dd>0.0175669497424145</dd><dt>PFC</dt><dd>0</dd></dl>\n"
      ],
      "text/latex": [
       "\\begin{description*}\n",
       "\\item[NRMSE] 0.0175669497424145\n",
       "\\item[PFC] 0\n",
       "\\end{description*}\n"
      ],
      "text/markdown": [
       "NRMSE\n",
       ":   0.0175669497424145PFC\n",
       ":   0\n",
       "\n"
      ],
      "text/plain": [
       "     NRMSE        PFC \n",
       "0.01756695 0.00000000 "
      ]
     },
     "metadata": {},
     "output_type": "display_data"
    }
   ],
   "source": [
    "output.forest2<-forest2$ximp\n",
    "head(output.forest2)\n",
    "forest2$OOBerror"
   ]
  },
  {
   "cell_type": "code",
   "execution_count": 155,
   "metadata": {},
   "outputs": [
    {
     "name": "stdout",
     "output_type": "stream",
     "text": [
      "  missForest iteration 1 in progress...done!\n",
      "    error(s): 1.134209 0 \n",
      "    estimated error(s): 0.01709791 0 \n",
      "    difference(s): 0.0003774341 0 \n",
      "    time: 76.12 seconds\n",
      "\n",
      "  missForest iteration 2 in progress...done!\n",
      "    error(s): 1.45594 0 \n",
      "    estimated error(s): 0.0161226 0 \n",
      "    difference(s): 0.0001907382 0 \n",
      "    time: 72.89 seconds\n",
      "\n",
      "  missForest iteration 3 in progress...done!\n",
      "    error(s): 0.755095 0 \n",
      "    estimated error(s): 0.01793464 0 \n",
      "    difference(s): 0.0007431185 0 \n",
      "    time: 68.4 seconds\n",
      "\n"
     ]
    }
   ],
   "source": [
    "set.seed(10)\n",
    "forest3<- missForest(data.missing2, xtrue = data.complete2, verbose = TRUE, maxiter = 10, ntree = 50)"
   ]
  },
  {
   "cell_type": "code",
   "execution_count": 161,
   "metadata": {},
   "outputs": [
    {
     "data": {
      "text/html": [
       "<table>\n",
       "<caption>A data.frame: 6 × 13</caption>\n",
       "<thead>\n",
       "\t<tr><th></th><th scope=col>ts</th><th scope=col>orig_port</th><th scope=col>resp_port</th><th scope=col>proto</th><th scope=col>duration</th><th scope=col>orig_bytes</th><th scope=col>resp_bytes</th><th scope=col>conn_state</th><th scope=col>missed_bytes</th><th scope=col>orig_pkts</th><th scope=col>orig_ip_bytes</th><th scope=col>resp_pkts</th><th scope=col>resp_ip_bytes</th></tr>\n",
       "\t<tr><th></th><th scope=col>&lt;dbl&gt;</th><th scope=col>&lt;dbl&gt;</th><th scope=col>&lt;dbl&gt;</th><th scope=col>&lt;fct&gt;</th><th scope=col>&lt;dbl&gt;</th><th scope=col>&lt;dbl&gt;</th><th scope=col>&lt;dbl&gt;</th><th scope=col>&lt;fct&gt;</th><th scope=col>&lt;dbl&gt;</th><th scope=col>&lt;dbl&gt;</th><th scope=col>&lt;dbl&gt;</th><th scope=col>&lt;dbl&gt;</th><th scope=col>&lt;dbl&gt;</th></tr>\n",
       "</thead>\n",
       "<tbody>\n",
       "\t<tr><th scope=row>1</th><td>1331915797</td><td> 2633</td><td>   80</td><td>tcp</td><td>116.330727</td><td>2.571107e+07</td><td>9002.0559</td><td>RSTO</td><td>0</td><td> 8</td><td> 813</td><td>9</td><td>8505</td></tr>\n",
       "\t<tr><th scope=row>2</th><td>1331921224</td><td> 4094</td><td>   80</td><td>tcp</td><td>  0.010000</td><td>7.085000e+03</td><td> 172.0000</td><td>RSTO</td><td>0</td><td>10</td><td>7497</td><td>9</td><td> 544</td></tr>\n",
       "\t<tr><th scope=row>3</th><td>1331903910</td><td>16066</td><td>12486</td><td>tcp</td><td>  9.903606</td><td>1.383312e+03</td><td> 107.5925</td><td>REJ </td><td>0</td><td> 1</td><td>  48</td><td>1</td><td>  40</td></tr>\n",
       "\t<tr><th scope=row>4</th><td>1331988939</td><td>42997</td><td>28745</td><td>tcp</td><td>  7.963623</td><td>2.065337e+02</td><td>  56.9563</td><td>REJ </td><td>0</td><td> 1</td><td>  60</td><td>1</td><td>  40</td></tr>\n",
       "\t<tr><th scope=row>5</th><td>1331918792</td><td>38566</td><td>32754</td><td>tcp</td><td>  4.797414</td><td>1.452743e+02</td><td>  24.8763</td><td>REJ </td><td>0</td><td> 1</td><td>  48</td><td>1</td><td>  40</td></tr>\n",
       "\t<tr><th scope=row>6</th><td>1331901863</td><td>63805</td><td>45078</td><td>tcp</td><td>147.316195</td><td>1.065925e+08</td><td> 345.7650</td><td>REJ </td><td>0</td><td> 1</td><td>  44</td><td>1</td><td>  40</td></tr>\n",
       "</tbody>\n",
       "</table>\n"
      ],
      "text/latex": [
       "A data.frame: 6 × 13\n",
       "\\begin{tabular}{r|lllllllllllll}\n",
       "  & ts & orig\\_port & resp\\_port & proto & duration & orig\\_bytes & resp\\_bytes & conn\\_state & missed\\_bytes & orig\\_pkts & orig\\_ip\\_bytes & resp\\_pkts & resp\\_ip\\_bytes\\\\\n",
       "  & <dbl> & <dbl> & <dbl> & <fct> & <dbl> & <dbl> & <dbl> & <fct> & <dbl> & <dbl> & <dbl> & <dbl> & <dbl>\\\\\n",
       "\\hline\n",
       "\t1 & 1331915797 &  2633 &    80 & tcp & 116.330727 & 2.571107e+07 & 9002.0559 & RSTO & 0 &  8 &  813 & 9 & 8505\\\\\n",
       "\t2 & 1331921224 &  4094 &    80 & tcp &   0.010000 & 7.085000e+03 &  172.0000 & RSTO & 0 & 10 & 7497 & 9 &  544\\\\\n",
       "\t3 & 1331903910 & 16066 & 12486 & tcp &   9.903606 & 1.383312e+03 &  107.5925 & REJ  & 0 &  1 &   48 & 1 &   40\\\\\n",
       "\t4 & 1331988939 & 42997 & 28745 & tcp &   7.963623 & 2.065337e+02 &   56.9563 & REJ  & 0 &  1 &   60 & 1 &   40\\\\\n",
       "\t5 & 1331918792 & 38566 & 32754 & tcp &   4.797414 & 1.452743e+02 &   24.8763 & REJ  & 0 &  1 &   48 & 1 &   40\\\\\n",
       "\t6 & 1331901863 & 63805 & 45078 & tcp & 147.316195 & 1.065925e+08 &  345.7650 & REJ  & 0 &  1 &   44 & 1 &   40\\\\\n",
       "\\end{tabular}\n"
      ],
      "text/markdown": [
       "\n",
       "A data.frame: 6 × 13\n",
       "\n",
       "| <!--/--> | ts &lt;dbl&gt; | orig_port &lt;dbl&gt; | resp_port &lt;dbl&gt; | proto &lt;fct&gt; | duration &lt;dbl&gt; | orig_bytes &lt;dbl&gt; | resp_bytes &lt;dbl&gt; | conn_state &lt;fct&gt; | missed_bytes &lt;dbl&gt; | orig_pkts &lt;dbl&gt; | orig_ip_bytes &lt;dbl&gt; | resp_pkts &lt;dbl&gt; | resp_ip_bytes &lt;dbl&gt; |\n",
       "|---|---|---|---|---|---|---|---|---|---|---|---|---|---|\n",
       "| 1 | 1331915797 |  2633 |    80 | tcp | 116.330727 | 2.571107e+07 | 9002.0559 | RSTO | 0 |  8 |  813 | 9 | 8505 |\n",
       "| 2 | 1331921224 |  4094 |    80 | tcp |   0.010000 | 7.085000e+03 |  172.0000 | RSTO | 0 | 10 | 7497 | 9 |  544 |\n",
       "| 3 | 1331903910 | 16066 | 12486 | tcp |   9.903606 | 1.383312e+03 |  107.5925 | REJ  | 0 |  1 |   48 | 1 |   40 |\n",
       "| 4 | 1331988939 | 42997 | 28745 | tcp |   7.963623 | 2.065337e+02 |   56.9563 | REJ  | 0 |  1 |   60 | 1 |   40 |\n",
       "| 5 | 1331918792 | 38566 | 32754 | tcp |   4.797414 | 1.452743e+02 |   24.8763 | REJ  | 0 |  1 |   48 | 1 |   40 |\n",
       "| 6 | 1331901863 | 63805 | 45078 | tcp | 147.316195 | 1.065925e+08 |  345.7650 | REJ  | 0 |  1 |   44 | 1 |   40 |\n",
       "\n"
      ],
      "text/plain": [
       "  ts         orig_port resp_port proto duration   orig_bytes   resp_bytes\n",
       "1 1331915797  2633        80     tcp   116.330727 2.571107e+07 9002.0559 \n",
       "2 1331921224  4094        80     tcp     0.010000 7.085000e+03  172.0000 \n",
       "3 1331903910 16066     12486     tcp     9.903606 1.383312e+03  107.5925 \n",
       "4 1331988939 42997     28745     tcp     7.963623 2.065337e+02   56.9563 \n",
       "5 1331918792 38566     32754     tcp     4.797414 1.452743e+02   24.8763 \n",
       "6 1331901863 63805     45078     tcp   147.316195 1.065925e+08  345.7650 \n",
       "  conn_state missed_bytes orig_pkts orig_ip_bytes resp_pkts resp_ip_bytes\n",
       "1 RSTO       0             8         813          9         8505         \n",
       "2 RSTO       0            10        7497          9          544         \n",
       "3 REJ        0             1          48          1           40         \n",
       "4 REJ        0             1          60          1           40         \n",
       "5 REJ        0             1          48          1           40         \n",
       "6 REJ        0             1          44          1           40         "
      ]
     },
     "metadata": {},
     "output_type": "display_data"
    },
    {
     "data": {
      "text/html": [
       "<style>\n",
       ".dl-inline {width: auto; margin:0; padding: 0}\n",
       ".dl-inline>dt, .dl-inline>dd {float: none; width: auto; display: inline-block}\n",
       ".dl-inline>dt::after {content: \":\\0020\"; padding-right: .5ex}\n",
       ".dl-inline>dt:not(:first-of-type) {padding-left: .5ex}\n",
       "</style><dl class=dl-inline><dt>NRMSE</dt><dd>0.016122601873</dd><dt>PFC</dt><dd>0</dd></dl>\n"
      ],
      "text/latex": [
       "\\begin{description*}\n",
       "\\item[NRMSE] 0.016122601873\n",
       "\\item[PFC] 0\n",
       "\\end{description*}\n"
      ],
      "text/markdown": [
       "NRMSE\n",
       ":   0.016122601873PFC\n",
       ":   0\n",
       "\n"
      ],
      "text/plain": [
       "    NRMSE       PFC \n",
       "0.0161226 0.0000000 "
      ]
     },
     "metadata": {},
     "output_type": "display_data"
    }
   ],
   "source": [
    "output.forest3<-forest3$ximp\n",
    "head(output.forest3)\n",
    "forest3$OOBerror"
   ]
  },
  {
   "cell_type": "code",
   "execution_count": 162,
   "metadata": {},
   "outputs": [
    {
     "name": "stdout",
     "output_type": "stream",
     "text": [
      "  missForest iteration 1 in progress...done!\n",
      "    error(s): 1.037637 0 \n",
      "    estimated error(s): 0.01647088 0 \n",
      "    difference(s): 0.0003575509 0 \n",
      "    time: 111.19 seconds\n",
      "\n",
      "  missForest iteration 2 in progress...done!\n",
      "    error(s): 1.564563 0 \n",
      "    estimated error(s): 0.01683789 0 \n",
      "    difference(s): 0.0003678818 0 \n",
      "    time: 101.84 seconds\n",
      "\n"
     ]
    }
   ],
   "source": [
    "set.seed(10)\n",
    "forest4<- missForest(data.missing2, xtrue = data.complete2, verbose = TRUE, maxiter = 10, ntree = 70)"
   ]
  },
  {
   "cell_type": "code",
   "execution_count": 163,
   "metadata": {},
   "outputs": [
    {
     "data": {
      "text/html": [
       "<table>\n",
       "<caption>A data.frame: 6 × 13</caption>\n",
       "<thead>\n",
       "\t<tr><th></th><th scope=col>ts</th><th scope=col>orig_port</th><th scope=col>resp_port</th><th scope=col>proto</th><th scope=col>duration</th><th scope=col>orig_bytes</th><th scope=col>resp_bytes</th><th scope=col>conn_state</th><th scope=col>missed_bytes</th><th scope=col>orig_pkts</th><th scope=col>orig_ip_bytes</th><th scope=col>resp_pkts</th><th scope=col>resp_ip_bytes</th></tr>\n",
       "\t<tr><th></th><th scope=col>&lt;dbl&gt;</th><th scope=col>&lt;dbl&gt;</th><th scope=col>&lt;dbl&gt;</th><th scope=col>&lt;fct&gt;</th><th scope=col>&lt;dbl&gt;</th><th scope=col>&lt;dbl&gt;</th><th scope=col>&lt;dbl&gt;</th><th scope=col>&lt;fct&gt;</th><th scope=col>&lt;dbl&gt;</th><th scope=col>&lt;dbl&gt;</th><th scope=col>&lt;dbl&gt;</th><th scope=col>&lt;dbl&gt;</th><th scope=col>&lt;dbl&gt;</th></tr>\n",
       "</thead>\n",
       "<tbody>\n",
       "\t<tr><th scope=row>1</th><td>1331915797</td><td> 2633</td><td>   80</td><td>tcp</td><td>23.52449</td><td>    1256.343</td><td>  7411.49810</td><td>RSTO</td><td>0</td><td> 8</td><td> 813</td><td>9</td><td>8505</td></tr>\n",
       "\t<tr><th scope=row>2</th><td>1331921224</td><td> 4094</td><td>   80</td><td>tcp</td><td> 0.01000</td><td>    7085.000</td><td>   172.00000</td><td>RSTO</td><td>0</td><td>10</td><td>7497</td><td>9</td><td> 544</td></tr>\n",
       "\t<tr><th scope=row>3</th><td>1331903910</td><td>16066</td><td>12486</td><td>tcp</td><td>77.29415</td><td>    6232.815</td><td>    79.28163</td><td>REJ </td><td>0</td><td> 1</td><td>  48</td><td>1</td><td>  40</td></tr>\n",
       "\t<tr><th scope=row>4</th><td>1331988939</td><td>42997</td><td>28745</td><td>tcp</td><td>35.47495</td><td>   13916.803</td><td>   147.75714</td><td>REJ </td><td>0</td><td> 1</td><td>  60</td><td>1</td><td>  40</td></tr>\n",
       "\t<tr><th scope=row>5</th><td>1331918792</td><td>38566</td><td>32754</td><td>tcp</td><td>77.74704</td><td>    5982.272</td><td>    45.79592</td><td>REJ </td><td>0</td><td> 1</td><td>  48</td><td>1</td><td>  40</td></tr>\n",
       "\t<tr><th scope=row>6</th><td>1331901863</td><td>63805</td><td>45078</td><td>tcp</td><td>35.27965</td><td>50762731.057</td><td>447009.60357</td><td>REJ </td><td>0</td><td> 1</td><td>  44</td><td>1</td><td>  40</td></tr>\n",
       "</tbody>\n",
       "</table>\n"
      ],
      "text/latex": [
       "A data.frame: 6 × 13\n",
       "\\begin{tabular}{r|lllllllllllll}\n",
       "  & ts & orig\\_port & resp\\_port & proto & duration & orig\\_bytes & resp\\_bytes & conn\\_state & missed\\_bytes & orig\\_pkts & orig\\_ip\\_bytes & resp\\_pkts & resp\\_ip\\_bytes\\\\\n",
       "  & <dbl> & <dbl> & <dbl> & <fct> & <dbl> & <dbl> & <dbl> & <fct> & <dbl> & <dbl> & <dbl> & <dbl> & <dbl>\\\\\n",
       "\\hline\n",
       "\t1 & 1331915797 &  2633 &    80 & tcp & 23.52449 &     1256.343 &   7411.49810 & RSTO & 0 &  8 &  813 & 9 & 8505\\\\\n",
       "\t2 & 1331921224 &  4094 &    80 & tcp &  0.01000 &     7085.000 &    172.00000 & RSTO & 0 & 10 & 7497 & 9 &  544\\\\\n",
       "\t3 & 1331903910 & 16066 & 12486 & tcp & 77.29415 &     6232.815 &     79.28163 & REJ  & 0 &  1 &   48 & 1 &   40\\\\\n",
       "\t4 & 1331988939 & 42997 & 28745 & tcp & 35.47495 &    13916.803 &    147.75714 & REJ  & 0 &  1 &   60 & 1 &   40\\\\\n",
       "\t5 & 1331918792 & 38566 & 32754 & tcp & 77.74704 &     5982.272 &     45.79592 & REJ  & 0 &  1 &   48 & 1 &   40\\\\\n",
       "\t6 & 1331901863 & 63805 & 45078 & tcp & 35.27965 & 50762731.057 & 447009.60357 & REJ  & 0 &  1 &   44 & 1 &   40\\\\\n",
       "\\end{tabular}\n"
      ],
      "text/markdown": [
       "\n",
       "A data.frame: 6 × 13\n",
       "\n",
       "| <!--/--> | ts &lt;dbl&gt; | orig_port &lt;dbl&gt; | resp_port &lt;dbl&gt; | proto &lt;fct&gt; | duration &lt;dbl&gt; | orig_bytes &lt;dbl&gt; | resp_bytes &lt;dbl&gt; | conn_state &lt;fct&gt; | missed_bytes &lt;dbl&gt; | orig_pkts &lt;dbl&gt; | orig_ip_bytes &lt;dbl&gt; | resp_pkts &lt;dbl&gt; | resp_ip_bytes &lt;dbl&gt; |\n",
       "|---|---|---|---|---|---|---|---|---|---|---|---|---|---|\n",
       "| 1 | 1331915797 |  2633 |    80 | tcp | 23.52449 |     1256.343 |   7411.49810 | RSTO | 0 |  8 |  813 | 9 | 8505 |\n",
       "| 2 | 1331921224 |  4094 |    80 | tcp |  0.01000 |     7085.000 |    172.00000 | RSTO | 0 | 10 | 7497 | 9 |  544 |\n",
       "| 3 | 1331903910 | 16066 | 12486 | tcp | 77.29415 |     6232.815 |     79.28163 | REJ  | 0 |  1 |   48 | 1 |   40 |\n",
       "| 4 | 1331988939 | 42997 | 28745 | tcp | 35.47495 |    13916.803 |    147.75714 | REJ  | 0 |  1 |   60 | 1 |   40 |\n",
       "| 5 | 1331918792 | 38566 | 32754 | tcp | 77.74704 |     5982.272 |     45.79592 | REJ  | 0 |  1 |   48 | 1 |   40 |\n",
       "| 6 | 1331901863 | 63805 | 45078 | tcp | 35.27965 | 50762731.057 | 447009.60357 | REJ  | 0 |  1 |   44 | 1 |   40 |\n",
       "\n"
      ],
      "text/plain": [
       "  ts         orig_port resp_port proto duration orig_bytes   resp_bytes  \n",
       "1 1331915797  2633        80     tcp   23.52449     1256.343   7411.49810\n",
       "2 1331921224  4094        80     tcp    0.01000     7085.000    172.00000\n",
       "3 1331903910 16066     12486     tcp   77.29415     6232.815     79.28163\n",
       "4 1331988939 42997     28745     tcp   35.47495    13916.803    147.75714\n",
       "5 1331918792 38566     32754     tcp   77.74704     5982.272     45.79592\n",
       "6 1331901863 63805     45078     tcp   35.27965 50762731.057 447009.60357\n",
       "  conn_state missed_bytes orig_pkts orig_ip_bytes resp_pkts resp_ip_bytes\n",
       "1 RSTO       0             8         813          9         8505         \n",
       "2 RSTO       0            10        7497          9          544         \n",
       "3 REJ        0             1          48          1           40         \n",
       "4 REJ        0             1          60          1           40         \n",
       "5 REJ        0             1          48          1           40         \n",
       "6 REJ        0             1          44          1           40         "
      ]
     },
     "metadata": {},
     "output_type": "display_data"
    },
    {
     "data": {
      "text/html": [
       "<style>\n",
       ".dl-inline {width: auto; margin:0; padding: 0}\n",
       ".dl-inline>dt, .dl-inline>dd {float: none; width: auto; display: inline-block}\n",
       ".dl-inline>dt::after {content: \":\\0020\"; padding-right: .5ex}\n",
       ".dl-inline>dt:not(:first-of-type) {padding-left: .5ex}\n",
       "</style><dl class=dl-inline><dt>NRMSE</dt><dd>0.0164708773349195</dd><dt>PFC</dt><dd>0</dd></dl>\n"
      ],
      "text/latex": [
       "\\begin{description*}\n",
       "\\item[NRMSE] 0.0164708773349195\n",
       "\\item[PFC] 0\n",
       "\\end{description*}\n"
      ],
      "text/markdown": [
       "NRMSE\n",
       ":   0.0164708773349195PFC\n",
       ":   0\n",
       "\n"
      ],
      "text/plain": [
       "     NRMSE        PFC \n",
       "0.01647088 0.00000000 "
      ]
     },
     "metadata": {},
     "output_type": "display_data"
    }
   ],
   "source": [
    "output.forest4<-forest4$ximp\n",
    "head(output.forest4)\n",
    "forest4$OOBerror"
   ]
  },
  {
   "cell_type": "code",
   "execution_count": 174,
   "metadata": {},
   "outputs": [
    {
     "name": "stdout",
     "output_type": "stream",
     "text": [
      "  missForest iteration 1 in progress...done!\n",
      "    error(s): 0.8923554 0 \n",
      "    estimated error(s): 0.02055043 0 \n",
      "    difference(s): 0.0001350903 0 \n",
      "    time: 7.97 seconds\n",
      "\n",
      "  missForest iteration 2 in progress...done!\n",
      "    error(s): 0.793912 0 \n",
      "    estimated error(s): 0.02035505 0 \n",
      "    difference(s): 0.0002398415 0 \n",
      "    time: 7.98 seconds\n",
      "\n"
     ]
    }
   ],
   "source": [
    "set.seed(10)\n",
    "forest5<- missForest(data.missing2, xtrue = data.complete2, verbose = TRUE, maxiter = 10, ntree = 5)"
   ]
  },
  {
   "cell_type": "code",
   "execution_count": 175,
   "metadata": {},
   "outputs": [
    {
     "data": {
      "text/html": [
       "<table>\n",
       "<caption>A data.frame: 6 × 13</caption>\n",
       "<thead>\n",
       "\t<tr><th></th><th scope=col>ts</th><th scope=col>orig_port</th><th scope=col>resp_port</th><th scope=col>proto</th><th scope=col>duration</th><th scope=col>orig_bytes</th><th scope=col>resp_bytes</th><th scope=col>conn_state</th><th scope=col>missed_bytes</th><th scope=col>orig_pkts</th><th scope=col>orig_ip_bytes</th><th scope=col>resp_pkts</th><th scope=col>resp_ip_bytes</th></tr>\n",
       "\t<tr><th></th><th scope=col>&lt;dbl&gt;</th><th scope=col>&lt;dbl&gt;</th><th scope=col>&lt;dbl&gt;</th><th scope=col>&lt;fct&gt;</th><th scope=col>&lt;dbl&gt;</th><th scope=col>&lt;dbl&gt;</th><th scope=col>&lt;dbl&gt;</th><th scope=col>&lt;fct&gt;</th><th scope=col>&lt;dbl&gt;</th><th scope=col>&lt;dbl&gt;</th><th scope=col>&lt;dbl&gt;</th><th scope=col>&lt;dbl&gt;</th><th scope=col>&lt;dbl&gt;</th></tr>\n",
       "</thead>\n",
       "<tbody>\n",
       "\t<tr><th scope=row>1</th><td>1331915797</td><td> 2633</td><td>   80</td><td>tcp</td><td>3.28000000</td><td> 519.3273</td><td> 8.133000e+03</td><td>RSTO</td><td>0</td><td> 8</td><td> 813</td><td>9</td><td>8505</td></tr>\n",
       "\t<tr><th scope=row>2</th><td>1331921224</td><td> 4094</td><td>   80</td><td>tcp</td><td>0.01000000</td><td>7085.0000</td><td> 1.720000e+02</td><td>RSTO</td><td>0</td><td>10</td><td>7497</td><td>9</td><td> 544</td></tr>\n",
       "\t<tr><th scope=row>3</th><td>1331903910</td><td>16066</td><td>12486</td><td>tcp</td><td>0.14710218</td><td>  14.8000</td><td> 3.200000e+00</td><td>REJ </td><td>0</td><td> 1</td><td>  48</td><td>1</td><td>  40</td></tr>\n",
       "\t<tr><th scope=row>4</th><td>1331988939</td><td>42997</td><td>28745</td><td>tcp</td><td>0.01112933</td><td>  10.0000</td><td>-8.731149e-12</td><td>REJ </td><td>0</td><td> 1</td><td>  60</td><td>1</td><td>  40</td></tr>\n",
       "\t<tr><th scope=row>5</th><td>1331918792</td><td>38566</td><td>32754</td><td>tcp</td><td>0.13863008</td><td>  16.0000</td><td>-1.678018e-11</td><td>REJ </td><td>0</td><td> 1</td><td>  48</td><td>1</td><td>  40</td></tr>\n",
       "\t<tr><th scope=row>6</th><td>1331901863</td><td>63805</td><td>45078</td><td>tcp</td><td>0.02439315</td><td>  10.0000</td><td>-1.687113e-11</td><td>REJ </td><td>0</td><td> 1</td><td>  44</td><td>1</td><td>  40</td></tr>\n",
       "</tbody>\n",
       "</table>\n"
      ],
      "text/latex": [
       "A data.frame: 6 × 13\n",
       "\\begin{tabular}{r|lllllllllllll}\n",
       "  & ts & orig\\_port & resp\\_port & proto & duration & orig\\_bytes & resp\\_bytes & conn\\_state & missed\\_bytes & orig\\_pkts & orig\\_ip\\_bytes & resp\\_pkts & resp\\_ip\\_bytes\\\\\n",
       "  & <dbl> & <dbl> & <dbl> & <fct> & <dbl> & <dbl> & <dbl> & <fct> & <dbl> & <dbl> & <dbl> & <dbl> & <dbl>\\\\\n",
       "\\hline\n",
       "\t1 & 1331915797 &  2633 &    80 & tcp & 3.28000000 &  519.3273 &  8.133000e+03 & RSTO & 0 &  8 &  813 & 9 & 8505\\\\\n",
       "\t2 & 1331921224 &  4094 &    80 & tcp & 0.01000000 & 7085.0000 &  1.720000e+02 & RSTO & 0 & 10 & 7497 & 9 &  544\\\\\n",
       "\t3 & 1331903910 & 16066 & 12486 & tcp & 0.14710218 &   14.8000 &  3.200000e+00 & REJ  & 0 &  1 &   48 & 1 &   40\\\\\n",
       "\t4 & 1331988939 & 42997 & 28745 & tcp & 0.01112933 &   10.0000 & -8.731149e-12 & REJ  & 0 &  1 &   60 & 1 &   40\\\\\n",
       "\t5 & 1331918792 & 38566 & 32754 & tcp & 0.13863008 &   16.0000 & -1.678018e-11 & REJ  & 0 &  1 &   48 & 1 &   40\\\\\n",
       "\t6 & 1331901863 & 63805 & 45078 & tcp & 0.02439315 &   10.0000 & -1.687113e-11 & REJ  & 0 &  1 &   44 & 1 &   40\\\\\n",
       "\\end{tabular}\n"
      ],
      "text/markdown": [
       "\n",
       "A data.frame: 6 × 13\n",
       "\n",
       "| <!--/--> | ts &lt;dbl&gt; | orig_port &lt;dbl&gt; | resp_port &lt;dbl&gt; | proto &lt;fct&gt; | duration &lt;dbl&gt; | orig_bytes &lt;dbl&gt; | resp_bytes &lt;dbl&gt; | conn_state &lt;fct&gt; | missed_bytes &lt;dbl&gt; | orig_pkts &lt;dbl&gt; | orig_ip_bytes &lt;dbl&gt; | resp_pkts &lt;dbl&gt; | resp_ip_bytes &lt;dbl&gt; |\n",
       "|---|---|---|---|---|---|---|---|---|---|---|---|---|---|\n",
       "| 1 | 1331915797 |  2633 |    80 | tcp | 3.28000000 |  519.3273 |  8.133000e+03 | RSTO | 0 |  8 |  813 | 9 | 8505 |\n",
       "| 2 | 1331921224 |  4094 |    80 | tcp | 0.01000000 | 7085.0000 |  1.720000e+02 | RSTO | 0 | 10 | 7497 | 9 |  544 |\n",
       "| 3 | 1331903910 | 16066 | 12486 | tcp | 0.14710218 |   14.8000 |  3.200000e+00 | REJ  | 0 |  1 |   48 | 1 |   40 |\n",
       "| 4 | 1331988939 | 42997 | 28745 | tcp | 0.01112933 |   10.0000 | -8.731149e-12 | REJ  | 0 |  1 |   60 | 1 |   40 |\n",
       "| 5 | 1331918792 | 38566 | 32754 | tcp | 0.13863008 |   16.0000 | -1.678018e-11 | REJ  | 0 |  1 |   48 | 1 |   40 |\n",
       "| 6 | 1331901863 | 63805 | 45078 | tcp | 0.02439315 |   10.0000 | -1.687113e-11 | REJ  | 0 |  1 |   44 | 1 |   40 |\n",
       "\n"
      ],
      "text/plain": [
       "  ts         orig_port resp_port proto duration   orig_bytes resp_bytes   \n",
       "1 1331915797  2633        80     tcp   3.28000000  519.3273   8.133000e+03\n",
       "2 1331921224  4094        80     tcp   0.01000000 7085.0000   1.720000e+02\n",
       "3 1331903910 16066     12486     tcp   0.14710218   14.8000   3.200000e+00\n",
       "4 1331988939 42997     28745     tcp   0.01112933   10.0000  -8.731149e-12\n",
       "5 1331918792 38566     32754     tcp   0.13863008   16.0000  -1.678018e-11\n",
       "6 1331901863 63805     45078     tcp   0.02439315   10.0000  -1.687113e-11\n",
       "  conn_state missed_bytes orig_pkts orig_ip_bytes resp_pkts resp_ip_bytes\n",
       "1 RSTO       0             8         813          9         8505         \n",
       "2 RSTO       0            10        7497          9          544         \n",
       "3 REJ        0             1          48          1           40         \n",
       "4 REJ        0             1          60          1           40         \n",
       "5 REJ        0             1          48          1           40         \n",
       "6 REJ        0             1          44          1           40         "
      ]
     },
     "metadata": {},
     "output_type": "display_data"
    },
    {
     "data": {
      "text/html": [
       "<style>\n",
       ".dl-inline {width: auto; margin:0; padding: 0}\n",
       ".dl-inline>dt, .dl-inline>dd {float: none; width: auto; display: inline-block}\n",
       ".dl-inline>dt::after {content: \":\\0020\"; padding-right: .5ex}\n",
       ".dl-inline>dt:not(:first-of-type) {padding-left: .5ex}\n",
       "</style><dl class=dl-inline><dt>NRMSE</dt><dd>0.0205504299955888</dd><dt>PFC</dt><dd>0</dd></dl>\n"
      ],
      "text/latex": [
       "\\begin{description*}\n",
       "\\item[NRMSE] 0.0205504299955888\n",
       "\\item[PFC] 0\n",
       "\\end{description*}\n"
      ],
      "text/markdown": [
       "NRMSE\n",
       ":   0.0205504299955888PFC\n",
       ":   0\n",
       "\n"
      ],
      "text/plain": [
       "     NRMSE        PFC \n",
       "0.02055043 0.00000000 "
      ]
     },
     "metadata": {},
     "output_type": "display_data"
    }
   ],
   "source": [
    "output.forest5<-forest5$ximp\n",
    "head(output.forest5)\n",
    "forest5$OOBerror"
   ]
  },
  {
   "cell_type": "markdown",
   "metadata": {},
   "source": [
    "The influence of \"ntree\" on the result of imputation is not monotonous, but it is certain that the larger it is, the more time it takes for each iteration, that is, the more complicated the calculation.\n",
    "\n",
    "After taking the value of ntree many times, we think that the initial value of 100 has the best imputation effect, although its number of iterations and total time spent are very large.\n",
    "\n",
    "Then \"mtry\" is also an important parameter, which means the number of variables randomly sampled at each split. This argument is directly supplied to the 'randomForest' function. Note that the default value is sqrt(p) for both categorical and continuous variables where p is the number of variables in data."
   ]
  },
  {
   "cell_type": "code",
   "execution_count": 114,
   "metadata": {},
   "outputs": [
    {
     "data": {
      "text/html": [
       "3"
      ],
      "text/latex": [
       "3"
      ],
      "text/markdown": [
       "3"
      ],
      "text/plain": [
       "[1] 3"
      ]
     },
     "metadata": {},
     "output_type": "display_data"
    }
   ],
   "source": [
    "floor(sqrt(ncol(data.missing2)))"
   ]
  },
  {
   "cell_type": "code",
   "execution_count": 178,
   "metadata": {},
   "outputs": [
    {
     "name": "stdout",
     "output_type": "stream",
     "text": [
      "  missForest iteration 1 in progress...done!\n",
      "    error(s): 0.8196982 0 \n",
      "    estimated error(s): 0.01881083 0 \n",
      "    difference(s): 0.0002292525 0 \n",
      "    time: 7.78 seconds\n",
      "\n",
      "  missForest iteration 2 in progress...done!\n",
      "    error(s): 0.7666994 0 \n",
      "    estimated error(s): 0.01841062 0 \n",
      "    difference(s): 0.0001141258 0 \n",
      "    time: 7.69 seconds\n",
      "\n",
      "  missForest iteration 3 in progress...done!\n",
      "    error(s): 0.8568192 0 \n",
      "    estimated error(s): 0.02071922 0 \n",
      "    difference(s): 9.366762e-05 0 \n",
      "    time: 7.83 seconds\n",
      "\n",
      "  missForest iteration 4 in progress...done!\n",
      "    error(s): 0.7283854 0 \n",
      "    estimated error(s): 0.01683268 0 \n",
      "    difference(s): 7.065194e-05 0 \n",
      "    time: 8.41 seconds\n",
      "\n",
      "  missForest iteration 5 in progress...done!\n",
      "    error(s): 0.7659311 0 \n",
      "    estimated error(s): 0.01809248 0 \n",
      "    difference(s): 7.038159e-05 0 \n",
      "    time: 7.51 seconds\n",
      "\n",
      "  missForest iteration 6 in progress...done!\n",
      "    error(s): 0.697914 0 \n",
      "    estimated error(s): 0.01891445 0 \n",
      "    difference(s): 8.16905e-05 0 \n",
      "    time: 7.72 seconds\n",
      "\n"
     ]
    }
   ],
   "source": [
    "forest6<- missForest(data.missing2, xtrue = data.complete2, verbose = TRUE, maxiter = 10, ntree = 10, \"mtry\" = 2)"
   ]
  },
  {
   "cell_type": "code",
   "execution_count": 181,
   "metadata": {},
   "outputs": [
    {
     "data": {
      "text/html": [
       "<table>\n",
       "<caption>A data.frame: 6 × 13</caption>\n",
       "<thead>\n",
       "\t<tr><th></th><th scope=col>ts</th><th scope=col>orig_port</th><th scope=col>resp_port</th><th scope=col>proto</th><th scope=col>duration</th><th scope=col>orig_bytes</th><th scope=col>resp_bytes</th><th scope=col>conn_state</th><th scope=col>missed_bytes</th><th scope=col>orig_pkts</th><th scope=col>orig_ip_bytes</th><th scope=col>resp_pkts</th><th scope=col>resp_ip_bytes</th></tr>\n",
       "\t<tr><th></th><th scope=col>&lt;dbl&gt;</th><th scope=col>&lt;dbl&gt;</th><th scope=col>&lt;dbl&gt;</th><th scope=col>&lt;fct&gt;</th><th scope=col>&lt;dbl&gt;</th><th scope=col>&lt;dbl&gt;</th><th scope=col>&lt;dbl&gt;</th><th scope=col>&lt;fct&gt;</th><th scope=col>&lt;dbl&gt;</th><th scope=col>&lt;dbl&gt;</th><th scope=col>&lt;dbl&gt;</th><th scope=col>&lt;dbl&gt;</th><th scope=col>&lt;dbl&gt;</th></tr>\n",
       "</thead>\n",
       "<tbody>\n",
       "\t<tr><th scope=row>1</th><td>1331915797</td><td> 2633</td><td>   80</td><td>tcp</td><td>3.28000000</td><td> 519.3273</td><td> 8.133000e+03</td><td>RSTO</td><td>0</td><td> 8</td><td> 813</td><td>9</td><td>8505</td></tr>\n",
       "\t<tr><th scope=row>2</th><td>1331921224</td><td> 4094</td><td>   80</td><td>tcp</td><td>0.01000000</td><td>7085.0000</td><td> 1.720000e+02</td><td>RSTO</td><td>0</td><td>10</td><td>7497</td><td>9</td><td> 544</td></tr>\n",
       "\t<tr><th scope=row>3</th><td>1331903910</td><td>16066</td><td>12486</td><td>tcp</td><td>0.14710218</td><td>  14.8000</td><td> 3.200000e+00</td><td>REJ </td><td>0</td><td> 1</td><td>  48</td><td>1</td><td>  40</td></tr>\n",
       "\t<tr><th scope=row>4</th><td>1331988939</td><td>42997</td><td>28745</td><td>tcp</td><td>0.01112933</td><td>  10.0000</td><td>-8.731149e-12</td><td>REJ </td><td>0</td><td> 1</td><td>  60</td><td>1</td><td>  40</td></tr>\n",
       "\t<tr><th scope=row>5</th><td>1331918792</td><td>38566</td><td>32754</td><td>tcp</td><td>0.13863008</td><td>  16.0000</td><td>-1.678018e-11</td><td>REJ </td><td>0</td><td> 1</td><td>  48</td><td>1</td><td>  40</td></tr>\n",
       "\t<tr><th scope=row>6</th><td>1331901863</td><td>63805</td><td>45078</td><td>tcp</td><td>0.02439315</td><td>  10.0000</td><td>-1.687113e-11</td><td>REJ </td><td>0</td><td> 1</td><td>  44</td><td>1</td><td>  40</td></tr>\n",
       "</tbody>\n",
       "</table>\n"
      ],
      "text/latex": [
       "A data.frame: 6 × 13\n",
       "\\begin{tabular}{r|lllllllllllll}\n",
       "  & ts & orig\\_port & resp\\_port & proto & duration & orig\\_bytes & resp\\_bytes & conn\\_state & missed\\_bytes & orig\\_pkts & orig\\_ip\\_bytes & resp\\_pkts & resp\\_ip\\_bytes\\\\\n",
       "  & <dbl> & <dbl> & <dbl> & <fct> & <dbl> & <dbl> & <dbl> & <fct> & <dbl> & <dbl> & <dbl> & <dbl> & <dbl>\\\\\n",
       "\\hline\n",
       "\t1 & 1331915797 &  2633 &    80 & tcp & 3.28000000 &  519.3273 &  8.133000e+03 & RSTO & 0 &  8 &  813 & 9 & 8505\\\\\n",
       "\t2 & 1331921224 &  4094 &    80 & tcp & 0.01000000 & 7085.0000 &  1.720000e+02 & RSTO & 0 & 10 & 7497 & 9 &  544\\\\\n",
       "\t3 & 1331903910 & 16066 & 12486 & tcp & 0.14710218 &   14.8000 &  3.200000e+00 & REJ  & 0 &  1 &   48 & 1 &   40\\\\\n",
       "\t4 & 1331988939 & 42997 & 28745 & tcp & 0.01112933 &   10.0000 & -8.731149e-12 & REJ  & 0 &  1 &   60 & 1 &   40\\\\\n",
       "\t5 & 1331918792 & 38566 & 32754 & tcp & 0.13863008 &   16.0000 & -1.678018e-11 & REJ  & 0 &  1 &   48 & 1 &   40\\\\\n",
       "\t6 & 1331901863 & 63805 & 45078 & tcp & 0.02439315 &   10.0000 & -1.687113e-11 & REJ  & 0 &  1 &   44 & 1 &   40\\\\\n",
       "\\end{tabular}\n"
      ],
      "text/markdown": [
       "\n",
       "A data.frame: 6 × 13\n",
       "\n",
       "| <!--/--> | ts &lt;dbl&gt; | orig_port &lt;dbl&gt; | resp_port &lt;dbl&gt; | proto &lt;fct&gt; | duration &lt;dbl&gt; | orig_bytes &lt;dbl&gt; | resp_bytes &lt;dbl&gt; | conn_state &lt;fct&gt; | missed_bytes &lt;dbl&gt; | orig_pkts &lt;dbl&gt; | orig_ip_bytes &lt;dbl&gt; | resp_pkts &lt;dbl&gt; | resp_ip_bytes &lt;dbl&gt; |\n",
       "|---|---|---|---|---|---|---|---|---|---|---|---|---|---|\n",
       "| 1 | 1331915797 |  2633 |    80 | tcp | 3.28000000 |  519.3273 |  8.133000e+03 | RSTO | 0 |  8 |  813 | 9 | 8505 |\n",
       "| 2 | 1331921224 |  4094 |    80 | tcp | 0.01000000 | 7085.0000 |  1.720000e+02 | RSTO | 0 | 10 | 7497 | 9 |  544 |\n",
       "| 3 | 1331903910 | 16066 | 12486 | tcp | 0.14710218 |   14.8000 |  3.200000e+00 | REJ  | 0 |  1 |   48 | 1 |   40 |\n",
       "| 4 | 1331988939 | 42997 | 28745 | tcp | 0.01112933 |   10.0000 | -8.731149e-12 | REJ  | 0 |  1 |   60 | 1 |   40 |\n",
       "| 5 | 1331918792 | 38566 | 32754 | tcp | 0.13863008 |   16.0000 | -1.678018e-11 | REJ  | 0 |  1 |   48 | 1 |   40 |\n",
       "| 6 | 1331901863 | 63805 | 45078 | tcp | 0.02439315 |   10.0000 | -1.687113e-11 | REJ  | 0 |  1 |   44 | 1 |   40 |\n",
       "\n"
      ],
      "text/plain": [
       "  ts         orig_port resp_port proto duration   orig_bytes resp_bytes   \n",
       "1 1331915797  2633        80     tcp   3.28000000  519.3273   8.133000e+03\n",
       "2 1331921224  4094        80     tcp   0.01000000 7085.0000   1.720000e+02\n",
       "3 1331903910 16066     12486     tcp   0.14710218   14.8000   3.200000e+00\n",
       "4 1331988939 42997     28745     tcp   0.01112933   10.0000  -8.731149e-12\n",
       "5 1331918792 38566     32754     tcp   0.13863008   16.0000  -1.678018e-11\n",
       "6 1331901863 63805     45078     tcp   0.02439315   10.0000  -1.687113e-11\n",
       "  conn_state missed_bytes orig_pkts orig_ip_bytes resp_pkts resp_ip_bytes\n",
       "1 RSTO       0             8         813          9         8505         \n",
       "2 RSTO       0            10        7497          9          544         \n",
       "3 REJ        0             1          48          1           40         \n",
       "4 REJ        0             1          60          1           40         \n",
       "5 REJ        0             1          48          1           40         \n",
       "6 REJ        0             1          44          1           40         "
      ]
     },
     "metadata": {},
     "output_type": "display_data"
    },
    {
     "data": {
      "text/html": [
       "<style>\n",
       ".dl-inline {width: auto; margin:0; padding: 0}\n",
       ".dl-inline>dt, .dl-inline>dd {float: none; width: auto; display: inline-block}\n",
       ".dl-inline>dt::after {content: \":\\0020\"; padding-right: .5ex}\n",
       ".dl-inline>dt:not(:first-of-type) {padding-left: .5ex}\n",
       "</style><dl class=dl-inline><dt>NRMSE</dt><dd>0.0180924783064488</dd><dt>PFC</dt><dd>0</dd></dl>\n"
      ],
      "text/latex": [
       "\\begin{description*}\n",
       "\\item[NRMSE] 0.0180924783064488\n",
       "\\item[PFC] 0\n",
       "\\end{description*}\n"
      ],
      "text/markdown": [
       "NRMSE\n",
       ":   0.0180924783064488PFC\n",
       ":   0\n",
       "\n"
      ],
      "text/plain": [
       "     NRMSE        PFC \n",
       "0.01809248 0.00000000 "
      ]
     },
     "metadata": {},
     "output_type": "display_data"
    }
   ],
   "source": [
    "output.forest6<-forest6$ximp\n",
    "head(output.forest5)\n",
    "forest6$OOBerror"
   ]
  },
  {
   "cell_type": "code",
   "execution_count": 184,
   "metadata": {},
   "outputs": [
    {
     "name": "stdout",
     "output_type": "stream",
     "text": [
      "  missForest iteration 1 in progress...done!\n",
      "    error(s): 1.381456 0 \n",
      "    estimated error(s): 0.01850885 0 \n",
      "    difference(s): 0.0007801001 0 \n",
      "    time: 23.32 seconds\n",
      "\n",
      "  missForest iteration 2 in progress...done!\n",
      "    error(s): 0.804288 0 \n",
      "    estimated error(s): 0.02000478 0 \n",
      "    difference(s): 0.0006638453 0 \n",
      "    time: 24.88 seconds\n",
      "\n",
      "  missForest iteration 3 in progress...done!\n",
      "    error(s): 0.8226243 0 \n",
      "    estimated error(s): 0.01886127 0 \n",
      "    difference(s): 0.0001260654 0 \n",
      "    time: 23.24 seconds\n",
      "\n",
      "  missForest iteration 4 in progress...done!\n",
      "    error(s): 0.7560208 0 \n",
      "    estimated error(s): 0.0166421 0 \n",
      "    difference(s): 0.0001027844 0 \n",
      "    time: 23.25 seconds\n",
      "\n",
      "  missForest iteration 5 in progress...done!\n",
      "    error(s): 0.6945296 0 \n",
      "    estimated error(s): 0.0169862 0 \n",
      "    difference(s): 9.995109e-05 0 \n",
      "    time: 24.67 seconds\n",
      "\n",
      "  missForest iteration 6 in progress...done!\n",
      "    error(s): 0.7538138 0 \n",
      "    estimated error(s): 0.01878334 0 \n",
      "    difference(s): 7.880573e-05 0 \n",
      "    time: 24.64 seconds\n",
      "\n",
      "  missForest iteration 7 in progress...done!\n",
      "    error(s): 0.7541858 0 \n",
      "    estimated error(s): 0.01907831 0 \n",
      "    difference(s): 0.0001064614 0 \n",
      "    time: 35.01 seconds\n",
      "\n"
     ]
    }
   ],
   "source": [
    "forest7<- missForest(data.missing2, xtrue = data.complete2, verbose = TRUE, maxiter = 10, ntree = 10, \"mtry\" = 4)"
   ]
  },
  {
   "cell_type": "code",
   "execution_count": 186,
   "metadata": {},
   "outputs": [
    {
     "data": {
      "text/html": [
       "<table>\n",
       "<caption>A data.frame: 6 × 13</caption>\n",
       "<thead>\n",
       "\t<tr><th></th><th scope=col>ts</th><th scope=col>orig_port</th><th scope=col>resp_port</th><th scope=col>proto</th><th scope=col>duration</th><th scope=col>orig_bytes</th><th scope=col>resp_bytes</th><th scope=col>conn_state</th><th scope=col>missed_bytes</th><th scope=col>orig_pkts</th><th scope=col>orig_ip_bytes</th><th scope=col>resp_pkts</th><th scope=col>resp_ip_bytes</th></tr>\n",
       "\t<tr><th></th><th scope=col>&lt;dbl&gt;</th><th scope=col>&lt;dbl&gt;</th><th scope=col>&lt;dbl&gt;</th><th scope=col>&lt;fct&gt;</th><th scope=col>&lt;dbl&gt;</th><th scope=col>&lt;dbl&gt;</th><th scope=col>&lt;dbl&gt;</th><th scope=col>&lt;fct&gt;</th><th scope=col>&lt;dbl&gt;</th><th scope=col>&lt;dbl&gt;</th><th scope=col>&lt;dbl&gt;</th><th scope=col>&lt;dbl&gt;</th><th scope=col>&lt;dbl&gt;</th></tr>\n",
       "</thead>\n",
       "<tbody>\n",
       "\t<tr><th scope=row>1</th><td>1331915797</td><td> 2633</td><td>   80</td><td>tcp</td><td>0.02084615</td><td>4.813591e+02</td><td> 8.133000e+03</td><td>RSTO</td><td>0</td><td> 8</td><td> 813</td><td>9</td><td>8505</td></tr>\n",
       "\t<tr><th scope=row>2</th><td>1331921224</td><td> 4094</td><td>   80</td><td>tcp</td><td>0.01000000</td><td>7.085000e+03</td><td> 1.720000e+02</td><td>RSTO</td><td>0</td><td>10</td><td>7497</td><td>9</td><td> 544</td></tr>\n",
       "\t<tr><th scope=row>3</th><td>1331903910</td><td>16066</td><td>12486</td><td>tcp</td><td>0.17579246</td><td>7.852144e-06</td><td>-7.207746e-11</td><td>REJ </td><td>0</td><td> 1</td><td>  48</td><td>1</td><td>  40</td></tr>\n",
       "\t<tr><th scope=row>4</th><td>1331988939</td><td>42997</td><td>28745</td><td>tcp</td><td>0.02063501</td><td>7.852144e-06</td><td>-7.207746e-11</td><td>REJ </td><td>0</td><td> 1</td><td>  60</td><td>1</td><td>  40</td></tr>\n",
       "\t<tr><th scope=row>5</th><td>1331918792</td><td>38566</td><td>32754</td><td>tcp</td><td>0.16285284</td><td>7.852144e-06</td><td>-7.207746e-11</td><td>REJ </td><td>0</td><td> 1</td><td>  48</td><td>1</td><td>  40</td></tr>\n",
       "\t<tr><th scope=row>6</th><td>1331901863</td><td>63805</td><td>45078</td><td>tcp</td><td>0.02665109</td><td>7.852144e-06</td><td>-7.207746e-11</td><td>REJ </td><td>0</td><td> 1</td><td>  44</td><td>1</td><td>  40</td></tr>\n",
       "</tbody>\n",
       "</table>\n"
      ],
      "text/latex": [
       "A data.frame: 6 × 13\n",
       "\\begin{tabular}{r|lllllllllllll}\n",
       "  & ts & orig\\_port & resp\\_port & proto & duration & orig\\_bytes & resp\\_bytes & conn\\_state & missed\\_bytes & orig\\_pkts & orig\\_ip\\_bytes & resp\\_pkts & resp\\_ip\\_bytes\\\\\n",
       "  & <dbl> & <dbl> & <dbl> & <fct> & <dbl> & <dbl> & <dbl> & <fct> & <dbl> & <dbl> & <dbl> & <dbl> & <dbl>\\\\\n",
       "\\hline\n",
       "\t1 & 1331915797 &  2633 &    80 & tcp & 0.02084615 & 4.813591e+02 &  8.133000e+03 & RSTO & 0 &  8 &  813 & 9 & 8505\\\\\n",
       "\t2 & 1331921224 &  4094 &    80 & tcp & 0.01000000 & 7.085000e+03 &  1.720000e+02 & RSTO & 0 & 10 & 7497 & 9 &  544\\\\\n",
       "\t3 & 1331903910 & 16066 & 12486 & tcp & 0.17579246 & 7.852144e-06 & -7.207746e-11 & REJ  & 0 &  1 &   48 & 1 &   40\\\\\n",
       "\t4 & 1331988939 & 42997 & 28745 & tcp & 0.02063501 & 7.852144e-06 & -7.207746e-11 & REJ  & 0 &  1 &   60 & 1 &   40\\\\\n",
       "\t5 & 1331918792 & 38566 & 32754 & tcp & 0.16285284 & 7.852144e-06 & -7.207746e-11 & REJ  & 0 &  1 &   48 & 1 &   40\\\\\n",
       "\t6 & 1331901863 & 63805 & 45078 & tcp & 0.02665109 & 7.852144e-06 & -7.207746e-11 & REJ  & 0 &  1 &   44 & 1 &   40\\\\\n",
       "\\end{tabular}\n"
      ],
      "text/markdown": [
       "\n",
       "A data.frame: 6 × 13\n",
       "\n",
       "| <!--/--> | ts &lt;dbl&gt; | orig_port &lt;dbl&gt; | resp_port &lt;dbl&gt; | proto &lt;fct&gt; | duration &lt;dbl&gt; | orig_bytes &lt;dbl&gt; | resp_bytes &lt;dbl&gt; | conn_state &lt;fct&gt; | missed_bytes &lt;dbl&gt; | orig_pkts &lt;dbl&gt; | orig_ip_bytes &lt;dbl&gt; | resp_pkts &lt;dbl&gt; | resp_ip_bytes &lt;dbl&gt; |\n",
       "|---|---|---|---|---|---|---|---|---|---|---|---|---|---|\n",
       "| 1 | 1331915797 |  2633 |    80 | tcp | 0.02084615 | 4.813591e+02 |  8.133000e+03 | RSTO | 0 |  8 |  813 | 9 | 8505 |\n",
       "| 2 | 1331921224 |  4094 |    80 | tcp | 0.01000000 | 7.085000e+03 |  1.720000e+02 | RSTO | 0 | 10 | 7497 | 9 |  544 |\n",
       "| 3 | 1331903910 | 16066 | 12486 | tcp | 0.17579246 | 7.852144e-06 | -7.207746e-11 | REJ  | 0 |  1 |   48 | 1 |   40 |\n",
       "| 4 | 1331988939 | 42997 | 28745 | tcp | 0.02063501 | 7.852144e-06 | -7.207746e-11 | REJ  | 0 |  1 |   60 | 1 |   40 |\n",
       "| 5 | 1331918792 | 38566 | 32754 | tcp | 0.16285284 | 7.852144e-06 | -7.207746e-11 | REJ  | 0 |  1 |   48 | 1 |   40 |\n",
       "| 6 | 1331901863 | 63805 | 45078 | tcp | 0.02665109 | 7.852144e-06 | -7.207746e-11 | REJ  | 0 |  1 |   44 | 1 |   40 |\n",
       "\n"
      ],
      "text/plain": [
       "  ts         orig_port resp_port proto duration   orig_bytes   resp_bytes   \n",
       "1 1331915797  2633        80     tcp   0.02084615 4.813591e+02  8.133000e+03\n",
       "2 1331921224  4094        80     tcp   0.01000000 7.085000e+03  1.720000e+02\n",
       "3 1331903910 16066     12486     tcp   0.17579246 7.852144e-06 -7.207746e-11\n",
       "4 1331988939 42997     28745     tcp   0.02063501 7.852144e-06 -7.207746e-11\n",
       "5 1331918792 38566     32754     tcp   0.16285284 7.852144e-06 -7.207746e-11\n",
       "6 1331901863 63805     45078     tcp   0.02665109 7.852144e-06 -7.207746e-11\n",
       "  conn_state missed_bytes orig_pkts orig_ip_bytes resp_pkts resp_ip_bytes\n",
       "1 RSTO       0             8         813          9         8505         \n",
       "2 RSTO       0            10        7497          9          544         \n",
       "3 REJ        0             1          48          1           40         \n",
       "4 REJ        0             1          60          1           40         \n",
       "5 REJ        0             1          48          1           40         \n",
       "6 REJ        0             1          44          1           40         "
      ]
     },
     "metadata": {},
     "output_type": "display_data"
    },
    {
     "data": {
      "text/html": [
       "<style>\n",
       ".dl-inline {width: auto; margin:0; padding: 0}\n",
       ".dl-inline>dt, .dl-inline>dd {float: none; width: auto; display: inline-block}\n",
       ".dl-inline>dt::after {content: \":\\0020\"; padding-right: .5ex}\n",
       ".dl-inline>dt:not(:first-of-type) {padding-left: .5ex}\n",
       "</style><dl class=dl-inline><dt>NRMSE</dt><dd>0.0187833355731868</dd><dt>PFC</dt><dd>0</dd></dl>\n"
      ],
      "text/latex": [
       "\\begin{description*}\n",
       "\\item[NRMSE] 0.0187833355731868\n",
       "\\item[PFC] 0\n",
       "\\end{description*}\n"
      ],
      "text/markdown": [
       "NRMSE\n",
       ":   0.0187833355731868PFC\n",
       ":   0\n",
       "\n"
      ],
      "text/plain": [
       "     NRMSE        PFC \n",
       "0.01878334 0.00000000 "
      ]
     },
     "metadata": {},
     "output_type": "display_data"
    }
   ],
   "source": [
    "output.forest7<-forest7$ximp\n",
    "head(output.forest7)\n",
    "forest7$OOBerror"
   ]
  },
  {
   "cell_type": "code",
   "execution_count": 214,
   "metadata": {},
   "outputs": [
    {
     "name": "stdout",
     "output_type": "stream",
     "text": [
      "  missForest iteration 1 in progress...done!\n",
      "    error(s): 0.8563197 0 \n",
      "    estimated error(s): 0.01844826 0 \n",
      "    difference(s): 0.0002083865 0 \n",
      "    time: 36.17 seconds\n",
      "\n",
      "  missForest iteration 2 in progress...done!\n",
      "    error(s): 0.7544076 0 \n",
      "    estimated error(s): 0.01804266 0 \n",
      "    difference(s): 9.583378e-05 0 \n",
      "    time: 35.25 seconds\n",
      "\n",
      "  missForest iteration 3 in progress...done!\n",
      "    error(s): 0.7737206 0 \n",
      "    estimated error(s): 0.02165451 0 \n",
      "    difference(s): 0.0001000134 0 \n",
      "    time: 34.98 seconds\n",
      "\n"
     ]
    }
   ],
   "source": [
    "set.seed(10)\n",
    "forest8<- missForest(data.missing2, xtrue = data.complete2, verbose = TRUE, maxiter = 10, ntree = 10, \"mtry\" = 5)"
   ]
  },
  {
   "cell_type": "code",
   "execution_count": 192,
   "metadata": {},
   "outputs": [
    {
     "data": {
      "text/html": [
       "<table>\n",
       "<caption>A data.frame: 6 × 13</caption>\n",
       "<thead>\n",
       "\t<tr><th></th><th scope=col>ts</th><th scope=col>orig_port</th><th scope=col>resp_port</th><th scope=col>proto</th><th scope=col>duration</th><th scope=col>orig_bytes</th><th scope=col>resp_bytes</th><th scope=col>conn_state</th><th scope=col>missed_bytes</th><th scope=col>orig_pkts</th><th scope=col>orig_ip_bytes</th><th scope=col>resp_pkts</th><th scope=col>resp_ip_bytes</th></tr>\n",
       "\t<tr><th></th><th scope=col>&lt;dbl&gt;</th><th scope=col>&lt;dbl&gt;</th><th scope=col>&lt;dbl&gt;</th><th scope=col>&lt;fct&gt;</th><th scope=col>&lt;dbl&gt;</th><th scope=col>&lt;dbl&gt;</th><th scope=col>&lt;dbl&gt;</th><th scope=col>&lt;fct&gt;</th><th scope=col>&lt;dbl&gt;</th><th scope=col>&lt;dbl&gt;</th><th scope=col>&lt;dbl&gt;</th><th scope=col>&lt;dbl&gt;</th><th scope=col>&lt;dbl&gt;</th></tr>\n",
       "</thead>\n",
       "<tbody>\n",
       "\t<tr><th scope=row>1</th><td>1331915797</td><td> 2633</td><td>   80</td><td>tcp</td><td>0.02081250</td><td>4.80831e+02</td><td> 8.133000e+03</td><td>RSTO</td><td>0</td><td> 8</td><td> 813</td><td>9</td><td>8505</td></tr>\n",
       "\t<tr><th scope=row>2</th><td>1331921224</td><td> 4094</td><td>   80</td><td>tcp</td><td>0.01000000</td><td>7.08500e+03</td><td> 1.720000e+02</td><td>RSTO</td><td>0</td><td>10</td><td>7497</td><td>9</td><td> 544</td></tr>\n",
       "\t<tr><th scope=row>3</th><td>1331903910</td><td>16066</td><td>12486</td><td>tcp</td><td>1.01061582</td><td>1.99191e-04</td><td>-1.160060e-10</td><td>REJ </td><td>0</td><td> 1</td><td>  48</td><td>1</td><td>  40</td></tr>\n",
       "\t<tr><th scope=row>4</th><td>1331988939</td><td>42997</td><td>28745</td><td>tcp</td><td>0.01291319</td><td>1.99191e-04</td><td>-1.159833e-10</td><td>REJ </td><td>0</td><td> 1</td><td>  60</td><td>1</td><td>  40</td></tr>\n",
       "\t<tr><th scope=row>5</th><td>1331918792</td><td>38566</td><td>32754</td><td>tcp</td><td>0.17636876</td><td>1.99191e-04</td><td>-1.160060e-10</td><td>REJ </td><td>0</td><td> 1</td><td>  48</td><td>1</td><td>  40</td></tr>\n",
       "\t<tr><th scope=row>6</th><td>1331901863</td><td>63805</td><td>45078</td><td>tcp</td><td>0.02720282</td><td>1.99191e-04</td><td>-1.160060e-10</td><td>REJ </td><td>0</td><td> 1</td><td>  44</td><td>1</td><td>  40</td></tr>\n",
       "</tbody>\n",
       "</table>\n"
      ],
      "text/latex": [
       "A data.frame: 6 × 13\n",
       "\\begin{tabular}{r|lllllllllllll}\n",
       "  & ts & orig\\_port & resp\\_port & proto & duration & orig\\_bytes & resp\\_bytes & conn\\_state & missed\\_bytes & orig\\_pkts & orig\\_ip\\_bytes & resp\\_pkts & resp\\_ip\\_bytes\\\\\n",
       "  & <dbl> & <dbl> & <dbl> & <fct> & <dbl> & <dbl> & <dbl> & <fct> & <dbl> & <dbl> & <dbl> & <dbl> & <dbl>\\\\\n",
       "\\hline\n",
       "\t1 & 1331915797 &  2633 &    80 & tcp & 0.02081250 & 4.80831e+02 &  8.133000e+03 & RSTO & 0 &  8 &  813 & 9 & 8505\\\\\n",
       "\t2 & 1331921224 &  4094 &    80 & tcp & 0.01000000 & 7.08500e+03 &  1.720000e+02 & RSTO & 0 & 10 & 7497 & 9 &  544\\\\\n",
       "\t3 & 1331903910 & 16066 & 12486 & tcp & 1.01061582 & 1.99191e-04 & -1.160060e-10 & REJ  & 0 &  1 &   48 & 1 &   40\\\\\n",
       "\t4 & 1331988939 & 42997 & 28745 & tcp & 0.01291319 & 1.99191e-04 & -1.159833e-10 & REJ  & 0 &  1 &   60 & 1 &   40\\\\\n",
       "\t5 & 1331918792 & 38566 & 32754 & tcp & 0.17636876 & 1.99191e-04 & -1.160060e-10 & REJ  & 0 &  1 &   48 & 1 &   40\\\\\n",
       "\t6 & 1331901863 & 63805 & 45078 & tcp & 0.02720282 & 1.99191e-04 & -1.160060e-10 & REJ  & 0 &  1 &   44 & 1 &   40\\\\\n",
       "\\end{tabular}\n"
      ],
      "text/markdown": [
       "\n",
       "A data.frame: 6 × 13\n",
       "\n",
       "| <!--/--> | ts &lt;dbl&gt; | orig_port &lt;dbl&gt; | resp_port &lt;dbl&gt; | proto &lt;fct&gt; | duration &lt;dbl&gt; | orig_bytes &lt;dbl&gt; | resp_bytes &lt;dbl&gt; | conn_state &lt;fct&gt; | missed_bytes &lt;dbl&gt; | orig_pkts &lt;dbl&gt; | orig_ip_bytes &lt;dbl&gt; | resp_pkts &lt;dbl&gt; | resp_ip_bytes &lt;dbl&gt; |\n",
       "|---|---|---|---|---|---|---|---|---|---|---|---|---|---|\n",
       "| 1 | 1331915797 |  2633 |    80 | tcp | 0.02081250 | 4.80831e+02 |  8.133000e+03 | RSTO | 0 |  8 |  813 | 9 | 8505 |\n",
       "| 2 | 1331921224 |  4094 |    80 | tcp | 0.01000000 | 7.08500e+03 |  1.720000e+02 | RSTO | 0 | 10 | 7497 | 9 |  544 |\n",
       "| 3 | 1331903910 | 16066 | 12486 | tcp | 1.01061582 | 1.99191e-04 | -1.160060e-10 | REJ  | 0 |  1 |   48 | 1 |   40 |\n",
       "| 4 | 1331988939 | 42997 | 28745 | tcp | 0.01291319 | 1.99191e-04 | -1.159833e-10 | REJ  | 0 |  1 |   60 | 1 |   40 |\n",
       "| 5 | 1331918792 | 38566 | 32754 | tcp | 0.17636876 | 1.99191e-04 | -1.160060e-10 | REJ  | 0 |  1 |   48 | 1 |   40 |\n",
       "| 6 | 1331901863 | 63805 | 45078 | tcp | 0.02720282 | 1.99191e-04 | -1.160060e-10 | REJ  | 0 |  1 |   44 | 1 |   40 |\n",
       "\n"
      ],
      "text/plain": [
       "  ts         orig_port resp_port proto duration   orig_bytes  resp_bytes   \n",
       "1 1331915797  2633        80     tcp   0.02081250 4.80831e+02  8.133000e+03\n",
       "2 1331921224  4094        80     tcp   0.01000000 7.08500e+03  1.720000e+02\n",
       "3 1331903910 16066     12486     tcp   1.01061582 1.99191e-04 -1.160060e-10\n",
       "4 1331988939 42997     28745     tcp   0.01291319 1.99191e-04 -1.159833e-10\n",
       "5 1331918792 38566     32754     tcp   0.17636876 1.99191e-04 -1.160060e-10\n",
       "6 1331901863 63805     45078     tcp   0.02720282 1.99191e-04 -1.160060e-10\n",
       "  conn_state missed_bytes orig_pkts orig_ip_bytes resp_pkts resp_ip_bytes\n",
       "1 RSTO       0             8         813          9         8505         \n",
       "2 RSTO       0            10        7497          9          544         \n",
       "3 REJ        0             1          48          1           40         \n",
       "4 REJ        0             1          60          1           40         \n",
       "5 REJ        0             1          48          1           40         \n",
       "6 REJ        0             1          44          1           40         "
      ]
     },
     "metadata": {},
     "output_type": "display_data"
    },
    {
     "data": {
      "text/html": [
       "<style>\n",
       ".dl-inline {width: auto; margin:0; padding: 0}\n",
       ".dl-inline>dt, .dl-inline>dd {float: none; width: auto; display: inline-block}\n",
       ".dl-inline>dt::after {content: \":\\0020\"; padding-right: .5ex}\n",
       ".dl-inline>dt:not(:first-of-type) {padding-left: .5ex}\n",
       "</style><dl class=dl-inline><dt>NRMSE</dt><dd>0.0168909376951625</dd><dt>PFC</dt><dd>0</dd></dl>\n"
      ],
      "text/latex": [
       "\\begin{description*}\n",
       "\\item[NRMSE] 0.0168909376951625\n",
       "\\item[PFC] 0\n",
       "\\end{description*}\n"
      ],
      "text/markdown": [
       "NRMSE\n",
       ":   0.0168909376951625PFC\n",
       ":   0\n",
       "\n"
      ],
      "text/plain": [
       "     NRMSE        PFC \n",
       "0.01689094 0.00000000 "
      ]
     },
     "metadata": {},
     "output_type": "display_data"
    }
   ],
   "source": [
    "output.forest8<-forest8$ximp\n",
    "head(output.forest8)\n",
    "forest8$OOBerror"
   ]
  },
  {
   "cell_type": "code",
   "execution_count": 206,
   "metadata": {},
   "outputs": [],
   "source": [
    "output.mean<-data.mean[,which(names(data.mean) %in% c(\"duration\",\"orig_bytes\",\"resp_bytes\"))]\n",
    "truth<-data.complete[,which(names(data.complete) %in% c(\"duration\",\"orig_bytes\",\"resp_bytes\"))]"
   ]
  },
  {
   "cell_type": "code",
   "execution_count": 209,
   "metadata": {},
   "outputs": [],
   "source": [
    "output.forest11<-output.forest1[,which(names(output.forest1) %in% c(\"duration\",\"orig_bytes\",\"resp_bytes\"))]\n",
    "output.forest22<-output.forest2[,which(names(output.forest2) %in% c(\"duration\",\"orig_bytes\",\"resp_bytes\"))]\n",
    "output.forest33<-output.forest3[,which(names(output.forest3) %in% c(\"duration\",\"orig_bytes\",\"resp_bytes\"))]\n",
    "output.forest44<-output.forest4[,which(names(output.forest4) %in% c(\"duration\",\"orig_bytes\",\"resp_bytes\"))]\n",
    "output.forest55<-output.forest5[,which(names(output.forest5) %in% c(\"duration\",\"orig_bytes\",\"resp_bytes\"))]"
   ]
  },
  {
   "cell_type": "code",
   "execution_count": 177,
   "metadata": {},
   "outputs": [
    {
     "name": "stdout",
     "output_type": "stream",
     "text": [
      "[1] \"ntree=10\"\n"
     ]
    },
    {
     "data": {
      "text/html": [
       "<style>\n",
       ".dl-inline {width: auto; margin:0; padding: 0}\n",
       ".dl-inline>dt, .dl-inline>dd {float: none; width: auto; display: inline-block}\n",
       ".dl-inline>dt::after {content: \":\\0020\"; padding-right: .5ex}\n",
       ".dl-inline>dt:not(:first-of-type) {padding-left: .5ex}\n",
       "</style><dl class=dl-inline><dt>duration</dt><dd>0.309641485087489</dd><dt>orig_bytes</dt><dd>0.705531727085389</dd><dt>resp_bytes</dt><dd>0.763823087718988</dd></dl>\n"
      ],
      "text/latex": [
       "\\begin{description*}\n",
       "\\item[duration] 0.309641485087489\n",
       "\\item[orig\\textbackslash{}\\_bytes] 0.705531727085389\n",
       "\\item[resp\\textbackslash{}\\_bytes] 0.763823087718988\n",
       "\\end{description*}\n"
      ],
      "text/markdown": [
       "duration\n",
       ":   0.309641485087489orig_bytes\n",
       ":   0.705531727085389resp_bytes\n",
       ":   0.763823087718988\n",
       "\n"
      ],
      "text/plain": [
       "  duration orig_bytes resp_bytes \n",
       " 0.3096415  0.7055317  0.7638231 "
      ]
     },
     "metadata": {},
     "output_type": "display_data"
    },
    {
     "data": {
      "text/html": [
       "<style>\n",
       ".dl-inline {width: auto; margin:0; padding: 0}\n",
       ".dl-inline>dt, .dl-inline>dd {float: none; width: auto; display: inline-block}\n",
       ".dl-inline>dt::after {content: \":\\0020\"; padding-right: .5ex}\n",
       ".dl-inline>dt:not(:first-of-type) {padding-left: .5ex}\n",
       "</style><dl class=dl-inline><dt>NRMSE</dt><dd>0.0194088737751045</dd><dt>PFC</dt><dd>0</dd></dl>\n"
      ],
      "text/latex": [
       "\\begin{description*}\n",
       "\\item[NRMSE] 0.0194088737751045\n",
       "\\item[PFC] 0\n",
       "\\end{description*}\n"
      ],
      "text/markdown": [
       "NRMSE\n",
       ":   0.0194088737751045PFC\n",
       ":   0\n",
       "\n"
      ],
      "text/plain": [
       "     NRMSE        PFC \n",
       "0.01940887 0.00000000 "
      ]
     },
     "metadata": {},
     "output_type": "display_data"
    },
    {
     "name": "stdout",
     "output_type": "stream",
     "text": [
      "[1] \"ntree=30\"\n"
     ]
    },
    {
     "data": {
      "text/html": [
       "<style>\n",
       ".dl-inline {width: auto; margin:0; padding: 0}\n",
       ".dl-inline>dt, .dl-inline>dd {float: none; width: auto; display: inline-block}\n",
       ".dl-inline>dt::after {content: \":\\0020\"; padding-right: .5ex}\n",
       ".dl-inline>dt:not(:first-of-type) {padding-left: .5ex}\n",
       "</style><dl class=dl-inline><dt>duration</dt><dd>0.293500831551487</dd><dt>orig_bytes</dt><dd>0.583855929620208</dd><dt>resp_bytes</dt><dd>0.781373738252885</dd></dl>\n"
      ],
      "text/latex": [
       "\\begin{description*}\n",
       "\\item[duration] 0.293500831551487\n",
       "\\item[orig\\textbackslash{}\\_bytes] 0.583855929620208\n",
       "\\item[resp\\textbackslash{}\\_bytes] 0.781373738252885\n",
       "\\end{description*}\n"
      ],
      "text/markdown": [
       "duration\n",
       ":   0.293500831551487orig_bytes\n",
       ":   0.583855929620208resp_bytes\n",
       ":   0.781373738252885\n",
       "\n"
      ],
      "text/plain": [
       "  duration orig_bytes resp_bytes \n",
       " 0.2935008  0.5838559  0.7813737 "
      ]
     },
     "metadata": {},
     "output_type": "display_data"
    },
    {
     "data": {
      "text/html": [
       "<style>\n",
       ".dl-inline {width: auto; margin:0; padding: 0}\n",
       ".dl-inline>dt, .dl-inline>dd {float: none; width: auto; display: inline-block}\n",
       ".dl-inline>dt::after {content: \":\\0020\"; padding-right: .5ex}\n",
       ".dl-inline>dt:not(:first-of-type) {padding-left: .5ex}\n",
       "</style><dl class=dl-inline><dt>NRMSE</dt><dd>0.0175669497424145</dd><dt>PFC</dt><dd>0</dd></dl>\n"
      ],
      "text/latex": [
       "\\begin{description*}\n",
       "\\item[NRMSE] 0.0175669497424145\n",
       "\\item[PFC] 0\n",
       "\\end{description*}\n"
      ],
      "text/markdown": [
       "NRMSE\n",
       ":   0.0175669497424145PFC\n",
       ":   0\n",
       "\n"
      ],
      "text/plain": [
       "     NRMSE        PFC \n",
       "0.01756695 0.00000000 "
      ]
     },
     "metadata": {},
     "output_type": "display_data"
    },
    {
     "name": "stdout",
     "output_type": "stream",
     "text": [
      "[1] \"ntree=50\"\n"
     ]
    },
    {
     "data": {
      "text/html": [
       "<style>\n",
       ".dl-inline {width: auto; margin:0; padding: 0}\n",
       ".dl-inline>dt, .dl-inline>dd {float: none; width: auto; display: inline-block}\n",
       ".dl-inline>dt::after {content: \":\\0020\"; padding-right: .5ex}\n",
       ".dl-inline>dt:not(:first-of-type) {padding-left: .5ex}\n",
       "</style><dl class=dl-inline><dt>duration</dt><dd>0.156657976321181</dd><dt>orig_bytes</dt><dd>0.388442607826021</dd><dt>resp_bytes</dt><dd>0.826570456879936</dd></dl>\n"
      ],
      "text/latex": [
       "\\begin{description*}\n",
       "\\item[duration] 0.156657976321181\n",
       "\\item[orig\\textbackslash{}\\_bytes] 0.388442607826021\n",
       "\\item[resp\\textbackslash{}\\_bytes] 0.826570456879936\n",
       "\\end{description*}\n"
      ],
      "text/markdown": [
       "duration\n",
       ":   0.156657976321181orig_bytes\n",
       ":   0.388442607826021resp_bytes\n",
       ":   0.826570456879936\n",
       "\n"
      ],
      "text/plain": [
       "  duration orig_bytes resp_bytes \n",
       " 0.1566580  0.3884426  0.8265705 "
      ]
     },
     "metadata": {},
     "output_type": "display_data"
    },
    {
     "data": {
      "text/html": [
       "<style>\n",
       ".dl-inline {width: auto; margin:0; padding: 0}\n",
       ".dl-inline>dt, .dl-inline>dd {float: none; width: auto; display: inline-block}\n",
       ".dl-inline>dt::after {content: \":\\0020\"; padding-right: .5ex}\n",
       ".dl-inline>dt:not(:first-of-type) {padding-left: .5ex}\n",
       "</style><dl class=dl-inline><dt>NRMSE</dt><dd>0.016122601873</dd><dt>PFC</dt><dd>0</dd></dl>\n"
      ],
      "text/latex": [
       "\\begin{description*}\n",
       "\\item[NRMSE] 0.016122601873\n",
       "\\item[PFC] 0\n",
       "\\end{description*}\n"
      ],
      "text/markdown": [
       "NRMSE\n",
       ":   0.016122601873PFC\n",
       ":   0\n",
       "\n"
      ],
      "text/plain": [
       "    NRMSE       PFC \n",
       "0.0161226 0.0000000 "
      ]
     },
     "metadata": {},
     "output_type": "display_data"
    },
    {
     "name": "stdout",
     "output_type": "stream",
     "text": [
      "[1] \"ntree=70\"\n"
     ]
    },
    {
     "data": {
      "text/html": [
       "<style>\n",
       ".dl-inline {width: auto; margin:0; padding: 0}\n",
       ".dl-inline>dt, .dl-inline>dd {float: none; width: auto; display: inline-block}\n",
       ".dl-inline>dt::after {content: \":\\0020\"; padding-right: .5ex}\n",
       ".dl-inline>dt:not(:first-of-type) {padding-left: .5ex}\n",
       "</style><dl class=dl-inline><dt>duration</dt><dd>0.224647010291725</dd><dt>orig_bytes</dt><dd>0.509252799273135</dd><dt>resp_bytes</dt><dd>0.411650951788024</dd></dl>\n"
      ],
      "text/latex": [
       "\\begin{description*}\n",
       "\\item[duration] 0.224647010291725\n",
       "\\item[orig\\textbackslash{}\\_bytes] 0.509252799273135\n",
       "\\item[resp\\textbackslash{}\\_bytes] 0.411650951788024\n",
       "\\end{description*}\n"
      ],
      "text/markdown": [
       "duration\n",
       ":   0.224647010291725orig_bytes\n",
       ":   0.509252799273135resp_bytes\n",
       ":   0.411650951788024\n",
       "\n"
      ],
      "text/plain": [
       "  duration orig_bytes resp_bytes \n",
       " 0.2246470  0.5092528  0.4116510 "
      ]
     },
     "metadata": {},
     "output_type": "display_data"
    },
    {
     "data": {
      "text/html": [
       "<style>\n",
       ".dl-inline {width: auto; margin:0; padding: 0}\n",
       ".dl-inline>dt, .dl-inline>dd {float: none; width: auto; display: inline-block}\n",
       ".dl-inline>dt::after {content: \":\\0020\"; padding-right: .5ex}\n",
       ".dl-inline>dt:not(:first-of-type) {padding-left: .5ex}\n",
       "</style><dl class=dl-inline><dt>NRMSE</dt><dd>0.0164708773349195</dd><dt>PFC</dt><dd>0</dd></dl>\n"
      ],
      "text/latex": [
       "\\begin{description*}\n",
       "\\item[NRMSE] 0.0164708773349195\n",
       "\\item[PFC] 0\n",
       "\\end{description*}\n"
      ],
      "text/markdown": [
       "NRMSE\n",
       ":   0.0164708773349195PFC\n",
       ":   0\n",
       "\n"
      ],
      "text/plain": [
       "     NRMSE        PFC \n",
       "0.01647088 0.00000000 "
      ]
     },
     "metadata": {},
     "output_type": "display_data"
    },
    {
     "name": "stdout",
     "output_type": "stream",
     "text": [
      "[1] \"ntree=5\"\n"
     ]
    },
    {
     "data": {
      "text/html": [
       "<style>\n",
       ".dl-inline {width: auto; margin:0; padding: 0}\n",
       ".dl-inline>dt, .dl-inline>dd {float: none; width: auto; display: inline-block}\n",
       ".dl-inline>dt::after {content: \":\\0020\"; padding-right: .5ex}\n",
       ".dl-inline>dt:not(:first-of-type) {padding-left: .5ex}\n",
       "</style><dl class=dl-inline><dt>duration</dt><dd>0.369604321292328</dd><dt>orig_bytes</dt><dd>0.564966357349993</dd><dt>resp_bytes</dt><dd>0.756445291441585</dd></dl>\n"
      ],
      "text/latex": [
       "\\begin{description*}\n",
       "\\item[duration] 0.369604321292328\n",
       "\\item[orig\\textbackslash{}\\_bytes] 0.564966357349993\n",
       "\\item[resp\\textbackslash{}\\_bytes] 0.756445291441585\n",
       "\\end{description*}\n"
      ],
      "text/markdown": [
       "duration\n",
       ":   0.369604321292328orig_bytes\n",
       ":   0.564966357349993resp_bytes\n",
       ":   0.756445291441585\n",
       "\n"
      ],
      "text/plain": [
       "  duration orig_bytes resp_bytes \n",
       " 0.3696043  0.5649664  0.7564453 "
      ]
     },
     "metadata": {},
     "output_type": "display_data"
    },
    {
     "data": {
      "text/html": [
       "<style>\n",
       ".dl-inline {width: auto; margin:0; padding: 0}\n",
       ".dl-inline>dt, .dl-inline>dd {float: none; width: auto; display: inline-block}\n",
       ".dl-inline>dt::after {content: \":\\0020\"; padding-right: .5ex}\n",
       ".dl-inline>dt:not(:first-of-type) {padding-left: .5ex}\n",
       "</style><dl class=dl-inline><dt>NRMSE</dt><dd>0.0205504299955888</dd><dt>PFC</dt><dd>0</dd></dl>\n"
      ],
      "text/latex": [
       "\\begin{description*}\n",
       "\\item[NRMSE] 0.0205504299955888\n",
       "\\item[PFC] 0\n",
       "\\end{description*}\n"
      ],
      "text/markdown": [
       "NRMSE\n",
       ":   0.0205504299955888PFC\n",
       ":   0\n",
       "\n"
      ],
      "text/plain": [
       "     NRMSE        PFC \n",
       "0.02055043 0.00000000 "
      ]
     },
     "metadata": {},
     "output_type": "display_data"
    }
   ],
   "source": [
    "print(\"ntree=10\")\n",
    "diag(cor(output.forest11, truth))\n",
    "forest1$OOBerror\n",
    "print(\"ntree=30\")\n",
    "diag(cor(output.forest22, truth))\n",
    "forest2$OOBerror\n",
    "print(\"ntree=50\")\n",
    "diag(cor(output.forest33, truth))\n",
    "forest3$OOBerror\n",
    "print(\"ntree=70\")\n",
    "diag(cor(output.forest44, truth))\n",
    "forest4$OOBerror\n",
    "print(\"ntree=5\")\n",
    "diag(cor(output.forest55, truth))\n",
    "forest5$OOBerror"
   ]
  },
  {
   "cell_type": "code",
   "execution_count": 207,
   "metadata": {},
   "outputs": [],
   "source": [
    "output.forest66<-output.forest6[,which(names(output.forest6) %in% c(\"duration\",\"orig_bytes\",\"resp_bytes\"))]\n",
    "output.forest77<-output.forest7[,which(names(output.forest7) %in% c(\"duration\",\"orig_bytes\",\"resp_bytes\"))]\n",
    "output.forest88<-output.forest8[,which(names(output.forest8) %in% c(\"duration\",\"orig_bytes\",\"resp_bytes\"))]"
   ]
  },
  {
   "cell_type": "code",
   "execution_count": 194,
   "metadata": {},
   "outputs": [
    {
     "name": "stdout",
     "output_type": "stream",
     "text": [
      "[1] \"mtry=2\"\n"
     ]
    },
    {
     "data": {
      "text/html": [
       "<style>\n",
       ".dl-inline {width: auto; margin:0; padding: 0}\n",
       ".dl-inline>dt, .dl-inline>dd {float: none; width: auto; display: inline-block}\n",
       ".dl-inline>dt::after {content: \":\\0020\"; padding-right: .5ex}\n",
       ".dl-inline>dt:not(:first-of-type) {padding-left: .5ex}\n",
       "</style><dl class=dl-inline><dt>duration</dt><dd>0.40264546278862</dd><dt>orig_bytes</dt><dd>0.705485362398548</dd><dt>resp_bytes</dt><dd>0.776158873391838</dd></dl>\n"
      ],
      "text/latex": [
       "\\begin{description*}\n",
       "\\item[duration] 0.40264546278862\n",
       "\\item[orig\\textbackslash{}\\_bytes] 0.705485362398548\n",
       "\\item[resp\\textbackslash{}\\_bytes] 0.776158873391838\n",
       "\\end{description*}\n"
      ],
      "text/markdown": [
       "duration\n",
       ":   0.40264546278862orig_bytes\n",
       ":   0.705485362398548resp_bytes\n",
       ":   0.776158873391838\n",
       "\n"
      ],
      "text/plain": [
       "  duration orig_bytes resp_bytes \n",
       " 0.4026455  0.7054854  0.7761589 "
      ]
     },
     "metadata": {},
     "output_type": "display_data"
    },
    {
     "data": {
      "text/html": [
       "<style>\n",
       ".dl-inline {width: auto; margin:0; padding: 0}\n",
       ".dl-inline>dt, .dl-inline>dd {float: none; width: auto; display: inline-block}\n",
       ".dl-inline>dt::after {content: \":\\0020\"; padding-right: .5ex}\n",
       ".dl-inline>dt:not(:first-of-type) {padding-left: .5ex}\n",
       "</style><dl class=dl-inline><dt>NRMSE</dt><dd>0.0180924783064488</dd><dt>PFC</dt><dd>0</dd></dl>\n"
      ],
      "text/latex": [
       "\\begin{description*}\n",
       "\\item[NRMSE] 0.0180924783064488\n",
       "\\item[PFC] 0\n",
       "\\end{description*}\n"
      ],
      "text/markdown": [
       "NRMSE\n",
       ":   0.0180924783064488PFC\n",
       ":   0\n",
       "\n"
      ],
      "text/plain": [
       "     NRMSE        PFC \n",
       "0.01809248 0.00000000 "
      ]
     },
     "metadata": {},
     "output_type": "display_data"
    },
    {
     "name": "stdout",
     "output_type": "stream",
     "text": [
      "[1] \"mtry=3\"\n"
     ]
    },
    {
     "data": {
      "text/html": [
       "<style>\n",
       ".dl-inline {width: auto; margin:0; padding: 0}\n",
       ".dl-inline>dt, .dl-inline>dd {float: none; width: auto; display: inline-block}\n",
       ".dl-inline>dt::after {content: \":\\0020\"; padding-right: .5ex}\n",
       ".dl-inline>dt:not(:first-of-type) {padding-left: .5ex}\n",
       "</style><dl class=dl-inline><dt>duration</dt><dd>0.309641485087489</dd><dt>orig_bytes</dt><dd>0.705531727085389</dd><dt>resp_bytes</dt><dd>0.763823087718988</dd></dl>\n"
      ],
      "text/latex": [
       "\\begin{description*}\n",
       "\\item[duration] 0.309641485087489\n",
       "\\item[orig\\textbackslash{}\\_bytes] 0.705531727085389\n",
       "\\item[resp\\textbackslash{}\\_bytes] 0.763823087718988\n",
       "\\end{description*}\n"
      ],
      "text/markdown": [
       "duration\n",
       ":   0.309641485087489orig_bytes\n",
       ":   0.705531727085389resp_bytes\n",
       ":   0.763823087718988\n",
       "\n"
      ],
      "text/plain": [
       "  duration orig_bytes resp_bytes \n",
       " 0.3096415  0.7055317  0.7638231 "
      ]
     },
     "metadata": {},
     "output_type": "display_data"
    },
    {
     "data": {
      "text/html": [
       "<style>\n",
       ".dl-inline {width: auto; margin:0; padding: 0}\n",
       ".dl-inline>dt, .dl-inline>dd {float: none; width: auto; display: inline-block}\n",
       ".dl-inline>dt::after {content: \":\\0020\"; padding-right: .5ex}\n",
       ".dl-inline>dt:not(:first-of-type) {padding-left: .5ex}\n",
       "</style><dl class=dl-inline><dt>NRMSE</dt><dd>0.0194088737751045</dd><dt>PFC</dt><dd>0</dd></dl>\n"
      ],
      "text/latex": [
       "\\begin{description*}\n",
       "\\item[NRMSE] 0.0194088737751045\n",
       "\\item[PFC] 0\n",
       "\\end{description*}\n"
      ],
      "text/markdown": [
       "NRMSE\n",
       ":   0.0194088737751045PFC\n",
       ":   0\n",
       "\n"
      ],
      "text/plain": [
       "     NRMSE        PFC \n",
       "0.01940887 0.00000000 "
      ]
     },
     "metadata": {},
     "output_type": "display_data"
    },
    {
     "name": "stdout",
     "output_type": "stream",
     "text": [
      "[1] \"mtry=4\"\n"
     ]
    },
    {
     "data": {
      "text/html": [
       "<style>\n",
       ".dl-inline {width: auto; margin:0; padding: 0}\n",
       ".dl-inline>dt, .dl-inline>dd {float: none; width: auto; display: inline-block}\n",
       ".dl-inline>dt::after {content: \":\\0020\"; padding-right: .5ex}\n",
       ".dl-inline>dt:not(:first-of-type) {padding-left: .5ex}\n",
       "</style><dl class=dl-inline><dt>duration</dt><dd>0.423835700614019</dd><dt>orig_bytes</dt><dd>0.719853468128014</dd><dt>resp_bytes</dt><dd>0.788864392695537</dd></dl>\n"
      ],
      "text/latex": [
       "\\begin{description*}\n",
       "\\item[duration] 0.423835700614019\n",
       "\\item[orig\\textbackslash{}\\_bytes] 0.719853468128014\n",
       "\\item[resp\\textbackslash{}\\_bytes] 0.788864392695537\n",
       "\\end{description*}\n"
      ],
      "text/markdown": [
       "duration\n",
       ":   0.423835700614019orig_bytes\n",
       ":   0.719853468128014resp_bytes\n",
       ":   0.788864392695537\n",
       "\n"
      ],
      "text/plain": [
       "  duration orig_bytes resp_bytes \n",
       " 0.4238357  0.7198535  0.7888644 "
      ]
     },
     "metadata": {},
     "output_type": "display_data"
    },
    {
     "data": {
      "text/html": [
       "<style>\n",
       ".dl-inline {width: auto; margin:0; padding: 0}\n",
       ".dl-inline>dt, .dl-inline>dd {float: none; width: auto; display: inline-block}\n",
       ".dl-inline>dt::after {content: \":\\0020\"; padding-right: .5ex}\n",
       ".dl-inline>dt:not(:first-of-type) {padding-left: .5ex}\n",
       "</style><dl class=dl-inline><dt>NRMSE</dt><dd>0.0187833355731868</dd><dt>PFC</dt><dd>0</dd></dl>\n"
      ],
      "text/latex": [
       "\\begin{description*}\n",
       "\\item[NRMSE] 0.0187833355731868\n",
       "\\item[PFC] 0\n",
       "\\end{description*}\n"
      ],
      "text/markdown": [
       "NRMSE\n",
       ":   0.0187833355731868PFC\n",
       ":   0\n",
       "\n"
      ],
      "text/plain": [
       "     NRMSE        PFC \n",
       "0.01878334 0.00000000 "
      ]
     },
     "metadata": {},
     "output_type": "display_data"
    },
    {
     "name": "stdout",
     "output_type": "stream",
     "text": [
      "[1] \"mtry=5\"\n"
     ]
    },
    {
     "data": {
      "text/html": [
       "<style>\n",
       ".dl-inline {width: auto; margin:0; padding: 0}\n",
       ".dl-inline>dt, .dl-inline>dd {float: none; width: auto; display: inline-block}\n",
       ".dl-inline>dt::after {content: \":\\0020\"; padding-right: .5ex}\n",
       ".dl-inline>dt:not(:first-of-type) {padding-left: .5ex}\n",
       "</style><dl class=dl-inline><dt>duration</dt><dd>0.429047559388466</dd><dt>orig_bytes</dt><dd>0.717249640146096</dd><dt>resp_bytes</dt><dd>0.818956127907336</dd></dl>\n"
      ],
      "text/latex": [
       "\\begin{description*}\n",
       "\\item[duration] 0.429047559388466\n",
       "\\item[orig\\textbackslash{}\\_bytes] 0.717249640146096\n",
       "\\item[resp\\textbackslash{}\\_bytes] 0.818956127907336\n",
       "\\end{description*}\n"
      ],
      "text/markdown": [
       "duration\n",
       ":   0.429047559388466orig_bytes\n",
       ":   0.717249640146096resp_bytes\n",
       ":   0.818956127907336\n",
       "\n"
      ],
      "text/plain": [
       "  duration orig_bytes resp_bytes \n",
       " 0.4290476  0.7172496  0.8189561 "
      ]
     },
     "metadata": {},
     "output_type": "display_data"
    },
    {
     "data": {
      "text/html": [
       "<style>\n",
       ".dl-inline {width: auto; margin:0; padding: 0}\n",
       ".dl-inline>dt, .dl-inline>dd {float: none; width: auto; display: inline-block}\n",
       ".dl-inline>dt::after {content: \":\\0020\"; padding-right: .5ex}\n",
       ".dl-inline>dt:not(:first-of-type) {padding-left: .5ex}\n",
       "</style><dl class=dl-inline><dt>NRMSE</dt><dd>0.0168909376951625</dd><dt>PFC</dt><dd>0</dd></dl>\n"
      ],
      "text/latex": [
       "\\begin{description*}\n",
       "\\item[NRMSE] 0.0168909376951625\n",
       "\\item[PFC] 0\n",
       "\\end{description*}\n"
      ],
      "text/markdown": [
       "NRMSE\n",
       ":   0.0168909376951625PFC\n",
       ":   0\n",
       "\n"
      ],
      "text/plain": [
       "     NRMSE        PFC \n",
       "0.01689094 0.00000000 "
      ]
     },
     "metadata": {},
     "output_type": "display_data"
    }
   ],
   "source": [
    "print(\"mtry=2\")\n",
    "diag(cor(output.forest66, truth))\n",
    "forest6$OOBerror\n",
    "print(\"mtry=3\")\n",
    "diag(cor(output.forest11, truth))\n",
    "forest1$OOBerror\n",
    "print(\"mtry=4\")\n",
    "diag(cor(output.forest77, truth))\n",
    "forest7$OOBerror\n",
    "print(\"mtry=5\")\n",
    "diag(cor(output.forest88, truth))\n",
    "forest8$OOBerror"
   ]
  },
  {
   "cell_type": "code",
   "execution_count": 208,
   "metadata": {},
   "outputs": [
    {
     "data": {
      "text/html": [
       "<style>\n",
       ".dl-inline {width: auto; margin:0; padding: 0}\n",
       ".dl-inline>dt, .dl-inline>dd {float: none; width: auto; display: inline-block}\n",
       ".dl-inline>dt::after {content: \":\\0020\"; padding-right: .5ex}\n",
       ".dl-inline>dt:not(:first-of-type) {padding-left: .5ex}\n",
       "</style><dl class=dl-inline><dt>duration</dt><dd>0.429047559388466</dd><dt>orig_bytes</dt><dd>0.717249640146096</dd><dt>resp_bytes</dt><dd>0.818956127907336</dd></dl>\n"
      ],
      "text/latex": [
       "\\begin{description*}\n",
       "\\item[duration] 0.429047559388466\n",
       "\\item[orig\\textbackslash{}\\_bytes] 0.717249640146096\n",
       "\\item[resp\\textbackslash{}\\_bytes] 0.818956127907336\n",
       "\\end{description*}\n"
      ],
      "text/markdown": [
       "duration\n",
       ":   0.429047559388466orig_bytes\n",
       ":   0.717249640146096resp_bytes\n",
       ":   0.818956127907336\n",
       "\n"
      ],
      "text/plain": [
       "  duration orig_bytes resp_bytes \n",
       " 0.4290476  0.7172496  0.8189561 "
      ]
     },
     "metadata": {},
     "output_type": "display_data"
    }
   ],
   "source": [
    "diag(cor(output.forest88, truth))"
   ]
  },
  {
   "cell_type": "markdown",
   "metadata": {},
   "source": [
    "\n",
    "\n",
    "#### More prediction\n",
    "The missforest algorithm can process mixed-type data, so we can simultaneously impute the above three numerical variables and the discrete variable \"service\".\n"
   ]
  },
  {
   "cell_type": "code",
   "execution_count": 213,
   "metadata": {},
   "outputs": [],
   "source": [
    "write.csv.gz(output.forest,\"output_missforest.csv.gz\",row.names=FALSE)"
   ]
  },
  {
   "cell_type": "markdown",
   "metadata": {},
   "source": [
    "# new dataset"
   ]
  },
  {
   "cell_type": "code",
   "execution_count": 182,
   "metadata": {},
   "outputs": [
    {
     "data": {
      "text/html": [
       "0"
      ],
      "text/latex": [
       "0"
      ],
      "text/markdown": [
       "0"
      ],
      "text/plain": [
       "[1] 0"
      ]
     },
     "metadata": {},
     "output_type": "display_data"
    },
    {
     "data": {
      "text/html": [
       "0"
      ],
      "text/latex": [
       "0"
      ],
      "text/markdown": [
       "0"
      ],
      "text/plain": [
       "[1] 0"
      ]
     },
     "metadata": {},
     "output_type": "display_data"
    },
    {
     "data": {
      "text/html": [
       "0.0209970253359319"
      ],
      "text/latex": [
       "0.0209970253359319"
      ],
      "text/markdown": [
       "0.0209970253359319"
      ],
      "text/plain": [
       "[1] 0.02099703"
      ]
     },
     "metadata": {},
     "output_type": "display_data"
    }
   ],
   "source": [
    "a=output.forest1[output.forest1[,\"duration\"]<0,]\n",
    "nrow(a)/nrow(output.forest1)\n",
    "b=output.forest1[output.forest1[,\"orig_bytes\"]<0,]\n",
    "nrow(b)/nrow(output.forest1)\n",
    "c=output.forest1[output.forest1[,\"resp_bytes\"]<0,]\n",
    "nrow(c)/nrow(output.forest1)"
   ]
  },
  {
   "cell_type": "code",
   "execution_count": 183,
   "metadata": {},
   "outputs": [
    {
     "data": {
      "text/html": [
       "0"
      ],
      "text/latex": [
       "0"
      ],
      "text/markdown": [
       "0"
      ],
      "text/plain": [
       "[1] 0"
      ]
     },
     "metadata": {},
     "output_type": "display_data"
    },
    {
     "data": {
      "text/html": [
       "0"
      ],
      "text/latex": [
       "0"
      ],
      "text/markdown": [
       "0"
      ],
      "text/plain": [
       "[1] 0"
      ]
     },
     "metadata": {},
     "output_type": "display_data"
    }
   ],
   "source": [
    "b=output.forest1[output.forest1[,\"orig_bytes\"]<-0.01,]\n",
    "nrow(b)/nrow(output.forest1)\n",
    "c=output.forest1[output.forest1[,\"resp_bytes\"]<-0.01,]\n",
    "nrow(c)/nrow(output.forest1)"
   ]
  },
  {
   "cell_type": "code",
   "execution_count": 210,
   "metadata": {},
   "outputs": [],
   "source": [
    "output.forest<-output.forest88\n",
    "for(i in c(1:nrow(output.forest))){\n",
    "    if(output.forest[i,\"orig_bytes\"]<0)\n",
    "        {output.forest[i,\"orig_bytes\"]=0}\n",
    "    \n",
    "    if(output.forest[i,\"resp_bytes\"]<0)\n",
    "        {output.forest[i,\"resp_bytes\"]=0}}"
   ]
  },
  {
   "cell_type": "code",
   "execution_count": 211,
   "metadata": {},
   "outputs": [
    {
     "data": {
      "text/html": [
       "<table>\n",
       "<caption>A data.frame: 6 × 3</caption>\n",
       "<thead>\n",
       "\t<tr><th></th><th scope=col>duration</th><th scope=col>orig_bytes</th><th scope=col>resp_bytes</th></tr>\n",
       "\t<tr><th></th><th scope=col>&lt;dbl&gt;</th><th scope=col>&lt;dbl&gt;</th><th scope=col>&lt;dbl&gt;</th></tr>\n",
       "</thead>\n",
       "<tbody>\n",
       "\t<tr><th scope=row>1</th><td>0.02081250</td><td>4.80831e+02</td><td>8133</td></tr>\n",
       "\t<tr><th scope=row>2</th><td>0.01000000</td><td>7.08500e+03</td><td> 172</td></tr>\n",
       "\t<tr><th scope=row>3</th><td>1.01061582</td><td>1.99191e-04</td><td>   0</td></tr>\n",
       "\t<tr><th scope=row>4</th><td>0.01291319</td><td>1.99191e-04</td><td>   0</td></tr>\n",
       "\t<tr><th scope=row>5</th><td>0.17636876</td><td>1.99191e-04</td><td>   0</td></tr>\n",
       "\t<tr><th scope=row>6</th><td>0.02720282</td><td>1.99191e-04</td><td>   0</td></tr>\n",
       "</tbody>\n",
       "</table>\n"
      ],
      "text/latex": [
       "A data.frame: 6 × 3\n",
       "\\begin{tabular}{r|lll}\n",
       "  & duration & orig\\_bytes & resp\\_bytes\\\\\n",
       "  & <dbl> & <dbl> & <dbl>\\\\\n",
       "\\hline\n",
       "\t1 & 0.02081250 & 4.80831e+02 & 8133\\\\\n",
       "\t2 & 0.01000000 & 7.08500e+03 &  172\\\\\n",
       "\t3 & 1.01061582 & 1.99191e-04 &    0\\\\\n",
       "\t4 & 0.01291319 & 1.99191e-04 &    0\\\\\n",
       "\t5 & 0.17636876 & 1.99191e-04 &    0\\\\\n",
       "\t6 & 0.02720282 & 1.99191e-04 &    0\\\\\n",
       "\\end{tabular}\n"
      ],
      "text/markdown": [
       "\n",
       "A data.frame: 6 × 3\n",
       "\n",
       "| <!--/--> | duration &lt;dbl&gt; | orig_bytes &lt;dbl&gt; | resp_bytes &lt;dbl&gt; |\n",
       "|---|---|---|---|\n",
       "| 1 | 0.02081250 | 4.80831e+02 | 8133 |\n",
       "| 2 | 0.01000000 | 7.08500e+03 |  172 |\n",
       "| 3 | 1.01061582 | 1.99191e-04 |    0 |\n",
       "| 4 | 0.01291319 | 1.99191e-04 |    0 |\n",
       "| 5 | 0.17636876 | 1.99191e-04 |    0 |\n",
       "| 6 | 0.02720282 | 1.99191e-04 |    0 |\n",
       "\n"
      ],
      "text/plain": [
       "  duration   orig_bytes  resp_bytes\n",
       "1 0.02081250 4.80831e+02 8133      \n",
       "2 0.01000000 7.08500e+03  172      \n",
       "3 1.01061582 1.99191e-04    0      \n",
       "4 0.01291319 1.99191e-04    0      \n",
       "5 0.17636876 1.99191e-04    0      \n",
       "6 0.02720282 1.99191e-04    0      "
      ]
     },
     "metadata": {},
     "output_type": "display_data"
    }
   ],
   "source": [
    "head(output.forest)"
   ]
  },
  {
   "cell_type": "code",
   "execution_count": 212,
   "metadata": {},
   "outputs": [
    {
     "data": {
      "text/html": [
       "<style>\n",
       ".dl-inline {width: auto; margin:0; padding: 0}\n",
       ".dl-inline>dt, .dl-inline>dd {float: none; width: auto; display: inline-block}\n",
       ".dl-inline>dt::after {content: \":\\0020\"; padding-right: .5ex}\n",
       ".dl-inline>dt:not(:first-of-type) {padding-left: .5ex}\n",
       "</style><dl class=dl-inline><dt>duration</dt><dd>0.429047559388466</dd><dt>orig_bytes</dt><dd>0.717249640146096</dd><dt>resp_bytes</dt><dd>0.818956127907336</dd></dl>\n"
      ],
      "text/latex": [
       "\\begin{description*}\n",
       "\\item[duration] 0.429047559388466\n",
       "\\item[orig\\textbackslash{}\\_bytes] 0.717249640146096\n",
       "\\item[resp\\textbackslash{}\\_bytes] 0.818956127907336\n",
       "\\end{description*}\n"
      ],
      "text/markdown": [
       "duration\n",
       ":   0.429047559388466orig_bytes\n",
       ":   0.717249640146096resp_bytes\n",
       ":   0.818956127907336\n",
       "\n"
      ],
      "text/plain": [
       "  duration orig_bytes resp_bytes \n",
       " 0.4290476  0.7172496  0.8189561 "
      ]
     },
     "metadata": {},
     "output_type": "display_data"
    }
   ],
   "source": [
    "diag(cor(output.forest, truth))"
   ]
  },
  {
   "cell_type": "code",
   "execution_count": 138,
   "metadata": {},
   "outputs": [
    {
     "data": {
      "text/html": [
       "<style>\n",
       ".dl-inline {width: auto; margin:0; padding: 0}\n",
       ".dl-inline>dt, .dl-inline>dd {float: none; width: auto; display: inline-block}\n",
       ".dl-inline>dt::after {content: \":\\0020\"; padding-right: .5ex}\n",
       ".dl-inline>dt:not(:first-of-type) {padding-left: .5ex}\n",
       "</style><dl class=dl-inline><dt>duration</dt><dd>0.237491098134228</dd><dt>orig_bytes</dt><dd>0.3743043964488</dd><dt>resp_bytes</dt><dd>0.599254991458743</dd></dl>\n"
      ],
      "text/latex": [
       "\\begin{description*}\n",
       "\\item[duration] 0.237491098134228\n",
       "\\item[orig\\textbackslash{}\\_bytes] 0.3743043964488\n",
       "\\item[resp\\textbackslash{}\\_bytes] 0.599254991458743\n",
       "\\end{description*}\n"
      ],
      "text/markdown": [
       "duration\n",
       ":   0.237491098134228orig_bytes\n",
       ":   0.3743043964488resp_bytes\n",
       ":   0.599254991458743\n",
       "\n"
      ],
      "text/plain": [
       "  duration orig_bytes resp_bytes \n",
       " 0.2374911  0.3743044  0.5992550 "
      ]
     },
     "metadata": {},
     "output_type": "display_data"
    }
   ],
   "source": [
    "diag(cor(output.mean, truth))"
   ]
  }
 ],
 "metadata": {
  "kernelspec": {
   "display_name": "R",
   "language": "R",
   "name": "ir"
  },
  "language_info": {
   "codemirror_mode": "r",
   "file_extension": ".r",
   "mimetype": "text/x-r-source",
   "name": "R",
   "pygments_lexer": "r",
   "version": "4.0.2"
  }
 },
 "nbformat": 4,
 "nbformat_minor": 4
}
