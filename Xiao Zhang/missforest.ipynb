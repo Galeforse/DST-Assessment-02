{
 "cells": [
  {
   "cell_type": "markdown",
   "metadata": {},
   "source": [
    "This document only contains some codes that I have succeeded, because this data set is too weird and huge (the proportion of missing data is too high), I tried many methods without success.\n",
    "\n",
    "I have relatively little explanation of the code, if you have any questions, please @me."
   ]
  },
  {
   "cell_type": "code",
   "execution_count": 9,
   "metadata": {},
   "outputs": [],
   "source": [
    "setwd(\"D:\\\\dst\\\\assessment2\")\n",
    "conndata<-read.table(\"1_percent_data.csv.gz\", sep=\",\", header=TRUE, na.strings=c(\"\",\"NA\"))"
   ]
  },
  {
   "cell_type": "code",
   "execution_count": 10,
   "metadata": {},
   "outputs": [
    {
     "data": {
      "text/html": [
       "<table>\n",
       "<caption>A data.frame: 6 × 17</caption>\n",
       "<thead>\n",
       "\t<tr><th></th><th scope=col>ts</th><th scope=col>orig_ip</th><th scope=col>orig_port</th><th scope=col>resp_ip</th><th scope=col>resp_port</th><th scope=col>proto</th><th scope=col>service</th><th scope=col>duration</th><th scope=col>orig_bytes</th><th scope=col>resp_bytes</th><th scope=col>conn_state</th><th scope=col>missed_bytes</th><th scope=col>history</th><th scope=col>orig_pkts</th><th scope=col>orig_ip_bytes</th><th scope=col>resp_pkts</th><th scope=col>resp_ip_bytes</th></tr>\n",
       "\t<tr><th></th><th scope=col>&lt;dbl&gt;</th><th scope=col>&lt;fct&gt;</th><th scope=col>&lt;dbl&gt;</th><th scope=col>&lt;fct&gt;</th><th scope=col>&lt;dbl&gt;</th><th scope=col>&lt;fct&gt;</th><th scope=col>&lt;chr&gt;</th><th scope=col>&lt;dbl&gt;</th><th scope=col>&lt;dbl&gt;</th><th scope=col>&lt;dbl&gt;</th><th scope=col>&lt;fct&gt;</th><th scope=col>&lt;dbl&gt;</th><th scope=col>&lt;fct&gt;</th><th scope=col>&lt;dbl&gt;</th><th scope=col>&lt;dbl&gt;</th><th scope=col>&lt;dbl&gt;</th><th scope=col>&lt;dbl&gt;</th></tr>\n",
       "</thead>\n",
       "<tbody>\n",
       "\t<tr><th scope=row>1</th><td>1331915797</td><td>192.168.202.102</td><td> 2633</td><td>192.168.23.202</td><td>  80</td><td>tcp</td><td>http</td><td>0.03</td><td>481</td><td>8133</td><td>RSTO</td><td>0</td><td>ShADadfR</td><td>8</td><td>813</td><td>9</td><td>8505</td></tr>\n",
       "\t<tr><th scope=row>2</th><td>1331923392</td><td>192.168.202.110</td><td>11574</td><td>192.168.23.253</td><td>1724</td><td>tcp</td><td>NA  </td><td>  NA</td><td> NA</td><td>  NA</td><td>REJ </td><td>0</td><td>Sr      </td><td>1</td><td> 48</td><td>1</td><td>  40</td></tr>\n",
       "\t<tr><th scope=row>3</th><td>1331905217</td><td>192.168.202.83 </td><td>41267</td><td>192.168.206.44</td><td>8010</td><td>tcp</td><td>NA  </td><td>  NA</td><td> NA</td><td>  NA</td><td>REJ </td><td>0</td><td>Sr      </td><td>1</td><td> 60</td><td>1</td><td>  40</td></tr>\n",
       "\t<tr><th scope=row>4</th><td>1331994375</td><td>192.168.202.83 </td><td>58519</td><td>192.168.206.44</td><td>5214</td><td>tcp</td><td>NA  </td><td>  NA</td><td> NA</td><td>  NA</td><td>REJ </td><td>0</td><td>Sr      </td><td>1</td><td> 60</td><td>1</td><td>  40</td></tr>\n",
       "\t<tr><th scope=row>5</th><td>1331999507</td><td>192.168.202.140</td><td>25774</td><td>192.168.23.252</td><td>1625</td><td>tcp</td><td>NA  </td><td>  NA</td><td> NA</td><td>  NA</td><td>S0  </td><td>0</td><td>S       </td><td>1</td><td> 48</td><td>0</td><td>   0</td></tr>\n",
       "\t<tr><th scope=row>6</th><td>1331935766</td><td>192.168.202.83 </td><td>60760</td><td>192.168.206.44</td><td>1580</td><td>tcp</td><td>NA  </td><td>  NA</td><td> NA</td><td>  NA</td><td>REJ </td><td>0</td><td>Sr      </td><td>1</td><td> 60</td><td>1</td><td>  40</td></tr>\n",
       "</tbody>\n",
       "</table>\n"
      ],
      "text/latex": [
       "A data.frame: 6 × 17\n",
       "\\begin{tabular}{r|lllllllllllllllll}\n",
       "  & ts & orig\\_ip & orig\\_port & resp\\_ip & resp\\_port & proto & service & duration & orig\\_bytes & resp\\_bytes & conn\\_state & missed\\_bytes & history & orig\\_pkts & orig\\_ip\\_bytes & resp\\_pkts & resp\\_ip\\_bytes\\\\\n",
       "  & <dbl> & <fct> & <dbl> & <fct> & <dbl> & <fct> & <chr> & <dbl> & <dbl> & <dbl> & <fct> & <dbl> & <fct> & <dbl> & <dbl> & <dbl> & <dbl>\\\\\n",
       "\\hline\n",
       "\t1 & 1331915797 & 192.168.202.102 &  2633 & 192.168.23.202 &   80 & tcp & http & 0.03 & 481 & 8133 & RSTO & 0 & ShADadfR & 8 & 813 & 9 & 8505\\\\\n",
       "\t2 & 1331923392 & 192.168.202.110 & 11574 & 192.168.23.253 & 1724 & tcp & NA   &   NA &  NA &   NA & REJ  & 0 & Sr       & 1 &  48 & 1 &   40\\\\\n",
       "\t3 & 1331905217 & 192.168.202.83  & 41267 & 192.168.206.44 & 8010 & tcp & NA   &   NA &  NA &   NA & REJ  & 0 & Sr       & 1 &  60 & 1 &   40\\\\\n",
       "\t4 & 1331994375 & 192.168.202.83  & 58519 & 192.168.206.44 & 5214 & tcp & NA   &   NA &  NA &   NA & REJ  & 0 & Sr       & 1 &  60 & 1 &   40\\\\\n",
       "\t5 & 1331999507 & 192.168.202.140 & 25774 & 192.168.23.252 & 1625 & tcp & NA   &   NA &  NA &   NA & S0   & 0 & S        & 1 &  48 & 0 &    0\\\\\n",
       "\t6 & 1331935766 & 192.168.202.83  & 60760 & 192.168.206.44 & 1580 & tcp & NA   &   NA &  NA &   NA & REJ  & 0 & Sr       & 1 &  60 & 1 &   40\\\\\n",
       "\\end{tabular}\n"
      ],
      "text/markdown": [
       "\n",
       "A data.frame: 6 × 17\n",
       "\n",
       "| <!--/--> | ts &lt;dbl&gt; | orig_ip &lt;fct&gt; | orig_port &lt;dbl&gt; | resp_ip &lt;fct&gt; | resp_port &lt;dbl&gt; | proto &lt;fct&gt; | service &lt;chr&gt; | duration &lt;dbl&gt; | orig_bytes &lt;dbl&gt; | resp_bytes &lt;dbl&gt; | conn_state &lt;fct&gt; | missed_bytes &lt;dbl&gt; | history &lt;fct&gt; | orig_pkts &lt;dbl&gt; | orig_ip_bytes &lt;dbl&gt; | resp_pkts &lt;dbl&gt; | resp_ip_bytes &lt;dbl&gt; |\n",
       "|---|---|---|---|---|---|---|---|---|---|---|---|---|---|---|---|---|---|\n",
       "| 1 | 1331915797 | 192.168.202.102 |  2633 | 192.168.23.202 |   80 | tcp | http | 0.03 | 481 | 8133 | RSTO | 0 | ShADadfR | 8 | 813 | 9 | 8505 |\n",
       "| 2 | 1331923392 | 192.168.202.110 | 11574 | 192.168.23.253 | 1724 | tcp | NA   |   NA |  NA |   NA | REJ  | 0 | Sr       | 1 |  48 | 1 |   40 |\n",
       "| 3 | 1331905217 | 192.168.202.83  | 41267 | 192.168.206.44 | 8010 | tcp | NA   |   NA |  NA |   NA | REJ  | 0 | Sr       | 1 |  60 | 1 |   40 |\n",
       "| 4 | 1331994375 | 192.168.202.83  | 58519 | 192.168.206.44 | 5214 | tcp | NA   |   NA |  NA |   NA | REJ  | 0 | Sr       | 1 |  60 | 1 |   40 |\n",
       "| 5 | 1331999507 | 192.168.202.140 | 25774 | 192.168.23.252 | 1625 | tcp | NA   |   NA |  NA |   NA | S0   | 0 | S        | 1 |  48 | 0 |    0 |\n",
       "| 6 | 1331935766 | 192.168.202.83  | 60760 | 192.168.206.44 | 1580 | tcp | NA   |   NA |  NA |   NA | REJ  | 0 | Sr       | 1 |  60 | 1 |   40 |\n",
       "\n"
      ],
      "text/plain": [
       "  ts         orig_ip         orig_port resp_ip        resp_port proto service\n",
       "1 1331915797 192.168.202.102  2633     192.168.23.202   80      tcp   http   \n",
       "2 1331923392 192.168.202.110 11574     192.168.23.253 1724      tcp   NA     \n",
       "3 1331905217 192.168.202.83  41267     192.168.206.44 8010      tcp   NA     \n",
       "4 1331994375 192.168.202.83  58519     192.168.206.44 5214      tcp   NA     \n",
       "5 1331999507 192.168.202.140 25774     192.168.23.252 1625      tcp   NA     \n",
       "6 1331935766 192.168.202.83  60760     192.168.206.44 1580      tcp   NA     \n",
       "  duration orig_bytes resp_bytes conn_state missed_bytes history  orig_pkts\n",
       "1 0.03     481        8133       RSTO       0            ShADadfR 8        \n",
       "2   NA      NA          NA       REJ        0            Sr       1        \n",
       "3   NA      NA          NA       REJ        0            Sr       1        \n",
       "4   NA      NA          NA       REJ        0            Sr       1        \n",
       "5   NA      NA          NA       S0         0            S        1        \n",
       "6   NA      NA          NA       REJ        0            Sr       1        \n",
       "  orig_ip_bytes resp_pkts resp_ip_bytes\n",
       "1 813           9         8505         \n",
       "2  48           1           40         \n",
       "3  60           1           40         \n",
       "4  60           1           40         \n",
       "5  48           0            0         \n",
       "6  60           1           40         "
      ]
     },
     "metadata": {},
     "output_type": "display_data"
    }
   ],
   "source": [
    "for(i in c(3,5,8,9,10,12,14:17)) conndata[,i]=as.numeric(conndata[,i])\n",
    "for(i in c(2,4,6,11,13)) conndata[,i]=as.factor(conndata[,i])\n",
    "conndata1<-conndata\n",
    "head(conndata1)"
   ]
  },
  {
   "cell_type": "markdown",
   "metadata": {},
   "source": [
    "#### Observing missing values"
   ]
  },
  {
   "cell_type": "code",
   "execution_count": 4,
   "metadata": {},
   "outputs": [
    {
     "data": {
      "text/html": [
       "<table>\n",
       "<caption>A matrix: 5 × 18 of type dbl</caption>\n",
       "<thead>\n",
       "\t<tr><th></th><th scope=col>ts</th><th scope=col>orig_ip</th><th scope=col>orig_port</th><th scope=col>resp_ip</th><th scope=col>resp_port</th><th scope=col>proto</th><th scope=col>conn_state</th><th scope=col>missed_bytes</th><th scope=col>history</th><th scope=col>orig_pkts</th><th scope=col>orig_ip_bytes</th><th scope=col>resp_pkts</th><th scope=col>resp_ip_bytes</th><th scope=col>duration</th><th scope=col>orig_bytes</th><th scope=col>resp_bytes</th><th scope=col>service</th><th scope=col></th></tr>\n",
       "</thead>\n",
       "<tbody>\n",
       "\t<tr><th scope=row>5172</th><td>1</td><td>1</td><td>1</td><td>1</td><td>1</td><td>1</td><td>1</td><td>1</td><td>1</td><td>1</td><td>1</td><td>1</td><td>1</td><td>     1</td><td>     1</td><td>     1</td><td>     1</td><td>     0</td></tr>\n",
       "\t<tr><th scope=row>33866</th><td>1</td><td>1</td><td>1</td><td>1</td><td>1</td><td>1</td><td>1</td><td>1</td><td>1</td><td>1</td><td>1</td><td>1</td><td>1</td><td>     1</td><td>     1</td><td>     1</td><td>     0</td><td>     1</td></tr>\n",
       "\t<tr><th scope=row>1614</th><td>1</td><td>1</td><td>1</td><td>1</td><td>1</td><td>1</td><td>1</td><td>1</td><td>1</td><td>1</td><td>1</td><td>1</td><td>1</td><td>     0</td><td>     0</td><td>     0</td><td>     1</td><td>     3</td></tr>\n",
       "\t<tr><th scope=row>186291</th><td>1</td><td>1</td><td>1</td><td>1</td><td>1</td><td>1</td><td>1</td><td>1</td><td>1</td><td>1</td><td>1</td><td>1</td><td>1</td><td>     0</td><td>     0</td><td>     0</td><td>     0</td><td>     4</td></tr>\n",
       "\t<tr><th scope=row></th><td>0</td><td>0</td><td>0</td><td>0</td><td>0</td><td>0</td><td>0</td><td>0</td><td>0</td><td>0</td><td>0</td><td>0</td><td>0</td><td>187905</td><td>187905</td><td>187905</td><td>220157</td><td>783872</td></tr>\n",
       "</tbody>\n",
       "</table>\n"
      ],
      "text/latex": [
       "A matrix: 5 × 18 of type dbl\n",
       "\\begin{tabular}{r|llllllllllllllllll}\n",
       "  & ts & orig\\_ip & orig\\_port & resp\\_ip & resp\\_port & proto & conn\\_state & missed\\_bytes & history & orig\\_pkts & orig\\_ip\\_bytes & resp\\_pkts & resp\\_ip\\_bytes & duration & orig\\_bytes & resp\\_bytes & service & \\\\\n",
       "\\hline\n",
       "\t5172 & 1 & 1 & 1 & 1 & 1 & 1 & 1 & 1 & 1 & 1 & 1 & 1 & 1 &      1 &      1 &      1 &      1 &      0\\\\\n",
       "\t33866 & 1 & 1 & 1 & 1 & 1 & 1 & 1 & 1 & 1 & 1 & 1 & 1 & 1 &      1 &      1 &      1 &      0 &      1\\\\\n",
       "\t1614 & 1 & 1 & 1 & 1 & 1 & 1 & 1 & 1 & 1 & 1 & 1 & 1 & 1 &      0 &      0 &      0 &      1 &      3\\\\\n",
       "\t186291 & 1 & 1 & 1 & 1 & 1 & 1 & 1 & 1 & 1 & 1 & 1 & 1 & 1 &      0 &      0 &      0 &      0 &      4\\\\\n",
       "\t & 0 & 0 & 0 & 0 & 0 & 0 & 0 & 0 & 0 & 0 & 0 & 0 & 0 & 187905 & 187905 & 187905 & 220157 & 783872\\\\\n",
       "\\end{tabular}\n"
      ],
      "text/markdown": [
       "\n",
       "A matrix: 5 × 18 of type dbl\n",
       "\n",
       "| <!--/--> | ts | orig_ip | orig_port | resp_ip | resp_port | proto | conn_state | missed_bytes | history | orig_pkts | orig_ip_bytes | resp_pkts | resp_ip_bytes | duration | orig_bytes | resp_bytes | service | <!----> |\n",
       "|---|---|---|---|---|---|---|---|---|---|---|---|---|---|---|---|---|---|---|\n",
       "| 5172 | 1 | 1 | 1 | 1 | 1 | 1 | 1 | 1 | 1 | 1 | 1 | 1 | 1 |      1 |      1 |      1 |      1 |      0 |\n",
       "| 33866 | 1 | 1 | 1 | 1 | 1 | 1 | 1 | 1 | 1 | 1 | 1 | 1 | 1 |      1 |      1 |      1 |      0 |      1 |\n",
       "| 1614 | 1 | 1 | 1 | 1 | 1 | 1 | 1 | 1 | 1 | 1 | 1 | 1 | 1 |      0 |      0 |      0 |      1 |      3 |\n",
       "| 186291 | 1 | 1 | 1 | 1 | 1 | 1 | 1 | 1 | 1 | 1 | 1 | 1 | 1 |      0 |      0 |      0 |      0 |      4 |\n",
       "| <!----> | 0 | 0 | 0 | 0 | 0 | 0 | 0 | 0 | 0 | 0 | 0 | 0 | 0 | 187905 | 187905 | 187905 | 220157 | 783872 |\n",
       "\n"
      ],
      "text/plain": [
       "       ts orig_ip orig_port resp_ip resp_port proto conn_state missed_bytes\n",
       "5172   1  1       1         1       1         1     1          1           \n",
       "33866  1  1       1         1       1         1     1          1           \n",
       "1614   1  1       1         1       1         1     1          1           \n",
       "186291 1  1       1         1       1         1     1          1           \n",
       "       0  0       0         0       0         0     0          0           \n",
       "       history orig_pkts orig_ip_bytes resp_pkts resp_ip_bytes duration\n",
       "5172   1       1         1             1         1                  1  \n",
       "33866  1       1         1             1         1                  1  \n",
       "1614   1       1         1             1         1                  0  \n",
       "186291 1       1         1             1         1                  0  \n",
       "       0       0         0             0         0             187905  \n",
       "       orig_bytes resp_bytes service       \n",
       "5172        1          1          1       0\n",
       "33866       1          1          0       1\n",
       "1614        0          0          1       3\n",
       "186291      0          0          0       4\n",
       "       187905     187905     220157  783872"
      ]
     },
     "metadata": {},
     "output_type": "display_data"
    },
    {
     "data": {
      "image/png": "[encoded data removed]",
      "text/plain": [
       "plot without title"
      ]
     },
     "metadata": {
      "image/png": {
       "height": 420,
       "width": 420
      }
     },
     "output_type": "display_data"
    }
   ],
   "source": [
    "library(\"mice\")\n",
    "md.pattern(conndata1)"
   ]
  },
  {
   "cell_type": "code",
   "execution_count": 7,
   "metadata": {},
   "outputs": [
    {
     "name": "stderr",
     "output_type": "stream",
     "text": [
      "Warning message in plot.aggr(res, ...):\n",
      "\"not enough horizontal space to display frequencies\"\n"
     ]
    },
    {
     "data": {
      "image/png": "[encoded data removed]",
      "text/plain": [
       "plot without title"
      ]
     },
     "metadata": {
      "image/png": {
       "height": 420,
       "width": 420
      }
     },
     "output_type": "display_data"
    }
   ],
   "source": [
    "library(\"VIM\")\n",
    "aggr(conndata1, prop = TRUE, numbers = TRUE)"
   ]
  },
  {
   "cell_type": "code",
   "execution_count": 8,
   "metadata": {},
   "outputs": [
    {
     "data": {
      "image/png": "[encoded data removed]",
      "text/plain": [
       "plot without title"
      ]
     },
     "metadata": {
      "image/png": {
       "height": 420,
       "width": 420
      }
     },
     "output_type": "display_data"
    }
   ],
   "source": [
    "matrixplot(conndata1,sortby = \"ts\")"
   ]
  },
  {
   "cell_type": "markdown",
   "metadata": {},
   "source": [
    "We delete the \"service\" column"
   ]
  },
  {
   "cell_type": "code",
   "execution_count": 11,
   "metadata": {},
   "outputs": [
    {
     "data": {
      "text/html": [
       "<table>\n",
       "<caption>A data.frame: 6 × 16</caption>\n",
       "<thead>\n",
       "\t<tr><th></th><th scope=col>ts</th><th scope=col>orig_ip</th><th scope=col>orig_port</th><th scope=col>resp_ip</th><th scope=col>resp_port</th><th scope=col>proto</th><th scope=col>duration</th><th scope=col>orig_bytes</th><th scope=col>resp_bytes</th><th scope=col>conn_state</th><th scope=col>missed_bytes</th><th scope=col>history</th><th scope=col>orig_pkts</th><th scope=col>orig_ip_bytes</th><th scope=col>resp_pkts</th><th scope=col>resp_ip_bytes</th></tr>\n",
       "\t<tr><th></th><th scope=col>&lt;dbl&gt;</th><th scope=col>&lt;fct&gt;</th><th scope=col>&lt;dbl&gt;</th><th scope=col>&lt;fct&gt;</th><th scope=col>&lt;dbl&gt;</th><th scope=col>&lt;fct&gt;</th><th scope=col>&lt;dbl&gt;</th><th scope=col>&lt;dbl&gt;</th><th scope=col>&lt;dbl&gt;</th><th scope=col>&lt;fct&gt;</th><th scope=col>&lt;dbl&gt;</th><th scope=col>&lt;fct&gt;</th><th scope=col>&lt;dbl&gt;</th><th scope=col>&lt;dbl&gt;</th><th scope=col>&lt;dbl&gt;</th><th scope=col>&lt;dbl&gt;</th></tr>\n",
       "</thead>\n",
       "<tbody>\n",
       "\t<tr><th scope=row>1</th><td>1331915797</td><td>192.168.202.102</td><td> 2633</td><td>192.168.23.202</td><td>  80</td><td>tcp</td><td>0.03</td><td>481</td><td>8133</td><td>RSTO</td><td>0</td><td>ShADadfR</td><td>8</td><td>813</td><td>9</td><td>8505</td></tr>\n",
       "\t<tr><th scope=row>2</th><td>1331923392</td><td>192.168.202.110</td><td>11574</td><td>192.168.23.253</td><td>1724</td><td>tcp</td><td>  NA</td><td> NA</td><td>  NA</td><td>REJ </td><td>0</td><td>Sr      </td><td>1</td><td> 48</td><td>1</td><td>  40</td></tr>\n",
       "\t<tr><th scope=row>3</th><td>1331905217</td><td>192.168.202.83 </td><td>41267</td><td>192.168.206.44</td><td>8010</td><td>tcp</td><td>  NA</td><td> NA</td><td>  NA</td><td>REJ </td><td>0</td><td>Sr      </td><td>1</td><td> 60</td><td>1</td><td>  40</td></tr>\n",
       "\t<tr><th scope=row>4</th><td>1331994375</td><td>192.168.202.83 </td><td>58519</td><td>192.168.206.44</td><td>5214</td><td>tcp</td><td>  NA</td><td> NA</td><td>  NA</td><td>REJ </td><td>0</td><td>Sr      </td><td>1</td><td> 60</td><td>1</td><td>  40</td></tr>\n",
       "\t<tr><th scope=row>5</th><td>1331999507</td><td>192.168.202.140</td><td>25774</td><td>192.168.23.252</td><td>1625</td><td>tcp</td><td>  NA</td><td> NA</td><td>  NA</td><td>S0  </td><td>0</td><td>S       </td><td>1</td><td> 48</td><td>0</td><td>   0</td></tr>\n",
       "\t<tr><th scope=row>6</th><td>1331935766</td><td>192.168.202.83 </td><td>60760</td><td>192.168.206.44</td><td>1580</td><td>tcp</td><td>  NA</td><td> NA</td><td>  NA</td><td>REJ </td><td>0</td><td>Sr      </td><td>1</td><td> 60</td><td>1</td><td>  40</td></tr>\n",
       "</tbody>\n",
       "</table>\n"
      ],
      "text/latex": [
       "A data.frame: 6 × 16\n",
       "\\begin{tabular}{r|llllllllllllllll}\n",
       "  & ts & orig\\_ip & orig\\_port & resp\\_ip & resp\\_port & proto & duration & orig\\_bytes & resp\\_bytes & conn\\_state & missed\\_bytes & history & orig\\_pkts & orig\\_ip\\_bytes & resp\\_pkts & resp\\_ip\\_bytes\\\\\n",
       "  & <dbl> & <fct> & <dbl> & <fct> & <dbl> & <fct> & <dbl> & <dbl> & <dbl> & <fct> & <dbl> & <fct> & <dbl> & <dbl> & <dbl> & <dbl>\\\\\n",
       "\\hline\n",
       "\t1 & 1331915797 & 192.168.202.102 &  2633 & 192.168.23.202 &   80 & tcp & 0.03 & 481 & 8133 & RSTO & 0 & ShADadfR & 8 & 813 & 9 & 8505\\\\\n",
       "\t2 & 1331923392 & 192.168.202.110 & 11574 & 192.168.23.253 & 1724 & tcp &   NA &  NA &   NA & REJ  & 0 & Sr       & 1 &  48 & 1 &   40\\\\\n",
       "\t3 & 1331905217 & 192.168.202.83  & 41267 & 192.168.206.44 & 8010 & tcp &   NA &  NA &   NA & REJ  & 0 & Sr       & 1 &  60 & 1 &   40\\\\\n",
       "\t4 & 1331994375 & 192.168.202.83  & 58519 & 192.168.206.44 & 5214 & tcp &   NA &  NA &   NA & REJ  & 0 & Sr       & 1 &  60 & 1 &   40\\\\\n",
       "\t5 & 1331999507 & 192.168.202.140 & 25774 & 192.168.23.252 & 1625 & tcp &   NA &  NA &   NA & S0   & 0 & S        & 1 &  48 & 0 &    0\\\\\n",
       "\t6 & 1331935766 & 192.168.202.83  & 60760 & 192.168.206.44 & 1580 & tcp &   NA &  NA &   NA & REJ  & 0 & Sr       & 1 &  60 & 1 &   40\\\\\n",
       "\\end{tabular}\n"
      ],
      "text/markdown": [
       "\n",
       "A data.frame: 6 × 16\n",
       "\n",
       "| <!--/--> | ts &lt;dbl&gt; | orig_ip &lt;fct&gt; | orig_port &lt;dbl&gt; | resp_ip &lt;fct&gt; | resp_port &lt;dbl&gt; | proto &lt;fct&gt; | duration &lt;dbl&gt; | orig_bytes &lt;dbl&gt; | resp_bytes &lt;dbl&gt; | conn_state &lt;fct&gt; | missed_bytes &lt;dbl&gt; | history &lt;fct&gt; | orig_pkts &lt;dbl&gt; | orig_ip_bytes &lt;dbl&gt; | resp_pkts &lt;dbl&gt; | resp_ip_bytes &lt;dbl&gt; |\n",
       "|---|---|---|---|---|---|---|---|---|---|---|---|---|---|---|---|---|\n",
       "| 1 | 1331915797 | 192.168.202.102 |  2633 | 192.168.23.202 |   80 | tcp | 0.03 | 481 | 8133 | RSTO | 0 | ShADadfR | 8 | 813 | 9 | 8505 |\n",
       "| 2 | 1331923392 | 192.168.202.110 | 11574 | 192.168.23.253 | 1724 | tcp |   NA |  NA |   NA | REJ  | 0 | Sr       | 1 |  48 | 1 |   40 |\n",
       "| 3 | 1331905217 | 192.168.202.83  | 41267 | 192.168.206.44 | 8010 | tcp |   NA |  NA |   NA | REJ  | 0 | Sr       | 1 |  60 | 1 |   40 |\n",
       "| 4 | 1331994375 | 192.168.202.83  | 58519 | 192.168.206.44 | 5214 | tcp |   NA |  NA |   NA | REJ  | 0 | Sr       | 1 |  60 | 1 |   40 |\n",
       "| 5 | 1331999507 | 192.168.202.140 | 25774 | 192.168.23.252 | 1625 | tcp |   NA |  NA |   NA | S0   | 0 | S        | 1 |  48 | 0 |    0 |\n",
       "| 6 | 1331935766 | 192.168.202.83  | 60760 | 192.168.206.44 | 1580 | tcp |   NA |  NA |   NA | REJ  | 0 | Sr       | 1 |  60 | 1 |   40 |\n",
       "\n"
      ],
      "text/plain": [
       "  ts         orig_ip         orig_port resp_ip        resp_port proto duration\n",
       "1 1331915797 192.168.202.102  2633     192.168.23.202   80      tcp   0.03    \n",
       "2 1331923392 192.168.202.110 11574     192.168.23.253 1724      tcp     NA    \n",
       "3 1331905217 192.168.202.83  41267     192.168.206.44 8010      tcp     NA    \n",
       "4 1331994375 192.168.202.83  58519     192.168.206.44 5214      tcp     NA    \n",
       "5 1331999507 192.168.202.140 25774     192.168.23.252 1625      tcp     NA    \n",
       "6 1331935766 192.168.202.83  60760     192.168.206.44 1580      tcp     NA    \n",
       "  orig_bytes resp_bytes conn_state missed_bytes history  orig_pkts\n",
       "1 481        8133       RSTO       0            ShADadfR 8        \n",
       "2  NA          NA       REJ        0            Sr       1        \n",
       "3  NA          NA       REJ        0            Sr       1        \n",
       "4  NA          NA       REJ        0            Sr       1        \n",
       "5  NA          NA       S0         0            S        1        \n",
       "6  NA          NA       REJ        0            Sr       1        \n",
       "  orig_ip_bytes resp_pkts resp_ip_bytes\n",
       "1 813           9         8505         \n",
       "2  48           1           40         \n",
       "3  60           1           40         \n",
       "4  60           1           40         \n",
       "5  48           0            0         \n",
       "6  60           1           40         "
      ]
     },
     "metadata": {},
     "output_type": "display_data"
    }
   ],
   "source": [
    "conndata2<-conndata[,-which(names(conndata) %in% c(\"service\"))]\n",
    "head(conndata2)"
   ]
  },
  {
   "cell_type": "markdown",
   "metadata": {},
   "source": [
    "One way to examine the imputation model's performance is by how much variation it explains.\n",
    "We build a simple linear regression model, through this model, we can see the fit of \"duration\" and other variables. The closer the R-squared is to 1, the better the fit of the data, that is, the better the effect of imputation."
   ]
  },
  {
   "cell_type": "code",
   "execution_count": 12,
   "metadata": {},
   "outputs": [
    {
     "data": {
      "text/plain": [
       "\n",
       "Call:\n",
       "lm(formula = logduration ~ proto + ts + orig_port + resp_port + \n",
       "    conn_state + orig_pkts + orig_ip_bytes + resp_pkts + resp_ip_bytes, \n",
       "    data = conndata2)\n",
       "\n",
       "Residuals:\n",
       "     Min       1Q   Median       3Q      Max \n",
       "-16.5188  -0.9836  -0.4615   0.6292  12.3354 \n",
       "\n",
       "Coefficients:\n",
       "                 Estimate Std. Error t value Pr(>|t|)    \n",
       "(Intercept)     9.011e+03  2.293e+02  39.305  < 2e-16 ***\n",
       "prototcp        1.779e+00  2.237e-01   7.952 1.89e-15 ***\n",
       "protoudp        1.974e+00  2.330e-01   8.470  < 2e-16 ***\n",
       "ts             -6.765e-06  1.721e-07 -39.307  < 2e-16 ***\n",
       "orig_port      -9.129e-06  4.134e-07 -22.085  < 2e-16 ***\n",
       "resp_port      -8.783e-07  3.818e-07  -2.300   0.0214 *  \n",
       "conn_stateREJ  -4.676e+00  2.210e-01 -21.163  < 2e-16 ***\n",
       "conn_stateRSTO -4.450e+00  2.221e-01 -20.037  < 2e-16 ***\n",
       "conn_stateRSTR -2.785e+00  2.274e-01 -12.249  < 2e-16 ***\n",
       "conn_stateS0   -1.156e-01  2.241e-01  -0.516   0.6061    \n",
       "conn_stateS1    1.891e+00  3.547e-01   5.331 9.80e-08 ***\n",
       "conn_stateS2    2.151e+00  4.660e-01   4.615 3.94e-06 ***\n",
       "conn_stateS3    3.041e+00  1.379e+00   2.206   0.0274 *  \n",
       "conn_stateSF   -3.750e+00  2.226e-01 -16.849  < 2e-16 ***\n",
       "conn_stateSH    2.549e-01  4.251e-01   0.600   0.5488    \n",
       "conn_stateSHR  -1.859e+00  8.176e-01  -2.274   0.0230 *  \n",
       "orig_pkts       1.892e-02  1.198e-03  15.791  < 2e-16 ***\n",
       "orig_ip_bytes   5.920e-05  5.417e-06  10.930  < 2e-16 ***\n",
       "resp_pkts      -3.222e-02  1.370e-03 -23.524  < 2e-16 ***\n",
       "resp_ip_bytes   1.671e-05  1.231e-06  13.566  < 2e-16 ***\n",
       "---\n",
       "Signif. codes:  0 '***' 0.001 '**' 0.01 '*' 0.05 '.' 0.1 ' ' 1\n",
       "\n",
       "Residual standard error: 1.361 on 39018 degrees of freedom\n",
       "  (187905 observations deleted due to missingness)\n",
       "Multiple R-squared:  0.4579,\tAdjusted R-squared:  0.4577 \n",
       "F-statistic:  1735 on 19 and 39018 DF,  p-value: < 2.2e-16\n"
      ]
     },
     "metadata": {},
     "output_type": "display_data"
    }
   ],
   "source": [
    "conndata2[,\"logduration\"]=log(conndata2[,\"duration\"])\n",
    "lm1=lm(logduration~proto+ts+orig_port+resp_port+conn_state+orig_pkts+orig_ip_bytes +resp_pkts+resp_ip_bytes,data=conndata2)\n",
    "summary(lm1) "
   ]
  },
  {
   "cell_type": "markdown",
   "metadata": {},
   "source": [
    "#### Method 1: Deleting data with missing values"
   ]
  },
  {
   "cell_type": "code",
   "execution_count": 13,
   "metadata": {},
   "outputs": [],
   "source": [
    "conn_delete<-conndata2[complete.cases(conndata2),] "
   ]
  },
  {
   "cell_type": "code",
   "execution_count": 14,
   "metadata": {},
   "outputs": [
    {
     "data": {
      "text/plain": [
       "\n",
       "Call:\n",
       "lm(formula = logduration ~ proto + ts + orig_port + resp_port + \n",
       "    conn_state + orig_pkts + orig_ip_bytes + resp_pkts + resp_ip_bytes, \n",
       "    data = conn_delete)\n",
       "\n",
       "Residuals:\n",
       "     Min       1Q   Median       3Q      Max \n",
       "-16.5188  -0.9836  -0.4615   0.6292  12.3354 \n",
       "\n",
       "Coefficients:\n",
       "                 Estimate Std. Error t value Pr(>|t|)    \n",
       "(Intercept)     9.011e+03  2.293e+02  39.305  < 2e-16 ***\n",
       "prototcp        1.779e+00  2.237e-01   7.952 1.89e-15 ***\n",
       "protoudp        1.974e+00  2.330e-01   8.470  < 2e-16 ***\n",
       "ts             -6.765e-06  1.721e-07 -39.307  < 2e-16 ***\n",
       "orig_port      -9.129e-06  4.134e-07 -22.085  < 2e-16 ***\n",
       "resp_port      -8.783e-07  3.818e-07  -2.300   0.0214 *  \n",
       "conn_stateREJ  -4.676e+00  2.210e-01 -21.163  < 2e-16 ***\n",
       "conn_stateRSTO -4.450e+00  2.221e-01 -20.037  < 2e-16 ***\n",
       "conn_stateRSTR -2.785e+00  2.274e-01 -12.249  < 2e-16 ***\n",
       "conn_stateS0   -1.156e-01  2.241e-01  -0.516   0.6061    \n",
       "conn_stateS1    1.891e+00  3.547e-01   5.331 9.80e-08 ***\n",
       "conn_stateS2    2.151e+00  4.660e-01   4.615 3.94e-06 ***\n",
       "conn_stateS3    3.041e+00  1.379e+00   2.206   0.0274 *  \n",
       "conn_stateSF   -3.750e+00  2.226e-01 -16.849  < 2e-16 ***\n",
       "conn_stateSH    2.549e-01  4.251e-01   0.600   0.5488    \n",
       "conn_stateSHR  -1.859e+00  8.176e-01  -2.274   0.0230 *  \n",
       "orig_pkts       1.892e-02  1.198e-03  15.791  < 2e-16 ***\n",
       "orig_ip_bytes   5.920e-05  5.417e-06  10.930  < 2e-16 ***\n",
       "resp_pkts      -3.222e-02  1.370e-03 -23.524  < 2e-16 ***\n",
       "resp_ip_bytes   1.671e-05  1.231e-06  13.566  < 2e-16 ***\n",
       "---\n",
       "Signif. codes:  0 '***' 0.001 '**' 0.01 '*' 0.05 '.' 0.1 ' ' 1\n",
       "\n",
       "Residual standard error: 1.361 on 39018 degrees of freedom\n",
       "Multiple R-squared:  0.4579,\tAdjusted R-squared:  0.4577 \n",
       "F-statistic:  1735 on 19 and 39018 DF,  p-value: < 2.2e-16\n"
      ]
     },
     "metadata": {},
     "output_type": "display_data"
    }
   ],
   "source": [
    "lm_delete=lm(logduration~proto+ts+orig_port+resp_port+conn_state+orig_pkts+orig_ip_bytes +resp_pkts+resp_ip_bytes,data=conn_delete)\n",
    "summary(lm_delete) "
   ]
  },
  {
   "cell_type": "markdown",
   "metadata": {},
   "source": [
    "Since most of the data have missing values, this method is too simple and crude, and is not suitable for use in practice\n",
    "\n",
    "#### Method 2: Mean imputation"
   ]
  },
  {
   "cell_type": "code",
   "execution_count": 15,
   "metadata": {},
   "outputs": [],
   "source": [
    "conn_mean<-conndata2\n",
    "conn_mean[is.na(conn_mean[,\"logduration\"]),\n",
    "              \"logduration\"]=\n",
    "    mean(na.omit(conn_mean[,\"logduration\"]))"
   ]
  },
  {
   "cell_type": "code",
   "execution_count": 16,
   "metadata": {},
   "outputs": [
    {
     "data": {
      "text/plain": [
       "\n",
       "Call:\n",
       "lm(formula = logduration ~ proto + ts + orig_port + resp_port + \n",
       "    conn_state + orig_pkts + orig_ip_bytes + resp_pkts + resp_ip_bytes, \n",
       "    data = conn_mean)\n",
       "\n",
       "Residuals:\n",
       "     Min       1Q   Median       3Q      Max \n",
       "-22.0928  -0.0824   0.0241   0.1229  12.8767 \n",
       "\n",
       "Coefficients:\n",
       "                   Estimate Std. Error t value Pr(>|t|)    \n",
       "(Intercept)       1.593e+03  4.716e+01  33.770  < 2e-16 ***\n",
       "prototcp         -2.143e+00  2.419e-02 -88.584  < 2e-16 ***\n",
       "protoudp         -1.000e+00  2.872e-02 -34.814  < 2e-16 ***\n",
       "ts               -1.196e-06  3.541e-08 -33.788  < 2e-16 ***\n",
       "orig_port        -1.444e-06  1.004e-07 -14.386  < 2e-16 ***\n",
       "resp_port        -2.342e-06  7.291e-08 -32.123  < 2e-16 ***\n",
       "conn_stateREJ    -1.587e-01  1.741e-02  -9.119  < 2e-16 ***\n",
       "conn_stateRSTO   -2.316e-01  2.009e-02 -11.527  < 2e-16 ***\n",
       "conn_stateRSTOS0  6.724e-03  6.964e-01   0.010    0.992    \n",
       "conn_stateRSTR    9.268e-01  3.164e-02  29.288  < 2e-16 ***\n",
       "conn_stateRSTRH  -1.083e-02  2.468e-01  -0.044    0.965    \n",
       "conn_stateS0     -3.195e-03  1.742e-02  -0.183    0.854    \n",
       "conn_stateS1      5.220e+00  1.352e-01  38.601  < 2e-16 ***\n",
       "conn_stateS2      6.161e+00  2.106e-01  29.249  < 2e-16 ***\n",
       "conn_stateS3      7.086e+00  6.964e-01  10.175  < 2e-16 ***\n",
       "conn_stateSF      2.042e-01  2.222e-02   9.189  < 2e-16 ***\n",
       "conn_stateSH      6.088e-01  7.660e-02   7.948 1.90e-15 ***\n",
       "conn_stateSHR    -8.728e-01  1.359e-01  -6.423 1.34e-10 ***\n",
       "orig_pkts         2.974e-02  5.973e-04  49.797  < 2e-16 ***\n",
       "orig_ip_bytes     5.027e-05  2.673e-06  18.811  < 2e-16 ***\n",
       "resp_pkts        -4.409e-02  6.920e-04 -63.715  < 2e-16 ***\n",
       "resp_ip_bytes     2.338e-05  6.242e-07  37.457  < 2e-16 ***\n",
       "---\n",
       "Signif. codes:  0 '***' 0.001 '**' 0.01 '*' 0.05 '.' 0.1 ' ' 1\n",
       "\n",
       "Residual standard error: 0.6962 on 226921 degrees of freedom\n",
       "Multiple R-squared:  0.1753,\tAdjusted R-squared:  0.1752 \n",
       "F-statistic:  2296 on 21 and 226921 DF,  p-value: < 2.2e-16\n"
      ]
     },
     "metadata": {},
     "output_type": "display_data"
    }
   ],
   "source": [
    "lm_mean=lm(logduration~proto+ts+orig_port+resp_port+conn_state+orig_pkts+orig_ip_bytes +resp_pkts+resp_ip_bytes,data=conn_mean)\n",
    "summary(lm_mean)"
   ]
  },
  {
   "cell_type": "markdown",
   "metadata": {},
   "source": [
    "R-squared decreases, indicating that the effect of the mean imputation is not good.\n",
    "\n",
    "#### Method 3: MissForest imputation\n",
    "The function 'missForest' is used to impute missing values particularly in the case of mixed-type data. It uses a random forest trained on the observed values of a data matrix to predict the missing values. It can be used to impute continuous and/or categorical data including complex interactions and non-linear relations. It yields an out-of-bag (OOB) imputation error estimate without the need of a test set or elaborate cross-validation.\n",
    "\n",
    "We first make an initial guess for the missing value, for instance, replace it with the mean/median replacement, and then sort the variable from small to large according to the missing rate of the variable, first use random forest regression for the variable with the small missing rate to replace the missing value of the variable , And then iterate until the latest replacement result and the last replacement result no longer change (the change is small)."
   ]
  },
  {
   "cell_type": "code",
   "execution_count": 19,
   "metadata": {},
   "outputs": [
    {
     "name": "stdout",
     "output_type": "stream",
     "text": [
      "  missForest iteration 1 in progress...done!\n",
      "    estimated error(s): 0.01858368 0 \n",
      "    difference(s): 0.0003304282 0 \n",
      "    time: 278.1 seconds\n",
      "\n",
      "  missForest iteration 2 in progress...done!\n",
      "    estimated error(s): 0.01871791 0 \n",
      "    difference(s): 0.0001536129 0 \n",
      "    time: 223.68 seconds\n",
      "\n",
      "  missForest iteration 3 in progress...done!\n",
      "    estimated error(s): 0.01985061 0 \n",
      "    difference(s): 0.0001354906 0 \n",
      "    time: 227.57 seconds\n",
      "\n",
      "  missForest iteration 4 in progress...done!\n",
      "    estimated error(s): 0.01882613 0 \n",
      "    difference(s): 0.0001116969 0 \n",
      "    time: 229.78 seconds\n",
      "\n",
      "  missForest iteration 5 in progress...done!\n",
      "    estimated error(s): 0.01899781 0 \n",
      "    difference(s): 0.0001082856 0 \n",
      "    time: 225.54 seconds\n",
      "\n",
      "  missForest iteration 6 in progress...done!\n",
      "    estimated error(s): 0.01946173 0 \n",
      "    difference(s): 5.512473e-05 0 \n",
      "    time: 231.21 seconds\n",
      "\n",
      "  missForest iteration 7 in progress...done!\n",
      "    estimated error(s): 0.02026443 0 \n",
      "    difference(s): 0.0002509467 0 \n",
      "    time: 229.64 seconds\n",
      "\n"
     ]
    }
   ],
   "source": [
    "library(\"missForest\")\n",
    "conndata2<-conndata[,-which(names(conndata) %in% c(\"service\",\"orig_ip\",\"resp_ip\",\"history\"))]\n",
    "set.seed(81)\n",
    "conn_imp <- missForest(conndata2, verbose = TRUE,maxiter = 10, ntree = 100)\n",
    "conn_forest<-conn_imp$ximp"
   ]
  },
  {
   "cell_type": "code",
   "execution_count": 20,
   "metadata": {},
   "outputs": [
    {
     "data": {
      "text/html": [
       "<table>\n",
       "<caption>A data.frame: 6 × 13</caption>\n",
       "<thead>\n",
       "\t<tr><th></th><th scope=col>ts</th><th scope=col>orig_port</th><th scope=col>resp_port</th><th scope=col>proto</th><th scope=col>duration</th><th scope=col>orig_bytes</th><th scope=col>resp_bytes</th><th scope=col>conn_state</th><th scope=col>missed_bytes</th><th scope=col>orig_pkts</th><th scope=col>orig_ip_bytes</th><th scope=col>resp_pkts</th><th scope=col>resp_ip_bytes</th></tr>\n",
       "\t<tr><th></th><th scope=col>&lt;dbl&gt;</th><th scope=col>&lt;dbl&gt;</th><th scope=col>&lt;dbl&gt;</th><th scope=col>&lt;fct&gt;</th><th scope=col>&lt;dbl&gt;</th><th scope=col>&lt;dbl&gt;</th><th scope=col>&lt;dbl&gt;</th><th scope=col>&lt;fct&gt;</th><th scope=col>&lt;dbl&gt;</th><th scope=col>&lt;dbl&gt;</th><th scope=col>&lt;dbl&gt;</th><th scope=col>&lt;dbl&gt;</th><th scope=col>&lt;dbl&gt;</th></tr>\n",
       "</thead>\n",
       "<tbody>\n",
       "\t<tr><th scope=row>1</th><td>1331915797</td><td> 2633</td><td>  80</td><td>tcp</td><td> 0.03000000</td><td>4.810000e+02</td><td> 8.133000e+03</td><td>RSTO</td><td>0</td><td>8</td><td>813</td><td>9</td><td>8505</td></tr>\n",
       "\t<tr><th scope=row>2</th><td>1331923392</td><td>11574</td><td>1724</td><td>tcp</td><td> 0.13652842</td><td>5.329191e-04</td><td>-1.996011e-10</td><td>REJ </td><td>0</td><td>1</td><td> 48</td><td>1</td><td>  40</td></tr>\n",
       "\t<tr><th scope=row>3</th><td>1331905217</td><td>41267</td><td>8010</td><td>tcp</td><td> 0.05152906</td><td>5.290888e-04</td><td>-1.982710e-10</td><td>REJ </td><td>0</td><td>1</td><td> 60</td><td>1</td><td>  40</td></tr>\n",
       "\t<tr><th scope=row>4</th><td>1331994375</td><td>58519</td><td>5214</td><td>tcp</td><td> 0.02442885</td><td>5.329181e-04</td><td>-1.991930e-10</td><td>REJ </td><td>0</td><td>1</td><td> 60</td><td>1</td><td>  40</td></tr>\n",
       "\t<tr><th scope=row>5</th><td>1331999507</td><td>25774</td><td>1625</td><td>tcp</td><td>30.07244441</td><td>1.684881e+07</td><td> 1.962527e+03</td><td>S0  </td><td>0</td><td>1</td><td> 48</td><td>0</td><td>   0</td></tr>\n",
       "\t<tr><th scope=row>6</th><td>1331935766</td><td>60760</td><td>1580</td><td>tcp</td><td> 0.02745513</td><td>5.329181e-04</td><td>-2.006789e-10</td><td>REJ </td><td>0</td><td>1</td><td> 60</td><td>1</td><td>  40</td></tr>\n",
       "</tbody>\n",
       "</table>\n"
      ],
      "text/latex": [
       "A data.frame: 6 × 13\n",
       "\\begin{tabular}{r|lllllllllllll}\n",
       "  & ts & orig\\_port & resp\\_port & proto & duration & orig\\_bytes & resp\\_bytes & conn\\_state & missed\\_bytes & orig\\_pkts & orig\\_ip\\_bytes & resp\\_pkts & resp\\_ip\\_bytes\\\\\n",
       "  & <dbl> & <dbl> & <dbl> & <fct> & <dbl> & <dbl> & <dbl> & <fct> & <dbl> & <dbl> & <dbl> & <dbl> & <dbl>\\\\\n",
       "\\hline\n",
       "\t1 & 1331915797 &  2633 &   80 & tcp &  0.03000000 & 4.810000e+02 &  8.133000e+03 & RSTO & 0 & 8 & 813 & 9 & 8505\\\\\n",
       "\t2 & 1331923392 & 11574 & 1724 & tcp &  0.13652842 & 5.329191e-04 & -1.996011e-10 & REJ  & 0 & 1 &  48 & 1 &   40\\\\\n",
       "\t3 & 1331905217 & 41267 & 8010 & tcp &  0.05152906 & 5.290888e-04 & -1.982710e-10 & REJ  & 0 & 1 &  60 & 1 &   40\\\\\n",
       "\t4 & 1331994375 & 58519 & 5214 & tcp &  0.02442885 & 5.329181e-04 & -1.991930e-10 & REJ  & 0 & 1 &  60 & 1 &   40\\\\\n",
       "\t5 & 1331999507 & 25774 & 1625 & tcp & 30.07244441 & 1.684881e+07 &  1.962527e+03 & S0   & 0 & 1 &  48 & 0 &    0\\\\\n",
       "\t6 & 1331935766 & 60760 & 1580 & tcp &  0.02745513 & 5.329181e-04 & -2.006789e-10 & REJ  & 0 & 1 &  60 & 1 &   40\\\\\n",
       "\\end{tabular}\n"
      ],
      "text/markdown": [
       "\n",
       "A data.frame: 6 × 13\n",
       "\n",
       "| <!--/--> | ts &lt;dbl&gt; | orig_port &lt;dbl&gt; | resp_port &lt;dbl&gt; | proto &lt;fct&gt; | duration &lt;dbl&gt; | orig_bytes &lt;dbl&gt; | resp_bytes &lt;dbl&gt; | conn_state &lt;fct&gt; | missed_bytes &lt;dbl&gt; | orig_pkts &lt;dbl&gt; | orig_ip_bytes &lt;dbl&gt; | resp_pkts &lt;dbl&gt; | resp_ip_bytes &lt;dbl&gt; |\n",
       "|---|---|---|---|---|---|---|---|---|---|---|---|---|---|\n",
       "| 1 | 1331915797 |  2633 |   80 | tcp |  0.03000000 | 4.810000e+02 |  8.133000e+03 | RSTO | 0 | 8 | 813 | 9 | 8505 |\n",
       "| 2 | 1331923392 | 11574 | 1724 | tcp |  0.13652842 | 5.329191e-04 | -1.996011e-10 | REJ  | 0 | 1 |  48 | 1 |   40 |\n",
       "| 3 | 1331905217 | 41267 | 8010 | tcp |  0.05152906 | 5.290888e-04 | -1.982710e-10 | REJ  | 0 | 1 |  60 | 1 |   40 |\n",
       "| 4 | 1331994375 | 58519 | 5214 | tcp |  0.02442885 | 5.329181e-04 | -1.991930e-10 | REJ  | 0 | 1 |  60 | 1 |   40 |\n",
       "| 5 | 1331999507 | 25774 | 1625 | tcp | 30.07244441 | 1.684881e+07 |  1.962527e+03 | S0   | 0 | 1 |  48 | 0 |    0 |\n",
       "| 6 | 1331935766 | 60760 | 1580 | tcp |  0.02745513 | 5.329181e-04 | -2.006789e-10 | REJ  | 0 | 1 |  60 | 1 |   40 |\n",
       "\n"
      ],
      "text/plain": [
       "  ts         orig_port resp_port proto duration    orig_bytes   resp_bytes   \n",
       "1 1331915797  2633       80      tcp    0.03000000 4.810000e+02  8.133000e+03\n",
       "2 1331923392 11574     1724      tcp    0.13652842 5.329191e-04 -1.996011e-10\n",
       "3 1331905217 41267     8010      tcp    0.05152906 5.290888e-04 -1.982710e-10\n",
       "4 1331994375 58519     5214      tcp    0.02442885 5.329181e-04 -1.991930e-10\n",
       "5 1331999507 25774     1625      tcp   30.07244441 1.684881e+07  1.962527e+03\n",
       "6 1331935766 60760     1580      tcp    0.02745513 5.329181e-04 -2.006789e-10\n",
       "  conn_state missed_bytes orig_pkts orig_ip_bytes resp_pkts resp_ip_bytes\n",
       "1 RSTO       0            8         813           9         8505         \n",
       "2 REJ        0            1          48           1           40         \n",
       "3 REJ        0            1          60           1           40         \n",
       "4 REJ        0            1          60           1           40         \n",
       "5 S0         0            1          48           0            0         \n",
       "6 REJ        0            1          60           1           40         "
      ]
     },
     "metadata": {},
     "output_type": "display_data"
    }
   ],
   "source": [
    "head(conn_forest)"
   ]
  },
  {
   "cell_type": "code",
   "execution_count": 18,
   "metadata": {},
   "outputs": [
    {
     "data": {
      "text/plain": [
       "\n",
       "Call:\n",
       "lm(formula = logduration ~ proto + ts + orig_port + resp_port + \n",
       "    conn_state + orig_pkts + orig_ip_bytes + resp_pkts + resp_ip_bytes, \n",
       "    data = conn_forest)\n",
       "\n",
       "Residuals:\n",
       "     Min       1Q   Median       3Q      Max \n",
       "-13.8117  -0.7712  -0.2903   0.7656  11.0678 \n",
       "\n",
       "Coefficients:\n",
       "                   Estimate Std. Error  t value Pr(>|t|)    \n",
       "(Intercept)      -2.149e+03  7.673e+01  -28.006  < 2e-16 ***\n",
       "prototcp          3.340e+00  3.936e-02   84.849  < 2e-16 ***\n",
       "protoudp          2.392e+00  4.673e-02   51.174  < 2e-16 ***\n",
       "ts                1.613e-06  5.761e-08   28.002  < 2e-16 ***\n",
       "orig_port        -2.017e-06  1.633e-07  -12.348  < 2e-16 ***\n",
       "resp_port        -6.139e-06  1.186e-07  -51.752  < 2e-16 ***\n",
       "conn_stateREJ    -6.041e+00  2.832e-02 -213.317  < 2e-16 ***\n",
       "conn_stateRSTO   -5.352e+00  3.269e-02 -163.715  < 2e-16 ***\n",
       "conn_stateRSTOS0  2.818e-01  1.133e+00    0.249  0.80360    \n",
       "conn_stateRSTR   -4.945e+00  5.149e-02  -96.039  < 2e-16 ***\n",
       "conn_stateRSTRH  -7.332e-01  4.015e-01   -1.826  0.06782 .  \n",
       "conn_stateS0     -5.781e-01  2.834e-02  -20.397  < 2e-16 ***\n",
       "conn_stateS1      1.569e-01  2.200e-01    0.713  0.47564    \n",
       "conn_stateS2      2.142e-01  3.427e-01    0.625  0.53191    \n",
       "conn_stateS3      1.132e+00  1.133e+00    0.999  0.31780    \n",
       "conn_stateSF     -4.972e+00  3.615e-02 -137.545  < 2e-16 ***\n",
       "conn_stateSH      3.245e-01  1.246e-01    2.603  0.00923 ** \n",
       "conn_stateSHR     4.869e-01  2.211e-01    2.202  0.02764 *  \n",
       "orig_pkts         1.567e-02  9.719e-04   16.128  < 2e-16 ***\n",
       "orig_ip_bytes     3.447e-05  4.348e-06    7.926 2.27e-15 ***\n",
       "resp_pkts        -2.337e-02  1.126e-03  -20.753  < 2e-16 ***\n",
       "resp_ip_bytes     1.019e-05  1.016e-06   10.036  < 2e-16 ***\n",
       "---\n",
       "Signif. codes:  0 '***' 0.001 '**' 0.01 '*' 0.05 '.' 0.1 ' ' 1\n",
       "\n",
       "Residual standard error: 1.133 on 226921 degrees of freedom\n",
       "Multiple R-squared:  0.8506,\tAdjusted R-squared:  0.8505 \n",
       "F-statistic: 6.15e+04 on 21 and 226921 DF,  p-value: < 2.2e-16\n"
      ]
     },
     "metadata": {},
     "output_type": "display_data"
    }
   ],
   "source": [
    "conn_forest[,\"logduration\"]=log(conn_forest[,\"duration\"])\n",
    "lm_forest=lm(logduration~proto+ts+orig_port+resp_port+conn_state+orig_pkts+orig_ip_bytes +resp_pkts+resp_ip_bytes,data=conn_forest)\n",
    "summary(lm_forest)"
   ]
  },
  {
   "cell_type": "code",
   "execution_count": 43,
   "metadata": {},
   "outputs": [
    {
     "data": {
      "text/html": [
       "<style>\n",
       ".dl-inline {width: auto; margin:0; padding: 0}\n",
       ".dl-inline>dt, .dl-inline>dd {float: none; width: auto; display: inline-block}\n",
       ".dl-inline>dt::after {content: \":\\0020\"; padding-right: .5ex}\n",
       ".dl-inline>dt:not(:first-of-type) {padding-left: .5ex}\n",
       "</style><dl class=dl-inline><dt>NRMSE</dt><dd>0.0194617340640894</dd><dt>PFC</dt><dd>0</dd></dl>\n"
      ],
      "text/latex": [
       "\\begin{description*}\n",
       "\\item[NRMSE] 0.0194617340640894\n",
       "\\item[PFC] 0\n",
       "\\end{description*}\n"
      ],
      "text/markdown": [
       "NRMSE\n",
       ":   0.0194617340640894PFC\n",
       ":   0\n",
       "\n"
      ],
      "text/plain": [
       "     NRMSE        PFC \n",
       "0.01946173 0.00000000 "
      ]
     },
     "metadata": {},
     "output_type": "display_data"
    }
   ],
   "source": [
    "conn_imp$OOBerror"
   ]
  },
  {
   "cell_type": "markdown",
   "metadata": {},
   "source": [
    "R-squared increases and is very close to 1 compared to other methods, indicating that the effect of missforest imputation is very good.\n",
    "\n",
    "#### Researching parameters\n",
    "\"maxiter\" is the maximum number of iterations to be performed given the stopping criterion is not met beforehand. In order to avoid the program running time is too long, we set it to 10, that is, iterate at most ten times.\n",
    "\n",
    "\"ntree\" is the number of trees to grow in each forest, which should be an important parameter."
   ]
  },
  {
   "cell_type": "code",
   "execution_count": 41,
   "metadata": {},
   "outputs": [
    {
     "name": "stdout",
     "output_type": "stream",
     "text": [
      "  missForest iteration 1 in progress...done!\n",
      "    estimated error(s): 0.02266125 0 \n",
      "    difference(s): 0.0003928885 0 \n",
      "    time: 24.55 seconds\n",
      "\n",
      "  missForest iteration 2 in progress...done!\n",
      "    estimated error(s): 0.02143947 0 \n",
      "    difference(s): 0.0004378377 0 \n",
      "    time: 25.12 seconds\n",
      "\n"
     ]
    }
   ],
   "source": [
    "conn_imp2 <- missForest(conndata2, verbose = TRUE, maxiter = 10, ntree = 10)\n",
    "conn_forest2<-conn_imp2$ximp"
   ]
  },
  {
   "cell_type": "code",
   "execution_count": 42,
   "metadata": {},
   "outputs": [
    {
     "data": {
      "text/html": [
       "0.171897525826762"
      ],
      "text/latex": [
       "0.171897525826762"
      ],
      "text/markdown": [
       "0.171897525826762"
      ],
      "text/plain": [
       "[1] 0.1718975"
      ]
     },
     "metadata": {},
     "output_type": "display_data"
    }
   ],
   "source": [
    "conn_forest2[,\"logduration\"]=log(conn_forest2[,\"duration\"])\n",
    "lm_forest2=lm(logduration~proto+ts+orig_port+resp_port+conn_state+orig_pkts+orig_ip_bytes +resp_pkts+resp_ip_bytes,data=conn_forest2)\n",
    "summary(lm_forest2)$r.squared"
   ]
  },
  {
   "cell_type": "code",
   "execution_count": 44,
   "metadata": {},
   "outputs": [
    {
     "data": {
      "text/html": [
       "<style>\n",
       ".dl-inline {width: auto; margin:0; padding: 0}\n",
       ".dl-inline>dt, .dl-inline>dd {float: none; width: auto; display: inline-block}\n",
       ".dl-inline>dt::after {content: \":\\0020\"; padding-right: .5ex}\n",
       ".dl-inline>dt:not(:first-of-type) {padding-left: .5ex}\n",
       "</style><dl class=dl-inline><dt>NRMSE</dt><dd>0.0226612462091618</dd><dt>PFC</dt><dd>0</dd></dl>\n"
      ],
      "text/latex": [
       "\\begin{description*}\n",
       "\\item[NRMSE] 0.0226612462091618\n",
       "\\item[PFC] 0\n",
       "\\end{description*}\n"
      ],
      "text/markdown": [
       "NRMSE\n",
       ":   0.0226612462091618PFC\n",
       ":   0\n",
       "\n"
      ],
      "text/plain": [
       "     NRMSE        PFC \n",
       "0.02266125 0.00000000 "
      ]
     },
     "metadata": {},
     "output_type": "display_data"
    }
   ],
   "source": [
    "conn_imp2$OOBerror"
   ]
  },
  {
   "cell_type": "code",
   "execution_count": 23,
   "metadata": {},
   "outputs": [
    {
     "name": "stdout",
     "output_type": "stream",
     "text": [
      "  missForest iteration 1 in progress...done!\n",
      "    estimated error(s): 0.02020967 0 \n",
      "    difference(s): 0.0001815137 0 \n",
      "    time: 73.25 seconds\n",
      "\n",
      "  missForest iteration 2 in progress...done!\n",
      "    estimated error(s): 0.01923021 0 \n",
      "    difference(s): 0.0005662995 0 \n",
      "    time: 78.52 seconds\n",
      "\n"
     ]
    }
   ],
   "source": [
    "conn_imp3 <- missForest(conndata2, verbose = TRUE, maxiter = 10, ntree = 30)\n",
    "conn_forest3<-conn_imp3$ximp"
   ]
  },
  {
   "cell_type": "code",
   "execution_count": 24,
   "metadata": {},
   "outputs": [
    {
     "data": {
      "text/html": [
       "0.395460786136917"
      ],
      "text/latex": [
       "0.395460786136917"
      ],
      "text/markdown": [
       "0.395460786136917"
      ],
      "text/plain": [
       "[1] 0.3954608"
      ]
     },
     "metadata": {},
     "output_type": "display_data"
    }
   ],
   "source": [
    "conn_forest3[,\"logduration\"]=log(conn_forest3[,\"duration\"])\n",
    "lm_forest3=lm(logduration~proto+ts+orig_port+resp_port+conn_state+orig_pkts+orig_ip_bytes +resp_pkts+resp_ip_bytes,data=conn_forest3)\n",
    "summary(lm_forest3)$r.squared"
   ]
  },
  {
   "cell_type": "code",
   "execution_count": 45,
   "metadata": {},
   "outputs": [
    {
     "data": {
      "text/html": [
       "<style>\n",
       ".dl-inline {width: auto; margin:0; padding: 0}\n",
       ".dl-inline>dt, .dl-inline>dd {float: none; width: auto; display: inline-block}\n",
       ".dl-inline>dt::after {content: \":\\0020\"; padding-right: .5ex}\n",
       ".dl-inline>dt:not(:first-of-type) {padding-left: .5ex}\n",
       "</style><dl class=dl-inline><dt>NRMSE</dt><dd>0.0202096672938133</dd><dt>PFC</dt><dd>0</dd></dl>\n"
      ],
      "text/latex": [
       "\\begin{description*}\n",
       "\\item[NRMSE] 0.0202096672938133\n",
       "\\item[PFC] 0\n",
       "\\end{description*}\n"
      ],
      "text/markdown": [
       "NRMSE\n",
       ":   0.0202096672938133PFC\n",
       ":   0\n",
       "\n"
      ],
      "text/plain": [
       "     NRMSE        PFC \n",
       "0.02020967 0.00000000 "
      ]
     },
     "metadata": {},
     "output_type": "display_data"
    }
   ],
   "source": [
    "conn_imp3$OOBerror"
   ]
  },
  {
   "cell_type": "code",
   "execution_count": 25,
   "metadata": {},
   "outputs": [
    {
     "name": "stdout",
     "output_type": "stream",
     "text": [
      "  missForest iteration 1 in progress...done!\n",
      "    estimated error(s): 0.02058316 0 \n",
      "    difference(s): 0.001405686 0 \n",
      "    time: 133.13 seconds\n",
      "\n",
      "  missForest iteration 2 in progress...done!\n",
      "    estimated error(s): 0.01863053 0 \n",
      "    difference(s): 0.0004708199 0 \n",
      "    time: 116.09 seconds\n",
      "\n",
      "  missForest iteration 3 in progress...done!\n",
      "    estimated error(s): 0.01966309 0 \n",
      "    difference(s): 0.0005112392 0 \n",
      "    time: 115.31 seconds\n",
      "\n"
     ]
    }
   ],
   "source": [
    "conn_imp4 <- missForest(conndata2, verbose = TRUE, maxiter = 10, ntree = 50)\n",
    "conn_forest4<-conn_imp4$ximp"
   ]
  },
  {
   "cell_type": "code",
   "execution_count": 26,
   "metadata": {},
   "outputs": [
    {
     "data": {
      "text/html": [
       "0.550082552615851"
      ],
      "text/latex": [
       "0.550082552615851"
      ],
      "text/markdown": [
       "0.550082552615851"
      ],
      "text/plain": [
       "[1] 0.5500826"
      ]
     },
     "metadata": {},
     "output_type": "display_data"
    }
   ],
   "source": [
    "conn_forest4[,\"logduration\"]=log(conn_forest4[,\"duration\"])\n",
    "lm_forest4=lm(logduration~proto+ts+orig_port+resp_port+conn_state+orig_pkts+orig_ip_bytes +resp_pkts+resp_ip_bytes,data=conn_forest4)\n",
    "summary(lm_forest4)$r.squared"
   ]
  },
  {
   "cell_type": "code",
   "execution_count": 46,
   "metadata": {},
   "outputs": [
    {
     "data": {
      "text/html": [
       "<style>\n",
       ".dl-inline {width: auto; margin:0; padding: 0}\n",
       ".dl-inline>dt, .dl-inline>dd {float: none; width: auto; display: inline-block}\n",
       ".dl-inline>dt::after {content: \":\\0020\"; padding-right: .5ex}\n",
       ".dl-inline>dt:not(:first-of-type) {padding-left: .5ex}\n",
       "</style><dl class=dl-inline><dt>NRMSE</dt><dd>0.0186305296177087</dd><dt>PFC</dt><dd>0</dd></dl>\n"
      ],
      "text/latex": [
       "\\begin{description*}\n",
       "\\item[NRMSE] 0.0186305296177087\n",
       "\\item[PFC] 0\n",
       "\\end{description*}\n"
      ],
      "text/markdown": [
       "NRMSE\n",
       ":   0.0186305296177087PFC\n",
       ":   0\n",
       "\n"
      ],
      "text/plain": [
       "     NRMSE        PFC \n",
       "0.01863053 0.00000000 "
      ]
     },
     "metadata": {},
     "output_type": "display_data"
    }
   ],
   "source": [
    "conn_imp4$OOBerror"
   ]
  },
  {
   "cell_type": "code",
   "execution_count": 29,
   "metadata": {},
   "outputs": [
    {
     "name": "stdout",
     "output_type": "stream",
     "text": [
      "  missForest iteration 1 in progress...done!\n",
      "    estimated error(s): 0.01853729 0 \n",
      "    difference(s): 0.0001425477 0 \n",
      "    time: 182.04 seconds\n",
      "\n",
      "  missForest iteration 2 in progress...done!\n",
      "    estimated error(s): 0.01926127 0 \n",
      "    difference(s): 5.972065e-05 0 \n",
      "    time: 191.25 seconds\n",
      "\n",
      "  missForest iteration 3 in progress...done!\n",
      "    estimated error(s): 0.01880699 0 \n",
      "    difference(s): 7.128327e-05 0 \n",
      "    time: 194.83 seconds\n",
      "\n"
     ]
    }
   ],
   "source": [
    "conn_imp5 <- missForest(conndata2, verbose = TRUE, maxiter = 10, ntree = 80)\n",
    "conn_forest5<-conn_imp5$ximp"
   ]
  },
  {
   "cell_type": "code",
   "execution_count": 30,
   "metadata": {},
   "outputs": [
    {
     "data": {
      "text/html": [
       "0.462952177486697"
      ],
      "text/latex": [
       "0.462952177486697"
      ],
      "text/markdown": [
       "0.462952177486697"
      ],
      "text/plain": [
       "[1] 0.4629522"
      ]
     },
     "metadata": {},
     "output_type": "display_data"
    }
   ],
   "source": [
    "conn_forest5[,\"logduration\"]=log(conn_forest5[,\"duration\"])\n",
    "lm_forest5=lm(logduration~proto+ts+orig_port+resp_port+conn_state+orig_pkts+orig_ip_bytes +resp_pkts+resp_ip_bytes,data=conn_forest5)\n",
    "summary(lm_forest5)$r.squared"
   ]
  },
  {
   "cell_type": "code",
   "execution_count": 47,
   "metadata": {},
   "outputs": [
    {
     "data": {
      "text/html": [
       "<style>\n",
       ".dl-inline {width: auto; margin:0; padding: 0}\n",
       ".dl-inline>dt, .dl-inline>dd {float: none; width: auto; display: inline-block}\n",
       ".dl-inline>dt::after {content: \":\\0020\"; padding-right: .5ex}\n",
       ".dl-inline>dt:not(:first-of-type) {padding-left: .5ex}\n",
       "</style><dl class=dl-inline><dt>NRMSE</dt><dd>0.0192612665073576</dd><dt>PFC</dt><dd>0</dd></dl>\n"
      ],
      "text/latex": [
       "\\begin{description*}\n",
       "\\item[NRMSE] 0.0192612665073576\n",
       "\\item[PFC] 0\n",
       "\\end{description*}\n"
      ],
      "text/markdown": [
       "NRMSE\n",
       ":   0.0192612665073576PFC\n",
       ":   0\n",
       "\n"
      ],
      "text/plain": [
       "     NRMSE        PFC \n",
       "0.01926127 0.00000000 "
      ]
     },
     "metadata": {},
     "output_type": "display_data"
    }
   ],
   "source": [
    "conn_imp5$OOBerror"
   ]
  },
  {
   "cell_type": "code",
   "execution_count": 49,
   "metadata": {},
   "outputs": [
    {
     "name": "stdout",
     "output_type": "stream",
     "text": [
      "  missForest iteration 1 in progress...done!\n",
      "    estimated error(s): 0.01898496 0 \n",
      "    difference(s): 0.0004620932 0 \n",
      "    time: 272.45 seconds\n",
      "\n",
      "  missForest iteration 2 in progress...done!\n",
      "    estimated error(s): 0.01925083 0 \n",
      "    difference(s): 0.0004596013 0 \n",
      "    time: 274.91 seconds\n",
      "\n",
      "  missForest iteration 3 in progress...done!\n",
      "    estimated error(s): 0.01907732 0 \n",
      "    difference(s): 0.0002747148 0 \n",
      "    time: 264.11 seconds\n",
      "\n",
      "  missForest iteration 4 in progress...done!\n",
      "    estimated error(s): 0.01965186 0 \n",
      "    difference(s): 0.0004919288 0 \n",
      "    time: 272.01 seconds\n",
      "\n"
     ]
    }
   ],
   "source": [
    "conn_imp6 <- missForest(conndata2, verbose = TRUE, maxiter = 10, ntree = 120)\n",
    "conn_forest6<-conn_imp6$ximp"
   ]
  },
  {
   "cell_type": "code",
   "execution_count": 50,
   "metadata": {},
   "outputs": [
    {
     "data": {
      "text/html": [
       "0.715244146182734"
      ],
      "text/latex": [
       "0.715244146182734"
      ],
      "text/markdown": [
       "0.715244146182734"
      ],
      "text/plain": [
       "[1] 0.7152441"
      ]
     },
     "metadata": {},
     "output_type": "display_data"
    }
   ],
   "source": [
    "conn_forest6[,\"logduration\"]=log(conn_forest6[,\"duration\"])\n",
    "lm_forest6=lm(logduration~proto+ts+orig_port+resp_port+conn_state+orig_pkts+orig_ip_bytes +resp_pkts+resp_ip_bytes,data=conn_forest6)\n",
    "summary(lm_forest6)$r.squared"
   ]
  },
  {
   "cell_type": "code",
   "execution_count": 51,
   "metadata": {},
   "outputs": [
    {
     "data": {
      "text/html": [
       "<style>\n",
       ".dl-inline {width: auto; margin:0; padding: 0}\n",
       ".dl-inline>dt, .dl-inline>dd {float: none; width: auto; display: inline-block}\n",
       ".dl-inline>dt::after {content: \":\\0020\"; padding-right: .5ex}\n",
       ".dl-inline>dt:not(:first-of-type) {padding-left: .5ex}\n",
       "</style><dl class=dl-inline><dt>NRMSE</dt><dd>0.0190773165196805</dd><dt>PFC</dt><dd>0</dd></dl>\n"
      ],
      "text/latex": [
       "\\begin{description*}\n",
       "\\item[NRMSE] 0.0190773165196805\n",
       "\\item[PFC] 0\n",
       "\\end{description*}\n"
      ],
      "text/markdown": [
       "NRMSE\n",
       ":   0.0190773165196805PFC\n",
       ":   0\n",
       "\n"
      ],
      "text/plain": [
       "     NRMSE        PFC \n",
       "0.01907732 0.00000000 "
      ]
     },
     "metadata": {},
     "output_type": "display_data"
    }
   ],
   "source": [
    "conn_imp6$OOBerror"
   ]
  },
  {
   "cell_type": "markdown",
   "metadata": {},
   "source": [
    "The influence of \"ntree\" on the result of imputation is not monotonous, but it is certain that the larger it is, the more time it takes for each iteration, that is, the more complicated the calculation.\n",
    "\n",
    "After taking the value of ntree many times, we think that the initial value of 100 has the best imputation effect, although its number of iterations and total time spent are very large.\n",
    "\n",
    "Then \"mtry\" is also an important parameter, which means the number of variables randomly sampled at each split. This argument is directly supplied to the 'randomForest' function. Note that the default value is sqrt(p) for both categorical and continuous variables where p is the number of variables in data."
   ]
  },
  {
   "cell_type": "code",
   "execution_count": 33,
   "metadata": {},
   "outputs": [
    {
     "data": {
      "text/html": [
       "3"
      ],
      "text/latex": [
       "3"
      ],
      "text/markdown": [
       "3"
      ],
      "text/plain": [
       "[1] 3"
      ]
     },
     "metadata": {},
     "output_type": "display_data"
    }
   ],
   "source": [
    "floor(sqrt(ncol(conndata2)))"
   ]
  },
  {
   "cell_type": "code",
   "execution_count": 34,
   "metadata": {},
   "outputs": [
    {
     "name": "stdout",
     "output_type": "stream",
     "text": [
      "  missForest iteration 1 in progress...done!\n",
      "    estimated error(s): 0.02111537 0 \n",
      "    difference(s): 0.0002790051 0 \n",
      "    time: 14.52 seconds\n",
      "\n",
      "  missForest iteration 2 in progress...done!\n",
      "    estimated error(s): 0.02214634 0 \n",
      "    difference(s): 0.000195806 0 \n",
      "    time: 22.17 seconds\n",
      "\n",
      "  missForest iteration 3 in progress...done!\n",
      "    estimated error(s): 0.02388997 0 \n",
      "    difference(s): 0.0004092202 0 \n",
      "    time: 10.08 seconds\n",
      "\n"
     ]
    }
   ],
   "source": [
    "conn_imp7 <- missForest(conndata2, verbose = TRUE, maxiter = 10, ntree = 10, \"mtry\" = 2)\n",
    "conn_forest7<-conn_imp7$ximp"
   ]
  },
  {
   "cell_type": "code",
   "execution_count": 35,
   "metadata": {},
   "outputs": [
    {
     "data": {
      "text/html": [
       "0.676765393861075"
      ],
      "text/latex": [
       "0.676765393861075"
      ],
      "text/markdown": [
       "0.676765393861075"
      ],
      "text/plain": [
       "[1] 0.6767654"
      ]
     },
     "metadata": {},
     "output_type": "display_data"
    }
   ],
   "source": [
    "conn_forest7[,\"logduration\"]=log(conn_forest7[,\"duration\"])\n",
    "lm_forest7=lm(logduration~proto+ts+orig_port+resp_port+conn_state+orig_pkts+orig_ip_bytes +resp_pkts+resp_ip_bytes,data=conn_forest7)\n",
    "summary(lm_forest7)$r.squared"
   ]
  },
  {
   "cell_type": "code",
   "execution_count": 36,
   "metadata": {},
   "outputs": [
    {
     "name": "stdout",
     "output_type": "stream",
     "text": [
      "  missForest iteration 1 in progress...done!\n",
      "    estimated error(s): 0.02252501 0 \n",
      "    difference(s): 0.0002828674 0 \n",
      "    time: 70.39 seconds\n",
      "\n",
      "  missForest iteration 2 in progress...done!\n",
      "    estimated error(s): 0.02308897 0 \n",
      "    difference(s): 0.0002849895 0 \n",
      "    time: 50.58 seconds\n",
      "\n"
     ]
    }
   ],
   "source": [
    "conn_imp8 <- missForest(conndata2, verbose = TRUE, maxiter = 10, ntree = 10, \"mtry\" = 4)\n",
    "conn_forest8<-conn_imp8$ximp"
   ]
  },
  {
   "cell_type": "code",
   "execution_count": 37,
   "metadata": {},
   "outputs": [
    {
     "data": {
      "text/html": [
       "0.241847794477946"
      ],
      "text/latex": [
       "0.241847794477946"
      ],
      "text/markdown": [
       "0.241847794477946"
      ],
      "text/plain": [
       "[1] 0.2418478"
      ]
     },
     "metadata": {},
     "output_type": "display_data"
    }
   ],
   "source": [
    "conn_forest8[,\"logduration\"]=log(conn_forest8[,\"duration\"])\n",
    "lm_forest8=lm(logduration~proto+ts+orig_port+resp_port+conn_state+orig_pkts+orig_ip_bytes +resp_pkts+resp_ip_bytes,data=conn_forest8)\n",
    "summary(lm_forest8)$r.squared"
   ]
  },
  {
   "cell_type": "code",
   "execution_count": 38,
   "metadata": {},
   "outputs": [
    {
     "name": "stdout",
     "output_type": "stream",
     "text": [
      "  missForest iteration 1 in progress...done!\n",
      "    estimated error(s): 0.02319326 0 \n",
      "    difference(s): 0.0002362276 0 \n",
      "    time: 24.45 seconds\n",
      "\n",
      "  missForest iteration 2 in progress...done!\n",
      "    estimated error(s): 0.02195814 0 \n",
      "    difference(s): 0.0003074406 0 \n",
      "    time: 24.08 seconds\n",
      "\n"
     ]
    }
   ],
   "source": [
    "conn_imp9 <- missForest(conndata2, verbose = TRUE, maxiter = 10, ntree = 10, \"mtry\" = 3)\n",
    "conn_forest9<-conn_imp9$ximp"
   ]
  },
  {
   "cell_type": "code",
   "execution_count": 39,
   "metadata": {},
   "outputs": [
    {
     "data": {
      "text/html": [
       "0.266078472254032"
      ],
      "text/latex": [
       "0.266078472254032"
      ],
      "text/markdown": [
       "0.266078472254032"
      ],
      "text/plain": [
       "[1] 0.2660785"
      ]
     },
     "metadata": {},
     "output_type": "display_data"
    }
   ],
   "source": [
    "conn_forest9[,\"logduration\"]=log(conn_forest9[,\"duration\"])\n",
    "lm_forest9=lm(logduration~proto+ts+orig_port+resp_port+conn_state+orig_pkts+orig_ip_bytes +resp_pkts+resp_ip_bytes,data=conn_forest9)\n",
    "summary(lm_forest9)$r.squared"
   ]
  },
  {
   "cell_type": "markdown",
   "metadata": {},
   "source": [
    "\n",
    "\n",
    "#### More prediction\n",
    "The missforest algorithm can process mixed-type data, so we can simultaneously impute the above three numerical variables and the discrete variable \"service\".\n"
   ]
  },
  {
   "cell_type": "code",
   "execution_count": null,
   "metadata": {},
   "outputs": [],
   "source": []
  }
 ],
 "metadata": {
  "kernelspec": {
   "display_name": "R",
   "language": "R",
   "name": "ir"
  },
  "language_info": {
   "codemirror_mode": "r",
   "file_extension": ".r",
   "mimetype": "text/x-r-source",
   "name": "R",
   "pygments_lexer": "r",
   "version": "4.0.2"
  }
 },
 "nbformat": 4,
 "nbformat_minor": 4
}
