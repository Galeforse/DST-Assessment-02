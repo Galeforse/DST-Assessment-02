{
 "cells": [
  {
   "cell_type": "markdown",
   "metadata": {},
   "source": [
    "# MissForest Model"
   ]
  },
  {
   "cell_type": "code",
   "execution_count": 198,
   "metadata": {},
   "outputs": [],
   "source": [
    "library(\"mice\")\n",
    "library(\"VIM\")\n",
    "library(\"crunch\")\n",
    "library(\"missForest\")"
   ]
  },
  {
   "cell_type": "markdown",
   "metadata": {},
   "source": [
    "First we read the data, where \"test_missing1.csv.gz\" and \"test_complete1.csv.gz\" are generated in the \"[03 - Test Data.ipynb](https://github.com/Galeforse/DST-Assessment-02/blob/main/Report/03%20-%20Test%20Data.ipynb)\" notebook, the former contains missing values, and the latter has corresponding real values. We run the model that predicts missing values on the first dataset."
   ]
  },
  {
   "cell_type": "code",
   "execution_count": 199,
   "metadata": {},
   "outputs": [],
   "source": [
    "setwd(\"C:\\\\Users\\\\xiao\\\\Documents\\\\GitHub\\\\DST-Assessment-02\\\\Data\")\n",
    "conndata<-read.table(\"5_percent_data.csv.gz\", sep=\",\", header=TRUE, na.strings=c(\"\",\"NA\"))\n",
    "data.missing<-read.table(\"test_missing1.csv.gz\", sep=\",\", header=TRUE, na.strings=c(\"\",\"NA\"))\n",
    "data.complete<-read.table(\"test_complete1.csv.gz\", sep=\",\", header=TRUE, na.strings=c(\"\",\"NA\"))"
   ]
  },
  {
   "cell_type": "markdown",
   "metadata": {},
   "source": [
    "## Observing missing data"
   ]
  },
  {
   "cell_type": "code",
   "execution_count": 219,
   "metadata": {},
   "outputs": [
    {
     "data": {
      "text/html": [
       "<table>\n",
       "<caption>A data.frame: 6 × 17</caption>\n",
       "<thead>\n",
       "\t<tr><th></th><th scope=col>ts</th><th scope=col>orig_ip</th><th scope=col>orig_port</th><th scope=col>resp_ip</th><th scope=col>resp_port</th><th scope=col>proto</th><th scope=col>service</th><th scope=col>duration</th><th scope=col>orig_bytes</th><th scope=col>resp_bytes</th><th scope=col>conn_state</th><th scope=col>missed_bytes</th><th scope=col>history</th><th scope=col>orig_pkts</th><th scope=col>orig_ip_bytes</th><th scope=col>resp_pkts</th><th scope=col>resp_ip_bytes</th></tr>\n",
       "\t<tr><th></th><th scope=col>&lt;dbl&gt;</th><th scope=col>&lt;fct&gt;</th><th scope=col>&lt;dbl&gt;</th><th scope=col>&lt;fct&gt;</th><th scope=col>&lt;dbl&gt;</th><th scope=col>&lt;fct&gt;</th><th scope=col>&lt;chr&gt;</th><th scope=col>&lt;dbl&gt;</th><th scope=col>&lt;dbl&gt;</th><th scope=col>&lt;dbl&gt;</th><th scope=col>&lt;fct&gt;</th><th scope=col>&lt;dbl&gt;</th><th scope=col>&lt;fct&gt;</th><th scope=col>&lt;dbl&gt;</th><th scope=col>&lt;dbl&gt;</th><th scope=col>&lt;dbl&gt;</th><th scope=col>&lt;dbl&gt;</th></tr>\n",
       "</thead>\n",
       "<tbody>\n",
       "\t<tr><th scope=row>1</th><td>1331915797</td><td>192.168.202.102</td><td> 2633</td><td>192.168.23.202</td><td>  80</td><td>tcp</td><td>http</td><td>0.03</td><td>481</td><td>8133</td><td>RSTO</td><td>0</td><td>ShADadfR</td><td>8</td><td>813</td><td>9</td><td>8505</td></tr>\n",
       "\t<tr><th scope=row>2</th><td>1331923392</td><td>192.168.202.110</td><td>11574</td><td>192.168.23.253</td><td>1724</td><td>tcp</td><td>NA  </td><td>  NA</td><td> NA</td><td>  NA</td><td>REJ </td><td>0</td><td>Sr      </td><td>1</td><td> 48</td><td>1</td><td>  40</td></tr>\n",
       "\t<tr><th scope=row>3</th><td>1331905217</td><td>192.168.202.83 </td><td>41267</td><td>192.168.206.44</td><td>8010</td><td>tcp</td><td>NA  </td><td>  NA</td><td> NA</td><td>  NA</td><td>REJ </td><td>0</td><td>Sr      </td><td>1</td><td> 60</td><td>1</td><td>  40</td></tr>\n",
       "\t<tr><th scope=row>4</th><td>1331994375</td><td>192.168.202.83 </td><td>58519</td><td>192.168.206.44</td><td>5214</td><td>tcp</td><td>NA  </td><td>  NA</td><td> NA</td><td>  NA</td><td>REJ </td><td>0</td><td>Sr      </td><td>1</td><td> 60</td><td>1</td><td>  40</td></tr>\n",
       "\t<tr><th scope=row>5</th><td>1331999507</td><td>192.168.202.140</td><td>25774</td><td>192.168.23.252</td><td>1625</td><td>tcp</td><td>NA  </td><td>  NA</td><td> NA</td><td>  NA</td><td>S0  </td><td>0</td><td>S       </td><td>1</td><td> 48</td><td>0</td><td>   0</td></tr>\n",
       "\t<tr><th scope=row>6</th><td>1331935766</td><td>192.168.202.83 </td><td>60760</td><td>192.168.206.44</td><td>1580</td><td>tcp</td><td>NA  </td><td>  NA</td><td> NA</td><td>  NA</td><td>REJ </td><td>0</td><td>Sr      </td><td>1</td><td> 60</td><td>1</td><td>  40</td></tr>\n",
       "</tbody>\n",
       "</table>\n"
      ],
      "text/latex": [
       "A data.frame: 6 × 17\n",
       "\\begin{tabular}{r|lllllllllllllllll}\n",
       "  & ts & orig\\_ip & orig\\_port & resp\\_ip & resp\\_port & proto & service & duration & orig\\_bytes & resp\\_bytes & conn\\_state & missed\\_bytes & history & orig\\_pkts & orig\\_ip\\_bytes & resp\\_pkts & resp\\_ip\\_bytes\\\\\n",
       "  & <dbl> & <fct> & <dbl> & <fct> & <dbl> & <fct> & <chr> & <dbl> & <dbl> & <dbl> & <fct> & <dbl> & <fct> & <dbl> & <dbl> & <dbl> & <dbl>\\\\\n",
       "\\hline\n",
       "\t1 & 1331915797 & 192.168.202.102 &  2633 & 192.168.23.202 &   80 & tcp & http & 0.03 & 481 & 8133 & RSTO & 0 & ShADadfR & 8 & 813 & 9 & 8505\\\\\n",
       "\t2 & 1331923392 & 192.168.202.110 & 11574 & 192.168.23.253 & 1724 & tcp & NA   &   NA &  NA &   NA & REJ  & 0 & Sr       & 1 &  48 & 1 &   40\\\\\n",
       "\t3 & 1331905217 & 192.168.202.83  & 41267 & 192.168.206.44 & 8010 & tcp & NA   &   NA &  NA &   NA & REJ  & 0 & Sr       & 1 &  60 & 1 &   40\\\\\n",
       "\t4 & 1331994375 & 192.168.202.83  & 58519 & 192.168.206.44 & 5214 & tcp & NA   &   NA &  NA &   NA & REJ  & 0 & Sr       & 1 &  60 & 1 &   40\\\\\n",
       "\t5 & 1331999507 & 192.168.202.140 & 25774 & 192.168.23.252 & 1625 & tcp & NA   &   NA &  NA &   NA & S0   & 0 & S        & 1 &  48 & 0 &    0\\\\\n",
       "\t6 & 1331935766 & 192.168.202.83  & 60760 & 192.168.206.44 & 1580 & tcp & NA   &   NA &  NA &   NA & REJ  & 0 & Sr       & 1 &  60 & 1 &   40\\\\\n",
       "\\end{tabular}\n"
      ],
      "text/markdown": [
       "\n",
       "A data.frame: 6 × 17\n",
       "\n",
       "| <!--/--> | ts &lt;dbl&gt; | orig_ip &lt;fct&gt; | orig_port &lt;dbl&gt; | resp_ip &lt;fct&gt; | resp_port &lt;dbl&gt; | proto &lt;fct&gt; | service &lt;chr&gt; | duration &lt;dbl&gt; | orig_bytes &lt;dbl&gt; | resp_bytes &lt;dbl&gt; | conn_state &lt;fct&gt; | missed_bytes &lt;dbl&gt; | history &lt;fct&gt; | orig_pkts &lt;dbl&gt; | orig_ip_bytes &lt;dbl&gt; | resp_pkts &lt;dbl&gt; | resp_ip_bytes &lt;dbl&gt; |\n",
       "|---|---|---|---|---|---|---|---|---|---|---|---|---|---|---|---|---|---|\n",
       "| 1 | 1331915797 | 192.168.202.102 |  2633 | 192.168.23.202 |   80 | tcp | http | 0.03 | 481 | 8133 | RSTO | 0 | ShADadfR | 8 | 813 | 9 | 8505 |\n",
       "| 2 | 1331923392 | 192.168.202.110 | 11574 | 192.168.23.253 | 1724 | tcp | NA   |   NA |  NA |   NA | REJ  | 0 | Sr       | 1 |  48 | 1 |   40 |\n",
       "| 3 | 1331905217 | 192.168.202.83  | 41267 | 192.168.206.44 | 8010 | tcp | NA   |   NA |  NA |   NA | REJ  | 0 | Sr       | 1 |  60 | 1 |   40 |\n",
       "| 4 | 1331994375 | 192.168.202.83  | 58519 | 192.168.206.44 | 5214 | tcp | NA   |   NA |  NA |   NA | REJ  | 0 | Sr       | 1 |  60 | 1 |   40 |\n",
       "| 5 | 1331999507 | 192.168.202.140 | 25774 | 192.168.23.252 | 1625 | tcp | NA   |   NA |  NA |   NA | S0   | 0 | S        | 1 |  48 | 0 |    0 |\n",
       "| 6 | 1331935766 | 192.168.202.83  | 60760 | 192.168.206.44 | 1580 | tcp | NA   |   NA |  NA |   NA | REJ  | 0 | Sr       | 1 |  60 | 1 |   40 |\n",
       "\n"
      ],
      "text/plain": [
       "  ts         orig_ip         orig_port resp_ip        resp_port proto service\n",
       "1 1331915797 192.168.202.102  2633     192.168.23.202   80      tcp   http   \n",
       "2 1331923392 192.168.202.110 11574     192.168.23.253 1724      tcp   NA     \n",
       "3 1331905217 192.168.202.83  41267     192.168.206.44 8010      tcp   NA     \n",
       "4 1331994375 192.168.202.83  58519     192.168.206.44 5214      tcp   NA     \n",
       "5 1331999507 192.168.202.140 25774     192.168.23.252 1625      tcp   NA     \n",
       "6 1331935766 192.168.202.83  60760     192.168.206.44 1580      tcp   NA     \n",
       "  duration orig_bytes resp_bytes conn_state missed_bytes history  orig_pkts\n",
       "1 0.03     481        8133       RSTO       0            ShADadfR 8        \n",
       "2   NA      NA          NA       REJ        0            Sr       1        \n",
       "3   NA      NA          NA       REJ        0            Sr       1        \n",
       "4   NA      NA          NA       REJ        0            Sr       1        \n",
       "5   NA      NA          NA       S0         0            S        1        \n",
       "6   NA      NA          NA       REJ        0            Sr       1        \n",
       "  orig_ip_bytes resp_pkts resp_ip_bytes\n",
       "1 813           9         8505         \n",
       "2  48           1           40         \n",
       "3  60           1           40         \n",
       "4  60           1           40         \n",
       "5  48           0            0         \n",
       "6  60           1           40         "
      ]
     },
     "metadata": {},
     "output_type": "display_data"
    }
   ],
   "source": [
    "for(i in c(3,5,8,9,10,12,14:17)) conndata[,i]=as.numeric(conndata[,i])\n",
    "for(i in c(2,4,6,11,13)) conndata[,i]=as.factor(conndata[,i])\n",
    "head(conndata)"
   ]
  },
  {
   "cell_type": "code",
   "execution_count": 22,
   "metadata": {
    "scrolled": true
   },
   "outputs": [
    {
     "data": {
      "text/html": [
       "<table>\n",
       "<caption>A matrix: 5 × 18 of type dbl</caption>\n",
       "<thead>\n",
       "\t<tr><th></th><th scope=col>ts</th><th scope=col>orig_ip</th><th scope=col>orig_port</th><th scope=col>resp_ip</th><th scope=col>resp_port</th><th scope=col>proto</th><th scope=col>conn_state</th><th scope=col>missed_bytes</th><th scope=col>history</th><th scope=col>orig_pkts</th><th scope=col>orig_ip_bytes</th><th scope=col>resp_pkts</th><th scope=col>resp_ip_bytes</th><th scope=col>duration</th><th scope=col>orig_bytes</th><th scope=col>resp_bytes</th><th scope=col>service</th><th scope=col></th></tr>\n",
       "</thead>\n",
       "<tbody>\n",
       "\t<tr><th scope=row>25309</th><td>1</td><td>1</td><td>1</td><td>1</td><td>1</td><td>1</td><td>1</td><td>1</td><td>1</td><td>1</td><td>1</td><td>1</td><td>1</td><td>     1</td><td>     1</td><td>     1</td><td>      1</td><td>      0</td></tr>\n",
       "\t<tr><th scope=row>169671</th><td>1</td><td>1</td><td>1</td><td>1</td><td>1</td><td>1</td><td>1</td><td>1</td><td>1</td><td>1</td><td>1</td><td>1</td><td>1</td><td>     1</td><td>     1</td><td>     1</td><td>      0</td><td>      1</td></tr>\n",
       "\t<tr><th scope=row>8195</th><td>1</td><td>1</td><td>1</td><td>1</td><td>1</td><td>1</td><td>1</td><td>1</td><td>1</td><td>1</td><td>1</td><td>1</td><td>1</td><td>     0</td><td>     0</td><td>     0</td><td>      1</td><td>      3</td></tr>\n",
       "\t<tr><th scope=row>931542</th><td>1</td><td>1</td><td>1</td><td>1</td><td>1</td><td>1</td><td>1</td><td>1</td><td>1</td><td>1</td><td>1</td><td>1</td><td>1</td><td>     0</td><td>     0</td><td>     0</td><td>      0</td><td>      4</td></tr>\n",
       "\t<tr><th scope=row></th><td>0</td><td>0</td><td>0</td><td>0</td><td>0</td><td>0</td><td>0</td><td>0</td><td>0</td><td>0</td><td>0</td><td>0</td><td>0</td><td>939737</td><td>939737</td><td>939737</td><td>1101213</td><td>3920424</td></tr>\n",
       "</tbody>\n",
       "</table>\n"
      ],
      "text/latex": [
       "A matrix: 5 × 18 of type dbl\n",
       "\\begin{tabular}{r|llllllllllllllllll}\n",
       "  & ts & orig\\_ip & orig\\_port & resp\\_ip & resp\\_port & proto & conn\\_state & missed\\_bytes & history & orig\\_pkts & orig\\_ip\\_bytes & resp\\_pkts & resp\\_ip\\_bytes & duration & orig\\_bytes & resp\\_bytes & service & \\\\\n",
       "\\hline\n",
       "\t25309 & 1 & 1 & 1 & 1 & 1 & 1 & 1 & 1 & 1 & 1 & 1 & 1 & 1 &      1 &      1 &      1 &       1 &       0\\\\\n",
       "\t169671 & 1 & 1 & 1 & 1 & 1 & 1 & 1 & 1 & 1 & 1 & 1 & 1 & 1 &      1 &      1 &      1 &       0 &       1\\\\\n",
       "\t8195 & 1 & 1 & 1 & 1 & 1 & 1 & 1 & 1 & 1 & 1 & 1 & 1 & 1 &      0 &      0 &      0 &       1 &       3\\\\\n",
       "\t931542 & 1 & 1 & 1 & 1 & 1 & 1 & 1 & 1 & 1 & 1 & 1 & 1 & 1 &      0 &      0 &      0 &       0 &       4\\\\\n",
       "\t & 0 & 0 & 0 & 0 & 0 & 0 & 0 & 0 & 0 & 0 & 0 & 0 & 0 & 939737 & 939737 & 939737 & 1101213 & 3920424\\\\\n",
       "\\end{tabular}\n"
      ],
      "text/markdown": [
       "\n",
       "A matrix: 5 × 18 of type dbl\n",
       "\n",
       "| <!--/--> | ts | orig_ip | orig_port | resp_ip | resp_port | proto | conn_state | missed_bytes | history | orig_pkts | orig_ip_bytes | resp_pkts | resp_ip_bytes | duration | orig_bytes | resp_bytes | service | <!----> |\n",
       "|---|---|---|---|---|---|---|---|---|---|---|---|---|---|---|---|---|---|---|\n",
       "| 25309 | 1 | 1 | 1 | 1 | 1 | 1 | 1 | 1 | 1 | 1 | 1 | 1 | 1 |      1 |      1 |      1 |       1 |       0 |\n",
       "| 169671 | 1 | 1 | 1 | 1 | 1 | 1 | 1 | 1 | 1 | 1 | 1 | 1 | 1 |      1 |      1 |      1 |       0 |       1 |\n",
       "| 8195 | 1 | 1 | 1 | 1 | 1 | 1 | 1 | 1 | 1 | 1 | 1 | 1 | 1 |      0 |      0 |      0 |       1 |       3 |\n",
       "| 931542 | 1 | 1 | 1 | 1 | 1 | 1 | 1 | 1 | 1 | 1 | 1 | 1 | 1 |      0 |      0 |      0 |       0 |       4 |\n",
       "| <!----> | 0 | 0 | 0 | 0 | 0 | 0 | 0 | 0 | 0 | 0 | 0 | 0 | 0 | 939737 | 939737 | 939737 | 1101213 | 3920424 |\n",
       "\n"
      ],
      "text/plain": [
       "       ts orig_ip orig_port resp_ip resp_port proto conn_state missed_bytes\n",
       "25309  1  1       1         1       1         1     1          1           \n",
       "169671 1  1       1         1       1         1     1          1           \n",
       "8195   1  1       1         1       1         1     1          1           \n",
       "931542 1  1       1         1       1         1     1          1           \n",
       "       0  0       0         0       0         0     0          0           \n",
       "       history orig_pkts orig_ip_bytes resp_pkts resp_ip_bytes duration\n",
       "25309  1       1         1             1         1                  1  \n",
       "169671 1       1         1             1         1                  1  \n",
       "8195   1       1         1             1         1                  0  \n",
       "931542 1       1         1             1         1                  0  \n",
       "       0       0         0             0         0             939737  \n",
       "       orig_bytes resp_bytes service        \n",
       "25309       1          1           1       0\n",
       "169671      1          1           0       1\n",
       "8195        0          0           1       3\n",
       "931542      0          0           0       4\n",
       "       939737     939737     1101213 3920424"
      ]
     },
     "metadata": {},
     "output_type": "display_data"
    },
    {
     "data": {
      "image/png": "[encoded data removed]",
      "text/plain": [
       "plot without title"
      ]
     },
     "metadata": {
      "image/png": {
       "height": 420,
       "width": 420
      }
     },
     "output_type": "display_data"
    }
   ],
   "source": [
    "md.pattern(conndata)"
   ]
  },
  {
   "cell_type": "code",
   "execution_count": 23,
   "metadata": {},
   "outputs": [
    {
     "name": "stdout",
     "output_type": "stream",
     "text": [
      "\n",
      " Variables sorted by number of missings: \n",
      "   Variable     Count\n",
      "    service 0.9704737\n",
      "   duration 0.8281686\n",
      " orig_bytes 0.8281686\n",
      " resp_bytes 0.8281686\n"
     ]
    },
    {
     "data": {
      "image/png": "[encoded data removed]",
      "text/plain": [
       "plot without title"
      ]
     },
     "metadata": {
      "image/png": {
       "height": 420,
       "width": 420
      }
     },
     "output_type": "display_data"
    }
   ],
   "source": [
    "aggr(conndata[,which(names(conndata) %in% c(\"service\",\"duration\",\"orig_bytes\",\"resp_bytes\"))],\n",
    "                  numbers=TRUE, sortVars=TRUE,cex.axis=.7,gap=3)"
   ]
  },
  {
   "cell_type": "markdown",
   "metadata": {},
   "source": [
    "In the previous notebook, we have done a lot of exploratory analysis on this dataset, here is just for review.\n",
    "\n",
    "The goal of our model is to predict the missing values of the three numerical variables \"duration\", \"orig_bytes\" and \"resp_bytes\".\n",
    "\n",
    "And the model runs on \"data.missing\" dataset and compares it with the real values in \"data.complete\" dataset. Let's check them.\n",
    "\n",
    "### data.complete"
   ]
  },
  {
   "cell_type": "code",
   "execution_count": 201,
   "metadata": {},
   "outputs": [
    {
     "data": {
      "text/html": [
       "<table>\n",
       "<caption>A data.frame: 6 × 17</caption>\n",
       "<thead>\n",
       "\t<tr><th></th><th scope=col>ts</th><th scope=col>orig_ip</th><th scope=col>orig_port</th><th scope=col>resp_ip</th><th scope=col>resp_port</th><th scope=col>proto</th><th scope=col>service</th><th scope=col>duration</th><th scope=col>orig_bytes</th><th scope=col>resp_bytes</th><th scope=col>conn_state</th><th scope=col>missed_bytes</th><th scope=col>history</th><th scope=col>orig_pkts</th><th scope=col>orig_ip_bytes</th><th scope=col>resp_pkts</th><th scope=col>resp_ip_bytes</th></tr>\n",
       "\t<tr><th></th><th scope=col>&lt;dbl&gt;</th><th scope=col>&lt;fct&gt;</th><th scope=col>&lt;dbl&gt;</th><th scope=col>&lt;fct&gt;</th><th scope=col>&lt;dbl&gt;</th><th scope=col>&lt;fct&gt;</th><th scope=col>&lt;chr&gt;</th><th scope=col>&lt;dbl&gt;</th><th scope=col>&lt;dbl&gt;</th><th scope=col>&lt;dbl&gt;</th><th scope=col>&lt;fct&gt;</th><th scope=col>&lt;dbl&gt;</th><th scope=col>&lt;fct&gt;</th><th scope=col>&lt;dbl&gt;</th><th scope=col>&lt;dbl&gt;</th><th scope=col>&lt;dbl&gt;</th><th scope=col>&lt;dbl&gt;</th></tr>\n",
       "</thead>\n",
       "<tbody>\n",
       "\t<tr><th scope=row>1</th><td>1331915797</td><td>192.168.202.102</td><td> 2633</td><td>192.168.23.202 </td><td>   80</td><td>tcp</td><td>http</td><td>0.03</td><td> 481</td><td>8133</td><td>RSTO</td><td>0</td><td>ShADadfR</td><td> 8</td><td> 813</td><td>9</td><td>8505</td></tr>\n",
       "\t<tr><th scope=row>2</th><td>1331921224</td><td>192.168.202.102</td><td> 4094</td><td>192.168.24.101 </td><td>   80</td><td>tcp</td><td>NA  </td><td>0.01</td><td>7085</td><td> 172</td><td>RSTO</td><td>0</td><td>ShADadfR</td><td>10</td><td>7497</td><td>9</td><td> 544</td></tr>\n",
       "\t<tr><th scope=row>3</th><td>1331903910</td><td>192.168.202.110</td><td>16066</td><td>192.168.27.152 </td><td>12486</td><td>tcp</td><td>NA  </td><td>0.01</td><td>   0</td><td>   0</td><td>REJ </td><td>0</td><td>Sr      </td><td> 1</td><td>  48</td><td>1</td><td>  40</td></tr>\n",
       "\t<tr><th scope=row>4</th><td>1331988939</td><td>192.168.204.45 </td><td>42997</td><td>192.168.23.1   </td><td>28745</td><td>tcp</td><td>NA  </td><td>0.01</td><td>   0</td><td>   0</td><td>REJ </td><td>0</td><td>Sr      </td><td> 1</td><td>  60</td><td>1</td><td>  40</td></tr>\n",
       "\t<tr><th scope=row>5</th><td>1331918792</td><td>192.168.202.110</td><td>38566</td><td>192.168.229.252</td><td>32754</td><td>tcp</td><td>NA  </td><td>0.20</td><td>   0</td><td>   0</td><td>REJ </td><td>0</td><td>Sr      </td><td> 1</td><td>  48</td><td>1</td><td>  40</td></tr>\n",
       "\t<tr><th scope=row>6</th><td>1331901863</td><td>192.168.202.79 </td><td>63805</td><td>192.168.229.252</td><td>45078</td><td>tcp</td><td>NA  </td><td>0.06</td><td>   0</td><td>   0</td><td>REJ </td><td>0</td><td>Sr      </td><td> 1</td><td>  44</td><td>1</td><td>  40</td></tr>\n",
       "</tbody>\n",
       "</table>\n"
      ],
      "text/latex": [
       "A data.frame: 6 × 17\n",
       "\\begin{tabular}{r|lllllllllllllllll}\n",
       "  & ts & orig\\_ip & orig\\_port & resp\\_ip & resp\\_port & proto & service & duration & orig\\_bytes & resp\\_bytes & conn\\_state & missed\\_bytes & history & orig\\_pkts & orig\\_ip\\_bytes & resp\\_pkts & resp\\_ip\\_bytes\\\\\n",
       "  & <dbl> & <fct> & <dbl> & <fct> & <dbl> & <fct> & <chr> & <dbl> & <dbl> & <dbl> & <fct> & <dbl> & <fct> & <dbl> & <dbl> & <dbl> & <dbl>\\\\\n",
       "\\hline\n",
       "\t1 & 1331915797 & 192.168.202.102 &  2633 & 192.168.23.202  &    80 & tcp & http & 0.03 &  481 & 8133 & RSTO & 0 & ShADadfR &  8 &  813 & 9 & 8505\\\\\n",
       "\t2 & 1331921224 & 192.168.202.102 &  4094 & 192.168.24.101  &    80 & tcp & NA   & 0.01 & 7085 &  172 & RSTO & 0 & ShADadfR & 10 & 7497 & 9 &  544\\\\\n",
       "\t3 & 1331903910 & 192.168.202.110 & 16066 & 192.168.27.152  & 12486 & tcp & NA   & 0.01 &    0 &    0 & REJ  & 0 & Sr       &  1 &   48 & 1 &   40\\\\\n",
       "\t4 & 1331988939 & 192.168.204.45  & 42997 & 192.168.23.1    & 28745 & tcp & NA   & 0.01 &    0 &    0 & REJ  & 0 & Sr       &  1 &   60 & 1 &   40\\\\\n",
       "\t5 & 1331918792 & 192.168.202.110 & 38566 & 192.168.229.252 & 32754 & tcp & NA   & 0.20 &    0 &    0 & REJ  & 0 & Sr       &  1 &   48 & 1 &   40\\\\\n",
       "\t6 & 1331901863 & 192.168.202.79  & 63805 & 192.168.229.252 & 45078 & tcp & NA   & 0.06 &    0 &    0 & REJ  & 0 & Sr       &  1 &   44 & 1 &   40\\\\\n",
       "\\end{tabular}\n"
      ],
      "text/markdown": [
       "\n",
       "A data.frame: 6 × 17\n",
       "\n",
       "| <!--/--> | ts &lt;dbl&gt; | orig_ip &lt;fct&gt; | orig_port &lt;dbl&gt; | resp_ip &lt;fct&gt; | resp_port &lt;dbl&gt; | proto &lt;fct&gt; | service &lt;chr&gt; | duration &lt;dbl&gt; | orig_bytes &lt;dbl&gt; | resp_bytes &lt;dbl&gt; | conn_state &lt;fct&gt; | missed_bytes &lt;dbl&gt; | history &lt;fct&gt; | orig_pkts &lt;dbl&gt; | orig_ip_bytes &lt;dbl&gt; | resp_pkts &lt;dbl&gt; | resp_ip_bytes &lt;dbl&gt; |\n",
       "|---|---|---|---|---|---|---|---|---|---|---|---|---|---|---|---|---|---|\n",
       "| 1 | 1331915797 | 192.168.202.102 |  2633 | 192.168.23.202  |    80 | tcp | http | 0.03 |  481 | 8133 | RSTO | 0 | ShADadfR |  8 |  813 | 9 | 8505 |\n",
       "| 2 | 1331921224 | 192.168.202.102 |  4094 | 192.168.24.101  |    80 | tcp | NA   | 0.01 | 7085 |  172 | RSTO | 0 | ShADadfR | 10 | 7497 | 9 |  544 |\n",
       "| 3 | 1331903910 | 192.168.202.110 | 16066 | 192.168.27.152  | 12486 | tcp | NA   | 0.01 |    0 |    0 | REJ  | 0 | Sr       |  1 |   48 | 1 |   40 |\n",
       "| 4 | 1331988939 | 192.168.204.45  | 42997 | 192.168.23.1    | 28745 | tcp | NA   | 0.01 |    0 |    0 | REJ  | 0 | Sr       |  1 |   60 | 1 |   40 |\n",
       "| 5 | 1331918792 | 192.168.202.110 | 38566 | 192.168.229.252 | 32754 | tcp | NA   | 0.20 |    0 |    0 | REJ  | 0 | Sr       |  1 |   48 | 1 |   40 |\n",
       "| 6 | 1331901863 | 192.168.202.79  | 63805 | 192.168.229.252 | 45078 | tcp | NA   | 0.06 |    0 |    0 | REJ  | 0 | Sr       |  1 |   44 | 1 |   40 |\n",
       "\n"
      ],
      "text/plain": [
       "  ts         orig_ip         orig_port resp_ip         resp_port proto service\n",
       "1 1331915797 192.168.202.102  2633     192.168.23.202     80     tcp   http   \n",
       "2 1331921224 192.168.202.102  4094     192.168.24.101     80     tcp   NA     \n",
       "3 1331903910 192.168.202.110 16066     192.168.27.152  12486     tcp   NA     \n",
       "4 1331988939 192.168.204.45  42997     192.168.23.1    28745     tcp   NA     \n",
       "5 1331918792 192.168.202.110 38566     192.168.229.252 32754     tcp   NA     \n",
       "6 1331901863 192.168.202.79  63805     192.168.229.252 45078     tcp   NA     \n",
       "  duration orig_bytes resp_bytes conn_state missed_bytes history  orig_pkts\n",
       "1 0.03      481       8133       RSTO       0            ShADadfR  8       \n",
       "2 0.01     7085        172       RSTO       0            ShADadfR 10       \n",
       "3 0.01        0          0       REJ        0            Sr        1       \n",
       "4 0.01        0          0       REJ        0            Sr        1       \n",
       "5 0.20        0          0       REJ        0            Sr        1       \n",
       "6 0.06        0          0       REJ        0            Sr        1       \n",
       "  orig_ip_bytes resp_pkts resp_ip_bytes\n",
       "1  813          9         8505         \n",
       "2 7497          9          544         \n",
       "3   48          1           40         \n",
       "4   60          1           40         \n",
       "5   48          1           40         \n",
       "6   44          1           40         "
      ]
     },
     "metadata": {},
     "output_type": "display_data"
    }
   ],
   "source": [
    "for(i in c(3,5,8,9,10,12,14:17)) data.complete[,i]=as.numeric(data.complete[,i])\n",
    "for(i in c(2,4,6,11,13)) data.complete[,i]=as.factor(data.complete[,i])\n",
    "head(data.complete)"
   ]
  },
  {
   "cell_type": "code",
   "execution_count": 25,
   "metadata": {},
   "outputs": [
    {
     "name": "stdout",
     "output_type": "stream",
     "text": [
      "\n",
      " Variables sorted by number of missings: \n",
      "   Variable     Count\n",
      "    service 0.8701969\n",
      "   duration 0.0000000\n",
      " orig_bytes 0.0000000\n",
      " resp_bytes 0.0000000\n"
     ]
    },
    {
     "data": {
      "image/png": "[encoded data removed]",
      "text/plain": [
       "plot without title"
      ]
     },
     "metadata": {
      "image/png": {
       "height": 420,
       "width": 420
      }
     },
     "output_type": "display_data"
    }
   ],
   "source": [
    "aggr(data.complete[,which(names(data.complete) %in% c(\"service\",\"duration\",\"orig_bytes\",\"resp_bytes\"))],\n",
    "                  numbers=TRUE, sortVars=TRUE,cex.axis=.7,gap=3)"
   ]
  },
  {
   "cell_type": "markdown",
   "metadata": {},
   "source": [
    "### data.missing"
   ]
  },
  {
   "cell_type": "code",
   "execution_count": 202,
   "metadata": {},
   "outputs": [
    {
     "data": {
      "text/html": [
       "<table>\n",
       "<caption>A data.frame: 6 × 17</caption>\n",
       "<thead>\n",
       "\t<tr><th></th><th scope=col>ts</th><th scope=col>orig_ip</th><th scope=col>orig_port</th><th scope=col>resp_ip</th><th scope=col>resp_port</th><th scope=col>proto</th><th scope=col>service</th><th scope=col>duration</th><th scope=col>orig_bytes</th><th scope=col>resp_bytes</th><th scope=col>conn_state</th><th scope=col>missed_bytes</th><th scope=col>history</th><th scope=col>orig_pkts</th><th scope=col>orig_ip_bytes</th><th scope=col>resp_pkts</th><th scope=col>resp_ip_bytes</th></tr>\n",
       "\t<tr><th></th><th scope=col>&lt;dbl&gt;</th><th scope=col>&lt;fct&gt;</th><th scope=col>&lt;dbl&gt;</th><th scope=col>&lt;fct&gt;</th><th scope=col>&lt;dbl&gt;</th><th scope=col>&lt;fct&gt;</th><th scope=col>&lt;chr&gt;</th><th scope=col>&lt;dbl&gt;</th><th scope=col>&lt;dbl&gt;</th><th scope=col>&lt;dbl&gt;</th><th scope=col>&lt;fct&gt;</th><th scope=col>&lt;dbl&gt;</th><th scope=col>&lt;fct&gt;</th><th scope=col>&lt;dbl&gt;</th><th scope=col>&lt;dbl&gt;</th><th scope=col>&lt;dbl&gt;</th><th scope=col>&lt;dbl&gt;</th></tr>\n",
       "</thead>\n",
       "<tbody>\n",
       "\t<tr><th scope=row>1</th><td>1331915797</td><td>192.168.202.102</td><td> 2633</td><td>192.168.23.202 </td><td>   80</td><td>tcp</td><td>http</td><td>  NA</td><td>  NA</td><td> NA</td><td>RSTO</td><td>0</td><td>ShADadfR</td><td> 8</td><td> 813</td><td>9</td><td>8505</td></tr>\n",
       "\t<tr><th scope=row>2</th><td>1331921224</td><td>192.168.202.102</td><td> 4094</td><td>192.168.24.101 </td><td>   80</td><td>tcp</td><td>NA  </td><td>0.01</td><td>7085</td><td>172</td><td>RSTO</td><td>0</td><td>ShADadfR</td><td>10</td><td>7497</td><td>9</td><td> 544</td></tr>\n",
       "\t<tr><th scope=row>3</th><td>1331903910</td><td>192.168.202.110</td><td>16066</td><td>192.168.27.152 </td><td>12486</td><td>tcp</td><td>NA  </td><td>  NA</td><td>  NA</td><td> NA</td><td>REJ </td><td>0</td><td>Sr      </td><td> 1</td><td>  48</td><td>1</td><td>  40</td></tr>\n",
       "\t<tr><th scope=row>4</th><td>1331988939</td><td>192.168.204.45 </td><td>42997</td><td>192.168.23.1   </td><td>28745</td><td>tcp</td><td>NA  </td><td>  NA</td><td>  NA</td><td> NA</td><td>REJ </td><td>0</td><td>Sr      </td><td> 1</td><td>  60</td><td>1</td><td>  40</td></tr>\n",
       "\t<tr><th scope=row>5</th><td>1331918792</td><td>192.168.202.110</td><td>38566</td><td>192.168.229.252</td><td>32754</td><td>tcp</td><td>NA  </td><td>  NA</td><td>  NA</td><td> NA</td><td>REJ </td><td>0</td><td>Sr      </td><td> 1</td><td>  48</td><td>1</td><td>  40</td></tr>\n",
       "\t<tr><th scope=row>6</th><td>1331901863</td><td>192.168.202.79 </td><td>63805</td><td>192.168.229.252</td><td>45078</td><td>tcp</td><td>NA  </td><td>  NA</td><td>  NA</td><td> NA</td><td>REJ </td><td>0</td><td>Sr      </td><td> 1</td><td>  44</td><td>1</td><td>  40</td></tr>\n",
       "</tbody>\n",
       "</table>\n"
      ],
      "text/latex": [
       "A data.frame: 6 × 17\n",
       "\\begin{tabular}{r|lllllllllllllllll}\n",
       "  & ts & orig\\_ip & orig\\_port & resp\\_ip & resp\\_port & proto & service & duration & orig\\_bytes & resp\\_bytes & conn\\_state & missed\\_bytes & history & orig\\_pkts & orig\\_ip\\_bytes & resp\\_pkts & resp\\_ip\\_bytes\\\\\n",
       "  & <dbl> & <fct> & <dbl> & <fct> & <dbl> & <fct> & <chr> & <dbl> & <dbl> & <dbl> & <fct> & <dbl> & <fct> & <dbl> & <dbl> & <dbl> & <dbl>\\\\\n",
       "\\hline\n",
       "\t1 & 1331915797 & 192.168.202.102 &  2633 & 192.168.23.202  &    80 & tcp & http &   NA &   NA &  NA & RSTO & 0 & ShADadfR &  8 &  813 & 9 & 8505\\\\\n",
       "\t2 & 1331921224 & 192.168.202.102 &  4094 & 192.168.24.101  &    80 & tcp & NA   & 0.01 & 7085 & 172 & RSTO & 0 & ShADadfR & 10 & 7497 & 9 &  544\\\\\n",
       "\t3 & 1331903910 & 192.168.202.110 & 16066 & 192.168.27.152  & 12486 & tcp & NA   &   NA &   NA &  NA & REJ  & 0 & Sr       &  1 &   48 & 1 &   40\\\\\n",
       "\t4 & 1331988939 & 192.168.204.45  & 42997 & 192.168.23.1    & 28745 & tcp & NA   &   NA &   NA &  NA & REJ  & 0 & Sr       &  1 &   60 & 1 &   40\\\\\n",
       "\t5 & 1331918792 & 192.168.202.110 & 38566 & 192.168.229.252 & 32754 & tcp & NA   &   NA &   NA &  NA & REJ  & 0 & Sr       &  1 &   48 & 1 &   40\\\\\n",
       "\t6 & 1331901863 & 192.168.202.79  & 63805 & 192.168.229.252 & 45078 & tcp & NA   &   NA &   NA &  NA & REJ  & 0 & Sr       &  1 &   44 & 1 &   40\\\\\n",
       "\\end{tabular}\n"
      ],
      "text/markdown": [
       "\n",
       "A data.frame: 6 × 17\n",
       "\n",
       "| <!--/--> | ts &lt;dbl&gt; | orig_ip &lt;fct&gt; | orig_port &lt;dbl&gt; | resp_ip &lt;fct&gt; | resp_port &lt;dbl&gt; | proto &lt;fct&gt; | service &lt;chr&gt; | duration &lt;dbl&gt; | orig_bytes &lt;dbl&gt; | resp_bytes &lt;dbl&gt; | conn_state &lt;fct&gt; | missed_bytes &lt;dbl&gt; | history &lt;fct&gt; | orig_pkts &lt;dbl&gt; | orig_ip_bytes &lt;dbl&gt; | resp_pkts &lt;dbl&gt; | resp_ip_bytes &lt;dbl&gt; |\n",
       "|---|---|---|---|---|---|---|---|---|---|---|---|---|---|---|---|---|---|\n",
       "| 1 | 1331915797 | 192.168.202.102 |  2633 | 192.168.23.202  |    80 | tcp | http |   NA |   NA |  NA | RSTO | 0 | ShADadfR |  8 |  813 | 9 | 8505 |\n",
       "| 2 | 1331921224 | 192.168.202.102 |  4094 | 192.168.24.101  |    80 | tcp | NA   | 0.01 | 7085 | 172 | RSTO | 0 | ShADadfR | 10 | 7497 | 9 |  544 |\n",
       "| 3 | 1331903910 | 192.168.202.110 | 16066 | 192.168.27.152  | 12486 | tcp | NA   |   NA |   NA |  NA | REJ  | 0 | Sr       |  1 |   48 | 1 |   40 |\n",
       "| 4 | 1331988939 | 192.168.204.45  | 42997 | 192.168.23.1    | 28745 | tcp | NA   |   NA |   NA |  NA | REJ  | 0 | Sr       |  1 |   60 | 1 |   40 |\n",
       "| 5 | 1331918792 | 192.168.202.110 | 38566 | 192.168.229.252 | 32754 | tcp | NA   |   NA |   NA |  NA | REJ  | 0 | Sr       |  1 |   48 | 1 |   40 |\n",
       "| 6 | 1331901863 | 192.168.202.79  | 63805 | 192.168.229.252 | 45078 | tcp | NA   |   NA |   NA |  NA | REJ  | 0 | Sr       |  1 |   44 | 1 |   40 |\n",
       "\n"
      ],
      "text/plain": [
       "  ts         orig_ip         orig_port resp_ip         resp_port proto service\n",
       "1 1331915797 192.168.202.102  2633     192.168.23.202     80     tcp   http   \n",
       "2 1331921224 192.168.202.102  4094     192.168.24.101     80     tcp   NA     \n",
       "3 1331903910 192.168.202.110 16066     192.168.27.152  12486     tcp   NA     \n",
       "4 1331988939 192.168.204.45  42997     192.168.23.1    28745     tcp   NA     \n",
       "5 1331918792 192.168.202.110 38566     192.168.229.252 32754     tcp   NA     \n",
       "6 1331901863 192.168.202.79  63805     192.168.229.252 45078     tcp   NA     \n",
       "  duration orig_bytes resp_bytes conn_state missed_bytes history  orig_pkts\n",
       "1   NA       NA        NA        RSTO       0            ShADadfR  8       \n",
       "2 0.01     7085       172        RSTO       0            ShADadfR 10       \n",
       "3   NA       NA        NA        REJ        0            Sr        1       \n",
       "4   NA       NA        NA        REJ        0            Sr        1       \n",
       "5   NA       NA        NA        REJ        0            Sr        1       \n",
       "6   NA       NA        NA        REJ        0            Sr        1       \n",
       "  orig_ip_bytes resp_pkts resp_ip_bytes\n",
       "1  813          9         8505         \n",
       "2 7497          9          544         \n",
       "3   48          1           40         \n",
       "4   60          1           40         \n",
       "5   48          1           40         \n",
       "6   44          1           40         "
      ]
     },
     "metadata": {},
     "output_type": "display_data"
    }
   ],
   "source": [
    "for(i in c(3,5,8,9,10,12,14:17)) data.missing[,i]=as.numeric(data.missing[,i])\n",
    "for(i in c(2,4,6,11,13)) data.missing[,i]=as.factor(data.missing[,i])\n",
    "head(data.missing)"
   ]
  },
  {
   "cell_type": "code",
   "execution_count": 11,
   "metadata": {},
   "outputs": [
    {
     "name": "stdout",
     "output_type": "stream",
     "text": [
      "\n",
      " Variables sorted by number of missings: \n",
      "   Variable     Count\n",
      "    service 0.8701969\n",
      "   duration 0.8281670\n",
      " orig_bytes 0.8281670\n",
      " resp_bytes 0.8281670\n"
     ]
    },
    {
     "data": {
      "image/png": "[encoded data removed]",
      "text/plain": [
       "plot without title"
      ]
     },
     "metadata": {
      "image/png": {
       "height": 420,
       "width": 420
      }
     },
     "output_type": "display_data"
    }
   ],
   "source": [
    "aggr(data.missing[,which(names(data.missing) %in% c(\"service\",\"duration\",\"orig_bytes\",\"resp_bytes\"))],\n",
    "                  numbers=TRUE, sortVars=TRUE,cex.axis=.7,gap=3)"
   ]
  },
  {
   "cell_type": "markdown",
   "metadata": {},
   "source": [
    "The following figure shows the distribution of missing values with monotonic changes in \"ts\". From it, we can't see obvious factors that affect data missing."
   ]
  },
  {
   "cell_type": "code",
   "execution_count": 26,
   "metadata": {},
   "outputs": [
    {
     "data": {
      "image/png": "[encoded data removed]",
      "text/plain": [
       "plot without title"
      ]
     },
     "metadata": {
      "image/png": {
       "height": 420,
       "width": 420
      }
     },
     "output_type": "display_data"
    }
   ],
   "source": [
    "matrixplot(data.missing,sortby = \"ts\")"
   ]
  },
  {
   "cell_type": "markdown",
   "metadata": {},
   "source": [
    "## Imputing the three continuous variables\n",
    "\n",
    "Here we do not consider \"service\" because its missing rate is as high as 97%, which is an abnormal phenomenon. And it is a discrete variable. We don't know if there is a new classification, and the prediction method is different from the other three variables."
   ]
  },
  {
   "cell_type": "code",
   "execution_count": 203,
   "metadata": {},
   "outputs": [
    {
     "data": {
      "text/html": [
       "<table>\n",
       "<caption>A data.frame: 6 × 16</caption>\n",
       "<thead>\n",
       "\t<tr><th></th><th scope=col>ts</th><th scope=col>orig_ip</th><th scope=col>orig_port</th><th scope=col>resp_ip</th><th scope=col>resp_port</th><th scope=col>proto</th><th scope=col>duration</th><th scope=col>orig_bytes</th><th scope=col>resp_bytes</th><th scope=col>conn_state</th><th scope=col>missed_bytes</th><th scope=col>history</th><th scope=col>orig_pkts</th><th scope=col>orig_ip_bytes</th><th scope=col>resp_pkts</th><th scope=col>resp_ip_bytes</th></tr>\n",
       "\t<tr><th></th><th scope=col>&lt;dbl&gt;</th><th scope=col>&lt;fct&gt;</th><th scope=col>&lt;dbl&gt;</th><th scope=col>&lt;fct&gt;</th><th scope=col>&lt;dbl&gt;</th><th scope=col>&lt;fct&gt;</th><th scope=col>&lt;dbl&gt;</th><th scope=col>&lt;dbl&gt;</th><th scope=col>&lt;dbl&gt;</th><th scope=col>&lt;fct&gt;</th><th scope=col>&lt;dbl&gt;</th><th scope=col>&lt;fct&gt;</th><th scope=col>&lt;dbl&gt;</th><th scope=col>&lt;dbl&gt;</th><th scope=col>&lt;dbl&gt;</th><th scope=col>&lt;dbl&gt;</th></tr>\n",
       "</thead>\n",
       "<tbody>\n",
       "\t<tr><th scope=row>1</th><td>1331915797</td><td>192.168.202.102</td><td> 2633</td><td>192.168.23.202 </td><td>   80</td><td>tcp</td><td>  NA</td><td>  NA</td><td> NA</td><td>RSTO</td><td>0</td><td>ShADadfR</td><td> 8</td><td> 813</td><td>9</td><td>8505</td></tr>\n",
       "\t<tr><th scope=row>2</th><td>1331921224</td><td>192.168.202.102</td><td> 4094</td><td>192.168.24.101 </td><td>   80</td><td>tcp</td><td>0.01</td><td>7085</td><td>172</td><td>RSTO</td><td>0</td><td>ShADadfR</td><td>10</td><td>7497</td><td>9</td><td> 544</td></tr>\n",
       "\t<tr><th scope=row>3</th><td>1331903910</td><td>192.168.202.110</td><td>16066</td><td>192.168.27.152 </td><td>12486</td><td>tcp</td><td>  NA</td><td>  NA</td><td> NA</td><td>REJ </td><td>0</td><td>Sr      </td><td> 1</td><td>  48</td><td>1</td><td>  40</td></tr>\n",
       "\t<tr><th scope=row>4</th><td>1331988939</td><td>192.168.204.45 </td><td>42997</td><td>192.168.23.1   </td><td>28745</td><td>tcp</td><td>  NA</td><td>  NA</td><td> NA</td><td>REJ </td><td>0</td><td>Sr      </td><td> 1</td><td>  60</td><td>1</td><td>  40</td></tr>\n",
       "\t<tr><th scope=row>5</th><td>1331918792</td><td>192.168.202.110</td><td>38566</td><td>192.168.229.252</td><td>32754</td><td>tcp</td><td>  NA</td><td>  NA</td><td> NA</td><td>REJ </td><td>0</td><td>Sr      </td><td> 1</td><td>  48</td><td>1</td><td>  40</td></tr>\n",
       "\t<tr><th scope=row>6</th><td>1331901863</td><td>192.168.202.79 </td><td>63805</td><td>192.168.229.252</td><td>45078</td><td>tcp</td><td>  NA</td><td>  NA</td><td> NA</td><td>REJ </td><td>0</td><td>Sr      </td><td> 1</td><td>  44</td><td>1</td><td>  40</td></tr>\n",
       "</tbody>\n",
       "</table>\n"
      ],
      "text/latex": [
       "A data.frame: 6 × 16\n",
       "\\begin{tabular}{r|llllllllllllllll}\n",
       "  & ts & orig\\_ip & orig\\_port & resp\\_ip & resp\\_port & proto & duration & orig\\_bytes & resp\\_bytes & conn\\_state & missed\\_bytes & history & orig\\_pkts & orig\\_ip\\_bytes & resp\\_pkts & resp\\_ip\\_bytes\\\\\n",
       "  & <dbl> & <fct> & <dbl> & <fct> & <dbl> & <fct> & <dbl> & <dbl> & <dbl> & <fct> & <dbl> & <fct> & <dbl> & <dbl> & <dbl> & <dbl>\\\\\n",
       "\\hline\n",
       "\t1 & 1331915797 & 192.168.202.102 &  2633 & 192.168.23.202  &    80 & tcp &   NA &   NA &  NA & RSTO & 0 & ShADadfR &  8 &  813 & 9 & 8505\\\\\n",
       "\t2 & 1331921224 & 192.168.202.102 &  4094 & 192.168.24.101  &    80 & tcp & 0.01 & 7085 & 172 & RSTO & 0 & ShADadfR & 10 & 7497 & 9 &  544\\\\\n",
       "\t3 & 1331903910 & 192.168.202.110 & 16066 & 192.168.27.152  & 12486 & tcp &   NA &   NA &  NA & REJ  & 0 & Sr       &  1 &   48 & 1 &   40\\\\\n",
       "\t4 & 1331988939 & 192.168.204.45  & 42997 & 192.168.23.1    & 28745 & tcp &   NA &   NA &  NA & REJ  & 0 & Sr       &  1 &   60 & 1 &   40\\\\\n",
       "\t5 & 1331918792 & 192.168.202.110 & 38566 & 192.168.229.252 & 32754 & tcp &   NA &   NA &  NA & REJ  & 0 & Sr       &  1 &   48 & 1 &   40\\\\\n",
       "\t6 & 1331901863 & 192.168.202.79  & 63805 & 192.168.229.252 & 45078 & tcp &   NA &   NA &  NA & REJ  & 0 & Sr       &  1 &   44 & 1 &   40\\\\\n",
       "\\end{tabular}\n"
      ],
      "text/markdown": [
       "\n",
       "A data.frame: 6 × 16\n",
       "\n",
       "| <!--/--> | ts &lt;dbl&gt; | orig_ip &lt;fct&gt; | orig_port &lt;dbl&gt; | resp_ip &lt;fct&gt; | resp_port &lt;dbl&gt; | proto &lt;fct&gt; | duration &lt;dbl&gt; | orig_bytes &lt;dbl&gt; | resp_bytes &lt;dbl&gt; | conn_state &lt;fct&gt; | missed_bytes &lt;dbl&gt; | history &lt;fct&gt; | orig_pkts &lt;dbl&gt; | orig_ip_bytes &lt;dbl&gt; | resp_pkts &lt;dbl&gt; | resp_ip_bytes &lt;dbl&gt; |\n",
       "|---|---|---|---|---|---|---|---|---|---|---|---|---|---|---|---|---|\n",
       "| 1 | 1331915797 | 192.168.202.102 |  2633 | 192.168.23.202  |    80 | tcp |   NA |   NA |  NA | RSTO | 0 | ShADadfR |  8 |  813 | 9 | 8505 |\n",
       "| 2 | 1331921224 | 192.168.202.102 |  4094 | 192.168.24.101  |    80 | tcp | 0.01 | 7085 | 172 | RSTO | 0 | ShADadfR | 10 | 7497 | 9 |  544 |\n",
       "| 3 | 1331903910 | 192.168.202.110 | 16066 | 192.168.27.152  | 12486 | tcp |   NA |   NA |  NA | REJ  | 0 | Sr       |  1 |   48 | 1 |   40 |\n",
       "| 4 | 1331988939 | 192.168.204.45  | 42997 | 192.168.23.1    | 28745 | tcp |   NA |   NA |  NA | REJ  | 0 | Sr       |  1 |   60 | 1 |   40 |\n",
       "| 5 | 1331918792 | 192.168.202.110 | 38566 | 192.168.229.252 | 32754 | tcp |   NA |   NA |  NA | REJ  | 0 | Sr       |  1 |   48 | 1 |   40 |\n",
       "| 6 | 1331901863 | 192.168.202.79  | 63805 | 192.168.229.252 | 45078 | tcp |   NA |   NA |  NA | REJ  | 0 | Sr       |  1 |   44 | 1 |   40 |\n",
       "\n"
      ],
      "text/plain": [
       "  ts         orig_ip         orig_port resp_ip         resp_port proto duration\n",
       "1 1331915797 192.168.202.102  2633     192.168.23.202     80     tcp     NA    \n",
       "2 1331921224 192.168.202.102  4094     192.168.24.101     80     tcp   0.01    \n",
       "3 1331903910 192.168.202.110 16066     192.168.27.152  12486     tcp     NA    \n",
       "4 1331988939 192.168.204.45  42997     192.168.23.1    28745     tcp     NA    \n",
       "5 1331918792 192.168.202.110 38566     192.168.229.252 32754     tcp     NA    \n",
       "6 1331901863 192.168.202.79  63805     192.168.229.252 45078     tcp     NA    \n",
       "  orig_bytes resp_bytes conn_state missed_bytes history  orig_pkts\n",
       "1   NA        NA        RSTO       0            ShADadfR  8       \n",
       "2 7085       172        RSTO       0            ShADadfR 10       \n",
       "3   NA        NA        REJ        0            Sr        1       \n",
       "4   NA        NA        REJ        0            Sr        1       \n",
       "5   NA        NA        REJ        0            Sr        1       \n",
       "6   NA        NA        REJ        0            Sr        1       \n",
       "  orig_ip_bytes resp_pkts resp_ip_bytes\n",
       "1  813          9         8505         \n",
       "2 7497          9          544         \n",
       "3   48          1           40         \n",
       "4   60          1           40         \n",
       "5   48          1           40         \n",
       "6   44          1           40         "
      ]
     },
     "metadata": {},
     "output_type": "display_data"
    }
   ],
   "source": [
    "data.complete1<-data.complete[,-which(names(data.complete) %in% c(\"service\"))]\n",
    "data.missing1<-data.missing[,-which(names(data.missing) %in% c(\"service\"))]\n",
    "head(data.missing1)"
   ]
  },
  {
   "cell_type": "markdown",
   "metadata": {},
   "source": [
    "According to the whorkshop4, one way to examine the imputation model's performance is by how much variation it explains.\n",
    "\n",
    "We build a simple linear regression model, through this model, we can see the fit of \"duration\" and other variables. The closer the \"R-squared\" is to 1, the better the fit of the data, that is, the better the effect of imputation.\n",
    "\n",
    "**Please note that this performance metric is not rigorous, it is just a reference and consideration here**"
   ]
  },
  {
   "cell_type": "code",
   "execution_count": 220,
   "metadata": {},
   "outputs": [
    {
     "data": {
      "text/plain": [
       "\n",
       "Call:\n",
       "lm(formula = logduration ~ proto + ts + orig_port + resp_port + \n",
       "    conn_state + orig_pkts + orig_ip_bytes + resp_pkts + resp_ip_bytes, \n",
       "    data = conndata)\n",
       "\n",
       "Residuals:\n",
       "     Min       1Q   Median       3Q      Max \n",
       "-18.1495  -0.9896  -0.4898   0.6171  11.2644 \n",
       "\n",
       "Coefficients:\n",
       "                   Estimate Std. Error t value Pr(>|t|)    \n",
       "(Intercept)       8.525e+03  1.039e+02  82.048  < 2e-16 ***\n",
       "prototcp          2.487e+00  1.021e-01  24.364  < 2e-16 ***\n",
       "protoudp          2.658e+00  1.061e-01  25.042  < 2e-16 ***\n",
       "ts               -6.401e-06  7.801e-08 -82.052  < 2e-16 ***\n",
       "orig_port        -7.968e-06  1.861e-07 -42.813  < 2e-16 ***\n",
       "resp_port        -8.831e-07  1.725e-07  -5.119 3.07e-07 ***\n",
       "conn_stateREJ    -5.507e+00  1.006e-01 -54.738  < 2e-16 ***\n",
       "conn_stateRSTO   -5.249e+00  1.011e-01 -51.903  < 2e-16 ***\n",
       "conn_stateRSTOS0  1.244e-01  4.489e-01   0.277    0.782    \n",
       "conn_stateRSTR   -3.607e+00  1.035e-01 -34.838  < 2e-16 ***\n",
       "conn_stateRSTRH  -4.267e-01  5.302e-01  -0.805    0.421    \n",
       "conn_stateS0     -8.420e-01  1.021e-01  -8.245  < 2e-16 ***\n",
       "conn_stateS1      1.277e+00  1.552e-01   8.232  < 2e-16 ***\n",
       "conn_stateS2      1.404e+00  2.208e-01   6.362 2.00e-10 ***\n",
       "conn_stateS3      1.392e+00  2.985e-01   4.664 3.11e-06 ***\n",
       "conn_stateSF     -4.274e+00  1.014e-01 -42.132  < 2e-16 ***\n",
       "conn_stateSH     -1.380e+00  1.846e-01  -7.474 7.84e-14 ***\n",
       "conn_stateSHR    -2.384e+00  3.590e-01  -6.642 3.10e-11 ***\n",
       "orig_pkts         1.807e-03  8.952e-05  20.187  < 2e-16 ***\n",
       "orig_ip_bytes    -1.192e-06  5.040e-08 -23.650  < 2e-16 ***\n",
       "resp_pkts        -1.010e-04  7.204e-05  -1.402    0.161    \n",
       "resp_ip_bytes    -1.015e-06  5.295e-08 -19.174  < 2e-16 ***\n",
       "---\n",
       "Signif. codes:  0 '***' 0.001 '**' 0.01 '*' 0.05 '.' 0.1 ' ' 1\n",
       "\n",
       "Residual standard error: 1.376 on 194958 degrees of freedom\n",
       "  (939737 observations deleted due to missingness)\n",
       "Multiple R-squared:  0.4477,\tAdjusted R-squared:  0.4476 \n",
       "F-statistic:  7526 on 21 and 194958 DF,  p-value: < 2.2e-16\n"
      ]
     },
     "metadata": {},
     "output_type": "display_data"
    }
   ],
   "source": [
    "conndata[,\"logduration\"]=log(conndata[,\"duration\"])\n",
    "lm1=lm(logduration~proto+ts+orig_port+resp_port+conn_state+orig_pkts+orig_ip_bytes +resp_pkts+resp_ip_bytes,data=conndata)\n",
    "summary(lm1) "
   ]
  },
  {
   "cell_type": "markdown",
   "metadata": {},
   "source": [
    "### Method 1: Deleting data with missing values"
   ]
  },
  {
   "cell_type": "code",
   "execution_count": 221,
   "metadata": {},
   "outputs": [],
   "source": [
    "conn_delete<-conndata[complete.cases(conndata),] "
   ]
  },
  {
   "cell_type": "code",
   "execution_count": 222,
   "metadata": {},
   "outputs": [
    {
     "data": {
      "text/plain": [
       "\n",
       "Call:\n",
       "lm(formula = logduration ~ proto + ts + orig_port + resp_port + \n",
       "    conn_state + orig_pkts + orig_ip_bytes + resp_pkts + resp_ip_bytes, \n",
       "    data = conn_delete)\n",
       "\n",
       "Residuals:\n",
       "    Min      1Q  Median      3Q     Max \n",
       "-32.952  -1.086  -0.115   0.698   9.374 \n",
       "\n",
       "Coefficients:\n",
       "                 Estimate Std. Error t value Pr(>|t|)    \n",
       "(Intercept)     5.708e+03  4.195e+02  13.607  < 2e-16 ***\n",
       "protoudp       -1.419e+00  1.304e-01 -10.884  < 2e-16 ***\n",
       "ts             -4.283e-06  3.150e-07 -13.600  < 2e-16 ***\n",
       "orig_port       1.774e-05  4.881e-07  36.355  < 2e-16 ***\n",
       "resp_port      -5.716e-05  3.098e-06 -18.453  < 2e-16 ***\n",
       "conn_stateRSTO -6.904e+00  1.604e+00  -4.303 1.69e-05 ***\n",
       "conn_stateRSTR -3.002e+00  1.613e+00  -1.861 0.062774 .  \n",
       "conn_stateS0   -1.262e+00  1.610e+00  -0.784 0.433096    \n",
       "conn_stateS1   -4.123e+00  1.628e+00  -2.533 0.011315 *  \n",
       "conn_stateS2    2.142e-02  1.702e+00   0.013 0.989957    \n",
       "conn_stateS3   -3.014e+00  1.683e+00  -1.791 0.073322 .  \n",
       "conn_stateSF   -6.135e+00  1.605e+00  -3.823 0.000132 ***\n",
       "conn_stateSHR  -3.769e+00  1.696e+00  -2.222 0.026305 *  \n",
       "orig_pkts       1.678e-02  3.720e-04  45.107  < 2e-16 ***\n",
       "orig_ip_bytes  -9.647e-06  2.312e-07 -41.718  < 2e-16 ***\n",
       "resp_pkts      -8.266e-03  2.284e-04 -36.189  < 2e-16 ***\n",
       "resp_ip_bytes   1.198e-05  7.473e-07  16.030  < 2e-16 ***\n",
       "---\n",
       "Signif. codes:  0 '***' 0.001 '**' 0.01 '*' 0.05 '.' 0.1 ' ' 1\n",
       "\n",
       "Residual standard error: 1.604 on 25292 degrees of freedom\n",
       "Multiple R-squared:  0.4677,\tAdjusted R-squared:  0.4674 \n",
       "F-statistic:  1389 on 16 and 25292 DF,  p-value: < 2.2e-16\n"
      ]
     },
     "metadata": {},
     "output_type": "display_data"
    }
   ],
   "source": [
    "lm_delete=lm(logduration~proto+ts+orig_port+resp_port+conn_state+orig_pkts+orig_ip_bytes +resp_pkts+resp_ip_bytes,data=conn_delete)\n",
    "summary(lm_delete) "
   ]
  },
  {
   "cell_type": "markdown",
   "metadata": {},
   "source": [
    "Since most of the data have missing values, this method is too simple and crude, and is not suitable for use in practice\n",
    "\n",
    "### Method 2: Mean imputation"
   ]
  },
  {
   "cell_type": "code",
   "execution_count": 129,
   "metadata": {},
   "outputs": [
    {
     "data": {
      "text/html": [
       "<table>\n",
       "<caption>A data.frame: 6 × 17</caption>\n",
       "<thead>\n",
       "\t<tr><th></th><th scope=col>ts</th><th scope=col>orig_ip</th><th scope=col>orig_port</th><th scope=col>resp_ip</th><th scope=col>resp_port</th><th scope=col>proto</th><th scope=col>service</th><th scope=col>duration</th><th scope=col>orig_bytes</th><th scope=col>resp_bytes</th><th scope=col>conn_state</th><th scope=col>missed_bytes</th><th scope=col>history</th><th scope=col>orig_pkts</th><th scope=col>orig_ip_bytes</th><th scope=col>resp_pkts</th><th scope=col>resp_ip_bytes</th></tr>\n",
       "\t<tr><th></th><th scope=col>&lt;dbl&gt;</th><th scope=col>&lt;fct&gt;</th><th scope=col>&lt;dbl&gt;</th><th scope=col>&lt;fct&gt;</th><th scope=col>&lt;dbl&gt;</th><th scope=col>&lt;fct&gt;</th><th scope=col>&lt;chr&gt;</th><th scope=col>&lt;dbl&gt;</th><th scope=col>&lt;dbl&gt;</th><th scope=col>&lt;dbl&gt;</th><th scope=col>&lt;fct&gt;</th><th scope=col>&lt;dbl&gt;</th><th scope=col>&lt;fct&gt;</th><th scope=col>&lt;dbl&gt;</th><th scope=col>&lt;dbl&gt;</th><th scope=col>&lt;dbl&gt;</th><th scope=col>&lt;dbl&gt;</th></tr>\n",
       "</thead>\n",
       "<tbody>\n",
       "\t<tr><th scope=row>1</th><td>1331915797</td><td>192.168.202.102</td><td> 2633</td><td>192.168.23.202 </td><td>   80</td><td>tcp</td><td>http</td><td>1.419635</td><td>356075.8</td><td>1679.826</td><td>RSTO</td><td>0</td><td>ShADadfR</td><td> 8</td><td> 813</td><td>9</td><td>8505</td></tr>\n",
       "\t<tr><th scope=row>2</th><td>1331921224</td><td>192.168.202.102</td><td> 4094</td><td>192.168.24.101 </td><td>   80</td><td>tcp</td><td>NA  </td><td>0.010000</td><td>  7085.0</td><td> 172.000</td><td>RSTO</td><td>0</td><td>ShADadfR</td><td>10</td><td>7497</td><td>9</td><td> 544</td></tr>\n",
       "\t<tr><th scope=row>3</th><td>1331903910</td><td>192.168.202.110</td><td>16066</td><td>192.168.27.152 </td><td>12486</td><td>tcp</td><td>NA  </td><td>1.419635</td><td>356075.8</td><td>1679.826</td><td>REJ </td><td>0</td><td>Sr      </td><td> 1</td><td>  48</td><td>1</td><td>  40</td></tr>\n",
       "\t<tr><th scope=row>4</th><td>1331988939</td><td>192.168.204.45 </td><td>42997</td><td>192.168.23.1   </td><td>28745</td><td>tcp</td><td>NA  </td><td>1.419635</td><td>356075.8</td><td>1679.826</td><td>REJ </td><td>0</td><td>Sr      </td><td> 1</td><td>  60</td><td>1</td><td>  40</td></tr>\n",
       "\t<tr><th scope=row>5</th><td>1331918792</td><td>192.168.202.110</td><td>38566</td><td>192.168.229.252</td><td>32754</td><td>tcp</td><td>NA  </td><td>1.419635</td><td>356075.8</td><td>1679.826</td><td>REJ </td><td>0</td><td>Sr      </td><td> 1</td><td>  48</td><td>1</td><td>  40</td></tr>\n",
       "\t<tr><th scope=row>6</th><td>1331901863</td><td>192.168.202.79 </td><td>63805</td><td>192.168.229.252</td><td>45078</td><td>tcp</td><td>NA  </td><td>1.419635</td><td>356075.8</td><td>1679.826</td><td>REJ </td><td>0</td><td>Sr      </td><td> 1</td><td>  44</td><td>1</td><td>  40</td></tr>\n",
       "</tbody>\n",
       "</table>\n"
      ],
      "text/latex": [
       "A data.frame: 6 × 17\n",
       "\\begin{tabular}{r|lllllllllllllllll}\n",
       "  & ts & orig\\_ip & orig\\_port & resp\\_ip & resp\\_port & proto & service & duration & orig\\_bytes & resp\\_bytes & conn\\_state & missed\\_bytes & history & orig\\_pkts & orig\\_ip\\_bytes & resp\\_pkts & resp\\_ip\\_bytes\\\\\n",
       "  & <dbl> & <fct> & <dbl> & <fct> & <dbl> & <fct> & <chr> & <dbl> & <dbl> & <dbl> & <fct> & <dbl> & <fct> & <dbl> & <dbl> & <dbl> & <dbl>\\\\\n",
       "\\hline\n",
       "\t1 & 1331915797 & 192.168.202.102 &  2633 & 192.168.23.202  &    80 & tcp & http & 1.419635 & 356075.8 & 1679.826 & RSTO & 0 & ShADadfR &  8 &  813 & 9 & 8505\\\\\n",
       "\t2 & 1331921224 & 192.168.202.102 &  4094 & 192.168.24.101  &    80 & tcp & NA   & 0.010000 &   7085.0 &  172.000 & RSTO & 0 & ShADadfR & 10 & 7497 & 9 &  544\\\\\n",
       "\t3 & 1331903910 & 192.168.202.110 & 16066 & 192.168.27.152  & 12486 & tcp & NA   & 1.419635 & 356075.8 & 1679.826 & REJ  & 0 & Sr       &  1 &   48 & 1 &   40\\\\\n",
       "\t4 & 1331988939 & 192.168.204.45  & 42997 & 192.168.23.1    & 28745 & tcp & NA   & 1.419635 & 356075.8 & 1679.826 & REJ  & 0 & Sr       &  1 &   60 & 1 &   40\\\\\n",
       "\t5 & 1331918792 & 192.168.202.110 & 38566 & 192.168.229.252 & 32754 & tcp & NA   & 1.419635 & 356075.8 & 1679.826 & REJ  & 0 & Sr       &  1 &   48 & 1 &   40\\\\\n",
       "\t6 & 1331901863 & 192.168.202.79  & 63805 & 192.168.229.252 & 45078 & tcp & NA   & 1.419635 & 356075.8 & 1679.826 & REJ  & 0 & Sr       &  1 &   44 & 1 &   40\\\\\n",
       "\\end{tabular}\n"
      ],
      "text/markdown": [
       "\n",
       "A data.frame: 6 × 17\n",
       "\n",
       "| <!--/--> | ts &lt;dbl&gt; | orig_ip &lt;fct&gt; | orig_port &lt;dbl&gt; | resp_ip &lt;fct&gt; | resp_port &lt;dbl&gt; | proto &lt;fct&gt; | service &lt;chr&gt; | duration &lt;dbl&gt; | orig_bytes &lt;dbl&gt; | resp_bytes &lt;dbl&gt; | conn_state &lt;fct&gt; | missed_bytes &lt;dbl&gt; | history &lt;fct&gt; | orig_pkts &lt;dbl&gt; | orig_ip_bytes &lt;dbl&gt; | resp_pkts &lt;dbl&gt; | resp_ip_bytes &lt;dbl&gt; |\n",
       "|---|---|---|---|---|---|---|---|---|---|---|---|---|---|---|---|---|---|\n",
       "| 1 | 1331915797 | 192.168.202.102 |  2633 | 192.168.23.202  |    80 | tcp | http | 1.419635 | 356075.8 | 1679.826 | RSTO | 0 | ShADadfR |  8 |  813 | 9 | 8505 |\n",
       "| 2 | 1331921224 | 192.168.202.102 |  4094 | 192.168.24.101  |    80 | tcp | NA   | 0.010000 |   7085.0 |  172.000 | RSTO | 0 | ShADadfR | 10 | 7497 | 9 |  544 |\n",
       "| 3 | 1331903910 | 192.168.202.110 | 16066 | 192.168.27.152  | 12486 | tcp | NA   | 1.419635 | 356075.8 | 1679.826 | REJ  | 0 | Sr       |  1 |   48 | 1 |   40 |\n",
       "| 4 | 1331988939 | 192.168.204.45  | 42997 | 192.168.23.1    | 28745 | tcp | NA   | 1.419635 | 356075.8 | 1679.826 | REJ  | 0 | Sr       |  1 |   60 | 1 |   40 |\n",
       "| 5 | 1331918792 | 192.168.202.110 | 38566 | 192.168.229.252 | 32754 | tcp | NA   | 1.419635 | 356075.8 | 1679.826 | REJ  | 0 | Sr       |  1 |   48 | 1 |   40 |\n",
       "| 6 | 1331901863 | 192.168.202.79  | 63805 | 192.168.229.252 | 45078 | tcp | NA   | 1.419635 | 356075.8 | 1679.826 | REJ  | 0 | Sr       |  1 |   44 | 1 |   40 |\n",
       "\n"
      ],
      "text/plain": [
       "  ts         orig_ip         orig_port resp_ip         resp_port proto service\n",
       "1 1331915797 192.168.202.102  2633     192.168.23.202     80     tcp   http   \n",
       "2 1331921224 192.168.202.102  4094     192.168.24.101     80     tcp   NA     \n",
       "3 1331903910 192.168.202.110 16066     192.168.27.152  12486     tcp   NA     \n",
       "4 1331988939 192.168.204.45  42997     192.168.23.1    28745     tcp   NA     \n",
       "5 1331918792 192.168.202.110 38566     192.168.229.252 32754     tcp   NA     \n",
       "6 1331901863 192.168.202.79  63805     192.168.229.252 45078     tcp   NA     \n",
       "  duration orig_bytes resp_bytes conn_state missed_bytes history  orig_pkts\n",
       "1 1.419635 356075.8   1679.826   RSTO       0            ShADadfR  8       \n",
       "2 0.010000   7085.0    172.000   RSTO       0            ShADadfR 10       \n",
       "3 1.419635 356075.8   1679.826   REJ        0            Sr        1       \n",
       "4 1.419635 356075.8   1679.826   REJ        0            Sr        1       \n",
       "5 1.419635 356075.8   1679.826   REJ        0            Sr        1       \n",
       "6 1.419635 356075.8   1679.826   REJ        0            Sr        1       \n",
       "  orig_ip_bytes resp_pkts resp_ip_bytes\n",
       "1  813          9         8505         \n",
       "2 7497          9          544         \n",
       "3   48          1           40         \n",
       "4   60          1           40         \n",
       "5   48          1           40         \n",
       "6   44          1           40         "
      ]
     },
     "metadata": {},
     "output_type": "display_data"
    }
   ],
   "source": [
    "data.mean<-data.missing\n",
    "data.mean[is.na(data.mean[,\"duration\"]),\n",
    "              \"duration\"]=\n",
    "    mean(na.omit(data.mean[,\"duration\"]))\n",
    "\n",
    "data.mean[is.na(data.mean[,\"orig_bytes\"]),\n",
    "              \"orig_bytes\"]=\n",
    "    mean(na.omit(data.mean[,\"orig_bytes\"]))\n",
    "\n",
    "data.mean[is.na(data.mean[,\"resp_bytes\"]),\n",
    "              \"resp_bytes\"]=\n",
    "    mean(na.omit(data.mean[,\"resp_bytes\"]))\n",
    "\n",
    "head(data.mean)"
   ]
  },
  {
   "cell_type": "code",
   "execution_count": 16,
   "metadata": {},
   "outputs": [
    {
     "data": {
      "text/plain": [
       "\n",
       "Call:\n",
       "lm(formula = logduration ~ proto + ts + orig_port + resp_port + \n",
       "    conn_state + orig_pkts + orig_ip_bytes + resp_pkts + resp_ip_bytes, \n",
       "    data = conn_mean)\n",
       "\n",
       "Residuals:\n",
       "     Min       1Q   Median       3Q      Max \n",
       "-22.0928  -0.0824   0.0241   0.1229  12.8767 \n",
       "\n",
       "Coefficients:\n",
       "                   Estimate Std. Error t value Pr(>|t|)    \n",
       "(Intercept)       1.593e+03  4.716e+01  33.770  < 2e-16 ***\n",
       "prototcp         -2.143e+00  2.419e-02 -88.584  < 2e-16 ***\n",
       "protoudp         -1.000e+00  2.872e-02 -34.814  < 2e-16 ***\n",
       "ts               -1.196e-06  3.541e-08 -33.788  < 2e-16 ***\n",
       "orig_port        -1.444e-06  1.004e-07 -14.386  < 2e-16 ***\n",
       "resp_port        -2.342e-06  7.291e-08 -32.123  < 2e-16 ***\n",
       "conn_stateREJ    -1.587e-01  1.741e-02  -9.119  < 2e-16 ***\n",
       "conn_stateRSTO   -2.316e-01  2.009e-02 -11.527  < 2e-16 ***\n",
       "conn_stateRSTOS0  6.724e-03  6.964e-01   0.010    0.992    \n",
       "conn_stateRSTR    9.268e-01  3.164e-02  29.288  < 2e-16 ***\n",
       "conn_stateRSTRH  -1.083e-02  2.468e-01  -0.044    0.965    \n",
       "conn_stateS0     -3.195e-03  1.742e-02  -0.183    0.854    \n",
       "conn_stateS1      5.220e+00  1.352e-01  38.601  < 2e-16 ***\n",
       "conn_stateS2      6.161e+00  2.106e-01  29.249  < 2e-16 ***\n",
       "conn_stateS3      7.086e+00  6.964e-01  10.175  < 2e-16 ***\n",
       "conn_stateSF      2.042e-01  2.222e-02   9.189  < 2e-16 ***\n",
       "conn_stateSH      6.088e-01  7.660e-02   7.948 1.90e-15 ***\n",
       "conn_stateSHR    -8.728e-01  1.359e-01  -6.423 1.34e-10 ***\n",
       "orig_pkts         2.974e-02  5.973e-04  49.797  < 2e-16 ***\n",
       "orig_ip_bytes     5.027e-05  2.673e-06  18.811  < 2e-16 ***\n",
       "resp_pkts        -4.409e-02  6.920e-04 -63.715  < 2e-16 ***\n",
       "resp_ip_bytes     2.338e-05  6.242e-07  37.457  < 2e-16 ***\n",
       "---\n",
       "Signif. codes:  0 '***' 0.001 '**' 0.01 '*' 0.05 '.' 0.1 ' ' 1\n",
       "\n",
       "Residual standard error: 0.6962 on 226921 degrees of freedom\n",
       "Multiple R-squared:  0.1753,\tAdjusted R-squared:  0.1752 \n",
       "F-statistic:  2296 on 21 and 226921 DF,  p-value: < 2.2e-16\n"
      ]
     },
     "metadata": {},
     "output_type": "display_data"
    }
   ],
   "source": [
    "lm_mean=lm(logduration~proto+ts+orig_port+resp_port+conn_state+orig_pkts+orig_ip_bytes +resp_pkts+resp_ip_bytes,data=conn_mean)\n",
    "summary(lm_mean)"
   ]
  },
  {
   "cell_type": "markdown",
   "metadata": {},
   "source": [
    "R-squared decreases, indicating that the effect of the mean imputation is not good. This is easy to understand, because the method of setting the value of hundreds of thousands of data as the overall mean is too crude.\n",
    "\n",
    "For more research on mean imputation, please see \"[05 - Further DA and Mean Impute.ipynb](https://github.com/Galeforse/DST-Assessment-02/blob/main/Report/05%20-%20Further%20DA%20and%20Mean%20Impute.ipynb)\"notebook.\n",
    "\n",
    "### Method 3: MissForest imputation\n",
    "\n",
    "The package 'missForest' is used to impute missing values particularly in the case of mixed-type data. It uses a random forest trained on the observed values of a data matrix to predict the missing values. It can be used to impute continuous and/or categorical data including complex interactions and non-linear relations. It yields an out-of-bag (OOB) imputation error estimate without the need of a testset or elaborate cross-validation.\n",
    "\n",
    "We first make an initial guess for the missing value, for instance, replace it with the mean/median replacement, and then sort the variable from small to large according to the missing rate of the variable, first use random forest regression for the variable with the small missing rate to replace the missing value of the variable , And then iterate until the latest replacement result and the last replacement result no longer change (or the change is small).\n",
    "\n",
    "### Building the model\n",
    "\n",
    "There are a lot of missing values in \"service\", the three discrete variables of \"orig_ip\", \"resp_ip\" and \"history\" have many categories, and we think that they have little effect on the missing variables, so we can remove them. (they can also be converted into numerical variables by one-hot code, but in order not to make the calculation process of the model too complicated, this is the work afterwards.)"
   ]
  },
  {
   "cell_type": "code",
   "execution_count": 139,
   "metadata": {},
   "outputs": [],
   "source": [
    "data.missing2<-data.missing[,-which(names(data.missing) %in% c(\"service\",\"orig_ip\",\"resp_ip\",\"history\"))]\n",
    "data.complete2<-data.complete[,-which(names(data.complete) %in% c(\"service\",\"orig_ip\",\"resp_ip\",\"history\"))]"
   ]
  },
  {
   "cell_type": "markdown",
   "metadata": {},
   "source": [
    "In the function\"missForest\":\n",
    "\n",
    "\"**xtrue**\" is the data with real values to calculate the built-in performance metrics of the function;\n",
    "\n",
    "\"**maxiter**\" is the maximum number of iterations to be performed given the stopping criterion is not met beforehand, in order to avoid the program running time is too long, we set it to 10, that is, iterate at most ten times;\n",
    "\n",
    "\"**verbose=true**\" outputs iteration process, including estimated error, difference, and time."
   ]
  },
  {
   "cell_type": "code",
   "execution_count": 146,
   "metadata": {},
   "outputs": [
    {
     "name": "stdout",
     "output_type": "stream",
     "text": [
      "  missForest iteration 1 in progress...done!\n",
      "    error(s): 0.7928336 0 \n",
      "    estimated error(s): 0.01940887 0 \n",
      "    difference(s): 6.352048e-05 0 \n",
      "    time: 15.06 seconds\n",
      "\n",
      "  missForest iteration 2 in progress...done!\n",
      "    error(s): 0.7459329 0 \n",
      "    estimated error(s): 0.01893483 0 \n",
      "    difference(s): 6.386609e-05 0 \n",
      "    time: 14.91 seconds\n",
      "\n"
     ]
    }
   ],
   "source": [
    "set.seed(10)\n",
    "forest1<- missForest(data.missing2, xtrue = data.complete2, verbose = TRUE, maxiter = 10, ntree = 10)"
   ]
  },
  {
   "cell_type": "code",
   "execution_count": 147,
   "metadata": {},
   "outputs": [
    {
     "data": {
      "text/html": [
       "<table>\n",
       "<caption>A data.frame: 6 × 13</caption>\n",
       "<thead>\n",
       "\t<tr><th></th><th scope=col>ts</th><th scope=col>orig_port</th><th scope=col>resp_port</th><th scope=col>proto</th><th scope=col>duration</th><th scope=col>orig_bytes</th><th scope=col>resp_bytes</th><th scope=col>conn_state</th><th scope=col>missed_bytes</th><th scope=col>orig_pkts</th><th scope=col>orig_ip_bytes</th><th scope=col>resp_pkts</th><th scope=col>resp_ip_bytes</th></tr>\n",
       "\t<tr><th></th><th scope=col>&lt;dbl&gt;</th><th scope=col>&lt;dbl&gt;</th><th scope=col>&lt;dbl&gt;</th><th scope=col>&lt;fct&gt;</th><th scope=col>&lt;dbl&gt;</th><th scope=col>&lt;dbl&gt;</th><th scope=col>&lt;dbl&gt;</th><th scope=col>&lt;fct&gt;</th><th scope=col>&lt;dbl&gt;</th><th scope=col>&lt;dbl&gt;</th><th scope=col>&lt;dbl&gt;</th><th scope=col>&lt;dbl&gt;</th><th scope=col>&lt;dbl&gt;</th></tr>\n",
       "</thead>\n",
       "<tbody>\n",
       "\t<tr><th scope=row>1</th><td>1331915797</td><td> 2633</td><td>   80</td><td>tcp</td><td>14.27558</td><td>3106.15769</td><td>8028.114</td><td>RSTO</td><td>0</td><td> 8</td><td> 813</td><td>9</td><td>8505</td></tr>\n",
       "\t<tr><th scope=row>2</th><td>1331921224</td><td> 4094</td><td>   80</td><td>tcp</td><td> 0.01000</td><td>7085.00000</td><td> 172.000</td><td>RSTO</td><td>0</td><td>10</td><td>7497</td><td>9</td><td> 544</td></tr>\n",
       "\t<tr><th scope=row>3</th><td>1331903910</td><td>16066</td><td>12486</td><td>tcp</td><td>19.11555</td><td>  91.80019</td><td>  17.500</td><td>REJ </td><td>0</td><td> 1</td><td>  48</td><td>1</td><td>  40</td></tr>\n",
       "\t<tr><th scope=row>4</th><td>1331988939</td><td>42997</td><td>28745</td><td>tcp</td><td>19.04756</td><td>  90.60019</td><td>   1.600</td><td>REJ </td><td>0</td><td> 1</td><td>  60</td><td>1</td><td>  40</td></tr>\n",
       "\t<tr><th scope=row>5</th><td>1331918792</td><td>38566</td><td>32754</td><td>tcp</td><td>19.11132</td><td>  90.60019</td><td>  17.500</td><td>REJ </td><td>0</td><td> 1</td><td>  48</td><td>1</td><td>  40</td></tr>\n",
       "\t<tr><th scope=row>6</th><td>1331901863</td><td>63805</td><td>45078</td><td>tcp</td><td>19.05420</td><td>  91.80019</td><td>  17.500</td><td>REJ </td><td>0</td><td> 1</td><td>  44</td><td>1</td><td>  40</td></tr>\n",
       "</tbody>\n",
       "</table>\n"
      ],
      "text/latex": [
       "A data.frame: 6 × 13\n",
       "\\begin{tabular}{r|lllllllllllll}\n",
       "  & ts & orig\\_port & resp\\_port & proto & duration & orig\\_bytes & resp\\_bytes & conn\\_state & missed\\_bytes & orig\\_pkts & orig\\_ip\\_bytes & resp\\_pkts & resp\\_ip\\_bytes\\\\\n",
       "  & <dbl> & <dbl> & <dbl> & <fct> & <dbl> & <dbl> & <dbl> & <fct> & <dbl> & <dbl> & <dbl> & <dbl> & <dbl>\\\\\n",
       "\\hline\n",
       "\t1 & 1331915797 &  2633 &    80 & tcp & 14.27558 & 3106.15769 & 8028.114 & RSTO & 0 &  8 &  813 & 9 & 8505\\\\\n",
       "\t2 & 1331921224 &  4094 &    80 & tcp &  0.01000 & 7085.00000 &  172.000 & RSTO & 0 & 10 & 7497 & 9 &  544\\\\\n",
       "\t3 & 1331903910 & 16066 & 12486 & tcp & 19.11555 &   91.80019 &   17.500 & REJ  & 0 &  1 &   48 & 1 &   40\\\\\n",
       "\t4 & 1331988939 & 42997 & 28745 & tcp & 19.04756 &   90.60019 &    1.600 & REJ  & 0 &  1 &   60 & 1 &   40\\\\\n",
       "\t5 & 1331918792 & 38566 & 32754 & tcp & 19.11132 &   90.60019 &   17.500 & REJ  & 0 &  1 &   48 & 1 &   40\\\\\n",
       "\t6 & 1331901863 & 63805 & 45078 & tcp & 19.05420 &   91.80019 &   17.500 & REJ  & 0 &  1 &   44 & 1 &   40\\\\\n",
       "\\end{tabular}\n"
      ],
      "text/markdown": [
       "\n",
       "A data.frame: 6 × 13\n",
       "\n",
       "| <!--/--> | ts &lt;dbl&gt; | orig_port &lt;dbl&gt; | resp_port &lt;dbl&gt; | proto &lt;fct&gt; | duration &lt;dbl&gt; | orig_bytes &lt;dbl&gt; | resp_bytes &lt;dbl&gt; | conn_state &lt;fct&gt; | missed_bytes &lt;dbl&gt; | orig_pkts &lt;dbl&gt; | orig_ip_bytes &lt;dbl&gt; | resp_pkts &lt;dbl&gt; | resp_ip_bytes &lt;dbl&gt; |\n",
       "|---|---|---|---|---|---|---|---|---|---|---|---|---|---|\n",
       "| 1 | 1331915797 |  2633 |    80 | tcp | 14.27558 | 3106.15769 | 8028.114 | RSTO | 0 |  8 |  813 | 9 | 8505 |\n",
       "| 2 | 1331921224 |  4094 |    80 | tcp |  0.01000 | 7085.00000 |  172.000 | RSTO | 0 | 10 | 7497 | 9 |  544 |\n",
       "| 3 | 1331903910 | 16066 | 12486 | tcp | 19.11555 |   91.80019 |   17.500 | REJ  | 0 |  1 |   48 | 1 |   40 |\n",
       "| 4 | 1331988939 | 42997 | 28745 | tcp | 19.04756 |   90.60019 |    1.600 | REJ  | 0 |  1 |   60 | 1 |   40 |\n",
       "| 5 | 1331918792 | 38566 | 32754 | tcp | 19.11132 |   90.60019 |   17.500 | REJ  | 0 |  1 |   48 | 1 |   40 |\n",
       "| 6 | 1331901863 | 63805 | 45078 | tcp | 19.05420 |   91.80019 |   17.500 | REJ  | 0 |  1 |   44 | 1 |   40 |\n",
       "\n"
      ],
      "text/plain": [
       "  ts         orig_port resp_port proto duration orig_bytes resp_bytes\n",
       "1 1331915797  2633        80     tcp   14.27558 3106.15769 8028.114  \n",
       "2 1331921224  4094        80     tcp    0.01000 7085.00000  172.000  \n",
       "3 1331903910 16066     12486     tcp   19.11555   91.80019   17.500  \n",
       "4 1331988939 42997     28745     tcp   19.04756   90.60019    1.600  \n",
       "5 1331918792 38566     32754     tcp   19.11132   90.60019   17.500  \n",
       "6 1331901863 63805     45078     tcp   19.05420   91.80019   17.500  \n",
       "  conn_state missed_bytes orig_pkts orig_ip_bytes resp_pkts resp_ip_bytes\n",
       "1 RSTO       0             8         813          9         8505         \n",
       "2 RSTO       0            10        7497          9          544         \n",
       "3 REJ        0             1          48          1           40         \n",
       "4 REJ        0             1          60          1           40         \n",
       "5 REJ        0             1          48          1           40         \n",
       "6 REJ        0             1          44          1           40         "
      ]
     },
     "metadata": {},
     "output_type": "display_data"
    },
    {
     "data": {
      "text/html": [
       "<style>\n",
       ".dl-inline {width: auto; margin:0; padding: 0}\n",
       ".dl-inline>dt, .dl-inline>dd {float: none; width: auto; display: inline-block}\n",
       ".dl-inline>dt::after {content: \":\\0020\"; padding-right: .5ex}\n",
       ".dl-inline>dt:not(:first-of-type) {padding-left: .5ex}\n",
       "</style><dl class=dl-inline><dt>NRMSE</dt><dd>0.0194088737751045</dd><dt>PFC</dt><dd>0</dd></dl>\n"
      ],
      "text/latex": [
       "\\begin{description*}\n",
       "\\item[NRMSE] 0.0194088737751045\n",
       "\\item[PFC] 0\n",
       "\\end{description*}\n"
      ],
      "text/markdown": [
       "NRMSE\n",
       ":   0.0194088737751045PFC\n",
       ":   0\n",
       "\n"
      ],
      "text/plain": [
       "     NRMSE        PFC \n",
       "0.01940887 0.00000000 "
      ]
     },
     "metadata": {},
     "output_type": "display_data"
    }
   ],
   "source": [
    "output.forest1<-forest1$ximp\n",
    "head(output.forest1)\n",
    "forest1$OOBerror"
   ]
  },
  {
   "cell_type": "markdown",
   "metadata": {},
   "source": [
    "We can see that after two iterations, all missing data is imputed.\n",
    "\n",
    "At the same time, the function\"**$OOBerror**\" outputs two performance metrics:\n",
    "\n",
    "**NRMSE** represents \"normalized root mean squared error computed\"， which is a performance metric for continuous variable;\n",
    "\n",
    "**PFC** represents \"proportion of falsely classified\", which is a performance metric for discrete variable, since we are not predicting discrete variables, it is 0.\n",
    "\n",
    "### Researching parameters\n",
    "\n",
    "The algorithm involving random forest is a black box to some extent, but we have a basic understanding of its principles and steps. Here we adjust the two most important parameters of the model to apply to the real  data:\n",
    "\n",
    "\"**ntree**\" is the number of trees to grow in each forest, the default value is 100;\n",
    "\n",
    "\"**mtry**\" is also an important parameter, which means the number of variables randomly sampled at each split. This argument is directly supplied to the 'randomForest' function. Note that the default value is sqrt(p) for both categorical and continuous variables where p is the number of variables in data.\n",
    "\n",
    "### Establishing performance metrics\n",
    "\n",
    "We choose the built-in \"**NRMSE**\" as a metric. \n",
    "\n",
    "In addition, we calculate the **correlation coefficient** of three variables. For example, we calculate the correlation coefficient of the \"duration\" column in \"data_missing1\" (after imputation) and the \"duration\" column in \"data_complete1\", the closer this value is to 1, the more successful the imputation is.\n",
    "\n",
    "#### For \"ntree\"\n",
    "\n",
    "We take the values 10, 30, 50, 70, and 5, and then run the iterative algorithm respectively to get the data frame of the imputation.\n",
    "\n",
    "##### ntree = 30"
   ]
  },
  {
   "cell_type": "code",
   "execution_count": 152,
   "metadata": {},
   "outputs": [
    {
     "name": "stdout",
     "output_type": "stream",
     "text": [
      "  missForest iteration 1 in progress...done!\n",
      "    error(s): 1.233213 0 \n",
      "    estimated error(s): 0.01843294 0 \n",
      "    difference(s): 0.0005290394 0 \n",
      "    time: 43.05 seconds\n",
      "\n",
      "  missForest iteration 2 in progress...done!\n",
      "    error(s): 0.8774877 0 \n",
      "    estimated error(s): 0.01805376 0 \n",
      "    difference(s): 0.0004304837 0 \n",
      "    time: 42.9 seconds\n",
      "\n",
      "  missForest iteration 3 in progress...done!\n",
      "    error(s): 0.8313412 0 \n",
      "    estimated error(s): 0.01763182 0 \n",
      "    difference(s): 8.830291e-05 0 \n",
      "    time: 48.27 seconds\n",
      "\n",
      "  missForest iteration 4 in progress...done!\n",
      "    error(s): 0.8803801 0 \n",
      "    estimated error(s): 0.01756695 0 \n",
      "    difference(s): 6.75408e-05 0 \n",
      "    time: 45.88 seconds\n",
      "\n",
      "  missForest iteration 5 in progress...done!\n",
      "    error(s): 0.7488196 0 \n",
      "    estimated error(s): 0.01716752 0 \n",
      "    difference(s): 0.0001154925 0 \n",
      "    time: 47.24 seconds\n",
      "\n"
     ]
    }
   ],
   "source": [
    "forest2<- missForest(data.missing2, xtrue = data.complete2, verbose = TRUE, maxiter = 10, ntree = 30)"
   ]
  },
  {
   "cell_type": "code",
   "execution_count": 154,
   "metadata": {},
   "outputs": [
    {
     "data": {
      "text/html": [
       "<table>\n",
       "<caption>A data.frame: 6 × 13</caption>\n",
       "<thead>\n",
       "\t<tr><th></th><th scope=col>ts</th><th scope=col>orig_port</th><th scope=col>resp_port</th><th scope=col>proto</th><th scope=col>duration</th><th scope=col>orig_bytes</th><th scope=col>resp_bytes</th><th scope=col>conn_state</th><th scope=col>missed_bytes</th><th scope=col>orig_pkts</th><th scope=col>orig_ip_bytes</th><th scope=col>resp_pkts</th><th scope=col>resp_ip_bytes</th></tr>\n",
       "\t<tr><th></th><th scope=col>&lt;dbl&gt;</th><th scope=col>&lt;dbl&gt;</th><th scope=col>&lt;dbl&gt;</th><th scope=col>&lt;fct&gt;</th><th scope=col>&lt;dbl&gt;</th><th scope=col>&lt;dbl&gt;</th><th scope=col>&lt;dbl&gt;</th><th scope=col>&lt;fct&gt;</th><th scope=col>&lt;dbl&gt;</th><th scope=col>&lt;dbl&gt;</th><th scope=col>&lt;dbl&gt;</th><th scope=col>&lt;dbl&gt;</th><th scope=col>&lt;dbl&gt;</th></tr>\n",
       "</thead>\n",
       "<tbody>\n",
       "\t<tr><th scope=row>1</th><td>1331915797</td><td> 2633</td><td>   80</td><td>tcp</td><td>0.02846794</td><td>4.766848e+02</td><td>8.134712e+03</td><td>RSTO</td><td>0</td><td> 8</td><td> 813</td><td>9</td><td>8505</td></tr>\n",
       "\t<tr><th scope=row>2</th><td>1331921224</td><td> 4094</td><td>   80</td><td>tcp</td><td>0.01000000</td><td>7.085000e+03</td><td>1.720000e+02</td><td>RSTO</td><td>0</td><td>10</td><td>7497</td><td>9</td><td> 544</td></tr>\n",
       "\t<tr><th scope=row>3</th><td>1331903910</td><td>16066</td><td>12486</td><td>tcp</td><td>0.71132813</td><td>6.201778e-05</td><td>2.839698e-05</td><td>REJ </td><td>0</td><td> 1</td><td>  48</td><td>1</td><td>  40</td></tr>\n",
       "\t<tr><th scope=row>4</th><td>1331988939</td><td>42997</td><td>28745</td><td>tcp</td><td>0.02165369</td><td>6.201768e-05</td><td>2.839698e-05</td><td>REJ </td><td>0</td><td> 1</td><td>  60</td><td>1</td><td>  40</td></tr>\n",
       "\t<tr><th scope=row>5</th><td>1331918792</td><td>38566</td><td>32754</td><td>tcp</td><td>0.16481409</td><td>6.201768e-05</td><td>2.839698e-05</td><td>REJ </td><td>0</td><td> 1</td><td>  48</td><td>1</td><td>  40</td></tr>\n",
       "\t<tr><th scope=row>6</th><td>1331901863</td><td>63805</td><td>45078</td><td>tcp</td><td>0.19584980</td><td>6.201778e-05</td><td>2.839698e-05</td><td>REJ </td><td>0</td><td> 1</td><td>  44</td><td>1</td><td>  40</td></tr>\n",
       "</tbody>\n",
       "</table>\n"
      ],
      "text/latex": [
       "A data.frame: 6 × 13\n",
       "\\begin{tabular}{r|lllllllllllll}\n",
       "  & ts & orig\\_port & resp\\_port & proto & duration & orig\\_bytes & resp\\_bytes & conn\\_state & missed\\_bytes & orig\\_pkts & orig\\_ip\\_bytes & resp\\_pkts & resp\\_ip\\_bytes\\\\\n",
       "  & <dbl> & <dbl> & <dbl> & <fct> & <dbl> & <dbl> & <dbl> & <fct> & <dbl> & <dbl> & <dbl> & <dbl> & <dbl>\\\\\n",
       "\\hline\n",
       "\t1 & 1331915797 &  2633 &    80 & tcp & 0.02846794 & 4.766848e+02 & 8.134712e+03 & RSTO & 0 &  8 &  813 & 9 & 8505\\\\\n",
       "\t2 & 1331921224 &  4094 &    80 & tcp & 0.01000000 & 7.085000e+03 & 1.720000e+02 & RSTO & 0 & 10 & 7497 & 9 &  544\\\\\n",
       "\t3 & 1331903910 & 16066 & 12486 & tcp & 0.71132813 & 6.201778e-05 & 2.839698e-05 & REJ  & 0 &  1 &   48 & 1 &   40\\\\\n",
       "\t4 & 1331988939 & 42997 & 28745 & tcp & 0.02165369 & 6.201768e-05 & 2.839698e-05 & REJ  & 0 &  1 &   60 & 1 &   40\\\\\n",
       "\t5 & 1331918792 & 38566 & 32754 & tcp & 0.16481409 & 6.201768e-05 & 2.839698e-05 & REJ  & 0 &  1 &   48 & 1 &   40\\\\\n",
       "\t6 & 1331901863 & 63805 & 45078 & tcp & 0.19584980 & 6.201778e-05 & 2.839698e-05 & REJ  & 0 &  1 &   44 & 1 &   40\\\\\n",
       "\\end{tabular}\n"
      ],
      "text/markdown": [
       "\n",
       "A data.frame: 6 × 13\n",
       "\n",
       "| <!--/--> | ts &lt;dbl&gt; | orig_port &lt;dbl&gt; | resp_port &lt;dbl&gt; | proto &lt;fct&gt; | duration &lt;dbl&gt; | orig_bytes &lt;dbl&gt; | resp_bytes &lt;dbl&gt; | conn_state &lt;fct&gt; | missed_bytes &lt;dbl&gt; | orig_pkts &lt;dbl&gt; | orig_ip_bytes &lt;dbl&gt; | resp_pkts &lt;dbl&gt; | resp_ip_bytes &lt;dbl&gt; |\n",
       "|---|---|---|---|---|---|---|---|---|---|---|---|---|---|\n",
       "| 1 | 1331915797 |  2633 |    80 | tcp | 0.02846794 | 4.766848e+02 | 8.134712e+03 | RSTO | 0 |  8 |  813 | 9 | 8505 |\n",
       "| 2 | 1331921224 |  4094 |    80 | tcp | 0.01000000 | 7.085000e+03 | 1.720000e+02 | RSTO | 0 | 10 | 7497 | 9 |  544 |\n",
       "| 3 | 1331903910 | 16066 | 12486 | tcp | 0.71132813 | 6.201778e-05 | 2.839698e-05 | REJ  | 0 |  1 |   48 | 1 |   40 |\n",
       "| 4 | 1331988939 | 42997 | 28745 | tcp | 0.02165369 | 6.201768e-05 | 2.839698e-05 | REJ  | 0 |  1 |   60 | 1 |   40 |\n",
       "| 5 | 1331918792 | 38566 | 32754 | tcp | 0.16481409 | 6.201768e-05 | 2.839698e-05 | REJ  | 0 |  1 |   48 | 1 |   40 |\n",
       "| 6 | 1331901863 | 63805 | 45078 | tcp | 0.19584980 | 6.201778e-05 | 2.839698e-05 | REJ  | 0 |  1 |   44 | 1 |   40 |\n",
       "\n"
      ],
      "text/plain": [
       "  ts         orig_port resp_port proto duration   orig_bytes   resp_bytes  \n",
       "1 1331915797  2633        80     tcp   0.02846794 4.766848e+02 8.134712e+03\n",
       "2 1331921224  4094        80     tcp   0.01000000 7.085000e+03 1.720000e+02\n",
       "3 1331903910 16066     12486     tcp   0.71132813 6.201778e-05 2.839698e-05\n",
       "4 1331988939 42997     28745     tcp   0.02165369 6.201768e-05 2.839698e-05\n",
       "5 1331918792 38566     32754     tcp   0.16481409 6.201768e-05 2.839698e-05\n",
       "6 1331901863 63805     45078     tcp   0.19584980 6.201778e-05 2.839698e-05\n",
       "  conn_state missed_bytes orig_pkts orig_ip_bytes resp_pkts resp_ip_bytes\n",
       "1 RSTO       0             8         813          9         8505         \n",
       "2 RSTO       0            10        7497          9          544         \n",
       "3 REJ        0             1          48          1           40         \n",
       "4 REJ        0             1          60          1           40         \n",
       "5 REJ        0             1          48          1           40         \n",
       "6 REJ        0             1          44          1           40         "
      ]
     },
     "metadata": {},
     "output_type": "display_data"
    },
    {
     "data": {
      "text/html": [
       "<style>\n",
       ".dl-inline {width: auto; margin:0; padding: 0}\n",
       ".dl-inline>dt, .dl-inline>dd {float: none; width: auto; display: inline-block}\n",
       ".dl-inline>dt::after {content: \":\\0020\"; padding-right: .5ex}\n",
       ".dl-inline>dt:not(:first-of-type) {padding-left: .5ex}\n",
       "</style><dl class=dl-inline><dt>NRMSE</dt><dd>0.0175669497424145</dd><dt>PFC</dt><dd>0</dd></dl>\n"
      ],
      "text/latex": [
       "\\begin{description*}\n",
       "\\item[NRMSE] 0.0175669497424145\n",
       "\\item[PFC] 0\n",
       "\\end{description*}\n"
      ],
      "text/markdown": [
       "NRMSE\n",
       ":   0.0175669497424145PFC\n",
       ":   0\n",
       "\n"
      ],
      "text/plain": [
       "     NRMSE        PFC \n",
       "0.01756695 0.00000000 "
      ]
     },
     "metadata": {},
     "output_type": "display_data"
    }
   ],
   "source": [
    "output.forest2<-forest2$ximp\n",
    "head(output.forest2)\n",
    "forest2$OOBerror"
   ]
  },
  {
   "cell_type": "markdown",
   "metadata": {},
   "source": [
    "##### ntree = 50"
   ]
  },
  {
   "cell_type": "code",
   "execution_count": 155,
   "metadata": {},
   "outputs": [
    {
     "name": "stdout",
     "output_type": "stream",
     "text": [
      "  missForest iteration 1 in progress...done!\n",
      "    error(s): 1.134209 0 \n",
      "    estimated error(s): 0.01709791 0 \n",
      "    difference(s): 0.0003774341 0 \n",
      "    time: 76.12 seconds\n",
      "\n",
      "  missForest iteration 2 in progress...done!\n",
      "    error(s): 1.45594 0 \n",
      "    estimated error(s): 0.0161226 0 \n",
      "    difference(s): 0.0001907382 0 \n",
      "    time: 72.89 seconds\n",
      "\n",
      "  missForest iteration 3 in progress...done!\n",
      "    error(s): 0.755095 0 \n",
      "    estimated error(s): 0.01793464 0 \n",
      "    difference(s): 0.0007431185 0 \n",
      "    time: 68.4 seconds\n",
      "\n"
     ]
    }
   ],
   "source": [
    "forest3<- missForest(data.missing2, xtrue = data.complete2, verbose = TRUE, maxiter = 10, ntree = 50)"
   ]
  },
  {
   "cell_type": "code",
   "execution_count": 161,
   "metadata": {},
   "outputs": [
    {
     "data": {
      "text/html": [
       "<table>\n",
       "<caption>A data.frame: 6 × 13</caption>\n",
       "<thead>\n",
       "\t<tr><th></th><th scope=col>ts</th><th scope=col>orig_port</th><th scope=col>resp_port</th><th scope=col>proto</th><th scope=col>duration</th><th scope=col>orig_bytes</th><th scope=col>resp_bytes</th><th scope=col>conn_state</th><th scope=col>missed_bytes</th><th scope=col>orig_pkts</th><th scope=col>orig_ip_bytes</th><th scope=col>resp_pkts</th><th scope=col>resp_ip_bytes</th></tr>\n",
       "\t<tr><th></th><th scope=col>&lt;dbl&gt;</th><th scope=col>&lt;dbl&gt;</th><th scope=col>&lt;dbl&gt;</th><th scope=col>&lt;fct&gt;</th><th scope=col>&lt;dbl&gt;</th><th scope=col>&lt;dbl&gt;</th><th scope=col>&lt;dbl&gt;</th><th scope=col>&lt;fct&gt;</th><th scope=col>&lt;dbl&gt;</th><th scope=col>&lt;dbl&gt;</th><th scope=col>&lt;dbl&gt;</th><th scope=col>&lt;dbl&gt;</th><th scope=col>&lt;dbl&gt;</th></tr>\n",
       "</thead>\n",
       "<tbody>\n",
       "\t<tr><th scope=row>1</th><td>1331915797</td><td> 2633</td><td>   80</td><td>tcp</td><td>116.330727</td><td>2.571107e+07</td><td>9002.0559</td><td>RSTO</td><td>0</td><td> 8</td><td> 813</td><td>9</td><td>8505</td></tr>\n",
       "\t<tr><th scope=row>2</th><td>1331921224</td><td> 4094</td><td>   80</td><td>tcp</td><td>  0.010000</td><td>7.085000e+03</td><td> 172.0000</td><td>RSTO</td><td>0</td><td>10</td><td>7497</td><td>9</td><td> 544</td></tr>\n",
       "\t<tr><th scope=row>3</th><td>1331903910</td><td>16066</td><td>12486</td><td>tcp</td><td>  9.903606</td><td>1.383312e+03</td><td> 107.5925</td><td>REJ </td><td>0</td><td> 1</td><td>  48</td><td>1</td><td>  40</td></tr>\n",
       "\t<tr><th scope=row>4</th><td>1331988939</td><td>42997</td><td>28745</td><td>tcp</td><td>  7.963623</td><td>2.065337e+02</td><td>  56.9563</td><td>REJ </td><td>0</td><td> 1</td><td>  60</td><td>1</td><td>  40</td></tr>\n",
       "\t<tr><th scope=row>5</th><td>1331918792</td><td>38566</td><td>32754</td><td>tcp</td><td>  4.797414</td><td>1.452743e+02</td><td>  24.8763</td><td>REJ </td><td>0</td><td> 1</td><td>  48</td><td>1</td><td>  40</td></tr>\n",
       "\t<tr><th scope=row>6</th><td>1331901863</td><td>63805</td><td>45078</td><td>tcp</td><td>147.316195</td><td>1.065925e+08</td><td> 345.7650</td><td>REJ </td><td>0</td><td> 1</td><td>  44</td><td>1</td><td>  40</td></tr>\n",
       "</tbody>\n",
       "</table>\n"
      ],
      "text/latex": [
       "A data.frame: 6 × 13\n",
       "\\begin{tabular}{r|lllllllllllll}\n",
       "  & ts & orig\\_port & resp\\_port & proto & duration & orig\\_bytes & resp\\_bytes & conn\\_state & missed\\_bytes & orig\\_pkts & orig\\_ip\\_bytes & resp\\_pkts & resp\\_ip\\_bytes\\\\\n",
       "  & <dbl> & <dbl> & <dbl> & <fct> & <dbl> & <dbl> & <dbl> & <fct> & <dbl> & <dbl> & <dbl> & <dbl> & <dbl>\\\\\n",
       "\\hline\n",
       "\t1 & 1331915797 &  2633 &    80 & tcp & 116.330727 & 2.571107e+07 & 9002.0559 & RSTO & 0 &  8 &  813 & 9 & 8505\\\\\n",
       "\t2 & 1331921224 &  4094 &    80 & tcp &   0.010000 & 7.085000e+03 &  172.0000 & RSTO & 0 & 10 & 7497 & 9 &  544\\\\\n",
       "\t3 & 1331903910 & 16066 & 12486 & tcp &   9.903606 & 1.383312e+03 &  107.5925 & REJ  & 0 &  1 &   48 & 1 &   40\\\\\n",
       "\t4 & 1331988939 & 42997 & 28745 & tcp &   7.963623 & 2.065337e+02 &   56.9563 & REJ  & 0 &  1 &   60 & 1 &   40\\\\\n",
       "\t5 & 1331918792 & 38566 & 32754 & tcp &   4.797414 & 1.452743e+02 &   24.8763 & REJ  & 0 &  1 &   48 & 1 &   40\\\\\n",
       "\t6 & 1331901863 & 63805 & 45078 & tcp & 147.316195 & 1.065925e+08 &  345.7650 & REJ  & 0 &  1 &   44 & 1 &   40\\\\\n",
       "\\end{tabular}\n"
      ],
      "text/markdown": [
       "\n",
       "A data.frame: 6 × 13\n",
       "\n",
       "| <!--/--> | ts &lt;dbl&gt; | orig_port &lt;dbl&gt; | resp_port &lt;dbl&gt; | proto &lt;fct&gt; | duration &lt;dbl&gt; | orig_bytes &lt;dbl&gt; | resp_bytes &lt;dbl&gt; | conn_state &lt;fct&gt; | missed_bytes &lt;dbl&gt; | orig_pkts &lt;dbl&gt; | orig_ip_bytes &lt;dbl&gt; | resp_pkts &lt;dbl&gt; | resp_ip_bytes &lt;dbl&gt; |\n",
       "|---|---|---|---|---|---|---|---|---|---|---|---|---|---|\n",
       "| 1 | 1331915797 |  2633 |    80 | tcp | 116.330727 | 2.571107e+07 | 9002.0559 | RSTO | 0 |  8 |  813 | 9 | 8505 |\n",
       "| 2 | 1331921224 |  4094 |    80 | tcp |   0.010000 | 7.085000e+03 |  172.0000 | RSTO | 0 | 10 | 7497 | 9 |  544 |\n",
       "| 3 | 1331903910 | 16066 | 12486 | tcp |   9.903606 | 1.383312e+03 |  107.5925 | REJ  | 0 |  1 |   48 | 1 |   40 |\n",
       "| 4 | 1331988939 | 42997 | 28745 | tcp |   7.963623 | 2.065337e+02 |   56.9563 | REJ  | 0 |  1 |   60 | 1 |   40 |\n",
       "| 5 | 1331918792 | 38566 | 32754 | tcp |   4.797414 | 1.452743e+02 |   24.8763 | REJ  | 0 |  1 |   48 | 1 |   40 |\n",
       "| 6 | 1331901863 | 63805 | 45078 | tcp | 147.316195 | 1.065925e+08 |  345.7650 | REJ  | 0 |  1 |   44 | 1 |   40 |\n",
       "\n"
      ],
      "text/plain": [
       "  ts         orig_port resp_port proto duration   orig_bytes   resp_bytes\n",
       "1 1331915797  2633        80     tcp   116.330727 2.571107e+07 9002.0559 \n",
       "2 1331921224  4094        80     tcp     0.010000 7.085000e+03  172.0000 \n",
       "3 1331903910 16066     12486     tcp     9.903606 1.383312e+03  107.5925 \n",
       "4 1331988939 42997     28745     tcp     7.963623 2.065337e+02   56.9563 \n",
       "5 1331918792 38566     32754     tcp     4.797414 1.452743e+02   24.8763 \n",
       "6 1331901863 63805     45078     tcp   147.316195 1.065925e+08  345.7650 \n",
       "  conn_state missed_bytes orig_pkts orig_ip_bytes resp_pkts resp_ip_bytes\n",
       "1 RSTO       0             8         813          9         8505         \n",
       "2 RSTO       0            10        7497          9          544         \n",
       "3 REJ        0             1          48          1           40         \n",
       "4 REJ        0             1          60          1           40         \n",
       "5 REJ        0             1          48          1           40         \n",
       "6 REJ        0             1          44          1           40         "
      ]
     },
     "metadata": {},
     "output_type": "display_data"
    },
    {
     "data": {
      "text/html": [
       "<style>\n",
       ".dl-inline {width: auto; margin:0; padding: 0}\n",
       ".dl-inline>dt, .dl-inline>dd {float: none; width: auto; display: inline-block}\n",
       ".dl-inline>dt::after {content: \":\\0020\"; padding-right: .5ex}\n",
       ".dl-inline>dt:not(:first-of-type) {padding-left: .5ex}\n",
       "</style><dl class=dl-inline><dt>NRMSE</dt><dd>0.016122601873</dd><dt>PFC</dt><dd>0</dd></dl>\n"
      ],
      "text/latex": [
       "\\begin{description*}\n",
       "\\item[NRMSE] 0.016122601873\n",
       "\\item[PFC] 0\n",
       "\\end{description*}\n"
      ],
      "text/markdown": [
       "NRMSE\n",
       ":   0.016122601873PFC\n",
       ":   0\n",
       "\n"
      ],
      "text/plain": [
       "    NRMSE       PFC \n",
       "0.0161226 0.0000000 "
      ]
     },
     "metadata": {},
     "output_type": "display_data"
    }
   ],
   "source": [
    "output.forest3<-forest3$ximp\n",
    "head(output.forest3)\n",
    "forest3$OOBerror"
   ]
  },
  {
   "cell_type": "markdown",
   "metadata": {},
   "source": [
    "##### ntree = 70"
   ]
  },
  {
   "cell_type": "code",
   "execution_count": 162,
   "metadata": {},
   "outputs": [
    {
     "name": "stdout",
     "output_type": "stream",
     "text": [
      "  missForest iteration 1 in progress...done!\n",
      "    error(s): 1.037637 0 \n",
      "    estimated error(s): 0.01647088 0 \n",
      "    difference(s): 0.0003575509 0 \n",
      "    time: 111.19 seconds\n",
      "\n",
      "  missForest iteration 2 in progress...done!\n",
      "    error(s): 1.564563 0 \n",
      "    estimated error(s): 0.01683789 0 \n",
      "    difference(s): 0.0003678818 0 \n",
      "    time: 101.84 seconds\n",
      "\n"
     ]
    }
   ],
   "source": [
    "forest4<- missForest(data.missing2, xtrue = data.complete2, verbose = TRUE, maxiter = 10, ntree = 70)"
   ]
  },
  {
   "cell_type": "code",
   "execution_count": 163,
   "metadata": {},
   "outputs": [
    {
     "data": {
      "text/html": [
       "<table>\n",
       "<caption>A data.frame: 6 × 13</caption>\n",
       "<thead>\n",
       "\t<tr><th></th><th scope=col>ts</th><th scope=col>orig_port</th><th scope=col>resp_port</th><th scope=col>proto</th><th scope=col>duration</th><th scope=col>orig_bytes</th><th scope=col>resp_bytes</th><th scope=col>conn_state</th><th scope=col>missed_bytes</th><th scope=col>orig_pkts</th><th scope=col>orig_ip_bytes</th><th scope=col>resp_pkts</th><th scope=col>resp_ip_bytes</th></tr>\n",
       "\t<tr><th></th><th scope=col>&lt;dbl&gt;</th><th scope=col>&lt;dbl&gt;</th><th scope=col>&lt;dbl&gt;</th><th scope=col>&lt;fct&gt;</th><th scope=col>&lt;dbl&gt;</th><th scope=col>&lt;dbl&gt;</th><th scope=col>&lt;dbl&gt;</th><th scope=col>&lt;fct&gt;</th><th scope=col>&lt;dbl&gt;</th><th scope=col>&lt;dbl&gt;</th><th scope=col>&lt;dbl&gt;</th><th scope=col>&lt;dbl&gt;</th><th scope=col>&lt;dbl&gt;</th></tr>\n",
       "</thead>\n",
       "<tbody>\n",
       "\t<tr><th scope=row>1</th><td>1331915797</td><td> 2633</td><td>   80</td><td>tcp</td><td>23.52449</td><td>    1256.343</td><td>  7411.49810</td><td>RSTO</td><td>0</td><td> 8</td><td> 813</td><td>9</td><td>8505</td></tr>\n",
       "\t<tr><th scope=row>2</th><td>1331921224</td><td> 4094</td><td>   80</td><td>tcp</td><td> 0.01000</td><td>    7085.000</td><td>   172.00000</td><td>RSTO</td><td>0</td><td>10</td><td>7497</td><td>9</td><td> 544</td></tr>\n",
       "\t<tr><th scope=row>3</th><td>1331903910</td><td>16066</td><td>12486</td><td>tcp</td><td>77.29415</td><td>    6232.815</td><td>    79.28163</td><td>REJ </td><td>0</td><td> 1</td><td>  48</td><td>1</td><td>  40</td></tr>\n",
       "\t<tr><th scope=row>4</th><td>1331988939</td><td>42997</td><td>28745</td><td>tcp</td><td>35.47495</td><td>   13916.803</td><td>   147.75714</td><td>REJ </td><td>0</td><td> 1</td><td>  60</td><td>1</td><td>  40</td></tr>\n",
       "\t<tr><th scope=row>5</th><td>1331918792</td><td>38566</td><td>32754</td><td>tcp</td><td>77.74704</td><td>    5982.272</td><td>    45.79592</td><td>REJ </td><td>0</td><td> 1</td><td>  48</td><td>1</td><td>  40</td></tr>\n",
       "\t<tr><th scope=row>6</th><td>1331901863</td><td>63805</td><td>45078</td><td>tcp</td><td>35.27965</td><td>50762731.057</td><td>447009.60357</td><td>REJ </td><td>0</td><td> 1</td><td>  44</td><td>1</td><td>  40</td></tr>\n",
       "</tbody>\n",
       "</table>\n"
      ],
      "text/latex": [
       "A data.frame: 6 × 13\n",
       "\\begin{tabular}{r|lllllllllllll}\n",
       "  & ts & orig\\_port & resp\\_port & proto & duration & orig\\_bytes & resp\\_bytes & conn\\_state & missed\\_bytes & orig\\_pkts & orig\\_ip\\_bytes & resp\\_pkts & resp\\_ip\\_bytes\\\\\n",
       "  & <dbl> & <dbl> & <dbl> & <fct> & <dbl> & <dbl> & <dbl> & <fct> & <dbl> & <dbl> & <dbl> & <dbl> & <dbl>\\\\\n",
       "\\hline\n",
       "\t1 & 1331915797 &  2633 &    80 & tcp & 23.52449 &     1256.343 &   7411.49810 & RSTO & 0 &  8 &  813 & 9 & 8505\\\\\n",
       "\t2 & 1331921224 &  4094 &    80 & tcp &  0.01000 &     7085.000 &    172.00000 & RSTO & 0 & 10 & 7497 & 9 &  544\\\\\n",
       "\t3 & 1331903910 & 16066 & 12486 & tcp & 77.29415 &     6232.815 &     79.28163 & REJ  & 0 &  1 &   48 & 1 &   40\\\\\n",
       "\t4 & 1331988939 & 42997 & 28745 & tcp & 35.47495 &    13916.803 &    147.75714 & REJ  & 0 &  1 &   60 & 1 &   40\\\\\n",
       "\t5 & 1331918792 & 38566 & 32754 & tcp & 77.74704 &     5982.272 &     45.79592 & REJ  & 0 &  1 &   48 & 1 &   40\\\\\n",
       "\t6 & 1331901863 & 63805 & 45078 & tcp & 35.27965 & 50762731.057 & 447009.60357 & REJ  & 0 &  1 &   44 & 1 &   40\\\\\n",
       "\\end{tabular}\n"
      ],
      "text/markdown": [
       "\n",
       "A data.frame: 6 × 13\n",
       "\n",
       "| <!--/--> | ts &lt;dbl&gt; | orig_port &lt;dbl&gt; | resp_port &lt;dbl&gt; | proto &lt;fct&gt; | duration &lt;dbl&gt; | orig_bytes &lt;dbl&gt; | resp_bytes &lt;dbl&gt; | conn_state &lt;fct&gt; | missed_bytes &lt;dbl&gt; | orig_pkts &lt;dbl&gt; | orig_ip_bytes &lt;dbl&gt; | resp_pkts &lt;dbl&gt; | resp_ip_bytes &lt;dbl&gt; |\n",
       "|---|---|---|---|---|---|---|---|---|---|---|---|---|---|\n",
       "| 1 | 1331915797 |  2633 |    80 | tcp | 23.52449 |     1256.343 |   7411.49810 | RSTO | 0 |  8 |  813 | 9 | 8505 |\n",
       "| 2 | 1331921224 |  4094 |    80 | tcp |  0.01000 |     7085.000 |    172.00000 | RSTO | 0 | 10 | 7497 | 9 |  544 |\n",
       "| 3 | 1331903910 | 16066 | 12486 | tcp | 77.29415 |     6232.815 |     79.28163 | REJ  | 0 |  1 |   48 | 1 |   40 |\n",
       "| 4 | 1331988939 | 42997 | 28745 | tcp | 35.47495 |    13916.803 |    147.75714 | REJ  | 0 |  1 |   60 | 1 |   40 |\n",
       "| 5 | 1331918792 | 38566 | 32754 | tcp | 77.74704 |     5982.272 |     45.79592 | REJ  | 0 |  1 |   48 | 1 |   40 |\n",
       "| 6 | 1331901863 | 63805 | 45078 | tcp | 35.27965 | 50762731.057 | 447009.60357 | REJ  | 0 |  1 |   44 | 1 |   40 |\n",
       "\n"
      ],
      "text/plain": [
       "  ts         orig_port resp_port proto duration orig_bytes   resp_bytes  \n",
       "1 1331915797  2633        80     tcp   23.52449     1256.343   7411.49810\n",
       "2 1331921224  4094        80     tcp    0.01000     7085.000    172.00000\n",
       "3 1331903910 16066     12486     tcp   77.29415     6232.815     79.28163\n",
       "4 1331988939 42997     28745     tcp   35.47495    13916.803    147.75714\n",
       "5 1331918792 38566     32754     tcp   77.74704     5982.272     45.79592\n",
       "6 1331901863 63805     45078     tcp   35.27965 50762731.057 447009.60357\n",
       "  conn_state missed_bytes orig_pkts orig_ip_bytes resp_pkts resp_ip_bytes\n",
       "1 RSTO       0             8         813          9         8505         \n",
       "2 RSTO       0            10        7497          9          544         \n",
       "3 REJ        0             1          48          1           40         \n",
       "4 REJ        0             1          60          1           40         \n",
       "5 REJ        0             1          48          1           40         \n",
       "6 REJ        0             1          44          1           40         "
      ]
     },
     "metadata": {},
     "output_type": "display_data"
    },
    {
     "data": {
      "text/html": [
       "<style>\n",
       ".dl-inline {width: auto; margin:0; padding: 0}\n",
       ".dl-inline>dt, .dl-inline>dd {float: none; width: auto; display: inline-block}\n",
       ".dl-inline>dt::after {content: \":\\0020\"; padding-right: .5ex}\n",
       ".dl-inline>dt:not(:first-of-type) {padding-left: .5ex}\n",
       "</style><dl class=dl-inline><dt>NRMSE</dt><dd>0.0164708773349195</dd><dt>PFC</dt><dd>0</dd></dl>\n"
      ],
      "text/latex": [
       "\\begin{description*}\n",
       "\\item[NRMSE] 0.0164708773349195\n",
       "\\item[PFC] 0\n",
       "\\end{description*}\n"
      ],
      "text/markdown": [
       "NRMSE\n",
       ":   0.0164708773349195PFC\n",
       ":   0\n",
       "\n"
      ],
      "text/plain": [
       "     NRMSE        PFC \n",
       "0.01647088 0.00000000 "
      ]
     },
     "metadata": {},
     "output_type": "display_data"
    }
   ],
   "source": [
    "output.forest4<-forest4$ximp\n",
    "head(output.forest4)\n",
    "forest4$OOBerror"
   ]
  },
  {
   "cell_type": "markdown",
   "metadata": {},
   "source": [
    "##### ntree = 5"
   ]
  },
  {
   "cell_type": "code",
   "execution_count": 174,
   "metadata": {},
   "outputs": [
    {
     "name": "stdout",
     "output_type": "stream",
     "text": [
      "  missForest iteration 1 in progress...done!\n",
      "    error(s): 0.8923554 0 \n",
      "    estimated error(s): 0.02055043 0 \n",
      "    difference(s): 0.0001350903 0 \n",
      "    time: 7.97 seconds\n",
      "\n",
      "  missForest iteration 2 in progress...done!\n",
      "    error(s): 0.793912 0 \n",
      "    estimated error(s): 0.02035505 0 \n",
      "    difference(s): 0.0002398415 0 \n",
      "    time: 7.98 seconds\n",
      "\n"
     ]
    }
   ],
   "source": [
    "forest5<- missForest(data.missing2, xtrue = data.complete2, verbose = TRUE, maxiter = 10, ntree = 5)"
   ]
  },
  {
   "cell_type": "code",
   "execution_count": 175,
   "metadata": {},
   "outputs": [
    {
     "data": {
      "text/html": [
       "<table>\n",
       "<caption>A data.frame: 6 × 13</caption>\n",
       "<thead>\n",
       "\t<tr><th></th><th scope=col>ts</th><th scope=col>orig_port</th><th scope=col>resp_port</th><th scope=col>proto</th><th scope=col>duration</th><th scope=col>orig_bytes</th><th scope=col>resp_bytes</th><th scope=col>conn_state</th><th scope=col>missed_bytes</th><th scope=col>orig_pkts</th><th scope=col>orig_ip_bytes</th><th scope=col>resp_pkts</th><th scope=col>resp_ip_bytes</th></tr>\n",
       "\t<tr><th></th><th scope=col>&lt;dbl&gt;</th><th scope=col>&lt;dbl&gt;</th><th scope=col>&lt;dbl&gt;</th><th scope=col>&lt;fct&gt;</th><th scope=col>&lt;dbl&gt;</th><th scope=col>&lt;dbl&gt;</th><th scope=col>&lt;dbl&gt;</th><th scope=col>&lt;fct&gt;</th><th scope=col>&lt;dbl&gt;</th><th scope=col>&lt;dbl&gt;</th><th scope=col>&lt;dbl&gt;</th><th scope=col>&lt;dbl&gt;</th><th scope=col>&lt;dbl&gt;</th></tr>\n",
       "</thead>\n",
       "<tbody>\n",
       "\t<tr><th scope=row>1</th><td>1331915797</td><td> 2633</td><td>   80</td><td>tcp</td><td>3.28000000</td><td> 519.3273</td><td> 8.133000e+03</td><td>RSTO</td><td>0</td><td> 8</td><td> 813</td><td>9</td><td>8505</td></tr>\n",
       "\t<tr><th scope=row>2</th><td>1331921224</td><td> 4094</td><td>   80</td><td>tcp</td><td>0.01000000</td><td>7085.0000</td><td> 1.720000e+02</td><td>RSTO</td><td>0</td><td>10</td><td>7497</td><td>9</td><td> 544</td></tr>\n",
       "\t<tr><th scope=row>3</th><td>1331903910</td><td>16066</td><td>12486</td><td>tcp</td><td>0.14710218</td><td>  14.8000</td><td> 3.200000e+00</td><td>REJ </td><td>0</td><td> 1</td><td>  48</td><td>1</td><td>  40</td></tr>\n",
       "\t<tr><th scope=row>4</th><td>1331988939</td><td>42997</td><td>28745</td><td>tcp</td><td>0.01112933</td><td>  10.0000</td><td>-8.731149e-12</td><td>REJ </td><td>0</td><td> 1</td><td>  60</td><td>1</td><td>  40</td></tr>\n",
       "\t<tr><th scope=row>5</th><td>1331918792</td><td>38566</td><td>32754</td><td>tcp</td><td>0.13863008</td><td>  16.0000</td><td>-1.678018e-11</td><td>REJ </td><td>0</td><td> 1</td><td>  48</td><td>1</td><td>  40</td></tr>\n",
       "\t<tr><th scope=row>6</th><td>1331901863</td><td>63805</td><td>45078</td><td>tcp</td><td>0.02439315</td><td>  10.0000</td><td>-1.687113e-11</td><td>REJ </td><td>0</td><td> 1</td><td>  44</td><td>1</td><td>  40</td></tr>\n",
       "</tbody>\n",
       "</table>\n"
      ],
      "text/latex": [
       "A data.frame: 6 × 13\n",
       "\\begin{tabular}{r|lllllllllllll}\n",
       "  & ts & orig\\_port & resp\\_port & proto & duration & orig\\_bytes & resp\\_bytes & conn\\_state & missed\\_bytes & orig\\_pkts & orig\\_ip\\_bytes & resp\\_pkts & resp\\_ip\\_bytes\\\\\n",
       "  & <dbl> & <dbl> & <dbl> & <fct> & <dbl> & <dbl> & <dbl> & <fct> & <dbl> & <dbl> & <dbl> & <dbl> & <dbl>\\\\\n",
       "\\hline\n",
       "\t1 & 1331915797 &  2633 &    80 & tcp & 3.28000000 &  519.3273 &  8.133000e+03 & RSTO & 0 &  8 &  813 & 9 & 8505\\\\\n",
       "\t2 & 1331921224 &  4094 &    80 & tcp & 0.01000000 & 7085.0000 &  1.720000e+02 & RSTO & 0 & 10 & 7497 & 9 &  544\\\\\n",
       "\t3 & 1331903910 & 16066 & 12486 & tcp & 0.14710218 &   14.8000 &  3.200000e+00 & REJ  & 0 &  1 &   48 & 1 &   40\\\\\n",
       "\t4 & 1331988939 & 42997 & 28745 & tcp & 0.01112933 &   10.0000 & -8.731149e-12 & REJ  & 0 &  1 &   60 & 1 &   40\\\\\n",
       "\t5 & 1331918792 & 38566 & 32754 & tcp & 0.13863008 &   16.0000 & -1.678018e-11 & REJ  & 0 &  1 &   48 & 1 &   40\\\\\n",
       "\t6 & 1331901863 & 63805 & 45078 & tcp & 0.02439315 &   10.0000 & -1.687113e-11 & REJ  & 0 &  1 &   44 & 1 &   40\\\\\n",
       "\\end{tabular}\n"
      ],
      "text/markdown": [
       "\n",
       "A data.frame: 6 × 13\n",
       "\n",
       "| <!--/--> | ts &lt;dbl&gt; | orig_port &lt;dbl&gt; | resp_port &lt;dbl&gt; | proto &lt;fct&gt; | duration &lt;dbl&gt; | orig_bytes &lt;dbl&gt; | resp_bytes &lt;dbl&gt; | conn_state &lt;fct&gt; | missed_bytes &lt;dbl&gt; | orig_pkts &lt;dbl&gt; | orig_ip_bytes &lt;dbl&gt; | resp_pkts &lt;dbl&gt; | resp_ip_bytes &lt;dbl&gt; |\n",
       "|---|---|---|---|---|---|---|---|---|---|---|---|---|---|\n",
       "| 1 | 1331915797 |  2633 |    80 | tcp | 3.28000000 |  519.3273 |  8.133000e+03 | RSTO | 0 |  8 |  813 | 9 | 8505 |\n",
       "| 2 | 1331921224 |  4094 |    80 | tcp | 0.01000000 | 7085.0000 |  1.720000e+02 | RSTO | 0 | 10 | 7497 | 9 |  544 |\n",
       "| 3 | 1331903910 | 16066 | 12486 | tcp | 0.14710218 |   14.8000 |  3.200000e+00 | REJ  | 0 |  1 |   48 | 1 |   40 |\n",
       "| 4 | 1331988939 | 42997 | 28745 | tcp | 0.01112933 |   10.0000 | -8.731149e-12 | REJ  | 0 |  1 |   60 | 1 |   40 |\n",
       "| 5 | 1331918792 | 38566 | 32754 | tcp | 0.13863008 |   16.0000 | -1.678018e-11 | REJ  | 0 |  1 |   48 | 1 |   40 |\n",
       "| 6 | 1331901863 | 63805 | 45078 | tcp | 0.02439315 |   10.0000 | -1.687113e-11 | REJ  | 0 |  1 |   44 | 1 |   40 |\n",
       "\n"
      ],
      "text/plain": [
       "  ts         orig_port resp_port proto duration   orig_bytes resp_bytes   \n",
       "1 1331915797  2633        80     tcp   3.28000000  519.3273   8.133000e+03\n",
       "2 1331921224  4094        80     tcp   0.01000000 7085.0000   1.720000e+02\n",
       "3 1331903910 16066     12486     tcp   0.14710218   14.8000   3.200000e+00\n",
       "4 1331988939 42997     28745     tcp   0.01112933   10.0000  -8.731149e-12\n",
       "5 1331918792 38566     32754     tcp   0.13863008   16.0000  -1.678018e-11\n",
       "6 1331901863 63805     45078     tcp   0.02439315   10.0000  -1.687113e-11\n",
       "  conn_state missed_bytes orig_pkts orig_ip_bytes resp_pkts resp_ip_bytes\n",
       "1 RSTO       0             8         813          9         8505         \n",
       "2 RSTO       0            10        7497          9          544         \n",
       "3 REJ        0             1          48          1           40         \n",
       "4 REJ        0             1          60          1           40         \n",
       "5 REJ        0             1          48          1           40         \n",
       "6 REJ        0             1          44          1           40         "
      ]
     },
     "metadata": {},
     "output_type": "display_data"
    },
    {
     "data": {
      "text/html": [
       "<style>\n",
       ".dl-inline {width: auto; margin:0; padding: 0}\n",
       ".dl-inline>dt, .dl-inline>dd {float: none; width: auto; display: inline-block}\n",
       ".dl-inline>dt::after {content: \":\\0020\"; padding-right: .5ex}\n",
       ".dl-inline>dt:not(:first-of-type) {padding-left: .5ex}\n",
       "</style><dl class=dl-inline><dt>NRMSE</dt><dd>0.0205504299955888</dd><dt>PFC</dt><dd>0</dd></dl>\n"
      ],
      "text/latex": [
       "\\begin{description*}\n",
       "\\item[NRMSE] 0.0205504299955888\n",
       "\\item[PFC] 0\n",
       "\\end{description*}\n"
      ],
      "text/markdown": [
       "NRMSE\n",
       ":   0.0205504299955888PFC\n",
       ":   0\n",
       "\n"
      ],
      "text/plain": [
       "     NRMSE        PFC \n",
       "0.02055043 0.00000000 "
      ]
     },
     "metadata": {},
     "output_type": "display_data"
    }
   ],
   "source": [
    "output.forest5<-forest5$ximp\n",
    "head(output.forest5)\n",
    "forest5$OOBerror"
   ]
  },
  {
   "cell_type": "markdown",
   "metadata": {},
   "source": [
    "#### Calculating cor"
   ]
  },
  {
   "cell_type": "code",
   "execution_count": 206,
   "metadata": {},
   "outputs": [],
   "source": [
    "output.mean<-data.mean[,which(names(data.mean) %in% c(\"duration\",\"orig_bytes\",\"resp_bytes\"))]\n",
    "truth<-data.complete[,which(names(data.complete) %in% c(\"duration\",\"orig_bytes\",\"resp_bytes\"))]"
   ]
  },
  {
   "cell_type": "code",
   "execution_count": 209,
   "metadata": {},
   "outputs": [],
   "source": [
    "output.forest11<-output.forest1[,which(names(output.forest1) %in% c(\"duration\",\"orig_bytes\",\"resp_bytes\"))]\n",
    "output.forest22<-output.forest2[,which(names(output.forest2) %in% c(\"duration\",\"orig_bytes\",\"resp_bytes\"))]\n",
    "output.forest33<-output.forest3[,which(names(output.forest3) %in% c(\"duration\",\"orig_bytes\",\"resp_bytes\"))]\n",
    "output.forest44<-output.forest4[,which(names(output.forest4) %in% c(\"duration\",\"orig_bytes\",\"resp_bytes\"))]\n",
    "output.forest55<-output.forest5[,which(names(output.forest5) %in% c(\"duration\",\"orig_bytes\",\"resp_bytes\"))]"
   ]
  },
  {
   "cell_type": "code",
   "execution_count": 177,
   "metadata": {},
   "outputs": [
    {
     "name": "stdout",
     "output_type": "stream",
     "text": [
      "[1] \"ntree=10\"\n"
     ]
    },
    {
     "data": {
      "text/html": [
       "<style>\n",
       ".dl-inline {width: auto; margin:0; padding: 0}\n",
       ".dl-inline>dt, .dl-inline>dd {float: none; width: auto; display: inline-block}\n",
       ".dl-inline>dt::after {content: \":\\0020\"; padding-right: .5ex}\n",
       ".dl-inline>dt:not(:first-of-type) {padding-left: .5ex}\n",
       "</style><dl class=dl-inline><dt>duration</dt><dd>0.309641485087489</dd><dt>orig_bytes</dt><dd>0.705531727085389</dd><dt>resp_bytes</dt><dd>0.763823087718988</dd></dl>\n"
      ],
      "text/latex": [
       "\\begin{description*}\n",
       "\\item[duration] 0.309641485087489\n",
       "\\item[orig\\textbackslash{}\\_bytes] 0.705531727085389\n",
       "\\item[resp\\textbackslash{}\\_bytes] 0.763823087718988\n",
       "\\end{description*}\n"
      ],
      "text/markdown": [
       "duration\n",
       ":   0.309641485087489orig_bytes\n",
       ":   0.705531727085389resp_bytes\n",
       ":   0.763823087718988\n",
       "\n"
      ],
      "text/plain": [
       "  duration orig_bytes resp_bytes \n",
       " 0.3096415  0.7055317  0.7638231 "
      ]
     },
     "metadata": {},
     "output_type": "display_data"
    },
    {
     "data": {
      "text/html": [
       "<style>\n",
       ".dl-inline {width: auto; margin:0; padding: 0}\n",
       ".dl-inline>dt, .dl-inline>dd {float: none; width: auto; display: inline-block}\n",
       ".dl-inline>dt::after {content: \":\\0020\"; padding-right: .5ex}\n",
       ".dl-inline>dt:not(:first-of-type) {padding-left: .5ex}\n",
       "</style><dl class=dl-inline><dt>NRMSE</dt><dd>0.0194088737751045</dd><dt>PFC</dt><dd>0</dd></dl>\n"
      ],
      "text/latex": [
       "\\begin{description*}\n",
       "\\item[NRMSE] 0.0194088737751045\n",
       "\\item[PFC] 0\n",
       "\\end{description*}\n"
      ],
      "text/markdown": [
       "NRMSE\n",
       ":   0.0194088737751045PFC\n",
       ":   0\n",
       "\n"
      ],
      "text/plain": [
       "     NRMSE        PFC \n",
       "0.01940887 0.00000000 "
      ]
     },
     "metadata": {},
     "output_type": "display_data"
    },
    {
     "name": "stdout",
     "output_type": "stream",
     "text": [
      "[1] \"ntree=30\"\n"
     ]
    },
    {
     "data": {
      "text/html": [
       "<style>\n",
       ".dl-inline {width: auto; margin:0; padding: 0}\n",
       ".dl-inline>dt, .dl-inline>dd {float: none; width: auto; display: inline-block}\n",
       ".dl-inline>dt::after {content: \":\\0020\"; padding-right: .5ex}\n",
       ".dl-inline>dt:not(:first-of-type) {padding-left: .5ex}\n",
       "</style><dl class=dl-inline><dt>duration</dt><dd>0.293500831551487</dd><dt>orig_bytes</dt><dd>0.583855929620208</dd><dt>resp_bytes</dt><dd>0.781373738252885</dd></dl>\n"
      ],
      "text/latex": [
       "\\begin{description*}\n",
       "\\item[duration] 0.293500831551487\n",
       "\\item[orig\\textbackslash{}\\_bytes] 0.583855929620208\n",
       "\\item[resp\\textbackslash{}\\_bytes] 0.781373738252885\n",
       "\\end{description*}\n"
      ],
      "text/markdown": [
       "duration\n",
       ":   0.293500831551487orig_bytes\n",
       ":   0.583855929620208resp_bytes\n",
       ":   0.781373738252885\n",
       "\n"
      ],
      "text/plain": [
       "  duration orig_bytes resp_bytes \n",
       " 0.2935008  0.5838559  0.7813737 "
      ]
     },
     "metadata": {},
     "output_type": "display_data"
    },
    {
     "data": {
      "text/html": [
       "<style>\n",
       ".dl-inline {width: auto; margin:0; padding: 0}\n",
       ".dl-inline>dt, .dl-inline>dd {float: none; width: auto; display: inline-block}\n",
       ".dl-inline>dt::after {content: \":\\0020\"; padding-right: .5ex}\n",
       ".dl-inline>dt:not(:first-of-type) {padding-left: .5ex}\n",
       "</style><dl class=dl-inline><dt>NRMSE</dt><dd>0.0175669497424145</dd><dt>PFC</dt><dd>0</dd></dl>\n"
      ],
      "text/latex": [
       "\\begin{description*}\n",
       "\\item[NRMSE] 0.0175669497424145\n",
       "\\item[PFC] 0\n",
       "\\end{description*}\n"
      ],
      "text/markdown": [
       "NRMSE\n",
       ":   0.0175669497424145PFC\n",
       ":   0\n",
       "\n"
      ],
      "text/plain": [
       "     NRMSE        PFC \n",
       "0.01756695 0.00000000 "
      ]
     },
     "metadata": {},
     "output_type": "display_data"
    },
    {
     "name": "stdout",
     "output_type": "stream",
     "text": [
      "[1] \"ntree=50\"\n"
     ]
    },
    {
     "data": {
      "text/html": [
       "<style>\n",
       ".dl-inline {width: auto; margin:0; padding: 0}\n",
       ".dl-inline>dt, .dl-inline>dd {float: none; width: auto; display: inline-block}\n",
       ".dl-inline>dt::after {content: \":\\0020\"; padding-right: .5ex}\n",
       ".dl-inline>dt:not(:first-of-type) {padding-left: .5ex}\n",
       "</style><dl class=dl-inline><dt>duration</dt><dd>0.156657976321181</dd><dt>orig_bytes</dt><dd>0.388442607826021</dd><dt>resp_bytes</dt><dd>0.826570456879936</dd></dl>\n"
      ],
      "text/latex": [
       "\\begin{description*}\n",
       "\\item[duration] 0.156657976321181\n",
       "\\item[orig\\textbackslash{}\\_bytes] 0.388442607826021\n",
       "\\item[resp\\textbackslash{}\\_bytes] 0.826570456879936\n",
       "\\end{description*}\n"
      ],
      "text/markdown": [
       "duration\n",
       ":   0.156657976321181orig_bytes\n",
       ":   0.388442607826021resp_bytes\n",
       ":   0.826570456879936\n",
       "\n"
      ],
      "text/plain": [
       "  duration orig_bytes resp_bytes \n",
       " 0.1566580  0.3884426  0.8265705 "
      ]
     },
     "metadata": {},
     "output_type": "display_data"
    },
    {
     "data": {
      "text/html": [
       "<style>\n",
       ".dl-inline {width: auto; margin:0; padding: 0}\n",
       ".dl-inline>dt, .dl-inline>dd {float: none; width: auto; display: inline-block}\n",
       ".dl-inline>dt::after {content: \":\\0020\"; padding-right: .5ex}\n",
       ".dl-inline>dt:not(:first-of-type) {padding-left: .5ex}\n",
       "</style><dl class=dl-inline><dt>NRMSE</dt><dd>0.016122601873</dd><dt>PFC</dt><dd>0</dd></dl>\n"
      ],
      "text/latex": [
       "\\begin{description*}\n",
       "\\item[NRMSE] 0.016122601873\n",
       "\\item[PFC] 0\n",
       "\\end{description*}\n"
      ],
      "text/markdown": [
       "NRMSE\n",
       ":   0.016122601873PFC\n",
       ":   0\n",
       "\n"
      ],
      "text/plain": [
       "    NRMSE       PFC \n",
       "0.0161226 0.0000000 "
      ]
     },
     "metadata": {},
     "output_type": "display_data"
    },
    {
     "name": "stdout",
     "output_type": "stream",
     "text": [
      "[1] \"ntree=70\"\n"
     ]
    },
    {
     "data": {
      "text/html": [
       "<style>\n",
       ".dl-inline {width: auto; margin:0; padding: 0}\n",
       ".dl-inline>dt, .dl-inline>dd {float: none; width: auto; display: inline-block}\n",
       ".dl-inline>dt::after {content: \":\\0020\"; padding-right: .5ex}\n",
       ".dl-inline>dt:not(:first-of-type) {padding-left: .5ex}\n",
       "</style><dl class=dl-inline><dt>duration</dt><dd>0.224647010291725</dd><dt>orig_bytes</dt><dd>0.509252799273135</dd><dt>resp_bytes</dt><dd>0.411650951788024</dd></dl>\n"
      ],
      "text/latex": [
       "\\begin{description*}\n",
       "\\item[duration] 0.224647010291725\n",
       "\\item[orig\\textbackslash{}\\_bytes] 0.509252799273135\n",
       "\\item[resp\\textbackslash{}\\_bytes] 0.411650951788024\n",
       "\\end{description*}\n"
      ],
      "text/markdown": [
       "duration\n",
       ":   0.224647010291725orig_bytes\n",
       ":   0.509252799273135resp_bytes\n",
       ":   0.411650951788024\n",
       "\n"
      ],
      "text/plain": [
       "  duration orig_bytes resp_bytes \n",
       " 0.2246470  0.5092528  0.4116510 "
      ]
     },
     "metadata": {},
     "output_type": "display_data"
    },
    {
     "data": {
      "text/html": [
       "<style>\n",
       ".dl-inline {width: auto; margin:0; padding: 0}\n",
       ".dl-inline>dt, .dl-inline>dd {float: none; width: auto; display: inline-block}\n",
       ".dl-inline>dt::after {content: \":\\0020\"; padding-right: .5ex}\n",
       ".dl-inline>dt:not(:first-of-type) {padding-left: .5ex}\n",
       "</style><dl class=dl-inline><dt>NRMSE</dt><dd>0.0164708773349195</dd><dt>PFC</dt><dd>0</dd></dl>\n"
      ],
      "text/latex": [
       "\\begin{description*}\n",
       "\\item[NRMSE] 0.0164708773349195\n",
       "\\item[PFC] 0\n",
       "\\end{description*}\n"
      ],
      "text/markdown": [
       "NRMSE\n",
       ":   0.0164708773349195PFC\n",
       ":   0\n",
       "\n"
      ],
      "text/plain": [
       "     NRMSE        PFC \n",
       "0.01647088 0.00000000 "
      ]
     },
     "metadata": {},
     "output_type": "display_data"
    },
    {
     "name": "stdout",
     "output_type": "stream",
     "text": [
      "[1] \"ntree=5\"\n"
     ]
    },
    {
     "data": {
      "text/html": [
       "<style>\n",
       ".dl-inline {width: auto; margin:0; padding: 0}\n",
       ".dl-inline>dt, .dl-inline>dd {float: none; width: auto; display: inline-block}\n",
       ".dl-inline>dt::after {content: \":\\0020\"; padding-right: .5ex}\n",
       ".dl-inline>dt:not(:first-of-type) {padding-left: .5ex}\n",
       "</style><dl class=dl-inline><dt>duration</dt><dd>0.369604321292328</dd><dt>orig_bytes</dt><dd>0.564966357349993</dd><dt>resp_bytes</dt><dd>0.756445291441585</dd></dl>\n"
      ],
      "text/latex": [
       "\\begin{description*}\n",
       "\\item[duration] 0.369604321292328\n",
       "\\item[orig\\textbackslash{}\\_bytes] 0.564966357349993\n",
       "\\item[resp\\textbackslash{}\\_bytes] 0.756445291441585\n",
       "\\end{description*}\n"
      ],
      "text/markdown": [
       "duration\n",
       ":   0.369604321292328orig_bytes\n",
       ":   0.564966357349993resp_bytes\n",
       ":   0.756445291441585\n",
       "\n"
      ],
      "text/plain": [
       "  duration orig_bytes resp_bytes \n",
       " 0.3696043  0.5649664  0.7564453 "
      ]
     },
     "metadata": {},
     "output_type": "display_data"
    },
    {
     "data": {
      "text/html": [
       "<style>\n",
       ".dl-inline {width: auto; margin:0; padding: 0}\n",
       ".dl-inline>dt, .dl-inline>dd {float: none; width: auto; display: inline-block}\n",
       ".dl-inline>dt::after {content: \":\\0020\"; padding-right: .5ex}\n",
       ".dl-inline>dt:not(:first-of-type) {padding-left: .5ex}\n",
       "</style><dl class=dl-inline><dt>NRMSE</dt><dd>0.0205504299955888</dd><dt>PFC</dt><dd>0</dd></dl>\n"
      ],
      "text/latex": [
       "\\begin{description*}\n",
       "\\item[NRMSE] 0.0205504299955888\n",
       "\\item[PFC] 0\n",
       "\\end{description*}\n"
      ],
      "text/markdown": [
       "NRMSE\n",
       ":   0.0205504299955888PFC\n",
       ":   0\n",
       "\n"
      ],
      "text/plain": [
       "     NRMSE        PFC \n",
       "0.02055043 0.00000000 "
      ]
     },
     "metadata": {},
     "output_type": "display_data"
    }
   ],
   "source": [
    "print(\"ntree=10\")\n",
    "diag(cor(output.forest11, truth))\n",
    "forest1$OOBerror\n",
    "print(\"ntree=30\")\n",
    "diag(cor(output.forest22, truth))\n",
    "forest2$OOBerror\n",
    "print(\"ntree=50\")\n",
    "diag(cor(output.forest33, truth))\n",
    "forest3$OOBerror\n",
    "print(\"ntree=70\")\n",
    "diag(cor(output.forest44, truth))\n",
    "forest4$OOBerror\n",
    "print(\"ntree=5\")\n",
    "diag(cor(output.forest55, truth))\n",
    "forest5$OOBerror"
   ]
  },
  {
   "cell_type": "markdown",
   "metadata": {},
   "source": [
    "No model has all the best metrics. Here we mainly consider cor. \n",
    "\n",
    "In general, the model performs best when **ntree=10**, the prediction effect of \"orig_bytes\" is the best, and the prediction effect of \"duration\" and \"resp_bytes\" is also good.\n",
    "\n",
    "#### For mtry"
   ]
  },
  {
   "cell_type": "code",
   "execution_count": 114,
   "metadata": {},
   "outputs": [
    {
     "data": {
      "text/html": [
       "3"
      ],
      "text/latex": [
       "3"
      ],
      "text/markdown": [
       "3"
      ],
      "text/plain": [
       "[1] 3"
      ]
     },
     "metadata": {},
     "output_type": "display_data"
    }
   ],
   "source": [
    "floor(sqrt(ncol(data.missing2)))"
   ]
  },
  {
   "cell_type": "markdown",
   "metadata": {},
   "source": [
    "Its default value is 3, and then we choose 2, 4, 5.\n",
    "\n",
    "##### mtry = 2"
   ]
  },
  {
   "cell_type": "code",
   "execution_count": 178,
   "metadata": {},
   "outputs": [
    {
     "name": "stdout",
     "output_type": "stream",
     "text": [
      "  missForest iteration 1 in progress...done!\n",
      "    error(s): 0.8196982 0 \n",
      "    estimated error(s): 0.01881083 0 \n",
      "    difference(s): 0.0002292525 0 \n",
      "    time: 7.78 seconds\n",
      "\n",
      "  missForest iteration 2 in progress...done!\n",
      "    error(s): 0.7666994 0 \n",
      "    estimated error(s): 0.01841062 0 \n",
      "    difference(s): 0.0001141258 0 \n",
      "    time: 7.69 seconds\n",
      "\n",
      "  missForest iteration 3 in progress...done!\n",
      "    error(s): 0.8568192 0 \n",
      "    estimated error(s): 0.02071922 0 \n",
      "    difference(s): 9.366762e-05 0 \n",
      "    time: 7.83 seconds\n",
      "\n",
      "  missForest iteration 4 in progress...done!\n",
      "    error(s): 0.7283854 0 \n",
      "    estimated error(s): 0.01683268 0 \n",
      "    difference(s): 7.065194e-05 0 \n",
      "    time: 8.41 seconds\n",
      "\n",
      "  missForest iteration 5 in progress...done!\n",
      "    error(s): 0.7659311 0 \n",
      "    estimated error(s): 0.01809248 0 \n",
      "    difference(s): 7.038159e-05 0 \n",
      "    time: 7.51 seconds\n",
      "\n",
      "  missForest iteration 6 in progress...done!\n",
      "    error(s): 0.697914 0 \n",
      "    estimated error(s): 0.01891445 0 \n",
      "    difference(s): 8.16905e-05 0 \n",
      "    time: 7.72 seconds\n",
      "\n"
     ]
    }
   ],
   "source": [
    "forest6<- missForest(data.missing2, xtrue = data.complete2, verbose = TRUE, maxiter = 10, ntree = 10, \"mtry\" = 2)"
   ]
  },
  {
   "cell_type": "code",
   "execution_count": 181,
   "metadata": {},
   "outputs": [
    {
     "data": {
      "text/html": [
       "<table>\n",
       "<caption>A data.frame: 6 × 13</caption>\n",
       "<thead>\n",
       "\t<tr><th></th><th scope=col>ts</th><th scope=col>orig_port</th><th scope=col>resp_port</th><th scope=col>proto</th><th scope=col>duration</th><th scope=col>orig_bytes</th><th scope=col>resp_bytes</th><th scope=col>conn_state</th><th scope=col>missed_bytes</th><th scope=col>orig_pkts</th><th scope=col>orig_ip_bytes</th><th scope=col>resp_pkts</th><th scope=col>resp_ip_bytes</th></tr>\n",
       "\t<tr><th></th><th scope=col>&lt;dbl&gt;</th><th scope=col>&lt;dbl&gt;</th><th scope=col>&lt;dbl&gt;</th><th scope=col>&lt;fct&gt;</th><th scope=col>&lt;dbl&gt;</th><th scope=col>&lt;dbl&gt;</th><th scope=col>&lt;dbl&gt;</th><th scope=col>&lt;fct&gt;</th><th scope=col>&lt;dbl&gt;</th><th scope=col>&lt;dbl&gt;</th><th scope=col>&lt;dbl&gt;</th><th scope=col>&lt;dbl&gt;</th><th scope=col>&lt;dbl&gt;</th></tr>\n",
       "</thead>\n",
       "<tbody>\n",
       "\t<tr><th scope=row>1</th><td>1331915797</td><td> 2633</td><td>   80</td><td>tcp</td><td>3.28000000</td><td> 519.3273</td><td> 8.133000e+03</td><td>RSTO</td><td>0</td><td> 8</td><td> 813</td><td>9</td><td>8505</td></tr>\n",
       "\t<tr><th scope=row>2</th><td>1331921224</td><td> 4094</td><td>   80</td><td>tcp</td><td>0.01000000</td><td>7085.0000</td><td> 1.720000e+02</td><td>RSTO</td><td>0</td><td>10</td><td>7497</td><td>9</td><td> 544</td></tr>\n",
       "\t<tr><th scope=row>3</th><td>1331903910</td><td>16066</td><td>12486</td><td>tcp</td><td>0.14710218</td><td>  14.8000</td><td> 3.200000e+00</td><td>REJ </td><td>0</td><td> 1</td><td>  48</td><td>1</td><td>  40</td></tr>\n",
       "\t<tr><th scope=row>4</th><td>1331988939</td><td>42997</td><td>28745</td><td>tcp</td><td>0.01112933</td><td>  10.0000</td><td>-8.731149e-12</td><td>REJ </td><td>0</td><td> 1</td><td>  60</td><td>1</td><td>  40</td></tr>\n",
       "\t<tr><th scope=row>5</th><td>1331918792</td><td>38566</td><td>32754</td><td>tcp</td><td>0.13863008</td><td>  16.0000</td><td>-1.678018e-11</td><td>REJ </td><td>0</td><td> 1</td><td>  48</td><td>1</td><td>  40</td></tr>\n",
       "\t<tr><th scope=row>6</th><td>1331901863</td><td>63805</td><td>45078</td><td>tcp</td><td>0.02439315</td><td>  10.0000</td><td>-1.687113e-11</td><td>REJ </td><td>0</td><td> 1</td><td>  44</td><td>1</td><td>  40</td></tr>\n",
       "</tbody>\n",
       "</table>\n"
      ],
      "text/latex": [
       "A data.frame: 6 × 13\n",
       "\\begin{tabular}{r|lllllllllllll}\n",
       "  & ts & orig\\_port & resp\\_port & proto & duration & orig\\_bytes & resp\\_bytes & conn\\_state & missed\\_bytes & orig\\_pkts & orig\\_ip\\_bytes & resp\\_pkts & resp\\_ip\\_bytes\\\\\n",
       "  & <dbl> & <dbl> & <dbl> & <fct> & <dbl> & <dbl> & <dbl> & <fct> & <dbl> & <dbl> & <dbl> & <dbl> & <dbl>\\\\\n",
       "\\hline\n",
       "\t1 & 1331915797 &  2633 &    80 & tcp & 3.28000000 &  519.3273 &  8.133000e+03 & RSTO & 0 &  8 &  813 & 9 & 8505\\\\\n",
       "\t2 & 1331921224 &  4094 &    80 & tcp & 0.01000000 & 7085.0000 &  1.720000e+02 & RSTO & 0 & 10 & 7497 & 9 &  544\\\\\n",
       "\t3 & 1331903910 & 16066 & 12486 & tcp & 0.14710218 &   14.8000 &  3.200000e+00 & REJ  & 0 &  1 &   48 & 1 &   40\\\\\n",
       "\t4 & 1331988939 & 42997 & 28745 & tcp & 0.01112933 &   10.0000 & -8.731149e-12 & REJ  & 0 &  1 &   60 & 1 &   40\\\\\n",
       "\t5 & 1331918792 & 38566 & 32754 & tcp & 0.13863008 &   16.0000 & -1.678018e-11 & REJ  & 0 &  1 &   48 & 1 &   40\\\\\n",
       "\t6 & 1331901863 & 63805 & 45078 & tcp & 0.02439315 &   10.0000 & -1.687113e-11 & REJ  & 0 &  1 &   44 & 1 &   40\\\\\n",
       "\\end{tabular}\n"
      ],
      "text/markdown": [
       "\n",
       "A data.frame: 6 × 13\n",
       "\n",
       "| <!--/--> | ts &lt;dbl&gt; | orig_port &lt;dbl&gt; | resp_port &lt;dbl&gt; | proto &lt;fct&gt; | duration &lt;dbl&gt; | orig_bytes &lt;dbl&gt; | resp_bytes &lt;dbl&gt; | conn_state &lt;fct&gt; | missed_bytes &lt;dbl&gt; | orig_pkts &lt;dbl&gt; | orig_ip_bytes &lt;dbl&gt; | resp_pkts &lt;dbl&gt; | resp_ip_bytes &lt;dbl&gt; |\n",
       "|---|---|---|---|---|---|---|---|---|---|---|---|---|---|\n",
       "| 1 | 1331915797 |  2633 |    80 | tcp | 3.28000000 |  519.3273 |  8.133000e+03 | RSTO | 0 |  8 |  813 | 9 | 8505 |\n",
       "| 2 | 1331921224 |  4094 |    80 | tcp | 0.01000000 | 7085.0000 |  1.720000e+02 | RSTO | 0 | 10 | 7497 | 9 |  544 |\n",
       "| 3 | 1331903910 | 16066 | 12486 | tcp | 0.14710218 |   14.8000 |  3.200000e+00 | REJ  | 0 |  1 |   48 | 1 |   40 |\n",
       "| 4 | 1331988939 | 42997 | 28745 | tcp | 0.01112933 |   10.0000 | -8.731149e-12 | REJ  | 0 |  1 |   60 | 1 |   40 |\n",
       "| 5 | 1331918792 | 38566 | 32754 | tcp | 0.13863008 |   16.0000 | -1.678018e-11 | REJ  | 0 |  1 |   48 | 1 |   40 |\n",
       "| 6 | 1331901863 | 63805 | 45078 | tcp | 0.02439315 |   10.0000 | -1.687113e-11 | REJ  | 0 |  1 |   44 | 1 |   40 |\n",
       "\n"
      ],
      "text/plain": [
       "  ts         orig_port resp_port proto duration   orig_bytes resp_bytes   \n",
       "1 1331915797  2633        80     tcp   3.28000000  519.3273   8.133000e+03\n",
       "2 1331921224  4094        80     tcp   0.01000000 7085.0000   1.720000e+02\n",
       "3 1331903910 16066     12486     tcp   0.14710218   14.8000   3.200000e+00\n",
       "4 1331988939 42997     28745     tcp   0.01112933   10.0000  -8.731149e-12\n",
       "5 1331918792 38566     32754     tcp   0.13863008   16.0000  -1.678018e-11\n",
       "6 1331901863 63805     45078     tcp   0.02439315   10.0000  -1.687113e-11\n",
       "  conn_state missed_bytes orig_pkts orig_ip_bytes resp_pkts resp_ip_bytes\n",
       "1 RSTO       0             8         813          9         8505         \n",
       "2 RSTO       0            10        7497          9          544         \n",
       "3 REJ        0             1          48          1           40         \n",
       "4 REJ        0             1          60          1           40         \n",
       "5 REJ        0             1          48          1           40         \n",
       "6 REJ        0             1          44          1           40         "
      ]
     },
     "metadata": {},
     "output_type": "display_data"
    },
    {
     "data": {
      "text/html": [
       "<style>\n",
       ".dl-inline {width: auto; margin:0; padding: 0}\n",
       ".dl-inline>dt, .dl-inline>dd {float: none; width: auto; display: inline-block}\n",
       ".dl-inline>dt::after {content: \":\\0020\"; padding-right: .5ex}\n",
       ".dl-inline>dt:not(:first-of-type) {padding-left: .5ex}\n",
       "</style><dl class=dl-inline><dt>NRMSE</dt><dd>0.0180924783064488</dd><dt>PFC</dt><dd>0</dd></dl>\n"
      ],
      "text/latex": [
       "\\begin{description*}\n",
       "\\item[NRMSE] 0.0180924783064488\n",
       "\\item[PFC] 0\n",
       "\\end{description*}\n"
      ],
      "text/markdown": [
       "NRMSE\n",
       ":   0.0180924783064488PFC\n",
       ":   0\n",
       "\n"
      ],
      "text/plain": [
       "     NRMSE        PFC \n",
       "0.01809248 0.00000000 "
      ]
     },
     "metadata": {},
     "output_type": "display_data"
    }
   ],
   "source": [
    "output.forest6<-forest6$ximp\n",
    "head(output.forest5)\n",
    "forest6$OOBerror"
   ]
  },
  {
   "cell_type": "markdown",
   "metadata": {},
   "source": [
    "##### mtry = 4"
   ]
  },
  {
   "cell_type": "code",
   "execution_count": 184,
   "metadata": {},
   "outputs": [
    {
     "name": "stdout",
     "output_type": "stream",
     "text": [
      "  missForest iteration 1 in progress...done!\n",
      "    error(s): 1.381456 0 \n",
      "    estimated error(s): 0.01850885 0 \n",
      "    difference(s): 0.0007801001 0 \n",
      "    time: 23.32 seconds\n",
      "\n",
      "  missForest iteration 2 in progress...done!\n",
      "    error(s): 0.804288 0 \n",
      "    estimated error(s): 0.02000478 0 \n",
      "    difference(s): 0.0006638453 0 \n",
      "    time: 24.88 seconds\n",
      "\n",
      "  missForest iteration 3 in progress...done!\n",
      "    error(s): 0.8226243 0 \n",
      "    estimated error(s): 0.01886127 0 \n",
      "    difference(s): 0.0001260654 0 \n",
      "    time: 23.24 seconds\n",
      "\n",
      "  missForest iteration 4 in progress...done!\n",
      "    error(s): 0.7560208 0 \n",
      "    estimated error(s): 0.0166421 0 \n",
      "    difference(s): 0.0001027844 0 \n",
      "    time: 23.25 seconds\n",
      "\n",
      "  missForest iteration 5 in progress...done!\n",
      "    error(s): 0.6945296 0 \n",
      "    estimated error(s): 0.0169862 0 \n",
      "    difference(s): 9.995109e-05 0 \n",
      "    time: 24.67 seconds\n",
      "\n",
      "  missForest iteration 6 in progress...done!\n",
      "    error(s): 0.7538138 0 \n",
      "    estimated error(s): 0.01878334 0 \n",
      "    difference(s): 7.880573e-05 0 \n",
      "    time: 24.64 seconds\n",
      "\n",
      "  missForest iteration 7 in progress...done!\n",
      "    error(s): 0.7541858 0 \n",
      "    estimated error(s): 0.01907831 0 \n",
      "    difference(s): 0.0001064614 0 \n",
      "    time: 35.01 seconds\n",
      "\n"
     ]
    }
   ],
   "source": [
    "forest7<- missForest(data.missing2, xtrue = data.complete2, verbose = TRUE, maxiter = 10, ntree = 10, \"mtry\" = 4)"
   ]
  },
  {
   "cell_type": "code",
   "execution_count": 186,
   "metadata": {},
   "outputs": [
    {
     "data": {
      "text/html": [
       "<table>\n",
       "<caption>A data.frame: 6 × 13</caption>\n",
       "<thead>\n",
       "\t<tr><th></th><th scope=col>ts</th><th scope=col>orig_port</th><th scope=col>resp_port</th><th scope=col>proto</th><th scope=col>duration</th><th scope=col>orig_bytes</th><th scope=col>resp_bytes</th><th scope=col>conn_state</th><th scope=col>missed_bytes</th><th scope=col>orig_pkts</th><th scope=col>orig_ip_bytes</th><th scope=col>resp_pkts</th><th scope=col>resp_ip_bytes</th></tr>\n",
       "\t<tr><th></th><th scope=col>&lt;dbl&gt;</th><th scope=col>&lt;dbl&gt;</th><th scope=col>&lt;dbl&gt;</th><th scope=col>&lt;fct&gt;</th><th scope=col>&lt;dbl&gt;</th><th scope=col>&lt;dbl&gt;</th><th scope=col>&lt;dbl&gt;</th><th scope=col>&lt;fct&gt;</th><th scope=col>&lt;dbl&gt;</th><th scope=col>&lt;dbl&gt;</th><th scope=col>&lt;dbl&gt;</th><th scope=col>&lt;dbl&gt;</th><th scope=col>&lt;dbl&gt;</th></tr>\n",
       "</thead>\n",
       "<tbody>\n",
       "\t<tr><th scope=row>1</th><td>1331915797</td><td> 2633</td><td>   80</td><td>tcp</td><td>0.02084615</td><td>4.813591e+02</td><td> 8.133000e+03</td><td>RSTO</td><td>0</td><td> 8</td><td> 813</td><td>9</td><td>8505</td></tr>\n",
       "\t<tr><th scope=row>2</th><td>1331921224</td><td> 4094</td><td>   80</td><td>tcp</td><td>0.01000000</td><td>7.085000e+03</td><td> 1.720000e+02</td><td>RSTO</td><td>0</td><td>10</td><td>7497</td><td>9</td><td> 544</td></tr>\n",
       "\t<tr><th scope=row>3</th><td>1331903910</td><td>16066</td><td>12486</td><td>tcp</td><td>0.17579246</td><td>7.852144e-06</td><td>-7.207746e-11</td><td>REJ </td><td>0</td><td> 1</td><td>  48</td><td>1</td><td>  40</td></tr>\n",
       "\t<tr><th scope=row>4</th><td>1331988939</td><td>42997</td><td>28745</td><td>tcp</td><td>0.02063501</td><td>7.852144e-06</td><td>-7.207746e-11</td><td>REJ </td><td>0</td><td> 1</td><td>  60</td><td>1</td><td>  40</td></tr>\n",
       "\t<tr><th scope=row>5</th><td>1331918792</td><td>38566</td><td>32754</td><td>tcp</td><td>0.16285284</td><td>7.852144e-06</td><td>-7.207746e-11</td><td>REJ </td><td>0</td><td> 1</td><td>  48</td><td>1</td><td>  40</td></tr>\n",
       "\t<tr><th scope=row>6</th><td>1331901863</td><td>63805</td><td>45078</td><td>tcp</td><td>0.02665109</td><td>7.852144e-06</td><td>-7.207746e-11</td><td>REJ </td><td>0</td><td> 1</td><td>  44</td><td>1</td><td>  40</td></tr>\n",
       "</tbody>\n",
       "</table>\n"
      ],
      "text/latex": [
       "A data.frame: 6 × 13\n",
       "\\begin{tabular}{r|lllllllllllll}\n",
       "  & ts & orig\\_port & resp\\_port & proto & duration & orig\\_bytes & resp\\_bytes & conn\\_state & missed\\_bytes & orig\\_pkts & orig\\_ip\\_bytes & resp\\_pkts & resp\\_ip\\_bytes\\\\\n",
       "  & <dbl> & <dbl> & <dbl> & <fct> & <dbl> & <dbl> & <dbl> & <fct> & <dbl> & <dbl> & <dbl> & <dbl> & <dbl>\\\\\n",
       "\\hline\n",
       "\t1 & 1331915797 &  2633 &    80 & tcp & 0.02084615 & 4.813591e+02 &  8.133000e+03 & RSTO & 0 &  8 &  813 & 9 & 8505\\\\\n",
       "\t2 & 1331921224 &  4094 &    80 & tcp & 0.01000000 & 7.085000e+03 &  1.720000e+02 & RSTO & 0 & 10 & 7497 & 9 &  544\\\\\n",
       "\t3 & 1331903910 & 16066 & 12486 & tcp & 0.17579246 & 7.852144e-06 & -7.207746e-11 & REJ  & 0 &  1 &   48 & 1 &   40\\\\\n",
       "\t4 & 1331988939 & 42997 & 28745 & tcp & 0.02063501 & 7.852144e-06 & -7.207746e-11 & REJ  & 0 &  1 &   60 & 1 &   40\\\\\n",
       "\t5 & 1331918792 & 38566 & 32754 & tcp & 0.16285284 & 7.852144e-06 & -7.207746e-11 & REJ  & 0 &  1 &   48 & 1 &   40\\\\\n",
       "\t6 & 1331901863 & 63805 & 45078 & tcp & 0.02665109 & 7.852144e-06 & -7.207746e-11 & REJ  & 0 &  1 &   44 & 1 &   40\\\\\n",
       "\\end{tabular}\n"
      ],
      "text/markdown": [
       "\n",
       "A data.frame: 6 × 13\n",
       "\n",
       "| <!--/--> | ts &lt;dbl&gt; | orig_port &lt;dbl&gt; | resp_port &lt;dbl&gt; | proto &lt;fct&gt; | duration &lt;dbl&gt; | orig_bytes &lt;dbl&gt; | resp_bytes &lt;dbl&gt; | conn_state &lt;fct&gt; | missed_bytes &lt;dbl&gt; | orig_pkts &lt;dbl&gt; | orig_ip_bytes &lt;dbl&gt; | resp_pkts &lt;dbl&gt; | resp_ip_bytes &lt;dbl&gt; |\n",
       "|---|---|---|---|---|---|---|---|---|---|---|---|---|---|\n",
       "| 1 | 1331915797 |  2633 |    80 | tcp | 0.02084615 | 4.813591e+02 |  8.133000e+03 | RSTO | 0 |  8 |  813 | 9 | 8505 |\n",
       "| 2 | 1331921224 |  4094 |    80 | tcp | 0.01000000 | 7.085000e+03 |  1.720000e+02 | RSTO | 0 | 10 | 7497 | 9 |  544 |\n",
       "| 3 | 1331903910 | 16066 | 12486 | tcp | 0.17579246 | 7.852144e-06 | -7.207746e-11 | REJ  | 0 |  1 |   48 | 1 |   40 |\n",
       "| 4 | 1331988939 | 42997 | 28745 | tcp | 0.02063501 | 7.852144e-06 | -7.207746e-11 | REJ  | 0 |  1 |   60 | 1 |   40 |\n",
       "| 5 | 1331918792 | 38566 | 32754 | tcp | 0.16285284 | 7.852144e-06 | -7.207746e-11 | REJ  | 0 |  1 |   48 | 1 |   40 |\n",
       "| 6 | 1331901863 | 63805 | 45078 | tcp | 0.02665109 | 7.852144e-06 | -7.207746e-11 | REJ  | 0 |  1 |   44 | 1 |   40 |\n",
       "\n"
      ],
      "text/plain": [
       "  ts         orig_port resp_port proto duration   orig_bytes   resp_bytes   \n",
       "1 1331915797  2633        80     tcp   0.02084615 4.813591e+02  8.133000e+03\n",
       "2 1331921224  4094        80     tcp   0.01000000 7.085000e+03  1.720000e+02\n",
       "3 1331903910 16066     12486     tcp   0.17579246 7.852144e-06 -7.207746e-11\n",
       "4 1331988939 42997     28745     tcp   0.02063501 7.852144e-06 -7.207746e-11\n",
       "5 1331918792 38566     32754     tcp   0.16285284 7.852144e-06 -7.207746e-11\n",
       "6 1331901863 63805     45078     tcp   0.02665109 7.852144e-06 -7.207746e-11\n",
       "  conn_state missed_bytes orig_pkts orig_ip_bytes resp_pkts resp_ip_bytes\n",
       "1 RSTO       0             8         813          9         8505         \n",
       "2 RSTO       0            10        7497          9          544         \n",
       "3 REJ        0             1          48          1           40         \n",
       "4 REJ        0             1          60          1           40         \n",
       "5 REJ        0             1          48          1           40         \n",
       "6 REJ        0             1          44          1           40         "
      ]
     },
     "metadata": {},
     "output_type": "display_data"
    },
    {
     "data": {
      "text/html": [
       "<style>\n",
       ".dl-inline {width: auto; margin:0; padding: 0}\n",
       ".dl-inline>dt, .dl-inline>dd {float: none; width: auto; display: inline-block}\n",
       ".dl-inline>dt::after {content: \":\\0020\"; padding-right: .5ex}\n",
       ".dl-inline>dt:not(:first-of-type) {padding-left: .5ex}\n",
       "</style><dl class=dl-inline><dt>NRMSE</dt><dd>0.0187833355731868</dd><dt>PFC</dt><dd>0</dd></dl>\n"
      ],
      "text/latex": [
       "\\begin{description*}\n",
       "\\item[NRMSE] 0.0187833355731868\n",
       "\\item[PFC] 0\n",
       "\\end{description*}\n"
      ],
      "text/markdown": [
       "NRMSE\n",
       ":   0.0187833355731868PFC\n",
       ":   0\n",
       "\n"
      ],
      "text/plain": [
       "     NRMSE        PFC \n",
       "0.01878334 0.00000000 "
      ]
     },
     "metadata": {},
     "output_type": "display_data"
    }
   ],
   "source": [
    "output.forest7<-forest7$ximp\n",
    "head(output.forest7)\n",
    "forest7$OOBerror"
   ]
  },
  {
   "cell_type": "markdown",
   "metadata": {},
   "source": [
    "##### mtry = 5"
   ]
  },
  {
   "cell_type": "code",
   "execution_count": 226,
   "metadata": {},
   "outputs": [
    {
     "name": "stdout",
     "output_type": "stream",
     "text": [
      "  missForest iteration 1 in progress...done!\n",
      "    error(s): 0.9249937 0 \n",
      "    estimated error(s): 0.02058195 0 \n",
      "    difference(s): 0.0001883473 0 \n",
      "    time: 39.05 seconds\n",
      "\n",
      "  missForest iteration 2 in progress...done!\n",
      "    error(s): 0.7228195 0 \n",
      "    estimated error(s): 0.01963389 0 \n",
      "    difference(s): 0.0001684534 0 \n",
      "    time: 40.22 seconds\n",
      "\n",
      "  missForest iteration 3 in progress...done!\n",
      "    error(s): 0.7604327 0 \n",
      "    estimated error(s): 0.02037382 0 \n",
      "    difference(s): 8.249238e-05 0 \n",
      "    time: 38.17 seconds\n",
      "\n",
      "  missForest iteration 4 in progress...done!\n",
      "    error(s): 0.7201946 0 \n",
      "    estimated error(s): 0.01725741 0 \n",
      "    difference(s): 5.472045e-05 0 \n",
      "    time: 38.61 seconds\n",
      "\n",
      "  missForest iteration 5 in progress...done!\n",
      "    error(s): 0.7863489 0 \n",
      "    estimated error(s): 0.02021136 0 \n",
      "    difference(s): 7.476686e-05 0 \n",
      "    time: 48.79 seconds\n",
      "\n"
     ]
    }
   ],
   "source": [
    "forest8<- missForest(data.missing2, xtrue = data.complete2, verbose = TRUE, maxiter = 10, ntree = 10, \"mtry\" = 5)"
   ]
  },
  {
   "cell_type": "code",
   "execution_count": 227,
   "metadata": {},
   "outputs": [
    {
     "data": {
      "text/html": [
       "<table>\n",
       "<caption>A data.frame: 6 × 13</caption>\n",
       "<thead>\n",
       "\t<tr><th></th><th scope=col>ts</th><th scope=col>orig_port</th><th scope=col>resp_port</th><th scope=col>proto</th><th scope=col>duration</th><th scope=col>orig_bytes</th><th scope=col>resp_bytes</th><th scope=col>conn_state</th><th scope=col>missed_bytes</th><th scope=col>orig_pkts</th><th scope=col>orig_ip_bytes</th><th scope=col>resp_pkts</th><th scope=col>resp_ip_bytes</th></tr>\n",
       "\t<tr><th></th><th scope=col>&lt;dbl&gt;</th><th scope=col>&lt;dbl&gt;</th><th scope=col>&lt;dbl&gt;</th><th scope=col>&lt;fct&gt;</th><th scope=col>&lt;dbl&gt;</th><th scope=col>&lt;dbl&gt;</th><th scope=col>&lt;dbl&gt;</th><th scope=col>&lt;fct&gt;</th><th scope=col>&lt;dbl&gt;</th><th scope=col>&lt;dbl&gt;</th><th scope=col>&lt;dbl&gt;</th><th scope=col>&lt;dbl&gt;</th><th scope=col>&lt;dbl&gt;</th></tr>\n",
       "</thead>\n",
       "<tbody>\n",
       "\t<tr><th scope=row>1</th><td>1331915797</td><td> 2633</td><td>   80</td><td>tcp</td><td>0.02133333</td><td>4.819218e+02</td><td> 8.133000e+03</td><td>RSTO</td><td>0</td><td> 8</td><td> 813</td><td>9</td><td>8505</td></tr>\n",
       "\t<tr><th scope=row>2</th><td>1331921224</td><td> 4094</td><td>   80</td><td>tcp</td><td>0.01000000</td><td>7.085000e+03</td><td> 1.720000e+02</td><td>RSTO</td><td>0</td><td>10</td><td>7497</td><td>9</td><td> 544</td></tr>\n",
       "\t<tr><th scope=row>3</th><td>1331903910</td><td>16066</td><td>12486</td><td>tcp</td><td>0.12762003</td><td>1.243934e-04</td><td>-3.060450e-11</td><td>REJ </td><td>0</td><td> 1</td><td>  48</td><td>1</td><td>  40</td></tr>\n",
       "\t<tr><th scope=row>4</th><td>1331988939</td><td>42997</td><td>28745</td><td>tcp</td><td>0.01677586</td><td>1.243934e-04</td><td>-3.060450e-11</td><td>REJ </td><td>0</td><td> 1</td><td>  60</td><td>1</td><td>  40</td></tr>\n",
       "\t<tr><th scope=row>5</th><td>1331918792</td><td>38566</td><td>32754</td><td>tcp</td><td>0.19241880</td><td>1.243934e-04</td><td>-3.060450e-11</td><td>REJ </td><td>0</td><td> 1</td><td>  48</td><td>1</td><td>  40</td></tr>\n",
       "\t<tr><th scope=row>6</th><td>1331901863</td><td>63805</td><td>45078</td><td>tcp</td><td>0.02917624</td><td>1.243934e-04</td><td>-3.062723e-11</td><td>REJ </td><td>0</td><td> 1</td><td>  44</td><td>1</td><td>  40</td></tr>\n",
       "</tbody>\n",
       "</table>\n"
      ],
      "text/latex": [
       "A data.frame: 6 × 13\n",
       "\\begin{tabular}{r|lllllllllllll}\n",
       "  & ts & orig\\_port & resp\\_port & proto & duration & orig\\_bytes & resp\\_bytes & conn\\_state & missed\\_bytes & orig\\_pkts & orig\\_ip\\_bytes & resp\\_pkts & resp\\_ip\\_bytes\\\\\n",
       "  & <dbl> & <dbl> & <dbl> & <fct> & <dbl> & <dbl> & <dbl> & <fct> & <dbl> & <dbl> & <dbl> & <dbl> & <dbl>\\\\\n",
       "\\hline\n",
       "\t1 & 1331915797 &  2633 &    80 & tcp & 0.02133333 & 4.819218e+02 &  8.133000e+03 & RSTO & 0 &  8 &  813 & 9 & 8505\\\\\n",
       "\t2 & 1331921224 &  4094 &    80 & tcp & 0.01000000 & 7.085000e+03 &  1.720000e+02 & RSTO & 0 & 10 & 7497 & 9 &  544\\\\\n",
       "\t3 & 1331903910 & 16066 & 12486 & tcp & 0.12762003 & 1.243934e-04 & -3.060450e-11 & REJ  & 0 &  1 &   48 & 1 &   40\\\\\n",
       "\t4 & 1331988939 & 42997 & 28745 & tcp & 0.01677586 & 1.243934e-04 & -3.060450e-11 & REJ  & 0 &  1 &   60 & 1 &   40\\\\\n",
       "\t5 & 1331918792 & 38566 & 32754 & tcp & 0.19241880 & 1.243934e-04 & -3.060450e-11 & REJ  & 0 &  1 &   48 & 1 &   40\\\\\n",
       "\t6 & 1331901863 & 63805 & 45078 & tcp & 0.02917624 & 1.243934e-04 & -3.062723e-11 & REJ  & 0 &  1 &   44 & 1 &   40\\\\\n",
       "\\end{tabular}\n"
      ],
      "text/markdown": [
       "\n",
       "A data.frame: 6 × 13\n",
       "\n",
       "| <!--/--> | ts &lt;dbl&gt; | orig_port &lt;dbl&gt; | resp_port &lt;dbl&gt; | proto &lt;fct&gt; | duration &lt;dbl&gt; | orig_bytes &lt;dbl&gt; | resp_bytes &lt;dbl&gt; | conn_state &lt;fct&gt; | missed_bytes &lt;dbl&gt; | orig_pkts &lt;dbl&gt; | orig_ip_bytes &lt;dbl&gt; | resp_pkts &lt;dbl&gt; | resp_ip_bytes &lt;dbl&gt; |\n",
       "|---|---|---|---|---|---|---|---|---|---|---|---|---|---|\n",
       "| 1 | 1331915797 |  2633 |    80 | tcp | 0.02133333 | 4.819218e+02 |  8.133000e+03 | RSTO | 0 |  8 |  813 | 9 | 8505 |\n",
       "| 2 | 1331921224 |  4094 |    80 | tcp | 0.01000000 | 7.085000e+03 |  1.720000e+02 | RSTO | 0 | 10 | 7497 | 9 |  544 |\n",
       "| 3 | 1331903910 | 16066 | 12486 | tcp | 0.12762003 | 1.243934e-04 | -3.060450e-11 | REJ  | 0 |  1 |   48 | 1 |   40 |\n",
       "| 4 | 1331988939 | 42997 | 28745 | tcp | 0.01677586 | 1.243934e-04 | -3.060450e-11 | REJ  | 0 |  1 |   60 | 1 |   40 |\n",
       "| 5 | 1331918792 | 38566 | 32754 | tcp | 0.19241880 | 1.243934e-04 | -3.060450e-11 | REJ  | 0 |  1 |   48 | 1 |   40 |\n",
       "| 6 | 1331901863 | 63805 | 45078 | tcp | 0.02917624 | 1.243934e-04 | -3.062723e-11 | REJ  | 0 |  1 |   44 | 1 |   40 |\n",
       "\n"
      ],
      "text/plain": [
       "  ts         orig_port resp_port proto duration   orig_bytes   resp_bytes   \n",
       "1 1331915797  2633        80     tcp   0.02133333 4.819218e+02  8.133000e+03\n",
       "2 1331921224  4094        80     tcp   0.01000000 7.085000e+03  1.720000e+02\n",
       "3 1331903910 16066     12486     tcp   0.12762003 1.243934e-04 -3.060450e-11\n",
       "4 1331988939 42997     28745     tcp   0.01677586 1.243934e-04 -3.060450e-11\n",
       "5 1331918792 38566     32754     tcp   0.19241880 1.243934e-04 -3.060450e-11\n",
       "6 1331901863 63805     45078     tcp   0.02917624 1.243934e-04 -3.062723e-11\n",
       "  conn_state missed_bytes orig_pkts orig_ip_bytes resp_pkts resp_ip_bytes\n",
       "1 RSTO       0             8         813          9         8505         \n",
       "2 RSTO       0            10        7497          9          544         \n",
       "3 REJ        0             1          48          1           40         \n",
       "4 REJ        0             1          60          1           40         \n",
       "5 REJ        0             1          48          1           40         \n",
       "6 REJ        0             1          44          1           40         "
      ]
     },
     "metadata": {},
     "output_type": "display_data"
    },
    {
     "data": {
      "text/html": [
       "<style>\n",
       ".dl-inline {width: auto; margin:0; padding: 0}\n",
       ".dl-inline>dt, .dl-inline>dd {float: none; width: auto; display: inline-block}\n",
       ".dl-inline>dt::after {content: \":\\0020\"; padding-right: .5ex}\n",
       ".dl-inline>dt:not(:first-of-type) {padding-left: .5ex}\n",
       "</style><dl class=dl-inline><dt>NRMSE</dt><dd>0.0172574070208158</dd><dt>PFC</dt><dd>0</dd></dl>\n"
      ],
      "text/latex": [
       "\\begin{description*}\n",
       "\\item[NRMSE] 0.0172574070208158\n",
       "\\item[PFC] 0\n",
       "\\end{description*}\n"
      ],
      "text/markdown": [
       "NRMSE\n",
       ":   0.0172574070208158PFC\n",
       ":   0\n",
       "\n"
      ],
      "text/plain": [
       "     NRMSE        PFC \n",
       "0.01725741 0.00000000 "
      ]
     },
     "metadata": {},
     "output_type": "display_data"
    }
   ],
   "source": [
    "output.forest8<-forest8$ximp\n",
    "head(output.forest8)\n",
    "forest8$OOBerror"
   ]
  },
  {
   "cell_type": "markdown",
   "metadata": {},
   "source": [
    "#### Calculating cor"
   ]
  },
  {
   "cell_type": "code",
   "execution_count": 207,
   "metadata": {},
   "outputs": [],
   "source": [
    "output.forest66<-output.forest6[,which(names(output.forest6) %in% c(\"duration\",\"orig_bytes\",\"resp_bytes\"))]\n",
    "output.forest77<-output.forest7[,which(names(output.forest7) %in% c(\"duration\",\"orig_bytes\",\"resp_bytes\"))]\n",
    "output.forest88<-output.forest8[,which(names(output.forest8) %in% c(\"duration\",\"orig_bytes\",\"resp_bytes\"))]"
   ]
  },
  {
   "cell_type": "code",
   "execution_count": 194,
   "metadata": {},
   "outputs": [
    {
     "name": "stdout",
     "output_type": "stream",
     "text": [
      "[1] \"mtry=2\"\n"
     ]
    },
    {
     "data": {
      "text/html": [
       "<style>\n",
       ".dl-inline {width: auto; margin:0; padding: 0}\n",
       ".dl-inline>dt, .dl-inline>dd {float: none; width: auto; display: inline-block}\n",
       ".dl-inline>dt::after {content: \":\\0020\"; padding-right: .5ex}\n",
       ".dl-inline>dt:not(:first-of-type) {padding-left: .5ex}\n",
       "</style><dl class=dl-inline><dt>duration</dt><dd>0.40264546278862</dd><dt>orig_bytes</dt><dd>0.705485362398548</dd><dt>resp_bytes</dt><dd>0.776158873391838</dd></dl>\n"
      ],
      "text/latex": [
       "\\begin{description*}\n",
       "\\item[duration] 0.40264546278862\n",
       "\\item[orig\\textbackslash{}\\_bytes] 0.705485362398548\n",
       "\\item[resp\\textbackslash{}\\_bytes] 0.776158873391838\n",
       "\\end{description*}\n"
      ],
      "text/markdown": [
       "duration\n",
       ":   0.40264546278862orig_bytes\n",
       ":   0.705485362398548resp_bytes\n",
       ":   0.776158873391838\n",
       "\n"
      ],
      "text/plain": [
       "  duration orig_bytes resp_bytes \n",
       " 0.4026455  0.7054854  0.7761589 "
      ]
     },
     "metadata": {},
     "output_type": "display_data"
    },
    {
     "data": {
      "text/html": [
       "<style>\n",
       ".dl-inline {width: auto; margin:0; padding: 0}\n",
       ".dl-inline>dt, .dl-inline>dd {float: none; width: auto; display: inline-block}\n",
       ".dl-inline>dt::after {content: \":\\0020\"; padding-right: .5ex}\n",
       ".dl-inline>dt:not(:first-of-type) {padding-left: .5ex}\n",
       "</style><dl class=dl-inline><dt>NRMSE</dt><dd>0.0180924783064488</dd><dt>PFC</dt><dd>0</dd></dl>\n"
      ],
      "text/latex": [
       "\\begin{description*}\n",
       "\\item[NRMSE] 0.0180924783064488\n",
       "\\item[PFC] 0\n",
       "\\end{description*}\n"
      ],
      "text/markdown": [
       "NRMSE\n",
       ":   0.0180924783064488PFC\n",
       ":   0\n",
       "\n"
      ],
      "text/plain": [
       "     NRMSE        PFC \n",
       "0.01809248 0.00000000 "
      ]
     },
     "metadata": {},
     "output_type": "display_data"
    },
    {
     "name": "stdout",
     "output_type": "stream",
     "text": [
      "[1] \"mtry=3\"\n"
     ]
    },
    {
     "data": {
      "text/html": [
       "<style>\n",
       ".dl-inline {width: auto; margin:0; padding: 0}\n",
       ".dl-inline>dt, .dl-inline>dd {float: none; width: auto; display: inline-block}\n",
       ".dl-inline>dt::after {content: \":\\0020\"; padding-right: .5ex}\n",
       ".dl-inline>dt:not(:first-of-type) {padding-left: .5ex}\n",
       "</style><dl class=dl-inline><dt>duration</dt><dd>0.309641485087489</dd><dt>orig_bytes</dt><dd>0.705531727085389</dd><dt>resp_bytes</dt><dd>0.763823087718988</dd></dl>\n"
      ],
      "text/latex": [
       "\\begin{description*}\n",
       "\\item[duration] 0.309641485087489\n",
       "\\item[orig\\textbackslash{}\\_bytes] 0.705531727085389\n",
       "\\item[resp\\textbackslash{}\\_bytes] 0.763823087718988\n",
       "\\end{description*}\n"
      ],
      "text/markdown": [
       "duration\n",
       ":   0.309641485087489orig_bytes\n",
       ":   0.705531727085389resp_bytes\n",
       ":   0.763823087718988\n",
       "\n"
      ],
      "text/plain": [
       "  duration orig_bytes resp_bytes \n",
       " 0.3096415  0.7055317  0.7638231 "
      ]
     },
     "metadata": {},
     "output_type": "display_data"
    },
    {
     "data": {
      "text/html": [
       "<style>\n",
       ".dl-inline {width: auto; margin:0; padding: 0}\n",
       ".dl-inline>dt, .dl-inline>dd {float: none; width: auto; display: inline-block}\n",
       ".dl-inline>dt::after {content: \":\\0020\"; padding-right: .5ex}\n",
       ".dl-inline>dt:not(:first-of-type) {padding-left: .5ex}\n",
       "</style><dl class=dl-inline><dt>NRMSE</dt><dd>0.0194088737751045</dd><dt>PFC</dt><dd>0</dd></dl>\n"
      ],
      "text/latex": [
       "\\begin{description*}\n",
       "\\item[NRMSE] 0.0194088737751045\n",
       "\\item[PFC] 0\n",
       "\\end{description*}\n"
      ],
      "text/markdown": [
       "NRMSE\n",
       ":   0.0194088737751045PFC\n",
       ":   0\n",
       "\n"
      ],
      "text/plain": [
       "     NRMSE        PFC \n",
       "0.01940887 0.00000000 "
      ]
     },
     "metadata": {},
     "output_type": "display_data"
    },
    {
     "name": "stdout",
     "output_type": "stream",
     "text": [
      "[1] \"mtry=4\"\n"
     ]
    },
    {
     "data": {
      "text/html": [
       "<style>\n",
       ".dl-inline {width: auto; margin:0; padding: 0}\n",
       ".dl-inline>dt, .dl-inline>dd {float: none; width: auto; display: inline-block}\n",
       ".dl-inline>dt::after {content: \":\\0020\"; padding-right: .5ex}\n",
       ".dl-inline>dt:not(:first-of-type) {padding-left: .5ex}\n",
       "</style><dl class=dl-inline><dt>duration</dt><dd>0.423835700614019</dd><dt>orig_bytes</dt><dd>0.719853468128014</dd><dt>resp_bytes</dt><dd>0.788864392695537</dd></dl>\n"
      ],
      "text/latex": [
       "\\begin{description*}\n",
       "\\item[duration] 0.423835700614019\n",
       "\\item[orig\\textbackslash{}\\_bytes] 0.719853468128014\n",
       "\\item[resp\\textbackslash{}\\_bytes] 0.788864392695537\n",
       "\\end{description*}\n"
      ],
      "text/markdown": [
       "duration\n",
       ":   0.423835700614019orig_bytes\n",
       ":   0.719853468128014resp_bytes\n",
       ":   0.788864392695537\n",
       "\n"
      ],
      "text/plain": [
       "  duration orig_bytes resp_bytes \n",
       " 0.4238357  0.7198535  0.7888644 "
      ]
     },
     "metadata": {},
     "output_type": "display_data"
    },
    {
     "data": {
      "text/html": [
       "<style>\n",
       ".dl-inline {width: auto; margin:0; padding: 0}\n",
       ".dl-inline>dt, .dl-inline>dd {float: none; width: auto; display: inline-block}\n",
       ".dl-inline>dt::after {content: \":\\0020\"; padding-right: .5ex}\n",
       ".dl-inline>dt:not(:first-of-type) {padding-left: .5ex}\n",
       "</style><dl class=dl-inline><dt>NRMSE</dt><dd>0.0187833355731868</dd><dt>PFC</dt><dd>0</dd></dl>\n"
      ],
      "text/latex": [
       "\\begin{description*}\n",
       "\\item[NRMSE] 0.0187833355731868\n",
       "\\item[PFC] 0\n",
       "\\end{description*}\n"
      ],
      "text/markdown": [
       "NRMSE\n",
       ":   0.0187833355731868PFC\n",
       ":   0\n",
       "\n"
      ],
      "text/plain": [
       "     NRMSE        PFC \n",
       "0.01878334 0.00000000 "
      ]
     },
     "metadata": {},
     "output_type": "display_data"
    },
    {
     "name": "stdout",
     "output_type": "stream",
     "text": [
      "[1] \"mtry=5\"\n"
     ]
    },
    {
     "data": {
      "text/html": [
       "<style>\n",
       ".dl-inline {width: auto; margin:0; padding: 0}\n",
       ".dl-inline>dt, .dl-inline>dd {float: none; width: auto; display: inline-block}\n",
       ".dl-inline>dt::after {content: \":\\0020\"; padding-right: .5ex}\n",
       ".dl-inline>dt:not(:first-of-type) {padding-left: .5ex}\n",
       "</style><dl class=dl-inline><dt>duration</dt><dd>0.429047559388466</dd><dt>orig_bytes</dt><dd>0.717249640146096</dd><dt>resp_bytes</dt><dd>0.818956127907336</dd></dl>\n"
      ],
      "text/latex": [
       "\\begin{description*}\n",
       "\\item[duration] 0.429047559388466\n",
       "\\item[orig\\textbackslash{}\\_bytes] 0.717249640146096\n",
       "\\item[resp\\textbackslash{}\\_bytes] 0.818956127907336\n",
       "\\end{description*}\n"
      ],
      "text/markdown": [
       "duration\n",
       ":   0.429047559388466orig_bytes\n",
       ":   0.717249640146096resp_bytes\n",
       ":   0.818956127907336\n",
       "\n"
      ],
      "text/plain": [
       "  duration orig_bytes resp_bytes \n",
       " 0.4290476  0.7172496  0.8189561 "
      ]
     },
     "metadata": {},
     "output_type": "display_data"
    },
    {
     "data": {
      "text/html": [
       "<style>\n",
       ".dl-inline {width: auto; margin:0; padding: 0}\n",
       ".dl-inline>dt, .dl-inline>dd {float: none; width: auto; display: inline-block}\n",
       ".dl-inline>dt::after {content: \":\\0020\"; padding-right: .5ex}\n",
       ".dl-inline>dt:not(:first-of-type) {padding-left: .5ex}\n",
       "</style><dl class=dl-inline><dt>NRMSE</dt><dd>0.0168909376951625</dd><dt>PFC</dt><dd>0</dd></dl>\n"
      ],
      "text/latex": [
       "\\begin{description*}\n",
       "\\item[NRMSE] 0.0168909376951625\n",
       "\\item[PFC] 0\n",
       "\\end{description*}\n"
      ],
      "text/markdown": [
       "NRMSE\n",
       ":   0.0168909376951625PFC\n",
       ":   0\n",
       "\n"
      ],
      "text/plain": [
       "     NRMSE        PFC \n",
       "0.01689094 0.00000000 "
      ]
     },
     "metadata": {},
     "output_type": "display_data"
    }
   ],
   "source": [
    "print(\"mtry=2\")\n",
    "diag(cor(output.forest66, truth))\n",
    "forest6$OOBerror\n",
    "print(\"mtry=3\")\n",
    "diag(cor(output.forest11, truth))\n",
    "forest1$OOBerror\n",
    "print(\"mtry=4\")\n",
    "diag(cor(output.forest77, truth))\n",
    "forest7$OOBerror\n",
    "print(\"mtry=5\")\n",
    "diag(cor(output.forest88, truth))\n",
    "forest8$OOBerror"
   ]
  },
  {
   "cell_type": "markdown",
   "metadata": {},
   "source": [
    "We can see that when \"mtry\" is larger, the prediction effect is better, but in order to ensure that the program runs smoothly, we set the value to 5.\n",
    "\n",
    "### Conclusion\n",
    "\n",
    "When \"ntree\" = 10 and \"ntry\" = 5, the model is most suitable\n",
    "\n",
    "### Outliners\n",
    "\n",
    "In the data frame output above, we find that sometimes the predicted value of the missing value is a small negative number, but in a practical sense, the three continuous variables are non-negative."
   ]
  },
  {
   "cell_type": "code",
   "execution_count": 231,
   "metadata": {},
   "outputs": [
    {
     "data": {
      "text/html": [
       "0"
      ],
      "text/latex": [
       "0"
      ],
      "text/markdown": [
       "0"
      ],
      "text/plain": [
       "[1] 0"
      ]
     },
     "metadata": {},
     "output_type": "display_data"
    },
    {
     "data": {
      "text/html": [
       "0.00550825725715458"
      ],
      "text/latex": [
       "0.00550825725715458"
      ],
      "text/markdown": [
       "0.00550825725715458"
      ],
      "text/plain": [
       "[1] 0.005508257"
      ]
     },
     "metadata": {},
     "output_type": "display_data"
    },
    {
     "data": {
      "text/html": [
       "0.703810647245871"
      ],
      "text/latex": [
       "0.703810647245871"
      ],
      "text/markdown": [
       "0.703810647245871"
      ],
      "text/plain": [
       "[1] 0.7038106"
      ]
     },
     "metadata": {},
     "output_type": "display_data"
    }
   ],
   "source": [
    "a=output.forest88[output.forest88[,\"duration\"]<0,]\n",
    "nrow(a)/nrow(output.forest1)\n",
    "b=output.forest88[output.forest88[,\"orig_bytes\"]<0,]\n",
    "nrow(b)/nrow(output.forest1)\n",
    "c=output.forest88[output.forest88[,\"resp_bytes\"]<0,]\n",
    "nrow(c)/nrow(output.forest1)"
   ]
  },
  {
   "cell_type": "code",
   "execution_count": 235,
   "metadata": {},
   "outputs": [
    {
     "data": {
      "text/html": [
       "0"
      ],
      "text/latex": [
       "0"
      ],
      "text/markdown": [
       "0"
      ],
      "text/plain": [
       "[1] 0"
      ]
     },
     "metadata": {},
     "output_type": "display_data"
    },
    {
     "data": {
      "text/html": [
       "0"
      ],
      "text/latex": [
       "0"
      ],
      "text/markdown": [
       "0"
      ],
      "text/plain": [
       "[1] 0"
      ]
     },
     "metadata": {},
     "output_type": "display_data"
    }
   ],
   "source": [
    "b=output.forest88[output.forest88[,\"orig_bytes\"] < (-0.000001),]\n",
    "nrow(b)/nrow(output.forest1)\n",
    "c=output.forest88[output.forest88[,\"resp_bytes\"] < (-0.000001),]\n",
    "nrow(c)/nrow(output.forest1)"
   ]
  },
  {
   "cell_type": "markdown",
   "metadata": {},
   "source": [
    "We can see that although there are some negative numbers in the predicted values, they are all very close to 0, so these negative numbers have very little effect on the calculation results, and they can be directly converted to 0."
   ]
  },
  {
   "cell_type": "code",
   "execution_count": 210,
   "metadata": {},
   "outputs": [],
   "source": [
    "output.forest<-output.forest88\n",
    "for(i in c(1:nrow(output.forest))){\n",
    "    if(output.forest[i,\"orig_bytes\"]<0)\n",
    "        {output.forest[i,\"orig_bytes\"]=0}\n",
    "    \n",
    "    if(output.forest[i,\"resp_bytes\"]<0)\n",
    "        {output.forest[i,\"resp_bytes\"]=0}}"
   ]
  },
  {
   "cell_type": "code",
   "execution_count": 213,
   "metadata": {},
   "outputs": [],
   "source": [
    "write.csv.gz(output.forest,\"output_missforest.csv.gz\",row.names=FALSE)"
   ]
  },
  {
   "cell_type": "markdown",
   "metadata": {},
   "source": [
    "### Comperation"
   ]
  },
  {
   "cell_type": "code",
   "execution_count": 236,
   "metadata": {},
   "outputs": [
    {
     "name": "stdout",
     "output_type": "stream",
     "text": [
      "[1] \"Mean Imputation\"\n"
     ]
    },
    {
     "data": {
      "text/html": [
       "<style>\n",
       ".dl-inline {width: auto; margin:0; padding: 0}\n",
       ".dl-inline>dt, .dl-inline>dd {float: none; width: auto; display: inline-block}\n",
       ".dl-inline>dt::after {content: \":\\0020\"; padding-right: .5ex}\n",
       ".dl-inline>dt:not(:first-of-type) {padding-left: .5ex}\n",
       "</style><dl class=dl-inline><dt>duration</dt><dd>0.237491098134228</dd><dt>orig_bytes</dt><dd>0.3743043964488</dd><dt>resp_bytes</dt><dd>0.599254991458743</dd></dl>\n"
      ],
      "text/latex": [
       "\\begin{description*}\n",
       "\\item[duration] 0.237491098134228\n",
       "\\item[orig\\textbackslash{}\\_bytes] 0.3743043964488\n",
       "\\item[resp\\textbackslash{}\\_bytes] 0.599254991458743\n",
       "\\end{description*}\n"
      ],
      "text/markdown": [
       "duration\n",
       ":   0.237491098134228orig_bytes\n",
       ":   0.3743043964488resp_bytes\n",
       ":   0.599254991458743\n",
       "\n"
      ],
      "text/plain": [
       "  duration orig_bytes resp_bytes \n",
       " 0.2374911  0.3743044  0.5992550 "
      ]
     },
     "metadata": {},
     "output_type": "display_data"
    },
    {
     "name": "stdout",
     "output_type": "stream",
     "text": [
      "[1] \"MissForest Model\"\n"
     ]
    },
    {
     "data": {
      "text/html": [
       "<style>\n",
       ".dl-inline {width: auto; margin:0; padding: 0}\n",
       ".dl-inline>dt, .dl-inline>dd {float: none; width: auto; display: inline-block}\n",
       ".dl-inline>dt::after {content: \":\\0020\"; padding-right: .5ex}\n",
       ".dl-inline>dt:not(:first-of-type) {padding-left: .5ex}\n",
       "</style><dl class=dl-inline><dt>duration</dt><dd>0.429047559388466</dd><dt>orig_bytes</dt><dd>0.717249640146096</dd><dt>resp_bytes</dt><dd>0.818956127907336</dd></dl>\n"
      ],
      "text/latex": [
       "\\begin{description*}\n",
       "\\item[duration] 0.429047559388466\n",
       "\\item[orig\\textbackslash{}\\_bytes] 0.717249640146096\n",
       "\\item[resp\\textbackslash{}\\_bytes] 0.818956127907336\n",
       "\\end{description*}\n"
      ],
      "text/markdown": [
       "duration\n",
       ":   0.429047559388466orig_bytes\n",
       ":   0.717249640146096resp_bytes\n",
       ":   0.818956127907336\n",
       "\n"
      ],
      "text/plain": [
       "  duration orig_bytes resp_bytes \n",
       " 0.4290476  0.7172496  0.8189561 "
      ]
     },
     "metadata": {},
     "output_type": "display_data"
    }
   ],
   "source": [
    "print(\"Mean Imputation\")\n",
    "diag(cor(output.mean, truth))\n",
    "print(\"MissForest Model\")\n",
    "diag(cor(output.forest88, truth))"
   ]
  },
  {
   "cell_type": "markdown",
   "metadata": {},
   "source": [
    "We can see that the performance of MissForest Model is better.\n",
    "\n",
    "More discussion about performance metrics and comperation please see \"[08 - Performance Analysis.ipynb](https://github.com/Galeforse/DST-Assessment-02/blob/main/Report/08%20-%20Performance%20Analysis.ipynb)\" notebook.\n",
    "\n",
    "## References\n",
    "\n",
    "[MissForest—non-parametric missing value imputation for mixed-type data](https://academic.oup.com/bioinformatics/article/28/1/112/219101)\n",
    "\n",
    "[Dealing with Missing Data using R](https://medium.com/coinmonks/dealing-with-missing-data-using-r-3ae428da2d17)\n",
    "\n",
    "[Imputing Missing Data with R; MICE package](https://datascienceplus.com/imputing-missing-data-with-r-mice-package/)\n",
    "\n",
    "[Dealing with Missing Data using R](https://zhuanlan.zhihu.com/p/45091612?utm_source=wechat_session)\n",
    "\n",
    "[How to deal with missing data](https://zhuanlan.zhihu.com/p/39171442)\n"
   ]
  }
 ],
 "metadata": {
  "kernelspec": {
   "display_name": "R",
   "language": "R",
   "name": "ir"
  },
  "language_info": {
   "codemirror_mode": "r",
   "file_extension": ".r",
   "mimetype": "text/x-r-source",
   "name": "R",
   "pygments_lexer": "r",
   "version": "4.0.2"
  }
 },
 "nbformat": 4,
 "nbformat_minor": 4
}
