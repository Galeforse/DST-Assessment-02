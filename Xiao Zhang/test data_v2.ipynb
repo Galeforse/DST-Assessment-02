{
 "cells": [
  {
   "cell_type": "markdown",
   "metadata": {},
   "source": [
    "# Test Data\n",
    "\n",
    "In the \"[02-Data Import.ipynb](https://github.com/Galeforse/DST-Assessment-02/blob/main/Report/02%20-%20Data%20Import.ipynb)\", we randomly sampled 5% from all the dataset, whose name is \"5_percent_data.csv.gz\". This dataset can be used to predict missing values, but the biggest problem is that we do not know the true value of the missing data, so it is difficult to evaluate the prediction performance of the model.\n",
    "\n",
    "In order to solve the above problem, we select a dataset with complete data and artificially generate missing values, so that we can compare the results of predicting missing values with the true values to create the suitable performance metrics."
   ]
  },
  {
   "cell_type": "code",
   "execution_count": 5,
   "metadata": {},
   "outputs": [],
   "source": [
    "library(\"VIM\")\n",
    "library(\"crunch\")"
   ]
  },
  {
   "cell_type": "markdown",
   "metadata": {},
   "source": [
    "We firstly read the \"5_percent_data.csv.gz\" and do some simple processing."
   ]
  },
  {
   "cell_type": "code",
   "execution_count": 3,
   "metadata": {},
   "outputs": [],
   "source": [
    "setwd(\"C:\\\\Users\\\\xiao\\\\Documents\\\\GitHub\\\\DST-Assessment-02\\\\Data\")\n",
    "conndata<-read.table(\"5_percent_data.csv.gz\", sep=\",\", header=TRUE, na.strings=c(\"\",\"NA\"))"
   ]
  },
  {
   "cell_type": "code",
   "execution_count": 6,
   "metadata": {},
   "outputs": [],
   "source": [
    "for(i in c(3,5,8,9,10,12,14:17)) conndata[,i]=as.numeric(conndata[,i])\n",
    "for(i in c(2,4,6,11,13)) conndata[,i]=as.factor(conndata[,i])"
   ]
  },
  {
   "cell_type": "markdown",
   "metadata": {},
   "source": [
    "Then we observe the distribution of missing values. Since this dataset is randomly selected from the total data and the number of data is sufficient, the distribution of the two is almost the same."
   ]
  },
  {
   "cell_type": "code",
   "execution_count": 30,
   "metadata": {},
   "outputs": [
    {
     "name": "stdout",
     "output_type": "stream",
     "text": [
      "\n",
      " Variables sorted by number of missings: \n",
      "   Variable     Count\n",
      "    service 0.9704737\n",
      "   duration 0.8281686\n",
      " orig_bytes 0.8281686\n",
      " resp_bytes 0.8281686\n"
     ]
    },
    {
     "data": {
      "image/png": "[encoded data removed]",
      "text/plain": [
       "plot without title"
      ]
     },
     "metadata": {
      "image/png": {
       "height": 420,
       "width": 420
      }
     },
     "output_type": "display_data"
    }
   ],
   "source": [
    "mice_plot <- aggr(conndata[,which(names(conndata) %in% c(\"service\",\"duration\",\"orig_bytes\",\"resp_bytes\"))],\n",
    "                  numbers=TRUE, sortVars=TRUE,cex.axis=.7,gap=3)"
   ]
  },
  {
   "cell_type": "markdown",
   "metadata": {},
   "source": [
    "The three numerical variables with missing values include \"duration\", \"orig_bytes\" and \"resp_bytes\", which are the targets of our prediction in this assessment. It can be seen that them are either present or missing at the same time, and the missing value is about 82.8%.\n",
    "\n",
    "Then we extract the data that these three variables are not missing。"
   ]
  },
  {
   "cell_type": "code",
   "execution_count": 9,
   "metadata": {},
   "outputs": [],
   "source": [
    "data.complete<-conndata[-which(is.na(conndata$duration)),]"
   ]
  },
  {
   "cell_type": "code",
   "execution_count": 10,
   "metadata": {},
   "outputs": [
    {
     "data": {
      "text/html": [
       "194980"
      ],
      "text/latex": [
       "194980"
      ],
      "text/markdown": [
       "194980"
      ],
      "text/plain": [
       "[1] 194980"
      ]
     },
     "metadata": {},
     "output_type": "display_data"
    }
   ],
   "source": [
    "nrow(data.complete)"
   ]
  },
  {
   "cell_type": "markdown",
   "metadata": {},
   "source": [
    "It has a total of 194980 data.\n",
    "\n",
    "When artificially generating missing data, in order to ensure that the distribution of it is as same as the original dataset, we set the same missing rate for these three variables."
   ]
  },
  {
   "cell_type": "code",
   "execution_count": 35,
   "metadata": {},
   "outputs": [],
   "source": [
    "data.missing <- data.complete\n",
    "set.seed(10)\n",
    "data.missing[sample(1:nrow(data.missing),nrow(data.missing)*0.8281686),\"duration\"] <- NA"
   ]
  },
  {
   "cell_type": "code",
   "execution_count": 36,
   "metadata": {},
   "outputs": [],
   "source": [
    "data.missing[is.na(data.missing$duration),\"orig_bytes\"] <- NA\n",
    "data.missing[is.na(data.missing$duration),\"resp_bytes\"] <- NA"
   ]
  },
  {
   "cell_type": "code",
   "execution_count": 37,
   "metadata": {},
   "outputs": [
    {
     "data": {
      "text/html": [
       "<table>\n",
       "<caption>A data.frame: 6 × 17</caption>\n",
       "<thead>\n",
       "\t<tr><th></th><th scope=col>ts</th><th scope=col>orig_ip</th><th scope=col>orig_port</th><th scope=col>resp_ip</th><th scope=col>resp_port</th><th scope=col>proto</th><th scope=col>service</th><th scope=col>duration</th><th scope=col>orig_bytes</th><th scope=col>resp_bytes</th><th scope=col>conn_state</th><th scope=col>missed_bytes</th><th scope=col>history</th><th scope=col>orig_pkts</th><th scope=col>orig_ip_bytes</th><th scope=col>resp_pkts</th><th scope=col>resp_ip_bytes</th></tr>\n",
       "\t<tr><th></th><th scope=col>&lt;dbl&gt;</th><th scope=col>&lt;fct&gt;</th><th scope=col>&lt;dbl&gt;</th><th scope=col>&lt;fct&gt;</th><th scope=col>&lt;dbl&gt;</th><th scope=col>&lt;fct&gt;</th><th scope=col>&lt;chr&gt;</th><th scope=col>&lt;dbl&gt;</th><th scope=col>&lt;dbl&gt;</th><th scope=col>&lt;dbl&gt;</th><th scope=col>&lt;fct&gt;</th><th scope=col>&lt;dbl&gt;</th><th scope=col>&lt;fct&gt;</th><th scope=col>&lt;dbl&gt;</th><th scope=col>&lt;dbl&gt;</th><th scope=col>&lt;dbl&gt;</th><th scope=col>&lt;dbl&gt;</th></tr>\n",
       "</thead>\n",
       "<tbody>\n",
       "\t<tr><th scope=row>1</th><td>1331915797</td><td>192.168.202.102</td><td> 2633</td><td>192.168.23.202 </td><td>   80</td><td>tcp</td><td>http</td><td>  NA</td><td>  NA</td><td> NA</td><td>RSTO</td><td>0</td><td>ShADadfR</td><td> 8</td><td> 813</td><td>9</td><td>8505</td></tr>\n",
       "\t<tr><th scope=row>13</th><td>1331921224</td><td>192.168.202.102</td><td> 4094</td><td>192.168.24.101 </td><td>   80</td><td>tcp</td><td>NA  </td><td>0.01</td><td>7085</td><td>172</td><td>RSTO</td><td>0</td><td>ShADadfR</td><td>10</td><td>7497</td><td>9</td><td> 544</td></tr>\n",
       "\t<tr><th scope=row>18</th><td>1331903910</td><td>192.168.202.110</td><td>16066</td><td>192.168.27.152 </td><td>12486</td><td>tcp</td><td>NA  </td><td>  NA</td><td>  NA</td><td> NA</td><td>REJ </td><td>0</td><td>Sr      </td><td> 1</td><td>  48</td><td>1</td><td>  40</td></tr>\n",
       "\t<tr><th scope=row>27</th><td>1331988939</td><td>192.168.204.45 </td><td>42997</td><td>192.168.23.1   </td><td>28745</td><td>tcp</td><td>NA  </td><td>  NA</td><td>  NA</td><td> NA</td><td>REJ </td><td>0</td><td>Sr      </td><td> 1</td><td>  60</td><td>1</td><td>  40</td></tr>\n",
       "\t<tr><th scope=row>29</th><td>1331918792</td><td>192.168.202.110</td><td>38566</td><td>192.168.229.252</td><td>32754</td><td>tcp</td><td>NA  </td><td>  NA</td><td>  NA</td><td> NA</td><td>REJ </td><td>0</td><td>Sr      </td><td> 1</td><td>  48</td><td>1</td><td>  40</td></tr>\n",
       "\t<tr><th scope=row>31</th><td>1331901863</td><td>192.168.202.79 </td><td>63805</td><td>192.168.229.252</td><td>45078</td><td>tcp</td><td>NA  </td><td>  NA</td><td>  NA</td><td> NA</td><td>REJ </td><td>0</td><td>Sr      </td><td> 1</td><td>  44</td><td>1</td><td>  40</td></tr>\n",
       "</tbody>\n",
       "</table>\n"
      ],
      "text/latex": [
       "A data.frame: 6 × 17\n",
       "\\begin{tabular}{r|lllllllllllllllll}\n",
       "  & ts & orig\\_ip & orig\\_port & resp\\_ip & resp\\_port & proto & service & duration & orig\\_bytes & resp\\_bytes & conn\\_state & missed\\_bytes & history & orig\\_pkts & orig\\_ip\\_bytes & resp\\_pkts & resp\\_ip\\_bytes\\\\\n",
       "  & <dbl> & <fct> & <dbl> & <fct> & <dbl> & <fct> & <chr> & <dbl> & <dbl> & <dbl> & <fct> & <dbl> & <fct> & <dbl> & <dbl> & <dbl> & <dbl>\\\\\n",
       "\\hline\n",
       "\t1 & 1331915797 & 192.168.202.102 &  2633 & 192.168.23.202  &    80 & tcp & http &   NA &   NA &  NA & RSTO & 0 & ShADadfR &  8 &  813 & 9 & 8505\\\\\n",
       "\t13 & 1331921224 & 192.168.202.102 &  4094 & 192.168.24.101  &    80 & tcp & NA   & 0.01 & 7085 & 172 & RSTO & 0 & ShADadfR & 10 & 7497 & 9 &  544\\\\\n",
       "\t18 & 1331903910 & 192.168.202.110 & 16066 & 192.168.27.152  & 12486 & tcp & NA   &   NA &   NA &  NA & REJ  & 0 & Sr       &  1 &   48 & 1 &   40\\\\\n",
       "\t27 & 1331988939 & 192.168.204.45  & 42997 & 192.168.23.1    & 28745 & tcp & NA   &   NA &   NA &  NA & REJ  & 0 & Sr       &  1 &   60 & 1 &   40\\\\\n",
       "\t29 & 1331918792 & 192.168.202.110 & 38566 & 192.168.229.252 & 32754 & tcp & NA   &   NA &   NA &  NA & REJ  & 0 & Sr       &  1 &   48 & 1 &   40\\\\\n",
       "\t31 & 1331901863 & 192.168.202.79  & 63805 & 192.168.229.252 & 45078 & tcp & NA   &   NA &   NA &  NA & REJ  & 0 & Sr       &  1 &   44 & 1 &   40\\\\\n",
       "\\end{tabular}\n"
      ],
      "text/markdown": [
       "\n",
       "A data.frame: 6 × 17\n",
       "\n",
       "| <!--/--> | ts &lt;dbl&gt; | orig_ip &lt;fct&gt; | orig_port &lt;dbl&gt; | resp_ip &lt;fct&gt; | resp_port &lt;dbl&gt; | proto &lt;fct&gt; | service &lt;chr&gt; | duration &lt;dbl&gt; | orig_bytes &lt;dbl&gt; | resp_bytes &lt;dbl&gt; | conn_state &lt;fct&gt; | missed_bytes &lt;dbl&gt; | history &lt;fct&gt; | orig_pkts &lt;dbl&gt; | orig_ip_bytes &lt;dbl&gt; | resp_pkts &lt;dbl&gt; | resp_ip_bytes &lt;dbl&gt; |\n",
       "|---|---|---|---|---|---|---|---|---|---|---|---|---|---|---|---|---|---|\n",
       "| 1 | 1331915797 | 192.168.202.102 |  2633 | 192.168.23.202  |    80 | tcp | http |   NA |   NA |  NA | RSTO | 0 | ShADadfR |  8 |  813 | 9 | 8505 |\n",
       "| 13 | 1331921224 | 192.168.202.102 |  4094 | 192.168.24.101  |    80 | tcp | NA   | 0.01 | 7085 | 172 | RSTO | 0 | ShADadfR | 10 | 7497 | 9 |  544 |\n",
       "| 18 | 1331903910 | 192.168.202.110 | 16066 | 192.168.27.152  | 12486 | tcp | NA   |   NA |   NA |  NA | REJ  | 0 | Sr       |  1 |   48 | 1 |   40 |\n",
       "| 27 | 1331988939 | 192.168.204.45  | 42997 | 192.168.23.1    | 28745 | tcp | NA   |   NA |   NA |  NA | REJ  | 0 | Sr       |  1 |   60 | 1 |   40 |\n",
       "| 29 | 1331918792 | 192.168.202.110 | 38566 | 192.168.229.252 | 32754 | tcp | NA   |   NA |   NA |  NA | REJ  | 0 | Sr       |  1 |   48 | 1 |   40 |\n",
       "| 31 | 1331901863 | 192.168.202.79  | 63805 | 192.168.229.252 | 45078 | tcp | NA   |   NA |   NA |  NA | REJ  | 0 | Sr       |  1 |   44 | 1 |   40 |\n",
       "\n"
      ],
      "text/plain": [
       "   ts         orig_ip         orig_port resp_ip         resp_port proto service\n",
       "1  1331915797 192.168.202.102  2633     192.168.23.202     80     tcp   http   \n",
       "13 1331921224 192.168.202.102  4094     192.168.24.101     80     tcp   NA     \n",
       "18 1331903910 192.168.202.110 16066     192.168.27.152  12486     tcp   NA     \n",
       "27 1331988939 192.168.204.45  42997     192.168.23.1    28745     tcp   NA     \n",
       "29 1331918792 192.168.202.110 38566     192.168.229.252 32754     tcp   NA     \n",
       "31 1331901863 192.168.202.79  63805     192.168.229.252 45078     tcp   NA     \n",
       "   duration orig_bytes resp_bytes conn_state missed_bytes history  orig_pkts\n",
       "1    NA       NA        NA        RSTO       0            ShADadfR  8       \n",
       "13 0.01     7085       172        RSTO       0            ShADadfR 10       \n",
       "18   NA       NA        NA        REJ        0            Sr        1       \n",
       "27   NA       NA        NA        REJ        0            Sr        1       \n",
       "29   NA       NA        NA        REJ        0            Sr        1       \n",
       "31   NA       NA        NA        REJ        0            Sr        1       \n",
       "   orig_ip_bytes resp_pkts resp_ip_bytes\n",
       "1   813          9         8505         \n",
       "13 7497          9          544         \n",
       "18   48          1           40         \n",
       "27   60          1           40         \n",
       "29   48          1           40         \n",
       "31   44          1           40         "
      ]
     },
     "metadata": {},
     "output_type": "display_data"
    }
   ],
   "source": [
    "head(data.missing)"
   ]
  },
  {
   "cell_type": "code",
   "execution_count": 38,
   "metadata": {},
   "outputs": [
    {
     "name": "stdout",
     "output_type": "stream",
     "text": [
      "\n",
      " Variables sorted by number of missings: \n",
      "   Variable     Count\n",
      "    service 0.8701969\n",
      "   duration 0.8281670\n",
      " orig_bytes 0.8281670\n",
      " resp_bytes 0.8281670\n"
     ]
    },
    {
     "data": {
      "image/png": "[encoded data removed]",
      "text/plain": [
       "plot without title"
      ]
     },
     "metadata": {
      "image/png": {
       "height": 420,
       "width": 420
      }
     },
     "output_type": "display_data"
    }
   ],
   "source": [
    "mice_plot <- aggr(data.missing[,which(names(data.missing) %in% c(\"service\",\"duration\",\"orig_bytes\",\"resp_bytes\"))],\n",
    "                  numbers=TRUE, sortVars=TRUE,cex.axis=.7,gap=3)"
   ]
  },
  {
   "cell_type": "markdown",
   "metadata": {},
   "source": [
    "We can see that The new test dataset has almost the same proportions of missing values for three numeric variables as the original dataset, we can think that the distribution of the two datasets is approximate, so that the model which applies to test data also applies to actual data.\n",
    "\n",
    "Then we save the file."
   ]
  },
  {
   "cell_type": "code",
   "execution_count": 44,
   "metadata": {},
   "outputs": [],
   "source": [
    "write.csv.gz(data.missing,\"test_missing1.csv.gz\",row.names=FALSE)"
   ]
  },
  {
   "cell_type": "code",
   "execution_count": 45,
   "metadata": {},
   "outputs": [],
   "source": [
    "write.csv.gz(data.complete,\"test_complete1.csv.gz\",row.names=FALSE)"
   ]
  },
  {
   "cell_type": "markdown",
   "metadata": {},
   "source": [
    "## Considering outliers\n",
    "\n",
    "In the \"[05-Further DA and Mean Impute.ipynb](https://github.com/Galeforse/DST-Assessment-02/blob/main/Report/05%20-%20Further%20DA%20and%20Mean%20Impute.ipynb)\", we analyzed the outliers in detail, here we only carry out a simple analysis."
   ]
  },
  {
   "cell_type": "code",
   "execution_count": 11,
   "metadata": {},
   "outputs": [
    {
     "name": "stderr",
     "output_type": "stream",
     "text": [
      "Warning message in xy.coords(x, y, xlabel, ylabel, log):\n",
      "\"83 y values <= 0 omitted from logarithmic plot\"\n"
     ]
    },
    {
     "data": {
      "text/html": [
       "<table>\n",
       "<caption>A matrix: 2 × 113 of type dbl</caption>\n",
       "<tbody>\n",
       "\t<tr><th scope=row>breaks</th><td>   100</td><td>200</td><td>300</td><td>400</td><td>500</td><td>600</td><td>700</td><td>800</td><td>900</td><td>1000</td><td>...</td><td>10400</td><td>10500</td><td>10600</td><td>10700</td><td>10800</td><td>10900</td><td>11000</td><td>11100</td><td>11200</td><td>11300</td></tr>\n",
       "\t<tr><th scope=row>counts</th><td>194637</td><td>151</td><td> 40</td><td> 22</td><td> 22</td><td> 17</td><td> 17</td><td> 12</td><td> 10</td><td>  14</td><td>...</td><td>    0</td><td>    0</td><td>    0</td><td>    0</td><td>    0</td><td>    0</td><td>    0</td><td>    0</td><td>    0</td><td>    1</td></tr>\n",
       "</tbody>\n",
       "</table>\n"
      ],
      "text/latex": [
       "A matrix: 2 × 113 of type dbl\n",
       "\\begin{tabular}{r|lllllllllllllllllllll}\n",
       "\tbreaks &    100 & 200 & 300 & 400 & 500 & 600 & 700 & 800 & 900 & 1000 & ... & 10400 & 10500 & 10600 & 10700 & 10800 & 10900 & 11000 & 11100 & 11200 & 11300\\\\\n",
       "\tcounts & 194637 & 151 &  40 &  22 &  22 &  17 &  17 &  12 &  10 &   14 & ... &     0 &     0 &     0 &     0 &     0 &     0 &     0 &     0 &     0 &     1\\\\\n",
       "\\end{tabular}\n"
      ],
      "text/markdown": [
       "\n",
       "A matrix: 2 × 113 of type dbl\n",
       "\n",
       "| breaks |    100 | 200 | 300 | 400 | 500 | 600 | 700 | 800 | 900 | 1000 | ... | 10400 | 10500 | 10600 | 10700 | 10800 | 10900 | 11000 | 11100 | 11200 | 11300 |\n",
       "| counts | 194637 | 151 |  40 |  22 |  22 |  17 |  17 |  12 |  10 |   14 | ... |     0 |     0 |     0 |     0 |     0 |     0 |     0 |     0 |     0 |     1 |\n",
       "\n"
      ],
      "text/plain": [
       "       [,1]   [,2] [,3] [,4] [,5] [,6] [,7] [,8] [,9] [,10] [,11] [,12] [,13]\n",
       "breaks    100 200  300  400  500  600  700  800  900  1000  ...   10400 10500\n",
       "counts 194637 151   40   22   22   17   17   12   10    14  ...       0     0\n",
       "       [,14] [,15] [,16] [,17] [,18] [,19] [,20] [,21]\n",
       "breaks 10600 10700 10800 10900 11000 11100 11200 11300\n",
       "counts     0     0     0     0     0     0     0     1"
      ]
     },
     "metadata": {},
     "output_type": "display_data"
    },
    {
     "data": {
      "image/png": "[encoded data removed]",
      "text/plain": [
       "plot without title"
      ]
     },
     "metadata": {
      "image/png": {
       "height": 420,
       "width": 420
      }
     },
     "output_type": "display_data"
    }
   ],
   "source": [
    "nbreaks=101 \n",
    "thist1=hist(data.complete[,\"duration\"],breaks=nbreaks,plot=FALSE)\n",
    "plot(thist1$mids,thist1$density,log=\"y\",type=\"b\",\n",
    "     xlab=\"duration\",ylab=\"histogram density\")\n",
    "\n",
    "breaks1<-thist1$breaks[-1]\n",
    "df1<-data.frame(breaks=breaks1,counts=thist1$counts)\n",
    "t(df1)"
   ]
  },
  {
   "cell_type": "code",
   "execution_count": 12,
   "metadata": {},
   "outputs": [
    {
     "name": "stderr",
     "output_type": "stream",
     "text": [
      "Warning message in xy.coords(x, y, xlabel, ylabel, log):\n",
      "\"70 y values <= 0 omitted from logarithmic plot\"\n"
     ]
    },
    {
     "data": {
      "text/html": [
       "<table>\n",
       "<caption>A matrix: 2 × 109 of type dbl</caption>\n",
       "<tbody>\n",
       "\t<tr><th scope=row>breaks</th><td>50000000</td><td>1e+08</td><td>1.5e+08</td><td>2e+08</td><td>2.5e+08</td><td>3e+08</td><td>3.5e+08</td><td>4e+08</td><td>4.5e+08</td><td>5e+08</td><td>...</td><td>5e+09</td><td>5.05e+09</td><td>5.1e+09</td><td>5.15e+09</td><td>5.2e+09</td><td>5.25e+09</td><td>5.3e+09</td><td>5.35e+09</td><td>5.4e+09</td><td>5.45e+09</td></tr>\n",
       "\t<tr><th scope=row>counts</th><td>  194914</td><td>0e+00</td><td>2.0e+00</td><td>2e+00</td><td>3.0e+00</td><td>1e+00</td><td>1.0e+00</td><td>3e+00</td><td>3.0e+00</td><td>1e+00</td><td>...</td><td>0e+00</td><td>0.00e+00</td><td>0.0e+00</td><td>0.00e+00</td><td>0.0e+00</td><td>0.00e+00</td><td>0.0e+00</td><td>0.00e+00</td><td>0.0e+00</td><td>1.00e+00</td></tr>\n",
       "</tbody>\n",
       "</table>\n"
      ],
      "text/latex": [
       "A matrix: 2 × 109 of type dbl\n",
       "\\begin{tabular}{r|lllllllllllllllllllll}\n",
       "\tbreaks & 50000000 & 1e+08 & 1.5e+08 & 2e+08 & 2.5e+08 & 3e+08 & 3.5e+08 & 4e+08 & 4.5e+08 & 5e+08 & ... & 5e+09 & 5.05e+09 & 5.1e+09 & 5.15e+09 & 5.2e+09 & 5.25e+09 & 5.3e+09 & 5.35e+09 & 5.4e+09 & 5.45e+09\\\\\n",
       "\tcounts &   194914 & 0e+00 & 2.0e+00 & 2e+00 & 3.0e+00 & 1e+00 & 1.0e+00 & 3e+00 & 3.0e+00 & 1e+00 & ... & 0e+00 & 0.00e+00 & 0.0e+00 & 0.00e+00 & 0.0e+00 & 0.00e+00 & 0.0e+00 & 0.00e+00 & 0.0e+00 & 1.00e+00\\\\\n",
       "\\end{tabular}\n"
      ],
      "text/markdown": [
       "\n",
       "A matrix: 2 × 109 of type dbl\n",
       "\n",
       "| breaks | 50000000 | 1e+08 | 1.5e+08 | 2e+08 | 2.5e+08 | 3e+08 | 3.5e+08 | 4e+08 | 4.5e+08 | 5e+08 | ... | 5e+09 | 5.05e+09 | 5.1e+09 | 5.15e+09 | 5.2e+09 | 5.25e+09 | 5.3e+09 | 5.35e+09 | 5.4e+09 | 5.45e+09 |\n",
       "| counts |   194914 | 0e+00 | 2.0e+00 | 2e+00 | 3.0e+00 | 1e+00 | 1.0e+00 | 3e+00 | 3.0e+00 | 1e+00 | ... | 0e+00 | 0.00e+00 | 0.0e+00 | 0.00e+00 | 0.0e+00 | 0.00e+00 | 0.0e+00 | 0.00e+00 | 0.0e+00 | 1.00e+00 |\n",
       "\n"
      ],
      "text/plain": [
       "       [,1]     [,2]  [,3]    [,4]  [,5]    [,6]  [,7]    [,8]  [,9]    [,10]\n",
       "breaks 50000000 1e+08 1.5e+08 2e+08 2.5e+08 3e+08 3.5e+08 4e+08 4.5e+08 5e+08\n",
       "counts   194914 0e+00 2.0e+00 2e+00 3.0e+00 1e+00 1.0e+00 3e+00 3.0e+00 1e+00\n",
       "       [,11] [,12] [,13]    [,14]   [,15]    [,16]   [,17]    [,18]   [,19]   \n",
       "breaks ...   5e+09 5.05e+09 5.1e+09 5.15e+09 5.2e+09 5.25e+09 5.3e+09 5.35e+09\n",
       "counts ...   0e+00 0.00e+00 0.0e+00 0.00e+00 0.0e+00 0.00e+00 0.0e+00 0.00e+00\n",
       "       [,20]   [,21]   \n",
       "breaks 5.4e+09 5.45e+09\n",
       "counts 0.0e+00 1.00e+00"
      ]
     },
     "metadata": {},
     "output_type": "display_data"
    },
    {
     "data": {
      "image/png": "[encoded data removed]",
      "text/plain": [
       "plot without title"
      ]
     },
     "metadata": {
      "image/png": {
       "height": 420,
       "width": 420
      }
     },
     "output_type": "display_data"
    }
   ],
   "source": [
    "thist2=hist(data.complete[,\"orig_bytes\"],breaks=nbreaks,plot=FALSE)\n",
    "plot(thist2$mids,thist2$density,log=\"y\",type=\"b\",\n",
    "     xlab=\"orig_bytes\",ylab=\"histogram density\")\n",
    "\n",
    "breaks2<-thist2$breaks[-1]\n",
    "df2<-data.frame(breaks=breaks2,counts=thist2$counts)\n",
    "t(df2)"
   ]
  },
  {
   "cell_type": "code",
   "execution_count": 13,
   "metadata": {},
   "outputs": [
    {
     "name": "stderr",
     "output_type": "stream",
     "text": [
      "Warning message in xy.coords(x, y, xlabel, ylabel, log):\n",
      "\"61 y values <= 0 omitted from logarithmic plot\"\n"
     ]
    },
    {
     "data": {
      "text/html": [
       "<table>\n",
       "<caption>A matrix: 2 × 72 of type dbl</caption>\n",
       "<tbody>\n",
       "\t<tr><th scope=row>breaks</th><td>500000</td><td>1000000</td><td>1500000</td><td>2e+06</td><td>2500000</td><td>3e+06</td><td>3500000</td><td>4e+06</td><td>4500000</td><td>5e+06</td><td>...</td><td>31500000</td><td>3.2e+07</td><td>32500000</td><td>3.3e+07</td><td>33500000</td><td>3.4e+07</td><td>34500000</td><td>3.5e+07</td><td>35500000</td><td>3.6e+07</td></tr>\n",
       "\t<tr><th scope=row>counts</th><td>194952</td><td>     13</td><td>      5</td><td>1e+00</td><td>      3</td><td>0e+00</td><td>      1</td><td>0e+00</td><td>      1</td><td>1e+00</td><td>...</td><td>       0</td><td>0.0e+00</td><td>       0</td><td>0.0e+00</td><td>       0</td><td>0.0e+00</td><td>       0</td><td>0.0e+00</td><td>       0</td><td>1.0e+00</td></tr>\n",
       "</tbody>\n",
       "</table>\n"
      ],
      "text/latex": [
       "A matrix: 2 × 72 of type dbl\n",
       "\\begin{tabular}{r|lllllllllllllllllllll}\n",
       "\tbreaks & 500000 & 1000000 & 1500000 & 2e+06 & 2500000 & 3e+06 & 3500000 & 4e+06 & 4500000 & 5e+06 & ... & 31500000 & 3.2e+07 & 32500000 & 3.3e+07 & 33500000 & 3.4e+07 & 34500000 & 3.5e+07 & 35500000 & 3.6e+07\\\\\n",
       "\tcounts & 194952 &      13 &       5 & 1e+00 &       3 & 0e+00 &       1 & 0e+00 &       1 & 1e+00 & ... &        0 & 0.0e+00 &        0 & 0.0e+00 &        0 & 0.0e+00 &        0 & 0.0e+00 &        0 & 1.0e+00\\\\\n",
       "\\end{tabular}\n"
      ],
      "text/markdown": [
       "\n",
       "A matrix: 2 × 72 of type dbl\n",
       "\n",
       "| breaks | 500000 | 1000000 | 1500000 | 2e+06 | 2500000 | 3e+06 | 3500000 | 4e+06 | 4500000 | 5e+06 | ... | 31500000 | 3.2e+07 | 32500000 | 3.3e+07 | 33500000 | 3.4e+07 | 34500000 | 3.5e+07 | 35500000 | 3.6e+07 |\n",
       "| counts | 194952 |      13 |       5 | 1e+00 |       3 | 0e+00 |       1 | 0e+00 |       1 | 1e+00 | ... |        0 | 0.0e+00 |        0 | 0.0e+00 |        0 | 0.0e+00 |        0 | 0.0e+00 |        0 | 1.0e+00 |\n",
       "\n"
      ],
      "text/plain": [
       "       [,1]   [,2]    [,3]    [,4]  [,5]    [,6]  [,7]    [,8]  [,9]    [,10]\n",
       "breaks 500000 1000000 1500000 2e+06 2500000 3e+06 3500000 4e+06 4500000 5e+06\n",
       "counts 194952      13       5 1e+00       3 0e+00       1 0e+00       1 1e+00\n",
       "       [,11] [,12]    [,13]   [,14]    [,15]   [,16]    [,17]   [,18]   \n",
       "breaks ...   31500000 3.2e+07 32500000 3.3e+07 33500000 3.4e+07 34500000\n",
       "counts ...          0 0.0e+00        0 0.0e+00        0 0.0e+00        0\n",
       "       [,19]   [,20]    [,21]  \n",
       "breaks 3.5e+07 35500000 3.6e+07\n",
       "counts 0.0e+00        0 1.0e+00"
      ]
     },
     "metadata": {},
     "output_type": "display_data"
    },
    {
     "data": {
      "image/png": "[encoded data removed]",
      "text/plain": [
       "plot without title"
      ]
     },
     "metadata": {
      "image/png": {
       "height": 420,
       "width": 420
      }
     },
     "output_type": "display_data"
    }
   ],
   "source": [
    "thist3=hist(data.complete[,\"resp_bytes\"],breaks=nbreaks,plot=FALSE)\n",
    "plot(thist3$mids,thist3$density,log=\"y\",type=\"b\",\n",
    "     xlab=\"resp_bytes\",ylab=\"histogram density\")\n",
    "\n",
    "breaks3<-thist3$breaks[-1]\n",
    "df3<-data.frame(breaks=breaks3,counts=thist3$counts)\n",
    "t(df3)"
   ]
  },
  {
   "cell_type": "markdown",
   "metadata": {},
   "source": [
    "We can know that there are very few but large outliers in the three variables."
   ]
  },
  {
   "cell_type": "code",
   "execution_count": 14,
   "metadata": {},
   "outputs": [
    {
     "data": {
      "text/html": [
       "0.999851266796595"
      ],
      "text/latex": [
       "0.999851266796595"
      ],
      "text/markdown": [
       "0.999851266796595"
      ],
      "text/plain": [
       "[1] 0.9998513"
      ]
     },
     "metadata": {},
     "output_type": "display_data"
    }
   ],
   "source": [
    "a=data.complete[data.complete[,\"duration\"]<1200,]\n",
    "nrow(a)/nrow(data_complete)"
   ]
  },
  {
   "cell_type": "code",
   "execution_count": 15,
   "metadata": {},
   "outputs": [
    {
     "data": {
      "text/html": [
       "0.99965124628167"
      ],
      "text/latex": [
       "0.99965124628167"
      ],
      "text/markdown": [
       "0.99965124628167"
      ],
      "text/plain": [
       "[1] 0.9996512"
      ]
     },
     "metadata": {},
     "output_type": "display_data"
    }
   ],
   "source": [
    "b=data.complete[data.complete[,\"orig_bytes\"]<1000000,]\n",
    "nrow(b)/nrow(data.complete)"
   ]
  },
  {
   "cell_type": "code",
   "execution_count": 16,
   "metadata": {},
   "outputs": [
    {
     "data": {
      "text/html": [
       "0.999923069032721"
      ],
      "text/latex": [
       "0.999923069032721"
      ],
      "text/markdown": [
       "0.999923069032721"
      ],
      "text/plain": [
       "[1] 0.9999231"
      ]
     },
     "metadata": {},
     "output_type": "display_data"
    }
   ],
   "source": [
    "c=data.complete[data.complete[,\"resp_bytes\"]<1000000,]\n",
    "nrow(c)/nrow(data.complete)"
   ]
  },
  {
   "cell_type": "code",
   "execution_count": 17,
   "metadata": {},
   "outputs": [
    {
     "data": {
      "text/html": [
       "194874"
      ],
      "text/latex": [
       "194874"
      ],
      "text/markdown": [
       "194874"
      ],
      "text/plain": [
       "[1] 194874"
      ]
     },
     "metadata": {},
     "output_type": "display_data"
    }
   ],
   "source": [
    "data.c1=data.complete[data.complete[,\"duration\"]<1200,]\n",
    "data.c2=data.c1[data.c1[,\"orig_bytes\"]<1000000,]\n",
    "data.complete1=data.c2[data.c2[,\"resp_bytes\"]<1000000,]\n",
    "nrow(data.complete1)"
   ]
  },
  {
   "cell_type": "markdown",
   "metadata": {},
   "source": [
    "We set three thresholds, all of which kept most of the data while removing the outliers. After processing, there are 194874 data remaining."
   ]
  },
  {
   "cell_type": "code",
   "execution_count": null,
   "metadata": {},
   "outputs": [],
   "source": [
    "data.missing1 <- data.complete1\n",
    "data.missing1[sample(1:nrow(data.missing1),nrow(data.missing1)*0.8281686),\"duration\"] <- NA\n",
    "data.missing1[is.na(data.missing1$duration),\"orig_bytes\"] <- NA\n",
    "data.missing1[is.na(data.missing1$duration),\"resp_bytes\"] <- NA"
   ]
  },
  {
   "cell_type": "code",
   "execution_count": null,
   "metadata": {},
   "outputs": [],
   "source": [
    "write.csv.gz(data.complete1,\"test_complete2.csv.gz\",row.names=FALSE)"
   ]
  },
  {
   "cell_type": "code",
   "execution_count": null,
   "metadata": {},
   "outputs": [],
   "source": [
    "write.csv.gz(data.missing1,\"test_missing2.csv.gz\",row.names=FALSE)"
   ]
  },
  {
   "cell_type": "markdown",
   "metadata": {},
   "source": [
    "Finally we get the second test dataset, which removes some outliers and may improve the prediction performance of the model."
   ]
  }
 ],
 "metadata": {
  "kernelspec": {
   "display_name": "R",
   "language": "R",
   "name": "ir"
  },
  "language_info": {
   "codemirror_mode": "r",
   "file_extension": ".r",
   "mimetype": "text/x-r-source",
   "name": "R",
   "pygments_lexer": "r",
   "version": "4.0.2"
  }
 },
 "nbformat": 4,
 "nbformat_minor": 4
}
