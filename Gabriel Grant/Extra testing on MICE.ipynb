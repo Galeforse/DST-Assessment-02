{
 "cells": [
  {
   "cell_type": "code",
   "execution_count": 2,
   "metadata": {
    "collapsed": true,
    "jupyter": {
     "outputs_hidden": true
    }
   },
   "outputs": [
    {
     "name": "stderr",
     "output_type": "stream",
     "text": [
      "\n",
      "Attaching package: 'lubridate'\n",
      "\n",
      "\n",
      "The following objects are masked from 'package:base':\n",
      "\n",
      "    date, intersect, setdiff, union\n",
      "\n",
      "\n",
      "Loading required package: mice\n",
      "\n",
      "\n",
      "Attaching package: 'mice'\n",
      "\n",
      "\n",
      "The following object is masked from 'package:stats':\n",
      "\n",
      "    filter\n",
      "\n",
      "\n",
      "The following objects are masked from 'package:base':\n",
      "\n",
      "    cbind, rbind\n",
      "\n",
      "\n",
      "Registered S3 method overwritten by 'quantmod':\n",
      "  method            from\n",
      "  as.zoo.data.frame zoo \n",
      "\n",
      "\n",
      "Attaching package: 'dlookr'\n",
      "\n",
      "\n",
      "The following object is masked from 'package:base':\n",
      "\n",
      "    transform\n",
      "\n",
      "\n",
      "\n",
      "Attaching package: 'dplyr'\n",
      "\n",
      "\n",
      "The following objects are masked from 'package:stats':\n",
      "\n",
      "    filter, lag\n",
      "\n",
      "\n",
      "The following objects are masked from 'package:base':\n",
      "\n",
      "    intersect, setdiff, setequal, union\n",
      "\n",
      "\n",
      "Loading required package: colorspace\n",
      "\n",
      "Loading required package: grid\n",
      "\n",
      "VIM is ready to use.\n",
      "\n",
      "\n",
      "Suggestions and bug-reports can be submitted at: https://github.com/statistikat/VIM/issues\n",
      "\n",
      "\n",
      "Attaching package: 'VIM'\n",
      "\n",
      "\n",
      "The following object is masked from 'package:datasets':\n",
      "\n",
      "    sleep\n",
      "\n",
      "\n"
     ]
    }
   ],
   "source": [
    "library(lubridate)\n",
    "library(dlookr)\n",
    "library(dplyr)\n",
    "library(mice)\n",
    "library(VIM)"
   ]
  },
  {
   "cell_type": "code",
   "execution_count": 3,
   "metadata": {},
   "outputs": [
    {
     "name": "stdout",
     "output_type": "stream",
     "text": [
      "[1] \"Data imported in:\"\n",
      "[1] \"2.53S\"\n"
     ]
    }
   ],
   "source": [
    "temp2 <- tempfile()\n",
    "start <- proc.time()\n",
    "download.file(\"https://github.com/Galeforse/DST-Assessment-02/raw/main/Data/NoService/1_percent_data_no_service.csv.gz\",temp2)\n",
    "data1 <- (read.csv(gzfile(temp2)))\n",
    "print(\"Data imported in:\")\n",
    "print(seconds_to_period((proc.time()-start)[3]))"
   ]
  },
  {
   "cell_type": "code",
   "execution_count": 4,
   "metadata": {},
   "outputs": [
    {
     "name": "stdout",
     "output_type": "stream",
     "text": [
      "[1] \"Data imported in:\"\n",
      "[1] \"2.01999999999998S\"\n"
     ]
    }
   ],
   "source": [
    "temp2 <- tempfile()\n",
    "start <- proc.time()\n",
    "download.file(\"https://github.com/Galeforse/DST-Assessment-02/raw/main/Data/NoService/1_percent_data_head_no_service.csv.gz\",temp2)\n",
    "data2 <- (read.csv(gzfile(temp2)))\n",
    "print(\"Data imported in:\")\n",
    "print(seconds_to_period((proc.time()-start)[3]))"
   ]
  },
  {
   "cell_type": "code",
   "execution_count": 5,
   "metadata": {},
   "outputs": [
    {
     "name": "stdout",
     "output_type": "stream",
     "text": [
      "[1] \"Data imported in:\"\n",
      "[1] \"13.23S\"\n"
     ]
    }
   ],
   "source": [
    "temp2 <- tempfile()\n",
    "start <- proc.time()\n",
    "download.file(\"https://github.com/Galeforse/DST-Assessment-02/raw/main/Data/NoService/5_percent_data_no_service.csv.gz\",temp2)\n",
    "data3 <- (read.csv(gzfile(temp2)))\n",
    "print(\"Data imported in:\")\n",
    "print(seconds_to_period((proc.time()-start)[3]))"
   ]
  },
  {
   "cell_type": "code",
   "execution_count": 6,
   "metadata": {},
   "outputs": [
    {
     "name": "stdout",
     "output_type": "stream",
     "text": [
      "[1] \"Data imported in:\"\n",
      "[1] \"8.59999999999999S\"\n"
     ]
    }
   ],
   "source": [
    "temp2 <- tempfile()\n",
    "start <- proc.time()\n",
    "download.file(\"https://github.com/Galeforse/DST-Assessment-02/raw/main/Data/NoService/5_percent_data_head_no_service.csv.gz\",temp2)\n",
    "data4 <- (read.csv(gzfile(temp2)))\n",
    "print(\"Data imported in:\")\n",
    "print(seconds_to_period((proc.time()-start)[3]))"
   ]
  },
  {
   "cell_type": "code",
   "execution_count": 8,
   "metadata": {},
   "outputs": [
    {
     "data": {
      "text/html": [
       "<table>\n",
       "<caption>A data.frame: 6 × 16</caption>\n",
       "<thead>\n",
       "\t<tr><th></th><th scope=col>ts</th><th scope=col>orig_ip</th><th scope=col>orig_port</th><th scope=col>resp_ip</th><th scope=col>resp_port</th><th scope=col>proto</th><th scope=col>duration</th><th scope=col>orig_bytes</th><th scope=col>resp_bytes</th><th scope=col>conn_state</th><th scope=col>missed_bytes</th><th scope=col>history</th><th scope=col>orig_pkts</th><th scope=col>orig_ip_bytes</th><th scope=col>resp_pkts</th><th scope=col>resp_ip_bytes</th></tr>\n",
       "\t<tr><th></th><th scope=col>&lt;dbl&gt;</th><th scope=col>&lt;chr&gt;</th><th scope=col>&lt;int&gt;</th><th scope=col>&lt;chr&gt;</th><th scope=col>&lt;int&gt;</th><th scope=col>&lt;chr&gt;</th><th scope=col>&lt;dbl&gt;</th><th scope=col>&lt;dbl&gt;</th><th scope=col>&lt;int&gt;</th><th scope=col>&lt;chr&gt;</th><th scope=col>&lt;int&gt;</th><th scope=col>&lt;chr&gt;</th><th scope=col>&lt;int&gt;</th><th scope=col>&lt;int&gt;</th><th scope=col>&lt;int&gt;</th><th scope=col>&lt;int&gt;</th></tr>\n",
       "</thead>\n",
       "<tbody>\n",
       "\t<tr><th scope=row>1</th><td>1331915797</td><td>192.168.202.102</td><td> 2633</td><td>192.168.23.202</td><td>  80</td><td>tcp</td><td>0.03</td><td>481</td><td>8133</td><td>RSTO</td><td>0</td><td>ShADadfR</td><td>8</td><td>813</td><td>9</td><td>8505</td></tr>\n",
       "\t<tr><th scope=row>2</th><td>1331923392</td><td>192.168.202.110</td><td>11574</td><td>192.168.23.253</td><td>1724</td><td>tcp</td><td>  NA</td><td> NA</td><td>  NA</td><td>REJ </td><td>0</td><td>Sr      </td><td>1</td><td> 48</td><td>1</td><td>  40</td></tr>\n",
       "\t<tr><th scope=row>3</th><td>1331905217</td><td>192.168.202.83 </td><td>41267</td><td>192.168.206.44</td><td>8010</td><td>tcp</td><td>  NA</td><td> NA</td><td>  NA</td><td>REJ </td><td>0</td><td>Sr      </td><td>1</td><td> 60</td><td>1</td><td>  40</td></tr>\n",
       "\t<tr><th scope=row>4</th><td>1331994375</td><td>192.168.202.83 </td><td>58519</td><td>192.168.206.44</td><td>5214</td><td>tcp</td><td>  NA</td><td> NA</td><td>  NA</td><td>REJ </td><td>0</td><td>Sr      </td><td>1</td><td> 60</td><td>1</td><td>  40</td></tr>\n",
       "\t<tr><th scope=row>5</th><td>1331999507</td><td>192.168.202.140</td><td>25774</td><td>192.168.23.252</td><td>1625</td><td>tcp</td><td>  NA</td><td> NA</td><td>  NA</td><td>S0  </td><td>0</td><td>S       </td><td>1</td><td> 48</td><td>0</td><td>   0</td></tr>\n",
       "\t<tr><th scope=row>6</th><td>1331935766</td><td>192.168.202.83 </td><td>60760</td><td>192.168.206.44</td><td>1580</td><td>tcp</td><td>  NA</td><td> NA</td><td>  NA</td><td>REJ </td><td>0</td><td>Sr      </td><td>1</td><td> 60</td><td>1</td><td>  40</td></tr>\n",
       "</tbody>\n",
       "</table>\n"
      ],
      "text/latex": [
       "A data.frame: 6 × 16\n",
       "\\begin{tabular}{r|llllllllllllllll}\n",
       "  & ts & orig\\_ip & orig\\_port & resp\\_ip & resp\\_port & proto & duration & orig\\_bytes & resp\\_bytes & conn\\_state & missed\\_bytes & history & orig\\_pkts & orig\\_ip\\_bytes & resp\\_pkts & resp\\_ip\\_bytes\\\\\n",
       "  & <dbl> & <chr> & <int> & <chr> & <int> & <chr> & <dbl> & <dbl> & <int> & <chr> & <int> & <chr> & <int> & <int> & <int> & <int>\\\\\n",
       "\\hline\n",
       "\t1 & 1331915797 & 192.168.202.102 &  2633 & 192.168.23.202 &   80 & tcp & 0.03 & 481 & 8133 & RSTO & 0 & ShADadfR & 8 & 813 & 9 & 8505\\\\\n",
       "\t2 & 1331923392 & 192.168.202.110 & 11574 & 192.168.23.253 & 1724 & tcp &   NA &  NA &   NA & REJ  & 0 & Sr       & 1 &  48 & 1 &   40\\\\\n",
       "\t3 & 1331905217 & 192.168.202.83  & 41267 & 192.168.206.44 & 8010 & tcp &   NA &  NA &   NA & REJ  & 0 & Sr       & 1 &  60 & 1 &   40\\\\\n",
       "\t4 & 1331994375 & 192.168.202.83  & 58519 & 192.168.206.44 & 5214 & tcp &   NA &  NA &   NA & REJ  & 0 & Sr       & 1 &  60 & 1 &   40\\\\\n",
       "\t5 & 1331999507 & 192.168.202.140 & 25774 & 192.168.23.252 & 1625 & tcp &   NA &  NA &   NA & S0   & 0 & S        & 1 &  48 & 0 &    0\\\\\n",
       "\t6 & 1331935766 & 192.168.202.83  & 60760 & 192.168.206.44 & 1580 & tcp &   NA &  NA &   NA & REJ  & 0 & Sr       & 1 &  60 & 1 &   40\\\\\n",
       "\\end{tabular}\n"
      ],
      "text/markdown": [
       "\n",
       "A data.frame: 6 × 16\n",
       "\n",
       "| <!--/--> | ts &lt;dbl&gt; | orig_ip &lt;chr&gt; | orig_port &lt;int&gt; | resp_ip &lt;chr&gt; | resp_port &lt;int&gt; | proto &lt;chr&gt; | duration &lt;dbl&gt; | orig_bytes &lt;dbl&gt; | resp_bytes &lt;int&gt; | conn_state &lt;chr&gt; | missed_bytes &lt;int&gt; | history &lt;chr&gt; | orig_pkts &lt;int&gt; | orig_ip_bytes &lt;int&gt; | resp_pkts &lt;int&gt; | resp_ip_bytes &lt;int&gt; |\n",
       "|---|---|---|---|---|---|---|---|---|---|---|---|---|---|---|---|---|\n",
       "| 1 | 1331915797 | 192.168.202.102 |  2633 | 192.168.23.202 |   80 | tcp | 0.03 | 481 | 8133 | RSTO | 0 | ShADadfR | 8 | 813 | 9 | 8505 |\n",
       "| 2 | 1331923392 | 192.168.202.110 | 11574 | 192.168.23.253 | 1724 | tcp |   NA |  NA |   NA | REJ  | 0 | Sr       | 1 |  48 | 1 |   40 |\n",
       "| 3 | 1331905217 | 192.168.202.83  | 41267 | 192.168.206.44 | 8010 | tcp |   NA |  NA |   NA | REJ  | 0 | Sr       | 1 |  60 | 1 |   40 |\n",
       "| 4 | 1331994375 | 192.168.202.83  | 58519 | 192.168.206.44 | 5214 | tcp |   NA |  NA |   NA | REJ  | 0 | Sr       | 1 |  60 | 1 |   40 |\n",
       "| 5 | 1331999507 | 192.168.202.140 | 25774 | 192.168.23.252 | 1625 | tcp |   NA |  NA |   NA | S0   | 0 | S        | 1 |  48 | 0 |    0 |\n",
       "| 6 | 1331935766 | 192.168.202.83  | 60760 | 192.168.206.44 | 1580 | tcp |   NA |  NA |   NA | REJ  | 0 | Sr       | 1 |  60 | 1 |   40 |\n",
       "\n"
      ],
      "text/plain": [
       "  ts         orig_ip         orig_port resp_ip        resp_port proto duration\n",
       "1 1331915797 192.168.202.102  2633     192.168.23.202   80      tcp   0.03    \n",
       "2 1331923392 192.168.202.110 11574     192.168.23.253 1724      tcp     NA    \n",
       "3 1331905217 192.168.202.83  41267     192.168.206.44 8010      tcp     NA    \n",
       "4 1331994375 192.168.202.83  58519     192.168.206.44 5214      tcp     NA    \n",
       "5 1331999507 192.168.202.140 25774     192.168.23.252 1625      tcp     NA    \n",
       "6 1331935766 192.168.202.83  60760     192.168.206.44 1580      tcp     NA    \n",
       "  orig_bytes resp_bytes conn_state missed_bytes history  orig_pkts\n",
       "1 481        8133       RSTO       0            ShADadfR 8        \n",
       "2  NA          NA       REJ        0            Sr       1        \n",
       "3  NA          NA       REJ        0            Sr       1        \n",
       "4  NA          NA       REJ        0            Sr       1        \n",
       "5  NA          NA       S0         0            S        1        \n",
       "6  NA          NA       REJ        0            Sr       1        \n",
       "  orig_ip_bytes resp_pkts resp_ip_bytes\n",
       "1 813           9         8505         \n",
       "2  48           1           40         \n",
       "3  60           1           40         \n",
       "4  60           1           40         \n",
       "5  48           0            0         \n",
       "6  60           1           40         "
      ]
     },
     "metadata": {},
     "output_type": "display_data"
    },
    {
     "data": {
      "text/html": [
       "<table>\n",
       "<caption>A data.frame: 6 × 16</caption>\n",
       "<thead>\n",
       "\t<tr><th></th><th scope=col>ts</th><th scope=col>orig_ip</th><th scope=col>orig_port</th><th scope=col>resp_ip</th><th scope=col>resp_port</th><th scope=col>proto</th><th scope=col>duration</th><th scope=col>orig_bytes</th><th scope=col>resp_bytes</th><th scope=col>conn_state</th><th scope=col>missed_bytes</th><th scope=col>history</th><th scope=col>orig_pkts</th><th scope=col>orig_ip_bytes</th><th scope=col>resp_pkts</th><th scope=col>resp_ip_bytes</th></tr>\n",
       "\t<tr><th></th><th scope=col>&lt;dbl&gt;</th><th scope=col>&lt;chr&gt;</th><th scope=col>&lt;int&gt;</th><th scope=col>&lt;chr&gt;</th><th scope=col>&lt;int&gt;</th><th scope=col>&lt;chr&gt;</th><th scope=col>&lt;dbl&gt;</th><th scope=col>&lt;int&gt;</th><th scope=col>&lt;int&gt;</th><th scope=col>&lt;chr&gt;</th><th scope=col>&lt;int&gt;</th><th scope=col>&lt;chr&gt;</th><th scope=col>&lt;int&gt;</th><th scope=col>&lt;int&gt;</th><th scope=col>&lt;int&gt;</th><th scope=col>&lt;int&gt;</th></tr>\n",
       "</thead>\n",
       "<tbody>\n",
       "\t<tr><th scope=row>1</th><td>1331901000</td><td>192.168.202.79</td><td>50463</td><td>192.168.229.251</td><td> 80</td><td>tcp</td><td>  NA</td><td> NA</td><td>  NA</td><td>SH</td><td>0</td><td>Fa       </td><td>1</td><td> 52</td><td> 1</td><td>  52</td></tr>\n",
       "\t<tr><th scope=row>2</th><td>1331901000</td><td>192.168.202.79</td><td>46117</td><td>192.168.229.254</td><td>443</td><td>tcp</td><td>  NA</td><td> NA</td><td>  NA</td><td>SF</td><td>0</td><td>dDafFr   </td><td>3</td><td>382</td><td> 9</td><td> 994</td></tr>\n",
       "\t<tr><th scope=row>3</th><td>1331901000</td><td>192.168.202.79</td><td>50465</td><td>192.168.229.251</td><td> 80</td><td>tcp</td><td>0.01</td><td>166</td><td> 214</td><td>SF</td><td>0</td><td>ShADfFa  </td><td>4</td><td>382</td><td> 3</td><td> 382</td></tr>\n",
       "\t<tr><th scope=row>4</th><td>1331901000</td><td>192.168.202.79</td><td>50467</td><td>192.168.229.251</td><td> 80</td><td>tcp</td><td>0.01</td><td>166</td><td> 214</td><td>SF</td><td>0</td><td>ShADfFa  </td><td>4</td><td>382</td><td> 3</td><td> 382</td></tr>\n",
       "\t<tr><th scope=row>5</th><td>1331901000</td><td>192.168.202.79</td><td>46119</td><td>192.168.229.254</td><td>443</td><td>tcp</td><td>0.02</td><td>544</td><td>1060</td><td>SF</td><td>0</td><td>ShADadfFr</td><td>8</td><td>968</td><td>13</td><td>1744</td></tr>\n",
       "\t<tr><th scope=row>6</th><td>1331901000</td><td>192.168.202.79</td><td>46121</td><td>192.168.229.254</td><td>443</td><td>tcp</td><td>0.01</td><td>544</td><td>1060</td><td>SF</td><td>0</td><td>ShADadfFr</td><td>8</td><td>968</td><td>13</td><td>1744</td></tr>\n",
       "</tbody>\n",
       "</table>\n"
      ],
      "text/latex": [
       "A data.frame: 6 × 16\n",
       "\\begin{tabular}{r|llllllllllllllll}\n",
       "  & ts & orig\\_ip & orig\\_port & resp\\_ip & resp\\_port & proto & duration & orig\\_bytes & resp\\_bytes & conn\\_state & missed\\_bytes & history & orig\\_pkts & orig\\_ip\\_bytes & resp\\_pkts & resp\\_ip\\_bytes\\\\\n",
       "  & <dbl> & <chr> & <int> & <chr> & <int> & <chr> & <dbl> & <int> & <int> & <chr> & <int> & <chr> & <int> & <int> & <int> & <int>\\\\\n",
       "\\hline\n",
       "\t1 & 1331901000 & 192.168.202.79 & 50463 & 192.168.229.251 &  80 & tcp &   NA &  NA &   NA & SH & 0 & Fa        & 1 &  52 &  1 &   52\\\\\n",
       "\t2 & 1331901000 & 192.168.202.79 & 46117 & 192.168.229.254 & 443 & tcp &   NA &  NA &   NA & SF & 0 & dDafFr    & 3 & 382 &  9 &  994\\\\\n",
       "\t3 & 1331901000 & 192.168.202.79 & 50465 & 192.168.229.251 &  80 & tcp & 0.01 & 166 &  214 & SF & 0 & ShADfFa   & 4 & 382 &  3 &  382\\\\\n",
       "\t4 & 1331901000 & 192.168.202.79 & 50467 & 192.168.229.251 &  80 & tcp & 0.01 & 166 &  214 & SF & 0 & ShADfFa   & 4 & 382 &  3 &  382\\\\\n",
       "\t5 & 1331901000 & 192.168.202.79 & 46119 & 192.168.229.254 & 443 & tcp & 0.02 & 544 & 1060 & SF & 0 & ShADadfFr & 8 & 968 & 13 & 1744\\\\\n",
       "\t6 & 1331901000 & 192.168.202.79 & 46121 & 192.168.229.254 & 443 & tcp & 0.01 & 544 & 1060 & SF & 0 & ShADadfFr & 8 & 968 & 13 & 1744\\\\\n",
       "\\end{tabular}\n"
      ],
      "text/markdown": [
       "\n",
       "A data.frame: 6 × 16\n",
       "\n",
       "| <!--/--> | ts &lt;dbl&gt; | orig_ip &lt;chr&gt; | orig_port &lt;int&gt; | resp_ip &lt;chr&gt; | resp_port &lt;int&gt; | proto &lt;chr&gt; | duration &lt;dbl&gt; | orig_bytes &lt;int&gt; | resp_bytes &lt;int&gt; | conn_state &lt;chr&gt; | missed_bytes &lt;int&gt; | history &lt;chr&gt; | orig_pkts &lt;int&gt; | orig_ip_bytes &lt;int&gt; | resp_pkts &lt;int&gt; | resp_ip_bytes &lt;int&gt; |\n",
       "|---|---|---|---|---|---|---|---|---|---|---|---|---|---|---|---|---|\n",
       "| 1 | 1331901000 | 192.168.202.79 | 50463 | 192.168.229.251 |  80 | tcp |   NA |  NA |   NA | SH | 0 | Fa        | 1 |  52 |  1 |   52 |\n",
       "| 2 | 1331901000 | 192.168.202.79 | 46117 | 192.168.229.254 | 443 | tcp |   NA |  NA |   NA | SF | 0 | dDafFr    | 3 | 382 |  9 |  994 |\n",
       "| 3 | 1331901000 | 192.168.202.79 | 50465 | 192.168.229.251 |  80 | tcp | 0.01 | 166 |  214 | SF | 0 | ShADfFa   | 4 | 382 |  3 |  382 |\n",
       "| 4 | 1331901000 | 192.168.202.79 | 50467 | 192.168.229.251 |  80 | tcp | 0.01 | 166 |  214 | SF | 0 | ShADfFa   | 4 | 382 |  3 |  382 |\n",
       "| 5 | 1331901000 | 192.168.202.79 | 46119 | 192.168.229.254 | 443 | tcp | 0.02 | 544 | 1060 | SF | 0 | ShADadfFr | 8 | 968 | 13 | 1744 |\n",
       "| 6 | 1331901000 | 192.168.202.79 | 46121 | 192.168.229.254 | 443 | tcp | 0.01 | 544 | 1060 | SF | 0 | ShADadfFr | 8 | 968 | 13 | 1744 |\n",
       "\n"
      ],
      "text/plain": [
       "  ts         orig_ip        orig_port resp_ip         resp_port proto duration\n",
       "1 1331901000 192.168.202.79 50463     192.168.229.251  80       tcp     NA    \n",
       "2 1331901000 192.168.202.79 46117     192.168.229.254 443       tcp     NA    \n",
       "3 1331901000 192.168.202.79 50465     192.168.229.251  80       tcp   0.01    \n",
       "4 1331901000 192.168.202.79 50467     192.168.229.251  80       tcp   0.01    \n",
       "5 1331901000 192.168.202.79 46119     192.168.229.254 443       tcp   0.02    \n",
       "6 1331901000 192.168.202.79 46121     192.168.229.254 443       tcp   0.01    \n",
       "  orig_bytes resp_bytes conn_state missed_bytes history   orig_pkts\n",
       "1  NA          NA       SH         0            Fa        1        \n",
       "2  NA          NA       SF         0            dDafFr    3        \n",
       "3 166         214       SF         0            ShADfFa   4        \n",
       "4 166         214       SF         0            ShADfFa   4        \n",
       "5 544        1060       SF         0            ShADadfFr 8        \n",
       "6 544        1060       SF         0            ShADadfFr 8        \n",
       "  orig_ip_bytes resp_pkts resp_ip_bytes\n",
       "1  52            1          52         \n",
       "2 382            9         994         \n",
       "3 382            3         382         \n",
       "4 382            3         382         \n",
       "5 968           13        1744         \n",
       "6 968           13        1744         "
      ]
     },
     "metadata": {},
     "output_type": "display_data"
    },
    {
     "data": {
      "text/html": [
       "<table>\n",
       "<caption>A data.frame: 6 × 16</caption>\n",
       "<thead>\n",
       "\t<tr><th></th><th scope=col>ts</th><th scope=col>orig_ip</th><th scope=col>orig_port</th><th scope=col>resp_ip</th><th scope=col>resp_port</th><th scope=col>proto</th><th scope=col>duration</th><th scope=col>orig_bytes</th><th scope=col>resp_bytes</th><th scope=col>conn_state</th><th scope=col>missed_bytes</th><th scope=col>history</th><th scope=col>orig_pkts</th><th scope=col>orig_ip_bytes</th><th scope=col>resp_pkts</th><th scope=col>resp_ip_bytes</th></tr>\n",
       "\t<tr><th></th><th scope=col>&lt;dbl&gt;</th><th scope=col>&lt;chr&gt;</th><th scope=col>&lt;int&gt;</th><th scope=col>&lt;chr&gt;</th><th scope=col>&lt;int&gt;</th><th scope=col>&lt;chr&gt;</th><th scope=col>&lt;dbl&gt;</th><th scope=col>&lt;dbl&gt;</th><th scope=col>&lt;int&gt;</th><th scope=col>&lt;chr&gt;</th><th scope=col>&lt;int&gt;</th><th scope=col>&lt;chr&gt;</th><th scope=col>&lt;int&gt;</th><th scope=col>&lt;int&gt;</th><th scope=col>&lt;int&gt;</th><th scope=col>&lt;int&gt;</th></tr>\n",
       "</thead>\n",
       "<tbody>\n",
       "\t<tr><th scope=row>1</th><td>1331915797</td><td>192.168.202.102</td><td> 2633</td><td>192.168.23.202</td><td>  80</td><td>tcp</td><td>0.03</td><td>481</td><td>8133</td><td>RSTO</td><td>0</td><td>ShADadfR</td><td>8</td><td>813</td><td>9</td><td>8505</td></tr>\n",
       "\t<tr><th scope=row>2</th><td>1331923392</td><td>192.168.202.110</td><td>11574</td><td>192.168.23.253</td><td>1724</td><td>tcp</td><td>  NA</td><td> NA</td><td>  NA</td><td>REJ </td><td>0</td><td>Sr      </td><td>1</td><td> 48</td><td>1</td><td>  40</td></tr>\n",
       "\t<tr><th scope=row>3</th><td>1331905217</td><td>192.168.202.83 </td><td>41267</td><td>192.168.206.44</td><td>8010</td><td>tcp</td><td>  NA</td><td> NA</td><td>  NA</td><td>REJ </td><td>0</td><td>Sr      </td><td>1</td><td> 60</td><td>1</td><td>  40</td></tr>\n",
       "\t<tr><th scope=row>4</th><td>1331994375</td><td>192.168.202.83 </td><td>58519</td><td>192.168.206.44</td><td>5214</td><td>tcp</td><td>  NA</td><td> NA</td><td>  NA</td><td>REJ </td><td>0</td><td>Sr      </td><td>1</td><td> 60</td><td>1</td><td>  40</td></tr>\n",
       "\t<tr><th scope=row>5</th><td>1331999507</td><td>192.168.202.140</td><td>25774</td><td>192.168.23.252</td><td>1625</td><td>tcp</td><td>  NA</td><td> NA</td><td>  NA</td><td>S0  </td><td>0</td><td>S       </td><td>1</td><td> 48</td><td>0</td><td>   0</td></tr>\n",
       "\t<tr><th scope=row>6</th><td>1331935766</td><td>192.168.202.83 </td><td>60760</td><td>192.168.206.44</td><td>1580</td><td>tcp</td><td>  NA</td><td> NA</td><td>  NA</td><td>REJ </td><td>0</td><td>Sr      </td><td>1</td><td> 60</td><td>1</td><td>  40</td></tr>\n",
       "</tbody>\n",
       "</table>\n"
      ],
      "text/latex": [
       "A data.frame: 6 × 16\n",
       "\\begin{tabular}{r|llllllllllllllll}\n",
       "  & ts & orig\\_ip & orig\\_port & resp\\_ip & resp\\_port & proto & duration & orig\\_bytes & resp\\_bytes & conn\\_state & missed\\_bytes & history & orig\\_pkts & orig\\_ip\\_bytes & resp\\_pkts & resp\\_ip\\_bytes\\\\\n",
       "  & <dbl> & <chr> & <int> & <chr> & <int> & <chr> & <dbl> & <dbl> & <int> & <chr> & <int> & <chr> & <int> & <int> & <int> & <int>\\\\\n",
       "\\hline\n",
       "\t1 & 1331915797 & 192.168.202.102 &  2633 & 192.168.23.202 &   80 & tcp & 0.03 & 481 & 8133 & RSTO & 0 & ShADadfR & 8 & 813 & 9 & 8505\\\\\n",
       "\t2 & 1331923392 & 192.168.202.110 & 11574 & 192.168.23.253 & 1724 & tcp &   NA &  NA &   NA & REJ  & 0 & Sr       & 1 &  48 & 1 &   40\\\\\n",
       "\t3 & 1331905217 & 192.168.202.83  & 41267 & 192.168.206.44 & 8010 & tcp &   NA &  NA &   NA & REJ  & 0 & Sr       & 1 &  60 & 1 &   40\\\\\n",
       "\t4 & 1331994375 & 192.168.202.83  & 58519 & 192.168.206.44 & 5214 & tcp &   NA &  NA &   NA & REJ  & 0 & Sr       & 1 &  60 & 1 &   40\\\\\n",
       "\t5 & 1331999507 & 192.168.202.140 & 25774 & 192.168.23.252 & 1625 & tcp &   NA &  NA &   NA & S0   & 0 & S        & 1 &  48 & 0 &    0\\\\\n",
       "\t6 & 1331935766 & 192.168.202.83  & 60760 & 192.168.206.44 & 1580 & tcp &   NA &  NA &   NA & REJ  & 0 & Sr       & 1 &  60 & 1 &   40\\\\\n",
       "\\end{tabular}\n"
      ],
      "text/markdown": [
       "\n",
       "A data.frame: 6 × 16\n",
       "\n",
       "| <!--/--> | ts &lt;dbl&gt; | orig_ip &lt;chr&gt; | orig_port &lt;int&gt; | resp_ip &lt;chr&gt; | resp_port &lt;int&gt; | proto &lt;chr&gt; | duration &lt;dbl&gt; | orig_bytes &lt;dbl&gt; | resp_bytes &lt;int&gt; | conn_state &lt;chr&gt; | missed_bytes &lt;int&gt; | history &lt;chr&gt; | orig_pkts &lt;int&gt; | orig_ip_bytes &lt;int&gt; | resp_pkts &lt;int&gt; | resp_ip_bytes &lt;int&gt; |\n",
       "|---|---|---|---|---|---|---|---|---|---|---|---|---|---|---|---|---|\n",
       "| 1 | 1331915797 | 192.168.202.102 |  2633 | 192.168.23.202 |   80 | tcp | 0.03 | 481 | 8133 | RSTO | 0 | ShADadfR | 8 | 813 | 9 | 8505 |\n",
       "| 2 | 1331923392 | 192.168.202.110 | 11574 | 192.168.23.253 | 1724 | tcp |   NA |  NA |   NA | REJ  | 0 | Sr       | 1 |  48 | 1 |   40 |\n",
       "| 3 | 1331905217 | 192.168.202.83  | 41267 | 192.168.206.44 | 8010 | tcp |   NA |  NA |   NA | REJ  | 0 | Sr       | 1 |  60 | 1 |   40 |\n",
       "| 4 | 1331994375 | 192.168.202.83  | 58519 | 192.168.206.44 | 5214 | tcp |   NA |  NA |   NA | REJ  | 0 | Sr       | 1 |  60 | 1 |   40 |\n",
       "| 5 | 1331999507 | 192.168.202.140 | 25774 | 192.168.23.252 | 1625 | tcp |   NA |  NA |   NA | S0   | 0 | S        | 1 |  48 | 0 |    0 |\n",
       "| 6 | 1331935766 | 192.168.202.83  | 60760 | 192.168.206.44 | 1580 | tcp |   NA |  NA |   NA | REJ  | 0 | Sr       | 1 |  60 | 1 |   40 |\n",
       "\n"
      ],
      "text/plain": [
       "  ts         orig_ip         orig_port resp_ip        resp_port proto duration\n",
       "1 1331915797 192.168.202.102  2633     192.168.23.202   80      tcp   0.03    \n",
       "2 1331923392 192.168.202.110 11574     192.168.23.253 1724      tcp     NA    \n",
       "3 1331905217 192.168.202.83  41267     192.168.206.44 8010      tcp     NA    \n",
       "4 1331994375 192.168.202.83  58519     192.168.206.44 5214      tcp     NA    \n",
       "5 1331999507 192.168.202.140 25774     192.168.23.252 1625      tcp     NA    \n",
       "6 1331935766 192.168.202.83  60760     192.168.206.44 1580      tcp     NA    \n",
       "  orig_bytes resp_bytes conn_state missed_bytes history  orig_pkts\n",
       "1 481        8133       RSTO       0            ShADadfR 8        \n",
       "2  NA          NA       REJ        0            Sr       1        \n",
       "3  NA          NA       REJ        0            Sr       1        \n",
       "4  NA          NA       REJ        0            Sr       1        \n",
       "5  NA          NA       S0         0            S        1        \n",
       "6  NA          NA       REJ        0            Sr       1        \n",
       "  orig_ip_bytes resp_pkts resp_ip_bytes\n",
       "1 813           9         8505         \n",
       "2  48           1           40         \n",
       "3  60           1           40         \n",
       "4  60           1           40         \n",
       "5  48           0            0         \n",
       "6  60           1           40         "
      ]
     },
     "metadata": {},
     "output_type": "display_data"
    },
    {
     "data": {
      "text/html": [
       "<table>\n",
       "<caption>A data.frame: 6 × 16</caption>\n",
       "<thead>\n",
       "\t<tr><th></th><th scope=col>ts</th><th scope=col>orig_ip</th><th scope=col>orig_port</th><th scope=col>resp_ip</th><th scope=col>resp_port</th><th scope=col>proto</th><th scope=col>duration</th><th scope=col>orig_bytes</th><th scope=col>resp_bytes</th><th scope=col>conn_state</th><th scope=col>missed_bytes</th><th scope=col>history</th><th scope=col>orig_pkts</th><th scope=col>orig_ip_bytes</th><th scope=col>resp_pkts</th><th scope=col>resp_ip_bytes</th></tr>\n",
       "\t<tr><th></th><th scope=col>&lt;dbl&gt;</th><th scope=col>&lt;chr&gt;</th><th scope=col>&lt;int&gt;</th><th scope=col>&lt;chr&gt;</th><th scope=col>&lt;int&gt;</th><th scope=col>&lt;chr&gt;</th><th scope=col>&lt;dbl&gt;</th><th scope=col>&lt;int&gt;</th><th scope=col>&lt;int&gt;</th><th scope=col>&lt;chr&gt;</th><th scope=col>&lt;int&gt;</th><th scope=col>&lt;chr&gt;</th><th scope=col>&lt;int&gt;</th><th scope=col>&lt;int&gt;</th><th scope=col>&lt;int&gt;</th><th scope=col>&lt;int&gt;</th></tr>\n",
       "</thead>\n",
       "<tbody>\n",
       "\t<tr><th scope=row>1</th><td>1331901000</td><td>192.168.202.79</td><td>50463</td><td>192.168.229.251</td><td> 80</td><td>tcp</td><td>  NA</td><td> NA</td><td>  NA</td><td>SH</td><td>0</td><td>Fa       </td><td>1</td><td> 52</td><td> 1</td><td>  52</td></tr>\n",
       "\t<tr><th scope=row>2</th><td>1331901000</td><td>192.168.202.79</td><td>46117</td><td>192.168.229.254</td><td>443</td><td>tcp</td><td>  NA</td><td> NA</td><td>  NA</td><td>SF</td><td>0</td><td>dDafFr   </td><td>3</td><td>382</td><td> 9</td><td> 994</td></tr>\n",
       "\t<tr><th scope=row>3</th><td>1331901000</td><td>192.168.202.79</td><td>50465</td><td>192.168.229.251</td><td> 80</td><td>tcp</td><td>0.01</td><td>166</td><td> 214</td><td>SF</td><td>0</td><td>ShADfFa  </td><td>4</td><td>382</td><td> 3</td><td> 382</td></tr>\n",
       "\t<tr><th scope=row>4</th><td>1331901000</td><td>192.168.202.79</td><td>50467</td><td>192.168.229.251</td><td> 80</td><td>tcp</td><td>0.01</td><td>166</td><td> 214</td><td>SF</td><td>0</td><td>ShADfFa  </td><td>4</td><td>382</td><td> 3</td><td> 382</td></tr>\n",
       "\t<tr><th scope=row>5</th><td>1331901000</td><td>192.168.202.79</td><td>46119</td><td>192.168.229.254</td><td>443</td><td>tcp</td><td>0.02</td><td>544</td><td>1060</td><td>SF</td><td>0</td><td>ShADadfFr</td><td>8</td><td>968</td><td>13</td><td>1744</td></tr>\n",
       "\t<tr><th scope=row>6</th><td>1331901000</td><td>192.168.202.79</td><td>46121</td><td>192.168.229.254</td><td>443</td><td>tcp</td><td>0.01</td><td>544</td><td>1060</td><td>SF</td><td>0</td><td>ShADadfFr</td><td>8</td><td>968</td><td>13</td><td>1744</td></tr>\n",
       "</tbody>\n",
       "</table>\n"
      ],
      "text/latex": [
       "A data.frame: 6 × 16\n",
       "\\begin{tabular}{r|llllllllllllllll}\n",
       "  & ts & orig\\_ip & orig\\_port & resp\\_ip & resp\\_port & proto & duration & orig\\_bytes & resp\\_bytes & conn\\_state & missed\\_bytes & history & orig\\_pkts & orig\\_ip\\_bytes & resp\\_pkts & resp\\_ip\\_bytes\\\\\n",
       "  & <dbl> & <chr> & <int> & <chr> & <int> & <chr> & <dbl> & <int> & <int> & <chr> & <int> & <chr> & <int> & <int> & <int> & <int>\\\\\n",
       "\\hline\n",
       "\t1 & 1331901000 & 192.168.202.79 & 50463 & 192.168.229.251 &  80 & tcp &   NA &  NA &   NA & SH & 0 & Fa        & 1 &  52 &  1 &   52\\\\\n",
       "\t2 & 1331901000 & 192.168.202.79 & 46117 & 192.168.229.254 & 443 & tcp &   NA &  NA &   NA & SF & 0 & dDafFr    & 3 & 382 &  9 &  994\\\\\n",
       "\t3 & 1331901000 & 192.168.202.79 & 50465 & 192.168.229.251 &  80 & tcp & 0.01 & 166 &  214 & SF & 0 & ShADfFa   & 4 & 382 &  3 &  382\\\\\n",
       "\t4 & 1331901000 & 192.168.202.79 & 50467 & 192.168.229.251 &  80 & tcp & 0.01 & 166 &  214 & SF & 0 & ShADfFa   & 4 & 382 &  3 &  382\\\\\n",
       "\t5 & 1331901000 & 192.168.202.79 & 46119 & 192.168.229.254 & 443 & tcp & 0.02 & 544 & 1060 & SF & 0 & ShADadfFr & 8 & 968 & 13 & 1744\\\\\n",
       "\t6 & 1331901000 & 192.168.202.79 & 46121 & 192.168.229.254 & 443 & tcp & 0.01 & 544 & 1060 & SF & 0 & ShADadfFr & 8 & 968 & 13 & 1744\\\\\n",
       "\\end{tabular}\n"
      ],
      "text/markdown": [
       "\n",
       "A data.frame: 6 × 16\n",
       "\n",
       "| <!--/--> | ts &lt;dbl&gt; | orig_ip &lt;chr&gt; | orig_port &lt;int&gt; | resp_ip &lt;chr&gt; | resp_port &lt;int&gt; | proto &lt;chr&gt; | duration &lt;dbl&gt; | orig_bytes &lt;int&gt; | resp_bytes &lt;int&gt; | conn_state &lt;chr&gt; | missed_bytes &lt;int&gt; | history &lt;chr&gt; | orig_pkts &lt;int&gt; | orig_ip_bytes &lt;int&gt; | resp_pkts &lt;int&gt; | resp_ip_bytes &lt;int&gt; |\n",
       "|---|---|---|---|---|---|---|---|---|---|---|---|---|---|---|---|---|\n",
       "| 1 | 1331901000 | 192.168.202.79 | 50463 | 192.168.229.251 |  80 | tcp |   NA |  NA |   NA | SH | 0 | Fa        | 1 |  52 |  1 |   52 |\n",
       "| 2 | 1331901000 | 192.168.202.79 | 46117 | 192.168.229.254 | 443 | tcp |   NA |  NA |   NA | SF | 0 | dDafFr    | 3 | 382 |  9 |  994 |\n",
       "| 3 | 1331901000 | 192.168.202.79 | 50465 | 192.168.229.251 |  80 | tcp | 0.01 | 166 |  214 | SF | 0 | ShADfFa   | 4 | 382 |  3 |  382 |\n",
       "| 4 | 1331901000 | 192.168.202.79 | 50467 | 192.168.229.251 |  80 | tcp | 0.01 | 166 |  214 | SF | 0 | ShADfFa   | 4 | 382 |  3 |  382 |\n",
       "| 5 | 1331901000 | 192.168.202.79 | 46119 | 192.168.229.254 | 443 | tcp | 0.02 | 544 | 1060 | SF | 0 | ShADadfFr | 8 | 968 | 13 | 1744 |\n",
       "| 6 | 1331901000 | 192.168.202.79 | 46121 | 192.168.229.254 | 443 | tcp | 0.01 | 544 | 1060 | SF | 0 | ShADadfFr | 8 | 968 | 13 | 1744 |\n",
       "\n"
      ],
      "text/plain": [
       "  ts         orig_ip        orig_port resp_ip         resp_port proto duration\n",
       "1 1331901000 192.168.202.79 50463     192.168.229.251  80       tcp     NA    \n",
       "2 1331901000 192.168.202.79 46117     192.168.229.254 443       tcp     NA    \n",
       "3 1331901000 192.168.202.79 50465     192.168.229.251  80       tcp   0.01    \n",
       "4 1331901000 192.168.202.79 50467     192.168.229.251  80       tcp   0.01    \n",
       "5 1331901000 192.168.202.79 46119     192.168.229.254 443       tcp   0.02    \n",
       "6 1331901000 192.168.202.79 46121     192.168.229.254 443       tcp   0.01    \n",
       "  orig_bytes resp_bytes conn_state missed_bytes history   orig_pkts\n",
       "1  NA          NA       SH         0            Fa        1        \n",
       "2  NA          NA       SF         0            dDafFr    3        \n",
       "3 166         214       SF         0            ShADfFa   4        \n",
       "4 166         214       SF         0            ShADfFa   4        \n",
       "5 544        1060       SF         0            ShADadfFr 8        \n",
       "6 544        1060       SF         0            ShADadfFr 8        \n",
       "  orig_ip_bytes resp_pkts resp_ip_bytes\n",
       "1  52            1          52         \n",
       "2 382            9         994         \n",
       "3 382            3         382         \n",
       "4 382            3         382         \n",
       "5 968           13        1744         \n",
       "6 968           13        1744         "
      ]
     },
     "metadata": {},
     "output_type": "display_data"
    }
   ],
   "source": [
    "head(data1)\n",
    "head(data2)\n",
    "head(data3)\n",
    "head(data4)"
   ]
  },
  {
   "cell_type": "code",
   "execution_count": null,
   "metadata": {},
   "outputs": [
    {
     "name": "stdout",
     "output_type": "stream",
     "text": [
      "\n",
      " iter imp variable\n",
      "  1   1  duration"
     ]
    }
   ],
   "source": [
    "impute <- mice(data1,m=5,maxit=50,meth='pmm',seed=500)"
   ]
  }
 ],
 "metadata": {
  "kernelspec": {
   "display_name": "R",
   "language": "R",
   "name": "ir"
  },
  "language_info": {
   "codemirror_mode": "r",
   "file_extension": ".r",
   "mimetype": "text/x-r-source",
   "name": "R",
   "pygments_lexer": "r",
   "version": "4.0.3"
  }
 },
 "nbformat": 4,
 "nbformat_minor": 4
}
