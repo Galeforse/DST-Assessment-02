{
 "cells": [
  {
   "cell_type": "code",
   "execution_count": 28,
   "metadata": {},
   "outputs": [
    {
     "name": "stderr",
     "output_type": "stream",
     "text": [
      "Warning message:\n",
      "\"package 'combine.output' is not available for this version of R\n",
      "\n",
      "A version of this package for your version of R might be available elsewhere,\n",
      "see the ideas at\n",
      "https://cran.r-project.org/doc/manuals/r-patched/R-admin.html#Installing-packages\"\n"
     ]
    }
   ],
   "source": [
    "#install.packages(\"Amelia\")\n",
    "#install.packages(\"Zelig\")"
   ]
  },
  {
   "cell_type": "code",
   "execution_count": 27,
   "metadata": {},
   "outputs": [
    {
     "ename": "ERROR",
     "evalue": "Error in library(combine.output): there is no package called 'combine.output'\n",
     "output_type": "error",
     "traceback": [
      "Error in library(combine.output): there is no package called 'combine.output'\nTraceback:\n",
      "1. library(combine.output)"
     ]
    }
   ],
   "source": [
    "library(lubridate)\n",
    "library(dlookr)\n",
    "library(dplyr)\n",
    "library(mice)\n",
    "library(VIM)\n",
    "library(Amelia)\n",
    "library(Zelig)"
   ]
  },
  {
   "cell_type": "code",
   "execution_count": 2,
   "metadata": {},
   "outputs": [
    {
     "name": "stdout",
     "output_type": "stream",
     "text": [
      "[1] \"Data imported in:\"\n",
      "[1] \"3.73S\"\n"
     ]
    }
   ],
   "source": [
    "temp2 <- tempfile()\n",
    "start <- proc.time()\n",
    "download.file(\"https://github.com/Galeforse/DST-Assessment-02/raw/main/Data/NoService/1_percent_data_no_service.csv.gz\",temp2)\n",
    "data1 <- (read.csv(gzfile(temp2)))\n",
    "print(\"Data imported in:\")\n",
    "print(seconds_to_period((proc.time()-start)[3]))"
   ]
  },
  {
   "cell_type": "code",
   "execution_count": 5,
   "metadata": {},
   "outputs": [
    {
     "data": {
      "image/png": "[encoded data removed]",
      "text/plain": [
       "Plot with title \"Missingness Map\""
      ]
     },
     "metadata": {
      "image/png": {
       "height": 420,
       "width": 420
      }
     },
     "output_type": "display_data"
    }
   ],
   "source": [
    "missmap(data1)"
   ]
  },
  {
   "cell_type": "code",
   "execution_count": 9,
   "metadata": {},
   "outputs": [
    {
     "name": "stdout",
     "output_type": "stream",
     "text": [
      "'data.frame':\t226943 obs. of  16 variables:\n",
      " $ ts           : num  1.33e+09 1.33e+09 1.33e+09 1.33e+09 1.33e+09 ...\n",
      " $ orig_ip      : Factor w/ 179 levels \"::\",\"0.0.0.0\",..: 12 18 75 75 36 75 34 98 75 18 ...\n",
      " $ orig_port    : num  2633 11574 41267 58519 25774 ...\n",
      " $ resp_ip      : Factor w/ 2764 levels \"1:dbb:c18:155:e467:81f5:8f21:4fa8\",..: 1257 1313 410 410 1312 410 2132 1143 410 2545 ...\n",
      " $ resp_port    : num  80 1724 8010 5214 1625 ...\n",
      " $ proto        : Factor w/ 3 levels \"icmp\",\"tcp\",\"udp\": 2 2 2 2 2 2 2 2 2 2 ...\n",
      " $ duration     : num  0.03 NA NA NA NA NA NA NA NA NA ...\n",
      " $ orig_bytes   : num  481 NA NA NA NA NA NA NA NA NA ...\n",
      " $ resp_bytes   : num  8133 NA NA NA NA ...\n",
      " $ conn_state   : Factor w/ 13 levels \"OTH\",\"REJ\",\"RSTO\",..: 3 2 2 2 7 2 7 2 2 7 ...\n",
      " $ missed_bytes : num  0 0 0 0 0 0 0 0 0 0 ...\n",
      " $ history      : Factor w/ 139 levels \"-\",\"A\",\"Ar\",\"d\",..: 49 139 139 139 31 139 31 139 139 31 ...\n",
      " $ orig_pkts    : num  8 1 1 1 1 1 1 1 1 1 ...\n",
      " $ orig_ip_bytes: num  813 48 60 60 48 60 48 60 60 48 ...\n",
      " $ resp_pkts    : num  9 1 1 1 0 1 0 1 1 0 ...\n",
      " $ resp_ip_bytes: num  8505 40 40 40 0 ...\n"
     ]
    }
   ],
   "source": [
    "dat <- data1 %>%\n",
    "    mutate(\n",
    "        ts = as.numeric(ts),\n",
    "        orig_ip = as.factor(orig_ip),\n",
    "        resp_ip = as.factor(resp_ip),\n",
    "        orig_port = as.numeric(orig_port),\n",
    "        resp_port = as.numeric(resp_port),\n",
    "        proto = as.factor(proto),\n",
    "        conn_state = as.factor(conn_state),\n",
    "        history = as.factor(history),\n",
    "        duration = as.numeric(duration),\n",
    "        orig_bytes = as.numeric(orig_bytes),\n",
    "        resp_bytes = as.numeric(resp_bytes),\n",
    "        missed_bytes = as.numeric(missed_bytes),\n",
    "        orig_pkts = as.numeric(orig_pkts),\n",
    "        resp_pkts = as.numeric(resp_pkts),\n",
    "        orig_ip_bytes = as.numeric(orig_ip_bytes),\n",
    "        resp_ip_bytes = as.numeric(resp_ip_bytes)\n",
    "    )\n",
    "str(dat)"
   ]
  },
  {
   "cell_type": "code",
   "execution_count": 17,
   "metadata": {},
   "outputs": [
    {
     "name": "stdout",
     "output_type": "stream",
     "text": [
      "'data.frame':\t226943 obs. of  12 variables:\n",
      " $ ts           : num  1.33e+09 1.33e+09 1.33e+09 1.33e+09 1.33e+09 ...\n",
      " $ orig_port    : num  2633 11574 41267 58519 25774 ...\n",
      " $ resp_port    : num  80 1724 8010 5214 1625 ...\n",
      " $ proto        : Factor w/ 3 levels \"icmp\",\"tcp\",\"udp\": 2 2 2 2 2 2 2 2 2 2 ...\n",
      " $ duration     : num  0.03 NA NA NA NA NA NA NA NA NA ...\n",
      " $ orig_bytes   : num  481 NA NA NA NA NA NA NA NA NA ...\n",
      " $ resp_bytes   : num  8133 NA NA NA NA ...\n",
      " $ conn_state   : Factor w/ 13 levels \"OTH\",\"REJ\",\"RSTO\",..: 3 2 2 2 7 2 7 2 2 7 ...\n",
      " $ orig_pkts    : num  8 1 1 1 1 1 1 1 1 1 ...\n",
      " $ orig_ip_bytes: num  813 48 60 60 48 60 48 60 60 48 ...\n",
      " $ resp_pkts    : num  9 1 1 1 0 1 0 1 1 0 ...\n",
      " $ resp_ip_bytes: num  8505 40 40 40 0 ...\n"
     ]
    }
   ],
   "source": [
    "dat1 <- subset(dat, select = -c(orig_ip,resp_ip,history,missed_bytes))\n",
    "str(dat1)"
   ]
  },
  {
   "cell_type": "code",
   "execution_count": 16,
   "metadata": {},
   "outputs": [
    {
     "name": "stdout",
     "output_type": "stream",
     "text": [
      "'data.frame':\t226943 obs. of  10 variables:\n",
      " $ ts           : num  1.33e+09 1.33e+09 1.33e+09 1.33e+09 1.33e+09 ...\n",
      " $ orig_port    : num  2633 11574 41267 58519 25774 ...\n",
      " $ resp_port    : num  80 1724 8010 5214 1625 ...\n",
      " $ duration     : num  0.03 NA NA NA NA NA NA NA NA NA ...\n",
      " $ orig_bytes   : num  481 NA NA NA NA NA NA NA NA NA ...\n",
      " $ resp_bytes   : num  8133 NA NA NA NA ...\n",
      " $ orig_pkts    : num  8 1 1 1 1 1 1 1 1 1 ...\n",
      " $ orig_ip_bytes: num  813 48 60 60 48 60 48 60 60 48 ...\n",
      " $ resp_pkts    : num  9 1 1 1 0 1 0 1 1 0 ...\n",
      " $ resp_ip_bytes: num  8505 40 40 40 0 ...\n"
     ]
    }
   ],
   "source": [
    "dat2 <- subset(dat, select = -c(proto,conn_state,orig_ip,resp_ip,history,missed_bytes))\n",
    "str(dat2)"
   ]
  },
  {
   "cell_type": "code",
   "execution_count": 30,
   "metadata": {},
   "outputs": [],
   "source": [
    "set.seed(462)\n",
    "completed_data <- amelia(dat2,m=5,ts=\"ts\",p2s=0,)"
   ]
  },
  {
   "cell_type": "code",
   "execution_count": 31,
   "metadata": {},
   "outputs": [],
   "source": [
    "write.amelia(obj=completed_data,file.stem=\"outdata\")"
   ]
  },
  {
   "cell_type": "code",
   "execution_count": null,
   "metadata": {},
   "outputs": [],
   "source": [
    "1 <- read.csv"
   ]
  },
  {
   "cell_type": "code",
   "execution_count": 29,
   "metadata": {},
   "outputs": [
    {
     "ename": "ERROR",
     "evalue": "Error: object of type 'closure' is not subsettable\n",
     "output_type": "error",
     "traceback": [
      "Error: object of type 'closure' is not subsettable\nTraceback:\n",
      "1. Amelia:::combine.output(completed_data)",
      "2. unlist(lapply(cl, function(x) is.null(eval(x, parent.frame())$amelia.args)))",
      "3. lapply(cl, function(x) is.null(eval(x, parent.frame())$amelia.args))",
      "4. FUN(X[[i]], ...)"
     ]
    }
   ],
   "source": [
    "complete <- Amelia:::combine.output(completed_data)"
   ]
  }
 ],
 "metadata": {
  "kernelspec": {
   "display_name": "R",
   "language": "R",
   "name": "ir"
  },
  "language_info": {
   "codemirror_mode": "r",
   "file_extension": ".r",
   "mimetype": "text/x-r-source",
   "name": "R",
   "pygments_lexer": "r",
   "version": "4.0.3"
  }
 },
 "nbformat": 4,
 "nbformat_minor": 4
}
