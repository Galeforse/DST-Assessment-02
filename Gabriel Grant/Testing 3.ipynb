{
 "cells": [
  {
   "cell_type": "code",
   "execution_count": 28,
   "metadata": {},
   "outputs": [
    {
     "name": "stderr",
     "output_type": "stream",
     "text": [
      "Warning message:\n",
      "\"package 'combine.output' is not available for this version of R\n",
      "\n",
      "A version of this package for your version of R might be available elsewhere,\n",
      "see the ideas at\n",
      "https://cran.r-project.org/doc/manuals/r-patched/R-admin.html#Installing-packages\"\n"
     ]
    }
   ],
   "source": [
    "#install.packages(\"Amelia\")\n",
    "#install.packages(\"Zelig\")"
   ]
  },
  {
   "cell_type": "code",
   "execution_count": 1,
   "metadata": {
    "collapsed": true,
    "jupyter": {
     "outputs_hidden": true
    }
   },
   "outputs": [
    {
     "name": "stderr",
     "output_type": "stream",
     "text": [
      "\n",
      "Attaching package: 'lubridate'\n",
      "\n",
      "\n",
      "The following objects are masked from 'package:base':\n",
      "\n",
      "    date, intersect, setdiff, union\n",
      "\n",
      "\n",
      "Loading required package: mice\n",
      "\n",
      "\n",
      "Attaching package: 'mice'\n",
      "\n",
      "\n",
      "The following object is masked from 'package:stats':\n",
      "\n",
      "    filter\n",
      "\n",
      "\n",
      "The following objects are masked from 'package:base':\n",
      "\n",
      "    cbind, rbind\n",
      "\n",
      "\n",
      "Registered S3 method overwritten by 'quantmod':\n",
      "  method            from\n",
      "  as.zoo.data.frame zoo \n",
      "\n",
      "\n",
      "Attaching package: 'dlookr'\n",
      "\n",
      "\n",
      "The following object is masked from 'package:base':\n",
      "\n",
      "    transform\n",
      "\n",
      "\n",
      "\n",
      "Attaching package: 'dplyr'\n",
      "\n",
      "\n",
      "The following objects are masked from 'package:stats':\n",
      "\n",
      "    filter, lag\n",
      "\n",
      "\n",
      "The following objects are masked from 'package:base':\n",
      "\n",
      "    intersect, setdiff, setequal, union\n",
      "\n",
      "\n",
      "Loading required package: colorspace\n",
      "\n",
      "Loading required package: grid\n",
      "\n",
      "VIM is ready to use.\n",
      "\n",
      "\n",
      "Suggestions and bug-reports can be submitted at: https://github.com/statistikat/VIM/issues\n",
      "\n",
      "\n",
      "Attaching package: 'VIM'\n",
      "\n",
      "\n",
      "The following object is masked from 'package:datasets':\n",
      "\n",
      "    sleep\n",
      "\n",
      "\n",
      "Loading required package: Rcpp\n",
      "\n",
      "## \n",
      "## Amelia II: Multiple Imputation\n",
      "## (Version 1.7.6, built: 2019-11-24)\n",
      "## Copyright (C) 2005-2020 James Honaker, Gary King and Matthew Blackwell\n",
      "## Refer to http://gking.harvard.edu/amelia/ for more information\n",
      "## \n",
      "\n",
      "Loading required package: survival\n",
      "\n"
     ]
    }
   ],
   "source": [
    "library(lubridate)\n",
    "library(dlookr)\n",
    "library(dplyr)\n",
    "library(mice)\n",
    "library(VIM)\n",
    "library(Amelia)\n",
    "library(Zelig)"
   ]
  },
  {
   "cell_type": "code",
   "execution_count": 2,
   "metadata": {},
   "outputs": [
    {
     "name": "stdout",
     "output_type": "stream",
     "text": [
      "[1] \"Data imported in:\"\n",
      "[1] \"5.11S\"\n"
     ]
    }
   ],
   "source": [
    "temp2 <- tempfile()\n",
    "start <- proc.time()\n",
    "download.file(\"https://github.com/Galeforse/DST-Assessment-02/raw/main/Data/NoService/1_percent_data_no_service.csv.gz\",temp2)\n",
    "data1 <- (read.csv(gzfile(temp2)))\n",
    "print(\"Data imported in:\")\n",
    "print(seconds_to_period((proc.time()-start)[3]))"
   ]
  },
  {
   "cell_type": "code",
   "execution_count": 3,
   "metadata": {},
   "outputs": [
    {
     "name": "stdout",
     "output_type": "stream",
     "text": [
      "[1] \"Data imported in:\"\n",
      "[1] \"2.61S\"\n"
     ]
    }
   ],
   "source": [
    "temp2 <- tempfile()\n",
    "start <- proc.time()\n",
    "download.file(\"https://github.com/Galeforse/DST-Assessment-02/raw/main/Data/test_missing1.csv.gz\",temp2)\n",
    "data2 <- (read.csv(gzfile(temp2)))\n",
    "print(\"Data imported in:\")\n",
    "print(seconds_to_period((proc.time()-start)[3]))"
   ]
  },
  {
   "cell_type": "code",
   "execution_count": 42,
   "metadata": {},
   "outputs": [
    {
     "data": {
      "image/png": "[encoded data removed]",
      "text/plain": [
       "Plot with title \"Missingness Map\""
      ]
     },
     "metadata": {
      "image/png": {
       "height": 420,
       "width": 420
      }
     },
     "output_type": "display_data"
    }
   ],
   "source": [
    "missmap(data1)"
   ]
  },
  {
   "cell_type": "code",
   "execution_count": 5,
   "metadata": {},
   "outputs": [
    {
     "name": "stdout",
     "output_type": "stream",
     "text": [
      "'data.frame':\t226943 obs. of  16 variables:\n",
      " $ ts           : num  1.33e+09 1.33e+09 1.33e+09 1.33e+09 1.33e+09 ...\n",
      " $ orig_ip      : Factor w/ 179 levels \"::\",\"0.0.0.0\",..: 12 18 75 75 36 75 34 98 75 18 ...\n",
      " $ orig_port    : num  2633 11574 41267 58519 25774 ...\n",
      " $ resp_ip      : Factor w/ 2764 levels \"1:dbb:c18:155:e467:81f5:8f21:4fa8\",..: 1257 1313 410 410 1312 410 2132 1143 410 2545 ...\n",
      " $ resp_port    : num  80 1724 8010 5214 1625 ...\n",
      " $ proto        : Factor w/ 3 levels \"icmp\",\"tcp\",\"udp\": 2 2 2 2 2 2 2 2 2 2 ...\n",
      " $ duration     : num  0.03 NA NA NA NA NA NA NA NA NA ...\n",
      " $ orig_bytes   : num  481 NA NA NA NA NA NA NA NA NA ...\n",
      " $ resp_bytes   : num  8133 NA NA NA NA ...\n",
      " $ conn_state   : Factor w/ 13 levels \"OTH\",\"REJ\",\"RSTO\",..: 3 2 2 2 7 2 7 2 2 7 ...\n",
      " $ missed_bytes : num  0 0 0 0 0 0 0 0 0 0 ...\n",
      " $ history      : Factor w/ 139 levels \"-\",\"A\",\"Ar\",\"d\",..: 49 139 139 139 31 139 31 139 139 31 ...\n",
      " $ orig_pkts    : num  8 1 1 1 1 1 1 1 1 1 ...\n",
      " $ orig_ip_bytes: num  813 48 60 60 48 60 48 60 60 48 ...\n",
      " $ resp_pkts    : num  9 1 1 1 0 1 0 1 1 0 ...\n",
      " $ resp_ip_bytes: num  8505 40 40 40 0 ...\n"
     ]
    }
   ],
   "source": [
    "dat <- data1 %>%\n",
    "    mutate(\n",
    "        ts = as.numeric(ts),\n",
    "        orig_ip = as.factor(orig_ip),\n",
    "        resp_ip = as.factor(resp_ip),\n",
    "        orig_port = as.numeric(orig_port),\n",
    "        resp_port = as.numeric(resp_port),\n",
    "        proto = as.factor(proto),\n",
    "        conn_state = as.factor(conn_state),\n",
    "        history = as.factor(history),\n",
    "        duration = as.numeric(duration),\n",
    "        orig_bytes = as.numeric(orig_bytes),\n",
    "        resp_bytes = as.numeric(resp_bytes),\n",
    "        missed_bytes = as.numeric(missed_bytes),\n",
    "        orig_pkts = as.numeric(orig_pkts),\n",
    "        resp_pkts = as.numeric(resp_pkts),\n",
    "        orig_ip_bytes = as.numeric(orig_ip_bytes),\n",
    "        resp_ip_bytes = as.numeric(resp_ip_bytes)\n",
    "    )\n",
    "str(dat)"
   ]
  },
  {
   "cell_type": "code",
   "execution_count": 7,
   "metadata": {},
   "outputs": [
    {
     "name": "stdout",
     "output_type": "stream",
     "text": [
      "'data.frame':\t194980 obs. of  17 variables:\n",
      " $ ts           : num  1.33e+09 1.33e+09 1.33e+09 1.33e+09 1.33e+09 ...\n",
      " $ orig_ip      : Factor w/ 200 levels \"::\",\"0.0.0.0\",..: 15 15 21 106 21 81 106 21 21 81 ...\n",
      " $ orig_port    : num  2633 4094 16066 42997 38566 ...\n",
      " $ resp_ip      : Factor w/ 2913 levels \"10.10.0.7\",\"10.10.10.10\",..: 1382 1523 2327 1269 1187 1187 533 953 2327 1186 ...\n",
      " $ resp_port    : num  80 80 12486 28745 32754 ...\n",
      " $ proto        : Factor w/ 3 levels \"icmp\",\"tcp\",\"udp\": 2 2 2 2 2 2 2 2 2 2 ...\n",
      " $ service      : chr  \"http\" \"\" \"\" \"\" ...\n",
      " $ duration     : num  NA 0.01 NA NA NA NA NA NA NA 0.01 ...\n",
      " $ orig_bytes   : num  NA 7085 NA NA NA ...\n",
      " $ resp_bytes   : num  NA 172 NA NA NA NA NA NA NA 0 ...\n",
      " $ conn_state   : Factor w/ 13 levels \"OTH\",\"REJ\",\"RSTO\",..: 3 3 2 2 2 2 2 2 2 2 ...\n",
      " $ missed_bytes : num  0 0 0 0 0 0 0 0 0 0 ...\n",
      " $ history      : Factor w/ 251 levels \"-\",\"a\",\"A\",\"Aa\",..: 86 86 251 251 251 251 251 251 251 251 ...\n",
      " $ orig_pkts    : num  8 10 1 1 1 1 1 1 1 1 ...\n",
      " $ orig_ip_bytes: num  813 7497 48 60 48 ...\n",
      " $ resp_pkts    : num  9 9 1 1 1 1 1 1 1 1 ...\n",
      " $ resp_ip_bytes: num  8505 544 40 40 40 ...\n"
     ]
    }
   ],
   "source": [
    "dat_2 <- data2 %>%\n",
    "    mutate(\n",
    "        ts = as.numeric(ts),\n",
    "        orig_ip = as.factor(orig_ip),\n",
    "        resp_ip = as.factor(resp_ip),\n",
    "        orig_port = as.numeric(orig_port),\n",
    "        resp_port = as.numeric(resp_port),\n",
    "        proto = as.factor(proto),\n",
    "        conn_state = as.factor(conn_state),\n",
    "        history = as.factor(history),\n",
    "        duration = as.numeric(duration),\n",
    "        orig_bytes = as.numeric(orig_bytes),\n",
    "        resp_bytes = as.numeric(resp_bytes),\n",
    "        missed_bytes = as.numeric(missed_bytes),\n",
    "        orig_pkts = as.numeric(orig_pkts),\n",
    "        resp_pkts = as.numeric(resp_pkts),\n",
    "        orig_ip_bytes = as.numeric(orig_ip_bytes),\n",
    "        resp_ip_bytes = as.numeric(resp_ip_bytes)\n",
    "    )\n",
    "str(dat_2)"
   ]
  },
  {
   "cell_type": "code",
   "execution_count": 8,
   "metadata": {},
   "outputs": [
    {
     "name": "stdout",
     "output_type": "stream",
     "text": [
      "'data.frame':\t226943 obs. of  12 variables:\n",
      " $ ts           : num  1.33e+09 1.33e+09 1.33e+09 1.33e+09 1.33e+09 ...\n",
      " $ orig_port    : num  2633 11574 41267 58519 25774 ...\n",
      " $ resp_port    : num  80 1724 8010 5214 1625 ...\n",
      " $ proto        : Factor w/ 3 levels \"icmp\",\"tcp\",\"udp\": 2 2 2 2 2 2 2 2 2 2 ...\n",
      " $ duration     : num  0.03 NA NA NA NA NA NA NA NA NA ...\n",
      " $ orig_bytes   : num  481 NA NA NA NA NA NA NA NA NA ...\n",
      " $ resp_bytes   : num  8133 NA NA NA NA ...\n",
      " $ conn_state   : Factor w/ 13 levels \"OTH\",\"REJ\",\"RSTO\",..: 3 2 2 2 7 2 7 2 2 7 ...\n",
      " $ orig_pkts    : num  8 1 1 1 1 1 1 1 1 1 ...\n",
      " $ orig_ip_bytes: num  813 48 60 60 48 60 48 60 60 48 ...\n",
      " $ resp_pkts    : num  9 1 1 1 0 1 0 1 1 0 ...\n",
      " $ resp_ip_bytes: num  8505 40 40 40 0 ...\n"
     ]
    }
   ],
   "source": [
    "dat1 <- subset(dat, select = -c(orig_ip,resp_ip,history,missed_bytes))\n",
    "str(dat1)"
   ]
  },
  {
   "cell_type": "code",
   "execution_count": 9,
   "metadata": {},
   "outputs": [
    {
     "name": "stdout",
     "output_type": "stream",
     "text": [
      "'data.frame':\t226943 obs. of  10 variables:\n",
      " $ ts           : num  1.33e+09 1.33e+09 1.33e+09 1.33e+09 1.33e+09 ...\n",
      " $ orig_port    : num  2633 11574 41267 58519 25774 ...\n",
      " $ resp_port    : num  80 1724 8010 5214 1625 ...\n",
      " $ duration     : num  0.03 NA NA NA NA NA NA NA NA NA ...\n",
      " $ orig_bytes   : num  481 NA NA NA NA NA NA NA NA NA ...\n",
      " $ resp_bytes   : num  8133 NA NA NA NA ...\n",
      " $ orig_pkts    : num  8 1 1 1 1 1 1 1 1 1 ...\n",
      " $ orig_ip_bytes: num  813 48 60 60 48 60 48 60 60 48 ...\n",
      " $ resp_pkts    : num  9 1 1 1 0 1 0 1 1 0 ...\n",
      " $ resp_ip_bytes: num  8505 40 40 40 0 ...\n"
     ]
    }
   ],
   "source": [
    "dat2 <- subset(dat, select = -c(proto,conn_state,orig_ip,resp_ip,history,missed_bytes))\n",
    "str(dat2)"
   ]
  },
  {
   "cell_type": "code",
   "execution_count": 11,
   "metadata": {},
   "outputs": [
    {
     "name": "stdout",
     "output_type": "stream",
     "text": [
      "'data.frame':\t194980 obs. of  10 variables:\n",
      " $ ts           : num  1.33e+09 1.33e+09 1.33e+09 1.33e+09 1.33e+09 ...\n",
      " $ orig_port    : num  2633 4094 16066 42997 38566 ...\n",
      " $ resp_port    : num  80 80 12486 28745 32754 ...\n",
      " $ duration     : num  NA 0.01 NA NA NA NA NA NA NA 0.01 ...\n",
      " $ orig_bytes   : num  NA 7085 NA NA NA ...\n",
      " $ resp_bytes   : num  NA 172 NA NA NA NA NA NA NA 0 ...\n",
      " $ orig_pkts    : num  8 10 1 1 1 1 1 1 1 1 ...\n",
      " $ orig_ip_bytes: num  813 7497 48 60 48 ...\n",
      " $ resp_pkts    : num  9 9 1 1 1 1 1 1 1 1 ...\n",
      " $ resp_ip_bytes: num  8505 544 40 40 40 ...\n"
     ]
    }
   ],
   "source": [
    "dat_3 <- subset(dat_2, select = -c(service,proto,conn_state,orig_ip,resp_ip,history,missed_bytes))\n",
    "str(dat_3)"
   ]
  },
  {
   "cell_type": "code",
   "execution_count": 46,
   "metadata": {},
   "outputs": [
    {
     "data": {
      "text/html": [
       "<table>\n",
       "<caption>A data.frame: 6 × 10</caption>\n",
       "<thead>\n",
       "\t<tr><th></th><th scope=col>ts</th><th scope=col>orig_port</th><th scope=col>resp_port</th><th scope=col>logduration</th><th scope=col>orig_bytes</th><th scope=col>resp_bytes</th><th scope=col>orig_pkts</th><th scope=col>orig_ip_bytes</th><th scope=col>resp_pkts</th><th scope=col>resp_ip_bytes</th></tr>\n",
       "\t<tr><th></th><th scope=col>&lt;dbl&gt;</th><th scope=col>&lt;dbl&gt;</th><th scope=col>&lt;dbl&gt;</th><th scope=col>&lt;dbl&gt;</th><th scope=col>&lt;dbl&gt;</th><th scope=col>&lt;dbl&gt;</th><th scope=col>&lt;dbl&gt;</th><th scope=col>&lt;dbl&gt;</th><th scope=col>&lt;dbl&gt;</th><th scope=col>&lt;dbl&gt;</th></tr>\n",
       "</thead>\n",
       "<tbody>\n",
       "\t<tr><th scope=row>1</th><td>1331901000</td><td>50463</td><td> 80</td><td>       NA</td><td> NA</td><td>  NA</td><td>1</td><td> 52</td><td> 1</td><td>  52</td></tr>\n",
       "\t<tr><th scope=row>2</th><td>1331901000</td><td>46117</td><td>443</td><td>       NA</td><td> NA</td><td>  NA</td><td>3</td><td>382</td><td> 9</td><td> 994</td></tr>\n",
       "\t<tr><th scope=row>3</th><td>1331901000</td><td>50465</td><td> 80</td><td>-4.605170</td><td>166</td><td> 214</td><td>4</td><td>382</td><td> 3</td><td> 382</td></tr>\n",
       "\t<tr><th scope=row>4</th><td>1331901000</td><td>50467</td><td> 80</td><td>-4.605170</td><td>166</td><td> 214</td><td>4</td><td>382</td><td> 3</td><td> 382</td></tr>\n",
       "\t<tr><th scope=row>5</th><td>1331901000</td><td>46119</td><td>443</td><td>-3.912023</td><td>544</td><td>1060</td><td>8</td><td>968</td><td>13</td><td>1744</td></tr>\n",
       "\t<tr><th scope=row>6</th><td>1331901000</td><td>46121</td><td>443</td><td>-4.605170</td><td>544</td><td>1060</td><td>8</td><td>968</td><td>13</td><td>1744</td></tr>\n",
       "</tbody>\n",
       "</table>\n"
      ],
      "text/latex": [
       "A data.frame: 6 × 10\n",
       "\\begin{tabular}{r|llllllllll}\n",
       "  & ts & orig\\_port & resp\\_port & logduration & orig\\_bytes & resp\\_bytes & orig\\_pkts & orig\\_ip\\_bytes & resp\\_pkts & resp\\_ip\\_bytes\\\\\n",
       "  & <dbl> & <dbl> & <dbl> & <dbl> & <dbl> & <dbl> & <dbl> & <dbl> & <dbl> & <dbl>\\\\\n",
       "\\hline\n",
       "\t1 & 1331901000 & 50463 &  80 &        NA &  NA &   NA & 1 &  52 &  1 &   52\\\\\n",
       "\t2 & 1331901000 & 46117 & 443 &        NA &  NA &   NA & 3 & 382 &  9 &  994\\\\\n",
       "\t3 & 1331901000 & 50465 &  80 & -4.605170 & 166 &  214 & 4 & 382 &  3 &  382\\\\\n",
       "\t4 & 1331901000 & 50467 &  80 & -4.605170 & 166 &  214 & 4 & 382 &  3 &  382\\\\\n",
       "\t5 & 1331901000 & 46119 & 443 & -3.912023 & 544 & 1060 & 8 & 968 & 13 & 1744\\\\\n",
       "\t6 & 1331901000 & 46121 & 443 & -4.605170 & 544 & 1060 & 8 & 968 & 13 & 1744\\\\\n",
       "\\end{tabular}\n"
      ],
      "text/markdown": [
       "\n",
       "A data.frame: 6 × 10\n",
       "\n",
       "| <!--/--> | ts &lt;dbl&gt; | orig_port &lt;dbl&gt; | resp_port &lt;dbl&gt; | logduration &lt;dbl&gt; | orig_bytes &lt;dbl&gt; | resp_bytes &lt;dbl&gt; | orig_pkts &lt;dbl&gt; | orig_ip_bytes &lt;dbl&gt; | resp_pkts &lt;dbl&gt; | resp_ip_bytes &lt;dbl&gt; |\n",
       "|---|---|---|---|---|---|---|---|---|---|---|\n",
       "| 1 | 1331901000 | 50463 |  80 |        NA |  NA |   NA | 1 |  52 |  1 |   52 |\n",
       "| 2 | 1331901000 | 46117 | 443 |        NA |  NA |   NA | 3 | 382 |  9 |  994 |\n",
       "| 3 | 1331901000 | 50465 |  80 | -4.605170 | 166 |  214 | 4 | 382 |  3 |  382 |\n",
       "| 4 | 1331901000 | 50467 |  80 | -4.605170 | 166 |  214 | 4 | 382 |  3 |  382 |\n",
       "| 5 | 1331901000 | 46119 | 443 | -3.912023 | 544 | 1060 | 8 | 968 | 13 | 1744 |\n",
       "| 6 | 1331901000 | 46121 | 443 | -4.605170 | 544 | 1060 | 8 | 968 | 13 | 1744 |\n",
       "\n"
      ],
      "text/plain": [
       "  ts         orig_port resp_port logduration orig_bytes resp_bytes orig_pkts\n",
       "1 1331901000 50463      80              NA    NA          NA       1        \n",
       "2 1331901000 46117     443              NA    NA          NA       3        \n",
       "3 1331901000 50465      80       -4.605170   166         214       4        \n",
       "4 1331901000 50467      80       -4.605170   166         214       4        \n",
       "5 1331901000 46119     443       -3.912023   544        1060       8        \n",
       "6 1331901000 46121     443       -4.605170   544        1060       8        \n",
       "  orig_ip_bytes resp_pkts resp_ip_bytes\n",
       "1  52            1          52         \n",
       "2 382            9         994         \n",
       "3 382            3         382         \n",
       "4 382            3         382         \n",
       "5 968           13        1744         \n",
       "6 968           13        1744         "
      ]
     },
     "metadata": {},
     "output_type": "display_data"
    }
   ],
   "source": [
    "dat3=dat2\n",
    "dat3[,\"duration\"]=\n",
    "    log(dat3[,\"duration\"])\n",
    "names(dat3)[names(dat3) == \"duration\"] <- \"logduration\"\n",
    "head(dat3)"
   ]
  },
  {
   "cell_type": "code",
   "execution_count": 12,
   "metadata": {},
   "outputs": [
    {
     "data": {
      "text/html": [
       "<table>\n",
       "<caption>A data.frame: 6 × 10</caption>\n",
       "<thead>\n",
       "\t<tr><th></th><th scope=col>ts</th><th scope=col>orig_port</th><th scope=col>resp_port</th><th scope=col>logduration</th><th scope=col>orig_bytes</th><th scope=col>resp_bytes</th><th scope=col>orig_pkts</th><th scope=col>orig_ip_bytes</th><th scope=col>resp_pkts</th><th scope=col>resp_ip_bytes</th></tr>\n",
       "\t<tr><th></th><th scope=col>&lt;dbl&gt;</th><th scope=col>&lt;dbl&gt;</th><th scope=col>&lt;dbl&gt;</th><th scope=col>&lt;dbl&gt;</th><th scope=col>&lt;dbl&gt;</th><th scope=col>&lt;dbl&gt;</th><th scope=col>&lt;dbl&gt;</th><th scope=col>&lt;dbl&gt;</th><th scope=col>&lt;dbl&gt;</th><th scope=col>&lt;dbl&gt;</th></tr>\n",
       "</thead>\n",
       "<tbody>\n",
       "\t<tr><th scope=row>1</th><td>1331915797</td><td> 2633</td><td>   80</td><td>      NA</td><td>  NA</td><td> NA</td><td> 8</td><td> 813</td><td>9</td><td>8505</td></tr>\n",
       "\t<tr><th scope=row>2</th><td>1331921224</td><td> 4094</td><td>   80</td><td>-4.60517</td><td>7085</td><td>172</td><td>10</td><td>7497</td><td>9</td><td> 544</td></tr>\n",
       "\t<tr><th scope=row>3</th><td>1331903910</td><td>16066</td><td>12486</td><td>      NA</td><td>  NA</td><td> NA</td><td> 1</td><td>  48</td><td>1</td><td>  40</td></tr>\n",
       "\t<tr><th scope=row>4</th><td>1331988939</td><td>42997</td><td>28745</td><td>      NA</td><td>  NA</td><td> NA</td><td> 1</td><td>  60</td><td>1</td><td>  40</td></tr>\n",
       "\t<tr><th scope=row>5</th><td>1331918792</td><td>38566</td><td>32754</td><td>      NA</td><td>  NA</td><td> NA</td><td> 1</td><td>  48</td><td>1</td><td>  40</td></tr>\n",
       "\t<tr><th scope=row>6</th><td>1331901863</td><td>63805</td><td>45078</td><td>      NA</td><td>  NA</td><td> NA</td><td> 1</td><td>  44</td><td>1</td><td>  40</td></tr>\n",
       "</tbody>\n",
       "</table>\n"
      ],
      "text/latex": [
       "A data.frame: 6 × 10\n",
       "\\begin{tabular}{r|llllllllll}\n",
       "  & ts & orig\\_port & resp\\_port & logduration & orig\\_bytes & resp\\_bytes & orig\\_pkts & orig\\_ip\\_bytes & resp\\_pkts & resp\\_ip\\_bytes\\\\\n",
       "  & <dbl> & <dbl> & <dbl> & <dbl> & <dbl> & <dbl> & <dbl> & <dbl> & <dbl> & <dbl>\\\\\n",
       "\\hline\n",
       "\t1 & 1331915797 &  2633 &    80 &       NA &   NA &  NA &  8 &  813 & 9 & 8505\\\\\n",
       "\t2 & 1331921224 &  4094 &    80 & -4.60517 & 7085 & 172 & 10 & 7497 & 9 &  544\\\\\n",
       "\t3 & 1331903910 & 16066 & 12486 &       NA &   NA &  NA &  1 &   48 & 1 &   40\\\\\n",
       "\t4 & 1331988939 & 42997 & 28745 &       NA &   NA &  NA &  1 &   60 & 1 &   40\\\\\n",
       "\t5 & 1331918792 & 38566 & 32754 &       NA &   NA &  NA &  1 &   48 & 1 &   40\\\\\n",
       "\t6 & 1331901863 & 63805 & 45078 &       NA &   NA &  NA &  1 &   44 & 1 &   40\\\\\n",
       "\\end{tabular}\n"
      ],
      "text/markdown": [
       "\n",
       "A data.frame: 6 × 10\n",
       "\n",
       "| <!--/--> | ts &lt;dbl&gt; | orig_port &lt;dbl&gt; | resp_port &lt;dbl&gt; | logduration &lt;dbl&gt; | orig_bytes &lt;dbl&gt; | resp_bytes &lt;dbl&gt; | orig_pkts &lt;dbl&gt; | orig_ip_bytes &lt;dbl&gt; | resp_pkts &lt;dbl&gt; | resp_ip_bytes &lt;dbl&gt; |\n",
       "|---|---|---|---|---|---|---|---|---|---|---|\n",
       "| 1 | 1331915797 |  2633 |    80 |       NA |   NA |  NA |  8 |  813 | 9 | 8505 |\n",
       "| 2 | 1331921224 |  4094 |    80 | -4.60517 | 7085 | 172 | 10 | 7497 | 9 |  544 |\n",
       "| 3 | 1331903910 | 16066 | 12486 |       NA |   NA |  NA |  1 |   48 | 1 |   40 |\n",
       "| 4 | 1331988939 | 42997 | 28745 |       NA |   NA |  NA |  1 |   60 | 1 |   40 |\n",
       "| 5 | 1331918792 | 38566 | 32754 |       NA |   NA |  NA |  1 |   48 | 1 |   40 |\n",
       "| 6 | 1331901863 | 63805 | 45078 |       NA |   NA |  NA |  1 |   44 | 1 |   40 |\n",
       "\n"
      ],
      "text/plain": [
       "  ts         orig_port resp_port logduration orig_bytes resp_bytes orig_pkts\n",
       "1 1331915797  2633        80           NA      NA        NA         8       \n",
       "2 1331921224  4094        80     -4.60517    7085       172        10       \n",
       "3 1331903910 16066     12486           NA      NA        NA         1       \n",
       "4 1331988939 42997     28745           NA      NA        NA         1       \n",
       "5 1331918792 38566     32754           NA      NA        NA         1       \n",
       "6 1331901863 63805     45078           NA      NA        NA         1       \n",
       "  orig_ip_bytes resp_pkts resp_ip_bytes\n",
       "1  813          9         8505         \n",
       "2 7497          9          544         \n",
       "3   48          1           40         \n",
       "4   60          1           40         \n",
       "5   48          1           40         \n",
       "6   44          1           40         "
      ]
     },
     "metadata": {},
     "output_type": "display_data"
    }
   ],
   "source": [
    "dat_4=dat_3\n",
    "dat_4[,\"duration\"]=\n",
    "    log(dat_4[,\"duration\"])\n",
    "names(dat_4)[names(dat_4) == \"duration\"] <- \"logduration\"\n",
    "head(dat_4)"
   ]
  },
  {
   "cell_type": "code",
   "execution_count": 48,
   "metadata": {},
   "outputs": [
    {
     "name": "stderr",
     "output_type": "stream",
     "text": [
      "Warning message in amcheck(x = x, m = m, idvars = numopts$idvars, priors = priors, :\n",
      "\"The variable ts is perfectly collinear with another variable in the data.\n",
      "\"\n"
     ]
    }
   ],
   "source": [
    "set.seed(462)\n",
    "completed_data <- amelia(dat3,m=5,p2s=0,)"
   ]
  },
  {
   "cell_type": "code",
   "execution_count": 31,
   "metadata": {},
   "outputs": [],
   "source": [
    "write.amelia(obj=completed_data,file.stem=\"outdata\")"
   ]
  },
  {
   "cell_type": "code",
   "execution_count": 32,
   "metadata": {},
   "outputs": [],
   "source": [
    "temp2 <- tempfile()\n",
    "download.file(\"https://github.com/Galeforse/DST-Assessment-02/raw/main/Gabriel%20Grant/outdata1.csv\",temp2)\n",
    "csv1 <- (read.csv(gzfile(temp2)))"
   ]
  },
  {
   "cell_type": "code",
   "execution_count": 16,
   "metadata": {},
   "outputs": [],
   "source": [
    "set.seed(462)\n",
    "completed_data <- amelia(dat_4,m=5,ts=\"ts\",p2s=0,)"
   ]
  },
  {
   "cell_type": "code",
   "execution_count": 17,
   "metadata": {},
   "outputs": [],
   "source": [
    "write.amelia(obj=completed_data,file.stem=\"outdata_test\")"
   ]
  },
  {
   "cell_type": "markdown",
   "metadata": {},
   "source": [
    "[Amelia II pdf](https://cran.r-project.org/web/packages/Amelia/vignettes/amelia.pdf)"
   ]
  }
 ],
 "metadata": {
  "kernelspec": {
   "display_name": "R",
   "language": "R",
   "name": "ir"
  },
  "language_info": {
   "codemirror_mode": "r",
   "file_extension": ".r",
   "mimetype": "text/x-r-source",
   "name": "R",
   "pygments_lexer": "r",
   "version": "4.0.3"
  }
 },
 "nbformat": 4,
 "nbformat_minor": 4
}
