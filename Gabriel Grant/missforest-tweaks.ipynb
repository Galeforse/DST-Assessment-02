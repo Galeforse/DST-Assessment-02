{
 "cells": [
  {
   "cell_type": "markdown",
   "metadata": {},
   "source": [
    "This document only contains some codes that I have succeeded, because this data set is too weird and huge (the proportion of missing data is too high), I tried many methods without success.\n",
    "\n",
    "I have relatively little explanation of the code, if you have any questions, please @me."
   ]
  },
  {
   "cell_type": "code",
   "execution_count": 6,
   "metadata": {
    "collapsed": true,
    "jupyter": {
     "outputs_hidden": true
    }
   },
   "outputs": [
    {
     "name": "stderr",
     "output_type": "stream",
     "text": [
      "also installing the dependencies 'iterators', 'randomForest', 'foreach', 'itertools'\n",
      "\n",
      "\n"
     ]
    },
    {
     "name": "stdout",
     "output_type": "stream",
     "text": [
      "package 'iterators' successfully unpacked and MD5 sums checked\n",
      "package 'randomForest' successfully unpacked and MD5 sums checked\n",
      "package 'foreach' successfully unpacked and MD5 sums checked\n",
      "package 'itertools' successfully unpacked and MD5 sums checked\n",
      "package 'missForest' successfully unpacked and MD5 sums checked\n",
      "\n",
      "The downloaded binary packages are in\n",
      "\tC:\\Users\\Gabriel\\AppData\\Local\\Temp\\RtmpgDlELh\\downloaded_packages\n"
     ]
    }
   ],
   "source": [
    "install.packages(\"missForest\")"
   ]
  },
  {
   "cell_type": "code",
   "execution_count": 7,
   "metadata": {
    "collapsed": true,
    "jupyter": {
     "outputs_hidden": true
    }
   },
   "outputs": [
    {
     "name": "stderr",
     "output_type": "stream",
     "text": [
      "Loading required package: randomForest\n",
      "\n",
      "randomForest 4.6-14\n",
      "\n",
      "Type rfNews() to see new features/changes/bug fixes.\n",
      "\n",
      "\n",
      "Attaching package: 'randomForest'\n",
      "\n",
      "\n",
      "The following object is masked from 'package:dplyr':\n",
      "\n",
      "    combine\n",
      "\n",
      "\n",
      "Loading required package: foreach\n",
      "\n",
      "Loading required package: itertools\n",
      "\n",
      "Loading required package: iterators\n",
      "\n",
      "\n",
      "Attaching package: 'missForest'\n",
      "\n",
      "\n",
      "The following object is masked from 'package:VIM':\n",
      "\n",
      "    nrmse\n",
      "\n",
      "\n"
     ]
    }
   ],
   "source": [
    "library(lubridate)\n",
    "library(dlookr)\n",
    "library(dplyr)\n",
    "library(mice)\n",
    "library(VIM)\n",
    "library(missForest)"
   ]
  },
  {
   "cell_type": "code",
   "execution_count": 1,
   "metadata": {},
   "outputs": [],
   "source": [
    "temp2 <- tempfile()\n",
    "download.file(\"https://github.com/Galeforse/DST-Assessment-02/raw/main/Data/1_percent_data_head.csv.gz\",temp2)\n",
    "conndata <- (read.csv(gzfile(temp2)))"
   ]
  },
  {
   "cell_type": "code",
   "execution_count": 3,
   "metadata": {},
   "outputs": [
    {
     "data": {
      "text/html": [
       "<table>\n",
       "<caption>A data.frame: 6 × 17</caption>\n",
       "<thead>\n",
       "\t<tr><th></th><th scope=col>ts</th><th scope=col>orig_ip</th><th scope=col>orig_port</th><th scope=col>resp_ip</th><th scope=col>resp_port</th><th scope=col>proto</th><th scope=col>service</th><th scope=col>duration</th><th scope=col>orig_bytes</th><th scope=col>resp_bytes</th><th scope=col>conn_state</th><th scope=col>missed_bytes</th><th scope=col>history</th><th scope=col>orig_pkts</th><th scope=col>orig_ip_bytes</th><th scope=col>resp_pkts</th><th scope=col>resp_ip_bytes</th></tr>\n",
       "\t<tr><th></th><th scope=col>&lt;dbl&gt;</th><th scope=col>&lt;fct&gt;</th><th scope=col>&lt;dbl&gt;</th><th scope=col>&lt;fct&gt;</th><th scope=col>&lt;dbl&gt;</th><th scope=col>&lt;fct&gt;</th><th scope=col>&lt;chr&gt;</th><th scope=col>&lt;dbl&gt;</th><th scope=col>&lt;dbl&gt;</th><th scope=col>&lt;dbl&gt;</th><th scope=col>&lt;fct&gt;</th><th scope=col>&lt;dbl&gt;</th><th scope=col>&lt;fct&gt;</th><th scope=col>&lt;dbl&gt;</th><th scope=col>&lt;dbl&gt;</th><th scope=col>&lt;dbl&gt;</th><th scope=col>&lt;dbl&gt;</th></tr>\n",
       "</thead>\n",
       "<tbody>\n",
       "\t<tr><th scope=row>1</th><td>1331901000</td><td>192.168.202.79</td><td>50463</td><td>192.168.229.251</td><td> 80</td><td>tcp</td><td>    </td><td>  NA</td><td> NA</td><td>  NA</td><td>SH</td><td>0</td><td>Fa       </td><td>1</td><td> 52</td><td> 1</td><td>  52</td></tr>\n",
       "\t<tr><th scope=row>2</th><td>1331901000</td><td>192.168.202.79</td><td>46117</td><td>192.168.229.254</td><td>443</td><td>tcp</td><td>    </td><td>  NA</td><td> NA</td><td>  NA</td><td>SF</td><td>0</td><td>dDafFr   </td><td>3</td><td>382</td><td> 9</td><td> 994</td></tr>\n",
       "\t<tr><th scope=row>3</th><td>1331901000</td><td>192.168.202.79</td><td>50465</td><td>192.168.229.251</td><td> 80</td><td>tcp</td><td>http</td><td>0.01</td><td>166</td><td> 214</td><td>SF</td><td>0</td><td>ShADfFa  </td><td>4</td><td>382</td><td> 3</td><td> 382</td></tr>\n",
       "\t<tr><th scope=row>4</th><td>1331901000</td><td>192.168.202.79</td><td>50467</td><td>192.168.229.251</td><td> 80</td><td>tcp</td><td>http</td><td>0.01</td><td>166</td><td> 214</td><td>SF</td><td>0</td><td>ShADfFa  </td><td>4</td><td>382</td><td> 3</td><td> 382</td></tr>\n",
       "\t<tr><th scope=row>5</th><td>1331901000</td><td>192.168.202.79</td><td>46119</td><td>192.168.229.254</td><td>443</td><td>tcp</td><td>ssl </td><td>0.02</td><td>544</td><td>1060</td><td>SF</td><td>0</td><td>ShADadfFr</td><td>8</td><td>968</td><td>13</td><td>1744</td></tr>\n",
       "\t<tr><th scope=row>6</th><td>1331901000</td><td>192.168.202.79</td><td>46121</td><td>192.168.229.254</td><td>443</td><td>tcp</td><td>ssl </td><td>0.01</td><td>544</td><td>1060</td><td>SF</td><td>0</td><td>ShADadfFr</td><td>8</td><td>968</td><td>13</td><td>1744</td></tr>\n",
       "</tbody>\n",
       "</table>\n"
      ],
      "text/latex": [
       "A data.frame: 6 × 17\n",
       "\\begin{tabular}{r|lllllllllllllllll}\n",
       "  & ts & orig\\_ip & orig\\_port & resp\\_ip & resp\\_port & proto & service & duration & orig\\_bytes & resp\\_bytes & conn\\_state & missed\\_bytes & history & orig\\_pkts & orig\\_ip\\_bytes & resp\\_pkts & resp\\_ip\\_bytes\\\\\n",
       "  & <dbl> & <fct> & <dbl> & <fct> & <dbl> & <fct> & <chr> & <dbl> & <dbl> & <dbl> & <fct> & <dbl> & <fct> & <dbl> & <dbl> & <dbl> & <dbl>\\\\\n",
       "\\hline\n",
       "\t1 & 1331901000 & 192.168.202.79 & 50463 & 192.168.229.251 &  80 & tcp &      &   NA &  NA &   NA & SH & 0 & Fa        & 1 &  52 &  1 &   52\\\\\n",
       "\t2 & 1331901000 & 192.168.202.79 & 46117 & 192.168.229.254 & 443 & tcp &      &   NA &  NA &   NA & SF & 0 & dDafFr    & 3 & 382 &  9 &  994\\\\\n",
       "\t3 & 1331901000 & 192.168.202.79 & 50465 & 192.168.229.251 &  80 & tcp & http & 0.01 & 166 &  214 & SF & 0 & ShADfFa   & 4 & 382 &  3 &  382\\\\\n",
       "\t4 & 1331901000 & 192.168.202.79 & 50467 & 192.168.229.251 &  80 & tcp & http & 0.01 & 166 &  214 & SF & 0 & ShADfFa   & 4 & 382 &  3 &  382\\\\\n",
       "\t5 & 1331901000 & 192.168.202.79 & 46119 & 192.168.229.254 & 443 & tcp & ssl  & 0.02 & 544 & 1060 & SF & 0 & ShADadfFr & 8 & 968 & 13 & 1744\\\\\n",
       "\t6 & 1331901000 & 192.168.202.79 & 46121 & 192.168.229.254 & 443 & tcp & ssl  & 0.01 & 544 & 1060 & SF & 0 & ShADadfFr & 8 & 968 & 13 & 1744\\\\\n",
       "\\end{tabular}\n"
      ],
      "text/markdown": [
       "\n",
       "A data.frame: 6 × 17\n",
       "\n",
       "| <!--/--> | ts &lt;dbl&gt; | orig_ip &lt;fct&gt; | orig_port &lt;dbl&gt; | resp_ip &lt;fct&gt; | resp_port &lt;dbl&gt; | proto &lt;fct&gt; | service &lt;chr&gt; | duration &lt;dbl&gt; | orig_bytes &lt;dbl&gt; | resp_bytes &lt;dbl&gt; | conn_state &lt;fct&gt; | missed_bytes &lt;dbl&gt; | history &lt;fct&gt; | orig_pkts &lt;dbl&gt; | orig_ip_bytes &lt;dbl&gt; | resp_pkts &lt;dbl&gt; | resp_ip_bytes &lt;dbl&gt; |\n",
       "|---|---|---|---|---|---|---|---|---|---|---|---|---|---|---|---|---|---|\n",
       "| 1 | 1331901000 | 192.168.202.79 | 50463 | 192.168.229.251 |  80 | tcp | <!----> |   NA |  NA |   NA | SH | 0 | Fa        | 1 |  52 |  1 |   52 |\n",
       "| 2 | 1331901000 | 192.168.202.79 | 46117 | 192.168.229.254 | 443 | tcp | <!----> |   NA |  NA |   NA | SF | 0 | dDafFr    | 3 | 382 |  9 |  994 |\n",
       "| 3 | 1331901000 | 192.168.202.79 | 50465 | 192.168.229.251 |  80 | tcp | http | 0.01 | 166 |  214 | SF | 0 | ShADfFa   | 4 | 382 |  3 |  382 |\n",
       "| 4 | 1331901000 | 192.168.202.79 | 50467 | 192.168.229.251 |  80 | tcp | http | 0.01 | 166 |  214 | SF | 0 | ShADfFa   | 4 | 382 |  3 |  382 |\n",
       "| 5 | 1331901000 | 192.168.202.79 | 46119 | 192.168.229.254 | 443 | tcp | ssl  | 0.02 | 544 | 1060 | SF | 0 | ShADadfFr | 8 | 968 | 13 | 1744 |\n",
       "| 6 | 1331901000 | 192.168.202.79 | 46121 | 192.168.229.254 | 443 | tcp | ssl  | 0.01 | 544 | 1060 | SF | 0 | ShADadfFr | 8 | 968 | 13 | 1744 |\n",
       "\n"
      ],
      "text/plain": [
       "  ts         orig_ip        orig_port resp_ip         resp_port proto service\n",
       "1 1331901000 192.168.202.79 50463     192.168.229.251  80       tcp          \n",
       "2 1331901000 192.168.202.79 46117     192.168.229.254 443       tcp          \n",
       "3 1331901000 192.168.202.79 50465     192.168.229.251  80       tcp   http   \n",
       "4 1331901000 192.168.202.79 50467     192.168.229.251  80       tcp   http   \n",
       "5 1331901000 192.168.202.79 46119     192.168.229.254 443       tcp   ssl    \n",
       "6 1331901000 192.168.202.79 46121     192.168.229.254 443       tcp   ssl    \n",
       "  duration orig_bytes resp_bytes conn_state missed_bytes history   orig_pkts\n",
       "1   NA      NA          NA       SH         0            Fa        1        \n",
       "2   NA      NA          NA       SF         0            dDafFr    3        \n",
       "3 0.01     166         214       SF         0            ShADfFa   4        \n",
       "4 0.01     166         214       SF         0            ShADfFa   4        \n",
       "5 0.02     544        1060       SF         0            ShADadfFr 8        \n",
       "6 0.01     544        1060       SF         0            ShADadfFr 8        \n",
       "  orig_ip_bytes resp_pkts resp_ip_bytes\n",
       "1  52            1          52         \n",
       "2 382            9         994         \n",
       "3 382            3         382         \n",
       "4 382            3         382         \n",
       "5 968           13        1744         \n",
       "6 968           13        1744         "
      ]
     },
     "metadata": {},
     "output_type": "display_data"
    }
   ],
   "source": [
    "for(i in c(3,5,8,9,10,12,14:17)) conndata[,i]=as.numeric(conndata[,i])\n",
    "for(i in c(2,4,6,11,13)) conndata[,i]=as.factor(conndata[,i])\n",
    "conndata1<-conndata\n",
    "head(conndata1)"
   ]
  },
  {
   "cell_type": "code",
   "execution_count": 17,
   "metadata": {},
   "outputs": [
    {
     "data": {
      "text/html": [
       "<table>\n",
       "<caption>A tibble: 17 × 6</caption>\n",
       "<thead>\n",
       "\t<tr><th scope=col>variables</th><th scope=col>types</th><th scope=col>missing_count</th><th scope=col>missing_percent</th><th scope=col>unique_count</th><th scope=col>unique_rate</th></tr>\n",
       "\t<tr><th scope=col>&lt;chr&gt;</th><th scope=col>&lt;chr&gt;</th><th scope=col>&lt;int&gt;</th><th scope=col>&lt;dbl&gt;</th><th scope=col>&lt;int&gt;</th><th scope=col>&lt;dbl&gt;</th></tr>\n",
       "</thead>\n",
       "<tbody>\n",
       "\t<tr><td>ts           </td><td>numeric  </td><td>    0</td><td> 0.00000</td><td> 8231</td><td>3.626902e-02</td></tr>\n",
       "\t<tr><td>orig_ip      </td><td>factor   </td><td>    0</td><td> 0.00000</td><td>   72</td><td>3.172603e-04</td></tr>\n",
       "\t<tr><td>orig_port    </td><td>numeric  </td><td>    0</td><td> 0.00000</td><td> 5289</td><td>2.330541e-02</td></tr>\n",
       "\t<tr><td>resp_ip      </td><td>factor   </td><td>    0</td><td> 0.00000</td><td>  517</td><td>2.278105e-03</td></tr>\n",
       "\t<tr><td>resp_port    </td><td>numeric  </td><td>    0</td><td> 0.00000</td><td>28117</td><td>1.238945e-01</td></tr>\n",
       "\t<tr><td>proto        </td><td>factor   </td><td>    0</td><td> 0.00000</td><td>    3</td><td>1.321918e-05</td></tr>\n",
       "\t<tr><td>service      </td><td>character</td><td>    0</td><td> 0.00000</td><td>    6</td><td>2.643836e-05</td></tr>\n",
       "\t<tr><td>duration     </td><td>numeric  </td><td>82146</td><td>36.19675</td><td> 1040</td><td>4.582649e-03</td></tr>\n",
       "\t<tr><td>orig_bytes   </td><td>numeric  </td><td>82146</td><td>36.19675</td><td>  202</td><td>8.900913e-04</td></tr>\n",
       "\t<tr><td>resp_bytes   </td><td>numeric  </td><td>82146</td><td>36.19675</td><td>   76</td><td>3.348859e-04</td></tr>\n",
       "\t<tr><td>conn_state   </td><td>factor   </td><td>    0</td><td> 0.00000</td><td>    9</td><td>3.965754e-05</td></tr>\n",
       "\t<tr><td>missed_bytes </td><td>numeric  </td><td>    0</td><td> 0.00000</td><td>    1</td><td>4.406393e-06</td></tr>\n",
       "\t<tr><td>history      </td><td>factor   </td><td>    0</td><td> 0.00000</td><td>   39</td><td>1.718493e-04</td></tr>\n",
       "\t<tr><td>orig_pkts    </td><td>numeric  </td><td>    0</td><td> 0.00000</td><td>   33</td><td>1.454110e-04</td></tr>\n",
       "\t<tr><td>orig_ip_bytes</td><td>numeric  </td><td>    0</td><td> 0.00000</td><td>  334</td><td>1.471735e-03</td></tr>\n",
       "\t<tr><td>resp_pkts    </td><td>numeric  </td><td>    0</td><td> 0.00000</td><td>   17</td><td>7.490868e-05</td></tr>\n",
       "\t<tr><td>resp_ip_bytes</td><td>numeric  </td><td>    0</td><td> 0.00000</td><td>  123</td><td>5.419863e-04</td></tr>\n",
       "</tbody>\n",
       "</table>\n"
      ],
      "text/latex": [
       "A tibble: 17 × 6\n",
       "\\begin{tabular}{llllll}\n",
       " variables & types & missing\\_count & missing\\_percent & unique\\_count & unique\\_rate\\\\\n",
       " <chr> & <chr> & <int> & <dbl> & <int> & <dbl>\\\\\n",
       "\\hline\n",
       "\t ts            & numeric   &     0 &  0.00000 &  8231 & 3.626902e-02\\\\\n",
       "\t orig\\_ip       & factor    &     0 &  0.00000 &    72 & 3.172603e-04\\\\\n",
       "\t orig\\_port     & numeric   &     0 &  0.00000 &  5289 & 2.330541e-02\\\\\n",
       "\t resp\\_ip       & factor    &     0 &  0.00000 &   517 & 2.278105e-03\\\\\n",
       "\t resp\\_port     & numeric   &     0 &  0.00000 & 28117 & 1.238945e-01\\\\\n",
       "\t proto         & factor    &     0 &  0.00000 &     3 & 1.321918e-05\\\\\n",
       "\t service       & character &     0 &  0.00000 &     6 & 2.643836e-05\\\\\n",
       "\t duration      & numeric   & 82146 & 36.19675 &  1040 & 4.582649e-03\\\\\n",
       "\t orig\\_bytes    & numeric   & 82146 & 36.19675 &   202 & 8.900913e-04\\\\\n",
       "\t resp\\_bytes    & numeric   & 82146 & 36.19675 &    76 & 3.348859e-04\\\\\n",
       "\t conn\\_state    & factor    &     0 &  0.00000 &     9 & 3.965754e-05\\\\\n",
       "\t missed\\_bytes  & numeric   &     0 &  0.00000 &     1 & 4.406393e-06\\\\\n",
       "\t history       & factor    &     0 &  0.00000 &    39 & 1.718493e-04\\\\\n",
       "\t orig\\_pkts     & numeric   &     0 &  0.00000 &    33 & 1.454110e-04\\\\\n",
       "\t orig\\_ip\\_bytes & numeric   &     0 &  0.00000 &   334 & 1.471735e-03\\\\\n",
       "\t resp\\_pkts     & numeric   &     0 &  0.00000 &    17 & 7.490868e-05\\\\\n",
       "\t resp\\_ip\\_bytes & numeric   &     0 &  0.00000 &   123 & 5.419863e-04\\\\\n",
       "\\end{tabular}\n"
      ],
      "text/markdown": [
       "\n",
       "A tibble: 17 × 6\n",
       "\n",
       "| variables &lt;chr&gt; | types &lt;chr&gt; | missing_count &lt;int&gt; | missing_percent &lt;dbl&gt; | unique_count &lt;int&gt; | unique_rate &lt;dbl&gt; |\n",
       "|---|---|---|---|---|---|\n",
       "| ts            | numeric   |     0 |  0.00000 |  8231 | 3.626902e-02 |\n",
       "| orig_ip       | factor    |     0 |  0.00000 |    72 | 3.172603e-04 |\n",
       "| orig_port     | numeric   |     0 |  0.00000 |  5289 | 2.330541e-02 |\n",
       "| resp_ip       | factor    |     0 |  0.00000 |   517 | 2.278105e-03 |\n",
       "| resp_port     | numeric   |     0 |  0.00000 | 28117 | 1.238945e-01 |\n",
       "| proto         | factor    |     0 |  0.00000 |     3 | 1.321918e-05 |\n",
       "| service       | character |     0 |  0.00000 |     6 | 2.643836e-05 |\n",
       "| duration      | numeric   | 82146 | 36.19675 |  1040 | 4.582649e-03 |\n",
       "| orig_bytes    | numeric   | 82146 | 36.19675 |   202 | 8.900913e-04 |\n",
       "| resp_bytes    | numeric   | 82146 | 36.19675 |    76 | 3.348859e-04 |\n",
       "| conn_state    | factor    |     0 |  0.00000 |     9 | 3.965754e-05 |\n",
       "| missed_bytes  | numeric   |     0 |  0.00000 |     1 | 4.406393e-06 |\n",
       "| history       | factor    |     0 |  0.00000 |    39 | 1.718493e-04 |\n",
       "| orig_pkts     | numeric   |     0 |  0.00000 |    33 | 1.454110e-04 |\n",
       "| orig_ip_bytes | numeric   |     0 |  0.00000 |   334 | 1.471735e-03 |\n",
       "| resp_pkts     | numeric   |     0 |  0.00000 |    17 | 7.490868e-05 |\n",
       "| resp_ip_bytes | numeric   |     0 |  0.00000 |   123 | 5.419863e-04 |\n",
       "\n"
      ],
      "text/plain": [
       "   variables     types     missing_count missing_percent unique_count\n",
       "1  ts            numeric       0          0.00000         8231       \n",
       "2  orig_ip       factor        0          0.00000           72       \n",
       "3  orig_port     numeric       0          0.00000         5289       \n",
       "4  resp_ip       factor        0          0.00000          517       \n",
       "5  resp_port     numeric       0          0.00000        28117       \n",
       "6  proto         factor        0          0.00000            3       \n",
       "7  service       character     0          0.00000            6       \n",
       "8  duration      numeric   82146         36.19675         1040       \n",
       "9  orig_bytes    numeric   82146         36.19675          202       \n",
       "10 resp_bytes    numeric   82146         36.19675           76       \n",
       "11 conn_state    factor        0          0.00000            9       \n",
       "12 missed_bytes  numeric       0          0.00000            1       \n",
       "13 history       factor        0          0.00000           39       \n",
       "14 orig_pkts     numeric       0          0.00000           33       \n",
       "15 orig_ip_bytes numeric       0          0.00000          334       \n",
       "16 resp_pkts     numeric       0          0.00000           17       \n",
       "17 resp_ip_bytes numeric       0          0.00000          123       \n",
       "   unique_rate \n",
       "1  3.626902e-02\n",
       "2  3.172603e-04\n",
       "3  2.330541e-02\n",
       "4  2.278105e-03\n",
       "5  1.238945e-01\n",
       "6  1.321918e-05\n",
       "7  2.643836e-05\n",
       "8  4.582649e-03\n",
       "9  8.900913e-04\n",
       "10 3.348859e-04\n",
       "11 3.965754e-05\n",
       "12 4.406393e-06\n",
       "13 1.718493e-04\n",
       "14 1.454110e-04\n",
       "15 1.471735e-03\n",
       "16 7.490868e-05\n",
       "17 5.419863e-04"
      ]
     },
     "metadata": {},
     "output_type": "display_data"
    }
   ],
   "source": [
    "diagnose(conndata1)"
   ]
  },
  {
   "cell_type": "markdown",
   "metadata": {},
   "source": [
    "#### Observing missing values"
   ]
  },
  {
   "cell_type": "code",
   "execution_count": 5,
   "metadata": {
    "collapsed": true,
    "jupyter": {
     "outputs_hidden": true
    }
   },
   "outputs": [
    {
     "name": "stderr",
     "output_type": "stream",
     "text": [
      "\n",
      "Attaching package: 'mice'\n",
      "\n",
      "\n",
      "The following object is masked from 'package:stats':\n",
      "\n",
      "    filter\n",
      "\n",
      "\n",
      "The following objects are masked from 'package:base':\n",
      "\n",
      "    cbind, rbind\n",
      "\n",
      "\n"
     ]
    },
    {
     "data": {
      "text/html": [
       "<table>\n",
       "<caption>A matrix: 3 × 18 of type dbl</caption>\n",
       "<thead>\n",
       "\t<tr><th></th><th scope=col>ts</th><th scope=col>orig_ip</th><th scope=col>orig_port</th><th scope=col>resp_ip</th><th scope=col>resp_port</th><th scope=col>proto</th><th scope=col>service</th><th scope=col>conn_state</th><th scope=col>missed_bytes</th><th scope=col>history</th><th scope=col>orig_pkts</th><th scope=col>orig_ip_bytes</th><th scope=col>resp_pkts</th><th scope=col>resp_ip_bytes</th><th scope=col>duration</th><th scope=col>orig_bytes</th><th scope=col>resp_bytes</th><th scope=col></th></tr>\n",
       "</thead>\n",
       "<tbody>\n",
       "\t<tr><th scope=row>144797</th><td>1</td><td>1</td><td>1</td><td>1</td><td>1</td><td>1</td><td>1</td><td>1</td><td>1</td><td>1</td><td>1</td><td>1</td><td>1</td><td>1</td><td>    1</td><td>    1</td><td>    1</td><td>     0</td></tr>\n",
       "\t<tr><th scope=row>82146</th><td>1</td><td>1</td><td>1</td><td>1</td><td>1</td><td>1</td><td>1</td><td>1</td><td>1</td><td>1</td><td>1</td><td>1</td><td>1</td><td>1</td><td>    0</td><td>    0</td><td>    0</td><td>     3</td></tr>\n",
       "\t<tr><th scope=row></th><td>0</td><td>0</td><td>0</td><td>0</td><td>0</td><td>0</td><td>0</td><td>0</td><td>0</td><td>0</td><td>0</td><td>0</td><td>0</td><td>0</td><td>82146</td><td>82146</td><td>82146</td><td>246438</td></tr>\n",
       "</tbody>\n",
       "</table>\n"
      ],
      "text/latex": [
       "A matrix: 3 × 18 of type dbl\n",
       "\\begin{tabular}{r|llllllllllllllllll}\n",
       "  & ts & orig\\_ip & orig\\_port & resp\\_ip & resp\\_port & proto & service & conn\\_state & missed\\_bytes & history & orig\\_pkts & orig\\_ip\\_bytes & resp\\_pkts & resp\\_ip\\_bytes & duration & orig\\_bytes & resp\\_bytes & \\\\\n",
       "\\hline\n",
       "\t144797 & 1 & 1 & 1 & 1 & 1 & 1 & 1 & 1 & 1 & 1 & 1 & 1 & 1 & 1 &     1 &     1 &     1 &      0\\\\\n",
       "\t82146 & 1 & 1 & 1 & 1 & 1 & 1 & 1 & 1 & 1 & 1 & 1 & 1 & 1 & 1 &     0 &     0 &     0 &      3\\\\\n",
       "\t & 0 & 0 & 0 & 0 & 0 & 0 & 0 & 0 & 0 & 0 & 0 & 0 & 0 & 0 & 82146 & 82146 & 82146 & 246438\\\\\n",
       "\\end{tabular}\n"
      ],
      "text/markdown": [
       "\n",
       "A matrix: 3 × 18 of type dbl\n",
       "\n",
       "| <!--/--> | ts | orig_ip | orig_port | resp_ip | resp_port | proto | service | conn_state | missed_bytes | history | orig_pkts | orig_ip_bytes | resp_pkts | resp_ip_bytes | duration | orig_bytes | resp_bytes | <!----> |\n",
       "|---|---|---|---|---|---|---|---|---|---|---|---|---|---|---|---|---|---|---|\n",
       "| 144797 | 1 | 1 | 1 | 1 | 1 | 1 | 1 | 1 | 1 | 1 | 1 | 1 | 1 | 1 |     1 |     1 |     1 |      0 |\n",
       "| 82146 | 1 | 1 | 1 | 1 | 1 | 1 | 1 | 1 | 1 | 1 | 1 | 1 | 1 | 1 |     0 |     0 |     0 |      3 |\n",
       "| <!----> | 0 | 0 | 0 | 0 | 0 | 0 | 0 | 0 | 0 | 0 | 0 | 0 | 0 | 0 | 82146 | 82146 | 82146 | 246438 |\n",
       "\n"
      ],
      "text/plain": [
       "       ts orig_ip orig_port resp_ip resp_port proto service conn_state\n",
       "144797 1  1       1         1       1         1     1       1         \n",
       "82146  1  1       1         1       1         1     1       1         \n",
       "       0  0       0         0       0         0     0       0         \n",
       "       missed_bytes history orig_pkts orig_ip_bytes resp_pkts resp_ip_bytes\n",
       "144797 1            1       1         1             1         1            \n",
       "82146  1            1       1         1             1         1            \n",
       "       0            0       0         0             0         0            \n",
       "       duration orig_bytes resp_bytes       \n",
       "144797     1        1          1           0\n",
       "82146      0        0          0           3\n",
       "       82146    82146      82146      246438"
      ]
     },
     "metadata": {},
     "output_type": "display_data"
    },
    {
     "data": {
      "image/png": "[encoded data removed]",
      "text/plain": [
       "plot without title"
      ]
     },
     "metadata": {
      "image/png": {
       "height": 420,
       "width": 420
      }
     },
     "output_type": "display_data"
    }
   ],
   "source": [
    "library(\"mice\")\n",
    "md.pattern(conndata1)"
   ]
  },
  {
   "cell_type": "code",
   "execution_count": 18,
   "metadata": {},
   "outputs": [
    {
     "data": {
      "image/png": "[encoded data removed]",
      "text/plain": [
       "plot without title"
      ]
     },
     "metadata": {
      "image/png": {
       "height": 420,
       "width": 420
      }
     },
     "output_type": "display_data"
    }
   ],
   "source": [
    "library(\"VIM\")\n",
    "aggr(conndata1, prop = TRUE, numbers = TRUE)"
   ]
  },
  {
   "cell_type": "code",
   "execution_count": 7,
   "metadata": {},
   "outputs": [
    {
     "data": {
      "image/png": "[encoded data removed]",
      "text/plain": [
       "plot without title"
      ]
     },
     "metadata": {
      "image/png": {
       "height": 420,
       "width": 420
      }
     },
     "output_type": "display_data"
    }
   ],
   "source": [
    "matrixplot(conndata1,sortby = \"ts\")"
   ]
  },
  {
   "cell_type": "markdown",
   "metadata": {},
   "source": [
    "We delete the \"service\" column"
   ]
  },
  {
   "cell_type": "code",
   "execution_count": 8,
   "metadata": {},
   "outputs": [
    {
     "data": {
      "text/html": [
       "<table>\n",
       "<caption>A data.frame: 6 × 16</caption>\n",
       "<thead>\n",
       "\t<tr><th></th><th scope=col>ts</th><th scope=col>orig_ip</th><th scope=col>orig_port</th><th scope=col>resp_ip</th><th scope=col>resp_port</th><th scope=col>proto</th><th scope=col>duration</th><th scope=col>orig_bytes</th><th scope=col>resp_bytes</th><th scope=col>conn_state</th><th scope=col>missed_bytes</th><th scope=col>history</th><th scope=col>orig_pkts</th><th scope=col>orig_ip_bytes</th><th scope=col>resp_pkts</th><th scope=col>resp_ip_bytes</th></tr>\n",
       "\t<tr><th></th><th scope=col>&lt;dbl&gt;</th><th scope=col>&lt;chr&gt;</th><th scope=col>&lt;int&gt;</th><th scope=col>&lt;chr&gt;</th><th scope=col>&lt;int&gt;</th><th scope=col>&lt;chr&gt;</th><th scope=col>&lt;dbl&gt;</th><th scope=col>&lt;int&gt;</th><th scope=col>&lt;int&gt;</th><th scope=col>&lt;chr&gt;</th><th scope=col>&lt;int&gt;</th><th scope=col>&lt;chr&gt;</th><th scope=col>&lt;int&gt;</th><th scope=col>&lt;int&gt;</th><th scope=col>&lt;int&gt;</th><th scope=col>&lt;int&gt;</th></tr>\n",
       "</thead>\n",
       "<tbody>\n",
       "\t<tr><th scope=row>1</th><td>1331901000</td><td>192.168.202.79</td><td>50463</td><td>192.168.229.251</td><td> 80</td><td>tcp</td><td>  NA</td><td> NA</td><td>  NA</td><td>SH</td><td>0</td><td>Fa       </td><td>1</td><td> 52</td><td> 1</td><td>  52</td></tr>\n",
       "\t<tr><th scope=row>2</th><td>1331901000</td><td>192.168.202.79</td><td>46117</td><td>192.168.229.254</td><td>443</td><td>tcp</td><td>  NA</td><td> NA</td><td>  NA</td><td>SF</td><td>0</td><td>dDafFr   </td><td>3</td><td>382</td><td> 9</td><td> 994</td></tr>\n",
       "\t<tr><th scope=row>3</th><td>1331901000</td><td>192.168.202.79</td><td>50465</td><td>192.168.229.251</td><td> 80</td><td>tcp</td><td>0.01</td><td>166</td><td> 214</td><td>SF</td><td>0</td><td>ShADfFa  </td><td>4</td><td>382</td><td> 3</td><td> 382</td></tr>\n",
       "\t<tr><th scope=row>4</th><td>1331901000</td><td>192.168.202.79</td><td>50467</td><td>192.168.229.251</td><td> 80</td><td>tcp</td><td>0.01</td><td>166</td><td> 214</td><td>SF</td><td>0</td><td>ShADfFa  </td><td>4</td><td>382</td><td> 3</td><td> 382</td></tr>\n",
       "\t<tr><th scope=row>5</th><td>1331901000</td><td>192.168.202.79</td><td>46119</td><td>192.168.229.254</td><td>443</td><td>tcp</td><td>0.02</td><td>544</td><td>1060</td><td>SF</td><td>0</td><td>ShADadfFr</td><td>8</td><td>968</td><td>13</td><td>1744</td></tr>\n",
       "\t<tr><th scope=row>6</th><td>1331901000</td><td>192.168.202.79</td><td>46121</td><td>192.168.229.254</td><td>443</td><td>tcp</td><td>0.01</td><td>544</td><td>1060</td><td>SF</td><td>0</td><td>ShADadfFr</td><td>8</td><td>968</td><td>13</td><td>1744</td></tr>\n",
       "</tbody>\n",
       "</table>\n"
      ],
      "text/latex": [
       "A data.frame: 6 × 16\n",
       "\\begin{tabular}{r|llllllllllllllll}\n",
       "  & ts & orig\\_ip & orig\\_port & resp\\_ip & resp\\_port & proto & duration & orig\\_bytes & resp\\_bytes & conn\\_state & missed\\_bytes & history & orig\\_pkts & orig\\_ip\\_bytes & resp\\_pkts & resp\\_ip\\_bytes\\\\\n",
       "  & <dbl> & <chr> & <int> & <chr> & <int> & <chr> & <dbl> & <int> & <int> & <chr> & <int> & <chr> & <int> & <int> & <int> & <int>\\\\\n",
       "\\hline\n",
       "\t1 & 1331901000 & 192.168.202.79 & 50463 & 192.168.229.251 &  80 & tcp &   NA &  NA &   NA & SH & 0 & Fa        & 1 &  52 &  1 &   52\\\\\n",
       "\t2 & 1331901000 & 192.168.202.79 & 46117 & 192.168.229.254 & 443 & tcp &   NA &  NA &   NA & SF & 0 & dDafFr    & 3 & 382 &  9 &  994\\\\\n",
       "\t3 & 1331901000 & 192.168.202.79 & 50465 & 192.168.229.251 &  80 & tcp & 0.01 & 166 &  214 & SF & 0 & ShADfFa   & 4 & 382 &  3 &  382\\\\\n",
       "\t4 & 1331901000 & 192.168.202.79 & 50467 & 192.168.229.251 &  80 & tcp & 0.01 & 166 &  214 & SF & 0 & ShADfFa   & 4 & 382 &  3 &  382\\\\\n",
       "\t5 & 1331901000 & 192.168.202.79 & 46119 & 192.168.229.254 & 443 & tcp & 0.02 & 544 & 1060 & SF & 0 & ShADadfFr & 8 & 968 & 13 & 1744\\\\\n",
       "\t6 & 1331901000 & 192.168.202.79 & 46121 & 192.168.229.254 & 443 & tcp & 0.01 & 544 & 1060 & SF & 0 & ShADadfFr & 8 & 968 & 13 & 1744\\\\\n",
       "\\end{tabular}\n"
      ],
      "text/markdown": [
       "\n",
       "A data.frame: 6 × 16\n",
       "\n",
       "| <!--/--> | ts &lt;dbl&gt; | orig_ip &lt;chr&gt; | orig_port &lt;int&gt; | resp_ip &lt;chr&gt; | resp_port &lt;int&gt; | proto &lt;chr&gt; | duration &lt;dbl&gt; | orig_bytes &lt;int&gt; | resp_bytes &lt;int&gt; | conn_state &lt;chr&gt; | missed_bytes &lt;int&gt; | history &lt;chr&gt; | orig_pkts &lt;int&gt; | orig_ip_bytes &lt;int&gt; | resp_pkts &lt;int&gt; | resp_ip_bytes &lt;int&gt; |\n",
       "|---|---|---|---|---|---|---|---|---|---|---|---|---|---|---|---|---|\n",
       "| 1 | 1331901000 | 192.168.202.79 | 50463 | 192.168.229.251 |  80 | tcp |   NA |  NA |   NA | SH | 0 | Fa        | 1 |  52 |  1 |   52 |\n",
       "| 2 | 1331901000 | 192.168.202.79 | 46117 | 192.168.229.254 | 443 | tcp |   NA |  NA |   NA | SF | 0 | dDafFr    | 3 | 382 |  9 |  994 |\n",
       "| 3 | 1331901000 | 192.168.202.79 | 50465 | 192.168.229.251 |  80 | tcp | 0.01 | 166 |  214 | SF | 0 | ShADfFa   | 4 | 382 |  3 |  382 |\n",
       "| 4 | 1331901000 | 192.168.202.79 | 50467 | 192.168.229.251 |  80 | tcp | 0.01 | 166 |  214 | SF | 0 | ShADfFa   | 4 | 382 |  3 |  382 |\n",
       "| 5 | 1331901000 | 192.168.202.79 | 46119 | 192.168.229.254 | 443 | tcp | 0.02 | 544 | 1060 | SF | 0 | ShADadfFr | 8 | 968 | 13 | 1744 |\n",
       "| 6 | 1331901000 | 192.168.202.79 | 46121 | 192.168.229.254 | 443 | tcp | 0.01 | 544 | 1060 | SF | 0 | ShADadfFr | 8 | 968 | 13 | 1744 |\n",
       "\n"
      ],
      "text/plain": [
       "  ts         orig_ip        orig_port resp_ip         resp_port proto duration\n",
       "1 1331901000 192.168.202.79 50463     192.168.229.251  80       tcp     NA    \n",
       "2 1331901000 192.168.202.79 46117     192.168.229.254 443       tcp     NA    \n",
       "3 1331901000 192.168.202.79 50465     192.168.229.251  80       tcp   0.01    \n",
       "4 1331901000 192.168.202.79 50467     192.168.229.251  80       tcp   0.01    \n",
       "5 1331901000 192.168.202.79 46119     192.168.229.254 443       tcp   0.02    \n",
       "6 1331901000 192.168.202.79 46121     192.168.229.254 443       tcp   0.01    \n",
       "  orig_bytes resp_bytes conn_state missed_bytes history   orig_pkts\n",
       "1  NA          NA       SH         0            Fa        1        \n",
       "2  NA          NA       SF         0            dDafFr    3        \n",
       "3 166         214       SF         0            ShADfFa   4        \n",
       "4 166         214       SF         0            ShADfFa   4        \n",
       "5 544        1060       SF         0            ShADadfFr 8        \n",
       "6 544        1060       SF         0            ShADadfFr 8        \n",
       "  orig_ip_bytes resp_pkts resp_ip_bytes\n",
       "1  52            1          52         \n",
       "2 382            9         994         \n",
       "3 382            3         382         \n",
       "4 382            3         382         \n",
       "5 968           13        1744         \n",
       "6 968           13        1744         "
      ]
     },
     "metadata": {},
     "output_type": "display_data"
    }
   ],
   "source": [
    "conndata2<-conndata[,-which(names(conndata) %in% c(\"service\"))]\n",
    "head(conndata2)"
   ]
  },
  {
   "cell_type": "markdown",
   "metadata": {},
   "source": [
    "One way to examine the imputation model's performance is by how much variation it explains.\n",
    "We build a simple linear regression model, through this model, we can see the fit of \"duration\" and other variables. The closer the R-squared is to 1, the better the fit of the data, that is, the better the effect of imputation."
   ]
  },
  {
   "cell_type": "code",
   "execution_count": 9,
   "metadata": {},
   "outputs": [
    {
     "data": {
      "text/plain": [
       "\n",
       "Call:\n",
       "lm(formula = logduration ~ proto + ts + orig_port + resp_port + \n",
       "    conn_state + orig_pkts + orig_ip_bytes + resp_pkts + resp_ip_bytes, \n",
       "    data = conndata2)\n",
       "\n",
       "Residuals:\n",
       "     Min       1Q   Median       3Q      Max \n",
       "-24.4867  -0.8238  -0.0163   0.5359   7.9837 \n",
       "\n",
       "Coefficients: (1 not defined because of singularities)\n",
       "                 Estimate Std. Error t value Pr(>|t|)    \n",
       "(Intercept)     3.011e+00  1.304e-01  23.093  < 2e-16 ***\n",
       "prototcp       -1.087e+01  4.262e-01 -25.499  < 2e-16 ***\n",
       "protoudp       -1.129e+01  4.288e-01 -26.325  < 2e-16 ***\n",
       "ts                     NA         NA      NA       NA    \n",
       "orig_port      -7.761e-08  8.016e-07  -0.097    0.923    \n",
       "resp_port      -7.186e-07  9.957e-08  -7.217 5.35e-13 ***\n",
       "conn_stateREJ   4.738e+00  4.021e-01  11.782  < 2e-16 ***\n",
       "conn_stateRSTO  4.162e+00  4.104e-01  10.141  < 2e-16 ***\n",
       "conn_stateRSTR  9.623e+00  4.020e-01  23.938  < 2e-16 ***\n",
       "conn_stateS0    8.971e+00  4.022e-01  22.306  < 2e-16 ***\n",
       "conn_stateS1   -8.143e+00  7.867e-01 -10.351  < 2e-16 ***\n",
       "conn_stateSF    5.979e+00  4.030e-01  14.837  < 2e-16 ***\n",
       "conn_stateSH    8.890e+00  5.036e-01  17.653  < 2e-16 ***\n",
       "orig_pkts      -1.180e-01  4.512e-03 -26.143  < 2e-16 ***\n",
       "orig_ip_bytes   2.622e-03  4.989e-05  52.567  < 2e-16 ***\n",
       "resp_pkts      -7.853e-01  9.510e-03 -82.579  < 2e-16 ***\n",
       "resp_ip_bytes   4.384e-03  5.785e-05  75.791  < 2e-16 ***\n",
       "---\n",
       "Signif. codes:  0 '***' 0.001 '**' 0.01 '*' 0.05 '.' 0.1 ' ' 1\n",
       "\n",
       "Residual standard error: 0.6781 on 144781 degrees of freedom\n",
       "  (82146 observations deleted due to missingness)\n",
       "Multiple R-squared:  0.4907,\tAdjusted R-squared:  0.4906 \n",
       "F-statistic:  9298 on 15 and 144781 DF,  p-value: < 2.2e-16\n"
      ]
     },
     "metadata": {},
     "output_type": "display_data"
    }
   ],
   "source": [
    "conndata2[,\"logduration\"]=log(conndata2[,\"duration\"])\n",
    "lm1=lm(logduration~proto+ts+orig_port+resp_port+conn_state+orig_pkts+orig_ip_bytes +resp_pkts+resp_ip_bytes,data=conndata2)\n",
    "summary(lm1) "
   ]
  },
  {
   "cell_type": "code",
   "execution_count": 10,
   "metadata": {},
   "outputs": [
    {
     "data": {
      "text/html": [
       "<table>\n",
       "<caption>A data.frame: 6 × 17</caption>\n",
       "<thead>\n",
       "\t<tr><th></th><th scope=col>ts</th><th scope=col>orig_ip</th><th scope=col>orig_port</th><th scope=col>resp_ip</th><th scope=col>resp_port</th><th scope=col>proto</th><th scope=col>duration</th><th scope=col>orig_bytes</th><th scope=col>resp_bytes</th><th scope=col>conn_state</th><th scope=col>missed_bytes</th><th scope=col>history</th><th scope=col>orig_pkts</th><th scope=col>orig_ip_bytes</th><th scope=col>resp_pkts</th><th scope=col>resp_ip_bytes</th><th scope=col>logduration</th></tr>\n",
       "\t<tr><th></th><th scope=col>&lt;dbl&gt;</th><th scope=col>&lt;chr&gt;</th><th scope=col>&lt;int&gt;</th><th scope=col>&lt;chr&gt;</th><th scope=col>&lt;int&gt;</th><th scope=col>&lt;chr&gt;</th><th scope=col>&lt;dbl&gt;</th><th scope=col>&lt;int&gt;</th><th scope=col>&lt;int&gt;</th><th scope=col>&lt;chr&gt;</th><th scope=col>&lt;int&gt;</th><th scope=col>&lt;chr&gt;</th><th scope=col>&lt;int&gt;</th><th scope=col>&lt;int&gt;</th><th scope=col>&lt;int&gt;</th><th scope=col>&lt;int&gt;</th><th scope=col>&lt;dbl&gt;</th></tr>\n",
       "</thead>\n",
       "<tbody>\n",
       "\t<tr><th scope=row>1</th><td>1331901000</td><td>192.168.202.79</td><td>50463</td><td>192.168.229.251</td><td> 80</td><td>tcp</td><td>  NA</td><td> NA</td><td>  NA</td><td>SH</td><td>0</td><td>Fa       </td><td>1</td><td> 52</td><td> 1</td><td>  52</td><td>       NA</td></tr>\n",
       "\t<tr><th scope=row>2</th><td>1331901000</td><td>192.168.202.79</td><td>46117</td><td>192.168.229.254</td><td>443</td><td>tcp</td><td>  NA</td><td> NA</td><td>  NA</td><td>SF</td><td>0</td><td>dDafFr   </td><td>3</td><td>382</td><td> 9</td><td> 994</td><td>       NA</td></tr>\n",
       "\t<tr><th scope=row>3</th><td>1331901000</td><td>192.168.202.79</td><td>50465</td><td>192.168.229.251</td><td> 80</td><td>tcp</td><td>0.01</td><td>166</td><td> 214</td><td>SF</td><td>0</td><td>ShADfFa  </td><td>4</td><td>382</td><td> 3</td><td> 382</td><td>-4.605170</td></tr>\n",
       "\t<tr><th scope=row>4</th><td>1331901000</td><td>192.168.202.79</td><td>50467</td><td>192.168.229.251</td><td> 80</td><td>tcp</td><td>0.01</td><td>166</td><td> 214</td><td>SF</td><td>0</td><td>ShADfFa  </td><td>4</td><td>382</td><td> 3</td><td> 382</td><td>-4.605170</td></tr>\n",
       "\t<tr><th scope=row>5</th><td>1331901000</td><td>192.168.202.79</td><td>46119</td><td>192.168.229.254</td><td>443</td><td>tcp</td><td>0.02</td><td>544</td><td>1060</td><td>SF</td><td>0</td><td>ShADadfFr</td><td>8</td><td>968</td><td>13</td><td>1744</td><td>-3.912023</td></tr>\n",
       "\t<tr><th scope=row>6</th><td>1331901000</td><td>192.168.202.79</td><td>46121</td><td>192.168.229.254</td><td>443</td><td>tcp</td><td>0.01</td><td>544</td><td>1060</td><td>SF</td><td>0</td><td>ShADadfFr</td><td>8</td><td>968</td><td>13</td><td>1744</td><td>-4.605170</td></tr>\n",
       "</tbody>\n",
       "</table>\n"
      ],
      "text/latex": [
       "A data.frame: 6 × 17\n",
       "\\begin{tabular}{r|lllllllllllllllll}\n",
       "  & ts & orig\\_ip & orig\\_port & resp\\_ip & resp\\_port & proto & duration & orig\\_bytes & resp\\_bytes & conn\\_state & missed\\_bytes & history & orig\\_pkts & orig\\_ip\\_bytes & resp\\_pkts & resp\\_ip\\_bytes & logduration\\\\\n",
       "  & <dbl> & <chr> & <int> & <chr> & <int> & <chr> & <dbl> & <int> & <int> & <chr> & <int> & <chr> & <int> & <int> & <int> & <int> & <dbl>\\\\\n",
       "\\hline\n",
       "\t1 & 1331901000 & 192.168.202.79 & 50463 & 192.168.229.251 &  80 & tcp &   NA &  NA &   NA & SH & 0 & Fa        & 1 &  52 &  1 &   52 &        NA\\\\\n",
       "\t2 & 1331901000 & 192.168.202.79 & 46117 & 192.168.229.254 & 443 & tcp &   NA &  NA &   NA & SF & 0 & dDafFr    & 3 & 382 &  9 &  994 &        NA\\\\\n",
       "\t3 & 1331901000 & 192.168.202.79 & 50465 & 192.168.229.251 &  80 & tcp & 0.01 & 166 &  214 & SF & 0 & ShADfFa   & 4 & 382 &  3 &  382 & -4.605170\\\\\n",
       "\t4 & 1331901000 & 192.168.202.79 & 50467 & 192.168.229.251 &  80 & tcp & 0.01 & 166 &  214 & SF & 0 & ShADfFa   & 4 & 382 &  3 &  382 & -4.605170\\\\\n",
       "\t5 & 1331901000 & 192.168.202.79 & 46119 & 192.168.229.254 & 443 & tcp & 0.02 & 544 & 1060 & SF & 0 & ShADadfFr & 8 & 968 & 13 & 1744 & -3.912023\\\\\n",
       "\t6 & 1331901000 & 192.168.202.79 & 46121 & 192.168.229.254 & 443 & tcp & 0.01 & 544 & 1060 & SF & 0 & ShADadfFr & 8 & 968 & 13 & 1744 & -4.605170\\\\\n",
       "\\end{tabular}\n"
      ],
      "text/markdown": [
       "\n",
       "A data.frame: 6 × 17\n",
       "\n",
       "| <!--/--> | ts &lt;dbl&gt; | orig_ip &lt;chr&gt; | orig_port &lt;int&gt; | resp_ip &lt;chr&gt; | resp_port &lt;int&gt; | proto &lt;chr&gt; | duration &lt;dbl&gt; | orig_bytes &lt;int&gt; | resp_bytes &lt;int&gt; | conn_state &lt;chr&gt; | missed_bytes &lt;int&gt; | history &lt;chr&gt; | orig_pkts &lt;int&gt; | orig_ip_bytes &lt;int&gt; | resp_pkts &lt;int&gt; | resp_ip_bytes &lt;int&gt; | logduration &lt;dbl&gt; |\n",
       "|---|---|---|---|---|---|---|---|---|---|---|---|---|---|---|---|---|---|\n",
       "| 1 | 1331901000 | 192.168.202.79 | 50463 | 192.168.229.251 |  80 | tcp |   NA |  NA |   NA | SH | 0 | Fa        | 1 |  52 |  1 |   52 |        NA |\n",
       "| 2 | 1331901000 | 192.168.202.79 | 46117 | 192.168.229.254 | 443 | tcp |   NA |  NA |   NA | SF | 0 | dDafFr    | 3 | 382 |  9 |  994 |        NA |\n",
       "| 3 | 1331901000 | 192.168.202.79 | 50465 | 192.168.229.251 |  80 | tcp | 0.01 | 166 |  214 | SF | 0 | ShADfFa   | 4 | 382 |  3 |  382 | -4.605170 |\n",
       "| 4 | 1331901000 | 192.168.202.79 | 50467 | 192.168.229.251 |  80 | tcp | 0.01 | 166 |  214 | SF | 0 | ShADfFa   | 4 | 382 |  3 |  382 | -4.605170 |\n",
       "| 5 | 1331901000 | 192.168.202.79 | 46119 | 192.168.229.254 | 443 | tcp | 0.02 | 544 | 1060 | SF | 0 | ShADadfFr | 8 | 968 | 13 | 1744 | -3.912023 |\n",
       "| 6 | 1331901000 | 192.168.202.79 | 46121 | 192.168.229.254 | 443 | tcp | 0.01 | 544 | 1060 | SF | 0 | ShADadfFr | 8 | 968 | 13 | 1744 | -4.605170 |\n",
       "\n"
      ],
      "text/plain": [
       "  ts         orig_ip        orig_port resp_ip         resp_port proto duration\n",
       "1 1331901000 192.168.202.79 50463     192.168.229.251  80       tcp     NA    \n",
       "2 1331901000 192.168.202.79 46117     192.168.229.254 443       tcp     NA    \n",
       "3 1331901000 192.168.202.79 50465     192.168.229.251  80       tcp   0.01    \n",
       "4 1331901000 192.168.202.79 50467     192.168.229.251  80       tcp   0.01    \n",
       "5 1331901000 192.168.202.79 46119     192.168.229.254 443       tcp   0.02    \n",
       "6 1331901000 192.168.202.79 46121     192.168.229.254 443       tcp   0.01    \n",
       "  orig_bytes resp_bytes conn_state missed_bytes history   orig_pkts\n",
       "1  NA          NA       SH         0            Fa        1        \n",
       "2  NA          NA       SF         0            dDafFr    3        \n",
       "3 166         214       SF         0            ShADfFa   4        \n",
       "4 166         214       SF         0            ShADfFa   4        \n",
       "5 544        1060       SF         0            ShADadfFr 8        \n",
       "6 544        1060       SF         0            ShADadfFr 8        \n",
       "  orig_ip_bytes resp_pkts resp_ip_bytes logduration\n",
       "1  52            1          52                 NA  \n",
       "2 382            9         994                 NA  \n",
       "3 382            3         382          -4.605170  \n",
       "4 382            3         382          -4.605170  \n",
       "5 968           13        1744          -3.912023  \n",
       "6 968           13        1744          -4.605170  "
      ]
     },
     "metadata": {},
     "output_type": "display_data"
    }
   ],
   "source": [
    "head(conndata2)"
   ]
  },
  {
   "cell_type": "markdown",
   "metadata": {},
   "source": [
    "#### Method 1: Deleting data with missing values"
   ]
  },
  {
   "cell_type": "code",
   "execution_count": 12,
   "metadata": {},
   "outputs": [
    {
     "data": {
      "text/html": [
       "<table>\n",
       "<caption>A data.frame: 6 × 17</caption>\n",
       "<thead>\n",
       "\t<tr><th></th><th scope=col>ts</th><th scope=col>orig_ip</th><th scope=col>orig_port</th><th scope=col>resp_ip</th><th scope=col>resp_port</th><th scope=col>proto</th><th scope=col>duration</th><th scope=col>orig_bytes</th><th scope=col>resp_bytes</th><th scope=col>conn_state</th><th scope=col>missed_bytes</th><th scope=col>history</th><th scope=col>orig_pkts</th><th scope=col>orig_ip_bytes</th><th scope=col>resp_pkts</th><th scope=col>resp_ip_bytes</th><th scope=col>logduration</th></tr>\n",
       "\t<tr><th></th><th scope=col>&lt;dbl&gt;</th><th scope=col>&lt;chr&gt;</th><th scope=col>&lt;int&gt;</th><th scope=col>&lt;chr&gt;</th><th scope=col>&lt;int&gt;</th><th scope=col>&lt;chr&gt;</th><th scope=col>&lt;dbl&gt;</th><th scope=col>&lt;int&gt;</th><th scope=col>&lt;int&gt;</th><th scope=col>&lt;chr&gt;</th><th scope=col>&lt;int&gt;</th><th scope=col>&lt;chr&gt;</th><th scope=col>&lt;int&gt;</th><th scope=col>&lt;int&gt;</th><th scope=col>&lt;int&gt;</th><th scope=col>&lt;int&gt;</th><th scope=col>&lt;dbl&gt;</th></tr>\n",
       "</thead>\n",
       "<tbody>\n",
       "\t<tr><th scope=row>3</th><td>1331901000</td><td>192.168.202.79</td><td>50465</td><td>192.168.229.251</td><td> 80</td><td>tcp</td><td>0.01</td><td>166</td><td> 214</td><td>SF</td><td>0</td><td>ShADfFa  </td><td>4</td><td>382</td><td> 3</td><td> 382</td><td>-4.605170</td></tr>\n",
       "\t<tr><th scope=row>4</th><td>1331901000</td><td>192.168.202.79</td><td>50467</td><td>192.168.229.251</td><td> 80</td><td>tcp</td><td>0.01</td><td>166</td><td> 214</td><td>SF</td><td>0</td><td>ShADfFa  </td><td>4</td><td>382</td><td> 3</td><td> 382</td><td>-4.605170</td></tr>\n",
       "\t<tr><th scope=row>5</th><td>1331901000</td><td>192.168.202.79</td><td>46119</td><td>192.168.229.254</td><td>443</td><td>tcp</td><td>0.02</td><td>544</td><td>1060</td><td>SF</td><td>0</td><td>ShADadfFr</td><td>8</td><td>968</td><td>13</td><td>1744</td><td>-3.912023</td></tr>\n",
       "\t<tr><th scope=row>6</th><td>1331901000</td><td>192.168.202.79</td><td>46121</td><td>192.168.229.254</td><td>443</td><td>tcp</td><td>0.01</td><td>544</td><td>1060</td><td>SF</td><td>0</td><td>ShADadfFr</td><td>8</td><td>968</td><td>13</td><td>1744</td><td>-4.605170</td></tr>\n",
       "\t<tr><th scope=row>7</th><td>1331901000</td><td>192.168.202.79</td><td>46123</td><td>192.168.229.254</td><td>443</td><td>tcp</td><td>0.01</td><td>548</td><td>1060</td><td>SF</td><td>0</td><td>ShADadfFr</td><td>8</td><td>972</td><td>13</td><td>1744</td><td>-4.605170</td></tr>\n",
       "\t<tr><th scope=row>8</th><td>1331901000</td><td>192.168.202.79</td><td>50469</td><td>192.168.229.251</td><td> 80</td><td>tcp</td><td>0.02</td><td>166</td><td> 214</td><td>SF</td><td>0</td><td>ShADfFa  </td><td>4</td><td>382</td><td> 3</td><td> 382</td><td>-3.912023</td></tr>\n",
       "</tbody>\n",
       "</table>\n"
      ],
      "text/latex": [
       "A data.frame: 6 × 17\n",
       "\\begin{tabular}{r|lllllllllllllllll}\n",
       "  & ts & orig\\_ip & orig\\_port & resp\\_ip & resp\\_port & proto & duration & orig\\_bytes & resp\\_bytes & conn\\_state & missed\\_bytes & history & orig\\_pkts & orig\\_ip\\_bytes & resp\\_pkts & resp\\_ip\\_bytes & logduration\\\\\n",
       "  & <dbl> & <chr> & <int> & <chr> & <int> & <chr> & <dbl> & <int> & <int> & <chr> & <int> & <chr> & <int> & <int> & <int> & <int> & <dbl>\\\\\n",
       "\\hline\n",
       "\t3 & 1331901000 & 192.168.202.79 & 50465 & 192.168.229.251 &  80 & tcp & 0.01 & 166 &  214 & SF & 0 & ShADfFa   & 4 & 382 &  3 &  382 & -4.605170\\\\\n",
       "\t4 & 1331901000 & 192.168.202.79 & 50467 & 192.168.229.251 &  80 & tcp & 0.01 & 166 &  214 & SF & 0 & ShADfFa   & 4 & 382 &  3 &  382 & -4.605170\\\\\n",
       "\t5 & 1331901000 & 192.168.202.79 & 46119 & 192.168.229.254 & 443 & tcp & 0.02 & 544 & 1060 & SF & 0 & ShADadfFr & 8 & 968 & 13 & 1744 & -3.912023\\\\\n",
       "\t6 & 1331901000 & 192.168.202.79 & 46121 & 192.168.229.254 & 443 & tcp & 0.01 & 544 & 1060 & SF & 0 & ShADadfFr & 8 & 968 & 13 & 1744 & -4.605170\\\\\n",
       "\t7 & 1331901000 & 192.168.202.79 & 46123 & 192.168.229.254 & 443 & tcp & 0.01 & 548 & 1060 & SF & 0 & ShADadfFr & 8 & 972 & 13 & 1744 & -4.605170\\\\\n",
       "\t8 & 1331901000 & 192.168.202.79 & 50469 & 192.168.229.251 &  80 & tcp & 0.02 & 166 &  214 & SF & 0 & ShADfFa   & 4 & 382 &  3 &  382 & -3.912023\\\\\n",
       "\\end{tabular}\n"
      ],
      "text/markdown": [
       "\n",
       "A data.frame: 6 × 17\n",
       "\n",
       "| <!--/--> | ts &lt;dbl&gt; | orig_ip &lt;chr&gt; | orig_port &lt;int&gt; | resp_ip &lt;chr&gt; | resp_port &lt;int&gt; | proto &lt;chr&gt; | duration &lt;dbl&gt; | orig_bytes &lt;int&gt; | resp_bytes &lt;int&gt; | conn_state &lt;chr&gt; | missed_bytes &lt;int&gt; | history &lt;chr&gt; | orig_pkts &lt;int&gt; | orig_ip_bytes &lt;int&gt; | resp_pkts &lt;int&gt; | resp_ip_bytes &lt;int&gt; | logduration &lt;dbl&gt; |\n",
       "|---|---|---|---|---|---|---|---|---|---|---|---|---|---|---|---|---|---|\n",
       "| 3 | 1331901000 | 192.168.202.79 | 50465 | 192.168.229.251 |  80 | tcp | 0.01 | 166 |  214 | SF | 0 | ShADfFa   | 4 | 382 |  3 |  382 | -4.605170 |\n",
       "| 4 | 1331901000 | 192.168.202.79 | 50467 | 192.168.229.251 |  80 | tcp | 0.01 | 166 |  214 | SF | 0 | ShADfFa   | 4 | 382 |  3 |  382 | -4.605170 |\n",
       "| 5 | 1331901000 | 192.168.202.79 | 46119 | 192.168.229.254 | 443 | tcp | 0.02 | 544 | 1060 | SF | 0 | ShADadfFr | 8 | 968 | 13 | 1744 | -3.912023 |\n",
       "| 6 | 1331901000 | 192.168.202.79 | 46121 | 192.168.229.254 | 443 | tcp | 0.01 | 544 | 1060 | SF | 0 | ShADadfFr | 8 | 968 | 13 | 1744 | -4.605170 |\n",
       "| 7 | 1331901000 | 192.168.202.79 | 46123 | 192.168.229.254 | 443 | tcp | 0.01 | 548 | 1060 | SF | 0 | ShADadfFr | 8 | 972 | 13 | 1744 | -4.605170 |\n",
       "| 8 | 1331901000 | 192.168.202.79 | 50469 | 192.168.229.251 |  80 | tcp | 0.02 | 166 |  214 | SF | 0 | ShADfFa   | 4 | 382 |  3 |  382 | -3.912023 |\n",
       "\n"
      ],
      "text/plain": [
       "  ts         orig_ip        orig_port resp_ip         resp_port proto duration\n",
       "3 1331901000 192.168.202.79 50465     192.168.229.251  80       tcp   0.01    \n",
       "4 1331901000 192.168.202.79 50467     192.168.229.251  80       tcp   0.01    \n",
       "5 1331901000 192.168.202.79 46119     192.168.229.254 443       tcp   0.02    \n",
       "6 1331901000 192.168.202.79 46121     192.168.229.254 443       tcp   0.01    \n",
       "7 1331901000 192.168.202.79 46123     192.168.229.254 443       tcp   0.01    \n",
       "8 1331901000 192.168.202.79 50469     192.168.229.251  80       tcp   0.02    \n",
       "  orig_bytes resp_bytes conn_state missed_bytes history   orig_pkts\n",
       "3 166         214       SF         0            ShADfFa   4        \n",
       "4 166         214       SF         0            ShADfFa   4        \n",
       "5 544        1060       SF         0            ShADadfFr 8        \n",
       "6 544        1060       SF         0            ShADadfFr 8        \n",
       "7 548        1060       SF         0            ShADadfFr 8        \n",
       "8 166         214       SF         0            ShADfFa   4        \n",
       "  orig_ip_bytes resp_pkts resp_ip_bytes logduration\n",
       "3 382            3         382          -4.605170  \n",
       "4 382            3         382          -4.605170  \n",
       "5 968           13        1744          -3.912023  \n",
       "6 968           13        1744          -4.605170  \n",
       "7 972           13        1744          -4.605170  \n",
       "8 382            3         382          -3.912023  "
      ]
     },
     "metadata": {},
     "output_type": "display_data"
    }
   ],
   "source": [
    "conn_delete<-conndata2[complete.cases(conndata2),] \n",
    "head(conn_delete)"
   ]
  },
  {
   "cell_type": "code",
   "execution_count": 12,
   "metadata": {},
   "outputs": [
    {
     "data": {
      "text/plain": [
       "\n",
       "Call:\n",
       "lm(formula = logduration ~ proto + ts + orig_port + resp_port + \n",
       "    conn_state + orig_pkts + orig_ip_bytes + resp_pkts + resp_ip_bytes, \n",
       "    data = conn_delete)\n",
       "\n",
       "Residuals:\n",
       "     Min       1Q   Median       3Q      Max \n",
       "-24.4867  -0.8238  -0.0163   0.5359   7.9837 \n",
       "\n",
       "Coefficients: (1 not defined because of singularities)\n",
       "                 Estimate Std. Error t value Pr(>|t|)    \n",
       "(Intercept)     3.011e+00  1.304e-01  23.093  < 2e-16 ***\n",
       "prototcp       -1.087e+01  4.262e-01 -25.499  < 2e-16 ***\n",
       "protoudp       -1.129e+01  4.288e-01 -26.325  < 2e-16 ***\n",
       "ts                     NA         NA      NA       NA    \n",
       "orig_port      -7.761e-08  8.016e-07  -0.097    0.923    \n",
       "resp_port      -7.186e-07  9.957e-08  -7.217 5.35e-13 ***\n",
       "conn_stateREJ   4.738e+00  4.021e-01  11.782  < 2e-16 ***\n",
       "conn_stateRSTO  4.162e+00  4.104e-01  10.141  < 2e-16 ***\n",
       "conn_stateRSTR  9.623e+00  4.020e-01  23.938  < 2e-16 ***\n",
       "conn_stateS0    8.971e+00  4.022e-01  22.306  < 2e-16 ***\n",
       "conn_stateS1   -8.143e+00  7.867e-01 -10.351  < 2e-16 ***\n",
       "conn_stateSF    5.979e+00  4.030e-01  14.837  < 2e-16 ***\n",
       "conn_stateSH    8.890e+00  5.036e-01  17.653  < 2e-16 ***\n",
       "orig_pkts      -1.180e-01  4.512e-03 -26.143  < 2e-16 ***\n",
       "orig_ip_bytes   2.622e-03  4.989e-05  52.567  < 2e-16 ***\n",
       "resp_pkts      -7.853e-01  9.510e-03 -82.579  < 2e-16 ***\n",
       "resp_ip_bytes   4.384e-03  5.785e-05  75.791  < 2e-16 ***\n",
       "---\n",
       "Signif. codes:  0 '***' 0.001 '**' 0.01 '*' 0.05 '.' 0.1 ' ' 1\n",
       "\n",
       "Residual standard error: 0.6781 on 144781 degrees of freedom\n",
       "Multiple R-squared:  0.4907,\tAdjusted R-squared:  0.4906 \n",
       "F-statistic:  9298 on 15 and 144781 DF,  p-value: < 2.2e-16\n"
      ]
     },
     "metadata": {},
     "output_type": "display_data"
    }
   ],
   "source": [
    "lm_delete=lm(logduration~proto+ts+orig_port+resp_port+conn_state+orig_pkts+orig_ip_bytes +resp_pkts+resp_ip_bytes,data=conn_delete)\n",
    "summary(lm_delete) "
   ]
  },
  {
   "cell_type": "code",
   "execution_count": 21,
   "metadata": {},
   "outputs": [
    {
     "data": {
      "text/html": [
       "144797"
      ],
      "text/latex": [
       "144797"
      ],
      "text/markdown": [
       "144797"
      ],
      "text/plain": [
       "[1] 144797"
      ]
     },
     "metadata": {},
     "output_type": "display_data"
    }
   ],
   "source": [
    "#head(conn_delete)\n",
    "nrow(conn_delete)"
   ]
  },
  {
   "cell_type": "markdown",
   "metadata": {},
   "source": [
    "Since most of the data have missing values, this method is too simple and crude, and is not suitable for use in practice\n",
    "\n",
    "#### Method 2: Mean imputation"
   ]
  },
  {
   "cell_type": "code",
   "execution_count": 13,
   "metadata": {},
   "outputs": [],
   "source": [
    "conn_mean<-conndata2\n",
    "conn_mean[is.na(conn_mean[,\"duration\"]),\n",
    "              \"duration\"]=\n",
    "    mean(na.omit(conn_mean[,\"duration\"]))\n",
    "conn_mean[is.na(conn_mean[,\"orig_bytes\"]),\n",
    "              \"orig_bytes\"]=\n",
    "    mean(na.omit(conn_mean[,\"orig_bytes\"]))\n",
    "conn_mean[is.na(conn_mean[,\"resp_bytes\"]),\n",
    "              \"resp_bytes\"]=\n",
    "    mean(na.omit(conn_mean[,\"resp_bytes\"]))"
   ]
  },
  {
   "cell_type": "code",
   "execution_count": 8,
   "metadata": {},
   "outputs": [
    {
     "data": {
      "text/plain": [
       "\n",
       "Call:\n",
       "lm(formula = duration ~ proto + ts + orig_port + resp_port + \n",
       "    conn_state + orig_pkts + orig_ip_bytes + resp_pkts + resp_ip_bytes, \n",
       "    data = conn_mean)\n",
       "\n",
       "Residuals:\n",
       "     Min       1Q   Median       3Q      Max \n",
       "-164.232   -0.080   -0.044   -0.007  219.791 \n",
       "\n",
       "Coefficients: (1 not defined because of singularities)\n",
       "                 Estimate Std. Error  t value Pr(>|t|)    \n",
       "(Intercept)     1.286e+01  2.843e-01   45.238  < 2e-16 ***\n",
       "prototcp       -6.718e+01  1.662e+00  -40.427  < 2e-16 ***\n",
       "protoudp       -7.029e+01  1.664e+00  -42.236  < 2e-16 ***\n",
       "ts                     NA         NA       NA       NA    \n",
       "orig_port      -2.724e-05  1.703e-06  -15.994  < 2e-16 ***\n",
       "resp_port      -2.033e-06  3.223e-07   -6.308 2.84e-10 ***\n",
       "conn_stateREJ   6.201e+01  1.639e+00   37.842  < 2e-16 ***\n",
       "conn_stateRSTO  6.135e+01  1.655e+00   37.071  < 2e-16 ***\n",
       "conn_stateRSTR  8.554e+01  1.636e+00   52.271  < 2e-16 ***\n",
       "conn_stateS0    5.633e+01  1.634e+00   34.482  < 2e-16 ***\n",
       "conn_stateS1   -5.665e+01  3.211e+00  -17.641  < 2e-16 ***\n",
       "conn_stateSF    6.625e+01  1.641e+00   40.385  < 2e-16 ***\n",
       "conn_stateSH    5.435e+01  1.699e+00   31.995  < 2e-16 ***\n",
       "conn_stateSHR   5.161e+01  1.705e+00   30.262  < 2e-16 ***\n",
       "orig_pkts      -9.038e-01  1.672e-02  -54.066  < 2e-16 ***\n",
       "orig_ip_bytes   2.557e-02  1.866e-04  136.991  < 2e-16 ***\n",
       "resp_pkts      -7.593e+00  3.653e-02 -207.874  < 2e-16 ***\n",
       "resp_ip_bytes   3.935e-02  2.240e-04  175.641  < 2e-16 ***\n",
       "---\n",
       "Signif. codes:  0 '***' 0.001 '**' 0.01 '*' 0.05 '.' 0.1 ' ' 1\n",
       "\n",
       "Residual standard error: 2.77 on 226926 degrees of freedom\n",
       "Multiple R-squared:  0.4515,\tAdjusted R-squared:  0.4514 \n",
       "F-statistic: 1.167e+04 on 16 and 226926 DF,  p-value: < 2.2e-16\n"
      ]
     },
     "metadata": {},
     "output_type": "display_data"
    }
   ],
   "source": [
    "lm_mean=lm(duration~proto+ts+orig_port+resp_port+conn_state+orig_pkts+orig_ip_bytes +resp_pkts+resp_ip_bytes,data=conn_mean)\n",
    "summary(lm_mean)"
   ]
  },
  {
   "cell_type": "code",
   "execution_count": 13,
   "metadata": {},
   "outputs": [
    {
     "ename": "ERROR",
     "evalue": "Error in head(conn_mean): object 'conn_mean' not found\n",
     "output_type": "error",
     "traceback": [
      "Error in head(conn_mean): object 'conn_mean' not found\nTraceback:\n",
      "1. head(conn_mean)"
     ]
    }
   ],
   "source": [
    "head(conn_mean)"
   ]
  },
  {
   "cell_type": "markdown",
   "metadata": {},
   "source": [
    "R-squared decreases, indicating that the effect of the mean imputation is not good.\n",
    "\n",
    "#### Method 3: MissForest imputation\n",
    "The function 'missForest' is used to impute missing values particularly in the case of mixed-type data. It uses a random forest trained on the observed values of a data matrix to predict the missing values. It can be used to impute continuous and/or categorical data including complex interactions and non-linear relations. It yields an out-of-bag (OOB) imputation error estimate without the need of a test set or elaborate cross-validation.\n",
    "\n",
    "We first make an initial guess for the missing value, for instance, replace it with the mean/median replacement, and then sort the variable from small to large according to the missing rate of the variable, first use random forest regression for the variable with the small missing rate to replace the missing value of the variable , And then iterate until the latest replacement result and the last replacement result no longer change (the change is small)."
   ]
  },
  {
   "cell_type": "code",
   "execution_count": 2,
   "metadata": {},
   "outputs": [
    {
     "data": {
      "text/html": [
       "<table>\n",
       "<caption>A data.frame: 20 × 17</caption>\n",
       "<thead>\n",
       "\t<tr><th></th><th scope=col>ts</th><th scope=col>orig_ip</th><th scope=col>orig_port</th><th scope=col>resp_ip</th><th scope=col>resp_port</th><th scope=col>proto</th><th scope=col>service</th><th scope=col>duration</th><th scope=col>orig_bytes</th><th scope=col>resp_bytes</th><th scope=col>conn_state</th><th scope=col>missed_bytes</th><th scope=col>history</th><th scope=col>orig_pkts</th><th scope=col>orig_ip_bytes</th><th scope=col>resp_pkts</th><th scope=col>resp_ip_bytes</th></tr>\n",
       "\t<tr><th></th><th scope=col>&lt;dbl&gt;</th><th scope=col>&lt;chr&gt;</th><th scope=col>&lt;int&gt;</th><th scope=col>&lt;chr&gt;</th><th scope=col>&lt;int&gt;</th><th scope=col>&lt;chr&gt;</th><th scope=col>&lt;chr&gt;</th><th scope=col>&lt;dbl&gt;</th><th scope=col>&lt;int&gt;</th><th scope=col>&lt;int&gt;</th><th scope=col>&lt;chr&gt;</th><th scope=col>&lt;int&gt;</th><th scope=col>&lt;chr&gt;</th><th scope=col>&lt;int&gt;</th><th scope=col>&lt;int&gt;</th><th scope=col>&lt;int&gt;</th><th scope=col>&lt;int&gt;</th></tr>\n",
       "</thead>\n",
       "<tbody>\n",
       "\t<tr><th scope=row>1</th><td>1331901000</td><td>192.168.202.79</td><td>50463</td><td>192.168.229.251</td><td> 80</td><td>tcp</td><td>    </td><td>  NA</td><td> NA</td><td>  NA</td><td>SH</td><td>0</td><td>Fa       </td><td>1</td><td> 52</td><td> 1</td><td>  52</td></tr>\n",
       "\t<tr><th scope=row>2</th><td>1331901000</td><td>192.168.202.79</td><td>46117</td><td>192.168.229.254</td><td>443</td><td>tcp</td><td>    </td><td>  NA</td><td> NA</td><td>  NA</td><td>SF</td><td>0</td><td>dDafFr   </td><td>3</td><td>382</td><td> 9</td><td> 994</td></tr>\n",
       "\t<tr><th scope=row>3</th><td>1331901000</td><td>192.168.202.79</td><td>50465</td><td>192.168.229.251</td><td> 80</td><td>tcp</td><td>http</td><td>0.01</td><td>166</td><td> 214</td><td>SF</td><td>0</td><td>ShADfFa  </td><td>4</td><td>382</td><td> 3</td><td> 382</td></tr>\n",
       "\t<tr><th scope=row>4</th><td>1331901000</td><td>192.168.202.79</td><td>50467</td><td>192.168.229.251</td><td> 80</td><td>tcp</td><td>http</td><td>0.01</td><td>166</td><td> 214</td><td>SF</td><td>0</td><td>ShADfFa  </td><td>4</td><td>382</td><td> 3</td><td> 382</td></tr>\n",
       "\t<tr><th scope=row>5</th><td>1331901000</td><td>192.168.202.79</td><td>46119</td><td>192.168.229.254</td><td>443</td><td>tcp</td><td>ssl </td><td>0.02</td><td>544</td><td>1060</td><td>SF</td><td>0</td><td>ShADadfFr</td><td>8</td><td>968</td><td>13</td><td>1744</td></tr>\n",
       "\t<tr><th scope=row>6</th><td>1331901000</td><td>192.168.202.79</td><td>46121</td><td>192.168.229.254</td><td>443</td><td>tcp</td><td>ssl </td><td>0.01</td><td>544</td><td>1060</td><td>SF</td><td>0</td><td>ShADadfFr</td><td>8</td><td>968</td><td>13</td><td>1744</td></tr>\n",
       "\t<tr><th scope=row>7</th><td>1331901000</td><td>192.168.202.79</td><td>46123</td><td>192.168.229.254</td><td>443</td><td>tcp</td><td>ssl </td><td>0.01</td><td>548</td><td>1060</td><td>SF</td><td>0</td><td>ShADadfFr</td><td>8</td><td>972</td><td>13</td><td>1744</td></tr>\n",
       "\t<tr><th scope=row>8</th><td>1331901000</td><td>192.168.202.79</td><td>50469</td><td>192.168.229.251</td><td> 80</td><td>tcp</td><td>http</td><td>0.02</td><td>166</td><td> 214</td><td>SF</td><td>0</td><td>ShADfFa  </td><td>4</td><td>382</td><td> 3</td><td> 382</td></tr>\n",
       "\t<tr><th scope=row>9</th><td>1331901000</td><td>192.168.202.79</td><td>50471</td><td>192.168.229.251</td><td> 80</td><td>tcp</td><td>http</td><td>0.01</td><td>166</td><td> 214</td><td>SF</td><td>0</td><td>ShADfFa  </td><td>4</td><td>382</td><td> 3</td><td> 382</td></tr>\n",
       "\t<tr><th scope=row>10</th><td>1331901000</td><td>192.168.202.79</td><td>50473</td><td>192.168.229.251</td><td> 80</td><td>tcp</td><td>http</td><td>0.01</td><td>164</td><td> 214</td><td>SF</td><td>0</td><td>ShADfFa  </td><td>4</td><td>380</td><td> 3</td><td> 382</td></tr>\n",
       "\t<tr><th scope=row>11</th><td>1331901000</td><td>192.168.202.79</td><td>46125</td><td>192.168.229.254</td><td>443</td><td>tcp</td><td>ssl </td><td>0.02</td><td>548</td><td>1060</td><td>SF</td><td>0</td><td>ShADadfrF</td><td>8</td><td>972</td><td>13</td><td>1744</td></tr>\n",
       "\t<tr><th scope=row>12</th><td>1331901000</td><td>192.168.202.79</td><td>46127</td><td>192.168.229.254</td><td>443</td><td>tcp</td><td>ssl </td><td>0.01</td><td>544</td><td>1060</td><td>SF</td><td>0</td><td>ShADadfFr</td><td>8</td><td>968</td><td>13</td><td>1744</td></tr>\n",
       "\t<tr><th scope=row>13</th><td>1331901000</td><td>192.168.202.79</td><td>50475</td><td>192.168.229.251</td><td> 80</td><td>tcp</td><td>http</td><td>0.02</td><td>164</td><td> 214</td><td>SF</td><td>0</td><td>ShADfFa  </td><td>4</td><td>380</td><td> 3</td><td> 382</td></tr>\n",
       "\t<tr><th scope=row>14</th><td>1331901000</td><td>192.168.202.79</td><td>46129</td><td>192.168.229.254</td><td>443</td><td>tcp</td><td>ssl </td><td>0.01</td><td>548</td><td>1060</td><td>SF</td><td>0</td><td>ShADadfFr</td><td>8</td><td>972</td><td>13</td><td>1744</td></tr>\n",
       "\t<tr><th scope=row>15</th><td>1331901000</td><td>192.168.202.79</td><td>50477</td><td>192.168.229.251</td><td> 80</td><td>tcp</td><td>http</td><td>0.01</td><td>164</td><td> 214</td><td>SF</td><td>0</td><td>ShADfFa  </td><td>4</td><td>380</td><td> 3</td><td> 382</td></tr>\n",
       "\t<tr><th scope=row>16</th><td>1331901000</td><td>192.168.202.79</td><td>50479</td><td>192.168.229.251</td><td> 80</td><td>tcp</td><td>http</td><td>0.01</td><td>166</td><td> 214</td><td>SF</td><td>0</td><td>ShADfFa  </td><td>4</td><td>382</td><td> 3</td><td> 382</td></tr>\n",
       "\t<tr><th scope=row>17</th><td>1331901000</td><td>192.168.202.79</td><td>46131</td><td>192.168.229.254</td><td>443</td><td>tcp</td><td>ssl </td><td>0.01</td><td>548</td><td>1060</td><td>SF</td><td>0</td><td>ShADadfFr</td><td>8</td><td>972</td><td>13</td><td>1744</td></tr>\n",
       "\t<tr><th scope=row>18</th><td>1331901000</td><td>192.168.202.79</td><td>46133</td><td>192.168.229.254</td><td>443</td><td>tcp</td><td>ssl </td><td>0.01</td><td>548</td><td>1060</td><td>SF</td><td>0</td><td>ShADadfFr</td><td>8</td><td>972</td><td>13</td><td>1744</td></tr>\n",
       "\t<tr><th scope=row>19</th><td>1331901000</td><td>192.168.202.79</td><td>50481</td><td>192.168.229.251</td><td> 80</td><td>tcp</td><td>http</td><td>0.02</td><td>166</td><td> 214</td><td>SF</td><td>0</td><td>ShADfFa  </td><td>4</td><td>382</td><td> 3</td><td> 382</td></tr>\n",
       "\t<tr><th scope=row>20</th><td>1331901000</td><td>192.168.202.79</td><td>46135</td><td>192.168.229.254</td><td>443</td><td>tcp</td><td>ssl </td><td>0.01</td><td>544</td><td>1060</td><td>SF</td><td>0</td><td>ShADadfFr</td><td>8</td><td>968</td><td>13</td><td>1744</td></tr>\n",
       "</tbody>\n",
       "</table>\n"
      ],
      "text/latex": [
       "A data.frame: 20 × 17\n",
       "\\begin{tabular}{r|lllllllllllllllll}\n",
       "  & ts & orig\\_ip & orig\\_port & resp\\_ip & resp\\_port & proto & service & duration & orig\\_bytes & resp\\_bytes & conn\\_state & missed\\_bytes & history & orig\\_pkts & orig\\_ip\\_bytes & resp\\_pkts & resp\\_ip\\_bytes\\\\\n",
       "  & <dbl> & <chr> & <int> & <chr> & <int> & <chr> & <chr> & <dbl> & <int> & <int> & <chr> & <int> & <chr> & <int> & <int> & <int> & <int>\\\\\n",
       "\\hline\n",
       "\t1 & 1331901000 & 192.168.202.79 & 50463 & 192.168.229.251 &  80 & tcp &      &   NA &  NA &   NA & SH & 0 & Fa        & 1 &  52 &  1 &   52\\\\\n",
       "\t2 & 1331901000 & 192.168.202.79 & 46117 & 192.168.229.254 & 443 & tcp &      &   NA &  NA &   NA & SF & 0 & dDafFr    & 3 & 382 &  9 &  994\\\\\n",
       "\t3 & 1331901000 & 192.168.202.79 & 50465 & 192.168.229.251 &  80 & tcp & http & 0.01 & 166 &  214 & SF & 0 & ShADfFa   & 4 & 382 &  3 &  382\\\\\n",
       "\t4 & 1331901000 & 192.168.202.79 & 50467 & 192.168.229.251 &  80 & tcp & http & 0.01 & 166 &  214 & SF & 0 & ShADfFa   & 4 & 382 &  3 &  382\\\\\n",
       "\t5 & 1331901000 & 192.168.202.79 & 46119 & 192.168.229.254 & 443 & tcp & ssl  & 0.02 & 544 & 1060 & SF & 0 & ShADadfFr & 8 & 968 & 13 & 1744\\\\\n",
       "\t6 & 1331901000 & 192.168.202.79 & 46121 & 192.168.229.254 & 443 & tcp & ssl  & 0.01 & 544 & 1060 & SF & 0 & ShADadfFr & 8 & 968 & 13 & 1744\\\\\n",
       "\t7 & 1331901000 & 192.168.202.79 & 46123 & 192.168.229.254 & 443 & tcp & ssl  & 0.01 & 548 & 1060 & SF & 0 & ShADadfFr & 8 & 972 & 13 & 1744\\\\\n",
       "\t8 & 1331901000 & 192.168.202.79 & 50469 & 192.168.229.251 &  80 & tcp & http & 0.02 & 166 &  214 & SF & 0 & ShADfFa   & 4 & 382 &  3 &  382\\\\\n",
       "\t9 & 1331901000 & 192.168.202.79 & 50471 & 192.168.229.251 &  80 & tcp & http & 0.01 & 166 &  214 & SF & 0 & ShADfFa   & 4 & 382 &  3 &  382\\\\\n",
       "\t10 & 1331901000 & 192.168.202.79 & 50473 & 192.168.229.251 &  80 & tcp & http & 0.01 & 164 &  214 & SF & 0 & ShADfFa   & 4 & 380 &  3 &  382\\\\\n",
       "\t11 & 1331901000 & 192.168.202.79 & 46125 & 192.168.229.254 & 443 & tcp & ssl  & 0.02 & 548 & 1060 & SF & 0 & ShADadfrF & 8 & 972 & 13 & 1744\\\\\n",
       "\t12 & 1331901000 & 192.168.202.79 & 46127 & 192.168.229.254 & 443 & tcp & ssl  & 0.01 & 544 & 1060 & SF & 0 & ShADadfFr & 8 & 968 & 13 & 1744\\\\\n",
       "\t13 & 1331901000 & 192.168.202.79 & 50475 & 192.168.229.251 &  80 & tcp & http & 0.02 & 164 &  214 & SF & 0 & ShADfFa   & 4 & 380 &  3 &  382\\\\\n",
       "\t14 & 1331901000 & 192.168.202.79 & 46129 & 192.168.229.254 & 443 & tcp & ssl  & 0.01 & 548 & 1060 & SF & 0 & ShADadfFr & 8 & 972 & 13 & 1744\\\\\n",
       "\t15 & 1331901000 & 192.168.202.79 & 50477 & 192.168.229.251 &  80 & tcp & http & 0.01 & 164 &  214 & SF & 0 & ShADfFa   & 4 & 380 &  3 &  382\\\\\n",
       "\t16 & 1331901000 & 192.168.202.79 & 50479 & 192.168.229.251 &  80 & tcp & http & 0.01 & 166 &  214 & SF & 0 & ShADfFa   & 4 & 382 &  3 &  382\\\\\n",
       "\t17 & 1331901000 & 192.168.202.79 & 46131 & 192.168.229.254 & 443 & tcp & ssl  & 0.01 & 548 & 1060 & SF & 0 & ShADadfFr & 8 & 972 & 13 & 1744\\\\\n",
       "\t18 & 1331901000 & 192.168.202.79 & 46133 & 192.168.229.254 & 443 & tcp & ssl  & 0.01 & 548 & 1060 & SF & 0 & ShADadfFr & 8 & 972 & 13 & 1744\\\\\n",
       "\t19 & 1331901000 & 192.168.202.79 & 50481 & 192.168.229.251 &  80 & tcp & http & 0.02 & 166 &  214 & SF & 0 & ShADfFa   & 4 & 382 &  3 &  382\\\\\n",
       "\t20 & 1331901000 & 192.168.202.79 & 46135 & 192.168.229.254 & 443 & tcp & ssl  & 0.01 & 544 & 1060 & SF & 0 & ShADadfFr & 8 & 968 & 13 & 1744\\\\\n",
       "\\end{tabular}\n"
      ],
      "text/markdown": [
       "\n",
       "A data.frame: 20 × 17\n",
       "\n",
       "| <!--/--> | ts &lt;dbl&gt; | orig_ip &lt;chr&gt; | orig_port &lt;int&gt; | resp_ip &lt;chr&gt; | resp_port &lt;int&gt; | proto &lt;chr&gt; | service &lt;chr&gt; | duration &lt;dbl&gt; | orig_bytes &lt;int&gt; | resp_bytes &lt;int&gt; | conn_state &lt;chr&gt; | missed_bytes &lt;int&gt; | history &lt;chr&gt; | orig_pkts &lt;int&gt; | orig_ip_bytes &lt;int&gt; | resp_pkts &lt;int&gt; | resp_ip_bytes &lt;int&gt; |\n",
       "|---|---|---|---|---|---|---|---|---|---|---|---|---|---|---|---|---|---|\n",
       "| 1 | 1331901000 | 192.168.202.79 | 50463 | 192.168.229.251 |  80 | tcp | <!----> |   NA |  NA |   NA | SH | 0 | Fa        | 1 |  52 |  1 |   52 |\n",
       "| 2 | 1331901000 | 192.168.202.79 | 46117 | 192.168.229.254 | 443 | tcp | <!----> |   NA |  NA |   NA | SF | 0 | dDafFr    | 3 | 382 |  9 |  994 |\n",
       "| 3 | 1331901000 | 192.168.202.79 | 50465 | 192.168.229.251 |  80 | tcp | http | 0.01 | 166 |  214 | SF | 0 | ShADfFa   | 4 | 382 |  3 |  382 |\n",
       "| 4 | 1331901000 | 192.168.202.79 | 50467 | 192.168.229.251 |  80 | tcp | http | 0.01 | 166 |  214 | SF | 0 | ShADfFa   | 4 | 382 |  3 |  382 |\n",
       "| 5 | 1331901000 | 192.168.202.79 | 46119 | 192.168.229.254 | 443 | tcp | ssl  | 0.02 | 544 | 1060 | SF | 0 | ShADadfFr | 8 | 968 | 13 | 1744 |\n",
       "| 6 | 1331901000 | 192.168.202.79 | 46121 | 192.168.229.254 | 443 | tcp | ssl  | 0.01 | 544 | 1060 | SF | 0 | ShADadfFr | 8 | 968 | 13 | 1744 |\n",
       "| 7 | 1331901000 | 192.168.202.79 | 46123 | 192.168.229.254 | 443 | tcp | ssl  | 0.01 | 548 | 1060 | SF | 0 | ShADadfFr | 8 | 972 | 13 | 1744 |\n",
       "| 8 | 1331901000 | 192.168.202.79 | 50469 | 192.168.229.251 |  80 | tcp | http | 0.02 | 166 |  214 | SF | 0 | ShADfFa   | 4 | 382 |  3 |  382 |\n",
       "| 9 | 1331901000 | 192.168.202.79 | 50471 | 192.168.229.251 |  80 | tcp | http | 0.01 | 166 |  214 | SF | 0 | ShADfFa   | 4 | 382 |  3 |  382 |\n",
       "| 10 | 1331901000 | 192.168.202.79 | 50473 | 192.168.229.251 |  80 | tcp | http | 0.01 | 164 |  214 | SF | 0 | ShADfFa   | 4 | 380 |  3 |  382 |\n",
       "| 11 | 1331901000 | 192.168.202.79 | 46125 | 192.168.229.254 | 443 | tcp | ssl  | 0.02 | 548 | 1060 | SF | 0 | ShADadfrF | 8 | 972 | 13 | 1744 |\n",
       "| 12 | 1331901000 | 192.168.202.79 | 46127 | 192.168.229.254 | 443 | tcp | ssl  | 0.01 | 544 | 1060 | SF | 0 | ShADadfFr | 8 | 968 | 13 | 1744 |\n",
       "| 13 | 1331901000 | 192.168.202.79 | 50475 | 192.168.229.251 |  80 | tcp | http | 0.02 | 164 |  214 | SF | 0 | ShADfFa   | 4 | 380 |  3 |  382 |\n",
       "| 14 | 1331901000 | 192.168.202.79 | 46129 | 192.168.229.254 | 443 | tcp | ssl  | 0.01 | 548 | 1060 | SF | 0 | ShADadfFr | 8 | 972 | 13 | 1744 |\n",
       "| 15 | 1331901000 | 192.168.202.79 | 50477 | 192.168.229.251 |  80 | tcp | http | 0.01 | 164 |  214 | SF | 0 | ShADfFa   | 4 | 380 |  3 |  382 |\n",
       "| 16 | 1331901000 | 192.168.202.79 | 50479 | 192.168.229.251 |  80 | tcp | http | 0.01 | 166 |  214 | SF | 0 | ShADfFa   | 4 | 382 |  3 |  382 |\n",
       "| 17 | 1331901000 | 192.168.202.79 | 46131 | 192.168.229.254 | 443 | tcp | ssl  | 0.01 | 548 | 1060 | SF | 0 | ShADadfFr | 8 | 972 | 13 | 1744 |\n",
       "| 18 | 1331901000 | 192.168.202.79 | 46133 | 192.168.229.254 | 443 | tcp | ssl  | 0.01 | 548 | 1060 | SF | 0 | ShADadfFr | 8 | 972 | 13 | 1744 |\n",
       "| 19 | 1331901000 | 192.168.202.79 | 50481 | 192.168.229.251 |  80 | tcp | http | 0.02 | 166 |  214 | SF | 0 | ShADfFa   | 4 | 382 |  3 |  382 |\n",
       "| 20 | 1331901000 | 192.168.202.79 | 46135 | 192.168.229.254 | 443 | tcp | ssl  | 0.01 | 544 | 1060 | SF | 0 | ShADadfFr | 8 | 968 | 13 | 1744 |\n",
       "\n"
      ],
      "text/plain": [
       "   ts         orig_ip        orig_port resp_ip         resp_port proto service\n",
       "1  1331901000 192.168.202.79 50463     192.168.229.251  80       tcp          \n",
       "2  1331901000 192.168.202.79 46117     192.168.229.254 443       tcp          \n",
       "3  1331901000 192.168.202.79 50465     192.168.229.251  80       tcp   http   \n",
       "4  1331901000 192.168.202.79 50467     192.168.229.251  80       tcp   http   \n",
       "5  1331901000 192.168.202.79 46119     192.168.229.254 443       tcp   ssl    \n",
       "6  1331901000 192.168.202.79 46121     192.168.229.254 443       tcp   ssl    \n",
       "7  1331901000 192.168.202.79 46123     192.168.229.254 443       tcp   ssl    \n",
       "8  1331901000 192.168.202.79 50469     192.168.229.251  80       tcp   http   \n",
       "9  1331901000 192.168.202.79 50471     192.168.229.251  80       tcp   http   \n",
       "10 1331901000 192.168.202.79 50473     192.168.229.251  80       tcp   http   \n",
       "11 1331901000 192.168.202.79 46125     192.168.229.254 443       tcp   ssl    \n",
       "12 1331901000 192.168.202.79 46127     192.168.229.254 443       tcp   ssl    \n",
       "13 1331901000 192.168.202.79 50475     192.168.229.251  80       tcp   http   \n",
       "14 1331901000 192.168.202.79 46129     192.168.229.254 443       tcp   ssl    \n",
       "15 1331901000 192.168.202.79 50477     192.168.229.251  80       tcp   http   \n",
       "16 1331901000 192.168.202.79 50479     192.168.229.251  80       tcp   http   \n",
       "17 1331901000 192.168.202.79 46131     192.168.229.254 443       tcp   ssl    \n",
       "18 1331901000 192.168.202.79 46133     192.168.229.254 443       tcp   ssl    \n",
       "19 1331901000 192.168.202.79 50481     192.168.229.251  80       tcp   http   \n",
       "20 1331901000 192.168.202.79 46135     192.168.229.254 443       tcp   ssl    \n",
       "   duration orig_bytes resp_bytes conn_state missed_bytes history   orig_pkts\n",
       "1    NA      NA          NA       SH         0            Fa        1        \n",
       "2    NA      NA          NA       SF         0            dDafFr    3        \n",
       "3  0.01     166         214       SF         0            ShADfFa   4        \n",
       "4  0.01     166         214       SF         0            ShADfFa   4        \n",
       "5  0.02     544        1060       SF         0            ShADadfFr 8        \n",
       "6  0.01     544        1060       SF         0            ShADadfFr 8        \n",
       "7  0.01     548        1060       SF         0            ShADadfFr 8        \n",
       "8  0.02     166         214       SF         0            ShADfFa   4        \n",
       "9  0.01     166         214       SF         0            ShADfFa   4        \n",
       "10 0.01     164         214       SF         0            ShADfFa   4        \n",
       "11 0.02     548        1060       SF         0            ShADadfrF 8        \n",
       "12 0.01     544        1060       SF         0            ShADadfFr 8        \n",
       "13 0.02     164         214       SF         0            ShADfFa   4        \n",
       "14 0.01     548        1060       SF         0            ShADadfFr 8        \n",
       "15 0.01     164         214       SF         0            ShADfFa   4        \n",
       "16 0.01     166         214       SF         0            ShADfFa   4        \n",
       "17 0.01     548        1060       SF         0            ShADadfFr 8        \n",
       "18 0.01     548        1060       SF         0            ShADadfFr 8        \n",
       "19 0.02     166         214       SF         0            ShADfFa   4        \n",
       "20 0.01     544        1060       SF         0            ShADadfFr 8        \n",
       "   orig_ip_bytes resp_pkts resp_ip_bytes\n",
       "1   52            1          52         \n",
       "2  382            9         994         \n",
       "3  382            3         382         \n",
       "4  382            3         382         \n",
       "5  968           13        1744         \n",
       "6  968           13        1744         \n",
       "7  972           13        1744         \n",
       "8  382            3         382         \n",
       "9  382            3         382         \n",
       "10 380            3         382         \n",
       "11 972           13        1744         \n",
       "12 968           13        1744         \n",
       "13 380            3         382         \n",
       "14 972           13        1744         \n",
       "15 380            3         382         \n",
       "16 382            3         382         \n",
       "17 972           13        1744         \n",
       "18 972           13        1744         \n",
       "19 382            3         382         \n",
       "20 968           13        1744         "
      ]
     },
     "metadata": {},
     "output_type": "display_data"
    }
   ],
   "source": [
    "head(conndata,20)"
   ]
  },
  {
   "cell_type": "code",
   "execution_count": 14,
   "metadata": {},
   "outputs": [
    {
     "name": "stderr",
     "output_type": "stream",
     "text": [
      "Warning message in mean.default(xmis[, t.co], na.rm = TRUE):\n",
      "\"argument is not numeric or logical: returning NA\"\n",
      "Warning message in mean.default(xmis[, t.co], na.rm = TRUE):\n",
      "\"argument is not numeric or logical: returning NA\"\n"
     ]
    },
    {
     "name": "stdout",
     "output_type": "stream",
     "text": [
      "  missForest iteration 1 in progress...done!\n"
     ]
    },
    {
     "ename": "ERROR",
     "evalue": "Error in FUN(left, right): non-numeric argument to binary operator\n",
     "output_type": "error",
     "traceback": [
      "Error in FUN(left, right): non-numeric argument to binary operator\nTraceback:\n",
      "1. missForest(conndata2, verbose = TRUE, maxiter = 10, ntree = 100)",
      "2. Ops.data.frame(ximp[, t.ind], ximp.old[, t.ind])",
      "3. eval(f)",
      "4. eval(f)"
     ]
    }
   ],
   "source": [
    "library(\"missForest\")\n",
    "conndata2<-conndata[,-which(names(conndata) %in% c(\"service\",\"orig_ip\",\"resp_ip\",\"history\"))]\n",
    "set.seed(81)\n",
    "conn_imp <- missForest(conndata2, verbose = TRUE,maxiter = 10, ntree = 100)\n",
    "conn_forest<-conn_imp$ximp"
   ]
  },
  {
   "cell_type": "code",
   "execution_count": 20,
   "metadata": {},
   "outputs": [
    {
     "data": {
      "text/html": [
       "<table>\n",
       "<caption>A data.frame: 6 × 13</caption>\n",
       "<thead>\n",
       "\t<tr><th></th><th scope=col>ts</th><th scope=col>orig_port</th><th scope=col>resp_port</th><th scope=col>proto</th><th scope=col>duration</th><th scope=col>orig_bytes</th><th scope=col>resp_bytes</th><th scope=col>conn_state</th><th scope=col>missed_bytes</th><th scope=col>orig_pkts</th><th scope=col>orig_ip_bytes</th><th scope=col>resp_pkts</th><th scope=col>resp_ip_bytes</th></tr>\n",
       "\t<tr><th></th><th scope=col>&lt;dbl&gt;</th><th scope=col>&lt;dbl&gt;</th><th scope=col>&lt;dbl&gt;</th><th scope=col>&lt;fct&gt;</th><th scope=col>&lt;dbl&gt;</th><th scope=col>&lt;dbl&gt;</th><th scope=col>&lt;dbl&gt;</th><th scope=col>&lt;fct&gt;</th><th scope=col>&lt;dbl&gt;</th><th scope=col>&lt;dbl&gt;</th><th scope=col>&lt;dbl&gt;</th><th scope=col>&lt;dbl&gt;</th><th scope=col>&lt;dbl&gt;</th></tr>\n",
       "</thead>\n",
       "<tbody>\n",
       "\t<tr><th scope=row>1</th><td>1331915797</td><td> 2633</td><td>  80</td><td>tcp</td><td> 0.03000000</td><td>4.810000e+02</td><td> 8.133000e+03</td><td>RSTO</td><td>0</td><td>8</td><td>813</td><td>9</td><td>8505</td></tr>\n",
       "\t<tr><th scope=row>2</th><td>1331923392</td><td>11574</td><td>1724</td><td>tcp</td><td> 0.13652842</td><td>5.329191e-04</td><td>-1.996011e-10</td><td>REJ </td><td>0</td><td>1</td><td> 48</td><td>1</td><td>  40</td></tr>\n",
       "\t<tr><th scope=row>3</th><td>1331905217</td><td>41267</td><td>8010</td><td>tcp</td><td> 0.05152906</td><td>5.290888e-04</td><td>-1.982710e-10</td><td>REJ </td><td>0</td><td>1</td><td> 60</td><td>1</td><td>  40</td></tr>\n",
       "\t<tr><th scope=row>4</th><td>1331994375</td><td>58519</td><td>5214</td><td>tcp</td><td> 0.02442885</td><td>5.329181e-04</td><td>-1.991930e-10</td><td>REJ </td><td>0</td><td>1</td><td> 60</td><td>1</td><td>  40</td></tr>\n",
       "\t<tr><th scope=row>5</th><td>1331999507</td><td>25774</td><td>1625</td><td>tcp</td><td>30.07244441</td><td>1.684881e+07</td><td> 1.962527e+03</td><td>S0  </td><td>0</td><td>1</td><td> 48</td><td>0</td><td>   0</td></tr>\n",
       "\t<tr><th scope=row>6</th><td>1331935766</td><td>60760</td><td>1580</td><td>tcp</td><td> 0.02745513</td><td>5.329181e-04</td><td>-2.006789e-10</td><td>REJ </td><td>0</td><td>1</td><td> 60</td><td>1</td><td>  40</td></tr>\n",
       "</tbody>\n",
       "</table>\n"
      ],
      "text/latex": [
       "A data.frame: 6 × 13\n",
       "\\begin{tabular}{r|lllllllllllll}\n",
       "  & ts & orig\\_port & resp\\_port & proto & duration & orig\\_bytes & resp\\_bytes & conn\\_state & missed\\_bytes & orig\\_pkts & orig\\_ip\\_bytes & resp\\_pkts & resp\\_ip\\_bytes\\\\\n",
       "  & <dbl> & <dbl> & <dbl> & <fct> & <dbl> & <dbl> & <dbl> & <fct> & <dbl> & <dbl> & <dbl> & <dbl> & <dbl>\\\\\n",
       "\\hline\n",
       "\t1 & 1331915797 &  2633 &   80 & tcp &  0.03000000 & 4.810000e+02 &  8.133000e+03 & RSTO & 0 & 8 & 813 & 9 & 8505\\\\\n",
       "\t2 & 1331923392 & 11574 & 1724 & tcp &  0.13652842 & 5.329191e-04 & -1.996011e-10 & REJ  & 0 & 1 &  48 & 1 &   40\\\\\n",
       "\t3 & 1331905217 & 41267 & 8010 & tcp &  0.05152906 & 5.290888e-04 & -1.982710e-10 & REJ  & 0 & 1 &  60 & 1 &   40\\\\\n",
       "\t4 & 1331994375 & 58519 & 5214 & tcp &  0.02442885 & 5.329181e-04 & -1.991930e-10 & REJ  & 0 & 1 &  60 & 1 &   40\\\\\n",
       "\t5 & 1331999507 & 25774 & 1625 & tcp & 30.07244441 & 1.684881e+07 &  1.962527e+03 & S0   & 0 & 1 &  48 & 0 &    0\\\\\n",
       "\t6 & 1331935766 & 60760 & 1580 & tcp &  0.02745513 & 5.329181e-04 & -2.006789e-10 & REJ  & 0 & 1 &  60 & 1 &   40\\\\\n",
       "\\end{tabular}\n"
      ],
      "text/markdown": [
       "\n",
       "A data.frame: 6 × 13\n",
       "\n",
       "| <!--/--> | ts &lt;dbl&gt; | orig_port &lt;dbl&gt; | resp_port &lt;dbl&gt; | proto &lt;fct&gt; | duration &lt;dbl&gt; | orig_bytes &lt;dbl&gt; | resp_bytes &lt;dbl&gt; | conn_state &lt;fct&gt; | missed_bytes &lt;dbl&gt; | orig_pkts &lt;dbl&gt; | orig_ip_bytes &lt;dbl&gt; | resp_pkts &lt;dbl&gt; | resp_ip_bytes &lt;dbl&gt; |\n",
       "|---|---|---|---|---|---|---|---|---|---|---|---|---|---|\n",
       "| 1 | 1331915797 |  2633 |   80 | tcp |  0.03000000 | 4.810000e+02 |  8.133000e+03 | RSTO | 0 | 8 | 813 | 9 | 8505 |\n",
       "| 2 | 1331923392 | 11574 | 1724 | tcp |  0.13652842 | 5.329191e-04 | -1.996011e-10 | REJ  | 0 | 1 |  48 | 1 |   40 |\n",
       "| 3 | 1331905217 | 41267 | 8010 | tcp |  0.05152906 | 5.290888e-04 | -1.982710e-10 | REJ  | 0 | 1 |  60 | 1 |   40 |\n",
       "| 4 | 1331994375 | 58519 | 5214 | tcp |  0.02442885 | 5.329181e-04 | -1.991930e-10 | REJ  | 0 | 1 |  60 | 1 |   40 |\n",
       "| 5 | 1331999507 | 25774 | 1625 | tcp | 30.07244441 | 1.684881e+07 |  1.962527e+03 | S0   | 0 | 1 |  48 | 0 |    0 |\n",
       "| 6 | 1331935766 | 60760 | 1580 | tcp |  0.02745513 | 5.329181e-04 | -2.006789e-10 | REJ  | 0 | 1 |  60 | 1 |   40 |\n",
       "\n"
      ],
      "text/plain": [
       "  ts         orig_port resp_port proto duration    orig_bytes   resp_bytes   \n",
       "1 1331915797  2633       80      tcp    0.03000000 4.810000e+02  8.133000e+03\n",
       "2 1331923392 11574     1724      tcp    0.13652842 5.329191e-04 -1.996011e-10\n",
       "3 1331905217 41267     8010      tcp    0.05152906 5.290888e-04 -1.982710e-10\n",
       "4 1331994375 58519     5214      tcp    0.02442885 5.329181e-04 -1.991930e-10\n",
       "5 1331999507 25774     1625      tcp   30.07244441 1.684881e+07  1.962527e+03\n",
       "6 1331935766 60760     1580      tcp    0.02745513 5.329181e-04 -2.006789e-10\n",
       "  conn_state missed_bytes orig_pkts orig_ip_bytes resp_pkts resp_ip_bytes\n",
       "1 RSTO       0            8         813           9         8505         \n",
       "2 REJ        0            1          48           1           40         \n",
       "3 REJ        0            1          60           1           40         \n",
       "4 REJ        0            1          60           1           40         \n",
       "5 S0         0            1          48           0            0         \n",
       "6 REJ        0            1          60           1           40         "
      ]
     },
     "metadata": {},
     "output_type": "display_data"
    }
   ],
   "source": [
    "head(conn_forest)"
   ]
  },
  {
   "cell_type": "code",
   "execution_count": 18,
   "metadata": {},
   "outputs": [
    {
     "data": {
      "text/plain": [
       "\n",
       "Call:\n",
       "lm(formula = logduration ~ proto + ts + orig_port + resp_port + \n",
       "    conn_state + orig_pkts + orig_ip_bytes + resp_pkts + resp_ip_bytes, \n",
       "    data = conn_forest)\n",
       "\n",
       "Residuals:\n",
       "     Min       1Q   Median       3Q      Max \n",
       "-13.8117  -0.7712  -0.2903   0.7656  11.0678 \n",
       "\n",
       "Coefficients:\n",
       "                   Estimate Std. Error  t value Pr(>|t|)    \n",
       "(Intercept)      -2.149e+03  7.673e+01  -28.006  < 2e-16 ***\n",
       "prototcp          3.340e+00  3.936e-02   84.849  < 2e-16 ***\n",
       "protoudp          2.392e+00  4.673e-02   51.174  < 2e-16 ***\n",
       "ts                1.613e-06  5.761e-08   28.002  < 2e-16 ***\n",
       "orig_port        -2.017e-06  1.633e-07  -12.348  < 2e-16 ***\n",
       "resp_port        -6.139e-06  1.186e-07  -51.752  < 2e-16 ***\n",
       "conn_stateREJ    -6.041e+00  2.832e-02 -213.317  < 2e-16 ***\n",
       "conn_stateRSTO   -5.352e+00  3.269e-02 -163.715  < 2e-16 ***\n",
       "conn_stateRSTOS0  2.818e-01  1.133e+00    0.249  0.80360    \n",
       "conn_stateRSTR   -4.945e+00  5.149e-02  -96.039  < 2e-16 ***\n",
       "conn_stateRSTRH  -7.332e-01  4.015e-01   -1.826  0.06782 .  \n",
       "conn_stateS0     -5.781e-01  2.834e-02  -20.397  < 2e-16 ***\n",
       "conn_stateS1      1.569e-01  2.200e-01    0.713  0.47564    \n",
       "conn_stateS2      2.142e-01  3.427e-01    0.625  0.53191    \n",
       "conn_stateS3      1.132e+00  1.133e+00    0.999  0.31780    \n",
       "conn_stateSF     -4.972e+00  3.615e-02 -137.545  < 2e-16 ***\n",
       "conn_stateSH      3.245e-01  1.246e-01    2.603  0.00923 ** \n",
       "conn_stateSHR     4.869e-01  2.211e-01    2.202  0.02764 *  \n",
       "orig_pkts         1.567e-02  9.719e-04   16.128  < 2e-16 ***\n",
       "orig_ip_bytes     3.447e-05  4.348e-06    7.926 2.27e-15 ***\n",
       "resp_pkts        -2.337e-02  1.126e-03  -20.753  < 2e-16 ***\n",
       "resp_ip_bytes     1.019e-05  1.016e-06   10.036  < 2e-16 ***\n",
       "---\n",
       "Signif. codes:  0 '***' 0.001 '**' 0.01 '*' 0.05 '.' 0.1 ' ' 1\n",
       "\n",
       "Residual standard error: 1.133 on 226921 degrees of freedom\n",
       "Multiple R-squared:  0.8506,\tAdjusted R-squared:  0.8505 \n",
       "F-statistic: 6.15e+04 on 21 and 226921 DF,  p-value: < 2.2e-16\n"
      ]
     },
     "metadata": {},
     "output_type": "display_data"
    }
   ],
   "source": [
    "conn_forest[,\"logduration\"]=log(conn_forest[,\"duration\"])\n",
    "lm_forest=lm(logduration~proto+ts+orig_port+resp_port+conn_state+orig_pkts+orig_ip_bytes +resp_pkts+resp_ip_bytes,data=conn_forest)\n",
    "summary(lm_forest)"
   ]
  },
  {
   "cell_type": "code",
   "execution_count": 43,
   "metadata": {},
   "outputs": [
    {
     "data": {
      "text/html": [
       "<style>\n",
       ".dl-inline {width: auto; margin:0; padding: 0}\n",
       ".dl-inline>dt, .dl-inline>dd {float: none; width: auto; display: inline-block}\n",
       ".dl-inline>dt::after {content: \":\\0020\"; padding-right: .5ex}\n",
       ".dl-inline>dt:not(:first-of-type) {padding-left: .5ex}\n",
       "</style><dl class=dl-inline><dt>NRMSE</dt><dd>0.0194617340640894</dd><dt>PFC</dt><dd>0</dd></dl>\n"
      ],
      "text/latex": [
       "\\begin{description*}\n",
       "\\item[NRMSE] 0.0194617340640894\n",
       "\\item[PFC] 0\n",
       "\\end{description*}\n"
      ],
      "text/markdown": [
       "NRMSE\n",
       ":   0.0194617340640894PFC\n",
       ":   0\n",
       "\n"
      ],
      "text/plain": [
       "     NRMSE        PFC \n",
       "0.01946173 0.00000000 "
      ]
     },
     "metadata": {},
     "output_type": "display_data"
    }
   ],
   "source": [
    "conn_imp$OOBerror"
   ]
  },
  {
   "cell_type": "markdown",
   "metadata": {},
   "source": [
    "R-squared increases and is very close to 1 compared to other methods, indicating that the effect of missforest imputation is very good.\n",
    "\n",
    "#### Researching parameters\n",
    "\"maxiter\" is the maximum number of iterations to be performed given the stopping criterion is not met beforehand. In order to avoid the program running time is too long, we set it to 10, that is, iterate at most ten times.\n",
    "\n",
    "\"ntree\" is the number of trees to grow in each forest, which should be an important parameter."
   ]
  },
  {
   "cell_type": "code",
   "execution_count": 41,
   "metadata": {},
   "outputs": [
    {
     "name": "stdout",
     "output_type": "stream",
     "text": [
      "  missForest iteration 1 in progress...done!\n",
      "    estimated error(s): 0.02266125 0 \n",
      "    difference(s): 0.0003928885 0 \n",
      "    time: 24.55 seconds\n",
      "\n",
      "  missForest iteration 2 in progress...done!\n",
      "    estimated error(s): 0.02143947 0 \n",
      "    difference(s): 0.0004378377 0 \n",
      "    time: 25.12 seconds\n",
      "\n"
     ]
    }
   ],
   "source": [
    "conn_imp2 <- missForest(conndata2, verbose = TRUE, maxiter = 10, ntree = 10)\n",
    "conn_forest2<-conn_imp2$ximp"
   ]
  },
  {
   "cell_type": "code",
   "execution_count": 42,
   "metadata": {},
   "outputs": [
    {
     "data": {
      "text/html": [
       "0.171897525826762"
      ],
      "text/latex": [
       "0.171897525826762"
      ],
      "text/markdown": [
       "0.171897525826762"
      ],
      "text/plain": [
       "[1] 0.1718975"
      ]
     },
     "metadata": {},
     "output_type": "display_data"
    }
   ],
   "source": [
    "conn_forest2[,\"logduration\"]=log(conn_forest2[,\"duration\"])\n",
    "lm_forest2=lm(logduration~proto+ts+orig_port+resp_port+conn_state+orig_pkts+orig_ip_bytes +resp_pkts+resp_ip_bytes,data=conn_forest2)\n",
    "summary(lm_forest2)$r.squared"
   ]
  },
  {
   "cell_type": "code",
   "execution_count": 44,
   "metadata": {},
   "outputs": [
    {
     "data": {
      "text/html": [
       "<style>\n",
       ".dl-inline {width: auto; margin:0; padding: 0}\n",
       ".dl-inline>dt, .dl-inline>dd {float: none; width: auto; display: inline-block}\n",
       ".dl-inline>dt::after {content: \":\\0020\"; padding-right: .5ex}\n",
       ".dl-inline>dt:not(:first-of-type) {padding-left: .5ex}\n",
       "</style><dl class=dl-inline><dt>NRMSE</dt><dd>0.0226612462091618</dd><dt>PFC</dt><dd>0</dd></dl>\n"
      ],
      "text/latex": [
       "\\begin{description*}\n",
       "\\item[NRMSE] 0.0226612462091618\n",
       "\\item[PFC] 0\n",
       "\\end{description*}\n"
      ],
      "text/markdown": [
       "NRMSE\n",
       ":   0.0226612462091618PFC\n",
       ":   0\n",
       "\n"
      ],
      "text/plain": [
       "     NRMSE        PFC \n",
       "0.02266125 0.00000000 "
      ]
     },
     "metadata": {},
     "output_type": "display_data"
    }
   ],
   "source": [
    "conn_imp2$OOBerror"
   ]
  },
  {
   "cell_type": "code",
   "execution_count": 23,
   "metadata": {},
   "outputs": [
    {
     "name": "stdout",
     "output_type": "stream",
     "text": [
      "  missForest iteration 1 in progress...done!\n",
      "    estimated error(s): 0.02020967 0 \n",
      "    difference(s): 0.0001815137 0 \n",
      "    time: 73.25 seconds\n",
      "\n",
      "  missForest iteration 2 in progress...done!\n",
      "    estimated error(s): 0.01923021 0 \n",
      "    difference(s): 0.0005662995 0 \n",
      "    time: 78.52 seconds\n",
      "\n"
     ]
    }
   ],
   "source": [
    "conn_imp3 <- missForest(conndata2, verbose = TRUE, maxiter = 10, ntree = 30)\n",
    "conn_forest3<-conn_imp3$ximp"
   ]
  },
  {
   "cell_type": "code",
   "execution_count": 24,
   "metadata": {},
   "outputs": [
    {
     "data": {
      "text/html": [
       "0.395460786136917"
      ],
      "text/latex": [
       "0.395460786136917"
      ],
      "text/markdown": [
       "0.395460786136917"
      ],
      "text/plain": [
       "[1] 0.3954608"
      ]
     },
     "metadata": {},
     "output_type": "display_data"
    }
   ],
   "source": [
    "conn_forest3[,\"logduration\"]=log(conn_forest3[,\"duration\"])\n",
    "lm_forest3=lm(logduration~proto+ts+orig_port+resp_port+conn_state+orig_pkts+orig_ip_bytes +resp_pkts+resp_ip_bytes,data=conn_forest3)\n",
    "summary(lm_forest3)$r.squared"
   ]
  },
  {
   "cell_type": "code",
   "execution_count": 45,
   "metadata": {},
   "outputs": [
    {
     "data": {
      "text/html": [
       "<style>\n",
       ".dl-inline {width: auto; margin:0; padding: 0}\n",
       ".dl-inline>dt, .dl-inline>dd {float: none; width: auto; display: inline-block}\n",
       ".dl-inline>dt::after {content: \":\\0020\"; padding-right: .5ex}\n",
       ".dl-inline>dt:not(:first-of-type) {padding-left: .5ex}\n",
       "</style><dl class=dl-inline><dt>NRMSE</dt><dd>0.0202096672938133</dd><dt>PFC</dt><dd>0</dd></dl>\n"
      ],
      "text/latex": [
       "\\begin{description*}\n",
       "\\item[NRMSE] 0.0202096672938133\n",
       "\\item[PFC] 0\n",
       "\\end{description*}\n"
      ],
      "text/markdown": [
       "NRMSE\n",
       ":   0.0202096672938133PFC\n",
       ":   0\n",
       "\n"
      ],
      "text/plain": [
       "     NRMSE        PFC \n",
       "0.02020967 0.00000000 "
      ]
     },
     "metadata": {},
     "output_type": "display_data"
    }
   ],
   "source": [
    "conn_imp3$OOBerror"
   ]
  },
  {
   "cell_type": "code",
   "execution_count": 25,
   "metadata": {},
   "outputs": [
    {
     "name": "stdout",
     "output_type": "stream",
     "text": [
      "  missForest iteration 1 in progress...done!\n",
      "    estimated error(s): 0.02058316 0 \n",
      "    difference(s): 0.001405686 0 \n",
      "    time: 133.13 seconds\n",
      "\n",
      "  missForest iteration 2 in progress...done!\n",
      "    estimated error(s): 0.01863053 0 \n",
      "    difference(s): 0.0004708199 0 \n",
      "    time: 116.09 seconds\n",
      "\n",
      "  missForest iteration 3 in progress...done!\n",
      "    estimated error(s): 0.01966309 0 \n",
      "    difference(s): 0.0005112392 0 \n",
      "    time: 115.31 seconds\n",
      "\n"
     ]
    }
   ],
   "source": [
    "conn_imp4 <- missForest(conndata2, verbose = TRUE, maxiter = 10, ntree = 50)\n",
    "conn_forest4<-conn_imp4$ximp"
   ]
  },
  {
   "cell_type": "code",
   "execution_count": 26,
   "metadata": {},
   "outputs": [
    {
     "data": {
      "text/html": [
       "0.550082552615851"
      ],
      "text/latex": [
       "0.550082552615851"
      ],
      "text/markdown": [
       "0.550082552615851"
      ],
      "text/plain": [
       "[1] 0.5500826"
      ]
     },
     "metadata": {},
     "output_type": "display_data"
    }
   ],
   "source": [
    "conn_forest4[,\"logduration\"]=log(conn_forest4[,\"duration\"])\n",
    "lm_forest4=lm(logduration~proto+ts+orig_port+resp_port+conn_state+orig_pkts+orig_ip_bytes +resp_pkts+resp_ip_bytes,data=conn_forest4)\n",
    "summary(lm_forest4)$r.squared"
   ]
  },
  {
   "cell_type": "code",
   "execution_count": 46,
   "metadata": {},
   "outputs": [
    {
     "data": {
      "text/html": [
       "<style>\n",
       ".dl-inline {width: auto; margin:0; padding: 0}\n",
       ".dl-inline>dt, .dl-inline>dd {float: none; width: auto; display: inline-block}\n",
       ".dl-inline>dt::after {content: \":\\0020\"; padding-right: .5ex}\n",
       ".dl-inline>dt:not(:first-of-type) {padding-left: .5ex}\n",
       "</style><dl class=dl-inline><dt>NRMSE</dt><dd>0.0186305296177087</dd><dt>PFC</dt><dd>0</dd></dl>\n"
      ],
      "text/latex": [
       "\\begin{description*}\n",
       "\\item[NRMSE] 0.0186305296177087\n",
       "\\item[PFC] 0\n",
       "\\end{description*}\n"
      ],
      "text/markdown": [
       "NRMSE\n",
       ":   0.0186305296177087PFC\n",
       ":   0\n",
       "\n"
      ],
      "text/plain": [
       "     NRMSE        PFC \n",
       "0.01863053 0.00000000 "
      ]
     },
     "metadata": {},
     "output_type": "display_data"
    }
   ],
   "source": [
    "conn_imp4$OOBerror"
   ]
  },
  {
   "cell_type": "code",
   "execution_count": 29,
   "metadata": {},
   "outputs": [
    {
     "name": "stdout",
     "output_type": "stream",
     "text": [
      "  missForest iteration 1 in progress...done!\n",
      "    estimated error(s): 0.01853729 0 \n",
      "    difference(s): 0.0001425477 0 \n",
      "    time: 182.04 seconds\n",
      "\n",
      "  missForest iteration 2 in progress...done!\n",
      "    estimated error(s): 0.01926127 0 \n",
      "    difference(s): 5.972065e-05 0 \n",
      "    time: 191.25 seconds\n",
      "\n",
      "  missForest iteration 3 in progress...done!\n",
      "    estimated error(s): 0.01880699 0 \n",
      "    difference(s): 7.128327e-05 0 \n",
      "    time: 194.83 seconds\n",
      "\n"
     ]
    }
   ],
   "source": [
    "conn_imp5 <- missForest(conndata2, verbose = TRUE, maxiter = 10, ntree = 80)\n",
    "conn_forest5<-conn_imp5$ximp"
   ]
  },
  {
   "cell_type": "code",
   "execution_count": 30,
   "metadata": {},
   "outputs": [
    {
     "data": {
      "text/html": [
       "0.462952177486697"
      ],
      "text/latex": [
       "0.462952177486697"
      ],
      "text/markdown": [
       "0.462952177486697"
      ],
      "text/plain": [
       "[1] 0.4629522"
      ]
     },
     "metadata": {},
     "output_type": "display_data"
    }
   ],
   "source": [
    "conn_forest5[,\"logduration\"]=log(conn_forest5[,\"duration\"])\n",
    "lm_forest5=lm(logduration~proto+ts+orig_port+resp_port+conn_state+orig_pkts+orig_ip_bytes +resp_pkts+resp_ip_bytes,data=conn_forest5)\n",
    "summary(lm_forest5)$r.squared"
   ]
  },
  {
   "cell_type": "code",
   "execution_count": 47,
   "metadata": {},
   "outputs": [
    {
     "data": {
      "text/html": [
       "<style>\n",
       ".dl-inline {width: auto; margin:0; padding: 0}\n",
       ".dl-inline>dt, .dl-inline>dd {float: none; width: auto; display: inline-block}\n",
       ".dl-inline>dt::after {content: \":\\0020\"; padding-right: .5ex}\n",
       ".dl-inline>dt:not(:first-of-type) {padding-left: .5ex}\n",
       "</style><dl class=dl-inline><dt>NRMSE</dt><dd>0.0192612665073576</dd><dt>PFC</dt><dd>0</dd></dl>\n"
      ],
      "text/latex": [
       "\\begin{description*}\n",
       "\\item[NRMSE] 0.0192612665073576\n",
       "\\item[PFC] 0\n",
       "\\end{description*}\n"
      ],
      "text/markdown": [
       "NRMSE\n",
       ":   0.0192612665073576PFC\n",
       ":   0\n",
       "\n"
      ],
      "text/plain": [
       "     NRMSE        PFC \n",
       "0.01926127 0.00000000 "
      ]
     },
     "metadata": {},
     "output_type": "display_data"
    }
   ],
   "source": [
    "conn_imp5$OOBerror"
   ]
  },
  {
   "cell_type": "code",
   "execution_count": 49,
   "metadata": {},
   "outputs": [
    {
     "name": "stdout",
     "output_type": "stream",
     "text": [
      "  missForest iteration 1 in progress...done!\n",
      "    estimated error(s): 0.01898496 0 \n",
      "    difference(s): 0.0004620932 0 \n",
      "    time: 272.45 seconds\n",
      "\n",
      "  missForest iteration 2 in progress...done!\n",
      "    estimated error(s): 0.01925083 0 \n",
      "    difference(s): 0.0004596013 0 \n",
      "    time: 274.91 seconds\n",
      "\n",
      "  missForest iteration 3 in progress...done!\n",
      "    estimated error(s): 0.01907732 0 \n",
      "    difference(s): 0.0002747148 0 \n",
      "    time: 264.11 seconds\n",
      "\n",
      "  missForest iteration 4 in progress...done!\n",
      "    estimated error(s): 0.01965186 0 \n",
      "    difference(s): 0.0004919288 0 \n",
      "    time: 272.01 seconds\n",
      "\n"
     ]
    }
   ],
   "source": [
    "conn_imp6 <- missForest(conndata2, verbose = TRUE, maxiter = 10, ntree = 120)\n",
    "conn_forest6<-conn_imp6$ximp"
   ]
  },
  {
   "cell_type": "code",
   "execution_count": 50,
   "metadata": {},
   "outputs": [
    {
     "data": {
      "text/html": [
       "0.715244146182734"
      ],
      "text/latex": [
       "0.715244146182734"
      ],
      "text/markdown": [
       "0.715244146182734"
      ],
      "text/plain": [
       "[1] 0.7152441"
      ]
     },
     "metadata": {},
     "output_type": "display_data"
    }
   ],
   "source": [
    "conn_forest6[,\"logduration\"]=log(conn_forest6[,\"duration\"])\n",
    "lm_forest6=lm(logduration~proto+ts+orig_port+resp_port+conn_state+orig_pkts+orig_ip_bytes +resp_pkts+resp_ip_bytes,data=conn_forest6)\n",
    "summary(lm_forest6)$r.squared"
   ]
  },
  {
   "cell_type": "code",
   "execution_count": 51,
   "metadata": {},
   "outputs": [
    {
     "data": {
      "text/html": [
       "<style>\n",
       ".dl-inline {width: auto; margin:0; padding: 0}\n",
       ".dl-inline>dt, .dl-inline>dd {float: none; width: auto; display: inline-block}\n",
       ".dl-inline>dt::after {content: \":\\0020\"; padding-right: .5ex}\n",
       ".dl-inline>dt:not(:first-of-type) {padding-left: .5ex}\n",
       "</style><dl class=dl-inline><dt>NRMSE</dt><dd>0.0190773165196805</dd><dt>PFC</dt><dd>0</dd></dl>\n"
      ],
      "text/latex": [
       "\\begin{description*}\n",
       "\\item[NRMSE] 0.0190773165196805\n",
       "\\item[PFC] 0\n",
       "\\end{description*}\n"
      ],
      "text/markdown": [
       "NRMSE\n",
       ":   0.0190773165196805PFC\n",
       ":   0\n",
       "\n"
      ],
      "text/plain": [
       "     NRMSE        PFC \n",
       "0.01907732 0.00000000 "
      ]
     },
     "metadata": {},
     "output_type": "display_data"
    }
   ],
   "source": [
    "conn_imp6$OOBerror"
   ]
  },
  {
   "cell_type": "markdown",
   "metadata": {},
   "source": [
    "The influence of \"ntree\" on the result of imputation is not monotonous, but it is certain that the larger it is, the more time it takes for each iteration, that is, the more complicated the calculation.\n",
    "\n",
    "After taking the value of ntree many times, we think that the initial value of 100 has the best imputation effect, although its number of iterations and total time spent are very large.\n",
    "\n",
    "Then \"mtry\" is also an important parameter, which means the number of variables randomly sampled at each split. This argument is directly supplied to the 'randomForest' function. Note that the default value is sqrt(p) for both categorical and continuous variables where p is the number of variables in data."
   ]
  },
  {
   "cell_type": "code",
   "execution_count": 33,
   "metadata": {},
   "outputs": [
    {
     "data": {
      "text/html": [
       "3"
      ],
      "text/latex": [
       "3"
      ],
      "text/markdown": [
       "3"
      ],
      "text/plain": [
       "[1] 3"
      ]
     },
     "metadata": {},
     "output_type": "display_data"
    }
   ],
   "source": [
    "floor(sqrt(ncol(conndata2)))"
   ]
  },
  {
   "cell_type": "code",
   "execution_count": 34,
   "metadata": {},
   "outputs": [
    {
     "name": "stdout",
     "output_type": "stream",
     "text": [
      "  missForest iteration 1 in progress...done!\n",
      "    estimated error(s): 0.02111537 0 \n",
      "    difference(s): 0.0002790051 0 \n",
      "    time: 14.52 seconds\n",
      "\n",
      "  missForest iteration 2 in progress...done!\n",
      "    estimated error(s): 0.02214634 0 \n",
      "    difference(s): 0.000195806 0 \n",
      "    time: 22.17 seconds\n",
      "\n",
      "  missForest iteration 3 in progress...done!\n",
      "    estimated error(s): 0.02388997 0 \n",
      "    difference(s): 0.0004092202 0 \n",
      "    time: 10.08 seconds\n",
      "\n"
     ]
    }
   ],
   "source": [
    "conn_imp7 <- missForest(conndata2, verbose = TRUE, maxiter = 10, ntree = 10, \"mtry\" = 2)\n",
    "conn_forest7<-conn_imp7$ximp"
   ]
  },
  {
   "cell_type": "code",
   "execution_count": 35,
   "metadata": {},
   "outputs": [
    {
     "data": {
      "text/html": [
       "0.676765393861075"
      ],
      "text/latex": [
       "0.676765393861075"
      ],
      "text/markdown": [
       "0.676765393861075"
      ],
      "text/plain": [
       "[1] 0.6767654"
      ]
     },
     "metadata": {},
     "output_type": "display_data"
    }
   ],
   "source": [
    "conn_forest7[,\"logduration\"]=log(conn_forest7[,\"duration\"])\n",
    "lm_forest7=lm(logduration~proto+ts+orig_port+resp_port+conn_state+orig_pkts+orig_ip_bytes +resp_pkts+resp_ip_bytes,data=conn_forest7)\n",
    "summary(lm_forest7)$r.squared"
   ]
  },
  {
   "cell_type": "code",
   "execution_count": 36,
   "metadata": {},
   "outputs": [
    {
     "name": "stdout",
     "output_type": "stream",
     "text": [
      "  missForest iteration 1 in progress...done!\n",
      "    estimated error(s): 0.02252501 0 \n",
      "    difference(s): 0.0002828674 0 \n",
      "    time: 70.39 seconds\n",
      "\n",
      "  missForest iteration 2 in progress...done!\n",
      "    estimated error(s): 0.02308897 0 \n",
      "    difference(s): 0.0002849895 0 \n",
      "    time: 50.58 seconds\n",
      "\n"
     ]
    }
   ],
   "source": [
    "conn_imp8 <- missForest(conndata2, verbose = TRUE, maxiter = 10, ntree = 10, \"mtry\" = 4)\n",
    "conn_forest8<-conn_imp8$ximp"
   ]
  },
  {
   "cell_type": "code",
   "execution_count": 37,
   "metadata": {},
   "outputs": [
    {
     "data": {
      "text/html": [
       "0.241847794477946"
      ],
      "text/latex": [
       "0.241847794477946"
      ],
      "text/markdown": [
       "0.241847794477946"
      ],
      "text/plain": [
       "[1] 0.2418478"
      ]
     },
     "metadata": {},
     "output_type": "display_data"
    }
   ],
   "source": [
    "conn_forest8[,\"logduration\"]=log(conn_forest8[,\"duration\"])\n",
    "lm_forest8=lm(logduration~proto+ts+orig_port+resp_port+conn_state+orig_pkts+orig_ip_bytes +resp_pkts+resp_ip_bytes,data=conn_forest8)\n",
    "summary(lm_forest8)$r.squared"
   ]
  },
  {
   "cell_type": "code",
   "execution_count": 38,
   "metadata": {},
   "outputs": [
    {
     "name": "stdout",
     "output_type": "stream",
     "text": [
      "  missForest iteration 1 in progress...done!\n",
      "    estimated error(s): 0.02319326 0 \n",
      "    difference(s): 0.0002362276 0 \n",
      "    time: 24.45 seconds\n",
      "\n",
      "  missForest iteration 2 in progress...done!\n",
      "    estimated error(s): 0.02195814 0 \n",
      "    difference(s): 0.0003074406 0 \n",
      "    time: 24.08 seconds\n",
      "\n"
     ]
    }
   ],
   "source": [
    "conn_imp9 <- missForest(conndata2, verbose = TRUE, maxiter = 10, ntree = 10, \"mtry\" = 3)\n",
    "conn_forest9<-conn_imp9$ximp"
   ]
  },
  {
   "cell_type": "code",
   "execution_count": 39,
   "metadata": {},
   "outputs": [
    {
     "data": {
      "text/html": [
       "0.266078472254032"
      ],
      "text/latex": [
       "0.266078472254032"
      ],
      "text/markdown": [
       "0.266078472254032"
      ],
      "text/plain": [
       "[1] 0.2660785"
      ]
     },
     "metadata": {},
     "output_type": "display_data"
    }
   ],
   "source": [
    "conn_forest9[,\"logduration\"]=log(conn_forest9[,\"duration\"])\n",
    "lm_forest9=lm(logduration~proto+ts+orig_port+resp_port+conn_state+orig_pkts+orig_ip_bytes +resp_pkts+resp_ip_bytes,data=conn_forest9)\n",
    "summary(lm_forest9)$r.squared"
   ]
  },
  {
   "cell_type": "markdown",
   "metadata": {},
   "source": [
    "\n",
    "\n",
    "#### More prediction\n",
    "The missforest algorithm can process mixed-type data, so we can simultaneously impute the above three numerical variables and the discrete variable \"service\".\n"
   ]
  },
  {
   "cell_type": "code",
   "execution_count": null,
   "metadata": {},
   "outputs": [],
   "source": []
  }
 ],
 "metadata": {
  "kernelspec": {
   "display_name": "R",
   "language": "R",
   "name": "ir"
  },
  "language_info": {
   "codemirror_mode": "r",
   "file_extension": ".r",
   "mimetype": "text/x-r-source",
   "name": "R",
   "pygments_lexer": "r",
   "version": "4.0.3"
  }
 },
 "nbformat": 4,
 "nbformat_minor": 4
}
