{
 "cells": [
  {
   "cell_type": "markdown",
   "metadata": {},
   "source": [
    "## Assessment 02 Data\n",
    "\n",
    "Going to download the data set and make a small sample of it as it is very large. (Over 500mb ***COMPRESSED***!)\n",
    "\n",
    "Install the following packages if required:"
   ]
  },
  {
   "cell_type": "code",
   "execution_count": 1,
   "metadata": {},
   "outputs": [],
   "source": [
    "#install.packages(\"lubridate\",\"caTools\")"
   ]
  },
  {
   "cell_type": "markdown",
   "metadata": {},
   "source": [
    "Load the packages into the environment."
   ]
  },
  {
   "cell_type": "code",
   "execution_count": 2,
   "metadata": {
    "collapsed": true,
    "jupyter": {
     "outputs_hidden": true
    }
   },
   "outputs": [
    {
     "name": "stderr",
     "output_type": "stream",
     "text": [
      "\n",
      "Attaching package: 'lubridate'\n",
      "\n",
      "\n",
      "The following objects are masked from 'package:base':\n",
      "\n",
      "    date, intersect, setdiff, union\n",
      "\n",
      "\n",
      "\n",
      "Attaching package: 'crunch'\n",
      "\n",
      "\n",
      "The following objects are masked from 'package:stats':\n",
      "\n",
      "    filter, rstandard, setNames\n",
      "\n",
      "\n",
      "The following object is masked from 'package:graphics':\n",
      "\n",
      "    title\n",
      "\n",
      "\n",
      "The following object is masked from 'package:utils':\n",
      "\n",
      "    write.csv\n",
      "\n",
      "\n",
      "The following object is masked from 'package:base':\n",
      "\n",
      "    table\n",
      "\n",
      "\n",
      "\n",
      "Attaching package: 'data.table'\n",
      "\n",
      "\n",
      "The following objects are masked from 'package:crunch':\n",
      "\n",
      "    copy, cube, rollup\n",
      "\n",
      "\n",
      "The following objects are masked from 'package:lubridate':\n",
      "\n",
      "    hour, isoweek, mday, minute, month, quarter, second, wday, week,\n",
      "    yday, year\n",
      "\n",
      "\n"
     ]
    }
   ],
   "source": [
    "library(lubridate)\n",
    "library(caTools)\n",
    "library(crunch)\n",
    "library(data.table)"
   ]
  },
  {
   "cell_type": "markdown",
   "metadata": {},
   "source": [
    "Importing the conn.log data for sampling. This takes a long time as it is an absolutely huge file."
   ]
  },
  {
   "cell_type": "code",
   "execution_count": 3,
   "metadata": {},
   "outputs": [
    {
     "name": "stdout",
     "output_type": "stream",
     "text": [
      "[1] \"Data imported in:\"\n",
      "[1] \"9M 2.11000000000001S\"\n"
     ]
    },
    {
     "data": {
      "text/html": [
       "<table>\n",
       "<caption>A data.frame: 6 × 20</caption>\n",
       "<thead>\n",
       "\t<tr><th></th><th scope=col>V1</th><th scope=col>V2</th><th scope=col>V3</th><th scope=col>V4</th><th scope=col>V5</th><th scope=col>V6</th><th scope=col>V7</th><th scope=col>V8</th><th scope=col>V9</th><th scope=col>V10</th><th scope=col>V11</th><th scope=col>V12</th><th scope=col>V13</th><th scope=col>V14</th><th scope=col>V15</th><th scope=col>V16</th><th scope=col>V17</th><th scope=col>V18</th><th scope=col>V19</th><th scope=col>V20</th></tr>\n",
       "\t<tr><th></th><th scope=col>&lt;dbl&gt;</th><th scope=col>&lt;chr&gt;</th><th scope=col>&lt;chr&gt;</th><th scope=col>&lt;int&gt;</th><th scope=col>&lt;chr&gt;</th><th scope=col>&lt;int&gt;</th><th scope=col>&lt;chr&gt;</th><th scope=col>&lt;chr&gt;</th><th scope=col>&lt;chr&gt;</th><th scope=col>&lt;chr&gt;</th><th scope=col>&lt;chr&gt;</th><th scope=col>&lt;chr&gt;</th><th scope=col>&lt;chr&gt;</th><th scope=col>&lt;int&gt;</th><th scope=col>&lt;chr&gt;</th><th scope=col>&lt;int&gt;</th><th scope=col>&lt;int&gt;</th><th scope=col>&lt;int&gt;</th><th scope=col>&lt;int&gt;</th><th scope=col>&lt;chr&gt;</th></tr>\n",
       "</thead>\n",
       "<tbody>\n",
       "\t<tr><th scope=row>1</th><td>1331901000</td><td>CCUIP21wTjqkj8ZqX5</td><td>192.168.202.79</td><td>50463</td><td>192.168.229.251</td><td> 80</td><td>tcp</td><td>-   </td><td>-       </td><td>-  </td><td>-   </td><td>SH</td><td>-</td><td>0</td><td>Fa       </td><td>1</td><td> 52</td><td> 1</td><td>  52</td><td>(empty)</td></tr>\n",
       "\t<tr><th scope=row>2</th><td>1331901000</td><td>Csssjd3tX0yOTPDpng</td><td>192.168.202.79</td><td>46117</td><td>192.168.229.254</td><td>443</td><td>tcp</td><td>-   </td><td>-       </td><td>-  </td><td>-   </td><td>SF</td><td>-</td><td>0</td><td>dDafFr   </td><td>3</td><td>382</td><td> 9</td><td> 994</td><td>(empty)</td></tr>\n",
       "\t<tr><th scope=row>3</th><td>1331901000</td><td>CHEt7z3AzG4gyCNgci</td><td>192.168.202.79</td><td>50465</td><td>192.168.229.251</td><td> 80</td><td>tcp</td><td>http</td><td>0.010000</td><td>166</td><td>214 </td><td>SF</td><td>-</td><td>0</td><td>ShADfFa  </td><td>4</td><td>382</td><td> 3</td><td> 382</td><td>(empty)</td></tr>\n",
       "\t<tr><th scope=row>4</th><td>1331901000</td><td>CKnDAp2ohlvN6rpiXl</td><td>192.168.202.79</td><td>50467</td><td>192.168.229.251</td><td> 80</td><td>tcp</td><td>http</td><td>0.010000</td><td>166</td><td>214 </td><td>SF</td><td>-</td><td>0</td><td>ShADfFa  </td><td>4</td><td>382</td><td> 3</td><td> 382</td><td>(empty)</td></tr>\n",
       "\t<tr><th scope=row>5</th><td>1331901000</td><td>CGUBcoXKxBE8gTNl  </td><td>192.168.202.79</td><td>46119</td><td>192.168.229.254</td><td>443</td><td>tcp</td><td>ssl </td><td>0.020000</td><td>544</td><td>1060</td><td>SF</td><td>-</td><td>0</td><td>ShADadfFr</td><td>8</td><td>968</td><td>13</td><td>1744</td><td>(empty)</td></tr>\n",
       "\t<tr><th scope=row>6</th><td>1331901000</td><td>CRksHc2i8qahpGOP19</td><td>192.168.202.79</td><td>46121</td><td>192.168.229.254</td><td>443</td><td>tcp</td><td>ssl </td><td>0.010000</td><td>544</td><td>1060</td><td>SF</td><td>-</td><td>0</td><td>ShADadfFr</td><td>8</td><td>968</td><td>13</td><td>1744</td><td>(empty)</td></tr>\n",
       "</tbody>\n",
       "</table>\n"
      ],
      "text/latex": [
       "A data.frame: 6 × 20\n",
       "\\begin{tabular}{r|llllllllllllllllllll}\n",
       "  & V1 & V2 & V3 & V4 & V5 & V6 & V7 & V8 & V9 & V10 & V11 & V12 & V13 & V14 & V15 & V16 & V17 & V18 & V19 & V20\\\\\n",
       "  & <dbl> & <chr> & <chr> & <int> & <chr> & <int> & <chr> & <chr> & <chr> & <chr> & <chr> & <chr> & <chr> & <int> & <chr> & <int> & <int> & <int> & <int> & <chr>\\\\\n",
       "\\hline\n",
       "\t1 & 1331901000 & CCUIP21wTjqkj8ZqX5 & 192.168.202.79 & 50463 & 192.168.229.251 &  80 & tcp & -    & -        & -   & -    & SH & - & 0 & Fa        & 1 &  52 &  1 &   52 & (empty)\\\\\n",
       "\t2 & 1331901000 & Csssjd3tX0yOTPDpng & 192.168.202.79 & 46117 & 192.168.229.254 & 443 & tcp & -    & -        & -   & -    & SF & - & 0 & dDafFr    & 3 & 382 &  9 &  994 & (empty)\\\\\n",
       "\t3 & 1331901000 & CHEt7z3AzG4gyCNgci & 192.168.202.79 & 50465 & 192.168.229.251 &  80 & tcp & http & 0.010000 & 166 & 214  & SF & - & 0 & ShADfFa   & 4 & 382 &  3 &  382 & (empty)\\\\\n",
       "\t4 & 1331901000 & CKnDAp2ohlvN6rpiXl & 192.168.202.79 & 50467 & 192.168.229.251 &  80 & tcp & http & 0.010000 & 166 & 214  & SF & - & 0 & ShADfFa   & 4 & 382 &  3 &  382 & (empty)\\\\\n",
       "\t5 & 1331901000 & CGUBcoXKxBE8gTNl   & 192.168.202.79 & 46119 & 192.168.229.254 & 443 & tcp & ssl  & 0.020000 & 544 & 1060 & SF & - & 0 & ShADadfFr & 8 & 968 & 13 & 1744 & (empty)\\\\\n",
       "\t6 & 1331901000 & CRksHc2i8qahpGOP19 & 192.168.202.79 & 46121 & 192.168.229.254 & 443 & tcp & ssl  & 0.010000 & 544 & 1060 & SF & - & 0 & ShADadfFr & 8 & 968 & 13 & 1744 & (empty)\\\\\n",
       "\\end{tabular}\n"
      ],
      "text/markdown": [
       "\n",
       "A data.frame: 6 × 20\n",
       "\n",
       "| <!--/--> | V1 &lt;dbl&gt; | V2 &lt;chr&gt; | V3 &lt;chr&gt; | V4 &lt;int&gt; | V5 &lt;chr&gt; | V6 &lt;int&gt; | V7 &lt;chr&gt; | V8 &lt;chr&gt; | V9 &lt;chr&gt; | V10 &lt;chr&gt; | V11 &lt;chr&gt; | V12 &lt;chr&gt; | V13 &lt;chr&gt; | V14 &lt;int&gt; | V15 &lt;chr&gt; | V16 &lt;int&gt; | V17 &lt;int&gt; | V18 &lt;int&gt; | V19 &lt;int&gt; | V20 &lt;chr&gt; |\n",
       "|---|---|---|---|---|---|---|---|---|---|---|---|---|---|---|---|---|---|---|---|---|\n",
       "| 1 | 1331901000 | CCUIP21wTjqkj8ZqX5 | 192.168.202.79 | 50463 | 192.168.229.251 |  80 | tcp | -    | -        | -   | -    | SH | - | 0 | Fa        | 1 |  52 |  1 |   52 | (empty) |\n",
       "| 2 | 1331901000 | Csssjd3tX0yOTPDpng | 192.168.202.79 | 46117 | 192.168.229.254 | 443 | tcp | -    | -        | -   | -    | SF | - | 0 | dDafFr    | 3 | 382 |  9 |  994 | (empty) |\n",
       "| 3 | 1331901000 | CHEt7z3AzG4gyCNgci | 192.168.202.79 | 50465 | 192.168.229.251 |  80 | tcp | http | 0.010000 | 166 | 214  | SF | - | 0 | ShADfFa   | 4 | 382 |  3 |  382 | (empty) |\n",
       "| 4 | 1331901000 | CKnDAp2ohlvN6rpiXl | 192.168.202.79 | 50467 | 192.168.229.251 |  80 | tcp | http | 0.010000 | 166 | 214  | SF | - | 0 | ShADfFa   | 4 | 382 |  3 |  382 | (empty) |\n",
       "| 5 | 1331901000 | CGUBcoXKxBE8gTNl   | 192.168.202.79 | 46119 | 192.168.229.254 | 443 | tcp | ssl  | 0.020000 | 544 | 1060 | SF | - | 0 | ShADadfFr | 8 | 968 | 13 | 1744 | (empty) |\n",
       "| 6 | 1331901000 | CRksHc2i8qahpGOP19 | 192.168.202.79 | 46121 | 192.168.229.254 | 443 | tcp | ssl  | 0.010000 | 544 | 1060 | SF | - | 0 | ShADadfFr | 8 | 968 | 13 | 1744 | (empty) |\n",
       "\n"
      ],
      "text/plain": [
       "  V1         V2                 V3             V4    V5              V6  V7 \n",
       "1 1331901000 CCUIP21wTjqkj8ZqX5 192.168.202.79 50463 192.168.229.251  80 tcp\n",
       "2 1331901000 Csssjd3tX0yOTPDpng 192.168.202.79 46117 192.168.229.254 443 tcp\n",
       "3 1331901000 CHEt7z3AzG4gyCNgci 192.168.202.79 50465 192.168.229.251  80 tcp\n",
       "4 1331901000 CKnDAp2ohlvN6rpiXl 192.168.202.79 50467 192.168.229.251  80 tcp\n",
       "5 1331901000 CGUBcoXKxBE8gTNl   192.168.202.79 46119 192.168.229.254 443 tcp\n",
       "6 1331901000 CRksHc2i8qahpGOP19 192.168.202.79 46121 192.168.229.254 443 tcp\n",
       "  V8   V9       V10 V11  V12 V13 V14 V15       V16 V17 V18 V19  V20    \n",
       "1 -    -        -   -    SH  -   0   Fa        1    52  1    52 (empty)\n",
       "2 -    -        -   -    SF  -   0   dDafFr    3   382  9   994 (empty)\n",
       "3 http 0.010000 166 214  SF  -   0   ShADfFa   4   382  3   382 (empty)\n",
       "4 http 0.010000 166 214  SF  -   0   ShADfFa   4   382  3   382 (empty)\n",
       "5 ssl  0.020000 544 1060 SF  -   0   ShADadfFr 8   968 13  1744 (empty)\n",
       "6 ssl  0.010000 544 1060 SF  -   0   ShADadfFr 8   968 13  1744 (empty)"
      ]
     },
     "metadata": {},
     "output_type": "display_data"
    }
   ],
   "source": [
    "temp <- tempfile()\n",
    "start <- proc.time()\n",
    "download.file(\"http://www.secrepo.com/maccdc2012/conn.log.gz\",temp)\n",
    "data <- read.table(gzfile(temp))\n",
    "print(\"Data imported in:\")\n",
    "print(seconds_to_period((proc.time()-start)[3]))\n",
    "head(data)"
   ]
  },
  {
   "cell_type": "markdown",
   "metadata": {},
   "source": [
    "No headers by default, so assigned column names (fetched from workshop 4)."
   ]
  },
  {
   "cell_type": "code",
   "execution_count": 4,
   "metadata": {},
   "outputs": [
    {
     "data": {
      "text/html": [
       "<table>\n",
       "<caption>A data.frame: 6 × 20</caption>\n",
       "<thead>\n",
       "\t<tr><th></th><th scope=col>ts</th><th scope=col>uid</th><th scope=col>orig_ip</th><th scope=col>orig_port</th><th scope=col>resp_ip</th><th scope=col>resp_port</th><th scope=col>proto</th><th scope=col>service</th><th scope=col>duration</th><th scope=col>orig_bytes</th><th scope=col>resp_bytes</th><th scope=col>conn_state</th><th scope=col>local_orig</th><th scope=col>missed_bytes</th><th scope=col>history</th><th scope=col>orig_pkts</th><th scope=col>orig_ip_bytes</th><th scope=col>resp_pkts</th><th scope=col>resp_ip_bytes</th><th scope=col>tunnel_parents</th></tr>\n",
       "\t<tr><th></th><th scope=col>&lt;dbl&gt;</th><th scope=col>&lt;chr&gt;</th><th scope=col>&lt;chr&gt;</th><th scope=col>&lt;int&gt;</th><th scope=col>&lt;chr&gt;</th><th scope=col>&lt;int&gt;</th><th scope=col>&lt;chr&gt;</th><th scope=col>&lt;chr&gt;</th><th scope=col>&lt;chr&gt;</th><th scope=col>&lt;chr&gt;</th><th scope=col>&lt;chr&gt;</th><th scope=col>&lt;chr&gt;</th><th scope=col>&lt;chr&gt;</th><th scope=col>&lt;int&gt;</th><th scope=col>&lt;chr&gt;</th><th scope=col>&lt;int&gt;</th><th scope=col>&lt;int&gt;</th><th scope=col>&lt;int&gt;</th><th scope=col>&lt;int&gt;</th><th scope=col>&lt;chr&gt;</th></tr>\n",
       "</thead>\n",
       "<tbody>\n",
       "\t<tr><th scope=row>1</th><td>1331901000</td><td>CCUIP21wTjqkj8ZqX5</td><td>192.168.202.79</td><td>50463</td><td>192.168.229.251</td><td> 80</td><td>tcp</td><td>-   </td><td>-       </td><td>-  </td><td>-   </td><td>SH</td><td>-</td><td>0</td><td>Fa       </td><td>1</td><td> 52</td><td> 1</td><td>  52</td><td>(empty)</td></tr>\n",
       "\t<tr><th scope=row>2</th><td>1331901000</td><td>Csssjd3tX0yOTPDpng</td><td>192.168.202.79</td><td>46117</td><td>192.168.229.254</td><td>443</td><td>tcp</td><td>-   </td><td>-       </td><td>-  </td><td>-   </td><td>SF</td><td>-</td><td>0</td><td>dDafFr   </td><td>3</td><td>382</td><td> 9</td><td> 994</td><td>(empty)</td></tr>\n",
       "\t<tr><th scope=row>3</th><td>1331901000</td><td>CHEt7z3AzG4gyCNgci</td><td>192.168.202.79</td><td>50465</td><td>192.168.229.251</td><td> 80</td><td>tcp</td><td>http</td><td>0.010000</td><td>166</td><td>214 </td><td>SF</td><td>-</td><td>0</td><td>ShADfFa  </td><td>4</td><td>382</td><td> 3</td><td> 382</td><td>(empty)</td></tr>\n",
       "\t<tr><th scope=row>4</th><td>1331901000</td><td>CKnDAp2ohlvN6rpiXl</td><td>192.168.202.79</td><td>50467</td><td>192.168.229.251</td><td> 80</td><td>tcp</td><td>http</td><td>0.010000</td><td>166</td><td>214 </td><td>SF</td><td>-</td><td>0</td><td>ShADfFa  </td><td>4</td><td>382</td><td> 3</td><td> 382</td><td>(empty)</td></tr>\n",
       "\t<tr><th scope=row>5</th><td>1331901000</td><td>CGUBcoXKxBE8gTNl  </td><td>192.168.202.79</td><td>46119</td><td>192.168.229.254</td><td>443</td><td>tcp</td><td>ssl </td><td>0.020000</td><td>544</td><td>1060</td><td>SF</td><td>-</td><td>0</td><td>ShADadfFr</td><td>8</td><td>968</td><td>13</td><td>1744</td><td>(empty)</td></tr>\n",
       "\t<tr><th scope=row>6</th><td>1331901000</td><td>CRksHc2i8qahpGOP19</td><td>192.168.202.79</td><td>46121</td><td>192.168.229.254</td><td>443</td><td>tcp</td><td>ssl </td><td>0.010000</td><td>544</td><td>1060</td><td>SF</td><td>-</td><td>0</td><td>ShADadfFr</td><td>8</td><td>968</td><td>13</td><td>1744</td><td>(empty)</td></tr>\n",
       "</tbody>\n",
       "</table>\n"
      ],
      "text/latex": [
       "A data.frame: 6 × 20\n",
       "\\begin{tabular}{r|llllllllllllllllllll}\n",
       "  & ts & uid & orig\\_ip & orig\\_port & resp\\_ip & resp\\_port & proto & service & duration & orig\\_bytes & resp\\_bytes & conn\\_state & local\\_orig & missed\\_bytes & history & orig\\_pkts & orig\\_ip\\_bytes & resp\\_pkts & resp\\_ip\\_bytes & tunnel\\_parents\\\\\n",
       "  & <dbl> & <chr> & <chr> & <int> & <chr> & <int> & <chr> & <chr> & <chr> & <chr> & <chr> & <chr> & <chr> & <int> & <chr> & <int> & <int> & <int> & <int> & <chr>\\\\\n",
       "\\hline\n",
       "\t1 & 1331901000 & CCUIP21wTjqkj8ZqX5 & 192.168.202.79 & 50463 & 192.168.229.251 &  80 & tcp & -    & -        & -   & -    & SH & - & 0 & Fa        & 1 &  52 &  1 &   52 & (empty)\\\\\n",
       "\t2 & 1331901000 & Csssjd3tX0yOTPDpng & 192.168.202.79 & 46117 & 192.168.229.254 & 443 & tcp & -    & -        & -   & -    & SF & - & 0 & dDafFr    & 3 & 382 &  9 &  994 & (empty)\\\\\n",
       "\t3 & 1331901000 & CHEt7z3AzG4gyCNgci & 192.168.202.79 & 50465 & 192.168.229.251 &  80 & tcp & http & 0.010000 & 166 & 214  & SF & - & 0 & ShADfFa   & 4 & 382 &  3 &  382 & (empty)\\\\\n",
       "\t4 & 1331901000 & CKnDAp2ohlvN6rpiXl & 192.168.202.79 & 50467 & 192.168.229.251 &  80 & tcp & http & 0.010000 & 166 & 214  & SF & - & 0 & ShADfFa   & 4 & 382 &  3 &  382 & (empty)\\\\\n",
       "\t5 & 1331901000 & CGUBcoXKxBE8gTNl   & 192.168.202.79 & 46119 & 192.168.229.254 & 443 & tcp & ssl  & 0.020000 & 544 & 1060 & SF & - & 0 & ShADadfFr & 8 & 968 & 13 & 1744 & (empty)\\\\\n",
       "\t6 & 1331901000 & CRksHc2i8qahpGOP19 & 192.168.202.79 & 46121 & 192.168.229.254 & 443 & tcp & ssl  & 0.010000 & 544 & 1060 & SF & - & 0 & ShADadfFr & 8 & 968 & 13 & 1744 & (empty)\\\\\n",
       "\\end{tabular}\n"
      ],
      "text/markdown": [
       "\n",
       "A data.frame: 6 × 20\n",
       "\n",
       "| <!--/--> | ts &lt;dbl&gt; | uid &lt;chr&gt; | orig_ip &lt;chr&gt; | orig_port &lt;int&gt; | resp_ip &lt;chr&gt; | resp_port &lt;int&gt; | proto &lt;chr&gt; | service &lt;chr&gt; | duration &lt;chr&gt; | orig_bytes &lt;chr&gt; | resp_bytes &lt;chr&gt; | conn_state &lt;chr&gt; | local_orig &lt;chr&gt; | missed_bytes &lt;int&gt; | history &lt;chr&gt; | orig_pkts &lt;int&gt; | orig_ip_bytes &lt;int&gt; | resp_pkts &lt;int&gt; | resp_ip_bytes &lt;int&gt; | tunnel_parents &lt;chr&gt; |\n",
       "|---|---|---|---|---|---|---|---|---|---|---|---|---|---|---|---|---|---|---|---|---|\n",
       "| 1 | 1331901000 | CCUIP21wTjqkj8ZqX5 | 192.168.202.79 | 50463 | 192.168.229.251 |  80 | tcp | -    | -        | -   | -    | SH | - | 0 | Fa        | 1 |  52 |  1 |   52 | (empty) |\n",
       "| 2 | 1331901000 | Csssjd3tX0yOTPDpng | 192.168.202.79 | 46117 | 192.168.229.254 | 443 | tcp | -    | -        | -   | -    | SF | - | 0 | dDafFr    | 3 | 382 |  9 |  994 | (empty) |\n",
       "| 3 | 1331901000 | CHEt7z3AzG4gyCNgci | 192.168.202.79 | 50465 | 192.168.229.251 |  80 | tcp | http | 0.010000 | 166 | 214  | SF | - | 0 | ShADfFa   | 4 | 382 |  3 |  382 | (empty) |\n",
       "| 4 | 1331901000 | CKnDAp2ohlvN6rpiXl | 192.168.202.79 | 50467 | 192.168.229.251 |  80 | tcp | http | 0.010000 | 166 | 214  | SF | - | 0 | ShADfFa   | 4 | 382 |  3 |  382 | (empty) |\n",
       "| 5 | 1331901000 | CGUBcoXKxBE8gTNl   | 192.168.202.79 | 46119 | 192.168.229.254 | 443 | tcp | ssl  | 0.020000 | 544 | 1060 | SF | - | 0 | ShADadfFr | 8 | 968 | 13 | 1744 | (empty) |\n",
       "| 6 | 1331901000 | CRksHc2i8qahpGOP19 | 192.168.202.79 | 46121 | 192.168.229.254 | 443 | tcp | ssl  | 0.010000 | 544 | 1060 | SF | - | 0 | ShADadfFr | 8 | 968 | 13 | 1744 | (empty) |\n",
       "\n"
      ],
      "text/plain": [
       "  ts         uid                orig_ip        orig_port resp_ip        \n",
       "1 1331901000 CCUIP21wTjqkj8ZqX5 192.168.202.79 50463     192.168.229.251\n",
       "2 1331901000 Csssjd3tX0yOTPDpng 192.168.202.79 46117     192.168.229.254\n",
       "3 1331901000 CHEt7z3AzG4gyCNgci 192.168.202.79 50465     192.168.229.251\n",
       "4 1331901000 CKnDAp2ohlvN6rpiXl 192.168.202.79 50467     192.168.229.251\n",
       "5 1331901000 CGUBcoXKxBE8gTNl   192.168.202.79 46119     192.168.229.254\n",
       "6 1331901000 CRksHc2i8qahpGOP19 192.168.202.79 46121     192.168.229.254\n",
       "  resp_port proto service duration orig_bytes resp_bytes conn_state local_orig\n",
       "1  80       tcp   -       -        -          -          SH         -         \n",
       "2 443       tcp   -       -        -          -          SF         -         \n",
       "3  80       tcp   http    0.010000 166        214        SF         -         \n",
       "4  80       tcp   http    0.010000 166        214        SF         -         \n",
       "5 443       tcp   ssl     0.020000 544        1060       SF         -         \n",
       "6 443       tcp   ssl     0.010000 544        1060       SF         -         \n",
       "  missed_bytes history   orig_pkts orig_ip_bytes resp_pkts resp_ip_bytes\n",
       "1 0            Fa        1          52            1          52         \n",
       "2 0            dDafFr    3         382            9         994         \n",
       "3 0            ShADfFa   4         382            3         382         \n",
       "4 0            ShADfFa   4         382            3         382         \n",
       "5 0            ShADadfFr 8         968           13        1744         \n",
       "6 0            ShADadfFr 8         968           13        1744         \n",
       "  tunnel_parents\n",
       "1 (empty)       \n",
       "2 (empty)       \n",
       "3 (empty)       \n",
       "4 (empty)       \n",
       "5 (empty)       \n",
       "6 (empty)       "
      ]
     },
     "metadata": {},
     "output_type": "display_data"
    }
   ],
   "source": [
    "colnames(data) <- c(\"ts\",\"uid\",\"orig_ip\",\"orig_port\",\"resp_ip\",\"resp_port\",\"proto\",\"service\",\"duration\",\"orig_bytes\",\"resp_bytes\",\"conn_state\",\"local_orig\",\n",
    "                    \"missed_bytes\",\"history\",\"orig_pkts\",\"orig_ip_bytes\",\"resp_pkts\",\"resp_ip_bytes\",\"tunnel_parents\")\n",
    "head(data)"
   ]
  },
  {
   "cell_type": "markdown",
   "metadata": {},
   "source": [
    "Convert to data.table as this is easier to sample with. We set a 5% sample size indicated by `0.05*nrow(df)`. Also we set a seed so if I was to repeat this the same sample would be taken."
   ]
  },
  {
   "cell_type": "code",
   "execution_count": 5,
   "metadata": {},
   "outputs": [
    {
     "name": "stdout",
     "output_type": "stream",
     "text": [
      "[1] \"3.30999999999995S\"\n"
     ]
    },
    {
     "data": {
      "text/html": [
       "1134717"
      ],
      "text/latex": [
       "1134717"
      ],
      "text/markdown": [
       "1134717"
      ],
      "text/plain": [
       "[1] 1134717"
      ]
     },
     "metadata": {},
     "output_type": "display_data"
    }
   ],
   "source": [
    "df <- data.table(data)\n",
    "\n",
    "set.seed(462)\n",
    "start <- proc.time()\n",
    "smp_size <- 0.05*nrow(df)\n",
    "five_perc_data <- df[sample(.N,smp_size)]\n",
    "print(seconds_to_period((proc.time()-start)[3]))\n",
    "nrow(five_perc_data)"
   ]
  },
  {
   "cell_type": "code",
   "execution_count": 7,
   "metadata": {
    "collapsed": true,
    "jupyter": {
     "outputs_hidden": true
    }
   },
   "outputs": [
    {
     "ename": "ERROR",
     "evalue": "Error: cannot allocate vector of size 86.6 Mb\n",
     "output_type": "error",
     "traceback": [
      "Error: cannot allocate vector of size 86.6 Mb\nTraceback:\n",
      "1. data.table(data)",
      "2. as.data.table.list(x, keep.rownames = keep.rownames, check.names = check.names, \n .     .named = nd$.named)",
      "3. recycle(xi[[j]], nrow)",
      "4. copy(x)"
     ]
    }
   ],
   "source": [
    "df2 <- data.table(data)\n",
    "\n",
    "five_perc_data_head <- head(df2,smp_size)"
   ]
  },
  {
   "cell_type": "code",
   "execution_count": 9,
   "metadata": {},
   "outputs": [
    {
     "data": {
      "text/html": [
       "1134717"
      ],
      "text/latex": [
       "1134717"
      ],
      "text/markdown": [
       "1134717"
      ],
      "text/plain": [
       "[1] 1134717"
      ]
     },
     "metadata": {},
     "output_type": "display_data"
    },
    {
     "data": {
      "text/html": [
       "<table>\n",
       "<caption>A data.table: 20 × 20</caption>\n",
       "<thead>\n",
       "\t<tr><th scope=col>ts</th><th scope=col>uid</th><th scope=col>orig_ip</th><th scope=col>orig_port</th><th scope=col>resp_ip</th><th scope=col>resp_port</th><th scope=col>proto</th><th scope=col>service</th><th scope=col>duration</th><th scope=col>orig_bytes</th><th scope=col>resp_bytes</th><th scope=col>conn_state</th><th scope=col>local_orig</th><th scope=col>missed_bytes</th><th scope=col>history</th><th scope=col>orig_pkts</th><th scope=col>orig_ip_bytes</th><th scope=col>resp_pkts</th><th scope=col>resp_ip_bytes</th><th scope=col>tunnel_parents</th></tr>\n",
       "\t<tr><th scope=col>&lt;dbl&gt;</th><th scope=col>&lt;chr&gt;</th><th scope=col>&lt;chr&gt;</th><th scope=col>&lt;int&gt;</th><th scope=col>&lt;chr&gt;</th><th scope=col>&lt;int&gt;</th><th scope=col>&lt;chr&gt;</th><th scope=col>&lt;chr&gt;</th><th scope=col>&lt;chr&gt;</th><th scope=col>&lt;chr&gt;</th><th scope=col>&lt;chr&gt;</th><th scope=col>&lt;chr&gt;</th><th scope=col>&lt;chr&gt;</th><th scope=col>&lt;int&gt;</th><th scope=col>&lt;chr&gt;</th><th scope=col>&lt;int&gt;</th><th scope=col>&lt;int&gt;</th><th scope=col>&lt;int&gt;</th><th scope=col>&lt;int&gt;</th><th scope=col>&lt;chr&gt;</th></tr>\n",
       "</thead>\n",
       "<tbody>\n",
       "\t<tr><td>1331901000</td><td>CCUIP21wTjqkj8ZqX5</td><td>192.168.202.79</td><td>50463</td><td>192.168.229.251</td><td> 80</td><td>tcp</td><td>-   </td><td>-       </td><td>-  </td><td>-   </td><td>SH</td><td>-</td><td>0</td><td>Fa       </td><td>1</td><td> 52</td><td> 1</td><td>  52</td><td>(empty)</td></tr>\n",
       "\t<tr><td>1331901000</td><td>Csssjd3tX0yOTPDpng</td><td>192.168.202.79</td><td>46117</td><td>192.168.229.254</td><td>443</td><td>tcp</td><td>-   </td><td>-       </td><td>-  </td><td>-   </td><td>SF</td><td>-</td><td>0</td><td>dDafFr   </td><td>3</td><td>382</td><td> 9</td><td> 994</td><td>(empty)</td></tr>\n",
       "\t<tr><td>1331901000</td><td>CHEt7z3AzG4gyCNgci</td><td>192.168.202.79</td><td>50465</td><td>192.168.229.251</td><td> 80</td><td>tcp</td><td>http</td><td>0.010000</td><td>166</td><td>214 </td><td>SF</td><td>-</td><td>0</td><td>ShADfFa  </td><td>4</td><td>382</td><td> 3</td><td> 382</td><td>(empty)</td></tr>\n",
       "\t<tr><td>1331901000</td><td>CKnDAp2ohlvN6rpiXl</td><td>192.168.202.79</td><td>50467</td><td>192.168.229.251</td><td> 80</td><td>tcp</td><td>http</td><td>0.010000</td><td>166</td><td>214 </td><td>SF</td><td>-</td><td>0</td><td>ShADfFa  </td><td>4</td><td>382</td><td> 3</td><td> 382</td><td>(empty)</td></tr>\n",
       "\t<tr><td>1331901000</td><td>CGUBcoXKxBE8gTNl  </td><td>192.168.202.79</td><td>46119</td><td>192.168.229.254</td><td>443</td><td>tcp</td><td>ssl </td><td>0.020000</td><td>544</td><td>1060</td><td>SF</td><td>-</td><td>0</td><td>ShADadfFr</td><td>8</td><td>968</td><td>13</td><td>1744</td><td>(empty)</td></tr>\n",
       "\t<tr><td>1331901000</td><td>CRksHc2i8qahpGOP19</td><td>192.168.202.79</td><td>46121</td><td>192.168.229.254</td><td>443</td><td>tcp</td><td>ssl </td><td>0.010000</td><td>544</td><td>1060</td><td>SF</td><td>-</td><td>0</td><td>ShADadfFr</td><td>8</td><td>968</td><td>13</td><td>1744</td><td>(empty)</td></tr>\n",
       "\t<tr><td>1331901000</td><td>C56nlH3SloWOj44ABi</td><td>192.168.202.79</td><td>46123</td><td>192.168.229.254</td><td>443</td><td>tcp</td><td>ssl </td><td>0.010000</td><td>548</td><td>1060</td><td>SF</td><td>-</td><td>0</td><td>ShADadfFr</td><td>8</td><td>972</td><td>13</td><td>1744</td><td>(empty)</td></tr>\n",
       "\t<tr><td>1331901000</td><td>CNTrjn42F3LB58MZH6</td><td>192.168.202.79</td><td>50469</td><td>192.168.229.251</td><td> 80</td><td>tcp</td><td>http</td><td>0.020000</td><td>166</td><td>214 </td><td>SF</td><td>-</td><td>0</td><td>ShADfFa  </td><td>4</td><td>382</td><td> 3</td><td> 382</td><td>(empty)</td></tr>\n",
       "\t<tr><td>1331901000</td><td>C1D7mK1PlzKEnEyG03</td><td>192.168.202.79</td><td>50471</td><td>192.168.229.251</td><td> 80</td><td>tcp</td><td>http</td><td>0.010000</td><td>166</td><td>214 </td><td>SF</td><td>-</td><td>0</td><td>ShADfFa  </td><td>4</td><td>382</td><td> 3</td><td> 382</td><td>(empty)</td></tr>\n",
       "\t<tr><td>1331901000</td><td>CGF1bVMyl9ALKI32l </td><td>192.168.202.79</td><td>50473</td><td>192.168.229.251</td><td> 80</td><td>tcp</td><td>http</td><td>0.010000</td><td>164</td><td>214 </td><td>SF</td><td>-</td><td>0</td><td>ShADfFa  </td><td>4</td><td>380</td><td> 3</td><td> 382</td><td>(empty)</td></tr>\n",
       "\t<tr><td>1331901000</td><td>CC6D613v9i3xbmQbAf</td><td>192.168.202.79</td><td>46125</td><td>192.168.229.254</td><td>443</td><td>tcp</td><td>ssl </td><td>0.020000</td><td>548</td><td>1060</td><td>SF</td><td>-</td><td>0</td><td>ShADadfrF</td><td>8</td><td>972</td><td>13</td><td>1744</td><td>(empty)</td></tr>\n",
       "\t<tr><td>1331901000</td><td>C5hpJ62EKjvbtDNVr8</td><td>192.168.202.79</td><td>46127</td><td>192.168.229.254</td><td>443</td><td>tcp</td><td>ssl </td><td>0.010000</td><td>544</td><td>1060</td><td>SF</td><td>-</td><td>0</td><td>ShADadfFr</td><td>8</td><td>968</td><td>13</td><td>1744</td><td>(empty)</td></tr>\n",
       "\t<tr><td>1331901000</td><td>CQ7uZu2HtGNngGZl5c</td><td>192.168.202.79</td><td>50475</td><td>192.168.229.251</td><td> 80</td><td>tcp</td><td>http</td><td>0.020000</td><td>164</td><td>214 </td><td>SF</td><td>-</td><td>0</td><td>ShADfFa  </td><td>4</td><td>380</td><td> 3</td><td> 382</td><td>(empty)</td></tr>\n",
       "\t<tr><td>1331901000</td><td>Cozi0S1MAcO3HMgufa</td><td>192.168.202.79</td><td>46129</td><td>192.168.229.254</td><td>443</td><td>tcp</td><td>ssl </td><td>0.010000</td><td>548</td><td>1060</td><td>SF</td><td>-</td><td>0</td><td>ShADadfFr</td><td>8</td><td>972</td><td>13</td><td>1744</td><td>(empty)</td></tr>\n",
       "\t<tr><td>1331901000</td><td>COdckp4ZoGPteMJ2E4</td><td>192.168.202.79</td><td>50477</td><td>192.168.229.251</td><td> 80</td><td>tcp</td><td>http</td><td>0.010000</td><td>164</td><td>214 </td><td>SF</td><td>-</td><td>0</td><td>ShADfFa  </td><td>4</td><td>380</td><td> 3</td><td> 382</td><td>(empty)</td></tr>\n",
       "\t<tr><td>1331901000</td><td>CzhIEIizmxUoN6gP7 </td><td>192.168.202.79</td><td>50479</td><td>192.168.229.251</td><td> 80</td><td>tcp</td><td>http</td><td>0.010000</td><td>166</td><td>214 </td><td>SF</td><td>-</td><td>0</td><td>ShADfFa  </td><td>4</td><td>382</td><td> 3</td><td> 382</td><td>(empty)</td></tr>\n",
       "\t<tr><td>1331901000</td><td>C1XmQf3rzo2wvypAMd</td><td>192.168.202.79</td><td>46131</td><td>192.168.229.254</td><td>443</td><td>tcp</td><td>ssl </td><td>0.010000</td><td>548</td><td>1060</td><td>SF</td><td>-</td><td>0</td><td>ShADadfFr</td><td>8</td><td>972</td><td>13</td><td>1744</td><td>(empty)</td></tr>\n",
       "\t<tr><td>1331901000</td><td>CsgpR24QiH9oSoh3Fh</td><td>192.168.202.79</td><td>46133</td><td>192.168.229.254</td><td>443</td><td>tcp</td><td>ssl </td><td>0.010000</td><td>548</td><td>1060</td><td>SF</td><td>-</td><td>0</td><td>ShADadfFr</td><td>8</td><td>972</td><td>13</td><td>1744</td><td>(empty)</td></tr>\n",
       "\t<tr><td>1331901000</td><td>CkzNrm1sDTsMMEeh9k</td><td>192.168.202.79</td><td>50481</td><td>192.168.229.251</td><td> 80</td><td>tcp</td><td>http</td><td>0.020000</td><td>166</td><td>214 </td><td>SF</td><td>-</td><td>0</td><td>ShADfFa  </td><td>4</td><td>382</td><td> 3</td><td> 382</td><td>(empty)</td></tr>\n",
       "\t<tr><td>1331901000</td><td>C63se02iw8YjdGaMEa</td><td>192.168.202.79</td><td>46135</td><td>192.168.229.254</td><td>443</td><td>tcp</td><td>ssl </td><td>0.010000</td><td>544</td><td>1060</td><td>SF</td><td>-</td><td>0</td><td>ShADadfFr</td><td>8</td><td>968</td><td>13</td><td>1744</td><td>(empty)</td></tr>\n",
       "</tbody>\n",
       "</table>\n"
      ],
      "text/latex": [
       "A data.table: 20 × 20\n",
       "\\begin{tabular}{llllllllllllllllllll}\n",
       " ts & uid & orig\\_ip & orig\\_port & resp\\_ip & resp\\_port & proto & service & duration & orig\\_bytes & resp\\_bytes & conn\\_state & local\\_orig & missed\\_bytes & history & orig\\_pkts & orig\\_ip\\_bytes & resp\\_pkts & resp\\_ip\\_bytes & tunnel\\_parents\\\\\n",
       " <dbl> & <chr> & <chr> & <int> & <chr> & <int> & <chr> & <chr> & <chr> & <chr> & <chr> & <chr> & <chr> & <int> & <chr> & <int> & <int> & <int> & <int> & <chr>\\\\\n",
       "\\hline\n",
       "\t 1331901000 & CCUIP21wTjqkj8ZqX5 & 192.168.202.79 & 50463 & 192.168.229.251 &  80 & tcp & -    & -        & -   & -    & SH & - & 0 & Fa        & 1 &  52 &  1 &   52 & (empty)\\\\\n",
       "\t 1331901000 & Csssjd3tX0yOTPDpng & 192.168.202.79 & 46117 & 192.168.229.254 & 443 & tcp & -    & -        & -   & -    & SF & - & 0 & dDafFr    & 3 & 382 &  9 &  994 & (empty)\\\\\n",
       "\t 1331901000 & CHEt7z3AzG4gyCNgci & 192.168.202.79 & 50465 & 192.168.229.251 &  80 & tcp & http & 0.010000 & 166 & 214  & SF & - & 0 & ShADfFa   & 4 & 382 &  3 &  382 & (empty)\\\\\n",
       "\t 1331901000 & CKnDAp2ohlvN6rpiXl & 192.168.202.79 & 50467 & 192.168.229.251 &  80 & tcp & http & 0.010000 & 166 & 214  & SF & - & 0 & ShADfFa   & 4 & 382 &  3 &  382 & (empty)\\\\\n",
       "\t 1331901000 & CGUBcoXKxBE8gTNl   & 192.168.202.79 & 46119 & 192.168.229.254 & 443 & tcp & ssl  & 0.020000 & 544 & 1060 & SF & - & 0 & ShADadfFr & 8 & 968 & 13 & 1744 & (empty)\\\\\n",
       "\t 1331901000 & CRksHc2i8qahpGOP19 & 192.168.202.79 & 46121 & 192.168.229.254 & 443 & tcp & ssl  & 0.010000 & 544 & 1060 & SF & - & 0 & ShADadfFr & 8 & 968 & 13 & 1744 & (empty)\\\\\n",
       "\t 1331901000 & C56nlH3SloWOj44ABi & 192.168.202.79 & 46123 & 192.168.229.254 & 443 & tcp & ssl  & 0.010000 & 548 & 1060 & SF & - & 0 & ShADadfFr & 8 & 972 & 13 & 1744 & (empty)\\\\\n",
       "\t 1331901000 & CNTrjn42F3LB58MZH6 & 192.168.202.79 & 50469 & 192.168.229.251 &  80 & tcp & http & 0.020000 & 166 & 214  & SF & - & 0 & ShADfFa   & 4 & 382 &  3 &  382 & (empty)\\\\\n",
       "\t 1331901000 & C1D7mK1PlzKEnEyG03 & 192.168.202.79 & 50471 & 192.168.229.251 &  80 & tcp & http & 0.010000 & 166 & 214  & SF & - & 0 & ShADfFa   & 4 & 382 &  3 &  382 & (empty)\\\\\n",
       "\t 1331901000 & CGF1bVMyl9ALKI32l  & 192.168.202.79 & 50473 & 192.168.229.251 &  80 & tcp & http & 0.010000 & 164 & 214  & SF & - & 0 & ShADfFa   & 4 & 380 &  3 &  382 & (empty)\\\\\n",
       "\t 1331901000 & CC6D613v9i3xbmQbAf & 192.168.202.79 & 46125 & 192.168.229.254 & 443 & tcp & ssl  & 0.020000 & 548 & 1060 & SF & - & 0 & ShADadfrF & 8 & 972 & 13 & 1744 & (empty)\\\\\n",
       "\t 1331901000 & C5hpJ62EKjvbtDNVr8 & 192.168.202.79 & 46127 & 192.168.229.254 & 443 & tcp & ssl  & 0.010000 & 544 & 1060 & SF & - & 0 & ShADadfFr & 8 & 968 & 13 & 1744 & (empty)\\\\\n",
       "\t 1331901000 & CQ7uZu2HtGNngGZl5c & 192.168.202.79 & 50475 & 192.168.229.251 &  80 & tcp & http & 0.020000 & 164 & 214  & SF & - & 0 & ShADfFa   & 4 & 380 &  3 &  382 & (empty)\\\\\n",
       "\t 1331901000 & Cozi0S1MAcO3HMgufa & 192.168.202.79 & 46129 & 192.168.229.254 & 443 & tcp & ssl  & 0.010000 & 548 & 1060 & SF & - & 0 & ShADadfFr & 8 & 972 & 13 & 1744 & (empty)\\\\\n",
       "\t 1331901000 & COdckp4ZoGPteMJ2E4 & 192.168.202.79 & 50477 & 192.168.229.251 &  80 & tcp & http & 0.010000 & 164 & 214  & SF & - & 0 & ShADfFa   & 4 & 380 &  3 &  382 & (empty)\\\\\n",
       "\t 1331901000 & CzhIEIizmxUoN6gP7  & 192.168.202.79 & 50479 & 192.168.229.251 &  80 & tcp & http & 0.010000 & 166 & 214  & SF & - & 0 & ShADfFa   & 4 & 382 &  3 &  382 & (empty)\\\\\n",
       "\t 1331901000 & C1XmQf3rzo2wvypAMd & 192.168.202.79 & 46131 & 192.168.229.254 & 443 & tcp & ssl  & 0.010000 & 548 & 1060 & SF & - & 0 & ShADadfFr & 8 & 972 & 13 & 1744 & (empty)\\\\\n",
       "\t 1331901000 & CsgpR24QiH9oSoh3Fh & 192.168.202.79 & 46133 & 192.168.229.254 & 443 & tcp & ssl  & 0.010000 & 548 & 1060 & SF & - & 0 & ShADadfFr & 8 & 972 & 13 & 1744 & (empty)\\\\\n",
       "\t 1331901000 & CkzNrm1sDTsMMEeh9k & 192.168.202.79 & 50481 & 192.168.229.251 &  80 & tcp & http & 0.020000 & 166 & 214  & SF & - & 0 & ShADfFa   & 4 & 382 &  3 &  382 & (empty)\\\\\n",
       "\t 1331901000 & C63se02iw8YjdGaMEa & 192.168.202.79 & 46135 & 192.168.229.254 & 443 & tcp & ssl  & 0.010000 & 544 & 1060 & SF & - & 0 & ShADadfFr & 8 & 968 & 13 & 1744 & (empty)\\\\\n",
       "\\end{tabular}\n"
      ],
      "text/markdown": [
       "\n",
       "A data.table: 20 × 20\n",
       "\n",
       "| ts &lt;dbl&gt; | uid &lt;chr&gt; | orig_ip &lt;chr&gt; | orig_port &lt;int&gt; | resp_ip &lt;chr&gt; | resp_port &lt;int&gt; | proto &lt;chr&gt; | service &lt;chr&gt; | duration &lt;chr&gt; | orig_bytes &lt;chr&gt; | resp_bytes &lt;chr&gt; | conn_state &lt;chr&gt; | local_orig &lt;chr&gt; | missed_bytes &lt;int&gt; | history &lt;chr&gt; | orig_pkts &lt;int&gt; | orig_ip_bytes &lt;int&gt; | resp_pkts &lt;int&gt; | resp_ip_bytes &lt;int&gt; | tunnel_parents &lt;chr&gt; |\n",
       "|---|---|---|---|---|---|---|---|---|---|---|---|---|---|---|---|---|---|---|---|\n",
       "| 1331901000 | CCUIP21wTjqkj8ZqX5 | 192.168.202.79 | 50463 | 192.168.229.251 |  80 | tcp | -    | -        | -   | -    | SH | - | 0 | Fa        | 1 |  52 |  1 |   52 | (empty) |\n",
       "| 1331901000 | Csssjd3tX0yOTPDpng | 192.168.202.79 | 46117 | 192.168.229.254 | 443 | tcp | -    | -        | -   | -    | SF | - | 0 | dDafFr    | 3 | 382 |  9 |  994 | (empty) |\n",
       "| 1331901000 | CHEt7z3AzG4gyCNgci | 192.168.202.79 | 50465 | 192.168.229.251 |  80 | tcp | http | 0.010000 | 166 | 214  | SF | - | 0 | ShADfFa   | 4 | 382 |  3 |  382 | (empty) |\n",
       "| 1331901000 | CKnDAp2ohlvN6rpiXl | 192.168.202.79 | 50467 | 192.168.229.251 |  80 | tcp | http | 0.010000 | 166 | 214  | SF | - | 0 | ShADfFa   | 4 | 382 |  3 |  382 | (empty) |\n",
       "| 1331901000 | CGUBcoXKxBE8gTNl   | 192.168.202.79 | 46119 | 192.168.229.254 | 443 | tcp | ssl  | 0.020000 | 544 | 1060 | SF | - | 0 | ShADadfFr | 8 | 968 | 13 | 1744 | (empty) |\n",
       "| 1331901000 | CRksHc2i8qahpGOP19 | 192.168.202.79 | 46121 | 192.168.229.254 | 443 | tcp | ssl  | 0.010000 | 544 | 1060 | SF | - | 0 | ShADadfFr | 8 | 968 | 13 | 1744 | (empty) |\n",
       "| 1331901000 | C56nlH3SloWOj44ABi | 192.168.202.79 | 46123 | 192.168.229.254 | 443 | tcp | ssl  | 0.010000 | 548 | 1060 | SF | - | 0 | ShADadfFr | 8 | 972 | 13 | 1744 | (empty) |\n",
       "| 1331901000 | CNTrjn42F3LB58MZH6 | 192.168.202.79 | 50469 | 192.168.229.251 |  80 | tcp | http | 0.020000 | 166 | 214  | SF | - | 0 | ShADfFa   | 4 | 382 |  3 |  382 | (empty) |\n",
       "| 1331901000 | C1D7mK1PlzKEnEyG03 | 192.168.202.79 | 50471 | 192.168.229.251 |  80 | tcp | http | 0.010000 | 166 | 214  | SF | - | 0 | ShADfFa   | 4 | 382 |  3 |  382 | (empty) |\n",
       "| 1331901000 | CGF1bVMyl9ALKI32l  | 192.168.202.79 | 50473 | 192.168.229.251 |  80 | tcp | http | 0.010000 | 164 | 214  | SF | - | 0 | ShADfFa   | 4 | 380 |  3 |  382 | (empty) |\n",
       "| 1331901000 | CC6D613v9i3xbmQbAf | 192.168.202.79 | 46125 | 192.168.229.254 | 443 | tcp | ssl  | 0.020000 | 548 | 1060 | SF | - | 0 | ShADadfrF | 8 | 972 | 13 | 1744 | (empty) |\n",
       "| 1331901000 | C5hpJ62EKjvbtDNVr8 | 192.168.202.79 | 46127 | 192.168.229.254 | 443 | tcp | ssl  | 0.010000 | 544 | 1060 | SF | - | 0 | ShADadfFr | 8 | 968 | 13 | 1744 | (empty) |\n",
       "| 1331901000 | CQ7uZu2HtGNngGZl5c | 192.168.202.79 | 50475 | 192.168.229.251 |  80 | tcp | http | 0.020000 | 164 | 214  | SF | - | 0 | ShADfFa   | 4 | 380 |  3 |  382 | (empty) |\n",
       "| 1331901000 | Cozi0S1MAcO3HMgufa | 192.168.202.79 | 46129 | 192.168.229.254 | 443 | tcp | ssl  | 0.010000 | 548 | 1060 | SF | - | 0 | ShADadfFr | 8 | 972 | 13 | 1744 | (empty) |\n",
       "| 1331901000 | COdckp4ZoGPteMJ2E4 | 192.168.202.79 | 50477 | 192.168.229.251 |  80 | tcp | http | 0.010000 | 164 | 214  | SF | - | 0 | ShADfFa   | 4 | 380 |  3 |  382 | (empty) |\n",
       "| 1331901000 | CzhIEIizmxUoN6gP7  | 192.168.202.79 | 50479 | 192.168.229.251 |  80 | tcp | http | 0.010000 | 166 | 214  | SF | - | 0 | ShADfFa   | 4 | 382 |  3 |  382 | (empty) |\n",
       "| 1331901000 | C1XmQf3rzo2wvypAMd | 192.168.202.79 | 46131 | 192.168.229.254 | 443 | tcp | ssl  | 0.010000 | 548 | 1060 | SF | - | 0 | ShADadfFr | 8 | 972 | 13 | 1744 | (empty) |\n",
       "| 1331901000 | CsgpR24QiH9oSoh3Fh | 192.168.202.79 | 46133 | 192.168.229.254 | 443 | tcp | ssl  | 0.010000 | 548 | 1060 | SF | - | 0 | ShADadfFr | 8 | 972 | 13 | 1744 | (empty) |\n",
       "| 1331901000 | CkzNrm1sDTsMMEeh9k | 192.168.202.79 | 50481 | 192.168.229.251 |  80 | tcp | http | 0.020000 | 166 | 214  | SF | - | 0 | ShADfFa   | 4 | 382 |  3 |  382 | (empty) |\n",
       "| 1331901000 | C63se02iw8YjdGaMEa | 192.168.202.79 | 46135 | 192.168.229.254 | 443 | tcp | ssl  | 0.010000 | 544 | 1060 | SF | - | 0 | ShADadfFr | 8 | 968 | 13 | 1744 | (empty) |\n",
       "\n"
      ],
      "text/plain": [
       "   ts         uid                orig_ip        orig_port resp_ip        \n",
       "1  1331901000 CCUIP21wTjqkj8ZqX5 192.168.202.79 50463     192.168.229.251\n",
       "2  1331901000 Csssjd3tX0yOTPDpng 192.168.202.79 46117     192.168.229.254\n",
       "3  1331901000 CHEt7z3AzG4gyCNgci 192.168.202.79 50465     192.168.229.251\n",
       "4  1331901000 CKnDAp2ohlvN6rpiXl 192.168.202.79 50467     192.168.229.251\n",
       "5  1331901000 CGUBcoXKxBE8gTNl   192.168.202.79 46119     192.168.229.254\n",
       "6  1331901000 CRksHc2i8qahpGOP19 192.168.202.79 46121     192.168.229.254\n",
       "7  1331901000 C56nlH3SloWOj44ABi 192.168.202.79 46123     192.168.229.254\n",
       "8  1331901000 CNTrjn42F3LB58MZH6 192.168.202.79 50469     192.168.229.251\n",
       "9  1331901000 C1D7mK1PlzKEnEyG03 192.168.202.79 50471     192.168.229.251\n",
       "10 1331901000 CGF1bVMyl9ALKI32l  192.168.202.79 50473     192.168.229.251\n",
       "11 1331901000 CC6D613v9i3xbmQbAf 192.168.202.79 46125     192.168.229.254\n",
       "12 1331901000 C5hpJ62EKjvbtDNVr8 192.168.202.79 46127     192.168.229.254\n",
       "13 1331901000 CQ7uZu2HtGNngGZl5c 192.168.202.79 50475     192.168.229.251\n",
       "14 1331901000 Cozi0S1MAcO3HMgufa 192.168.202.79 46129     192.168.229.254\n",
       "15 1331901000 COdckp4ZoGPteMJ2E4 192.168.202.79 50477     192.168.229.251\n",
       "16 1331901000 CzhIEIizmxUoN6gP7  192.168.202.79 50479     192.168.229.251\n",
       "17 1331901000 C1XmQf3rzo2wvypAMd 192.168.202.79 46131     192.168.229.254\n",
       "18 1331901000 CsgpR24QiH9oSoh3Fh 192.168.202.79 46133     192.168.229.254\n",
       "19 1331901000 CkzNrm1sDTsMMEeh9k 192.168.202.79 50481     192.168.229.251\n",
       "20 1331901000 C63se02iw8YjdGaMEa 192.168.202.79 46135     192.168.229.254\n",
       "   resp_port proto service duration orig_bytes resp_bytes conn_state local_orig\n",
       "1   80       tcp   -       -        -          -          SH         -         \n",
       "2  443       tcp   -       -        -          -          SF         -         \n",
       "3   80       tcp   http    0.010000 166        214        SF         -         \n",
       "4   80       tcp   http    0.010000 166        214        SF         -         \n",
       "5  443       tcp   ssl     0.020000 544        1060       SF         -         \n",
       "6  443       tcp   ssl     0.010000 544        1060       SF         -         \n",
       "7  443       tcp   ssl     0.010000 548        1060       SF         -         \n",
       "8   80       tcp   http    0.020000 166        214        SF         -         \n",
       "9   80       tcp   http    0.010000 166        214        SF         -         \n",
       "10  80       tcp   http    0.010000 164        214        SF         -         \n",
       "11 443       tcp   ssl     0.020000 548        1060       SF         -         \n",
       "12 443       tcp   ssl     0.010000 544        1060       SF         -         \n",
       "13  80       tcp   http    0.020000 164        214        SF         -         \n",
       "14 443       tcp   ssl     0.010000 548        1060       SF         -         \n",
       "15  80       tcp   http    0.010000 164        214        SF         -         \n",
       "16  80       tcp   http    0.010000 166        214        SF         -         \n",
       "17 443       tcp   ssl     0.010000 548        1060       SF         -         \n",
       "18 443       tcp   ssl     0.010000 548        1060       SF         -         \n",
       "19  80       tcp   http    0.020000 166        214        SF         -         \n",
       "20 443       tcp   ssl     0.010000 544        1060       SF         -         \n",
       "   missed_bytes history   orig_pkts orig_ip_bytes resp_pkts resp_ip_bytes\n",
       "1  0            Fa        1          52            1          52         \n",
       "2  0            dDafFr    3         382            9         994         \n",
       "3  0            ShADfFa   4         382            3         382         \n",
       "4  0            ShADfFa   4         382            3         382         \n",
       "5  0            ShADadfFr 8         968           13        1744         \n",
       "6  0            ShADadfFr 8         968           13        1744         \n",
       "7  0            ShADadfFr 8         972           13        1744         \n",
       "8  0            ShADfFa   4         382            3         382         \n",
       "9  0            ShADfFa   4         382            3         382         \n",
       "10 0            ShADfFa   4         380            3         382         \n",
       "11 0            ShADadfrF 8         972           13        1744         \n",
       "12 0            ShADadfFr 8         968           13        1744         \n",
       "13 0            ShADfFa   4         380            3         382         \n",
       "14 0            ShADadfFr 8         972           13        1744         \n",
       "15 0            ShADfFa   4         380            3         382         \n",
       "16 0            ShADfFa   4         382            3         382         \n",
       "17 0            ShADadfFr 8         972           13        1744         \n",
       "18 0            ShADadfFr 8         972           13        1744         \n",
       "19 0            ShADfFa   4         382            3         382         \n",
       "20 0            ShADadfFr 8         968           13        1744         \n",
       "   tunnel_parents\n",
       "1  (empty)       \n",
       "2  (empty)       \n",
       "3  (empty)       \n",
       "4  (empty)       \n",
       "5  (empty)       \n",
       "6  (empty)       \n",
       "7  (empty)       \n",
       "8  (empty)       \n",
       "9  (empty)       \n",
       "10 (empty)       \n",
       "11 (empty)       \n",
       "12 (empty)       \n",
       "13 (empty)       \n",
       "14 (empty)       \n",
       "15 (empty)       \n",
       "16 (empty)       \n",
       "17 (empty)       \n",
       "18 (empty)       \n",
       "19 (empty)       \n",
       "20 (empty)       "
      ]
     },
     "metadata": {},
     "output_type": "display_data"
    }
   ],
   "source": [
    "nrow(five_perc_data_head)\n",
    "head(five_perc_data_head,20)"
   ]
  },
  {
   "cell_type": "markdown",
   "metadata": {},
   "source": [
    "Write the data to a compressed .csv file, specifiying the path on my PC that GitHubDesktop stores files, so I can push instantly after this has completed."
   ]
  },
  {
   "cell_type": "code",
   "execution_count": 6,
   "metadata": {},
   "outputs": [],
   "source": [
    "write.csv.gz(five_perc_data,\"G:\\\\Users\\\\Gabriel\\\\Documents\\\\Education\\\\UoB\\\\GitHubDesktop\\\\DST-Assessment-02\\\\Data\\\\5_percent_data.csv.gz\",row.names=FALSE)"
   ]
  },
  {
   "cell_type": "markdown",
   "metadata": {},
   "source": [
    "After writing to the file on my PC I pushed to the GitHub repo, and then tested that I could import the data from the repository."
   ]
  },
  {
   "cell_type": "code",
   "execution_count": 7,
   "metadata": {},
   "outputs": [
    {
     "name": "stdout",
     "output_type": "stream",
     "text": [
      "[1] \"Data imported in:\"\n",
      "[1] \"19.5599999999999S\"\n"
     ]
    }
   ],
   "source": [
    "temp2 <- tempfile()\n",
    "start <- proc.time()\n",
    "download.file(\"https://github.com/Galeforse/DST-Assessment-02/raw/main/Data/5_percent_data.csv.gz\",temp2)\n",
    "testdata <- (read.csv(gzfile(temp2)))\n",
    "print(\"Data imported in:\")\n",
    "print(seconds_to_period((proc.time()-start)[3]))"
   ]
  },
  {
   "cell_type": "code",
   "execution_count": 7,
   "metadata": {},
   "outputs": [
    {
     "name": "stdout",
     "output_type": "stream",
     "text": [
      "[1] \"Data imported in:\"\n",
      "[1] \"19.5599999999999S\"\n"
     ]
    }
   ],
   "source": [
    "temp2 <- tempfile()\n",
    "start <- proc.time()\n",
    "download.file(\"https://github.com/Galeforse/DST-Assessment-02/raw/main/Data/5_percent_data.csv.gz\",temp2)\n",
    "testdata <- (read.csv(gzfile(temp2)))\n",
    "print(\"Data imported in:\")\n",
    "print(seconds_to_period((proc.time()-start)[3]))"
   ]
  },
  {
   "cell_type": "markdown",
   "metadata": {},
   "source": [
    "Finally just check that there haven't been any mistakes in writing to a file by comparing the head of the \"five_perc_data\" from earlier in this notebook, and the testdata which is the download of the file we just wrote to csv."
   ]
  },
  {
   "cell_type": "code",
   "execution_count": 8,
   "metadata": {},
   "outputs": [
    {
     "data": {
      "text/html": [
       "<table>\n",
       "<caption>A data.table: 6 × 20</caption>\n",
       "<thead>\n",
       "\t<tr><th scope=col>ts</th><th scope=col>uid</th><th scope=col>orig_ip</th><th scope=col>orig_port</th><th scope=col>resp_ip</th><th scope=col>resp_port</th><th scope=col>proto</th><th scope=col>service</th><th scope=col>duration</th><th scope=col>orig_bytes</th><th scope=col>resp_bytes</th><th scope=col>conn_state</th><th scope=col>local_orig</th><th scope=col>missed_bytes</th><th scope=col>history</th><th scope=col>orig_pkts</th><th scope=col>orig_ip_bytes</th><th scope=col>resp_pkts</th><th scope=col>resp_ip_bytes</th><th scope=col>tunnel_parents</th></tr>\n",
       "\t<tr><th scope=col>&lt;dbl&gt;</th><th scope=col>&lt;chr&gt;</th><th scope=col>&lt;chr&gt;</th><th scope=col>&lt;int&gt;</th><th scope=col>&lt;chr&gt;</th><th scope=col>&lt;int&gt;</th><th scope=col>&lt;chr&gt;</th><th scope=col>&lt;chr&gt;</th><th scope=col>&lt;chr&gt;</th><th scope=col>&lt;chr&gt;</th><th scope=col>&lt;chr&gt;</th><th scope=col>&lt;chr&gt;</th><th scope=col>&lt;chr&gt;</th><th scope=col>&lt;int&gt;</th><th scope=col>&lt;chr&gt;</th><th scope=col>&lt;int&gt;</th><th scope=col>&lt;int&gt;</th><th scope=col>&lt;int&gt;</th><th scope=col>&lt;int&gt;</th><th scope=col>&lt;chr&gt;</th></tr>\n",
       "</thead>\n",
       "<tbody>\n",
       "\t<tr><td>1331915797</td><td>CZUJRC46Q6wtQOeNP3</td><td>192.168.202.102</td><td> 2633</td><td>192.168.23.202</td><td>  80</td><td>tcp</td><td>http</td><td>0.030000</td><td>481</td><td>8133</td><td>RSTO</td><td>-</td><td>0</td><td>ShADadfR</td><td>8</td><td>813</td><td>9</td><td>8505</td><td>(empty)</td></tr>\n",
       "\t<tr><td>1331923392</td><td>CzOKP2pSXugC2sal9 </td><td>192.168.202.110</td><td>11574</td><td>192.168.23.253</td><td>1724</td><td>tcp</td><td>-   </td><td>-       </td><td>-  </td><td>-   </td><td>REJ </td><td>-</td><td>0</td><td>Sr      </td><td>1</td><td> 48</td><td>1</td><td>  40</td><td>(empty)</td></tr>\n",
       "\t<tr><td>1331905217</td><td>CielWk4WifZBSSuWVj</td><td>192.168.202.83 </td><td>41267</td><td>192.168.206.44</td><td>8010</td><td>tcp</td><td>-   </td><td>-       </td><td>-  </td><td>-   </td><td>REJ </td><td>-</td><td>0</td><td>Sr      </td><td>1</td><td> 60</td><td>1</td><td>  40</td><td>(empty)</td></tr>\n",
       "\t<tr><td>1331994375</td><td>CjcMIs277sThEpFtUl</td><td>192.168.202.83 </td><td>58519</td><td>192.168.206.44</td><td>5214</td><td>tcp</td><td>-   </td><td>-       </td><td>-  </td><td>-   </td><td>REJ </td><td>-</td><td>0</td><td>Sr      </td><td>1</td><td> 60</td><td>1</td><td>  40</td><td>(empty)</td></tr>\n",
       "\t<tr><td>1331999507</td><td>CidCth42lwzWXR6rcd</td><td>192.168.202.140</td><td>25774</td><td>192.168.23.252</td><td>1625</td><td>tcp</td><td>-   </td><td>-       </td><td>-  </td><td>-   </td><td>S0  </td><td>-</td><td>0</td><td>S       </td><td>1</td><td> 48</td><td>0</td><td>   0</td><td>(empty)</td></tr>\n",
       "\t<tr><td>1331935766</td><td>CCEUCA3rTrYMRuVtI7</td><td>192.168.202.83 </td><td>60760</td><td>192.168.206.44</td><td>1580</td><td>tcp</td><td>-   </td><td>-       </td><td>-  </td><td>-   </td><td>REJ </td><td>-</td><td>0</td><td>Sr      </td><td>1</td><td> 60</td><td>1</td><td>  40</td><td>(empty)</td></tr>\n",
       "</tbody>\n",
       "</table>\n"
      ],
      "text/latex": [
       "A data.table: 6 × 20\n",
       "\\begin{tabular}{llllllllllllllllllll}\n",
       " ts & uid & orig\\_ip & orig\\_port & resp\\_ip & resp\\_port & proto & service & duration & orig\\_bytes & resp\\_bytes & conn\\_state & local\\_orig & missed\\_bytes & history & orig\\_pkts & orig\\_ip\\_bytes & resp\\_pkts & resp\\_ip\\_bytes & tunnel\\_parents\\\\\n",
       " <dbl> & <chr> & <chr> & <int> & <chr> & <int> & <chr> & <chr> & <chr> & <chr> & <chr> & <chr> & <chr> & <int> & <chr> & <int> & <int> & <int> & <int> & <chr>\\\\\n",
       "\\hline\n",
       "\t 1331915797 & CZUJRC46Q6wtQOeNP3 & 192.168.202.102 &  2633 & 192.168.23.202 &   80 & tcp & http & 0.030000 & 481 & 8133 & RSTO & - & 0 & ShADadfR & 8 & 813 & 9 & 8505 & (empty)\\\\\n",
       "\t 1331923392 & CzOKP2pSXugC2sal9  & 192.168.202.110 & 11574 & 192.168.23.253 & 1724 & tcp & -    & -        & -   & -    & REJ  & - & 0 & Sr       & 1 &  48 & 1 &   40 & (empty)\\\\\n",
       "\t 1331905217 & CielWk4WifZBSSuWVj & 192.168.202.83  & 41267 & 192.168.206.44 & 8010 & tcp & -    & -        & -   & -    & REJ  & - & 0 & Sr       & 1 &  60 & 1 &   40 & (empty)\\\\\n",
       "\t 1331994375 & CjcMIs277sThEpFtUl & 192.168.202.83  & 58519 & 192.168.206.44 & 5214 & tcp & -    & -        & -   & -    & REJ  & - & 0 & Sr       & 1 &  60 & 1 &   40 & (empty)\\\\\n",
       "\t 1331999507 & CidCth42lwzWXR6rcd & 192.168.202.140 & 25774 & 192.168.23.252 & 1625 & tcp & -    & -        & -   & -    & S0   & - & 0 & S        & 1 &  48 & 0 &    0 & (empty)\\\\\n",
       "\t 1331935766 & CCEUCA3rTrYMRuVtI7 & 192.168.202.83  & 60760 & 192.168.206.44 & 1580 & tcp & -    & -        & -   & -    & REJ  & - & 0 & Sr       & 1 &  60 & 1 &   40 & (empty)\\\\\n",
       "\\end{tabular}\n"
      ],
      "text/markdown": [
       "\n",
       "A data.table: 6 × 20\n",
       "\n",
       "| ts &lt;dbl&gt; | uid &lt;chr&gt; | orig_ip &lt;chr&gt; | orig_port &lt;int&gt; | resp_ip &lt;chr&gt; | resp_port &lt;int&gt; | proto &lt;chr&gt; | service &lt;chr&gt; | duration &lt;chr&gt; | orig_bytes &lt;chr&gt; | resp_bytes &lt;chr&gt; | conn_state &lt;chr&gt; | local_orig &lt;chr&gt; | missed_bytes &lt;int&gt; | history &lt;chr&gt; | orig_pkts &lt;int&gt; | orig_ip_bytes &lt;int&gt; | resp_pkts &lt;int&gt; | resp_ip_bytes &lt;int&gt; | tunnel_parents &lt;chr&gt; |\n",
       "|---|---|---|---|---|---|---|---|---|---|---|---|---|---|---|---|---|---|---|---|\n",
       "| 1331915797 | CZUJRC46Q6wtQOeNP3 | 192.168.202.102 |  2633 | 192.168.23.202 |   80 | tcp | http | 0.030000 | 481 | 8133 | RSTO | - | 0 | ShADadfR | 8 | 813 | 9 | 8505 | (empty) |\n",
       "| 1331923392 | CzOKP2pSXugC2sal9  | 192.168.202.110 | 11574 | 192.168.23.253 | 1724 | tcp | -    | -        | -   | -    | REJ  | - | 0 | Sr       | 1 |  48 | 1 |   40 | (empty) |\n",
       "| 1331905217 | CielWk4WifZBSSuWVj | 192.168.202.83  | 41267 | 192.168.206.44 | 8010 | tcp | -    | -        | -   | -    | REJ  | - | 0 | Sr       | 1 |  60 | 1 |   40 | (empty) |\n",
       "| 1331994375 | CjcMIs277sThEpFtUl | 192.168.202.83  | 58519 | 192.168.206.44 | 5214 | tcp | -    | -        | -   | -    | REJ  | - | 0 | Sr       | 1 |  60 | 1 |   40 | (empty) |\n",
       "| 1331999507 | CidCth42lwzWXR6rcd | 192.168.202.140 | 25774 | 192.168.23.252 | 1625 | tcp | -    | -        | -   | -    | S0   | - | 0 | S        | 1 |  48 | 0 |    0 | (empty) |\n",
       "| 1331935766 | CCEUCA3rTrYMRuVtI7 | 192.168.202.83  | 60760 | 192.168.206.44 | 1580 | tcp | -    | -        | -   | -    | REJ  | - | 0 | Sr       | 1 |  60 | 1 |   40 | (empty) |\n",
       "\n"
      ],
      "text/plain": [
       "  ts         uid                orig_ip         orig_port resp_ip       \n",
       "1 1331915797 CZUJRC46Q6wtQOeNP3 192.168.202.102  2633     192.168.23.202\n",
       "2 1331923392 CzOKP2pSXugC2sal9  192.168.202.110 11574     192.168.23.253\n",
       "3 1331905217 CielWk4WifZBSSuWVj 192.168.202.83  41267     192.168.206.44\n",
       "4 1331994375 CjcMIs277sThEpFtUl 192.168.202.83  58519     192.168.206.44\n",
       "5 1331999507 CidCth42lwzWXR6rcd 192.168.202.140 25774     192.168.23.252\n",
       "6 1331935766 CCEUCA3rTrYMRuVtI7 192.168.202.83  60760     192.168.206.44\n",
       "  resp_port proto service duration orig_bytes resp_bytes conn_state local_orig\n",
       "1   80      tcp   http    0.030000 481        8133       RSTO       -         \n",
       "2 1724      tcp   -       -        -          -          REJ        -         \n",
       "3 8010      tcp   -       -        -          -          REJ        -         \n",
       "4 5214      tcp   -       -        -          -          REJ        -         \n",
       "5 1625      tcp   -       -        -          -          S0         -         \n",
       "6 1580      tcp   -       -        -          -          REJ        -         \n",
       "  missed_bytes history  orig_pkts orig_ip_bytes resp_pkts resp_ip_bytes\n",
       "1 0            ShADadfR 8         813           9         8505         \n",
       "2 0            Sr       1          48           1           40         \n",
       "3 0            Sr       1          60           1           40         \n",
       "4 0            Sr       1          60           1           40         \n",
       "5 0            S        1          48           0            0         \n",
       "6 0            Sr       1          60           1           40         \n",
       "  tunnel_parents\n",
       "1 (empty)       \n",
       "2 (empty)       \n",
       "3 (empty)       \n",
       "4 (empty)       \n",
       "5 (empty)       \n",
       "6 (empty)       "
      ]
     },
     "metadata": {},
     "output_type": "display_data"
    },
    {
     "data": {
      "text/html": [
       "<table>\n",
       "<caption>A data.frame: 6 × 20</caption>\n",
       "<thead>\n",
       "\t<tr><th></th><th scope=col>ts</th><th scope=col>uid</th><th scope=col>orig_ip</th><th scope=col>orig_port</th><th scope=col>resp_ip</th><th scope=col>resp_port</th><th scope=col>proto</th><th scope=col>service</th><th scope=col>duration</th><th scope=col>orig_bytes</th><th scope=col>resp_bytes</th><th scope=col>conn_state</th><th scope=col>local_orig</th><th scope=col>missed_bytes</th><th scope=col>history</th><th scope=col>orig_pkts</th><th scope=col>orig_ip_bytes</th><th scope=col>resp_pkts</th><th scope=col>resp_ip_bytes</th><th scope=col>tunnel_parents</th></tr>\n",
       "\t<tr><th></th><th scope=col>&lt;dbl&gt;</th><th scope=col>&lt;chr&gt;</th><th scope=col>&lt;chr&gt;</th><th scope=col>&lt;int&gt;</th><th scope=col>&lt;chr&gt;</th><th scope=col>&lt;int&gt;</th><th scope=col>&lt;chr&gt;</th><th scope=col>&lt;chr&gt;</th><th scope=col>&lt;chr&gt;</th><th scope=col>&lt;chr&gt;</th><th scope=col>&lt;chr&gt;</th><th scope=col>&lt;chr&gt;</th><th scope=col>&lt;chr&gt;</th><th scope=col>&lt;int&gt;</th><th scope=col>&lt;chr&gt;</th><th scope=col>&lt;int&gt;</th><th scope=col>&lt;int&gt;</th><th scope=col>&lt;int&gt;</th><th scope=col>&lt;int&gt;</th><th scope=col>&lt;chr&gt;</th></tr>\n",
       "</thead>\n",
       "<tbody>\n",
       "\t<tr><th scope=row>1</th><td>1331915797</td><td>CZUJRC46Q6wtQOeNP3</td><td>192.168.202.102</td><td> 2633</td><td>192.168.23.202</td><td>  80</td><td>tcp</td><td>http</td><td>0.030000</td><td>481</td><td>8133</td><td>RSTO</td><td>-</td><td>0</td><td>ShADadfR</td><td>8</td><td>813</td><td>9</td><td>8505</td><td>(empty)</td></tr>\n",
       "\t<tr><th scope=row>2</th><td>1331923392</td><td>CzOKP2pSXugC2sal9 </td><td>192.168.202.110</td><td>11574</td><td>192.168.23.253</td><td>1724</td><td>tcp</td><td>-   </td><td>-       </td><td>-  </td><td>-   </td><td>REJ </td><td>-</td><td>0</td><td>Sr      </td><td>1</td><td> 48</td><td>1</td><td>  40</td><td>(empty)</td></tr>\n",
       "\t<tr><th scope=row>3</th><td>1331905217</td><td>CielWk4WifZBSSuWVj</td><td>192.168.202.83 </td><td>41267</td><td>192.168.206.44</td><td>8010</td><td>tcp</td><td>-   </td><td>-       </td><td>-  </td><td>-   </td><td>REJ </td><td>-</td><td>0</td><td>Sr      </td><td>1</td><td> 60</td><td>1</td><td>  40</td><td>(empty)</td></tr>\n",
       "\t<tr><th scope=row>4</th><td>1331994375</td><td>CjcMIs277sThEpFtUl</td><td>192.168.202.83 </td><td>58519</td><td>192.168.206.44</td><td>5214</td><td>tcp</td><td>-   </td><td>-       </td><td>-  </td><td>-   </td><td>REJ </td><td>-</td><td>0</td><td>Sr      </td><td>1</td><td> 60</td><td>1</td><td>  40</td><td>(empty)</td></tr>\n",
       "\t<tr><th scope=row>5</th><td>1331999507</td><td>CidCth42lwzWXR6rcd</td><td>192.168.202.140</td><td>25774</td><td>192.168.23.252</td><td>1625</td><td>tcp</td><td>-   </td><td>-       </td><td>-  </td><td>-   </td><td>S0  </td><td>-</td><td>0</td><td>S       </td><td>1</td><td> 48</td><td>0</td><td>   0</td><td>(empty)</td></tr>\n",
       "\t<tr><th scope=row>6</th><td>1331935766</td><td>CCEUCA3rTrYMRuVtI7</td><td>192.168.202.83 </td><td>60760</td><td>192.168.206.44</td><td>1580</td><td>tcp</td><td>-   </td><td>-       </td><td>-  </td><td>-   </td><td>REJ </td><td>-</td><td>0</td><td>Sr      </td><td>1</td><td> 60</td><td>1</td><td>  40</td><td>(empty)</td></tr>\n",
       "</tbody>\n",
       "</table>\n"
      ],
      "text/latex": [
       "A data.frame: 6 × 20\n",
       "\\begin{tabular}{r|llllllllllllllllllll}\n",
       "  & ts & uid & orig\\_ip & orig\\_port & resp\\_ip & resp\\_port & proto & service & duration & orig\\_bytes & resp\\_bytes & conn\\_state & local\\_orig & missed\\_bytes & history & orig\\_pkts & orig\\_ip\\_bytes & resp\\_pkts & resp\\_ip\\_bytes & tunnel\\_parents\\\\\n",
       "  & <dbl> & <chr> & <chr> & <int> & <chr> & <int> & <chr> & <chr> & <chr> & <chr> & <chr> & <chr> & <chr> & <int> & <chr> & <int> & <int> & <int> & <int> & <chr>\\\\\n",
       "\\hline\n",
       "\t1 & 1331915797 & CZUJRC46Q6wtQOeNP3 & 192.168.202.102 &  2633 & 192.168.23.202 &   80 & tcp & http & 0.030000 & 481 & 8133 & RSTO & - & 0 & ShADadfR & 8 & 813 & 9 & 8505 & (empty)\\\\\n",
       "\t2 & 1331923392 & CzOKP2pSXugC2sal9  & 192.168.202.110 & 11574 & 192.168.23.253 & 1724 & tcp & -    & -        & -   & -    & REJ  & - & 0 & Sr       & 1 &  48 & 1 &   40 & (empty)\\\\\n",
       "\t3 & 1331905217 & CielWk4WifZBSSuWVj & 192.168.202.83  & 41267 & 192.168.206.44 & 8010 & tcp & -    & -        & -   & -    & REJ  & - & 0 & Sr       & 1 &  60 & 1 &   40 & (empty)\\\\\n",
       "\t4 & 1331994375 & CjcMIs277sThEpFtUl & 192.168.202.83  & 58519 & 192.168.206.44 & 5214 & tcp & -    & -        & -   & -    & REJ  & - & 0 & Sr       & 1 &  60 & 1 &   40 & (empty)\\\\\n",
       "\t5 & 1331999507 & CidCth42lwzWXR6rcd & 192.168.202.140 & 25774 & 192.168.23.252 & 1625 & tcp & -    & -        & -   & -    & S0   & - & 0 & S        & 1 &  48 & 0 &    0 & (empty)\\\\\n",
       "\t6 & 1331935766 & CCEUCA3rTrYMRuVtI7 & 192.168.202.83  & 60760 & 192.168.206.44 & 1580 & tcp & -    & -        & -   & -    & REJ  & - & 0 & Sr       & 1 &  60 & 1 &   40 & (empty)\\\\\n",
       "\\end{tabular}\n"
      ],
      "text/markdown": [
       "\n",
       "A data.frame: 6 × 20\n",
       "\n",
       "| <!--/--> | ts &lt;dbl&gt; | uid &lt;chr&gt; | orig_ip &lt;chr&gt; | orig_port &lt;int&gt; | resp_ip &lt;chr&gt; | resp_port &lt;int&gt; | proto &lt;chr&gt; | service &lt;chr&gt; | duration &lt;chr&gt; | orig_bytes &lt;chr&gt; | resp_bytes &lt;chr&gt; | conn_state &lt;chr&gt; | local_orig &lt;chr&gt; | missed_bytes &lt;int&gt; | history &lt;chr&gt; | orig_pkts &lt;int&gt; | orig_ip_bytes &lt;int&gt; | resp_pkts &lt;int&gt; | resp_ip_bytes &lt;int&gt; | tunnel_parents &lt;chr&gt; |\n",
       "|---|---|---|---|---|---|---|---|---|---|---|---|---|---|---|---|---|---|---|---|---|\n",
       "| 1 | 1331915797 | CZUJRC46Q6wtQOeNP3 | 192.168.202.102 |  2633 | 192.168.23.202 |   80 | tcp | http | 0.030000 | 481 | 8133 | RSTO | - | 0 | ShADadfR | 8 | 813 | 9 | 8505 | (empty) |\n",
       "| 2 | 1331923392 | CzOKP2pSXugC2sal9  | 192.168.202.110 | 11574 | 192.168.23.253 | 1724 | tcp | -    | -        | -   | -    | REJ  | - | 0 | Sr       | 1 |  48 | 1 |   40 | (empty) |\n",
       "| 3 | 1331905217 | CielWk4WifZBSSuWVj | 192.168.202.83  | 41267 | 192.168.206.44 | 8010 | tcp | -    | -        | -   | -    | REJ  | - | 0 | Sr       | 1 |  60 | 1 |   40 | (empty) |\n",
       "| 4 | 1331994375 | CjcMIs277sThEpFtUl | 192.168.202.83  | 58519 | 192.168.206.44 | 5214 | tcp | -    | -        | -   | -    | REJ  | - | 0 | Sr       | 1 |  60 | 1 |   40 | (empty) |\n",
       "| 5 | 1331999507 | CidCth42lwzWXR6rcd | 192.168.202.140 | 25774 | 192.168.23.252 | 1625 | tcp | -    | -        | -   | -    | S0   | - | 0 | S        | 1 |  48 | 0 |    0 | (empty) |\n",
       "| 6 | 1331935766 | CCEUCA3rTrYMRuVtI7 | 192.168.202.83  | 60760 | 192.168.206.44 | 1580 | tcp | -    | -        | -   | -    | REJ  | - | 0 | Sr       | 1 |  60 | 1 |   40 | (empty) |\n",
       "\n"
      ],
      "text/plain": [
       "  ts         uid                orig_ip         orig_port resp_ip       \n",
       "1 1331915797 CZUJRC46Q6wtQOeNP3 192.168.202.102  2633     192.168.23.202\n",
       "2 1331923392 CzOKP2pSXugC2sal9  192.168.202.110 11574     192.168.23.253\n",
       "3 1331905217 CielWk4WifZBSSuWVj 192.168.202.83  41267     192.168.206.44\n",
       "4 1331994375 CjcMIs277sThEpFtUl 192.168.202.83  58519     192.168.206.44\n",
       "5 1331999507 CidCth42lwzWXR6rcd 192.168.202.140 25774     192.168.23.252\n",
       "6 1331935766 CCEUCA3rTrYMRuVtI7 192.168.202.83  60760     192.168.206.44\n",
       "  resp_port proto service duration orig_bytes resp_bytes conn_state local_orig\n",
       "1   80      tcp   http    0.030000 481        8133       RSTO       -         \n",
       "2 1724      tcp   -       -        -          -          REJ        -         \n",
       "3 8010      tcp   -       -        -          -          REJ        -         \n",
       "4 5214      tcp   -       -        -          -          REJ        -         \n",
       "5 1625      tcp   -       -        -          -          S0         -         \n",
       "6 1580      tcp   -       -        -          -          REJ        -         \n",
       "  missed_bytes history  orig_pkts orig_ip_bytes resp_pkts resp_ip_bytes\n",
       "1 0            ShADadfR 8         813           9         8505         \n",
       "2 0            Sr       1          48           1           40         \n",
       "3 0            Sr       1          60           1           40         \n",
       "4 0            Sr       1          60           1           40         \n",
       "5 0            S        1          48           0            0         \n",
       "6 0            Sr       1          60           1           40         \n",
       "  tunnel_parents\n",
       "1 (empty)       \n",
       "2 (empty)       \n",
       "3 (empty)       \n",
       "4 (empty)       \n",
       "5 (empty)       \n",
       "6 (empty)       "
      ]
     },
     "metadata": {},
     "output_type": "display_data"
    }
   ],
   "source": [
    "head(five_perc_data)\n",
    "head(testdata)"
   ]
  },
  {
   "cell_type": "markdown",
   "metadata": {},
   "source": [
    "## References\n",
    "\n",
    "[Stackoverflow link about accessing .gz files](https://stackoverflow.com/questions/3053833/using-r-to-download-zipped-data-file-extract-and-import-data)\n",
    "\n",
    "[Stackoverflow link about splitting data in R](https://stackoverflow.com/questions/17200114/how-to-split-data-into-training-testing-sets-using-sample-function)\n",
    "\n",
    "[Sampling using data.table](https://stackoverflow.com/questions/8273313/sample-random-rows-in-dataframe)"
   ]
  }
 ],
 "metadata": {
  "kernelspec": {
   "display_name": "R",
   "language": "R",
   "name": "ir"
  },
  "language_info": {
   "codemirror_mode": "r",
   "file_extension": ".r",
   "mimetype": "text/x-r-source",
   "name": "R",
   "pygments_lexer": "r",
   "version": "4.0.3"
  }
 },
 "nbformat": 4,
 "nbformat_minor": 4
}
