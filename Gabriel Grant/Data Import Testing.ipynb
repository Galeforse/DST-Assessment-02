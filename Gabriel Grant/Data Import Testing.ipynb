{
 "cells": [
  {
   "cell_type": "markdown",
   "metadata": {},
   "source": [
    "## Assessment 02\n"
   ]
  },
  {
   "cell_type": "code",
   "execution_count": null,
   "metadata": {},
   "outputs": [],
   "source": [
    "install.packages(\"lubridate\",\"caTools\")"
   ]
  },
  {
   "cell_type": "code",
   "execution_count": 2,
   "metadata": {},
   "outputs": [],
   "source": [
    "library(lubridate)\n",
    "library(caTools)\n",
    "library(crunch)"
   ]
  },
  {
   "cell_type": "code",
   "execution_count": 3,
   "metadata": {},
   "outputs": [
    {
     "name": "stdout",
     "output_type": "stream",
     "text": [
      "[1] \"Data imported in:\"\n",
      "[1] \"9M 34.5699999999999S\"\n"
     ]
    },
    {
     "data": {
      "text/html": [
       "<table>\n",
       "<caption>A data.frame: 6 × 20</caption>\n",
       "<thead>\n",
       "\t<tr><th></th><th scope=col>V1</th><th scope=col>V2</th><th scope=col>V3</th><th scope=col>V4</th><th scope=col>V5</th><th scope=col>V6</th><th scope=col>V7</th><th scope=col>V8</th><th scope=col>V9</th><th scope=col>V10</th><th scope=col>V11</th><th scope=col>V12</th><th scope=col>V13</th><th scope=col>V14</th><th scope=col>V15</th><th scope=col>V16</th><th scope=col>V17</th><th scope=col>V18</th><th scope=col>V19</th><th scope=col>V20</th></tr>\n",
       "\t<tr><th></th><th scope=col>&lt;dbl&gt;</th><th scope=col>&lt;chr&gt;</th><th scope=col>&lt;chr&gt;</th><th scope=col>&lt;int&gt;</th><th scope=col>&lt;chr&gt;</th><th scope=col>&lt;int&gt;</th><th scope=col>&lt;chr&gt;</th><th scope=col>&lt;chr&gt;</th><th scope=col>&lt;chr&gt;</th><th scope=col>&lt;chr&gt;</th><th scope=col>&lt;chr&gt;</th><th scope=col>&lt;chr&gt;</th><th scope=col>&lt;chr&gt;</th><th scope=col>&lt;int&gt;</th><th scope=col>&lt;chr&gt;</th><th scope=col>&lt;int&gt;</th><th scope=col>&lt;int&gt;</th><th scope=col>&lt;int&gt;</th><th scope=col>&lt;int&gt;</th><th scope=col>&lt;chr&gt;</th></tr>\n",
       "</thead>\n",
       "<tbody>\n",
       "\t<tr><th scope=row>1</th><td>1331901000</td><td>CCUIP21wTjqkj8ZqX5</td><td>192.168.202.79</td><td>50463</td><td>192.168.229.251</td><td> 80</td><td>tcp</td><td>-   </td><td>-       </td><td>-  </td><td>-   </td><td>SH</td><td>-</td><td>0</td><td>Fa       </td><td>1</td><td> 52</td><td> 1</td><td>  52</td><td>(empty)</td></tr>\n",
       "\t<tr><th scope=row>2</th><td>1331901000</td><td>Csssjd3tX0yOTPDpng</td><td>192.168.202.79</td><td>46117</td><td>192.168.229.254</td><td>443</td><td>tcp</td><td>-   </td><td>-       </td><td>-  </td><td>-   </td><td>SF</td><td>-</td><td>0</td><td>dDafFr   </td><td>3</td><td>382</td><td> 9</td><td> 994</td><td>(empty)</td></tr>\n",
       "\t<tr><th scope=row>3</th><td>1331901000</td><td>CHEt7z3AzG4gyCNgci</td><td>192.168.202.79</td><td>50465</td><td>192.168.229.251</td><td> 80</td><td>tcp</td><td>http</td><td>0.010000</td><td>166</td><td>214 </td><td>SF</td><td>-</td><td>0</td><td>ShADfFa  </td><td>4</td><td>382</td><td> 3</td><td> 382</td><td>(empty)</td></tr>\n",
       "\t<tr><th scope=row>4</th><td>1331901000</td><td>CKnDAp2ohlvN6rpiXl</td><td>192.168.202.79</td><td>50467</td><td>192.168.229.251</td><td> 80</td><td>tcp</td><td>http</td><td>0.010000</td><td>166</td><td>214 </td><td>SF</td><td>-</td><td>0</td><td>ShADfFa  </td><td>4</td><td>382</td><td> 3</td><td> 382</td><td>(empty)</td></tr>\n",
       "\t<tr><th scope=row>5</th><td>1331901000</td><td>CGUBcoXKxBE8gTNl  </td><td>192.168.202.79</td><td>46119</td><td>192.168.229.254</td><td>443</td><td>tcp</td><td>ssl </td><td>0.020000</td><td>544</td><td>1060</td><td>SF</td><td>-</td><td>0</td><td>ShADadfFr</td><td>8</td><td>968</td><td>13</td><td>1744</td><td>(empty)</td></tr>\n",
       "\t<tr><th scope=row>6</th><td>1331901000</td><td>CRksHc2i8qahpGOP19</td><td>192.168.202.79</td><td>46121</td><td>192.168.229.254</td><td>443</td><td>tcp</td><td>ssl </td><td>0.010000</td><td>544</td><td>1060</td><td>SF</td><td>-</td><td>0</td><td>ShADadfFr</td><td>8</td><td>968</td><td>13</td><td>1744</td><td>(empty)</td></tr>\n",
       "</tbody>\n",
       "</table>\n"
      ],
      "text/latex": [
       "A data.frame: 6 × 20\n",
       "\\begin{tabular}{r|llllllllllllllllllll}\n",
       "  & V1 & V2 & V3 & V4 & V5 & V6 & V7 & V8 & V9 & V10 & V11 & V12 & V13 & V14 & V15 & V16 & V17 & V18 & V19 & V20\\\\\n",
       "  & <dbl> & <chr> & <chr> & <int> & <chr> & <int> & <chr> & <chr> & <chr> & <chr> & <chr> & <chr> & <chr> & <int> & <chr> & <int> & <int> & <int> & <int> & <chr>\\\\\n",
       "\\hline\n",
       "\t1 & 1331901000 & CCUIP21wTjqkj8ZqX5 & 192.168.202.79 & 50463 & 192.168.229.251 &  80 & tcp & -    & -        & -   & -    & SH & - & 0 & Fa        & 1 &  52 &  1 &   52 & (empty)\\\\\n",
       "\t2 & 1331901000 & Csssjd3tX0yOTPDpng & 192.168.202.79 & 46117 & 192.168.229.254 & 443 & tcp & -    & -        & -   & -    & SF & - & 0 & dDafFr    & 3 & 382 &  9 &  994 & (empty)\\\\\n",
       "\t3 & 1331901000 & CHEt7z3AzG4gyCNgci & 192.168.202.79 & 50465 & 192.168.229.251 &  80 & tcp & http & 0.010000 & 166 & 214  & SF & - & 0 & ShADfFa   & 4 & 382 &  3 &  382 & (empty)\\\\\n",
       "\t4 & 1331901000 & CKnDAp2ohlvN6rpiXl & 192.168.202.79 & 50467 & 192.168.229.251 &  80 & tcp & http & 0.010000 & 166 & 214  & SF & - & 0 & ShADfFa   & 4 & 382 &  3 &  382 & (empty)\\\\\n",
       "\t5 & 1331901000 & CGUBcoXKxBE8gTNl   & 192.168.202.79 & 46119 & 192.168.229.254 & 443 & tcp & ssl  & 0.020000 & 544 & 1060 & SF & - & 0 & ShADadfFr & 8 & 968 & 13 & 1744 & (empty)\\\\\n",
       "\t6 & 1331901000 & CRksHc2i8qahpGOP19 & 192.168.202.79 & 46121 & 192.168.229.254 & 443 & tcp & ssl  & 0.010000 & 544 & 1060 & SF & - & 0 & ShADadfFr & 8 & 968 & 13 & 1744 & (empty)\\\\\n",
       "\\end{tabular}\n"
      ],
      "text/markdown": [
       "\n",
       "A data.frame: 6 × 20\n",
       "\n",
       "| <!--/--> | V1 &lt;dbl&gt; | V2 &lt;chr&gt; | V3 &lt;chr&gt; | V4 &lt;int&gt; | V5 &lt;chr&gt; | V6 &lt;int&gt; | V7 &lt;chr&gt; | V8 &lt;chr&gt; | V9 &lt;chr&gt; | V10 &lt;chr&gt; | V11 &lt;chr&gt; | V12 &lt;chr&gt; | V13 &lt;chr&gt; | V14 &lt;int&gt; | V15 &lt;chr&gt; | V16 &lt;int&gt; | V17 &lt;int&gt; | V18 &lt;int&gt; | V19 &lt;int&gt; | V20 &lt;chr&gt; |\n",
       "|---|---|---|---|---|---|---|---|---|---|---|---|---|---|---|---|---|---|---|---|---|\n",
       "| 1 | 1331901000 | CCUIP21wTjqkj8ZqX5 | 192.168.202.79 | 50463 | 192.168.229.251 |  80 | tcp | -    | -        | -   | -    | SH | - | 0 | Fa        | 1 |  52 |  1 |   52 | (empty) |\n",
       "| 2 | 1331901000 | Csssjd3tX0yOTPDpng | 192.168.202.79 | 46117 | 192.168.229.254 | 443 | tcp | -    | -        | -   | -    | SF | - | 0 | dDafFr    | 3 | 382 |  9 |  994 | (empty) |\n",
       "| 3 | 1331901000 | CHEt7z3AzG4gyCNgci | 192.168.202.79 | 50465 | 192.168.229.251 |  80 | tcp | http | 0.010000 | 166 | 214  | SF | - | 0 | ShADfFa   | 4 | 382 |  3 |  382 | (empty) |\n",
       "| 4 | 1331901000 | CKnDAp2ohlvN6rpiXl | 192.168.202.79 | 50467 | 192.168.229.251 |  80 | tcp | http | 0.010000 | 166 | 214  | SF | - | 0 | ShADfFa   | 4 | 382 |  3 |  382 | (empty) |\n",
       "| 5 | 1331901000 | CGUBcoXKxBE8gTNl   | 192.168.202.79 | 46119 | 192.168.229.254 | 443 | tcp | ssl  | 0.020000 | 544 | 1060 | SF | - | 0 | ShADadfFr | 8 | 968 | 13 | 1744 | (empty) |\n",
       "| 6 | 1331901000 | CRksHc2i8qahpGOP19 | 192.168.202.79 | 46121 | 192.168.229.254 | 443 | tcp | ssl  | 0.010000 | 544 | 1060 | SF | - | 0 | ShADadfFr | 8 | 968 | 13 | 1744 | (empty) |\n",
       "\n"
      ],
      "text/plain": [
       "  V1         V2                 V3             V4    V5              V6  V7 \n",
       "1 1331901000 CCUIP21wTjqkj8ZqX5 192.168.202.79 50463 192.168.229.251  80 tcp\n",
       "2 1331901000 Csssjd3tX0yOTPDpng 192.168.202.79 46117 192.168.229.254 443 tcp\n",
       "3 1331901000 CHEt7z3AzG4gyCNgci 192.168.202.79 50465 192.168.229.251  80 tcp\n",
       "4 1331901000 CKnDAp2ohlvN6rpiXl 192.168.202.79 50467 192.168.229.251  80 tcp\n",
       "5 1331901000 CGUBcoXKxBE8gTNl   192.168.202.79 46119 192.168.229.254 443 tcp\n",
       "6 1331901000 CRksHc2i8qahpGOP19 192.168.202.79 46121 192.168.229.254 443 tcp\n",
       "  V8   V9       V10 V11  V12 V13 V14 V15       V16 V17 V18 V19  V20    \n",
       "1 -    -        -   -    SH  -   0   Fa        1    52  1    52 (empty)\n",
       "2 -    -        -   -    SF  -   0   dDafFr    3   382  9   994 (empty)\n",
       "3 http 0.010000 166 214  SF  -   0   ShADfFa   4   382  3   382 (empty)\n",
       "4 http 0.010000 166 214  SF  -   0   ShADfFa   4   382  3   382 (empty)\n",
       "5 ssl  0.020000 544 1060 SF  -   0   ShADadfFr 8   968 13  1744 (empty)\n",
       "6 ssl  0.010000 544 1060 SF  -   0   ShADadfFr 8   968 13  1744 (empty)"
      ]
     },
     "metadata": {},
     "output_type": "display_data"
    }
   ],
   "source": [
    "temp <- tempfile()\n",
    "start <- proc.time()\n",
    "download.file(\"http://www.secrepo.com/maccdc2012/conn.log.gz\",temp)\n",
    "data <- read.table(gzfile(temp))\n",
    "print(\"Data imported in:\")\n",
    "print(seconds_to_period((proc.time()-start)[3]))\n",
    "head(data)"
   ]
  },
  {
   "cell_type": "code",
   "execution_count": 4,
   "metadata": {},
   "outputs": [
    {
     "data": {
      "text/html": [
       "<table>\n",
       "<caption>A data.frame: 6 × 20</caption>\n",
       "<thead>\n",
       "\t<tr><th></th><th scope=col>ts</th><th scope=col>uid</th><th scope=col>orig_ip</th><th scope=col>orig_port</th><th scope=col>resp_ip</th><th scope=col>resp_port</th><th scope=col>proto</th><th scope=col>service</th><th scope=col>duration</th><th scope=col>orig_bytes</th><th scope=col>resp_bytes</th><th scope=col>conn_state</th><th scope=col>local_orig</th><th scope=col>missed_bytes</th><th scope=col>history</th><th scope=col>orig_pkts</th><th scope=col>orig_ip_bytes</th><th scope=col>resp_pkts</th><th scope=col>resp_ip_bytes</th><th scope=col>tunnel_parents</th></tr>\n",
       "\t<tr><th></th><th scope=col>&lt;dbl&gt;</th><th scope=col>&lt;chr&gt;</th><th scope=col>&lt;chr&gt;</th><th scope=col>&lt;int&gt;</th><th scope=col>&lt;chr&gt;</th><th scope=col>&lt;int&gt;</th><th scope=col>&lt;chr&gt;</th><th scope=col>&lt;chr&gt;</th><th scope=col>&lt;chr&gt;</th><th scope=col>&lt;chr&gt;</th><th scope=col>&lt;chr&gt;</th><th scope=col>&lt;chr&gt;</th><th scope=col>&lt;chr&gt;</th><th scope=col>&lt;int&gt;</th><th scope=col>&lt;chr&gt;</th><th scope=col>&lt;int&gt;</th><th scope=col>&lt;int&gt;</th><th scope=col>&lt;int&gt;</th><th scope=col>&lt;int&gt;</th><th scope=col>&lt;chr&gt;</th></tr>\n",
       "</thead>\n",
       "<tbody>\n",
       "\t<tr><th scope=row>1</th><td>1331901000</td><td>CCUIP21wTjqkj8ZqX5</td><td>192.168.202.79</td><td>50463</td><td>192.168.229.251</td><td> 80</td><td>tcp</td><td>-   </td><td>-       </td><td>-  </td><td>-   </td><td>SH</td><td>-</td><td>0</td><td>Fa       </td><td>1</td><td> 52</td><td> 1</td><td>  52</td><td>(empty)</td></tr>\n",
       "\t<tr><th scope=row>2</th><td>1331901000</td><td>Csssjd3tX0yOTPDpng</td><td>192.168.202.79</td><td>46117</td><td>192.168.229.254</td><td>443</td><td>tcp</td><td>-   </td><td>-       </td><td>-  </td><td>-   </td><td>SF</td><td>-</td><td>0</td><td>dDafFr   </td><td>3</td><td>382</td><td> 9</td><td> 994</td><td>(empty)</td></tr>\n",
       "\t<tr><th scope=row>3</th><td>1331901000</td><td>CHEt7z3AzG4gyCNgci</td><td>192.168.202.79</td><td>50465</td><td>192.168.229.251</td><td> 80</td><td>tcp</td><td>http</td><td>0.010000</td><td>166</td><td>214 </td><td>SF</td><td>-</td><td>0</td><td>ShADfFa  </td><td>4</td><td>382</td><td> 3</td><td> 382</td><td>(empty)</td></tr>\n",
       "\t<tr><th scope=row>4</th><td>1331901000</td><td>CKnDAp2ohlvN6rpiXl</td><td>192.168.202.79</td><td>50467</td><td>192.168.229.251</td><td> 80</td><td>tcp</td><td>http</td><td>0.010000</td><td>166</td><td>214 </td><td>SF</td><td>-</td><td>0</td><td>ShADfFa  </td><td>4</td><td>382</td><td> 3</td><td> 382</td><td>(empty)</td></tr>\n",
       "\t<tr><th scope=row>5</th><td>1331901000</td><td>CGUBcoXKxBE8gTNl  </td><td>192.168.202.79</td><td>46119</td><td>192.168.229.254</td><td>443</td><td>tcp</td><td>ssl </td><td>0.020000</td><td>544</td><td>1060</td><td>SF</td><td>-</td><td>0</td><td>ShADadfFr</td><td>8</td><td>968</td><td>13</td><td>1744</td><td>(empty)</td></tr>\n",
       "\t<tr><th scope=row>6</th><td>1331901000</td><td>CRksHc2i8qahpGOP19</td><td>192.168.202.79</td><td>46121</td><td>192.168.229.254</td><td>443</td><td>tcp</td><td>ssl </td><td>0.010000</td><td>544</td><td>1060</td><td>SF</td><td>-</td><td>0</td><td>ShADadfFr</td><td>8</td><td>968</td><td>13</td><td>1744</td><td>(empty)</td></tr>\n",
       "</tbody>\n",
       "</table>\n"
      ],
      "text/latex": [
       "A data.frame: 6 × 20\n",
       "\\begin{tabular}{r|llllllllllllllllllll}\n",
       "  & ts & uid & orig\\_ip & orig\\_port & resp\\_ip & resp\\_port & proto & service & duration & orig\\_bytes & resp\\_bytes & conn\\_state & local\\_orig & missed\\_bytes & history & orig\\_pkts & orig\\_ip\\_bytes & resp\\_pkts & resp\\_ip\\_bytes & tunnel\\_parents\\\\\n",
       "  & <dbl> & <chr> & <chr> & <int> & <chr> & <int> & <chr> & <chr> & <chr> & <chr> & <chr> & <chr> & <chr> & <int> & <chr> & <int> & <int> & <int> & <int> & <chr>\\\\\n",
       "\\hline\n",
       "\t1 & 1331901000 & CCUIP21wTjqkj8ZqX5 & 192.168.202.79 & 50463 & 192.168.229.251 &  80 & tcp & -    & -        & -   & -    & SH & - & 0 & Fa        & 1 &  52 &  1 &   52 & (empty)\\\\\n",
       "\t2 & 1331901000 & Csssjd3tX0yOTPDpng & 192.168.202.79 & 46117 & 192.168.229.254 & 443 & tcp & -    & -        & -   & -    & SF & - & 0 & dDafFr    & 3 & 382 &  9 &  994 & (empty)\\\\\n",
       "\t3 & 1331901000 & CHEt7z3AzG4gyCNgci & 192.168.202.79 & 50465 & 192.168.229.251 &  80 & tcp & http & 0.010000 & 166 & 214  & SF & - & 0 & ShADfFa   & 4 & 382 &  3 &  382 & (empty)\\\\\n",
       "\t4 & 1331901000 & CKnDAp2ohlvN6rpiXl & 192.168.202.79 & 50467 & 192.168.229.251 &  80 & tcp & http & 0.010000 & 166 & 214  & SF & - & 0 & ShADfFa   & 4 & 382 &  3 &  382 & (empty)\\\\\n",
       "\t5 & 1331901000 & CGUBcoXKxBE8gTNl   & 192.168.202.79 & 46119 & 192.168.229.254 & 443 & tcp & ssl  & 0.020000 & 544 & 1060 & SF & - & 0 & ShADadfFr & 8 & 968 & 13 & 1744 & (empty)\\\\\n",
       "\t6 & 1331901000 & CRksHc2i8qahpGOP19 & 192.168.202.79 & 46121 & 192.168.229.254 & 443 & tcp & ssl  & 0.010000 & 544 & 1060 & SF & - & 0 & ShADadfFr & 8 & 968 & 13 & 1744 & (empty)\\\\\n",
       "\\end{tabular}\n"
      ],
      "text/markdown": [
       "\n",
       "A data.frame: 6 × 20\n",
       "\n",
       "| <!--/--> | ts &lt;dbl&gt; | uid &lt;chr&gt; | orig_ip &lt;chr&gt; | orig_port &lt;int&gt; | resp_ip &lt;chr&gt; | resp_port &lt;int&gt; | proto &lt;chr&gt; | service &lt;chr&gt; | duration &lt;chr&gt; | orig_bytes &lt;chr&gt; | resp_bytes &lt;chr&gt; | conn_state &lt;chr&gt; | local_orig &lt;chr&gt; | missed_bytes &lt;int&gt; | history &lt;chr&gt; | orig_pkts &lt;int&gt; | orig_ip_bytes &lt;int&gt; | resp_pkts &lt;int&gt; | resp_ip_bytes &lt;int&gt; | tunnel_parents &lt;chr&gt; |\n",
       "|---|---|---|---|---|---|---|---|---|---|---|---|---|---|---|---|---|---|---|---|---|\n",
       "| 1 | 1331901000 | CCUIP21wTjqkj8ZqX5 | 192.168.202.79 | 50463 | 192.168.229.251 |  80 | tcp | -    | -        | -   | -    | SH | - | 0 | Fa        | 1 |  52 |  1 |   52 | (empty) |\n",
       "| 2 | 1331901000 | Csssjd3tX0yOTPDpng | 192.168.202.79 | 46117 | 192.168.229.254 | 443 | tcp | -    | -        | -   | -    | SF | - | 0 | dDafFr    | 3 | 382 |  9 |  994 | (empty) |\n",
       "| 3 | 1331901000 | CHEt7z3AzG4gyCNgci | 192.168.202.79 | 50465 | 192.168.229.251 |  80 | tcp | http | 0.010000 | 166 | 214  | SF | - | 0 | ShADfFa   | 4 | 382 |  3 |  382 | (empty) |\n",
       "| 4 | 1331901000 | CKnDAp2ohlvN6rpiXl | 192.168.202.79 | 50467 | 192.168.229.251 |  80 | tcp | http | 0.010000 | 166 | 214  | SF | - | 0 | ShADfFa   | 4 | 382 |  3 |  382 | (empty) |\n",
       "| 5 | 1331901000 | CGUBcoXKxBE8gTNl   | 192.168.202.79 | 46119 | 192.168.229.254 | 443 | tcp | ssl  | 0.020000 | 544 | 1060 | SF | - | 0 | ShADadfFr | 8 | 968 | 13 | 1744 | (empty) |\n",
       "| 6 | 1331901000 | CRksHc2i8qahpGOP19 | 192.168.202.79 | 46121 | 192.168.229.254 | 443 | tcp | ssl  | 0.010000 | 544 | 1060 | SF | - | 0 | ShADadfFr | 8 | 968 | 13 | 1744 | (empty) |\n",
       "\n"
      ],
      "text/plain": [
       "  ts         uid                orig_ip        orig_port resp_ip        \n",
       "1 1331901000 CCUIP21wTjqkj8ZqX5 192.168.202.79 50463     192.168.229.251\n",
       "2 1331901000 Csssjd3tX0yOTPDpng 192.168.202.79 46117     192.168.229.254\n",
       "3 1331901000 CHEt7z3AzG4gyCNgci 192.168.202.79 50465     192.168.229.251\n",
       "4 1331901000 CKnDAp2ohlvN6rpiXl 192.168.202.79 50467     192.168.229.251\n",
       "5 1331901000 CGUBcoXKxBE8gTNl   192.168.202.79 46119     192.168.229.254\n",
       "6 1331901000 CRksHc2i8qahpGOP19 192.168.202.79 46121     192.168.229.254\n",
       "  resp_port proto service duration orig_bytes resp_bytes conn_state local_orig\n",
       "1  80       tcp   -       -        -          -          SH         -         \n",
       "2 443       tcp   -       -        -          -          SF         -         \n",
       "3  80       tcp   http    0.010000 166        214        SF         -         \n",
       "4  80       tcp   http    0.010000 166        214        SF         -         \n",
       "5 443       tcp   ssl     0.020000 544        1060       SF         -         \n",
       "6 443       tcp   ssl     0.010000 544        1060       SF         -         \n",
       "  missed_bytes history   orig_pkts orig_ip_bytes resp_pkts resp_ip_bytes\n",
       "1 0            Fa        1          52            1          52         \n",
       "2 0            dDafFr    3         382            9         994         \n",
       "3 0            ShADfFa   4         382            3         382         \n",
       "4 0            ShADfFa   4         382            3         382         \n",
       "5 0            ShADadfFr 8         968           13        1744         \n",
       "6 0            ShADadfFr 8         968           13        1744         \n",
       "  tunnel_parents\n",
       "1 (empty)       \n",
       "2 (empty)       \n",
       "3 (empty)       \n",
       "4 (empty)       \n",
       "5 (empty)       \n",
       "6 (empty)       "
      ]
     },
     "metadata": {},
     "output_type": "display_data"
    }
   ],
   "source": [
    "colnames(data) <- c(\"ts\",\"uid\",\"orig_ip\",\"orig_port\",\"resp_ip\",\"resp_port\",\"proto\",\"service\",\"duration\",\"orig_bytes\",\"resp_bytes\",\"conn_state\",\"local_orig\",\n",
    "                    \"missed_bytes\",\"history\",\"orig_pkts\",\"orig_ip_bytes\",\"resp_pkts\",\"resp_ip_bytes\",\"tunnel_parents\")\n",
    "head(data)"
   ]
  },
  {
   "cell_type": "code",
   "execution_count": null,
   "metadata": {},
   "outputs": [],
   "source": [
    "set.seed(462)\n",
    "sample <- sample.split(data[,1], SplitRatio = 0.1)\n",
    "ten_perc_data <- subset(data, sample==TRUE)\n",
    "nrow(ten_perc_data)"
   ]
  },
  {
   "cell_type": "code",
   "execution_count": null,
   "metadata": {},
   "outputs": [],
   "source": [
    "write.csv(data,\"G:\\\\Users\\\\Gabriel\\\\Documents\\\\Education\\\\UoB\\\\DST\\\\Data\\\\Assessment-02\\\\10_percent_data.csv\",row.names=FALSE)\n",
    "gz <- gzfile(\"10_percent_data.gz\",\"w\")\n",
    "write.csv(data, gz, \"G:\\\\Users\\\\Gabriel\\\\Documents\\\\Education\\\\UoB\\\\GitHubDesktop\\\\DST-Assessment-02\\\\Data\\\\10_percent_data.csv\",row.names=FALSE)\n",
    "close(gz)"
   ]
  },
  {
   "cell_type": "markdown",
   "metadata": {},
   "source": [
    "## References\n",
    "\n",
    "[Stackoverflow link about accessing .gz files](https://stackoverflow.com/questions/3053833/using-r-to-download-zipped-data-file-extract-and-import-data)\n",
    "\n",
    "[Stackoverflow link about splitting data in R](https://stackoverflow.com/questions/17200114/how-to-split-data-into-training-testing-sets-using-sample-function)"
   ]
  }
 ],
 "metadata": {
  "kernelspec": {
   "display_name": "R",
   "language": "R",
   "name": "ir"
  },
  "language_info": {
   "codemirror_mode": "r",
   "file_extension": ".r",
   "mimetype": "text/x-r-source",
   "name": "R",
   "pygments_lexer": "r",
   "version": "4.0.3"
  }
 },
 "nbformat": 4,
 "nbformat_minor": 4
}
