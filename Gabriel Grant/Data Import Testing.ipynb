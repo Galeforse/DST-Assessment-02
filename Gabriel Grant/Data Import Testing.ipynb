{
 "cells": [
  {
   "cell_type": "markdown",
   "metadata": {},
   "source": [
    "## Assessment 02\n"
   ]
  },
  {
   "cell_type": "code",
   "execution_count": null,
   "metadata": {},
   "outputs": [],
   "source": [
    "install.packages(\"lubridate\")"
   ]
  },
  {
   "cell_type": "code",
   "execution_count": 23,
   "metadata": {},
   "outputs": [],
   "source": [
    "library(lubridate)"
   ]
  },
  {
   "cell_type": "code",
   "execution_count": 19,
   "metadata": {},
   "outputs": [
    {
     "name": "stdout",
     "output_type": "stream",
     "text": [
      "[1] \"Data imported in\"\n",
      "elapsed \n",
      " 447.21 \n"
     ]
    },
    {
     "data": {
      "text/html": [
       "<table>\n",
       "<caption>A data.frame: 6 × 20</caption>\n",
       "<thead>\n",
       "\t<tr><th></th><th scope=col>V1</th><th scope=col>V2</th><th scope=col>V3</th><th scope=col>V4</th><th scope=col>V5</th><th scope=col>V6</th><th scope=col>V7</th><th scope=col>V8</th><th scope=col>V9</th><th scope=col>V10</th><th scope=col>V11</th><th scope=col>V12</th><th scope=col>V13</th><th scope=col>V14</th><th scope=col>V15</th><th scope=col>V16</th><th scope=col>V17</th><th scope=col>V18</th><th scope=col>V19</th><th scope=col>V20</th></tr>\n",
       "\t<tr><th></th><th scope=col>&lt;dbl&gt;</th><th scope=col>&lt;chr&gt;</th><th scope=col>&lt;chr&gt;</th><th scope=col>&lt;int&gt;</th><th scope=col>&lt;chr&gt;</th><th scope=col>&lt;int&gt;</th><th scope=col>&lt;chr&gt;</th><th scope=col>&lt;chr&gt;</th><th scope=col>&lt;chr&gt;</th><th scope=col>&lt;chr&gt;</th><th scope=col>&lt;chr&gt;</th><th scope=col>&lt;chr&gt;</th><th scope=col>&lt;chr&gt;</th><th scope=col>&lt;int&gt;</th><th scope=col>&lt;chr&gt;</th><th scope=col>&lt;int&gt;</th><th scope=col>&lt;int&gt;</th><th scope=col>&lt;int&gt;</th><th scope=col>&lt;int&gt;</th><th scope=col>&lt;chr&gt;</th></tr>\n",
       "</thead>\n",
       "<tbody>\n",
       "\t<tr><th scope=row>1</th><td>1331901000</td><td>CCUIP21wTjqkj8ZqX5</td><td>192.168.202.79</td><td>50463</td><td>192.168.229.251</td><td> 80</td><td>tcp</td><td>-   </td><td>-       </td><td>-  </td><td>-   </td><td>SH</td><td>-</td><td>0</td><td>Fa       </td><td>1</td><td> 52</td><td> 1</td><td>  52</td><td>(empty)</td></tr>\n",
       "\t<tr><th scope=row>2</th><td>1331901000</td><td>Csssjd3tX0yOTPDpng</td><td>192.168.202.79</td><td>46117</td><td>192.168.229.254</td><td>443</td><td>tcp</td><td>-   </td><td>-       </td><td>-  </td><td>-   </td><td>SF</td><td>-</td><td>0</td><td>dDafFr   </td><td>3</td><td>382</td><td> 9</td><td> 994</td><td>(empty)</td></tr>\n",
       "\t<tr><th scope=row>3</th><td>1331901000</td><td>CHEt7z3AzG4gyCNgci</td><td>192.168.202.79</td><td>50465</td><td>192.168.229.251</td><td> 80</td><td>tcp</td><td>http</td><td>0.010000</td><td>166</td><td>214 </td><td>SF</td><td>-</td><td>0</td><td>ShADfFa  </td><td>4</td><td>382</td><td> 3</td><td> 382</td><td>(empty)</td></tr>\n",
       "\t<tr><th scope=row>4</th><td>1331901000</td><td>CKnDAp2ohlvN6rpiXl</td><td>192.168.202.79</td><td>50467</td><td>192.168.229.251</td><td> 80</td><td>tcp</td><td>http</td><td>0.010000</td><td>166</td><td>214 </td><td>SF</td><td>-</td><td>0</td><td>ShADfFa  </td><td>4</td><td>382</td><td> 3</td><td> 382</td><td>(empty)</td></tr>\n",
       "\t<tr><th scope=row>5</th><td>1331901000</td><td>CGUBcoXKxBE8gTNl  </td><td>192.168.202.79</td><td>46119</td><td>192.168.229.254</td><td>443</td><td>tcp</td><td>ssl </td><td>0.020000</td><td>544</td><td>1060</td><td>SF</td><td>-</td><td>0</td><td>ShADadfFr</td><td>8</td><td>968</td><td>13</td><td>1744</td><td>(empty)</td></tr>\n",
       "\t<tr><th scope=row>6</th><td>1331901000</td><td>CRksHc2i8qahpGOP19</td><td>192.168.202.79</td><td>46121</td><td>192.168.229.254</td><td>443</td><td>tcp</td><td>ssl </td><td>0.010000</td><td>544</td><td>1060</td><td>SF</td><td>-</td><td>0</td><td>ShADadfFr</td><td>8</td><td>968</td><td>13</td><td>1744</td><td>(empty)</td></tr>\n",
       "</tbody>\n",
       "</table>\n"
      ],
      "text/latex": [
       "A data.frame: 6 × 20\n",
       "\\begin{tabular}{r|llllllllllllllllllll}\n",
       "  & V1 & V2 & V3 & V4 & V5 & V6 & V7 & V8 & V9 & V10 & V11 & V12 & V13 & V14 & V15 & V16 & V17 & V18 & V19 & V20\\\\\n",
       "  & <dbl> & <chr> & <chr> & <int> & <chr> & <int> & <chr> & <chr> & <chr> & <chr> & <chr> & <chr> & <chr> & <int> & <chr> & <int> & <int> & <int> & <int> & <chr>\\\\\n",
       "\\hline\n",
       "\t1 & 1331901000 & CCUIP21wTjqkj8ZqX5 & 192.168.202.79 & 50463 & 192.168.229.251 &  80 & tcp & -    & -        & -   & -    & SH & - & 0 & Fa        & 1 &  52 &  1 &   52 & (empty)\\\\\n",
       "\t2 & 1331901000 & Csssjd3tX0yOTPDpng & 192.168.202.79 & 46117 & 192.168.229.254 & 443 & tcp & -    & -        & -   & -    & SF & - & 0 & dDafFr    & 3 & 382 &  9 &  994 & (empty)\\\\\n",
       "\t3 & 1331901000 & CHEt7z3AzG4gyCNgci & 192.168.202.79 & 50465 & 192.168.229.251 &  80 & tcp & http & 0.010000 & 166 & 214  & SF & - & 0 & ShADfFa   & 4 & 382 &  3 &  382 & (empty)\\\\\n",
       "\t4 & 1331901000 & CKnDAp2ohlvN6rpiXl & 192.168.202.79 & 50467 & 192.168.229.251 &  80 & tcp & http & 0.010000 & 166 & 214  & SF & - & 0 & ShADfFa   & 4 & 382 &  3 &  382 & (empty)\\\\\n",
       "\t5 & 1331901000 & CGUBcoXKxBE8gTNl   & 192.168.202.79 & 46119 & 192.168.229.254 & 443 & tcp & ssl  & 0.020000 & 544 & 1060 & SF & - & 0 & ShADadfFr & 8 & 968 & 13 & 1744 & (empty)\\\\\n",
       "\t6 & 1331901000 & CRksHc2i8qahpGOP19 & 192.168.202.79 & 46121 & 192.168.229.254 & 443 & tcp & ssl  & 0.010000 & 544 & 1060 & SF & - & 0 & ShADadfFr & 8 & 968 & 13 & 1744 & (empty)\\\\\n",
       "\\end{tabular}\n"
      ],
      "text/markdown": [
       "\n",
       "A data.frame: 6 × 20\n",
       "\n",
       "| <!--/--> | V1 &lt;dbl&gt; | V2 &lt;chr&gt; | V3 &lt;chr&gt; | V4 &lt;int&gt; | V5 &lt;chr&gt; | V6 &lt;int&gt; | V7 &lt;chr&gt; | V8 &lt;chr&gt; | V9 &lt;chr&gt; | V10 &lt;chr&gt; | V11 &lt;chr&gt; | V12 &lt;chr&gt; | V13 &lt;chr&gt; | V14 &lt;int&gt; | V15 &lt;chr&gt; | V16 &lt;int&gt; | V17 &lt;int&gt; | V18 &lt;int&gt; | V19 &lt;int&gt; | V20 &lt;chr&gt; |\n",
       "|---|---|---|---|---|---|---|---|---|---|---|---|---|---|---|---|---|---|---|---|---|\n",
       "| 1 | 1331901000 | CCUIP21wTjqkj8ZqX5 | 192.168.202.79 | 50463 | 192.168.229.251 |  80 | tcp | -    | -        | -   | -    | SH | - | 0 | Fa        | 1 |  52 |  1 |   52 | (empty) |\n",
       "| 2 | 1331901000 | Csssjd3tX0yOTPDpng | 192.168.202.79 | 46117 | 192.168.229.254 | 443 | tcp | -    | -        | -   | -    | SF | - | 0 | dDafFr    | 3 | 382 |  9 |  994 | (empty) |\n",
       "| 3 | 1331901000 | CHEt7z3AzG4gyCNgci | 192.168.202.79 | 50465 | 192.168.229.251 |  80 | tcp | http | 0.010000 | 166 | 214  | SF | - | 0 | ShADfFa   | 4 | 382 |  3 |  382 | (empty) |\n",
       "| 4 | 1331901000 | CKnDAp2ohlvN6rpiXl | 192.168.202.79 | 50467 | 192.168.229.251 |  80 | tcp | http | 0.010000 | 166 | 214  | SF | - | 0 | ShADfFa   | 4 | 382 |  3 |  382 | (empty) |\n",
       "| 5 | 1331901000 | CGUBcoXKxBE8gTNl   | 192.168.202.79 | 46119 | 192.168.229.254 | 443 | tcp | ssl  | 0.020000 | 544 | 1060 | SF | - | 0 | ShADadfFr | 8 | 968 | 13 | 1744 | (empty) |\n",
       "| 6 | 1331901000 | CRksHc2i8qahpGOP19 | 192.168.202.79 | 46121 | 192.168.229.254 | 443 | tcp | ssl  | 0.010000 | 544 | 1060 | SF | - | 0 | ShADadfFr | 8 | 968 | 13 | 1744 | (empty) |\n",
       "\n"
      ],
      "text/plain": [
       "  V1         V2                 V3             V4    V5              V6  V7 \n",
       "1 1331901000 CCUIP21wTjqkj8ZqX5 192.168.202.79 50463 192.168.229.251  80 tcp\n",
       "2 1331901000 Csssjd3tX0yOTPDpng 192.168.202.79 46117 192.168.229.254 443 tcp\n",
       "3 1331901000 CHEt7z3AzG4gyCNgci 192.168.202.79 50465 192.168.229.251  80 tcp\n",
       "4 1331901000 CKnDAp2ohlvN6rpiXl 192.168.202.79 50467 192.168.229.251  80 tcp\n",
       "5 1331901000 CGUBcoXKxBE8gTNl   192.168.202.79 46119 192.168.229.254 443 tcp\n",
       "6 1331901000 CRksHc2i8qahpGOP19 192.168.202.79 46121 192.168.229.254 443 tcp\n",
       "  V8   V9       V10 V11  V12 V13 V14 V15       V16 V17 V18 V19  V20    \n",
       "1 -    -        -   -    SH  -   0   Fa        1    52  1    52 (empty)\n",
       "2 -    -        -   -    SF  -   0   dDafFr    3   382  9   994 (empty)\n",
       "3 http 0.010000 166 214  SF  -   0   ShADfFa   4   382  3   382 (empty)\n",
       "4 http 0.010000 166 214  SF  -   0   ShADfFa   4   382  3   382 (empty)\n",
       "5 ssl  0.020000 544 1060 SF  -   0   ShADadfFr 8   968 13  1744 (empty)\n",
       "6 ssl  0.010000 544 1060 SF  -   0   ShADadfFr 8   968 13  1744 (empty)"
      ]
     },
     "metadata": {},
     "output_type": "display_data"
    }
   ],
   "source": [
    "temp <- tempfile()\n",
    "start <- proc.time()\n",
    "download.file(\"http://www.secrepo.com/maccdc2012/conn.log.gz\",temp)\n",
    "data <- read.table(gzfile(temp))\n",
    "print(\"Data imported in\")\n",
    "print(seconds_to_period((proc.time()-start)[3]))\n",
    "head(data)"
   ]
  },
  {
   "cell_type": "code",
   "execution_count": 48,
   "metadata": {},
   "outputs": [
    {
     "data": {
      "text/html": [
       "<table>\n",
       "<caption>A data.frame: 6 × 20</caption>\n",
       "<thead>\n",
       "\t<tr><th></th><th scope=col>ts</th><th scope=col>uid</th><th scope=col>orig_ip</th><th scope=col>orig_port</th><th scope=col>dest_ip</th><th scope=col>dest_port</th><th scope=col>protocol</th><th scope=col>NA</th><th scope=col>NA</th><th scope=col>NA</th><th scope=col>NA</th><th scope=col>NA</th><th scope=col>NA</th><th scope=col>NA</th><th scope=col>NA</th><th scope=col>NA</th><th scope=col>NA</th><th scope=col>NA</th><th scope=col>NA</th><th scope=col>NA</th></tr>\n",
       "\t<tr><th></th><th scope=col>&lt;dbl&gt;</th><th scope=col>&lt;chr&gt;</th><th scope=col>&lt;chr&gt;</th><th scope=col>&lt;int&gt;</th><th scope=col>&lt;chr&gt;</th><th scope=col>&lt;int&gt;</th><th scope=col>&lt;chr&gt;</th><th scope=col>&lt;chr&gt;</th><th scope=col>&lt;chr&gt;</th><th scope=col>&lt;chr&gt;</th><th scope=col>&lt;chr&gt;</th><th scope=col>&lt;chr&gt;</th><th scope=col>&lt;chr&gt;</th><th scope=col>&lt;int&gt;</th><th scope=col>&lt;chr&gt;</th><th scope=col>&lt;int&gt;</th><th scope=col>&lt;int&gt;</th><th scope=col>&lt;int&gt;</th><th scope=col>&lt;int&gt;</th><th scope=col>&lt;chr&gt;</th></tr>\n",
       "</thead>\n",
       "<tbody>\n",
       "\t<tr><th scope=row>1</th><td>1331901000</td><td>CCUIP21wTjqkj8ZqX5</td><td>192.168.202.79</td><td>50463</td><td>192.168.229.251</td><td> 80</td><td>tcp</td><td>-   </td><td>-       </td><td>-  </td><td>-   </td><td>SH</td><td>-</td><td>0</td><td>Fa       </td><td>1</td><td> 52</td><td> 1</td><td>  52</td><td>(empty)</td></tr>\n",
       "\t<tr><th scope=row>2</th><td>1331901000</td><td>Csssjd3tX0yOTPDpng</td><td>192.168.202.79</td><td>46117</td><td>192.168.229.254</td><td>443</td><td>tcp</td><td>-   </td><td>-       </td><td>-  </td><td>-   </td><td>SF</td><td>-</td><td>0</td><td>dDafFr   </td><td>3</td><td>382</td><td> 9</td><td> 994</td><td>(empty)</td></tr>\n",
       "\t<tr><th scope=row>3</th><td>1331901000</td><td>CHEt7z3AzG4gyCNgci</td><td>192.168.202.79</td><td>50465</td><td>192.168.229.251</td><td> 80</td><td>tcp</td><td>http</td><td>0.010000</td><td>166</td><td>214 </td><td>SF</td><td>-</td><td>0</td><td>ShADfFa  </td><td>4</td><td>382</td><td> 3</td><td> 382</td><td>(empty)</td></tr>\n",
       "\t<tr><th scope=row>4</th><td>1331901000</td><td>CKnDAp2ohlvN6rpiXl</td><td>192.168.202.79</td><td>50467</td><td>192.168.229.251</td><td> 80</td><td>tcp</td><td>http</td><td>0.010000</td><td>166</td><td>214 </td><td>SF</td><td>-</td><td>0</td><td>ShADfFa  </td><td>4</td><td>382</td><td> 3</td><td> 382</td><td>(empty)</td></tr>\n",
       "\t<tr><th scope=row>5</th><td>1331901000</td><td>CGUBcoXKxBE8gTNl  </td><td>192.168.202.79</td><td>46119</td><td>192.168.229.254</td><td>443</td><td>tcp</td><td>ssl </td><td>0.020000</td><td>544</td><td>1060</td><td>SF</td><td>-</td><td>0</td><td>ShADadfFr</td><td>8</td><td>968</td><td>13</td><td>1744</td><td>(empty)</td></tr>\n",
       "\t<tr><th scope=row>6</th><td>1331901000</td><td>CRksHc2i8qahpGOP19</td><td>192.168.202.79</td><td>46121</td><td>192.168.229.254</td><td>443</td><td>tcp</td><td>ssl </td><td>0.010000</td><td>544</td><td>1060</td><td>SF</td><td>-</td><td>0</td><td>ShADadfFr</td><td>8</td><td>968</td><td>13</td><td>1744</td><td>(empty)</td></tr>\n",
       "</tbody>\n",
       "</table>\n"
      ],
      "text/latex": [
       "A data.frame: 6 × 20\n",
       "\\begin{tabular}{r|llllllllllllllllllll}\n",
       "  & ts & uid & orig\\_ip & orig\\_port & dest\\_ip & dest\\_port & protocol & NA & NA & NA & NA & NA & NA & NA & NA & NA & NA & NA & NA & NA\\\\\n",
       "  & <dbl> & <chr> & <chr> & <int> & <chr> & <int> & <chr> & <chr> & <chr> & <chr> & <chr> & <chr> & <chr> & <int> & <chr> & <int> & <int> & <int> & <int> & <chr>\\\\\n",
       "\\hline\n",
       "\t1 & 1331901000 & CCUIP21wTjqkj8ZqX5 & 192.168.202.79 & 50463 & 192.168.229.251 &  80 & tcp & -    & -        & -   & -    & SH & - & 0 & Fa        & 1 &  52 &  1 &   52 & (empty)\\\\\n",
       "\t2 & 1331901000 & Csssjd3tX0yOTPDpng & 192.168.202.79 & 46117 & 192.168.229.254 & 443 & tcp & -    & -        & -   & -    & SF & - & 0 & dDafFr    & 3 & 382 &  9 &  994 & (empty)\\\\\n",
       "\t3 & 1331901000 & CHEt7z3AzG4gyCNgci & 192.168.202.79 & 50465 & 192.168.229.251 &  80 & tcp & http & 0.010000 & 166 & 214  & SF & - & 0 & ShADfFa   & 4 & 382 &  3 &  382 & (empty)\\\\\n",
       "\t4 & 1331901000 & CKnDAp2ohlvN6rpiXl & 192.168.202.79 & 50467 & 192.168.229.251 &  80 & tcp & http & 0.010000 & 166 & 214  & SF & - & 0 & ShADfFa   & 4 & 382 &  3 &  382 & (empty)\\\\\n",
       "\t5 & 1331901000 & CGUBcoXKxBE8gTNl   & 192.168.202.79 & 46119 & 192.168.229.254 & 443 & tcp & ssl  & 0.020000 & 544 & 1060 & SF & - & 0 & ShADadfFr & 8 & 968 & 13 & 1744 & (empty)\\\\\n",
       "\t6 & 1331901000 & CRksHc2i8qahpGOP19 & 192.168.202.79 & 46121 & 192.168.229.254 & 443 & tcp & ssl  & 0.010000 & 544 & 1060 & SF & - & 0 & ShADadfFr & 8 & 968 & 13 & 1744 & (empty)\\\\\n",
       "\\end{tabular}\n"
      ],
      "text/markdown": [
       "\n",
       "A data.frame: 6 × 20\n",
       "\n",
       "| <!--/--> | ts &lt;dbl&gt; | uid &lt;chr&gt; | orig_ip &lt;chr&gt; | orig_port &lt;int&gt; | dest_ip &lt;chr&gt; | dest_port &lt;int&gt; | protocol &lt;chr&gt; | NA &lt;chr&gt; | NA &lt;chr&gt; | NA &lt;chr&gt; | NA &lt;chr&gt; | NA &lt;chr&gt; | NA &lt;chr&gt; | NA &lt;int&gt; | NA &lt;chr&gt; | NA &lt;int&gt; | NA &lt;int&gt; | NA &lt;int&gt; | NA &lt;int&gt; | NA &lt;chr&gt; |\n",
       "|---|---|---|---|---|---|---|---|---|---|---|---|---|---|---|---|---|---|---|---|---|\n",
       "| 1 | 1331901000 | CCUIP21wTjqkj8ZqX5 | 192.168.202.79 | 50463 | 192.168.229.251 |  80 | tcp | -    | -        | -   | -    | SH | - | 0 | Fa        | 1 |  52 |  1 |   52 | (empty) |\n",
       "| 2 | 1331901000 | Csssjd3tX0yOTPDpng | 192.168.202.79 | 46117 | 192.168.229.254 | 443 | tcp | -    | -        | -   | -    | SF | - | 0 | dDafFr    | 3 | 382 |  9 |  994 | (empty) |\n",
       "| 3 | 1331901000 | CHEt7z3AzG4gyCNgci | 192.168.202.79 | 50465 | 192.168.229.251 |  80 | tcp | http | 0.010000 | 166 | 214  | SF | - | 0 | ShADfFa   | 4 | 382 |  3 |  382 | (empty) |\n",
       "| 4 | 1331901000 | CKnDAp2ohlvN6rpiXl | 192.168.202.79 | 50467 | 192.168.229.251 |  80 | tcp | http | 0.010000 | 166 | 214  | SF | - | 0 | ShADfFa   | 4 | 382 |  3 |  382 | (empty) |\n",
       "| 5 | 1331901000 | CGUBcoXKxBE8gTNl   | 192.168.202.79 | 46119 | 192.168.229.254 | 443 | tcp | ssl  | 0.020000 | 544 | 1060 | SF | - | 0 | ShADadfFr | 8 | 968 | 13 | 1744 | (empty) |\n",
       "| 6 | 1331901000 | CRksHc2i8qahpGOP19 | 192.168.202.79 | 46121 | 192.168.229.254 | 443 | tcp | ssl  | 0.010000 | 544 | 1060 | SF | - | 0 | ShADadfFr | 8 | 968 | 13 | 1744 | (empty) |\n",
       "\n"
      ],
      "text/plain": [
       "  ts         uid                orig_ip        orig_port dest_ip        \n",
       "1 1331901000 CCUIP21wTjqkj8ZqX5 192.168.202.79 50463     192.168.229.251\n",
       "2 1331901000 Csssjd3tX0yOTPDpng 192.168.202.79 46117     192.168.229.254\n",
       "3 1331901000 CHEt7z3AzG4gyCNgci 192.168.202.79 50465     192.168.229.251\n",
       "4 1331901000 CKnDAp2ohlvN6rpiXl 192.168.202.79 50467     192.168.229.251\n",
       "5 1331901000 CGUBcoXKxBE8gTNl   192.168.202.79 46119     192.168.229.254\n",
       "6 1331901000 CRksHc2i8qahpGOP19 192.168.202.79 46121     192.168.229.254\n",
       "  dest_port protocol <NA> <NA>     <NA> <NA> <NA> <NA> <NA> <NA>      <NA> <NA>\n",
       "1  80       tcp      -    -        -    -    SH   -    0    Fa        1     52 \n",
       "2 443       tcp      -    -        -    -    SF   -    0    dDafFr    3    382 \n",
       "3  80       tcp      http 0.010000 166  214  SF   -    0    ShADfFa   4    382 \n",
       "4  80       tcp      http 0.010000 166  214  SF   -    0    ShADfFa   4    382 \n",
       "5 443       tcp      ssl  0.020000 544  1060 SF   -    0    ShADadfFr 8    968 \n",
       "6 443       tcp      ssl  0.010000 544  1060 SF   -    0    ShADadfFr 8    968 \n",
       "  <NA> <NA> <NA>   \n",
       "1  1     52 (empty)\n",
       "2  9    994 (empty)\n",
       "3  3    382 (empty)\n",
       "4  3    382 (empty)\n",
       "5 13   1744 (empty)\n",
       "6 13   1744 (empty)"
      ]
     },
     "metadata": {},
     "output_type": "display_data"
    }
   ],
   "source": [
    "colnames(data) <- c(\"ts\",\"uid\",\"orig_ip\",\"orig_port\",\"dest_ip\",\"dest_port\",\"protocol\")\n",
    "head(data)"
   ]
  }
 ],
 "metadata": {
  "kernelspec": {
   "display_name": "R",
   "language": "R",
   "name": "ir"
  },
  "language_info": {
   "codemirror_mode": "r",
   "file_extension": ".r",
   "mimetype": "text/x-r-source",
   "name": "R",
   "pygments_lexer": "r",
   "version": "4.0.2"
  }
 },
 "nbformat": 4,
 "nbformat_minor": 4
}
