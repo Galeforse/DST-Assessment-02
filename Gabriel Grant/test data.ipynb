{
 "cells": [
  {
   "cell_type": "markdown",
   "metadata": {},
   "source": [
    "# testing data creation"
   ]
  },
  {
   "cell_type": "code",
   "execution_count": 49,
   "metadata": {
    "collapsed": true,
    "jupyter": {
     "outputs_hidden": true
    }
   },
   "outputs": [
    {
     "name": "stderr",
     "output_type": "stream",
     "text": [
      "\n",
      "Attaching package: 'crunch'\n",
      "\n",
      "\n",
      "The following objects are masked from 'package:dplyr':\n",
      "\n",
      "    combine, filter, id\n",
      "\n",
      "\n",
      "The following object is masked from 'package:mice':\n",
      "\n",
      "    filter\n",
      "\n",
      "\n",
      "The following objects are masked from 'package:data.table':\n",
      "\n",
      "    copy, cube, rollup\n",
      "\n",
      "\n",
      "The following objects are masked from 'package:stats':\n",
      "\n",
      "    filter, rstandard, setNames\n",
      "\n",
      "\n",
      "The following object is masked from 'package:graphics':\n",
      "\n",
      "    title\n",
      "\n",
      "\n",
      "The following object is masked from 'package:utils':\n",
      "\n",
      "    write.csv\n",
      "\n",
      "\n",
      "The following object is masked from 'package:base':\n",
      "\n",
      "    table\n",
      "\n",
      "\n"
     ]
    }
   ],
   "source": [
    "library(lubridate)\n",
    "library(data.table)\n",
    "library(crunch)\n",
    "library(lubridate)\n",
    "library(dlookr)\n",
    "library(dplyr)\n",
    "library(mice)\n",
    "library(VIM)"
   ]
  },
  {
   "cell_type": "code",
   "execution_count": 3,
   "metadata": {},
   "outputs": [
    {
     "name": "stdout",
     "output_type": "stream",
     "text": [
      "[1] \"Data imported in:\"\n",
      "[1] \"4.93000000000001S\"\n"
     ]
    }
   ],
   "source": [
    "temp2 <- tempfile()\n",
    "start <- proc.time()\n",
    "download.file(\"https://github.com/Galeforse/DST-Assessment-02/raw/main/Data/conn_data_no_missing.csv.gz\",temp2)\n",
    "data <- (read.csv(gzfile(temp2)))\n",
    "print(\"Data imported in:\")\n",
    "print(seconds_to_period((proc.time()-start)[3]))"
   ]
  },
  {
   "cell_type": "code",
   "execution_count": 4,
   "metadata": {},
   "outputs": [
    {
     "data": {
      "text/html": [
       "506464"
      ],
      "text/latex": [
       "506464"
      ],
      "text/markdown": [
       "506464"
      ],
      "text/plain": [
       "[1] 506464"
      ]
     },
     "metadata": {},
     "output_type": "display_data"
    }
   ],
   "source": [
    "nrow(data)"
   ]
  },
  {
   "cell_type": "code",
   "execution_count": 10,
   "metadata": {},
   "outputs": [
    {
     "name": "stdout",
     "output_type": "stream",
     "text": [
      "[1] \"0.0300000000000296S\"\n"
     ]
    },
    {
     "data": {
      "text/html": [
       "101292"
      ],
      "text/latex": [
       "101292"
      ],
      "text/markdown": [
       "101292"
      ],
      "text/plain": [
       "[1] 101292"
      ]
     },
     "metadata": {},
     "output_type": "display_data"
    }
   ],
   "source": [
    "df <- data.table(data)\n",
    "\n",
    "set.seed(462)\n",
    "start <- proc.time()\n",
    "smp_size <- 0.2*nrow(df)\n",
    "data2 <- df[sample(.N,smp_size)]\n",
    "print(seconds_to_period((proc.time()-start)[3]))\n",
    "nrow(data2)"
   ]
  },
  {
   "cell_type": "code",
   "execution_count": 21,
   "metadata": {},
   "outputs": [],
   "source": [
    "data3 <- data2\n",
    "set.seed(462)\n",
    "data3[sample(1:nrow(data3),nrow(data3)*0.3),\"duration\"] <- NA"
   ]
  },
  {
   "cell_type": "code",
   "execution_count": 29,
   "metadata": {},
   "outputs": [
    {
     "data": {
      "text/html": [
       "<table>\n",
       "<caption>A data.table: 10 × 17</caption>\n",
       "<thead>\n",
       "\t<tr><th scope=col>ts</th><th scope=col>orig_ip</th><th scope=col>orig_port</th><th scope=col>resp_ip</th><th scope=col>resp_port</th><th scope=col>proto</th><th scope=col>service</th><th scope=col>duration</th><th scope=col>orig_bytes</th><th scope=col>resp_bytes</th><th scope=col>conn_state</th><th scope=col>missed_bytes</th><th scope=col>history</th><th scope=col>orig_pkts</th><th scope=col>orig_ip_bytes</th><th scope=col>resp_pkts</th><th scope=col>resp_ip_bytes</th></tr>\n",
       "\t<tr><th scope=col>&lt;dbl&gt;</th><th scope=col>&lt;chr&gt;</th><th scope=col>&lt;int&gt;</th><th scope=col>&lt;chr&gt;</th><th scope=col>&lt;int&gt;</th><th scope=col>&lt;chr&gt;</th><th scope=col>&lt;chr&gt;</th><th scope=col>&lt;dbl&gt;</th><th scope=col>&lt;int&gt;</th><th scope=col>&lt;int&gt;</th><th scope=col>&lt;chr&gt;</th><th scope=col>&lt;int&gt;</th><th scope=col>&lt;chr&gt;</th><th scope=col>&lt;int&gt;</th><th scope=col>&lt;int&gt;</th><th scope=col>&lt;int&gt;</th><th scope=col>&lt;int&gt;</th></tr>\n",
       "</thead>\n",
       "<tbody>\n",
       "\t<tr><td>1331902224</td><td>192.168.202.79 </td><td>45300</td><td>192.168.229.153</td><td>5357</td><td>tcp</td><td>http</td><td>0.010000</td><td>173</td><td> 513</td><td>SF  </td><td>0</td><td>ShADfFa </td><td> 4</td><td> 389</td><td> 3</td><td> 677</td></tr>\n",
       "\t<tr><td>1331909172</td><td>192.168.202.110</td><td>44457</td><td>192.168.22.253 </td><td>  80</td><td>tcp</td><td>http</td><td>0.010000</td><td>434</td><td> 465</td><td>RSTO</td><td>0</td><td>ShADadfR</td><td> 5</td><td> 702</td><td> 4</td><td> 681</td></tr>\n",
       "\t<tr><td>1331915516</td><td>192.168.202.102</td><td> 4261</td><td>192.168.28.202 </td><td>  80</td><td>tcp</td><td>http</td><td>0.030000</td><td>478</td><td>8133</td><td>RSTO</td><td>0</td><td>ShADadfR</td><td> 8</td><td> 810</td><td> 9</td><td>8505</td></tr>\n",
       "\t<tr><td>1331915509</td><td>192.168.202.118</td><td>35260</td><td>192.168.26.152 </td><td>  80</td><td>tcp</td><td>http</td><td>      NA</td><td>235</td><td>1635</td><td>SF  </td><td>0</td><td>ShADdFaf</td><td> 7</td><td> 607</td><td> 5</td><td>1903</td></tr>\n",
       "\t<tr><td>1331915606</td><td>192.168.202.102</td><td> 4910</td><td>192.168.23.202 </td><td>  80</td><td>tcp</td><td>http</td><td>      NA</td><td>486</td><td>8142</td><td>RSTO</td><td>0</td><td>ShADadRf</td><td> 7</td><td> 778</td><td> 7</td><td>5674</td></tr>\n",
       "\t<tr><td>1331915944</td><td>192.168.202.102</td><td> 1617</td><td>192.168.23.202 </td><td>  80</td><td>tcp</td><td>http</td><td>0.030000</td><td>496</td><td>8133</td><td>RSTO</td><td>0</td><td>ShADadfR</td><td> 8</td><td> 828</td><td> 9</td><td>8505</td></tr>\n",
       "\t<tr><td>1331904088</td><td>192.168.202.110</td><td>46521</td><td>192.168.27.102 </td><td>  80</td><td>tcp</td><td>http</td><td>      NA</td><td>305</td><td> 491</td><td>RSTO</td><td>0</td><td>ShADadR </td><td> 5</td><td> 573</td><td> 3</td><td> 655</td></tr>\n",
       "\t<tr><td>1331914632</td><td>192.168.202.102</td><td> 1983</td><td>192.168.28.202 </td><td>  80</td><td>tcp</td><td>http</td><td>      NA</td><td>432</td><td>8191</td><td>SF  </td><td>0</td><td>ShADadfF</td><td> 8</td><td> 764</td><td>10</td><td>8603</td></tr>\n",
       "\t<tr><td>1331932813</td><td>192.168.204.45 </td><td>40237</td><td>192.168.23.202 </td><td>  22</td><td>tcp</td><td>ssh </td><td>0.700001</td><td>523</td><td>1615</td><td>SF  </td><td>0</td><td>ShAdDaFf</td><td>10</td><td>1051</td><td> 8</td><td>2039</td></tr>\n",
       "\t<tr><td>1331916190</td><td>192.168.202.102</td><td> 4783</td><td>192.168.23.202 </td><td>  80</td><td>tcp</td><td>http</td><td>      NA</td><td>523</td><td>8133</td><td>RSTO</td><td>0</td><td>ShADadfR</td><td> 8</td><td> 855</td><td> 9</td><td>8505</td></tr>\n",
       "</tbody>\n",
       "</table>\n"
      ],
      "text/latex": [
       "A data.table: 10 × 17\n",
       "\\begin{tabular}{lllllllllllllllll}\n",
       " ts & orig\\_ip & orig\\_port & resp\\_ip & resp\\_port & proto & service & duration & orig\\_bytes & resp\\_bytes & conn\\_state & missed\\_bytes & history & orig\\_pkts & orig\\_ip\\_bytes & resp\\_pkts & resp\\_ip\\_bytes\\\\\n",
       " <dbl> & <chr> & <int> & <chr> & <int> & <chr> & <chr> & <dbl> & <int> & <int> & <chr> & <int> & <chr> & <int> & <int> & <int> & <int>\\\\\n",
       "\\hline\n",
       "\t 1331902224 & 192.168.202.79  & 45300 & 192.168.229.153 & 5357 & tcp & http & 0.010000 & 173 &  513 & SF   & 0 & ShADfFa  &  4 &  389 &  3 &  677\\\\\n",
       "\t 1331909172 & 192.168.202.110 & 44457 & 192.168.22.253  &   80 & tcp & http & 0.010000 & 434 &  465 & RSTO & 0 & ShADadfR &  5 &  702 &  4 &  681\\\\\n",
       "\t 1331915516 & 192.168.202.102 &  4261 & 192.168.28.202  &   80 & tcp & http & 0.030000 & 478 & 8133 & RSTO & 0 & ShADadfR &  8 &  810 &  9 & 8505\\\\\n",
       "\t 1331915509 & 192.168.202.118 & 35260 & 192.168.26.152  &   80 & tcp & http &       NA & 235 & 1635 & SF   & 0 & ShADdFaf &  7 &  607 &  5 & 1903\\\\\n",
       "\t 1331915606 & 192.168.202.102 &  4910 & 192.168.23.202  &   80 & tcp & http &       NA & 486 & 8142 & RSTO & 0 & ShADadRf &  7 &  778 &  7 & 5674\\\\\n",
       "\t 1331915944 & 192.168.202.102 &  1617 & 192.168.23.202  &   80 & tcp & http & 0.030000 & 496 & 8133 & RSTO & 0 & ShADadfR &  8 &  828 &  9 & 8505\\\\\n",
       "\t 1331904088 & 192.168.202.110 & 46521 & 192.168.27.102  &   80 & tcp & http &       NA & 305 &  491 & RSTO & 0 & ShADadR  &  5 &  573 &  3 &  655\\\\\n",
       "\t 1331914632 & 192.168.202.102 &  1983 & 192.168.28.202  &   80 & tcp & http &       NA & 432 & 8191 & SF   & 0 & ShADadfF &  8 &  764 & 10 & 8603\\\\\n",
       "\t 1331932813 & 192.168.204.45  & 40237 & 192.168.23.202  &   22 & tcp & ssh  & 0.700001 & 523 & 1615 & SF   & 0 & ShAdDaFf & 10 & 1051 &  8 & 2039\\\\\n",
       "\t 1331916190 & 192.168.202.102 &  4783 & 192.168.23.202  &   80 & tcp & http &       NA & 523 & 8133 & RSTO & 0 & ShADadfR &  8 &  855 &  9 & 8505\\\\\n",
       "\\end{tabular}\n"
      ],
      "text/markdown": [
       "\n",
       "A data.table: 10 × 17\n",
       "\n",
       "| ts &lt;dbl&gt; | orig_ip &lt;chr&gt; | orig_port &lt;int&gt; | resp_ip &lt;chr&gt; | resp_port &lt;int&gt; | proto &lt;chr&gt; | service &lt;chr&gt; | duration &lt;dbl&gt; | orig_bytes &lt;int&gt; | resp_bytes &lt;int&gt; | conn_state &lt;chr&gt; | missed_bytes &lt;int&gt; | history &lt;chr&gt; | orig_pkts &lt;int&gt; | orig_ip_bytes &lt;int&gt; | resp_pkts &lt;int&gt; | resp_ip_bytes &lt;int&gt; |\n",
       "|---|---|---|---|---|---|---|---|---|---|---|---|---|---|---|---|---|\n",
       "| 1331902224 | 192.168.202.79  | 45300 | 192.168.229.153 | 5357 | tcp | http | 0.010000 | 173 |  513 | SF   | 0 | ShADfFa  |  4 |  389 |  3 |  677 |\n",
       "| 1331909172 | 192.168.202.110 | 44457 | 192.168.22.253  |   80 | tcp | http | 0.010000 | 434 |  465 | RSTO | 0 | ShADadfR |  5 |  702 |  4 |  681 |\n",
       "| 1331915516 | 192.168.202.102 |  4261 | 192.168.28.202  |   80 | tcp | http | 0.030000 | 478 | 8133 | RSTO | 0 | ShADadfR |  8 |  810 |  9 | 8505 |\n",
       "| 1331915509 | 192.168.202.118 | 35260 | 192.168.26.152  |   80 | tcp | http |       NA | 235 | 1635 | SF   | 0 | ShADdFaf |  7 |  607 |  5 | 1903 |\n",
       "| 1331915606 | 192.168.202.102 |  4910 | 192.168.23.202  |   80 | tcp | http |       NA | 486 | 8142 | RSTO | 0 | ShADadRf |  7 |  778 |  7 | 5674 |\n",
       "| 1331915944 | 192.168.202.102 |  1617 | 192.168.23.202  |   80 | tcp | http | 0.030000 | 496 | 8133 | RSTO | 0 | ShADadfR |  8 |  828 |  9 | 8505 |\n",
       "| 1331904088 | 192.168.202.110 | 46521 | 192.168.27.102  |   80 | tcp | http |       NA | 305 |  491 | RSTO | 0 | ShADadR  |  5 |  573 |  3 |  655 |\n",
       "| 1331914632 | 192.168.202.102 |  1983 | 192.168.28.202  |   80 | tcp | http |       NA | 432 | 8191 | SF   | 0 | ShADadfF |  8 |  764 | 10 | 8603 |\n",
       "| 1331932813 | 192.168.204.45  | 40237 | 192.168.23.202  |   22 | tcp | ssh  | 0.700001 | 523 | 1615 | SF   | 0 | ShAdDaFf | 10 | 1051 |  8 | 2039 |\n",
       "| 1331916190 | 192.168.202.102 |  4783 | 192.168.23.202  |   80 | tcp | http |       NA | 523 | 8133 | RSTO | 0 | ShADadfR |  8 |  855 |  9 | 8505 |\n",
       "\n"
      ],
      "text/plain": [
       "   ts         orig_ip         orig_port resp_ip         resp_port proto service\n",
       "1  1331902224 192.168.202.79  45300     192.168.229.153 5357      tcp   http   \n",
       "2  1331909172 192.168.202.110 44457     192.168.22.253    80      tcp   http   \n",
       "3  1331915516 192.168.202.102  4261     192.168.28.202    80      tcp   http   \n",
       "4  1331915509 192.168.202.118 35260     192.168.26.152    80      tcp   http   \n",
       "5  1331915606 192.168.202.102  4910     192.168.23.202    80      tcp   http   \n",
       "6  1331915944 192.168.202.102  1617     192.168.23.202    80      tcp   http   \n",
       "7  1331904088 192.168.202.110 46521     192.168.27.102    80      tcp   http   \n",
       "8  1331914632 192.168.202.102  1983     192.168.28.202    80      tcp   http   \n",
       "9  1331932813 192.168.204.45  40237     192.168.23.202    22      tcp   ssh    \n",
       "10 1331916190 192.168.202.102  4783     192.168.23.202    80      tcp   http   \n",
       "   duration orig_bytes resp_bytes conn_state missed_bytes history  orig_pkts\n",
       "1  0.010000 173         513       SF         0            ShADfFa   4       \n",
       "2  0.010000 434         465       RSTO       0            ShADadfR  5       \n",
       "3  0.030000 478        8133       RSTO       0            ShADadfR  8       \n",
       "4        NA 235        1635       SF         0            ShADdFaf  7       \n",
       "5        NA 486        8142       RSTO       0            ShADadRf  7       \n",
       "6  0.030000 496        8133       RSTO       0            ShADadfR  8       \n",
       "7        NA 305         491       RSTO       0            ShADadR   5       \n",
       "8        NA 432        8191       SF         0            ShADadfF  8       \n",
       "9  0.700001 523        1615       SF         0            ShAdDaFf 10       \n",
       "10       NA 523        8133       RSTO       0            ShADadfR  8       \n",
       "   orig_ip_bytes resp_pkts resp_ip_bytes\n",
       "1   389           3         677         \n",
       "2   702           4         681         \n",
       "3   810           9        8505         \n",
       "4   607           5        1903         \n",
       "5   778           7        5674         \n",
       "6   828           9        8505         \n",
       "7   573           3         655         \n",
       "8   764          10        8603         \n",
       "9  1051           8        2039         \n",
       "10  855           9        8505         "
      ]
     },
     "metadata": {},
     "output_type": "display_data"
    }
   ],
   "source": [
    "head(data3,10)"
   ]
  },
  {
   "cell_type": "code",
   "execution_count": 43,
   "metadata": {},
   "outputs": [],
   "source": [
    "data3[is.na(data3$duration),\"orig_bytes\"] <- NA\n",
    "data3[is.na(data3$duration),\"resp_bytes\"] <- NA"
   ]
  },
  {
   "cell_type": "code",
   "execution_count": 46,
   "metadata": {},
   "outputs": [
    {
     "data": {
      "text/html": [
       "<table>\n",
       "<caption>A data.table: 6 × 17</caption>\n",
       "<thead>\n",
       "\t<tr><th scope=col>ts</th><th scope=col>orig_ip</th><th scope=col>orig_port</th><th scope=col>resp_ip</th><th scope=col>resp_port</th><th scope=col>proto</th><th scope=col>service</th><th scope=col>duration</th><th scope=col>orig_bytes</th><th scope=col>resp_bytes</th><th scope=col>conn_state</th><th scope=col>missed_bytes</th><th scope=col>history</th><th scope=col>orig_pkts</th><th scope=col>orig_ip_bytes</th><th scope=col>resp_pkts</th><th scope=col>resp_ip_bytes</th></tr>\n",
       "\t<tr><th scope=col>&lt;dbl&gt;</th><th scope=col>&lt;chr&gt;</th><th scope=col>&lt;int&gt;</th><th scope=col>&lt;chr&gt;</th><th scope=col>&lt;int&gt;</th><th scope=col>&lt;chr&gt;</th><th scope=col>&lt;chr&gt;</th><th scope=col>&lt;dbl&gt;</th><th scope=col>&lt;int&gt;</th><th scope=col>&lt;int&gt;</th><th scope=col>&lt;chr&gt;</th><th scope=col>&lt;int&gt;</th><th scope=col>&lt;chr&gt;</th><th scope=col>&lt;int&gt;</th><th scope=col>&lt;int&gt;</th><th scope=col>&lt;int&gt;</th><th scope=col>&lt;int&gt;</th></tr>\n",
       "</thead>\n",
       "<tbody>\n",
       "\t<tr><td>1331902224</td><td>192.168.202.79 </td><td>45300</td><td>192.168.229.153</td><td>5357</td><td>tcp</td><td>http</td><td>0.01</td><td>173</td><td> 513</td><td>SF  </td><td>0</td><td>ShADfFa </td><td>4</td><td>389</td><td>3</td><td> 677</td></tr>\n",
       "\t<tr><td>1331909172</td><td>192.168.202.110</td><td>44457</td><td>192.168.22.253 </td><td>  80</td><td>tcp</td><td>http</td><td>0.01</td><td>434</td><td> 465</td><td>RSTO</td><td>0</td><td>ShADadfR</td><td>5</td><td>702</td><td>4</td><td> 681</td></tr>\n",
       "\t<tr><td>1331915516</td><td>192.168.202.102</td><td> 4261</td><td>192.168.28.202 </td><td>  80</td><td>tcp</td><td>http</td><td>0.03</td><td>478</td><td>8133</td><td>RSTO</td><td>0</td><td>ShADadfR</td><td>8</td><td>810</td><td>9</td><td>8505</td></tr>\n",
       "\t<tr><td>1331915509</td><td>192.168.202.118</td><td>35260</td><td>192.168.26.152 </td><td>  80</td><td>tcp</td><td>http</td><td>  NA</td><td> NA</td><td>  NA</td><td>SF  </td><td>0</td><td>ShADdFaf</td><td>7</td><td>607</td><td>5</td><td>1903</td></tr>\n",
       "\t<tr><td>1331915606</td><td>192.168.202.102</td><td> 4910</td><td>192.168.23.202 </td><td>  80</td><td>tcp</td><td>http</td><td>  NA</td><td> NA</td><td>  NA</td><td>RSTO</td><td>0</td><td>ShADadRf</td><td>7</td><td>778</td><td>7</td><td>5674</td></tr>\n",
       "\t<tr><td>1331915944</td><td>192.168.202.102</td><td> 1617</td><td>192.168.23.202 </td><td>  80</td><td>tcp</td><td>http</td><td>0.03</td><td>496</td><td>8133</td><td>RSTO</td><td>0</td><td>ShADadfR</td><td>8</td><td>828</td><td>9</td><td>8505</td></tr>\n",
       "</tbody>\n",
       "</table>\n"
      ],
      "text/latex": [
       "A data.table: 6 × 17\n",
       "\\begin{tabular}{lllllllllllllllll}\n",
       " ts & orig\\_ip & orig\\_port & resp\\_ip & resp\\_port & proto & service & duration & orig\\_bytes & resp\\_bytes & conn\\_state & missed\\_bytes & history & orig\\_pkts & orig\\_ip\\_bytes & resp\\_pkts & resp\\_ip\\_bytes\\\\\n",
       " <dbl> & <chr> & <int> & <chr> & <int> & <chr> & <chr> & <dbl> & <int> & <int> & <chr> & <int> & <chr> & <int> & <int> & <int> & <int>\\\\\n",
       "\\hline\n",
       "\t 1331902224 & 192.168.202.79  & 45300 & 192.168.229.153 & 5357 & tcp & http & 0.01 & 173 &  513 & SF   & 0 & ShADfFa  & 4 & 389 & 3 &  677\\\\\n",
       "\t 1331909172 & 192.168.202.110 & 44457 & 192.168.22.253  &   80 & tcp & http & 0.01 & 434 &  465 & RSTO & 0 & ShADadfR & 5 & 702 & 4 &  681\\\\\n",
       "\t 1331915516 & 192.168.202.102 &  4261 & 192.168.28.202  &   80 & tcp & http & 0.03 & 478 & 8133 & RSTO & 0 & ShADadfR & 8 & 810 & 9 & 8505\\\\\n",
       "\t 1331915509 & 192.168.202.118 & 35260 & 192.168.26.152  &   80 & tcp & http &   NA &  NA &   NA & SF   & 0 & ShADdFaf & 7 & 607 & 5 & 1903\\\\\n",
       "\t 1331915606 & 192.168.202.102 &  4910 & 192.168.23.202  &   80 & tcp & http &   NA &  NA &   NA & RSTO & 0 & ShADadRf & 7 & 778 & 7 & 5674\\\\\n",
       "\t 1331915944 & 192.168.202.102 &  1617 & 192.168.23.202  &   80 & tcp & http & 0.03 & 496 & 8133 & RSTO & 0 & ShADadfR & 8 & 828 & 9 & 8505\\\\\n",
       "\\end{tabular}\n"
      ],
      "text/markdown": [
       "\n",
       "A data.table: 6 × 17\n",
       "\n",
       "| ts &lt;dbl&gt; | orig_ip &lt;chr&gt; | orig_port &lt;int&gt; | resp_ip &lt;chr&gt; | resp_port &lt;int&gt; | proto &lt;chr&gt; | service &lt;chr&gt; | duration &lt;dbl&gt; | orig_bytes &lt;int&gt; | resp_bytes &lt;int&gt; | conn_state &lt;chr&gt; | missed_bytes &lt;int&gt; | history &lt;chr&gt; | orig_pkts &lt;int&gt; | orig_ip_bytes &lt;int&gt; | resp_pkts &lt;int&gt; | resp_ip_bytes &lt;int&gt; |\n",
       "|---|---|---|---|---|---|---|---|---|---|---|---|---|---|---|---|---|\n",
       "| 1331902224 | 192.168.202.79  | 45300 | 192.168.229.153 | 5357 | tcp | http | 0.01 | 173 |  513 | SF   | 0 | ShADfFa  | 4 | 389 | 3 |  677 |\n",
       "| 1331909172 | 192.168.202.110 | 44457 | 192.168.22.253  |   80 | tcp | http | 0.01 | 434 |  465 | RSTO | 0 | ShADadfR | 5 | 702 | 4 |  681 |\n",
       "| 1331915516 | 192.168.202.102 |  4261 | 192.168.28.202  |   80 | tcp | http | 0.03 | 478 | 8133 | RSTO | 0 | ShADadfR | 8 | 810 | 9 | 8505 |\n",
       "| 1331915509 | 192.168.202.118 | 35260 | 192.168.26.152  |   80 | tcp | http |   NA |  NA |   NA | SF   | 0 | ShADdFaf | 7 | 607 | 5 | 1903 |\n",
       "| 1331915606 | 192.168.202.102 |  4910 | 192.168.23.202  |   80 | tcp | http |   NA |  NA |   NA | RSTO | 0 | ShADadRf | 7 | 778 | 7 | 5674 |\n",
       "| 1331915944 | 192.168.202.102 |  1617 | 192.168.23.202  |   80 | tcp | http | 0.03 | 496 | 8133 | RSTO | 0 | ShADadfR | 8 | 828 | 9 | 8505 |\n",
       "\n"
      ],
      "text/plain": [
       "  ts         orig_ip         orig_port resp_ip         resp_port proto service\n",
       "1 1331902224 192.168.202.79  45300     192.168.229.153 5357      tcp   http   \n",
       "2 1331909172 192.168.202.110 44457     192.168.22.253    80      tcp   http   \n",
       "3 1331915516 192.168.202.102  4261     192.168.28.202    80      tcp   http   \n",
       "4 1331915509 192.168.202.118 35260     192.168.26.152    80      tcp   http   \n",
       "5 1331915606 192.168.202.102  4910     192.168.23.202    80      tcp   http   \n",
       "6 1331915944 192.168.202.102  1617     192.168.23.202    80      tcp   http   \n",
       "  duration orig_bytes resp_bytes conn_state missed_bytes history  orig_pkts\n",
       "1 0.01     173         513       SF         0            ShADfFa  4        \n",
       "2 0.01     434         465       RSTO       0            ShADadfR 5        \n",
       "3 0.03     478        8133       RSTO       0            ShADadfR 8        \n",
       "4   NA      NA          NA       SF         0            ShADdFaf 7        \n",
       "5   NA      NA          NA       RSTO       0            ShADadRf 7        \n",
       "6 0.03     496        8133       RSTO       0            ShADadfR 8        \n",
       "  orig_ip_bytes resp_pkts resp_ip_bytes\n",
       "1 389           3          677         \n",
       "2 702           4          681         \n",
       "3 810           9         8505         \n",
       "4 607           5         1903         \n",
       "5 778           7         5674         \n",
       "6 828           9         8505         "
      ]
     },
     "metadata": {},
     "output_type": "display_data"
    },
    {
     "data": {
      "text/html": [
       "<table>\n",
       "<caption>A data.table: 6 × 17</caption>\n",
       "<thead>\n",
       "\t<tr><th scope=col>ts</th><th scope=col>orig_ip</th><th scope=col>orig_port</th><th scope=col>resp_ip</th><th scope=col>resp_port</th><th scope=col>proto</th><th scope=col>service</th><th scope=col>duration</th><th scope=col>orig_bytes</th><th scope=col>resp_bytes</th><th scope=col>conn_state</th><th scope=col>missed_bytes</th><th scope=col>history</th><th scope=col>orig_pkts</th><th scope=col>orig_ip_bytes</th><th scope=col>resp_pkts</th><th scope=col>resp_ip_bytes</th></tr>\n",
       "\t<tr><th scope=col>&lt;dbl&gt;</th><th scope=col>&lt;chr&gt;</th><th scope=col>&lt;int&gt;</th><th scope=col>&lt;chr&gt;</th><th scope=col>&lt;int&gt;</th><th scope=col>&lt;chr&gt;</th><th scope=col>&lt;chr&gt;</th><th scope=col>&lt;dbl&gt;</th><th scope=col>&lt;int&gt;</th><th scope=col>&lt;int&gt;</th><th scope=col>&lt;chr&gt;</th><th scope=col>&lt;int&gt;</th><th scope=col>&lt;chr&gt;</th><th scope=col>&lt;int&gt;</th><th scope=col>&lt;int&gt;</th><th scope=col>&lt;int&gt;</th><th scope=col>&lt;int&gt;</th></tr>\n",
       "</thead>\n",
       "<tbody>\n",
       "\t<tr><td>1331902224</td><td>192.168.202.79 </td><td>45300</td><td>192.168.229.153</td><td>5357</td><td>tcp</td><td>http</td><td>0.01</td><td>173</td><td> 513</td><td>SF  </td><td>0</td><td>ShADfFa </td><td>4</td><td>389</td><td>3</td><td> 677</td></tr>\n",
       "\t<tr><td>1331909172</td><td>192.168.202.110</td><td>44457</td><td>192.168.22.253 </td><td>  80</td><td>tcp</td><td>http</td><td>0.01</td><td>434</td><td> 465</td><td>RSTO</td><td>0</td><td>ShADadfR</td><td>5</td><td>702</td><td>4</td><td> 681</td></tr>\n",
       "\t<tr><td>1331915516</td><td>192.168.202.102</td><td> 4261</td><td>192.168.28.202 </td><td>  80</td><td>tcp</td><td>http</td><td>0.03</td><td>478</td><td>8133</td><td>RSTO</td><td>0</td><td>ShADadfR</td><td>8</td><td>810</td><td>9</td><td>8505</td></tr>\n",
       "\t<tr><td>1331915509</td><td>192.168.202.118</td><td>35260</td><td>192.168.26.152 </td><td>  80</td><td>tcp</td><td>http</td><td>0.02</td><td>235</td><td>1635</td><td>SF  </td><td>0</td><td>ShADdFaf</td><td>7</td><td>607</td><td>5</td><td>1903</td></tr>\n",
       "\t<tr><td>1331915606</td><td>192.168.202.102</td><td> 4910</td><td>192.168.23.202 </td><td>  80</td><td>tcp</td><td>http</td><td>0.03</td><td>486</td><td>8142</td><td>RSTO</td><td>0</td><td>ShADadRf</td><td>7</td><td>778</td><td>7</td><td>5674</td></tr>\n",
       "\t<tr><td>1331915944</td><td>192.168.202.102</td><td> 1617</td><td>192.168.23.202 </td><td>  80</td><td>tcp</td><td>http</td><td>0.03</td><td>496</td><td>8133</td><td>RSTO</td><td>0</td><td>ShADadfR</td><td>8</td><td>828</td><td>9</td><td>8505</td></tr>\n",
       "</tbody>\n",
       "</table>\n"
      ],
      "text/latex": [
       "A data.table: 6 × 17\n",
       "\\begin{tabular}{lllllllllllllllll}\n",
       " ts & orig\\_ip & orig\\_port & resp\\_ip & resp\\_port & proto & service & duration & orig\\_bytes & resp\\_bytes & conn\\_state & missed\\_bytes & history & orig\\_pkts & orig\\_ip\\_bytes & resp\\_pkts & resp\\_ip\\_bytes\\\\\n",
       " <dbl> & <chr> & <int> & <chr> & <int> & <chr> & <chr> & <dbl> & <int> & <int> & <chr> & <int> & <chr> & <int> & <int> & <int> & <int>\\\\\n",
       "\\hline\n",
       "\t 1331902224 & 192.168.202.79  & 45300 & 192.168.229.153 & 5357 & tcp & http & 0.01 & 173 &  513 & SF   & 0 & ShADfFa  & 4 & 389 & 3 &  677\\\\\n",
       "\t 1331909172 & 192.168.202.110 & 44457 & 192.168.22.253  &   80 & tcp & http & 0.01 & 434 &  465 & RSTO & 0 & ShADadfR & 5 & 702 & 4 &  681\\\\\n",
       "\t 1331915516 & 192.168.202.102 &  4261 & 192.168.28.202  &   80 & tcp & http & 0.03 & 478 & 8133 & RSTO & 0 & ShADadfR & 8 & 810 & 9 & 8505\\\\\n",
       "\t 1331915509 & 192.168.202.118 & 35260 & 192.168.26.152  &   80 & tcp & http & 0.02 & 235 & 1635 & SF   & 0 & ShADdFaf & 7 & 607 & 5 & 1903\\\\\n",
       "\t 1331915606 & 192.168.202.102 &  4910 & 192.168.23.202  &   80 & tcp & http & 0.03 & 486 & 8142 & RSTO & 0 & ShADadRf & 7 & 778 & 7 & 5674\\\\\n",
       "\t 1331915944 & 192.168.202.102 &  1617 & 192.168.23.202  &   80 & tcp & http & 0.03 & 496 & 8133 & RSTO & 0 & ShADadfR & 8 & 828 & 9 & 8505\\\\\n",
       "\\end{tabular}\n"
      ],
      "text/markdown": [
       "\n",
       "A data.table: 6 × 17\n",
       "\n",
       "| ts &lt;dbl&gt; | orig_ip &lt;chr&gt; | orig_port &lt;int&gt; | resp_ip &lt;chr&gt; | resp_port &lt;int&gt; | proto &lt;chr&gt; | service &lt;chr&gt; | duration &lt;dbl&gt; | orig_bytes &lt;int&gt; | resp_bytes &lt;int&gt; | conn_state &lt;chr&gt; | missed_bytes &lt;int&gt; | history &lt;chr&gt; | orig_pkts &lt;int&gt; | orig_ip_bytes &lt;int&gt; | resp_pkts &lt;int&gt; | resp_ip_bytes &lt;int&gt; |\n",
       "|---|---|---|---|---|---|---|---|---|---|---|---|---|---|---|---|---|\n",
       "| 1331902224 | 192.168.202.79  | 45300 | 192.168.229.153 | 5357 | tcp | http | 0.01 | 173 |  513 | SF   | 0 | ShADfFa  | 4 | 389 | 3 |  677 |\n",
       "| 1331909172 | 192.168.202.110 | 44457 | 192.168.22.253  |   80 | tcp | http | 0.01 | 434 |  465 | RSTO | 0 | ShADadfR | 5 | 702 | 4 |  681 |\n",
       "| 1331915516 | 192.168.202.102 |  4261 | 192.168.28.202  |   80 | tcp | http | 0.03 | 478 | 8133 | RSTO | 0 | ShADadfR | 8 | 810 | 9 | 8505 |\n",
       "| 1331915509 | 192.168.202.118 | 35260 | 192.168.26.152  |   80 | tcp | http | 0.02 | 235 | 1635 | SF   | 0 | ShADdFaf | 7 | 607 | 5 | 1903 |\n",
       "| 1331915606 | 192.168.202.102 |  4910 | 192.168.23.202  |   80 | tcp | http | 0.03 | 486 | 8142 | RSTO | 0 | ShADadRf | 7 | 778 | 7 | 5674 |\n",
       "| 1331915944 | 192.168.202.102 |  1617 | 192.168.23.202  |   80 | tcp | http | 0.03 | 496 | 8133 | RSTO | 0 | ShADadfR | 8 | 828 | 9 | 8505 |\n",
       "\n"
      ],
      "text/plain": [
       "  ts         orig_ip         orig_port resp_ip         resp_port proto service\n",
       "1 1331902224 192.168.202.79  45300     192.168.229.153 5357      tcp   http   \n",
       "2 1331909172 192.168.202.110 44457     192.168.22.253    80      tcp   http   \n",
       "3 1331915516 192.168.202.102  4261     192.168.28.202    80      tcp   http   \n",
       "4 1331915509 192.168.202.118 35260     192.168.26.152    80      tcp   http   \n",
       "5 1331915606 192.168.202.102  4910     192.168.23.202    80      tcp   http   \n",
       "6 1331915944 192.168.202.102  1617     192.168.23.202    80      tcp   http   \n",
       "  duration orig_bytes resp_bytes conn_state missed_bytes history  orig_pkts\n",
       "1 0.01     173         513       SF         0            ShADfFa  4        \n",
       "2 0.01     434         465       RSTO       0            ShADadfR 5        \n",
       "3 0.03     478        8133       RSTO       0            ShADadfR 8        \n",
       "4 0.02     235        1635       SF         0            ShADdFaf 7        \n",
       "5 0.03     486        8142       RSTO       0            ShADadRf 7        \n",
       "6 0.03     496        8133       RSTO       0            ShADadfR 8        \n",
       "  orig_ip_bytes resp_pkts resp_ip_bytes\n",
       "1 389           3          677         \n",
       "2 702           4          681         \n",
       "3 810           9         8505         \n",
       "4 607           5         1903         \n",
       "5 778           7         5674         \n",
       "6 828           9         8505         "
      ]
     },
     "metadata": {},
     "output_type": "display_data"
    }
   ],
   "source": [
    "head(data3)\n",
    "head(data2)"
   ]
  },
  {
   "cell_type": "code",
   "execution_count": 45,
   "metadata": {},
   "outputs": [
    {
     "data": {
      "text/html": [
       "<table>\n",
       "<caption>A tibble: 17 × 6</caption>\n",
       "<thead>\n",
       "\t<tr><th scope=col>variables</th><th scope=col>types</th><th scope=col>missing_count</th><th scope=col>missing_percent</th><th scope=col>unique_count</th><th scope=col>unique_rate</th></tr>\n",
       "\t<tr><th scope=col>&lt;chr&gt;</th><th scope=col>&lt;chr&gt;</th><th scope=col>&lt;int&gt;</th><th scope=col>&lt;dbl&gt;</th><th scope=col>&lt;int&gt;</th><th scope=col>&lt;dbl&gt;</th></tr>\n",
       "</thead>\n",
       "<tbody>\n",
       "\t<tr><td>ts           </td><td>numeric  </td><td>    0</td><td> 0.00000</td><td>93516</td><td>9.232318e-01</td></tr>\n",
       "\t<tr><td>orig_ip      </td><td>character</td><td>    0</td><td> 0.00000</td><td>  164</td><td>1.619081e-03</td></tr>\n",
       "\t<tr><td>orig_port    </td><td>integer  </td><td>    0</td><td> 0.00000</td><td>31446</td><td>3.104490e-01</td></tr>\n",
       "\t<tr><td>resp_ip      </td><td>character</td><td>    0</td><td> 0.00000</td><td>  186</td><td>1.836275e-03</td></tr>\n",
       "\t<tr><td>resp_port    </td><td>integer  </td><td>    0</td><td> 0.00000</td><td>  268</td><td>2.645816e-03</td></tr>\n",
       "\t<tr><td>proto        </td><td>character</td><td>    0</td><td> 0.00000</td><td>    2</td><td>1.974490e-05</td></tr>\n",
       "\t<tr><td>service      </td><td>character</td><td>    0</td><td> 0.00000</td><td>    8</td><td>7.897958e-05</td></tr>\n",
       "\t<tr><td>duration     </td><td>numeric  </td><td>30387</td><td>29.99941</td><td> 2294</td><td>2.264740e-02</td></tr>\n",
       "\t<tr><td>orig_bytes   </td><td>integer  </td><td>30387</td><td>29.99941</td><td> 3125</td><td>3.085140e-02</td></tr>\n",
       "\t<tr><td>resp_bytes   </td><td>integer  </td><td>30387</td><td>29.99941</td><td> 2923</td><td>2.885717e-02</td></tr>\n",
       "\t<tr><td>conn_state   </td><td>character</td><td>    0</td><td> 0.00000</td><td>   10</td><td>9.872448e-05</td></tr>\n",
       "\t<tr><td>missed_bytes </td><td>integer  </td><td>    0</td><td> 0.00000</td><td>    3</td><td>2.961734e-05</td></tr>\n",
       "\t<tr><td>history      </td><td>character</td><td>    0</td><td> 0.00000</td><td>  185</td><td>1.826403e-03</td></tr>\n",
       "\t<tr><td>orig_pkts    </td><td>integer  </td><td>    0</td><td> 0.00000</td><td>  258</td><td>2.547092e-03</td></tr>\n",
       "\t<tr><td>orig_ip_bytes</td><td>integer  </td><td>    0</td><td> 0.00000</td><td> 4455</td><td>4.398176e-02</td></tr>\n",
       "\t<tr><td>resp_pkts    </td><td>integer  </td><td>    0</td><td> 0.00000</td><td>  277</td><td>2.734668e-03</td></tr>\n",
       "\t<tr><td>resp_ip_bytes</td><td>integer  </td><td>    0</td><td> 0.00000</td><td> 4174</td><td>4.120760e-02</td></tr>\n",
       "</tbody>\n",
       "</table>\n"
      ],
      "text/latex": [
       "A tibble: 17 × 6\n",
       "\\begin{tabular}{llllll}\n",
       " variables & types & missing\\_count & missing\\_percent & unique\\_count & unique\\_rate\\\\\n",
       " <chr> & <chr> & <int> & <dbl> & <int> & <dbl>\\\\\n",
       "\\hline\n",
       "\t ts            & numeric   &     0 &  0.00000 & 93516 & 9.232318e-01\\\\\n",
       "\t orig\\_ip       & character &     0 &  0.00000 &   164 & 1.619081e-03\\\\\n",
       "\t orig\\_port     & integer   &     0 &  0.00000 & 31446 & 3.104490e-01\\\\\n",
       "\t resp\\_ip       & character &     0 &  0.00000 &   186 & 1.836275e-03\\\\\n",
       "\t resp\\_port     & integer   &     0 &  0.00000 &   268 & 2.645816e-03\\\\\n",
       "\t proto         & character &     0 &  0.00000 &     2 & 1.974490e-05\\\\\n",
       "\t service       & character &     0 &  0.00000 &     8 & 7.897958e-05\\\\\n",
       "\t duration      & numeric   & 30387 & 29.99941 &  2294 & 2.264740e-02\\\\\n",
       "\t orig\\_bytes    & integer   & 30387 & 29.99941 &  3125 & 3.085140e-02\\\\\n",
       "\t resp\\_bytes    & integer   & 30387 & 29.99941 &  2923 & 2.885717e-02\\\\\n",
       "\t conn\\_state    & character &     0 &  0.00000 &    10 & 9.872448e-05\\\\\n",
       "\t missed\\_bytes  & integer   &     0 &  0.00000 &     3 & 2.961734e-05\\\\\n",
       "\t history       & character &     0 &  0.00000 &   185 & 1.826403e-03\\\\\n",
       "\t orig\\_pkts     & integer   &     0 &  0.00000 &   258 & 2.547092e-03\\\\\n",
       "\t orig\\_ip\\_bytes & integer   &     0 &  0.00000 &  4455 & 4.398176e-02\\\\\n",
       "\t resp\\_pkts     & integer   &     0 &  0.00000 &   277 & 2.734668e-03\\\\\n",
       "\t resp\\_ip\\_bytes & integer   &     0 &  0.00000 &  4174 & 4.120760e-02\\\\\n",
       "\\end{tabular}\n"
      ],
      "text/markdown": [
       "\n",
       "A tibble: 17 × 6\n",
       "\n",
       "| variables &lt;chr&gt; | types &lt;chr&gt; | missing_count &lt;int&gt; | missing_percent &lt;dbl&gt; | unique_count &lt;int&gt; | unique_rate &lt;dbl&gt; |\n",
       "|---|---|---|---|---|---|\n",
       "| ts            | numeric   |     0 |  0.00000 | 93516 | 9.232318e-01 |\n",
       "| orig_ip       | character |     0 |  0.00000 |   164 | 1.619081e-03 |\n",
       "| orig_port     | integer   |     0 |  0.00000 | 31446 | 3.104490e-01 |\n",
       "| resp_ip       | character |     0 |  0.00000 |   186 | 1.836275e-03 |\n",
       "| resp_port     | integer   |     0 |  0.00000 |   268 | 2.645816e-03 |\n",
       "| proto         | character |     0 |  0.00000 |     2 | 1.974490e-05 |\n",
       "| service       | character |     0 |  0.00000 |     8 | 7.897958e-05 |\n",
       "| duration      | numeric   | 30387 | 29.99941 |  2294 | 2.264740e-02 |\n",
       "| orig_bytes    | integer   | 30387 | 29.99941 |  3125 | 3.085140e-02 |\n",
       "| resp_bytes    | integer   | 30387 | 29.99941 |  2923 | 2.885717e-02 |\n",
       "| conn_state    | character |     0 |  0.00000 |    10 | 9.872448e-05 |\n",
       "| missed_bytes  | integer   |     0 |  0.00000 |     3 | 2.961734e-05 |\n",
       "| history       | character |     0 |  0.00000 |   185 | 1.826403e-03 |\n",
       "| orig_pkts     | integer   |     0 |  0.00000 |   258 | 2.547092e-03 |\n",
       "| orig_ip_bytes | integer   |     0 |  0.00000 |  4455 | 4.398176e-02 |\n",
       "| resp_pkts     | integer   |     0 |  0.00000 |   277 | 2.734668e-03 |\n",
       "| resp_ip_bytes | integer   |     0 |  0.00000 |  4174 | 4.120760e-02 |\n",
       "\n"
      ],
      "text/plain": [
       "   variables     types     missing_count missing_percent unique_count\n",
       "1  ts            numeric       0          0.00000        93516       \n",
       "2  orig_ip       character     0          0.00000          164       \n",
       "3  orig_port     integer       0          0.00000        31446       \n",
       "4  resp_ip       character     0          0.00000          186       \n",
       "5  resp_port     integer       0          0.00000          268       \n",
       "6  proto         character     0          0.00000            2       \n",
       "7  service       character     0          0.00000            8       \n",
       "8  duration      numeric   30387         29.99941         2294       \n",
       "9  orig_bytes    integer   30387         29.99941         3125       \n",
       "10 resp_bytes    integer   30387         29.99941         2923       \n",
       "11 conn_state    character     0          0.00000           10       \n",
       "12 missed_bytes  integer       0          0.00000            3       \n",
       "13 history       character     0          0.00000          185       \n",
       "14 orig_pkts     integer       0          0.00000          258       \n",
       "15 orig_ip_bytes integer       0          0.00000         4455       \n",
       "16 resp_pkts     integer       0          0.00000          277       \n",
       "17 resp_ip_bytes integer       0          0.00000         4174       \n",
       "   unique_rate \n",
       "1  9.232318e-01\n",
       "2  1.619081e-03\n",
       "3  3.104490e-01\n",
       "4  1.836275e-03\n",
       "5  2.645816e-03\n",
       "6  1.974490e-05\n",
       "7  7.897958e-05\n",
       "8  2.264740e-02\n",
       "9  3.085140e-02\n",
       "10 2.885717e-02\n",
       "11 9.872448e-05\n",
       "12 2.961734e-05\n",
       "13 1.826403e-03\n",
       "14 2.547092e-03\n",
       "15 4.398176e-02\n",
       "16 2.734668e-03\n",
       "17 4.120760e-02"
      ]
     },
     "metadata": {},
     "output_type": "display_data"
    }
   ],
   "source": [
    "diagnose(data3)"
   ]
  },
  {
   "cell_type": "code",
   "execution_count": 50,
   "metadata": {},
   "outputs": [],
   "source": [
    "write.csv.gz(data3,\"G:\\\\Users\\\\Gabriel\\\\Documents\\\\Education\\\\UoB\\\\GitHubDesktop\\\\DST-Assessment-02\\\\Data\\\\test_missing.csv.gz\",row.names=FALSE)"
   ]
  },
  {
   "cell_type": "code",
   "execution_count": 51,
   "metadata": {},
   "outputs": [],
   "source": [
    "write.csv.gz(data2,\"G:\\\\Users\\\\Gabriel\\\\Documents\\\\Education\\\\UoB\\\\GitHubDesktop\\\\DST-Assessment-02\\\\Data\\\\test_complete.csv.gz\",row.names=FALSE)"
   ]
  }
 ],
 "metadata": {
  "kernelspec": {
   "display_name": "R",
   "language": "R",
   "name": "ir"
  },
  "language_info": {
   "codemirror_mode": "r",
   "file_extension": ".r",
   "mimetype": "text/x-r-source",
   "name": "R",
   "pygments_lexer": "r",
   "version": "4.0.3"
  }
 },
 "nbformat": 4,
 "nbformat_minor": 4
}
