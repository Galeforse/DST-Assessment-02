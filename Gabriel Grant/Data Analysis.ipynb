{
 "cells": [
  {
   "cell_type": "code",
   "execution_count": 1,
   "metadata": {},
   "outputs": [],
   "source": [
    "#install.packages(\"dlookr\")"
   ]
  },
  {
   "cell_type": "code",
   "execution_count": 2,
   "metadata": {
    "collapsed": true,
    "jupyter": {
     "outputs_hidden": true
    }
   },
   "outputs": [
    {
     "name": "stderr",
     "output_type": "stream",
     "text": [
      "\n",
      "Attaching package: 'lubridate'\n",
      "\n",
      "\n",
      "The following objects are masked from 'package:base':\n",
      "\n",
      "    date, intersect, setdiff, union\n",
      "\n",
      "\n",
      "Loading required package: mice\n",
      "\n",
      "\n",
      "Attaching package: 'mice'\n",
      "\n",
      "\n",
      "The following object is masked from 'package:stats':\n",
      "\n",
      "    filter\n",
      "\n",
      "\n",
      "The following objects are masked from 'package:base':\n",
      "\n",
      "    cbind, rbind\n",
      "\n",
      "\n",
      "Registered S3 method overwritten by 'quantmod':\n",
      "  method            from\n",
      "  as.zoo.data.frame zoo \n",
      "\n",
      "\n",
      "Attaching package: 'dlookr'\n",
      "\n",
      "\n",
      "The following object is masked from 'package:base':\n",
      "\n",
      "    transform\n",
      "\n",
      "\n"
     ]
    }
   ],
   "source": [
    "library(lubridate)\n",
    "library(dlookr)"
   ]
  },
  {
   "cell_type": "code",
   "execution_count": 3,
   "metadata": {},
   "outputs": [
    {
     "name": "stdout",
     "output_type": "stream",
     "text": [
      "[1] \"Data imported in:\"\n",
      "[1] \"14.84S\"\n"
     ]
    }
   ],
   "source": [
    "temp2 <- tempfile()\n",
    "start <- proc.time()\n",
    "download.file(\"https://github.com/Galeforse/DST-Assessment-02/raw/main/Data/1_percent_data_h.csv.gz\",temp2)\n",
    "data <- (read.csv(gzfile(temp2)))\n",
    "print(\"Data imported in:\")\n",
    "print(seconds_to_period((proc.time()-start)[3]))"
   ]
  },
  {
   "cell_type": "code",
   "execution_count": 10,
   "metadata": {},
   "outputs": [
    {
     "data": {
      "text/html": [
       "<table>\n",
       "<caption>A tibble: 20 × 6</caption>\n",
       "<thead>\n",
       "\t<tr><th scope=col>variables</th><th scope=col>types</th><th scope=col>missing_count</th><th scope=col>missing_percent</th><th scope=col>unique_count</th><th scope=col>unique_rate</th></tr>\n",
       "\t<tr><th scope=col>&lt;chr&gt;</th><th scope=col>&lt;chr&gt;</th><th scope=col>&lt;int&gt;</th><th scope=col>&lt;dbl&gt;</th><th scope=col>&lt;int&gt;</th><th scope=col>&lt;dbl&gt;</th></tr>\n",
       "</thead>\n",
       "<tbody>\n",
       "\t<tr><td>ts            </td><td>numeric  </td><td>0</td><td>0</td><td>  39225</td><td>3.456809e-02</td></tr>\n",
       "\t<tr><td>uid           </td><td>character</td><td>0</td><td>0</td><td>1134717</td><td>1.000000e+00</td></tr>\n",
       "\t<tr><td>orig_ip       </td><td>character</td><td>0</td><td>0</td><td>    168</td><td>1.480545e-04</td></tr>\n",
       "\t<tr><td>orig_port     </td><td>integer  </td><td>0</td><td>0</td><td>  31754</td><td>2.798407e-02</td></tr>\n",
       "\t<tr><td>resp_ip       </td><td>character</td><td>0</td><td>0</td><td>   2689</td><td>2.369754e-03</td></tr>\n",
       "\t<tr><td>resp_port     </td><td>integer  </td><td>0</td><td>0</td><td>  65536</td><td>5.775537e-02</td></tr>\n",
       "\t<tr><td>proto         </td><td>character</td><td>0</td><td>0</td><td>      3</td><td>2.643831e-06</td></tr>\n",
       "\t<tr><td>service       </td><td>character</td><td>0</td><td>0</td><td>      8</td><td>7.050216e-06</td></tr>\n",
       "\t<tr><td>duration      </td><td>character</td><td>0</td><td>0</td><td>   1622</td><td>1.429431e-03</td></tr>\n",
       "\t<tr><td>orig_bytes    </td><td>character</td><td>0</td><td>0</td><td>    606</td><td>5.340539e-04</td></tr>\n",
       "\t<tr><td>resp_bytes    </td><td>character</td><td>0</td><td>0</td><td>    451</td><td>3.974559e-04</td></tr>\n",
       "\t<tr><td>conn_state    </td><td>character</td><td>0</td><td>0</td><td>     13</td><td>1.145660e-05</td></tr>\n",
       "\t<tr><td>local_orig    </td><td>character</td><td>0</td><td>0</td><td>      1</td><td>8.812770e-07</td></tr>\n",
       "\t<tr><td>missed_bytes  </td><td>integer  </td><td>0</td><td>0</td><td>      1</td><td>8.812770e-07</td></tr>\n",
       "\t<tr><td>history       </td><td>character</td><td>0</td><td>0</td><td>    114</td><td>1.004656e-04</td></tr>\n",
       "\t<tr><td>orig_pkts     </td><td>integer  </td><td>0</td><td>0</td><td>     89</td><td>7.843365e-05</td></tr>\n",
       "\t<tr><td>orig_ip_bytes </td><td>integer  </td><td>0</td><td>0</td><td>   1068</td><td>9.412038e-04</td></tr>\n",
       "\t<tr><td>resp_pkts     </td><td>integer  </td><td>0</td><td>0</td><td>     70</td><td>6.168939e-05</td></tr>\n",
       "\t<tr><td>resp_ip_bytes </td><td>integer  </td><td>0</td><td>0</td><td>    577</td><td>5.084968e-04</td></tr>\n",
       "\t<tr><td>tunnel_parents</td><td>character</td><td>0</td><td>0</td><td>      1</td><td>8.812770e-07</td></tr>\n",
       "</tbody>\n",
       "</table>\n"
      ],
      "text/latex": [
       "A tibble: 20 × 6\n",
       "\\begin{tabular}{llllll}\n",
       " variables & types & missing\\_count & missing\\_percent & unique\\_count & unique\\_rate\\\\\n",
       " <chr> & <chr> & <int> & <dbl> & <int> & <dbl>\\\\\n",
       "\\hline\n",
       "\t ts             & numeric   & 0 & 0 &   39225 & 3.456809e-02\\\\\n",
       "\t uid            & character & 0 & 0 & 1134717 & 1.000000e+00\\\\\n",
       "\t orig\\_ip        & character & 0 & 0 &     168 & 1.480545e-04\\\\\n",
       "\t orig\\_port      & integer   & 0 & 0 &   31754 & 2.798407e-02\\\\\n",
       "\t resp\\_ip        & character & 0 & 0 &    2689 & 2.369754e-03\\\\\n",
       "\t resp\\_port      & integer   & 0 & 0 &   65536 & 5.775537e-02\\\\\n",
       "\t proto          & character & 0 & 0 &       3 & 2.643831e-06\\\\\n",
       "\t service        & character & 0 & 0 &       8 & 7.050216e-06\\\\\n",
       "\t duration       & character & 0 & 0 &    1622 & 1.429431e-03\\\\\n",
       "\t orig\\_bytes     & character & 0 & 0 &     606 & 5.340539e-04\\\\\n",
       "\t resp\\_bytes     & character & 0 & 0 &     451 & 3.974559e-04\\\\\n",
       "\t conn\\_state     & character & 0 & 0 &      13 & 1.145660e-05\\\\\n",
       "\t local\\_orig     & character & 0 & 0 &       1 & 8.812770e-07\\\\\n",
       "\t missed\\_bytes   & integer   & 0 & 0 &       1 & 8.812770e-07\\\\\n",
       "\t history        & character & 0 & 0 &     114 & 1.004656e-04\\\\\n",
       "\t orig\\_pkts      & integer   & 0 & 0 &      89 & 7.843365e-05\\\\\n",
       "\t orig\\_ip\\_bytes  & integer   & 0 & 0 &    1068 & 9.412038e-04\\\\\n",
       "\t resp\\_pkts      & integer   & 0 & 0 &      70 & 6.168939e-05\\\\\n",
       "\t resp\\_ip\\_bytes  & integer   & 0 & 0 &     577 & 5.084968e-04\\\\\n",
       "\t tunnel\\_parents & character & 0 & 0 &       1 & 8.812770e-07\\\\\n",
       "\\end{tabular}\n"
      ],
      "text/markdown": [
       "\n",
       "A tibble: 20 × 6\n",
       "\n",
       "| variables &lt;chr&gt; | types &lt;chr&gt; | missing_count &lt;int&gt; | missing_percent &lt;dbl&gt; | unique_count &lt;int&gt; | unique_rate &lt;dbl&gt; |\n",
       "|---|---|---|---|---|---|\n",
       "| ts             | numeric   | 0 | 0 |   39225 | 3.456809e-02 |\n",
       "| uid            | character | 0 | 0 | 1134717 | 1.000000e+00 |\n",
       "| orig_ip        | character | 0 | 0 |     168 | 1.480545e-04 |\n",
       "| orig_port      | integer   | 0 | 0 |   31754 | 2.798407e-02 |\n",
       "| resp_ip        | character | 0 | 0 |    2689 | 2.369754e-03 |\n",
       "| resp_port      | integer   | 0 | 0 |   65536 | 5.775537e-02 |\n",
       "| proto          | character | 0 | 0 |       3 | 2.643831e-06 |\n",
       "| service        | character | 0 | 0 |       8 | 7.050216e-06 |\n",
       "| duration       | character | 0 | 0 |    1622 | 1.429431e-03 |\n",
       "| orig_bytes     | character | 0 | 0 |     606 | 5.340539e-04 |\n",
       "| resp_bytes     | character | 0 | 0 |     451 | 3.974559e-04 |\n",
       "| conn_state     | character | 0 | 0 |      13 | 1.145660e-05 |\n",
       "| local_orig     | character | 0 | 0 |       1 | 8.812770e-07 |\n",
       "| missed_bytes   | integer   | 0 | 0 |       1 | 8.812770e-07 |\n",
       "| history        | character | 0 | 0 |     114 | 1.004656e-04 |\n",
       "| orig_pkts      | integer   | 0 | 0 |      89 | 7.843365e-05 |\n",
       "| orig_ip_bytes  | integer   | 0 | 0 |    1068 | 9.412038e-04 |\n",
       "| resp_pkts      | integer   | 0 | 0 |      70 | 6.168939e-05 |\n",
       "| resp_ip_bytes  | integer   | 0 | 0 |     577 | 5.084968e-04 |\n",
       "| tunnel_parents | character | 0 | 0 |       1 | 8.812770e-07 |\n",
       "\n"
      ],
      "text/plain": [
       "   variables      types     missing_count missing_percent unique_count\n",
       "1  ts             numeric   0             0                 39225     \n",
       "2  uid            character 0             0               1134717     \n",
       "3  orig_ip        character 0             0                   168     \n",
       "4  orig_port      integer   0             0                 31754     \n",
       "5  resp_ip        character 0             0                  2689     \n",
       "6  resp_port      integer   0             0                 65536     \n",
       "7  proto          character 0             0                     3     \n",
       "8  service        character 0             0                     8     \n",
       "9  duration       character 0             0                  1622     \n",
       "10 orig_bytes     character 0             0                   606     \n",
       "11 resp_bytes     character 0             0                   451     \n",
       "12 conn_state     character 0             0                    13     \n",
       "13 local_orig     character 0             0                     1     \n",
       "14 missed_bytes   integer   0             0                     1     \n",
       "15 history        character 0             0                   114     \n",
       "16 orig_pkts      integer   0             0                    89     \n",
       "17 orig_ip_bytes  integer   0             0                  1068     \n",
       "18 resp_pkts      integer   0             0                    70     \n",
       "19 resp_ip_bytes  integer   0             0                   577     \n",
       "20 tunnel_parents character 0             0                     1     \n",
       "   unique_rate \n",
       "1  3.456809e-02\n",
       "2  1.000000e+00\n",
       "3  1.480545e-04\n",
       "4  2.798407e-02\n",
       "5  2.369754e-03\n",
       "6  5.775537e-02\n",
       "7  2.643831e-06\n",
       "8  7.050216e-06\n",
       "9  1.429431e-03\n",
       "10 5.340539e-04\n",
       "11 3.974559e-04\n",
       "12 1.145660e-05\n",
       "13 8.812770e-07\n",
       "14 8.812770e-07\n",
       "15 1.004656e-04\n",
       "16 7.843365e-05\n",
       "17 9.412038e-04\n",
       "18 6.168939e-05\n",
       "19 5.084968e-04\n",
       "20 8.812770e-07"
      ]
     },
     "metadata": {},
     "output_type": "display_data"
    }
   ],
   "source": [
    "diagnose(data)"
   ]
  }
 ],
 "metadata": {
  "kernelspec": {
   "display_name": "R",
   "language": "R",
   "name": "ir"
  },
  "language_info": {
   "codemirror_mode": "r",
   "file_extension": ".r",
   "mimetype": "text/x-r-source",
   "name": "R",
   "pygments_lexer": "r",
   "version": "4.0.3"
  }
 },
 "nbformat": 4,
 "nbformat_minor": 4
}
