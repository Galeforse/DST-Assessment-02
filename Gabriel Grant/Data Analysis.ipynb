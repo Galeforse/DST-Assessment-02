{
 "cells": [
  {
   "cell_type": "code",
   "execution_count": 1,
   "metadata": {},
   "outputs": [],
   "source": [
    "#install.packages(\"dlookr\")"
   ]
  },
  {
   "cell_type": "code",
   "execution_count": 2,
   "metadata": {
    "collapsed": true,
    "jupyter": {
     "outputs_hidden": true
    }
   },
   "outputs": [
    {
     "name": "stderr",
     "output_type": "stream",
     "text": [
      "\n",
      "Attaching package: 'lubridate'\n",
      "\n",
      "\n",
      "The following objects are masked from 'package:base':\n",
      "\n",
      "    date, intersect, setdiff, union\n",
      "\n",
      "\n",
      "Loading required package: mice\n",
      "\n",
      "\n",
      "Attaching package: 'mice'\n",
      "\n",
      "\n",
      "The following object is masked from 'package:stats':\n",
      "\n",
      "    filter\n",
      "\n",
      "\n",
      "The following objects are masked from 'package:base':\n",
      "\n",
      "    cbind, rbind\n",
      "\n",
      "\n",
      "Registered S3 method overwritten by 'quantmod':\n",
      "  method            from\n",
      "  as.zoo.data.frame zoo \n",
      "\n",
      "\n",
      "Attaching package: 'dlookr'\n",
      "\n",
      "\n",
      "The following object is masked from 'package:base':\n",
      "\n",
      "    transform\n",
      "\n",
      "\n"
     ]
    }
   ],
   "source": [
    "library(lubridate)\n",
    "library(dlookr)"
   ]
  },
  {
   "cell_type": "code",
   "execution_count": 6,
   "metadata": {},
   "outputs": [
    {
     "name": "stdout",
     "output_type": "stream",
     "text": [
      "[1] \"Data imported in:\"\n",
      "[1] \"3.43999999999994S\"\n"
     ]
    }
   ],
   "source": [
    "temp2 <- tempfile()\n",
    "start <- proc.time()\n",
    "download.file(\"https://github.com/Galeforse/DST-Assessment-02/raw/main/Data/1_percent_data_h.csv.gz\",temp2)\n",
    "data <- (read.csv(gzfile(temp2)))\n",
    "print(\"Data imported in:\")\n",
    "print(seconds_to_period((proc.time()-start)[3]))"
   ]
  },
  {
   "cell_type": "code",
   "execution_count": 16,
   "metadata": {},
   "outputs": [
    {
     "data": {
      "text/html": [
       "<table>\n",
       "<caption>A data.frame: 6 × 18</caption>\n",
       "<thead>\n",
       "\t<tr><th></th><th scope=col>ts</th><th scope=col>uid</th><th scope=col>orig_ip</th><th scope=col>orig_port</th><th scope=col>resp_ip</th><th scope=col>resp_port</th><th scope=col>proto</th><th scope=col>service</th><th scope=col>duration</th><th scope=col>orig_bytes</th><th scope=col>resp_bytes</th><th scope=col>conn_state</th><th scope=col>missed_bytes</th><th scope=col>history</th><th scope=col>orig_pkts</th><th scope=col>orig_ip_bytes</th><th scope=col>resp_pkts</th><th scope=col>resp_ip_bytes</th></tr>\n",
       "\t<tr><th></th><th scope=col>&lt;dbl&gt;</th><th scope=col>&lt;chr&gt;</th><th scope=col>&lt;chr&gt;</th><th scope=col>&lt;int&gt;</th><th scope=col>&lt;chr&gt;</th><th scope=col>&lt;int&gt;</th><th scope=col>&lt;chr&gt;</th><th scope=col>&lt;chr&gt;</th><th scope=col>&lt;dbl&gt;</th><th scope=col>&lt;int&gt;</th><th scope=col>&lt;int&gt;</th><th scope=col>&lt;chr&gt;</th><th scope=col>&lt;int&gt;</th><th scope=col>&lt;chr&gt;</th><th scope=col>&lt;int&gt;</th><th scope=col>&lt;int&gt;</th><th scope=col>&lt;int&gt;</th><th scope=col>&lt;int&gt;</th></tr>\n",
       "</thead>\n",
       "<tbody>\n",
       "\t<tr><th scope=row>1</th><td>1331901000</td><td>CCUIP21wTjqkj8ZqX5</td><td>192.168.202.79</td><td>50463</td><td>192.168.229.251</td><td> 80</td><td>tcp</td><td>NA  </td><td>  NA</td><td> NA</td><td>  NA</td><td>SH</td><td>0</td><td>Fa       </td><td>1</td><td> 52</td><td> 1</td><td>  52</td></tr>\n",
       "\t<tr><th scope=row>2</th><td>1331901000</td><td>Csssjd3tX0yOTPDpng</td><td>192.168.202.79</td><td>46117</td><td>192.168.229.254</td><td>443</td><td>tcp</td><td>NA  </td><td>  NA</td><td> NA</td><td>  NA</td><td>SF</td><td>0</td><td>dDafFr   </td><td>3</td><td>382</td><td> 9</td><td> 994</td></tr>\n",
       "\t<tr><th scope=row>3</th><td>1331901000</td><td>CHEt7z3AzG4gyCNgci</td><td>192.168.202.79</td><td>50465</td><td>192.168.229.251</td><td> 80</td><td>tcp</td><td>http</td><td>0.01</td><td>166</td><td> 214</td><td>SF</td><td>0</td><td>ShADfFa  </td><td>4</td><td>382</td><td> 3</td><td> 382</td></tr>\n",
       "\t<tr><th scope=row>4</th><td>1331901000</td><td>CKnDAp2ohlvN6rpiXl</td><td>192.168.202.79</td><td>50467</td><td>192.168.229.251</td><td> 80</td><td>tcp</td><td>http</td><td>0.01</td><td>166</td><td> 214</td><td>SF</td><td>0</td><td>ShADfFa  </td><td>4</td><td>382</td><td> 3</td><td> 382</td></tr>\n",
       "\t<tr><th scope=row>5</th><td>1331901000</td><td>CGUBcoXKxBE8gTNl  </td><td>192.168.202.79</td><td>46119</td><td>192.168.229.254</td><td>443</td><td>tcp</td><td>ssl </td><td>0.02</td><td>544</td><td>1060</td><td>SF</td><td>0</td><td>ShADadfFr</td><td>8</td><td>968</td><td>13</td><td>1744</td></tr>\n",
       "\t<tr><th scope=row>6</th><td>1331901000</td><td>CRksHc2i8qahpGOP19</td><td>192.168.202.79</td><td>46121</td><td>192.168.229.254</td><td>443</td><td>tcp</td><td>ssl </td><td>0.01</td><td>544</td><td>1060</td><td>SF</td><td>0</td><td>ShADadfFr</td><td>8</td><td>968</td><td>13</td><td>1744</td></tr>\n",
       "</tbody>\n",
       "</table>\n"
      ],
      "text/latex": [
       "A data.frame: 6 × 18\n",
       "\\begin{tabular}{r|llllllllllllllllll}\n",
       "  & ts & uid & orig\\_ip & orig\\_port & resp\\_ip & resp\\_port & proto & service & duration & orig\\_bytes & resp\\_bytes & conn\\_state & missed\\_bytes & history & orig\\_pkts & orig\\_ip\\_bytes & resp\\_pkts & resp\\_ip\\_bytes\\\\\n",
       "  & <dbl> & <chr> & <chr> & <int> & <chr> & <int> & <chr> & <chr> & <dbl> & <int> & <int> & <chr> & <int> & <chr> & <int> & <int> & <int> & <int>\\\\\n",
       "\\hline\n",
       "\t1 & 1331901000 & CCUIP21wTjqkj8ZqX5 & 192.168.202.79 & 50463 & 192.168.229.251 &  80 & tcp & NA   &   NA &  NA &   NA & SH & 0 & Fa        & 1 &  52 &  1 &   52\\\\\n",
       "\t2 & 1331901000 & Csssjd3tX0yOTPDpng & 192.168.202.79 & 46117 & 192.168.229.254 & 443 & tcp & NA   &   NA &  NA &   NA & SF & 0 & dDafFr    & 3 & 382 &  9 &  994\\\\\n",
       "\t3 & 1331901000 & CHEt7z3AzG4gyCNgci & 192.168.202.79 & 50465 & 192.168.229.251 &  80 & tcp & http & 0.01 & 166 &  214 & SF & 0 & ShADfFa   & 4 & 382 &  3 &  382\\\\\n",
       "\t4 & 1331901000 & CKnDAp2ohlvN6rpiXl & 192.168.202.79 & 50467 & 192.168.229.251 &  80 & tcp & http & 0.01 & 166 &  214 & SF & 0 & ShADfFa   & 4 & 382 &  3 &  382\\\\\n",
       "\t5 & 1331901000 & CGUBcoXKxBE8gTNl   & 192.168.202.79 & 46119 & 192.168.229.254 & 443 & tcp & ssl  & 0.02 & 544 & 1060 & SF & 0 & ShADadfFr & 8 & 968 & 13 & 1744\\\\\n",
       "\t6 & 1331901000 & CRksHc2i8qahpGOP19 & 192.168.202.79 & 46121 & 192.168.229.254 & 443 & tcp & ssl  & 0.01 & 544 & 1060 & SF & 0 & ShADadfFr & 8 & 968 & 13 & 1744\\\\\n",
       "\\end{tabular}\n"
      ],
      "text/markdown": [
       "\n",
       "A data.frame: 6 × 18\n",
       "\n",
       "| <!--/--> | ts &lt;dbl&gt; | uid &lt;chr&gt; | orig_ip &lt;chr&gt; | orig_port &lt;int&gt; | resp_ip &lt;chr&gt; | resp_port &lt;int&gt; | proto &lt;chr&gt; | service &lt;chr&gt; | duration &lt;dbl&gt; | orig_bytes &lt;int&gt; | resp_bytes &lt;int&gt; | conn_state &lt;chr&gt; | missed_bytes &lt;int&gt; | history &lt;chr&gt; | orig_pkts &lt;int&gt; | orig_ip_bytes &lt;int&gt; | resp_pkts &lt;int&gt; | resp_ip_bytes &lt;int&gt; |\n",
       "|---|---|---|---|---|---|---|---|---|---|---|---|---|---|---|---|---|---|---|\n",
       "| 1 | 1331901000 | CCUIP21wTjqkj8ZqX5 | 192.168.202.79 | 50463 | 192.168.229.251 |  80 | tcp | NA   |   NA |  NA |   NA | SH | 0 | Fa        | 1 |  52 |  1 |   52 |\n",
       "| 2 | 1331901000 | Csssjd3tX0yOTPDpng | 192.168.202.79 | 46117 | 192.168.229.254 | 443 | tcp | NA   |   NA |  NA |   NA | SF | 0 | dDafFr    | 3 | 382 |  9 |  994 |\n",
       "| 3 | 1331901000 | CHEt7z3AzG4gyCNgci | 192.168.202.79 | 50465 | 192.168.229.251 |  80 | tcp | http | 0.01 | 166 |  214 | SF | 0 | ShADfFa   | 4 | 382 |  3 |  382 |\n",
       "| 4 | 1331901000 | CKnDAp2ohlvN6rpiXl | 192.168.202.79 | 50467 | 192.168.229.251 |  80 | tcp | http | 0.01 | 166 |  214 | SF | 0 | ShADfFa   | 4 | 382 |  3 |  382 |\n",
       "| 5 | 1331901000 | CGUBcoXKxBE8gTNl   | 192.168.202.79 | 46119 | 192.168.229.254 | 443 | tcp | ssl  | 0.02 | 544 | 1060 | SF | 0 | ShADadfFr | 8 | 968 | 13 | 1744 |\n",
       "| 6 | 1331901000 | CRksHc2i8qahpGOP19 | 192.168.202.79 | 46121 | 192.168.229.254 | 443 | tcp | ssl  | 0.01 | 544 | 1060 | SF | 0 | ShADadfFr | 8 | 968 | 13 | 1744 |\n",
       "\n"
      ],
      "text/plain": [
       "  ts         uid                orig_ip        orig_port resp_ip        \n",
       "1 1331901000 CCUIP21wTjqkj8ZqX5 192.168.202.79 50463     192.168.229.251\n",
       "2 1331901000 Csssjd3tX0yOTPDpng 192.168.202.79 46117     192.168.229.254\n",
       "3 1331901000 CHEt7z3AzG4gyCNgci 192.168.202.79 50465     192.168.229.251\n",
       "4 1331901000 CKnDAp2ohlvN6rpiXl 192.168.202.79 50467     192.168.229.251\n",
       "5 1331901000 CGUBcoXKxBE8gTNl   192.168.202.79 46119     192.168.229.254\n",
       "6 1331901000 CRksHc2i8qahpGOP19 192.168.202.79 46121     192.168.229.254\n",
       "  resp_port proto service duration orig_bytes resp_bytes conn_state\n",
       "1  80       tcp   NA        NA      NA          NA       SH        \n",
       "2 443       tcp   NA        NA      NA          NA       SF        \n",
       "3  80       tcp   http    0.01     166         214       SF        \n",
       "4  80       tcp   http    0.01     166         214       SF        \n",
       "5 443       tcp   ssl     0.02     544        1060       SF        \n",
       "6 443       tcp   ssl     0.01     544        1060       SF        \n",
       "  missed_bytes history   orig_pkts orig_ip_bytes resp_pkts resp_ip_bytes\n",
       "1 0            Fa        1          52            1          52         \n",
       "2 0            dDafFr    3         382            9         994         \n",
       "3 0            ShADfFa   4         382            3         382         \n",
       "4 0            ShADfFa   4         382            3         382         \n",
       "5 0            ShADadfFr 8         968           13        1744         \n",
       "6 0            ShADadfFr 8         968           13        1744         "
      ]
     },
     "metadata": {},
     "output_type": "display_data"
    }
   ],
   "source": [
    "data$service[data$service==\"\"] <- NA\n",
    "head(data)"
   ]
  },
  {
   "cell_type": "code",
   "execution_count": 20,
   "metadata": {},
   "outputs": [
    {
     "data": {
      "text/html": [
       "<table>\n",
       "<caption>A tibble: 18 × 6</caption>\n",
       "<thead>\n",
       "\t<tr><th scope=col>variables</th><th scope=col>types</th><th scope=col>missing_count</th><th scope=col>missing_percent</th><th scope=col>unique_count</th><th scope=col>unique_rate</th></tr>\n",
       "\t<tr><th scope=col>&lt;chr&gt;</th><th scope=col>&lt;chr&gt;</th><th scope=col>&lt;int&gt;</th><th scope=col>&lt;dbl&gt;</th><th scope=col>&lt;int&gt;</th><th scope=col>&lt;dbl&gt;</th></tr>\n",
       "</thead>\n",
       "<tbody>\n",
       "\t<tr><td>ts           </td><td>numeric  </td><td>     0</td><td> 0.00000</td><td>  8231</td><td>3.626902e-02</td></tr>\n",
       "\t<tr><td>uid          </td><td>character</td><td>     0</td><td> 0.00000</td><td>226943</td><td>1.000000e+00</td></tr>\n",
       "\t<tr><td>orig_ip      </td><td>character</td><td>     0</td><td> 0.00000</td><td>    72</td><td>3.172603e-04</td></tr>\n",
       "\t<tr><td>orig_port    </td><td>integer  </td><td>     0</td><td> 0.00000</td><td>  5289</td><td>2.330541e-02</td></tr>\n",
       "\t<tr><td>resp_ip      </td><td>character</td><td>     0</td><td> 0.00000</td><td>   517</td><td>2.278105e-03</td></tr>\n",
       "\t<tr><td>resp_port    </td><td>integer  </td><td>     0</td><td> 0.00000</td><td> 28117</td><td>1.238945e-01</td></tr>\n",
       "\t<tr><td>proto        </td><td>character</td><td>     0</td><td> 0.00000</td><td>     3</td><td>1.321918e-05</td></tr>\n",
       "\t<tr><td>service      </td><td>character</td><td>225579</td><td>99.39897</td><td>     6</td><td>2.643836e-05</td></tr>\n",
       "\t<tr><td>duration     </td><td>numeric  </td><td> 82146</td><td>36.19675</td><td>  1040</td><td>4.582649e-03</td></tr>\n",
       "\t<tr><td>orig_bytes   </td><td>integer  </td><td> 82146</td><td>36.19675</td><td>   202</td><td>8.900913e-04</td></tr>\n",
       "\t<tr><td>resp_bytes   </td><td>integer  </td><td> 82146</td><td>36.19675</td><td>    76</td><td>3.348859e-04</td></tr>\n",
       "\t<tr><td>conn_state   </td><td>character</td><td>     0</td><td> 0.00000</td><td>     9</td><td>3.965754e-05</td></tr>\n",
       "\t<tr><td>missed_bytes </td><td>integer  </td><td>     0</td><td> 0.00000</td><td>     1</td><td>4.406393e-06</td></tr>\n",
       "\t<tr><td>history      </td><td>character</td><td>     0</td><td> 0.00000</td><td>    39</td><td>1.718493e-04</td></tr>\n",
       "\t<tr><td>orig_pkts    </td><td>integer  </td><td>     0</td><td> 0.00000</td><td>    33</td><td>1.454110e-04</td></tr>\n",
       "\t<tr><td>orig_ip_bytes</td><td>integer  </td><td>     0</td><td> 0.00000</td><td>   334</td><td>1.471735e-03</td></tr>\n",
       "\t<tr><td>resp_pkts    </td><td>integer  </td><td>     0</td><td> 0.00000</td><td>    17</td><td>7.490868e-05</td></tr>\n",
       "\t<tr><td>resp_ip_bytes</td><td>integer  </td><td>     0</td><td> 0.00000</td><td>   123</td><td>5.419863e-04</td></tr>\n",
       "</tbody>\n",
       "</table>\n"
      ],
      "text/latex": [
       "A tibble: 18 × 6\n",
       "\\begin{tabular}{llllll}\n",
       " variables & types & missing\\_count & missing\\_percent & unique\\_count & unique\\_rate\\\\\n",
       " <chr> & <chr> & <int> & <dbl> & <int> & <dbl>\\\\\n",
       "\\hline\n",
       "\t ts            & numeric   &      0 &  0.00000 &   8231 & 3.626902e-02\\\\\n",
       "\t uid           & character &      0 &  0.00000 & 226943 & 1.000000e+00\\\\\n",
       "\t orig\\_ip       & character &      0 &  0.00000 &     72 & 3.172603e-04\\\\\n",
       "\t orig\\_port     & integer   &      0 &  0.00000 &   5289 & 2.330541e-02\\\\\n",
       "\t resp\\_ip       & character &      0 &  0.00000 &    517 & 2.278105e-03\\\\\n",
       "\t resp\\_port     & integer   &      0 &  0.00000 &  28117 & 1.238945e-01\\\\\n",
       "\t proto         & character &      0 &  0.00000 &      3 & 1.321918e-05\\\\\n",
       "\t service       & character & 225579 & 99.39897 &      6 & 2.643836e-05\\\\\n",
       "\t duration      & numeric   &  82146 & 36.19675 &   1040 & 4.582649e-03\\\\\n",
       "\t orig\\_bytes    & integer   &  82146 & 36.19675 &    202 & 8.900913e-04\\\\\n",
       "\t resp\\_bytes    & integer   &  82146 & 36.19675 &     76 & 3.348859e-04\\\\\n",
       "\t conn\\_state    & character &      0 &  0.00000 &      9 & 3.965754e-05\\\\\n",
       "\t missed\\_bytes  & integer   &      0 &  0.00000 &      1 & 4.406393e-06\\\\\n",
       "\t history       & character &      0 &  0.00000 &     39 & 1.718493e-04\\\\\n",
       "\t orig\\_pkts     & integer   &      0 &  0.00000 &     33 & 1.454110e-04\\\\\n",
       "\t orig\\_ip\\_bytes & integer   &      0 &  0.00000 &    334 & 1.471735e-03\\\\\n",
       "\t resp\\_pkts     & integer   &      0 &  0.00000 &     17 & 7.490868e-05\\\\\n",
       "\t resp\\_ip\\_bytes & integer   &      0 &  0.00000 &    123 & 5.419863e-04\\\\\n",
       "\\end{tabular}\n"
      ],
      "text/markdown": [
       "\n",
       "A tibble: 18 × 6\n",
       "\n",
       "| variables &lt;chr&gt; | types &lt;chr&gt; | missing_count &lt;int&gt; | missing_percent &lt;dbl&gt; | unique_count &lt;int&gt; | unique_rate &lt;dbl&gt; |\n",
       "|---|---|---|---|---|---|\n",
       "| ts            | numeric   |      0 |  0.00000 |   8231 | 3.626902e-02 |\n",
       "| uid           | character |      0 |  0.00000 | 226943 | 1.000000e+00 |\n",
       "| orig_ip       | character |      0 |  0.00000 |     72 | 3.172603e-04 |\n",
       "| orig_port     | integer   |      0 |  0.00000 |   5289 | 2.330541e-02 |\n",
       "| resp_ip       | character |      0 |  0.00000 |    517 | 2.278105e-03 |\n",
       "| resp_port     | integer   |      0 |  0.00000 |  28117 | 1.238945e-01 |\n",
       "| proto         | character |      0 |  0.00000 |      3 | 1.321918e-05 |\n",
       "| service       | character | 225579 | 99.39897 |      6 | 2.643836e-05 |\n",
       "| duration      | numeric   |  82146 | 36.19675 |   1040 | 4.582649e-03 |\n",
       "| orig_bytes    | integer   |  82146 | 36.19675 |    202 | 8.900913e-04 |\n",
       "| resp_bytes    | integer   |  82146 | 36.19675 |     76 | 3.348859e-04 |\n",
       "| conn_state    | character |      0 |  0.00000 |      9 | 3.965754e-05 |\n",
       "| missed_bytes  | integer   |      0 |  0.00000 |      1 | 4.406393e-06 |\n",
       "| history       | character |      0 |  0.00000 |     39 | 1.718493e-04 |\n",
       "| orig_pkts     | integer   |      0 |  0.00000 |     33 | 1.454110e-04 |\n",
       "| orig_ip_bytes | integer   |      0 |  0.00000 |    334 | 1.471735e-03 |\n",
       "| resp_pkts     | integer   |      0 |  0.00000 |     17 | 7.490868e-05 |\n",
       "| resp_ip_bytes | integer   |      0 |  0.00000 |    123 | 5.419863e-04 |\n",
       "\n"
      ],
      "text/plain": [
       "   variables     types     missing_count missing_percent unique_count\n",
       "1  ts            numeric        0         0.00000          8231      \n",
       "2  uid           character      0         0.00000        226943      \n",
       "3  orig_ip       character      0         0.00000            72      \n",
       "4  orig_port     integer        0         0.00000          5289      \n",
       "5  resp_ip       character      0         0.00000           517      \n",
       "6  resp_port     integer        0         0.00000         28117      \n",
       "7  proto         character      0         0.00000             3      \n",
       "8  service       character 225579        99.39897             6      \n",
       "9  duration      numeric    82146        36.19675          1040      \n",
       "10 orig_bytes    integer    82146        36.19675           202      \n",
       "11 resp_bytes    integer    82146        36.19675            76      \n",
       "12 conn_state    character      0         0.00000             9      \n",
       "13 missed_bytes  integer        0         0.00000             1      \n",
       "14 history       character      0         0.00000            39      \n",
       "15 orig_pkts     integer        0         0.00000            33      \n",
       "16 orig_ip_bytes integer        0         0.00000           334      \n",
       "17 resp_pkts     integer        0         0.00000            17      \n",
       "18 resp_ip_bytes integer        0         0.00000           123      \n",
       "   unique_rate \n",
       "1  3.626902e-02\n",
       "2  1.000000e+00\n",
       "3  3.172603e-04\n",
       "4  2.330541e-02\n",
       "5  2.278105e-03\n",
       "6  1.238945e-01\n",
       "7  1.321918e-05\n",
       "8  2.643836e-05\n",
       "9  4.582649e-03\n",
       "10 8.900913e-04\n",
       "11 3.348859e-04\n",
       "12 3.965754e-05\n",
       "13 4.406393e-06\n",
       "14 1.718493e-04\n",
       "15 1.454110e-04\n",
       "16 1.471735e-03\n",
       "17 7.490868e-05\n",
       "18 5.419863e-04"
      ]
     },
     "metadata": {},
     "output_type": "display_data"
    },
    {
     "name": "stdout",
     "output_type": "stream",
     "text": [
      "[1] \"No. of entries in data:\"\n"
     ]
    },
    {
     "data": {
      "text/html": [
       "226943"
      ],
      "text/latex": [
       "226943"
      ],
      "text/markdown": [
       "226943"
      ],
      "text/plain": [
       "[1] 226943"
      ]
     },
     "metadata": {},
     "output_type": "display_data"
    }
   ],
   "source": [
    "diagnose(data)\n",
    "print(\"No. of entries in data:\")\n",
    "nrow(data)"
   ]
  },
  {
   "cell_type": "markdown",
   "metadata": {},
   "source": [
    "[Missing Data in R](https://www.statmethods.net/input/missingdata.html)"
   ]
  }
 ],
 "metadata": {
  "kernelspec": {
   "display_name": "R",
   "language": "R",
   "name": "ir"
  },
  "language_info": {
   "codemirror_mode": "r",
   "file_extension": ".r",
   "mimetype": "text/x-r-source",
   "name": "R",
   "pygments_lexer": "r",
   "version": "4.0.3"
  }
 },
 "nbformat": 4,
 "nbformat_minor": 4
}
