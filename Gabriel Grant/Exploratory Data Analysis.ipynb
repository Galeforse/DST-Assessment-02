{
 "cells": [
  {
   "cell_type": "code",
   "execution_count": 134,
   "metadata": {},
   "outputs": [],
   "source": [
    "#install.packages(\"dlookr\",\"mice\")\n",
    "#install.packages(\"VIM\")"
   ]
  },
  {
   "cell_type": "code",
   "execution_count": 6,
   "metadata": {
    "collapsed": true,
    "jupyter": {
     "outputs_hidden": true
    }
   },
   "outputs": [
    {
     "name": "stderr",
     "output_type": "stream",
     "text": [
      "\n",
      "Attaching package: 'lubridate'\n",
      "\n",
      "\n",
      "The following objects are masked from 'package:base':\n",
      "\n",
      "    date, intersect, setdiff, union\n",
      "\n",
      "\n",
      "Loading required package: mice\n",
      "\n",
      "\n",
      "Attaching package: 'mice'\n",
      "\n",
      "\n",
      "The following object is masked from 'package:stats':\n",
      "\n",
      "    filter\n",
      "\n",
      "\n",
      "The following objects are masked from 'package:base':\n",
      "\n",
      "    cbind, rbind\n",
      "\n",
      "\n",
      "Registered S3 method overwritten by 'quantmod':\n",
      "  method            from\n",
      "  as.zoo.data.frame zoo \n",
      "\n",
      "\n",
      "Attaching package: 'dlookr'\n",
      "\n",
      "\n",
      "The following object is masked from 'package:base':\n",
      "\n",
      "    transform\n",
      "\n",
      "\n",
      "\n",
      "Attaching package: 'dplyr'\n",
      "\n",
      "\n",
      "The following objects are masked from 'package:stats':\n",
      "\n",
      "    filter, lag\n",
      "\n",
      "\n",
      "The following objects are masked from 'package:base':\n",
      "\n",
      "    intersect, setdiff, setequal, union\n",
      "\n",
      "\n",
      "Loading required package: colorspace\n",
      "\n",
      "Loading required package: grid\n",
      "\n",
      "VIM is ready to use.\n",
      "\n",
      "\n",
      "Suggestions and bug-reports can be submitted at: https://github.com/statistikat/VIM/issues\n",
      "\n",
      "\n",
      "Attaching package: 'VIM'\n",
      "\n",
      "\n",
      "The following object is masked from 'package:datasets':\n",
      "\n",
      "    sleep\n",
      "\n",
      "\n"
     ]
    }
   ],
   "source": [
    "library(lubridate)\n",
    "library(dlookr)\n",
    "library(dplyr)\n",
    "library(mice)\n",
    "library(VIM)"
   ]
  },
  {
   "cell_type": "code",
   "execution_count": 7,
   "metadata": {},
   "outputs": [
    {
     "name": "stdout",
     "output_type": "stream",
     "text": [
      "[1] \"Data imported in:\"\n",
      "[1] \"5.94000000000051S\"\n"
     ]
    }
   ],
   "source": [
    "temp2 <- tempfile()\n",
    "start <- proc.time()\n",
    "download.file(\"https://github.com/Galeforse/DST-Assessment-02/raw/main/Data/1_percent_data_head.csv.gz\",temp2)\n",
    "data <- (read.csv(gzfile(temp2)))\n",
    "print(\"Data imported in:\")\n",
    "print(seconds_to_period((proc.time()-start)[3]))"
   ]
  },
  {
   "cell_type": "code",
   "execution_count": 8,
   "metadata": {},
   "outputs": [
    {
     "name": "stdout",
     "output_type": "stream",
     "text": [
      "[1] \"Data imported in:\"\n",
      "[1] \"9.89999999999964S\"\n"
     ]
    }
   ],
   "source": [
    "temp2 <- tempfile()\n",
    "start <- proc.time()\n",
    "download.file(\"https://github.com/Galeforse/DST-Assessment-02/raw/main/Data/1_percent_data.csv.gz\",temp2)\n",
    "data2 <- (read.csv(gzfile(temp2)))\n",
    "print(\"Data imported in:\")\n",
    "print(seconds_to_period((proc.time()-start)[3]))"
   ]
  },
  {
   "cell_type": "code",
   "execution_count": 9,
   "metadata": {},
   "outputs": [
    {
     "data": {
      "text/html": [
       "<table>\n",
       "<caption>A data.frame: 6 × 18</caption>\n",
       "<thead>\n",
       "\t<tr><th></th><th scope=col>ts</th><th scope=col>uid</th><th scope=col>orig_ip</th><th scope=col>orig_port</th><th scope=col>resp_ip</th><th scope=col>resp_port</th><th scope=col>proto</th><th scope=col>service</th><th scope=col>duration</th><th scope=col>orig_bytes</th><th scope=col>resp_bytes</th><th scope=col>conn_state</th><th scope=col>missed_bytes</th><th scope=col>history</th><th scope=col>orig_pkts</th><th scope=col>orig_ip_bytes</th><th scope=col>resp_pkts</th><th scope=col>resp_ip_bytes</th></tr>\n",
       "\t<tr><th></th><th scope=col>&lt;dbl&gt;</th><th scope=col>&lt;chr&gt;</th><th scope=col>&lt;chr&gt;</th><th scope=col>&lt;int&gt;</th><th scope=col>&lt;chr&gt;</th><th scope=col>&lt;int&gt;</th><th scope=col>&lt;chr&gt;</th><th scope=col>&lt;chr&gt;</th><th scope=col>&lt;dbl&gt;</th><th scope=col>&lt;int&gt;</th><th scope=col>&lt;int&gt;</th><th scope=col>&lt;chr&gt;</th><th scope=col>&lt;int&gt;</th><th scope=col>&lt;chr&gt;</th><th scope=col>&lt;int&gt;</th><th scope=col>&lt;int&gt;</th><th scope=col>&lt;int&gt;</th><th scope=col>&lt;int&gt;</th></tr>\n",
       "</thead>\n",
       "<tbody>\n",
       "\t<tr><th scope=row>1</th><td>1331901000</td><td>CCUIP21wTjqkj8ZqX5</td><td>192.168.202.79</td><td>50463</td><td>192.168.229.251</td><td> 80</td><td>tcp</td><td>NA  </td><td>  NA</td><td> NA</td><td>  NA</td><td>SH</td><td>0</td><td>Fa       </td><td>1</td><td> 52</td><td> 1</td><td>  52</td></tr>\n",
       "\t<tr><th scope=row>2</th><td>1331901000</td><td>Csssjd3tX0yOTPDpng</td><td>192.168.202.79</td><td>46117</td><td>192.168.229.254</td><td>443</td><td>tcp</td><td>NA  </td><td>  NA</td><td> NA</td><td>  NA</td><td>SF</td><td>0</td><td>dDafFr   </td><td>3</td><td>382</td><td> 9</td><td> 994</td></tr>\n",
       "\t<tr><th scope=row>3</th><td>1331901000</td><td>CHEt7z3AzG4gyCNgci</td><td>192.168.202.79</td><td>50465</td><td>192.168.229.251</td><td> 80</td><td>tcp</td><td>http</td><td>0.01</td><td>166</td><td> 214</td><td>SF</td><td>0</td><td>ShADfFa  </td><td>4</td><td>382</td><td> 3</td><td> 382</td></tr>\n",
       "\t<tr><th scope=row>4</th><td>1331901000</td><td>CKnDAp2ohlvN6rpiXl</td><td>192.168.202.79</td><td>50467</td><td>192.168.229.251</td><td> 80</td><td>tcp</td><td>http</td><td>0.01</td><td>166</td><td> 214</td><td>SF</td><td>0</td><td>ShADfFa  </td><td>4</td><td>382</td><td> 3</td><td> 382</td></tr>\n",
       "\t<tr><th scope=row>5</th><td>1331901000</td><td>CGUBcoXKxBE8gTNl  </td><td>192.168.202.79</td><td>46119</td><td>192.168.229.254</td><td>443</td><td>tcp</td><td>ssl </td><td>0.02</td><td>544</td><td>1060</td><td>SF</td><td>0</td><td>ShADadfFr</td><td>8</td><td>968</td><td>13</td><td>1744</td></tr>\n",
       "\t<tr><th scope=row>6</th><td>1331901000</td><td>CRksHc2i8qahpGOP19</td><td>192.168.202.79</td><td>46121</td><td>192.168.229.254</td><td>443</td><td>tcp</td><td>ssl </td><td>0.01</td><td>544</td><td>1060</td><td>SF</td><td>0</td><td>ShADadfFr</td><td>8</td><td>968</td><td>13</td><td>1744</td></tr>\n",
       "</tbody>\n",
       "</table>\n"
      ],
      "text/latex": [
       "A data.frame: 6 × 18\n",
       "\\begin{tabular}{r|llllllllllllllllll}\n",
       "  & ts & uid & orig\\_ip & orig\\_port & resp\\_ip & resp\\_port & proto & service & duration & orig\\_bytes & resp\\_bytes & conn\\_state & missed\\_bytes & history & orig\\_pkts & orig\\_ip\\_bytes & resp\\_pkts & resp\\_ip\\_bytes\\\\\n",
       "  & <dbl> & <chr> & <chr> & <int> & <chr> & <int> & <chr> & <chr> & <dbl> & <int> & <int> & <chr> & <int> & <chr> & <int> & <int> & <int> & <int>\\\\\n",
       "\\hline\n",
       "\t1 & 1331901000 & CCUIP21wTjqkj8ZqX5 & 192.168.202.79 & 50463 & 192.168.229.251 &  80 & tcp & NA   &   NA &  NA &   NA & SH & 0 & Fa        & 1 &  52 &  1 &   52\\\\\n",
       "\t2 & 1331901000 & Csssjd3tX0yOTPDpng & 192.168.202.79 & 46117 & 192.168.229.254 & 443 & tcp & NA   &   NA &  NA &   NA & SF & 0 & dDafFr    & 3 & 382 &  9 &  994\\\\\n",
       "\t3 & 1331901000 & CHEt7z3AzG4gyCNgci & 192.168.202.79 & 50465 & 192.168.229.251 &  80 & tcp & http & 0.01 & 166 &  214 & SF & 0 & ShADfFa   & 4 & 382 &  3 &  382\\\\\n",
       "\t4 & 1331901000 & CKnDAp2ohlvN6rpiXl & 192.168.202.79 & 50467 & 192.168.229.251 &  80 & tcp & http & 0.01 & 166 &  214 & SF & 0 & ShADfFa   & 4 & 382 &  3 &  382\\\\\n",
       "\t5 & 1331901000 & CGUBcoXKxBE8gTNl   & 192.168.202.79 & 46119 & 192.168.229.254 & 443 & tcp & ssl  & 0.02 & 544 & 1060 & SF & 0 & ShADadfFr & 8 & 968 & 13 & 1744\\\\\n",
       "\t6 & 1331901000 & CRksHc2i8qahpGOP19 & 192.168.202.79 & 46121 & 192.168.229.254 & 443 & tcp & ssl  & 0.01 & 544 & 1060 & SF & 0 & ShADadfFr & 8 & 968 & 13 & 1744\\\\\n",
       "\\end{tabular}\n"
      ],
      "text/markdown": [
       "\n",
       "A data.frame: 6 × 18\n",
       "\n",
       "| <!--/--> | ts &lt;dbl&gt; | uid &lt;chr&gt; | orig_ip &lt;chr&gt; | orig_port &lt;int&gt; | resp_ip &lt;chr&gt; | resp_port &lt;int&gt; | proto &lt;chr&gt; | service &lt;chr&gt; | duration &lt;dbl&gt; | orig_bytes &lt;int&gt; | resp_bytes &lt;int&gt; | conn_state &lt;chr&gt; | missed_bytes &lt;int&gt; | history &lt;chr&gt; | orig_pkts &lt;int&gt; | orig_ip_bytes &lt;int&gt; | resp_pkts &lt;int&gt; | resp_ip_bytes &lt;int&gt; |\n",
       "|---|---|---|---|---|---|---|---|---|---|---|---|---|---|---|---|---|---|---|\n",
       "| 1 | 1331901000 | CCUIP21wTjqkj8ZqX5 | 192.168.202.79 | 50463 | 192.168.229.251 |  80 | tcp | NA   |   NA |  NA |   NA | SH | 0 | Fa        | 1 |  52 |  1 |   52 |\n",
       "| 2 | 1331901000 | Csssjd3tX0yOTPDpng | 192.168.202.79 | 46117 | 192.168.229.254 | 443 | tcp | NA   |   NA |  NA |   NA | SF | 0 | dDafFr    | 3 | 382 |  9 |  994 |\n",
       "| 3 | 1331901000 | CHEt7z3AzG4gyCNgci | 192.168.202.79 | 50465 | 192.168.229.251 |  80 | tcp | http | 0.01 | 166 |  214 | SF | 0 | ShADfFa   | 4 | 382 |  3 |  382 |\n",
       "| 4 | 1331901000 | CKnDAp2ohlvN6rpiXl | 192.168.202.79 | 50467 | 192.168.229.251 |  80 | tcp | http | 0.01 | 166 |  214 | SF | 0 | ShADfFa   | 4 | 382 |  3 |  382 |\n",
       "| 5 | 1331901000 | CGUBcoXKxBE8gTNl   | 192.168.202.79 | 46119 | 192.168.229.254 | 443 | tcp | ssl  | 0.02 | 544 | 1060 | SF | 0 | ShADadfFr | 8 | 968 | 13 | 1744 |\n",
       "| 6 | 1331901000 | CRksHc2i8qahpGOP19 | 192.168.202.79 | 46121 | 192.168.229.254 | 443 | tcp | ssl  | 0.01 | 544 | 1060 | SF | 0 | ShADadfFr | 8 | 968 | 13 | 1744 |\n",
       "\n"
      ],
      "text/plain": [
       "  ts         uid                orig_ip        orig_port resp_ip        \n",
       "1 1331901000 CCUIP21wTjqkj8ZqX5 192.168.202.79 50463     192.168.229.251\n",
       "2 1331901000 Csssjd3tX0yOTPDpng 192.168.202.79 46117     192.168.229.254\n",
       "3 1331901000 CHEt7z3AzG4gyCNgci 192.168.202.79 50465     192.168.229.251\n",
       "4 1331901000 CKnDAp2ohlvN6rpiXl 192.168.202.79 50467     192.168.229.251\n",
       "5 1331901000 CGUBcoXKxBE8gTNl   192.168.202.79 46119     192.168.229.254\n",
       "6 1331901000 CRksHc2i8qahpGOP19 192.168.202.79 46121     192.168.229.254\n",
       "  resp_port proto service duration orig_bytes resp_bytes conn_state\n",
       "1  80       tcp   NA        NA      NA          NA       SH        \n",
       "2 443       tcp   NA        NA      NA          NA       SF        \n",
       "3  80       tcp   http    0.01     166         214       SF        \n",
       "4  80       tcp   http    0.01     166         214       SF        \n",
       "5 443       tcp   ssl     0.02     544        1060       SF        \n",
       "6 443       tcp   ssl     0.01     544        1060       SF        \n",
       "  missed_bytes history   orig_pkts orig_ip_bytes resp_pkts resp_ip_bytes\n",
       "1 0            Fa        1          52            1          52         \n",
       "2 0            dDafFr    3         382            9         994         \n",
       "3 0            ShADfFa   4         382            3         382         \n",
       "4 0            ShADfFa   4         382            3         382         \n",
       "5 0            ShADadfFr 8         968           13        1744         \n",
       "6 0            ShADadfFr 8         968           13        1744         "
      ]
     },
     "metadata": {},
     "output_type": "display_data"
    }
   ],
   "source": [
    "data$service[data$service==\"\"] <- NA\n",
    "head(data)\n",
    "data2$service[data2$service==\"\"] <- NA"
   ]
  },
  {
   "cell_type": "code",
   "execution_count": 10,
   "metadata": {},
   "outputs": [],
   "source": [
    "for(i in c(4,6)) data[,i]=as.numeric(data[,i])\n",
    "for(i in c(4,6)) data2[,i]=as.numeric(data2[,i])"
   ]
  },
  {
   "cell_type": "code",
   "execution_count": 11,
   "metadata": {},
   "outputs": [
    {
     "data": {
      "text/html": [
       "<table>\n",
       "<caption>A tibble: 18 × 6</caption>\n",
       "<thead>\n",
       "\t<tr><th scope=col>variables</th><th scope=col>types</th><th scope=col>missing_count</th><th scope=col>missing_percent</th><th scope=col>unique_count</th><th scope=col>unique_rate</th></tr>\n",
       "\t<tr><th scope=col>&lt;chr&gt;</th><th scope=col>&lt;chr&gt;</th><th scope=col>&lt;int&gt;</th><th scope=col>&lt;dbl&gt;</th><th scope=col>&lt;int&gt;</th><th scope=col>&lt;dbl&gt;</th></tr>\n",
       "</thead>\n",
       "<tbody>\n",
       "\t<tr><td>ts           </td><td>numeric  </td><td>     0</td><td> 0.00000</td><td>  8231</td><td>3.626902e-02</td></tr>\n",
       "\t<tr><td>uid          </td><td>character</td><td>     0</td><td> 0.00000</td><td>226943</td><td>1.000000e+00</td></tr>\n",
       "\t<tr><td>orig_ip      </td><td>character</td><td>     0</td><td> 0.00000</td><td>    72</td><td>3.172603e-04</td></tr>\n",
       "\t<tr><td>orig_port    </td><td>numeric  </td><td>     0</td><td> 0.00000</td><td>  5289</td><td>2.330541e-02</td></tr>\n",
       "\t<tr><td>resp_ip      </td><td>character</td><td>     0</td><td> 0.00000</td><td>   517</td><td>2.278105e-03</td></tr>\n",
       "\t<tr><td>resp_port    </td><td>numeric  </td><td>     0</td><td> 0.00000</td><td> 28117</td><td>1.238945e-01</td></tr>\n",
       "\t<tr><td>proto        </td><td>character</td><td>     0</td><td> 0.00000</td><td>     3</td><td>1.321918e-05</td></tr>\n",
       "\t<tr><td>service      </td><td>character</td><td>225579</td><td>99.39897</td><td>     6</td><td>2.643836e-05</td></tr>\n",
       "\t<tr><td>duration     </td><td>numeric  </td><td> 82146</td><td>36.19675</td><td>  1040</td><td>4.582649e-03</td></tr>\n",
       "\t<tr><td>orig_bytes   </td><td>integer  </td><td> 82146</td><td>36.19675</td><td>   202</td><td>8.900913e-04</td></tr>\n",
       "\t<tr><td>resp_bytes   </td><td>integer  </td><td> 82146</td><td>36.19675</td><td>    76</td><td>3.348859e-04</td></tr>\n",
       "\t<tr><td>conn_state   </td><td>character</td><td>     0</td><td> 0.00000</td><td>     9</td><td>3.965754e-05</td></tr>\n",
       "\t<tr><td>missed_bytes </td><td>integer  </td><td>     0</td><td> 0.00000</td><td>     1</td><td>4.406393e-06</td></tr>\n",
       "\t<tr><td>history      </td><td>character</td><td>     0</td><td> 0.00000</td><td>    39</td><td>1.718493e-04</td></tr>\n",
       "\t<tr><td>orig_pkts    </td><td>integer  </td><td>     0</td><td> 0.00000</td><td>    33</td><td>1.454110e-04</td></tr>\n",
       "\t<tr><td>orig_ip_bytes</td><td>integer  </td><td>     0</td><td> 0.00000</td><td>   334</td><td>1.471735e-03</td></tr>\n",
       "\t<tr><td>resp_pkts    </td><td>integer  </td><td>     0</td><td> 0.00000</td><td>    17</td><td>7.490868e-05</td></tr>\n",
       "\t<tr><td>resp_ip_bytes</td><td>integer  </td><td>     0</td><td> 0.00000</td><td>   123</td><td>5.419863e-04</td></tr>\n",
       "</tbody>\n",
       "</table>\n"
      ],
      "text/latex": [
       "A tibble: 18 × 6\n",
       "\\begin{tabular}{llllll}\n",
       " variables & types & missing\\_count & missing\\_percent & unique\\_count & unique\\_rate\\\\\n",
       " <chr> & <chr> & <int> & <dbl> & <int> & <dbl>\\\\\n",
       "\\hline\n",
       "\t ts            & numeric   &      0 &  0.00000 &   8231 & 3.626902e-02\\\\\n",
       "\t uid           & character &      0 &  0.00000 & 226943 & 1.000000e+00\\\\\n",
       "\t orig\\_ip       & character &      0 &  0.00000 &     72 & 3.172603e-04\\\\\n",
       "\t orig\\_port     & numeric   &      0 &  0.00000 &   5289 & 2.330541e-02\\\\\n",
       "\t resp\\_ip       & character &      0 &  0.00000 &    517 & 2.278105e-03\\\\\n",
       "\t resp\\_port     & numeric   &      0 &  0.00000 &  28117 & 1.238945e-01\\\\\n",
       "\t proto         & character &      0 &  0.00000 &      3 & 1.321918e-05\\\\\n",
       "\t service       & character & 225579 & 99.39897 &      6 & 2.643836e-05\\\\\n",
       "\t duration      & numeric   &  82146 & 36.19675 &   1040 & 4.582649e-03\\\\\n",
       "\t orig\\_bytes    & integer   &  82146 & 36.19675 &    202 & 8.900913e-04\\\\\n",
       "\t resp\\_bytes    & integer   &  82146 & 36.19675 &     76 & 3.348859e-04\\\\\n",
       "\t conn\\_state    & character &      0 &  0.00000 &      9 & 3.965754e-05\\\\\n",
       "\t missed\\_bytes  & integer   &      0 &  0.00000 &      1 & 4.406393e-06\\\\\n",
       "\t history       & character &      0 &  0.00000 &     39 & 1.718493e-04\\\\\n",
       "\t orig\\_pkts     & integer   &      0 &  0.00000 &     33 & 1.454110e-04\\\\\n",
       "\t orig\\_ip\\_bytes & integer   &      0 &  0.00000 &    334 & 1.471735e-03\\\\\n",
       "\t resp\\_pkts     & integer   &      0 &  0.00000 &     17 & 7.490868e-05\\\\\n",
       "\t resp\\_ip\\_bytes & integer   &      0 &  0.00000 &    123 & 5.419863e-04\\\\\n",
       "\\end{tabular}\n"
      ],
      "text/markdown": [
       "\n",
       "A tibble: 18 × 6\n",
       "\n",
       "| variables &lt;chr&gt; | types &lt;chr&gt; | missing_count &lt;int&gt; | missing_percent &lt;dbl&gt; | unique_count &lt;int&gt; | unique_rate &lt;dbl&gt; |\n",
       "|---|---|---|---|---|---|\n",
       "| ts            | numeric   |      0 |  0.00000 |   8231 | 3.626902e-02 |\n",
       "| uid           | character |      0 |  0.00000 | 226943 | 1.000000e+00 |\n",
       "| orig_ip       | character |      0 |  0.00000 |     72 | 3.172603e-04 |\n",
       "| orig_port     | numeric   |      0 |  0.00000 |   5289 | 2.330541e-02 |\n",
       "| resp_ip       | character |      0 |  0.00000 |    517 | 2.278105e-03 |\n",
       "| resp_port     | numeric   |      0 |  0.00000 |  28117 | 1.238945e-01 |\n",
       "| proto         | character |      0 |  0.00000 |      3 | 1.321918e-05 |\n",
       "| service       | character | 225579 | 99.39897 |      6 | 2.643836e-05 |\n",
       "| duration      | numeric   |  82146 | 36.19675 |   1040 | 4.582649e-03 |\n",
       "| orig_bytes    | integer   |  82146 | 36.19675 |    202 | 8.900913e-04 |\n",
       "| resp_bytes    | integer   |  82146 | 36.19675 |     76 | 3.348859e-04 |\n",
       "| conn_state    | character |      0 |  0.00000 |      9 | 3.965754e-05 |\n",
       "| missed_bytes  | integer   |      0 |  0.00000 |      1 | 4.406393e-06 |\n",
       "| history       | character |      0 |  0.00000 |     39 | 1.718493e-04 |\n",
       "| orig_pkts     | integer   |      0 |  0.00000 |     33 | 1.454110e-04 |\n",
       "| orig_ip_bytes | integer   |      0 |  0.00000 |    334 | 1.471735e-03 |\n",
       "| resp_pkts     | integer   |      0 |  0.00000 |     17 | 7.490868e-05 |\n",
       "| resp_ip_bytes | integer   |      0 |  0.00000 |    123 | 5.419863e-04 |\n",
       "\n"
      ],
      "text/plain": [
       "   variables     types     missing_count missing_percent unique_count\n",
       "1  ts            numeric        0         0.00000          8231      \n",
       "2  uid           character      0         0.00000        226943      \n",
       "3  orig_ip       character      0         0.00000            72      \n",
       "4  orig_port     numeric        0         0.00000          5289      \n",
       "5  resp_ip       character      0         0.00000           517      \n",
       "6  resp_port     numeric        0         0.00000         28117      \n",
       "7  proto         character      0         0.00000             3      \n",
       "8  service       character 225579        99.39897             6      \n",
       "9  duration      numeric    82146        36.19675          1040      \n",
       "10 orig_bytes    integer    82146        36.19675           202      \n",
       "11 resp_bytes    integer    82146        36.19675            76      \n",
       "12 conn_state    character      0         0.00000             9      \n",
       "13 missed_bytes  integer        0         0.00000             1      \n",
       "14 history       character      0         0.00000            39      \n",
       "15 orig_pkts     integer        0         0.00000            33      \n",
       "16 orig_ip_bytes integer        0         0.00000           334      \n",
       "17 resp_pkts     integer        0         0.00000            17      \n",
       "18 resp_ip_bytes integer        0         0.00000           123      \n",
       "   unique_rate \n",
       "1  3.626902e-02\n",
       "2  1.000000e+00\n",
       "3  3.172603e-04\n",
       "4  2.330541e-02\n",
       "5  2.278105e-03\n",
       "6  1.238945e-01\n",
       "7  1.321918e-05\n",
       "8  2.643836e-05\n",
       "9  4.582649e-03\n",
       "10 8.900913e-04\n",
       "11 3.348859e-04\n",
       "12 3.965754e-05\n",
       "13 4.406393e-06\n",
       "14 1.718493e-04\n",
       "15 1.454110e-04\n",
       "16 1.471735e-03\n",
       "17 7.490868e-05\n",
       "18 5.419863e-04"
      ]
     },
     "metadata": {},
     "output_type": "display_data"
    },
    {
     "name": "stdout",
     "output_type": "stream",
     "text": [
      "[1] \"No. of entries in data:\"\n"
     ]
    },
    {
     "data": {
      "text/html": [
       "226943"
      ],
      "text/latex": [
       "226943"
      ],
      "text/markdown": [
       "226943"
      ],
      "text/plain": [
       "[1] 226943"
      ]
     },
     "metadata": {},
     "output_type": "display_data"
    },
    {
     "data": {
      "text/html": [
       "'data.frame'"
      ],
      "text/latex": [
       "'data.frame'"
      ],
      "text/markdown": [
       "'data.frame'"
      ],
      "text/plain": [
       "[1] \"data.frame\""
      ]
     },
     "metadata": {},
     "output_type": "display_data"
    }
   ],
   "source": [
    "diagnose(data)\n",
    "print(\"No. of entries in data:\")\n",
    "nrow(data)\n",
    "class(data)"
   ]
  },
  {
   "cell_type": "code",
   "execution_count": 12,
   "metadata": {},
   "outputs": [
    {
     "data": {
      "text/html": [
       "<table>\n",
       "<caption>A tibble: 18 × 6</caption>\n",
       "<thead>\n",
       "\t<tr><th scope=col>variables</th><th scope=col>types</th><th scope=col>missing_count</th><th scope=col>missing_percent</th><th scope=col>unique_count</th><th scope=col>unique_rate</th></tr>\n",
       "\t<tr><th scope=col>&lt;chr&gt;</th><th scope=col>&lt;chr&gt;</th><th scope=col>&lt;int&gt;</th><th scope=col>&lt;dbl&gt;</th><th scope=col>&lt;int&gt;</th><th scope=col>&lt;dbl&gt;</th></tr>\n",
       "</thead>\n",
       "<tbody>\n",
       "\t<tr><td>ts           </td><td>numeric  </td><td>     0</td><td> 0.00000</td><td>167908</td><td>7.398686e-01</td></tr>\n",
       "\t<tr><td>uid          </td><td>character</td><td>     0</td><td> 0.00000</td><td>226943</td><td>1.000000e+00</td></tr>\n",
       "\t<tr><td>orig_ip      </td><td>character</td><td>     0</td><td> 0.00000</td><td>   179</td><td>7.887443e-04</td></tr>\n",
       "\t<tr><td>orig_port    </td><td>numeric  </td><td>     0</td><td> 0.00000</td><td> 50876</td><td>2.241796e-01</td></tr>\n",
       "\t<tr><td>resp_ip      </td><td>character</td><td>     0</td><td> 0.00000</td><td>  2764</td><td>1.217927e-02</td></tr>\n",
       "\t<tr><td>resp_port    </td><td>numeric  </td><td>     0</td><td> 0.00000</td><td> 54572</td><td>2.404657e-01</td></tr>\n",
       "\t<tr><td>proto        </td><td>character</td><td>     0</td><td> 0.00000</td><td>     3</td><td>1.321918e-05</td></tr>\n",
       "\t<tr><td>service      </td><td>character</td><td>220157</td><td>97.00982</td><td>     9</td><td>3.965754e-05</td></tr>\n",
       "\t<tr><td>duration     </td><td>numeric  </td><td>187905</td><td>82.79832</td><td>  1024</td><td>4.512146e-03</td></tr>\n",
       "\t<tr><td>orig_bytes   </td><td>numeric  </td><td>187905</td><td>82.79832</td><td>  1011</td><td>4.454863e-03</td></tr>\n",
       "\t<tr><td>resp_bytes   </td><td>integer  </td><td>187905</td><td>82.79832</td><td>   893</td><td>3.934909e-03</td></tr>\n",
       "\t<tr><td>conn_state   </td><td>character</td><td>     0</td><td> 0.00000</td><td>    13</td><td>5.728311e-05</td></tr>\n",
       "\t<tr><td>missed_bytes </td><td>integer  </td><td>     0</td><td> 0.00000</td><td>     1</td><td>4.406393e-06</td></tr>\n",
       "\t<tr><td>history      </td><td>character</td><td>     0</td><td> 0.00000</td><td>   139</td><td>6.124886e-04</td></tr>\n",
       "\t<tr><td>orig_pkts    </td><td>integer  </td><td>     0</td><td> 0.00000</td><td>    75</td><td>3.304795e-04</td></tr>\n",
       "\t<tr><td>orig_ip_bytes</td><td>integer  </td><td>     0</td><td> 0.00000</td><td>  1421</td><td>6.261484e-03</td></tr>\n",
       "\t<tr><td>resp_pkts    </td><td>integer  </td><td>     0</td><td> 0.00000</td><td>    81</td><td>3.569178e-04</td></tr>\n",
       "\t<tr><td>resp_ip_bytes</td><td>integer  </td><td>     0</td><td> 0.00000</td><td>  1113</td><td>4.904315e-03</td></tr>\n",
       "</tbody>\n",
       "</table>\n"
      ],
      "text/latex": [
       "A tibble: 18 × 6\n",
       "\\begin{tabular}{llllll}\n",
       " variables & types & missing\\_count & missing\\_percent & unique\\_count & unique\\_rate\\\\\n",
       " <chr> & <chr> & <int> & <dbl> & <int> & <dbl>\\\\\n",
       "\\hline\n",
       "\t ts            & numeric   &      0 &  0.00000 & 167908 & 7.398686e-01\\\\\n",
       "\t uid           & character &      0 &  0.00000 & 226943 & 1.000000e+00\\\\\n",
       "\t orig\\_ip       & character &      0 &  0.00000 &    179 & 7.887443e-04\\\\\n",
       "\t orig\\_port     & numeric   &      0 &  0.00000 &  50876 & 2.241796e-01\\\\\n",
       "\t resp\\_ip       & character &      0 &  0.00000 &   2764 & 1.217927e-02\\\\\n",
       "\t resp\\_port     & numeric   &      0 &  0.00000 &  54572 & 2.404657e-01\\\\\n",
       "\t proto         & character &      0 &  0.00000 &      3 & 1.321918e-05\\\\\n",
       "\t service       & character & 220157 & 97.00982 &      9 & 3.965754e-05\\\\\n",
       "\t duration      & numeric   & 187905 & 82.79832 &   1024 & 4.512146e-03\\\\\n",
       "\t orig\\_bytes    & numeric   & 187905 & 82.79832 &   1011 & 4.454863e-03\\\\\n",
       "\t resp\\_bytes    & integer   & 187905 & 82.79832 &    893 & 3.934909e-03\\\\\n",
       "\t conn\\_state    & character &      0 &  0.00000 &     13 & 5.728311e-05\\\\\n",
       "\t missed\\_bytes  & integer   &      0 &  0.00000 &      1 & 4.406393e-06\\\\\n",
       "\t history       & character &      0 &  0.00000 &    139 & 6.124886e-04\\\\\n",
       "\t orig\\_pkts     & integer   &      0 &  0.00000 &     75 & 3.304795e-04\\\\\n",
       "\t orig\\_ip\\_bytes & integer   &      0 &  0.00000 &   1421 & 6.261484e-03\\\\\n",
       "\t resp\\_pkts     & integer   &      0 &  0.00000 &     81 & 3.569178e-04\\\\\n",
       "\t resp\\_ip\\_bytes & integer   &      0 &  0.00000 &   1113 & 4.904315e-03\\\\\n",
       "\\end{tabular}\n"
      ],
      "text/markdown": [
       "\n",
       "A tibble: 18 × 6\n",
       "\n",
       "| variables &lt;chr&gt; | types &lt;chr&gt; | missing_count &lt;int&gt; | missing_percent &lt;dbl&gt; | unique_count &lt;int&gt; | unique_rate &lt;dbl&gt; |\n",
       "|---|---|---|---|---|---|\n",
       "| ts            | numeric   |      0 |  0.00000 | 167908 | 7.398686e-01 |\n",
       "| uid           | character |      0 |  0.00000 | 226943 | 1.000000e+00 |\n",
       "| orig_ip       | character |      0 |  0.00000 |    179 | 7.887443e-04 |\n",
       "| orig_port     | numeric   |      0 |  0.00000 |  50876 | 2.241796e-01 |\n",
       "| resp_ip       | character |      0 |  0.00000 |   2764 | 1.217927e-02 |\n",
       "| resp_port     | numeric   |      0 |  0.00000 |  54572 | 2.404657e-01 |\n",
       "| proto         | character |      0 |  0.00000 |      3 | 1.321918e-05 |\n",
       "| service       | character | 220157 | 97.00982 |      9 | 3.965754e-05 |\n",
       "| duration      | numeric   | 187905 | 82.79832 |   1024 | 4.512146e-03 |\n",
       "| orig_bytes    | numeric   | 187905 | 82.79832 |   1011 | 4.454863e-03 |\n",
       "| resp_bytes    | integer   | 187905 | 82.79832 |    893 | 3.934909e-03 |\n",
       "| conn_state    | character |      0 |  0.00000 |     13 | 5.728311e-05 |\n",
       "| missed_bytes  | integer   |      0 |  0.00000 |      1 | 4.406393e-06 |\n",
       "| history       | character |      0 |  0.00000 |    139 | 6.124886e-04 |\n",
       "| orig_pkts     | integer   |      0 |  0.00000 |     75 | 3.304795e-04 |\n",
       "| orig_ip_bytes | integer   |      0 |  0.00000 |   1421 | 6.261484e-03 |\n",
       "| resp_pkts     | integer   |      0 |  0.00000 |     81 | 3.569178e-04 |\n",
       "| resp_ip_bytes | integer   |      0 |  0.00000 |   1113 | 4.904315e-03 |\n",
       "\n"
      ],
      "text/plain": [
       "   variables     types     missing_count missing_percent unique_count\n",
       "1  ts            numeric        0         0.00000        167908      \n",
       "2  uid           character      0         0.00000        226943      \n",
       "3  orig_ip       character      0         0.00000           179      \n",
       "4  orig_port     numeric        0         0.00000         50876      \n",
       "5  resp_ip       character      0         0.00000          2764      \n",
       "6  resp_port     numeric        0         0.00000         54572      \n",
       "7  proto         character      0         0.00000             3      \n",
       "8  service       character 220157        97.00982             9      \n",
       "9  duration      numeric   187905        82.79832          1024      \n",
       "10 orig_bytes    numeric   187905        82.79832          1011      \n",
       "11 resp_bytes    integer   187905        82.79832           893      \n",
       "12 conn_state    character      0         0.00000            13      \n",
       "13 missed_bytes  integer        0         0.00000             1      \n",
       "14 history       character      0         0.00000           139      \n",
       "15 orig_pkts     integer        0         0.00000            75      \n",
       "16 orig_ip_bytes integer        0         0.00000          1421      \n",
       "17 resp_pkts     integer        0         0.00000            81      \n",
       "18 resp_ip_bytes integer        0         0.00000          1113      \n",
       "   unique_rate \n",
       "1  7.398686e-01\n",
       "2  1.000000e+00\n",
       "3  7.887443e-04\n",
       "4  2.241796e-01\n",
       "5  1.217927e-02\n",
       "6  2.404657e-01\n",
       "7  1.321918e-05\n",
       "8  3.965754e-05\n",
       "9  4.512146e-03\n",
       "10 4.454863e-03\n",
       "11 3.934909e-03\n",
       "12 5.728311e-05\n",
       "13 4.406393e-06\n",
       "14 6.124886e-04\n",
       "15 3.304795e-04\n",
       "16 6.261484e-03\n",
       "17 3.569178e-04\n",
       "18 4.904315e-03"
      ]
     },
     "metadata": {},
     "output_type": "display_data"
    },
    {
     "name": "stdout",
     "output_type": "stream",
     "text": [
      "[1] \"No. of entries in data:\"\n"
     ]
    },
    {
     "data": {
      "text/html": [
       "226943"
      ],
      "text/latex": [
       "226943"
      ],
      "text/markdown": [
       "226943"
      ],
      "text/plain": [
       "[1] 226943"
      ]
     },
     "metadata": {},
     "output_type": "display_data"
    },
    {
     "data": {
      "text/html": [
       "'data.frame'"
      ],
      "text/latex": [
       "'data.frame'"
      ],
      "text/markdown": [
       "'data.frame'"
      ],
      "text/plain": [
       "[1] \"data.frame\""
      ]
     },
     "metadata": {},
     "output_type": "display_data"
    }
   ],
   "source": [
    "diagnose(data2)\n",
    "print(\"No. of entries in data:\")\n",
    "nrow(data2)\n",
    "class(data2)"
   ]
  },
  {
   "cell_type": "markdown",
   "metadata": {},
   "source": [
    "We see that every entry in uid is unique, therefore there are no trends that we'll be able to observe and so we can cut the column."
   ]
  },
  {
   "cell_type": "code",
   "execution_count": 168,
   "metadata": {},
   "outputs": [
    {
     "data": {
      "text/html": [
       "<table>\n",
       "<caption>A data.frame: 6 × 17</caption>\n",
       "<thead>\n",
       "\t<tr><th></th><th scope=col>ts</th><th scope=col>orig_ip</th><th scope=col>orig_port</th><th scope=col>resp_ip</th><th scope=col>resp_port</th><th scope=col>proto</th><th scope=col>service</th><th scope=col>duration</th><th scope=col>orig_bytes</th><th scope=col>resp_bytes</th><th scope=col>conn_state</th><th scope=col>missed_bytes</th><th scope=col>history</th><th scope=col>orig_pkts</th><th scope=col>orig_ip_bytes</th><th scope=col>resp_pkts</th><th scope=col>resp_ip_bytes</th></tr>\n",
       "\t<tr><th></th><th scope=col>&lt;dbl&gt;</th><th scope=col>&lt;chr&gt;</th><th scope=col>&lt;int&gt;</th><th scope=col>&lt;chr&gt;</th><th scope=col>&lt;int&gt;</th><th scope=col>&lt;chr&gt;</th><th scope=col>&lt;chr&gt;</th><th scope=col>&lt;dbl&gt;</th><th scope=col>&lt;int&gt;</th><th scope=col>&lt;int&gt;</th><th scope=col>&lt;chr&gt;</th><th scope=col>&lt;int&gt;</th><th scope=col>&lt;chr&gt;</th><th scope=col>&lt;int&gt;</th><th scope=col>&lt;int&gt;</th><th scope=col>&lt;int&gt;</th><th scope=col>&lt;int&gt;</th></tr>\n",
       "</thead>\n",
       "<tbody>\n",
       "\t<tr><th scope=row>1</th><td>1331901000</td><td>192.168.202.79</td><td>50463</td><td>192.168.229.251</td><td> 80</td><td>tcp</td><td>NA  </td><td>  NA</td><td> NA</td><td>  NA</td><td>SH</td><td>0</td><td>Fa       </td><td>1</td><td> 52</td><td> 1</td><td>  52</td></tr>\n",
       "\t<tr><th scope=row>2</th><td>1331901000</td><td>192.168.202.79</td><td>46117</td><td>192.168.229.254</td><td>443</td><td>tcp</td><td>NA  </td><td>  NA</td><td> NA</td><td>  NA</td><td>SF</td><td>0</td><td>dDafFr   </td><td>3</td><td>382</td><td> 9</td><td> 994</td></tr>\n",
       "\t<tr><th scope=row>3</th><td>1331901000</td><td>192.168.202.79</td><td>50465</td><td>192.168.229.251</td><td> 80</td><td>tcp</td><td>http</td><td>0.01</td><td>166</td><td> 214</td><td>SF</td><td>0</td><td>ShADfFa  </td><td>4</td><td>382</td><td> 3</td><td> 382</td></tr>\n",
       "\t<tr><th scope=row>4</th><td>1331901000</td><td>192.168.202.79</td><td>50467</td><td>192.168.229.251</td><td> 80</td><td>tcp</td><td>http</td><td>0.01</td><td>166</td><td> 214</td><td>SF</td><td>0</td><td>ShADfFa  </td><td>4</td><td>382</td><td> 3</td><td> 382</td></tr>\n",
       "\t<tr><th scope=row>5</th><td>1331901000</td><td>192.168.202.79</td><td>46119</td><td>192.168.229.254</td><td>443</td><td>tcp</td><td>ssl </td><td>0.02</td><td>544</td><td>1060</td><td>SF</td><td>0</td><td>ShADadfFr</td><td>8</td><td>968</td><td>13</td><td>1744</td></tr>\n",
       "\t<tr><th scope=row>6</th><td>1331901000</td><td>192.168.202.79</td><td>46121</td><td>192.168.229.254</td><td>443</td><td>tcp</td><td>ssl </td><td>0.01</td><td>544</td><td>1060</td><td>SF</td><td>0</td><td>ShADadfFr</td><td>8</td><td>968</td><td>13</td><td>1744</td></tr>\n",
       "</tbody>\n",
       "</table>\n"
      ],
      "text/latex": [
       "A data.frame: 6 × 17\n",
       "\\begin{tabular}{r|lllllllllllllllll}\n",
       "  & ts & orig\\_ip & orig\\_port & resp\\_ip & resp\\_port & proto & service & duration & orig\\_bytes & resp\\_bytes & conn\\_state & missed\\_bytes & history & orig\\_pkts & orig\\_ip\\_bytes & resp\\_pkts & resp\\_ip\\_bytes\\\\\n",
       "  & <dbl> & <chr> & <int> & <chr> & <int> & <chr> & <chr> & <dbl> & <int> & <int> & <chr> & <int> & <chr> & <int> & <int> & <int> & <int>\\\\\n",
       "\\hline\n",
       "\t1 & 1331901000 & 192.168.202.79 & 50463 & 192.168.229.251 &  80 & tcp & NA   &   NA &  NA &   NA & SH & 0 & Fa        & 1 &  52 &  1 &   52\\\\\n",
       "\t2 & 1331901000 & 192.168.202.79 & 46117 & 192.168.229.254 & 443 & tcp & NA   &   NA &  NA &   NA & SF & 0 & dDafFr    & 3 & 382 &  9 &  994\\\\\n",
       "\t3 & 1331901000 & 192.168.202.79 & 50465 & 192.168.229.251 &  80 & tcp & http & 0.01 & 166 &  214 & SF & 0 & ShADfFa   & 4 & 382 &  3 &  382\\\\\n",
       "\t4 & 1331901000 & 192.168.202.79 & 50467 & 192.168.229.251 &  80 & tcp & http & 0.01 & 166 &  214 & SF & 0 & ShADfFa   & 4 & 382 &  3 &  382\\\\\n",
       "\t5 & 1331901000 & 192.168.202.79 & 46119 & 192.168.229.254 & 443 & tcp & ssl  & 0.02 & 544 & 1060 & SF & 0 & ShADadfFr & 8 & 968 & 13 & 1744\\\\\n",
       "\t6 & 1331901000 & 192.168.202.79 & 46121 & 192.168.229.254 & 443 & tcp & ssl  & 0.01 & 544 & 1060 & SF & 0 & ShADadfFr & 8 & 968 & 13 & 1744\\\\\n",
       "\\end{tabular}\n"
      ],
      "text/markdown": [
       "\n",
       "A data.frame: 6 × 17\n",
       "\n",
       "| <!--/--> | ts &lt;dbl&gt; | orig_ip &lt;chr&gt; | orig_port &lt;int&gt; | resp_ip &lt;chr&gt; | resp_port &lt;int&gt; | proto &lt;chr&gt; | service &lt;chr&gt; | duration &lt;dbl&gt; | orig_bytes &lt;int&gt; | resp_bytes &lt;int&gt; | conn_state &lt;chr&gt; | missed_bytes &lt;int&gt; | history &lt;chr&gt; | orig_pkts &lt;int&gt; | orig_ip_bytes &lt;int&gt; | resp_pkts &lt;int&gt; | resp_ip_bytes &lt;int&gt; |\n",
       "|---|---|---|---|---|---|---|---|---|---|---|---|---|---|---|---|---|---|\n",
       "| 1 | 1331901000 | 192.168.202.79 | 50463 | 192.168.229.251 |  80 | tcp | NA   |   NA |  NA |   NA | SH | 0 | Fa        | 1 |  52 |  1 |   52 |\n",
       "| 2 | 1331901000 | 192.168.202.79 | 46117 | 192.168.229.254 | 443 | tcp | NA   |   NA |  NA |   NA | SF | 0 | dDafFr    | 3 | 382 |  9 |  994 |\n",
       "| 3 | 1331901000 | 192.168.202.79 | 50465 | 192.168.229.251 |  80 | tcp | http | 0.01 | 166 |  214 | SF | 0 | ShADfFa   | 4 | 382 |  3 |  382 |\n",
       "| 4 | 1331901000 | 192.168.202.79 | 50467 | 192.168.229.251 |  80 | tcp | http | 0.01 | 166 |  214 | SF | 0 | ShADfFa   | 4 | 382 |  3 |  382 |\n",
       "| 5 | 1331901000 | 192.168.202.79 | 46119 | 192.168.229.254 | 443 | tcp | ssl  | 0.02 | 544 | 1060 | SF | 0 | ShADadfFr | 8 | 968 | 13 | 1744 |\n",
       "| 6 | 1331901000 | 192.168.202.79 | 46121 | 192.168.229.254 | 443 | tcp | ssl  | 0.01 | 544 | 1060 | SF | 0 | ShADadfFr | 8 | 968 | 13 | 1744 |\n",
       "\n"
      ],
      "text/plain": [
       "  ts         orig_ip        orig_port resp_ip         resp_port proto service\n",
       "1 1331901000 192.168.202.79 50463     192.168.229.251  80       tcp   NA     \n",
       "2 1331901000 192.168.202.79 46117     192.168.229.254 443       tcp   NA     \n",
       "3 1331901000 192.168.202.79 50465     192.168.229.251  80       tcp   http   \n",
       "4 1331901000 192.168.202.79 50467     192.168.229.251  80       tcp   http   \n",
       "5 1331901000 192.168.202.79 46119     192.168.229.254 443       tcp   ssl    \n",
       "6 1331901000 192.168.202.79 46121     192.168.229.254 443       tcp   ssl    \n",
       "  duration orig_bytes resp_bytes conn_state missed_bytes history   orig_pkts\n",
       "1   NA      NA          NA       SH         0            Fa        1        \n",
       "2   NA      NA          NA       SF         0            dDafFr    3        \n",
       "3 0.01     166         214       SF         0            ShADfFa   4        \n",
       "4 0.01     166         214       SF         0            ShADfFa   4        \n",
       "5 0.02     544        1060       SF         0            ShADadfFr 8        \n",
       "6 0.01     544        1060       SF         0            ShADadfFr 8        \n",
       "  orig_ip_bytes resp_pkts resp_ip_bytes\n",
       "1  52            1          52         \n",
       "2 382            9         994         \n",
       "3 382            3         382         \n",
       "4 382            3         382         \n",
       "5 968           13        1744         \n",
       "6 968           13        1744         "
      ]
     },
     "metadata": {},
     "output_type": "display_data"
    }
   ],
   "source": [
    "if(\"uid\" %in% colnames(data))\n",
    "{\n",
    "    data <- subset(data, select = -c(uid));\n",
    "}\n",
    "head(data)"
   ]
  },
  {
   "cell_type": "code",
   "execution_count": 169,
   "metadata": {},
   "outputs": [
    {
     "data": {
      "text/html": [
       "<table>\n",
       "<caption>A data.frame: 17 × 1</caption>\n",
       "<thead>\n",
       "\t<tr><th></th><th scope=col>colSums(is.na(data))</th></tr>\n",
       "\t<tr><th></th><th scope=col>&lt;dbl&gt;</th></tr>\n",
       "</thead>\n",
       "<tbody>\n",
       "\t<tr><th scope=row>ts</th><td>     0</td></tr>\n",
       "\t<tr><th scope=row>orig_ip</th><td>     0</td></tr>\n",
       "\t<tr><th scope=row>orig_port</th><td>     0</td></tr>\n",
       "\t<tr><th scope=row>resp_ip</th><td>     0</td></tr>\n",
       "\t<tr><th scope=row>resp_port</th><td>     0</td></tr>\n",
       "\t<tr><th scope=row>proto</th><td>     0</td></tr>\n",
       "\t<tr><th scope=row>service</th><td>225579</td></tr>\n",
       "\t<tr><th scope=row>duration</th><td> 82146</td></tr>\n",
       "\t<tr><th scope=row>orig_bytes</th><td> 82146</td></tr>\n",
       "\t<tr><th scope=row>resp_bytes</th><td> 82146</td></tr>\n",
       "\t<tr><th scope=row>conn_state</th><td>     0</td></tr>\n",
       "\t<tr><th scope=row>missed_bytes</th><td>     0</td></tr>\n",
       "\t<tr><th scope=row>history</th><td>     0</td></tr>\n",
       "\t<tr><th scope=row>orig_pkts</th><td>     0</td></tr>\n",
       "\t<tr><th scope=row>orig_ip_bytes</th><td>     0</td></tr>\n",
       "\t<tr><th scope=row>resp_pkts</th><td>     0</td></tr>\n",
       "\t<tr><th scope=row>resp_ip_bytes</th><td>     0</td></tr>\n",
       "</tbody>\n",
       "</table>\n"
      ],
      "text/latex": [
       "A data.frame: 17 × 1\n",
       "\\begin{tabular}{r|l}\n",
       "  & colSums(is.na(data))\\\\\n",
       "  & <dbl>\\\\\n",
       "\\hline\n",
       "\tts &      0\\\\\n",
       "\torig\\_ip &      0\\\\\n",
       "\torig\\_port &      0\\\\\n",
       "\tresp\\_ip &      0\\\\\n",
       "\tresp\\_port &      0\\\\\n",
       "\tproto &      0\\\\\n",
       "\tservice & 225579\\\\\n",
       "\tduration &  82146\\\\\n",
       "\torig\\_bytes &  82146\\\\\n",
       "\tresp\\_bytes &  82146\\\\\n",
       "\tconn\\_state &      0\\\\\n",
       "\tmissed\\_bytes &      0\\\\\n",
       "\thistory &      0\\\\\n",
       "\torig\\_pkts &      0\\\\\n",
       "\torig\\_ip\\_bytes &      0\\\\\n",
       "\tresp\\_pkts &      0\\\\\n",
       "\tresp\\_ip\\_bytes &      0\\\\\n",
       "\\end{tabular}\n"
      ],
      "text/markdown": [
       "\n",
       "A data.frame: 17 × 1\n",
       "\n",
       "| <!--/--> | colSums(is.na(data)) &lt;dbl&gt; |\n",
       "|---|---|\n",
       "| ts |      0 |\n",
       "| orig_ip |      0 |\n",
       "| orig_port |      0 |\n",
       "| resp_ip |      0 |\n",
       "| resp_port |      0 |\n",
       "| proto |      0 |\n",
       "| service | 225579 |\n",
       "| duration |  82146 |\n",
       "| orig_bytes |  82146 |\n",
       "| resp_bytes |  82146 |\n",
       "| conn_state |      0 |\n",
       "| missed_bytes |      0 |\n",
       "| history |      0 |\n",
       "| orig_pkts |      0 |\n",
       "| orig_ip_bytes |      0 |\n",
       "| resp_pkts |      0 |\n",
       "| resp_ip_bytes |      0 |\n",
       "\n"
      ],
      "text/plain": [
       "              colSums(is.na(data))\n",
       "ts                 0              \n",
       "orig_ip            0              \n",
       "orig_port          0              \n",
       "resp_ip            0              \n",
       "resp_port          0              \n",
       "proto              0              \n",
       "service       225579              \n",
       "duration       82146              \n",
       "orig_bytes     82146              \n",
       "resp_bytes     82146              \n",
       "conn_state         0              \n",
       "missed_bytes       0              \n",
       "history            0              \n",
       "orig_pkts          0              \n",
       "orig_ip_bytes      0              \n",
       "resp_pkts          0              \n",
       "resp_ip_bytes      0              "
      ]
     },
     "metadata": {},
     "output_type": "display_data"
    }
   ],
   "source": [
    "as.data.frame(colSums(is.na(data)))"
   ]
  },
  {
   "cell_type": "code",
   "execution_count": 170,
   "metadata": {},
   "outputs": [
    {
     "data": {
      "text/html": [
       "226181"
      ],
      "text/latex": [
       "226181"
      ],
      "text/markdown": [
       "226181"
      ],
      "text/plain": [
       "[1] 226181"
      ]
     },
     "metadata": {},
     "output_type": "display_data"
    },
    {
     "data": {
      "text/html": [
       "762"
      ],
      "text/latex": [
       "762"
      ],
      "text/markdown": [
       "762"
      ],
      "text/plain": [
       "[1] 762"
      ]
     },
     "metadata": {},
     "output_type": "display_data"
    }
   ],
   "source": [
    "nrow(data[!complete.cases(data),])\n",
    "cut_data <- na.omit(data)\n",
    "nrow(cut_data)"
   ]
  },
  {
   "cell_type": "code",
   "execution_count": 171,
   "metadata": {},
   "outputs": [
    {
     "data": {
      "text/plain": [
       "       ts              orig_ip            orig_port       resp_ip         \n",
       " Min.   :1.332e+09   Length:226943      Min.   :    3   Length:226943     \n",
       " 1st Qu.:1.332e+09   Class :character   1st Qu.:63805   Class :character  \n",
       " Median :1.332e+09   Mode  :character   Median :63805   Mode  :character  \n",
       " Mean   :1.332e+09                      Mean   :63109                     \n",
       " 3rd Qu.:1.332e+09                      3rd Qu.:63805                     \n",
       " Max.   :1.332e+09                      Max.   :65456                     \n",
       "                                                                          \n",
       "   resp_port        proto             service             duration     \n",
       " Min.   :    0   Length:226943      Length:226943      Min.   :  0.01  \n",
       " 1st Qu.:18191   Class :character   Class :character   1st Qu.:  0.01  \n",
       " Median :33550   Mode  :character   Mode  :character   Median :  0.03  \n",
       " Mean   :33224                                         Mean   :  0.37  \n",
       " 3rd Qu.:48911                                         3rd Qu.:  0.04  \n",
       " Max.   :65535                                         Max.   :351.96  \n",
       "                                                       NA's   :82146   \n",
       "   orig_bytes        resp_bytes         conn_state         missed_bytes\n",
       " Min.   :      0   Min.   :      0.0   Length:226943      Min.   :0    \n",
       " 1st Qu.:      0   1st Qu.:      0.0   Class :character   1st Qu.:0    \n",
       " Median :      0   Median :      0.0   Mode  :character   Median :0    \n",
       " Mean   :     50   Mean   :     21.6                      Mean   :0    \n",
       " 3rd Qu.:      0   3rd Qu.:      0.0                      3rd Qu.:0    \n",
       " Max.   :6135377   Max.   :1705080.0                      Max.   :0    \n",
       " NA's   :82146     NA's   :82146                                       \n",
       "   history            orig_pkts        orig_ip_bytes       resp_pkts       \n",
       " Length:226943      Min.   :    0.00   Min.   :      0   Min.   :    0.00  \n",
       " Class :character   1st Qu.:    1.00   1st Qu.:     44   1st Qu.:    0.00  \n",
       " Mode  :character   Median :    1.00   Median :     44   Median :    1.00  \n",
       "                    Mean   :    1.32   Mean   :     93   Mean   :    1.02  \n",
       "                    3rd Qu.:    1.00   3rd Qu.:     44   3rd Qu.:    1.00  \n",
       "                    Max.   :43697.00   Max.   :8402145   Max.   :43683.00  \n",
       "                                                                           \n",
       " resp_ip_bytes    \n",
       " Min.   :      0  \n",
       " 1st Qu.:      0  \n",
       " Median :     40  \n",
       " Mean   :     59  \n",
       " 3rd Qu.:     40  \n",
       " Max.   :3975036  \n",
       "                  "
      ]
     },
     "metadata": {},
     "output_type": "display_data"
    }
   ],
   "source": [
    "summary(data)"
   ]
  },
  {
   "cell_type": "markdown",
   "metadata": {},
   "source": [
    "Cutting out missing data seems unacceptable in this case as we would be left with only 762 of our original 226943 rows. That's only 0.336% of our original data!"
   ]
  },
  {
   "cell_type": "code",
   "execution_count": 180,
   "metadata": {},
   "outputs": [
    {
     "name": "stdout",
     "output_type": "stream",
     "text": [
      "'data.frame':\t226943 obs. of  17 variables:\n",
      " $ ts           : num  1.33e+09 1.33e+09 1.33e+09 1.33e+09 1.33e+09 ...\n",
      " $ orig_ip      : chr  \"192.168.202.79\" \"192.168.202.79\" \"192.168.202.79\" \"192.168.202.79\" ...\n",
      " $ orig_port    : int  50463 46117 50465 50467 46119 46121 46123 50469 50471 50473 ...\n",
      " $ resp_ip      : chr  \"192.168.229.251\" \"192.168.229.254\" \"192.168.229.251\" \"192.168.229.251\" ...\n",
      " $ resp_port    : int  80 443 80 80 443 443 443 80 80 80 ...\n",
      " $ proto        : chr  \"tcp\" \"tcp\" \"tcp\" \"tcp\" ...\n",
      " $ service      : chr  NA NA \"http\" \"http\" ...\n",
      " $ duration     : num  NA NA 0.01 0.01 0.02 0.01 0.01 0.02 0.01 0.01 ...\n",
      " $ orig_bytes   : int  NA NA 166 166 544 544 548 166 166 164 ...\n",
      " $ resp_bytes   : int  NA NA 214 214 1060 1060 1060 214 214 214 ...\n",
      " $ conn_state   : chr  \"SH\" \"SF\" \"SF\" \"SF\" ...\n",
      " $ missed_bytes : int  0 0 0 0 0 0 0 0 0 0 ...\n",
      " $ history      : chr  \"Fa\" \"dDafFr\" \"ShADfFa\" \"ShADfFa\" ...\n",
      " $ orig_pkts    : int  1 3 4 4 8 8 8 4 4 4 ...\n",
      " $ orig_ip_bytes: int  52 382 382 382 968 968 972 382 382 380 ...\n",
      " $ resp_pkts    : int  1 9 3 3 13 13 13 3 3 3 ...\n",
      " $ resp_ip_bytes: int  52 994 382 382 1744 1744 1744 382 382 382 ...\n"
     ]
    },
    {
     "data": {
      "text/html": [
       "<table>\n",
       "<caption>A matrix: 5 × 18 of type dbl</caption>\n",
       "<thead>\n",
       "\t<tr><th></th><th scope=col>ts</th><th scope=col>orig_ip</th><th scope=col>orig_port</th><th scope=col>resp_ip</th><th scope=col>resp_port</th><th scope=col>proto</th><th scope=col>conn_state</th><th scope=col>missed_bytes</th><th scope=col>history</th><th scope=col>orig_pkts</th><th scope=col>orig_ip_bytes</th><th scope=col>resp_pkts</th><th scope=col>resp_ip_bytes</th><th scope=col>duration</th><th scope=col>orig_bytes</th><th scope=col>resp_bytes</th><th scope=col>service</th><th scope=col></th></tr>\n",
       "</thead>\n",
       "<tbody>\n",
       "\t<tr><th scope=row>762</th><td>1</td><td>1</td><td>1</td><td>1</td><td>1</td><td>1</td><td>1</td><td>1</td><td>1</td><td>1</td><td>1</td><td>1</td><td>1</td><td>    1</td><td>    1</td><td>    1</td><td>     1</td><td>     0</td></tr>\n",
       "\t<tr><th scope=row>144035</th><td>1</td><td>1</td><td>1</td><td>1</td><td>1</td><td>1</td><td>1</td><td>1</td><td>1</td><td>1</td><td>1</td><td>1</td><td>1</td><td>    1</td><td>    1</td><td>    1</td><td>     0</td><td>     1</td></tr>\n",
       "\t<tr><th scope=row>602</th><td>1</td><td>1</td><td>1</td><td>1</td><td>1</td><td>1</td><td>1</td><td>1</td><td>1</td><td>1</td><td>1</td><td>1</td><td>1</td><td>    0</td><td>    0</td><td>    0</td><td>     1</td><td>     3</td></tr>\n",
       "\t<tr><th scope=row>81544</th><td>1</td><td>1</td><td>1</td><td>1</td><td>1</td><td>1</td><td>1</td><td>1</td><td>1</td><td>1</td><td>1</td><td>1</td><td>1</td><td>    0</td><td>    0</td><td>    0</td><td>     0</td><td>     4</td></tr>\n",
       "\t<tr><th scope=row></th><td>0</td><td>0</td><td>0</td><td>0</td><td>0</td><td>0</td><td>0</td><td>0</td><td>0</td><td>0</td><td>0</td><td>0</td><td>0</td><td>82146</td><td>82146</td><td>82146</td><td>225579</td><td>472017</td></tr>\n",
       "</tbody>\n",
       "</table>\n"
      ],
      "text/latex": [
       "A matrix: 5 × 18 of type dbl\n",
       "\\begin{tabular}{r|llllllllllllllllll}\n",
       "  & ts & orig\\_ip & orig\\_port & resp\\_ip & resp\\_port & proto & conn\\_state & missed\\_bytes & history & orig\\_pkts & orig\\_ip\\_bytes & resp\\_pkts & resp\\_ip\\_bytes & duration & orig\\_bytes & resp\\_bytes & service & \\\\\n",
       "\\hline\n",
       "\t762 & 1 & 1 & 1 & 1 & 1 & 1 & 1 & 1 & 1 & 1 & 1 & 1 & 1 &     1 &     1 &     1 &      1 &      0\\\\\n",
       "\t144035 & 1 & 1 & 1 & 1 & 1 & 1 & 1 & 1 & 1 & 1 & 1 & 1 & 1 &     1 &     1 &     1 &      0 &      1\\\\\n",
       "\t602 & 1 & 1 & 1 & 1 & 1 & 1 & 1 & 1 & 1 & 1 & 1 & 1 & 1 &     0 &     0 &     0 &      1 &      3\\\\\n",
       "\t81544 & 1 & 1 & 1 & 1 & 1 & 1 & 1 & 1 & 1 & 1 & 1 & 1 & 1 &     0 &     0 &     0 &      0 &      4\\\\\n",
       "\t & 0 & 0 & 0 & 0 & 0 & 0 & 0 & 0 & 0 & 0 & 0 & 0 & 0 & 82146 & 82146 & 82146 & 225579 & 472017\\\\\n",
       "\\end{tabular}\n"
      ],
      "text/markdown": [
       "\n",
       "A matrix: 5 × 18 of type dbl\n",
       "\n",
       "| <!--/--> | ts | orig_ip | orig_port | resp_ip | resp_port | proto | conn_state | missed_bytes | history | orig_pkts | orig_ip_bytes | resp_pkts | resp_ip_bytes | duration | orig_bytes | resp_bytes | service | <!----> |\n",
       "|---|---|---|---|---|---|---|---|---|---|---|---|---|---|---|---|---|---|---|\n",
       "| 762 | 1 | 1 | 1 | 1 | 1 | 1 | 1 | 1 | 1 | 1 | 1 | 1 | 1 |     1 |     1 |     1 |      1 |      0 |\n",
       "| 144035 | 1 | 1 | 1 | 1 | 1 | 1 | 1 | 1 | 1 | 1 | 1 | 1 | 1 |     1 |     1 |     1 |      0 |      1 |\n",
       "| 602 | 1 | 1 | 1 | 1 | 1 | 1 | 1 | 1 | 1 | 1 | 1 | 1 | 1 |     0 |     0 |     0 |      1 |      3 |\n",
       "| 81544 | 1 | 1 | 1 | 1 | 1 | 1 | 1 | 1 | 1 | 1 | 1 | 1 | 1 |     0 |     0 |     0 |      0 |      4 |\n",
       "| <!----> | 0 | 0 | 0 | 0 | 0 | 0 | 0 | 0 | 0 | 0 | 0 | 0 | 0 | 82146 | 82146 | 82146 | 225579 | 472017 |\n",
       "\n"
      ],
      "text/plain": [
       "       ts orig_ip orig_port resp_ip resp_port proto conn_state missed_bytes\n",
       "762    1  1       1         1       1         1     1          1           \n",
       "144035 1  1       1         1       1         1     1          1           \n",
       "602    1  1       1         1       1         1     1          1           \n",
       "81544  1  1       1         1       1         1     1          1           \n",
       "       0  0       0         0       0         0     0          0           \n",
       "       history orig_pkts orig_ip_bytes resp_pkts resp_ip_bytes duration\n",
       "762    1       1         1             1         1                 1   \n",
       "144035 1       1         1             1         1                 1   \n",
       "602    1       1         1             1         1                 0   \n",
       "81544  1       1         1             1         1                 0   \n",
       "       0       0         0             0         0             82146   \n",
       "       orig_bytes resp_bytes service       \n",
       "762        1          1           1       0\n",
       "144035     1          1           0       1\n",
       "602        0          0           1       3\n",
       "81544      0          0           0       4\n",
       "       82146      82146      225579  472017"
      ]
     },
     "metadata": {},
     "output_type": "display_data"
    },
    {
     "data": {
      "image/png": "[encoded data removed]",
      "text/plain": [
       "plot without title"
      ]
     },
     "metadata": {
      "image/png": {
       "height": 420,
       "width": 420
      }
     },
     "output_type": "display_data"
    }
   ],
   "source": [
    "str(data)\n",
    "md.pattern(data)"
   ]
  },
  {
   "cell_type": "markdown",
   "metadata": {},
   "source": [
    "Above shows us that 762 rows are not missing any data, 144035 are just missing the `service`, 602 are missing `duration`, `orig_bytes`, and `resp_bytes`, but have service, and 81544 are missing all 4 variables."
   ]
  },
  {
   "cell_type": "code",
   "execution_count": 13,
   "metadata": {},
   "outputs": [
    {
     "name": "stdout",
     "output_type": "stream",
     "text": [
      "\n",
      " Variables sorted by number of missings: \n",
      "   Variable     Count\n",
      "    service 0.9939897\n",
      "   duration 0.3619675\n",
      " orig_bytes 0.3619675\n",
      " resp_bytes 0.3619675\n"
     ]
    },
    {
     "data": {
      "image/png": "[encoded data removed]",
      "text/plain": [
       "plot without title"
      ]
     },
     "metadata": {
      "image/png": {
       "height": 420,
       "width": 420
      }
     },
     "output_type": "display_data"
    }
   ],
   "source": [
    "data_mis <- subset(data, select = c(service,duration,orig_bytes,resp_bytes))\n",
    "mice_plot <- aggr(data_mis,numbers=TRUE, sortVars=TRUE,labels=c(\"service\",\"duration\",\"orig_bytes\",\"resp_bytes\"),cex.axis=.7,gap=3, ylab=c(\"Missing data\",\"pattern\"))"
   ]
  },
  {
   "cell_type": "code",
   "execution_count": 178,
   "metadata": {},
   "outputs": [
    {
     "name": "stderr",
     "output_type": "stream",
     "text": [
      "Warning message:\n",
      "\"Number of logged events: 12\"\n"
     ]
    }
   ],
   "source": [
    "#init <- mice(data,maxit=0)\n",
    "#meth = init$method\n",
    "#predM = init$predictorMatrix\n",
    "#meth[c(\"ts\",\"orig_ip\",\"orig_port\",\"resp_ip\",\"resp_port\",\"proto\",\"conn_state\",\n",
    "       \"missed_bytes\",\"history\",\"orig_pkts\",\"orig_ip_bytes\",\"resp_pkts\",\"resp_ip_bytes\")] <- \"\"\n",
    "#meth[c(\"service\",\"duration\",\"orig_bytes\",\"resp_bytes\")] <- \"pmm\""
   ]
  },
  {
   "cell_type": "code",
   "execution_count": 186,
   "metadata": {},
   "outputs": [],
   "source": [
    "#set.seed(462)\n",
    "#data_impute <- mice(data,  m=5, method=meth, maxit = 20)\n",
    "#impute_data <- mice(data,m=5,maxit=50,meth=\"pmm\",see=462)\n",
    "#summary(impute_data)"
   ]
  },
  {
   "cell_type": "code",
   "execution_count": 159,
   "metadata": {},
   "outputs": [
    {
     "data": {
      "text/html": [
       "<table>\n",
       "<caption>A data.frame: 6 × 5</caption>\n",
       "<thead>\n",
       "\t<tr><th></th><th scope=col>1</th><th scope=col>2</th><th scope=col>3</th><th scope=col>4</th><th scope=col>5</th></tr>\n",
       "\t<tr><th></th><th scope=col>&lt;dbl&gt;</th><th scope=col>&lt;dbl&gt;</th><th scope=col>&lt;dbl&gt;</th><th scope=col>&lt;dbl&gt;</th><th scope=col>&lt;dbl&gt;</th></tr>\n",
       "</thead>\n",
       "<tbody>\n",
       "\t<tr><th scope=row>1</th><td>0.03</td><td>27.94</td><td>0.02</td><td>30.89</td><td> 0.01</td></tr>\n",
       "\t<tr><th scope=row>2</th><td>0.03</td><td> 0.02</td><td>0.02</td><td>30.89</td><td> 0.01</td></tr>\n",
       "\t<tr><th scope=row>32</th><td>0.02</td><td> 2.08</td><td>0.02</td><td>27.88</td><td>30.00</td></tr>\n",
       "\t<tr><th scope=row>81</th><td>0.18</td><td> 2.08</td><td>0.02</td><td> 0.35</td><td>30.00</td></tr>\n",
       "\t<tr><th scope=row>162</th><td>0.02</td><td>56.61</td><td>0.06</td><td>27.88</td><td> 0.04</td></tr>\n",
       "\t<tr><th scope=row>264</th><td>0.02</td><td>56.61</td><td>0.06</td><td> 0.35</td><td> 0.04</td></tr>\n",
       "</tbody>\n",
       "</table>\n"
      ],
      "text/latex": [
       "A data.frame: 6 × 5\n",
       "\\begin{tabular}{r|lllll}\n",
       "  & 1 & 2 & 3 & 4 & 5\\\\\n",
       "  & <dbl> & <dbl> & <dbl> & <dbl> & <dbl>\\\\\n",
       "\\hline\n",
       "\t1 & 0.03 & 27.94 & 0.02 & 30.89 &  0.01\\\\\n",
       "\t2 & 0.03 &  0.02 & 0.02 & 30.89 &  0.01\\\\\n",
       "\t32 & 0.02 &  2.08 & 0.02 & 27.88 & 30.00\\\\\n",
       "\t81 & 0.18 &  2.08 & 0.02 &  0.35 & 30.00\\\\\n",
       "\t162 & 0.02 & 56.61 & 0.06 & 27.88 &  0.04\\\\\n",
       "\t264 & 0.02 & 56.61 & 0.06 &  0.35 &  0.04\\\\\n",
       "\\end{tabular}\n"
      ],
      "text/markdown": [
       "\n",
       "A data.frame: 6 × 5\n",
       "\n",
       "| <!--/--> | 1 &lt;dbl&gt; | 2 &lt;dbl&gt; | 3 &lt;dbl&gt; | 4 &lt;dbl&gt; | 5 &lt;dbl&gt; |\n",
       "|---|---|---|---|---|---|\n",
       "| 1 | 0.03 | 27.94 | 0.02 | 30.89 |  0.01 |\n",
       "| 2 | 0.03 |  0.02 | 0.02 | 30.89 |  0.01 |\n",
       "| 32 | 0.02 |  2.08 | 0.02 | 27.88 | 30.00 |\n",
       "| 81 | 0.18 |  2.08 | 0.02 |  0.35 | 30.00 |\n",
       "| 162 | 0.02 | 56.61 | 0.06 | 27.88 |  0.04 |\n",
       "| 264 | 0.02 | 56.61 | 0.06 |  0.35 |  0.04 |\n",
       "\n"
      ],
      "text/plain": [
       "    1    2     3    4     5    \n",
       "1   0.03 27.94 0.02 30.89  0.01\n",
       "2   0.03  0.02 0.02 30.89  0.01\n",
       "32  0.02  2.08 0.02 27.88 30.00\n",
       "81  0.18  2.08 0.02  0.35 30.00\n",
       "162 0.02 56.61 0.06 27.88  0.04\n",
       "264 0.02 56.61 0.06  0.35  0.04"
      ]
     },
     "metadata": {},
     "output_type": "display_data"
    }
   ],
   "source": [
    "#head(data_impute$imp$duration)"
   ]
  },
  {
   "cell_type": "code",
   "execution_count": null,
   "metadata": {},
   "outputs": [],
   "source": [
    "fit <- with(data = iris.mis, exp = lm())"
   ]
  },
  {
   "cell_type": "code",
   "execution_count": 111,
   "metadata": {},
   "outputs": [
    {
     "name": "stderr",
     "output_type": "stream",
     "text": [
      "Warning message in xy.coords(x, y, xlabel, ylabel, log):\n",
      "\"84 y values <= 0 omitted from logarithmic plot\"\n"
     ]
    },
    {
     "data": {
      "image/png": "[encoded data removed]",
      "text/plain": [
       "plot without title"
      ]
     },
     "metadata": {
      "image/png": {
       "height": 420,
       "width": 420
      }
     },
     "output_type": "display_data"
    }
   ],
   "source": [
    "nbreaks=100 ## Choose this\n",
    "thist=hist(data[,\"resp_bytes\"],breaks=nbreaks,plot=FALSE)\n",
    "plot(thist$mids,thist$density,log=\"y\",type=\"b\",\n",
    "     xlab=\"bytes\",ylab=\"histogram density\")\n",
    "threshold=1200 # obvious threshold\n",
    "abline(v=threshold,col=2)"
   ]
  },
  {
   "cell_type": "code",
   "execution_count": 110,
   "metadata": {},
   "outputs": [
    {
     "data": {
      "text/html": [
       "<table>\n",
       "<caption>A data.frame: 10 × 2</caption>\n",
       "<thead>\n",
       "\t<tr><th></th><th scope=col>Port Number</th><th scope=col>Frequency</th></tr>\n",
       "\t<tr><th></th><th scope=col>&lt;fct&gt;</th><th scope=col>&lt;int&gt;</th></tr>\n",
       "</thead>\n",
       "<tbody>\n",
       "\t<tr><th scope=row>1</th><td>49160</td><td>2196</td></tr>\n",
       "\t<tr><th scope=row>2</th><td>445  </td><td>1550</td></tr>\n",
       "\t<tr><th scope=row>3</th><td>443  </td><td>1246</td></tr>\n",
       "\t<tr><th scope=row>4</th><td>53   </td><td> 668</td></tr>\n",
       "\t<tr><th scope=row>5</th><td>80   </td><td> 668</td></tr>\n",
       "\t<tr><th scope=row>6</th><td>137  </td><td> 155</td></tr>\n",
       "\t<tr><th scope=row>7</th><td>139  </td><td>  70</td></tr>\n",
       "\t<tr><th scope=row>8</th><td>67   </td><td>  59</td></tr>\n",
       "\t<tr><th scope=row>9</th><td>9001 </td><td>  57</td></tr>\n",
       "\t<tr><th scope=row>10</th><td>133  </td><td>  50</td></tr>\n",
       "</tbody>\n",
       "</table>\n"
      ],
      "text/latex": [
       "A data.frame: 10 × 2\n",
       "\\begin{tabular}{r|ll}\n",
       "  & Port Number & Frequency\\\\\n",
       "  & <fct> & <int>\\\\\n",
       "\\hline\n",
       "\t1 & 49160 & 2196\\\\\n",
       "\t2 & 445   & 1550\\\\\n",
       "\t3 & 443   & 1246\\\\\n",
       "\t4 & 53    &  668\\\\\n",
       "\t5 & 80    &  668\\\\\n",
       "\t6 & 137   &  155\\\\\n",
       "\t7 & 139   &   70\\\\\n",
       "\t8 & 67    &   59\\\\\n",
       "\t9 & 9001  &   57\\\\\n",
       "\t10 & 133   &   50\\\\\n",
       "\\end{tabular}\n"
      ],
      "text/markdown": [
       "\n",
       "A data.frame: 10 × 2\n",
       "\n",
       "| <!--/--> | Port Number &lt;fct&gt; | Frequency &lt;int&gt; |\n",
       "|---|---|---|\n",
       "| 1 | 49160 | 2196 |\n",
       "| 2 | 445   | 1550 |\n",
       "| 3 | 443   | 1246 |\n",
       "| 4 | 53    |  668 |\n",
       "| 5 | 80    |  668 |\n",
       "| 6 | 137   |  155 |\n",
       "| 7 | 139   |   70 |\n",
       "| 8 | 67    |   59 |\n",
       "| 9 | 9001  |   57 |\n",
       "| 10 | 133   |   50 |\n",
       "\n"
      ],
      "text/plain": [
       "   Port Number Frequency\n",
       "1  49160       2196     \n",
       "2  445         1550     \n",
       "3  443         1246     \n",
       "4  53           668     \n",
       "5  80           668     \n",
       "6  137          155     \n",
       "7  139           70     \n",
       "8  67            59     \n",
       "9  9001          57     \n",
       "10 133           50     "
      ]
     },
     "metadata": {},
     "output_type": "display_data"
    }
   ],
   "source": [
    "resp_port_count <- as.data.frame(table(data$resp_port))\n",
    "resp_port_count <- resp_port_count[order(-resp_port_count$Freq),]\n",
    "rownames(resp_port_count) <- 1:nrow(resp_port_count)\n",
    "colnames(resp_port_count) <- c(\"Port Number\", \"Frequency\")\n",
    "head(resp_port_count,10)"
   ]
  },
  {
   "cell_type": "code",
   "execution_count": 109,
   "metadata": {},
   "outputs": [
    {
     "data": {
      "text/html": [
       "<table>\n",
       "<caption>A data.frame: 10 × 2</caption>\n",
       "<thead>\n",
       "\t<tr><th></th><th scope=col>Var1</th><th scope=col>Freq</th></tr>\n",
       "\t<tr><th></th><th scope=col>&lt;fct&gt;</th><th scope=col>&lt;int&gt;</th></tr>\n",
       "</thead>\n",
       "<tbody>\n",
       "\t<tr><th scope=row>5230</th><td>63805</td><td>192329</td></tr>\n",
       "\t<tr><th scope=row>5231</th><td>63806</td><td> 27261</td></tr>\n",
       "\t<tr><th scope=row>1391</th><td>45658</td><td>   260</td></tr>\n",
       "\t<tr><th scope=row>261</th><td>21371</td><td>   119</td></tr>\n",
       "\t<tr><th scope=row>9</th><td>137  </td><td>   112</td></tr>\n",
       "\t<tr><th scope=row>1392</th><td>45659</td><td>   106</td></tr>\n",
       "\t<tr><th scope=row>3</th><td>68   </td><td>    59</td></tr>\n",
       "\t<tr><th scope=row>6</th><td>134  </td><td>    50</td></tr>\n",
       "\t<tr><th scope=row>10</th><td>138  </td><td>    40</td></tr>\n",
       "\t<tr><th scope=row>1393</th><td>45660</td><td>    35</td></tr>\n",
       "</tbody>\n",
       "</table>\n"
      ],
      "text/latex": [
       "A data.frame: 10 × 2\n",
       "\\begin{tabular}{r|ll}\n",
       "  & Var1 & Freq\\\\\n",
       "  & <fct> & <int>\\\\\n",
       "\\hline\n",
       "\t5230 & 63805 & 192329\\\\\n",
       "\t5231 & 63806 &  27261\\\\\n",
       "\t1391 & 45658 &    260\\\\\n",
       "\t261 & 21371 &    119\\\\\n",
       "\t9 & 137   &    112\\\\\n",
       "\t1392 & 45659 &    106\\\\\n",
       "\t3 & 68    &     59\\\\\n",
       "\t6 & 134   &     50\\\\\n",
       "\t10 & 138   &     40\\\\\n",
       "\t1393 & 45660 &     35\\\\\n",
       "\\end{tabular}\n"
      ],
      "text/markdown": [
       "\n",
       "A data.frame: 10 × 2\n",
       "\n",
       "| <!--/--> | Var1 &lt;fct&gt; | Freq &lt;int&gt; |\n",
       "|---|---|---|\n",
       "| 5230 | 63805 | 192329 |\n",
       "| 5231 | 63806 |  27261 |\n",
       "| 1391 | 45658 |    260 |\n",
       "| 261 | 21371 |    119 |\n",
       "| 9 | 137   |    112 |\n",
       "| 1392 | 45659 |    106 |\n",
       "| 3 | 68    |     59 |\n",
       "| 6 | 134   |     50 |\n",
       "| 10 | 138   |     40 |\n",
       "| 1393 | 45660 |     35 |\n",
       "\n"
      ],
      "text/plain": [
       "     Var1  Freq  \n",
       "5230 63805 192329\n",
       "5231 63806  27261\n",
       "1391 45658    260\n",
       "261  21371    119\n",
       "9    137      112\n",
       "1392 45659    106\n",
       "3    68        59\n",
       "6    134       50\n",
       "10   138       40\n",
       "1393 45660     35"
      ]
     },
     "metadata": {},
     "output_type": "display_data"
    }
   ],
   "source": [
    "orig_port_count <- as.data.frame(table(data$orig_port))\n",
    "orig_port_count <- orig_port_count[order(-orig_port_count$Freq),]\n",
    "rownames(resp_port_count) <- 1:nrow(resp_port_count)\n",
    "colnames(resp_port_count) <- c(\"Port Number\", \"Frequency\")\n",
    "head(orig_port_count,10)"
   ]
  },
  {
   "cell_type": "code",
   "execution_count": 118,
   "metadata": {},
   "outputs": [
    {
     "name": "stderr",
     "output_type": "stream",
     "text": [
      "Warning message in breaks[-1L] + breaks[-nB]:\n",
      "\"NAs produced by integer overflow\"\n"
     ]
    },
    {
     "data": {
      "image/png": "[encoded data removed]",
      "text/plain": [
       "Plot with title \"Histogram of data2[, \"ts\"]\""
      ]
     },
     "metadata": {
      "image/png": {
       "height": 420,
       "width": 420
      }
     },
     "output_type": "display_data"
    }
   ],
   "source": [
    "hist(data2[,\"ts\"],breaks=50)"
   ]
  },
  {
   "cell_type": "markdown",
   "metadata": {},
   "source": [
    "[Missing Data in R](https://www.statmethods.net/input/missingdata.html)\n",
    "[Missing data in R medium article](https://medium.com/coinmonks/dealing-with-missing-data-using-r-3ae428da2d17)\n",
    "[Missing data in R with MICE](https://datascienceplus.com/imputing-missing-data-with-r-mice-package/)"
   ]
  }
 ],
 "metadata": {
  "kernelspec": {
   "display_name": "R",
   "language": "R",
   "name": "ir"
  },
  "language_info": {
   "codemirror_mode": "r",
   "file_extension": ".r",
   "mimetype": "text/x-r-source",
   "name": "R",
   "pygments_lexer": "r",
   "version": "4.0.3"
  }
 },
 "nbformat": 4,
 "nbformat_minor": 4
}
