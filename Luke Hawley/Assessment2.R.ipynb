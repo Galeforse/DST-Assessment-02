{
 "cells": [
  {
   "cell_type": "code",
   "execution_count": 1,
   "metadata": {},
   "outputs": [],
   "source": [
    "temp1 <- tempfile()\n",
    "download.file(\"https://github.com/Galeforse/DST-Assessment-02/raw/main/Data/1_percent_data.csv.gz\",temp1)\n",
    "conndata <- (read.csv(gzfile(temp1)))\n"
   ]
  },
  {
   "cell_type": "code",
   "execution_count": 2,
   "metadata": {
    "collapsed": true
   },
   "outputs": [
    {
     "data": {
      "text/html": [
       "<table>\n",
       "<caption>A data.frame: 6 × 17</caption>\n",
       "<thead>\n",
       "\t<tr><th></th><th scope=col>ts</th><th scope=col>orig_ip</th><th scope=col>orig_port</th><th scope=col>resp_ip</th><th scope=col>resp_port</th><th scope=col>proto</th><th scope=col>service</th><th scope=col>duration</th><th scope=col>orig_bytes</th><th scope=col>resp_bytes</th><th scope=col>conn_state</th><th scope=col>missed_bytes</th><th scope=col>history</th><th scope=col>orig_pkts</th><th scope=col>orig_ip_bytes</th><th scope=col>resp_pkts</th><th scope=col>resp_ip_bytes</th></tr>\n",
       "\t<tr><th></th><th scope=col>&lt;dbl&gt;</th><th scope=col>&lt;chr&gt;</th><th scope=col>&lt;int&gt;</th><th scope=col>&lt;chr&gt;</th><th scope=col>&lt;int&gt;</th><th scope=col>&lt;chr&gt;</th><th scope=col>&lt;chr&gt;</th><th scope=col>&lt;dbl&gt;</th><th scope=col>&lt;dbl&gt;</th><th scope=col>&lt;int&gt;</th><th scope=col>&lt;chr&gt;</th><th scope=col>&lt;int&gt;</th><th scope=col>&lt;chr&gt;</th><th scope=col>&lt;int&gt;</th><th scope=col>&lt;int&gt;</th><th scope=col>&lt;int&gt;</th><th scope=col>&lt;int&gt;</th></tr>\n",
       "</thead>\n",
       "<tbody>\n",
       "\t<tr><th scope=row>1</th><td>1331915797</td><td>192.168.202.102</td><td> 2633</td><td>192.168.23.202</td><td>  80</td><td>tcp</td><td>http</td><td>0.03</td><td>481</td><td>8133</td><td>RSTO</td><td>0</td><td>ShADadfR</td><td>8</td><td>813</td><td>9</td><td>8505</td></tr>\n",
       "\t<tr><th scope=row>2</th><td>1331923392</td><td>192.168.202.110</td><td>11574</td><td>192.168.23.253</td><td>1724</td><td>tcp</td><td>    </td><td>  NA</td><td> NA</td><td>  NA</td><td>REJ </td><td>0</td><td>Sr      </td><td>1</td><td> 48</td><td>1</td><td>  40</td></tr>\n",
       "\t<tr><th scope=row>3</th><td>1331905217</td><td>192.168.202.83 </td><td>41267</td><td>192.168.206.44</td><td>8010</td><td>tcp</td><td>    </td><td>  NA</td><td> NA</td><td>  NA</td><td>REJ </td><td>0</td><td>Sr      </td><td>1</td><td> 60</td><td>1</td><td>  40</td></tr>\n",
       "\t<tr><th scope=row>4</th><td>1331994375</td><td>192.168.202.83 </td><td>58519</td><td>192.168.206.44</td><td>5214</td><td>tcp</td><td>    </td><td>  NA</td><td> NA</td><td>  NA</td><td>REJ </td><td>0</td><td>Sr      </td><td>1</td><td> 60</td><td>1</td><td>  40</td></tr>\n",
       "\t<tr><th scope=row>5</th><td>1331999507</td><td>192.168.202.140</td><td>25774</td><td>192.168.23.252</td><td>1625</td><td>tcp</td><td>    </td><td>  NA</td><td> NA</td><td>  NA</td><td>S0  </td><td>0</td><td>S       </td><td>1</td><td> 48</td><td>0</td><td>   0</td></tr>\n",
       "\t<tr><th scope=row>6</th><td>1331935766</td><td>192.168.202.83 </td><td>60760</td><td>192.168.206.44</td><td>1580</td><td>tcp</td><td>    </td><td>  NA</td><td> NA</td><td>  NA</td><td>REJ </td><td>0</td><td>Sr      </td><td>1</td><td> 60</td><td>1</td><td>  40</td></tr>\n",
       "</tbody>\n",
       "</table>\n"
      ],
      "text/latex": [
       "A data.frame: 6 × 17\n",
       "\\begin{tabular}{r|lllllllllllllllll}\n",
       "  & ts & orig\\_ip & orig\\_port & resp\\_ip & resp\\_port & proto & service & duration & orig\\_bytes & resp\\_bytes & conn\\_state & missed\\_bytes & history & orig\\_pkts & orig\\_ip\\_bytes & resp\\_pkts & resp\\_ip\\_bytes\\\\\n",
       "  & <dbl> & <chr> & <int> & <chr> & <int> & <chr> & <chr> & <dbl> & <dbl> & <int> & <chr> & <int> & <chr> & <int> & <int> & <int> & <int>\\\\\n",
       "\\hline\n",
       "\t1 & 1331915797 & 192.168.202.102 &  2633 & 192.168.23.202 &   80 & tcp & http & 0.03 & 481 & 8133 & RSTO & 0 & ShADadfR & 8 & 813 & 9 & 8505\\\\\n",
       "\t2 & 1331923392 & 192.168.202.110 & 11574 & 192.168.23.253 & 1724 & tcp &      &   NA &  NA &   NA & REJ  & 0 & Sr       & 1 &  48 & 1 &   40\\\\\n",
       "\t3 & 1331905217 & 192.168.202.83  & 41267 & 192.168.206.44 & 8010 & tcp &      &   NA &  NA &   NA & REJ  & 0 & Sr       & 1 &  60 & 1 &   40\\\\\n",
       "\t4 & 1331994375 & 192.168.202.83  & 58519 & 192.168.206.44 & 5214 & tcp &      &   NA &  NA &   NA & REJ  & 0 & Sr       & 1 &  60 & 1 &   40\\\\\n",
       "\t5 & 1331999507 & 192.168.202.140 & 25774 & 192.168.23.252 & 1625 & tcp &      &   NA &  NA &   NA & S0   & 0 & S        & 1 &  48 & 0 &    0\\\\\n",
       "\t6 & 1331935766 & 192.168.202.83  & 60760 & 192.168.206.44 & 1580 & tcp &      &   NA &  NA &   NA & REJ  & 0 & Sr       & 1 &  60 & 1 &   40\\\\\n",
       "\\end{tabular}\n"
      ],
      "text/markdown": [
       "\n",
       "A data.frame: 6 × 17\n",
       "\n",
       "| <!--/--> | ts &lt;dbl&gt; | orig_ip &lt;chr&gt; | orig_port &lt;int&gt; | resp_ip &lt;chr&gt; | resp_port &lt;int&gt; | proto &lt;chr&gt; | service &lt;chr&gt; | duration &lt;dbl&gt; | orig_bytes &lt;dbl&gt; | resp_bytes &lt;int&gt; | conn_state &lt;chr&gt; | missed_bytes &lt;int&gt; | history &lt;chr&gt; | orig_pkts &lt;int&gt; | orig_ip_bytes &lt;int&gt; | resp_pkts &lt;int&gt; | resp_ip_bytes &lt;int&gt; |\n",
       "|---|---|---|---|---|---|---|---|---|---|---|---|---|---|---|---|---|---|\n",
       "| 1 | 1331915797 | 192.168.202.102 |  2633 | 192.168.23.202 |   80 | tcp | http | 0.03 | 481 | 8133 | RSTO | 0 | ShADadfR | 8 | 813 | 9 | 8505 |\n",
       "| 2 | 1331923392 | 192.168.202.110 | 11574 | 192.168.23.253 | 1724 | tcp | <!----> |   NA |  NA |   NA | REJ  | 0 | Sr       | 1 |  48 | 1 |   40 |\n",
       "| 3 | 1331905217 | 192.168.202.83  | 41267 | 192.168.206.44 | 8010 | tcp | <!----> |   NA |  NA |   NA | REJ  | 0 | Sr       | 1 |  60 | 1 |   40 |\n",
       "| 4 | 1331994375 | 192.168.202.83  | 58519 | 192.168.206.44 | 5214 | tcp | <!----> |   NA |  NA |   NA | REJ  | 0 | Sr       | 1 |  60 | 1 |   40 |\n",
       "| 5 | 1331999507 | 192.168.202.140 | 25774 | 192.168.23.252 | 1625 | tcp | <!----> |   NA |  NA |   NA | S0   | 0 | S        | 1 |  48 | 0 |    0 |\n",
       "| 6 | 1331935766 | 192.168.202.83  | 60760 | 192.168.206.44 | 1580 | tcp | <!----> |   NA |  NA |   NA | REJ  | 0 | Sr       | 1 |  60 | 1 |   40 |\n",
       "\n"
      ],
      "text/plain": [
       "  ts         orig_ip         orig_port resp_ip        resp_port proto service\n",
       "1 1331915797 192.168.202.102  2633     192.168.23.202   80      tcp   http   \n",
       "2 1331923392 192.168.202.110 11574     192.168.23.253 1724      tcp          \n",
       "3 1331905217 192.168.202.83  41267     192.168.206.44 8010      tcp          \n",
       "4 1331994375 192.168.202.83  58519     192.168.206.44 5214      tcp          \n",
       "5 1331999507 192.168.202.140 25774     192.168.23.252 1625      tcp          \n",
       "6 1331935766 192.168.202.83  60760     192.168.206.44 1580      tcp          \n",
       "  duration orig_bytes resp_bytes conn_state missed_bytes history  orig_pkts\n",
       "1 0.03     481        8133       RSTO       0            ShADadfR 8        \n",
       "2   NA      NA          NA       REJ        0            Sr       1        \n",
       "3   NA      NA          NA       REJ        0            Sr       1        \n",
       "4   NA      NA          NA       REJ        0            Sr       1        \n",
       "5   NA      NA          NA       S0         0            S        1        \n",
       "6   NA      NA          NA       REJ        0            Sr       1        \n",
       "  orig_ip_bytes resp_pkts resp_ip_bytes\n",
       "1 813           9         8505         \n",
       "2  48           1           40         \n",
       "3  60           1           40         \n",
       "4  60           1           40         \n",
       "5  48           0            0         \n",
       "6  60           1           40         "
      ]
     },
     "metadata": {},
     "output_type": "display_data"
    }
   ],
   "source": [
    "head(conndata)"
   ]
  },
  {
   "cell_type": "code",
   "execution_count": 3,
   "metadata": {
    "collapsed": true
   },
   "outputs": [
    {
     "data": {
      "text/plain": [
       "       ts              orig_ip            orig_port       resp_ip         \n",
       " Min.   :1.332e+09   Length:226943      Min.   :    3   Length:226943     \n",
       " 1st Qu.:1.332e+09   Class :character   1st Qu.:35857   Class :character  \n",
       " Median :1.332e+09   Mode  :character   Median :44316   Mode  :character  \n",
       " Mean   :1.332e+09                      Mean   :42635                     \n",
       " 3rd Qu.:1.332e+09                      3rd Qu.:54373                     \n",
       " Max.   :1.332e+09                      Max.   :65535                     \n",
       "                                                                          \n",
       "   resp_port        proto             service             duration      \n",
       " Min.   :    0   Length:226943      Length:226943      Min.   :   0.01  \n",
       " 1st Qu.: 2111   Class :character   Class :character   1st Qu.:   0.01  \n",
       " Median :10115   Mode  :character   Mode  :character   Median :   0.02  \n",
       " Mean   :20391                                         Mean   :   1.47  \n",
       " 3rd Qu.:37749                                         3rd Qu.:   0.10  \n",
       " Max.   :65535                                         Max.   :5993.18  \n",
       "                                                       NA's   :187905   \n",
       "   orig_bytes          resp_bytes         conn_state         missed_bytes\n",
       " Min.   :0.000e+00   Min.   :      0.0   Length:226943      Min.   :0    \n",
       " 1st Qu.:0.000e+00   1st Qu.:      0.0   Class :character   1st Qu.:0    \n",
       " Median :0.000e+00   Median :      0.0   Mode  :character   Median :0    \n",
       " Mean   :5.189e+05   Mean   :    666.5                      Mean   :0    \n",
       " 3rd Qu.:0.000e+00   3rd Qu.:      0.0                      3rd Qu.:0    \n",
       " Max.   :5.401e+09   Max.   :1109912.0                      Max.   :0    \n",
       " NA's   :187905      NA's   :187905                                      \n",
       "   history            orig_pkts        orig_ip_bytes        resp_pkts       \n",
       " Length:226943      Min.   :   0.000   Min.   :     0.0   Min.   :   0.000  \n",
       " Class :character   1st Qu.:   1.000   1st Qu.:    44.0   1st Qu.:   0.000  \n",
       " Mode  :character   Median :   1.000   Median :    48.0   Median :   1.000  \n",
       "                    Mean   :   1.389   Mean   :   120.5   Mean   :   0.845  \n",
       "                    3rd Qu.:   1.000   3rd Qu.:    60.0   3rd Qu.:   1.000  \n",
       "                    Max.   :4968.000   Max.   :829914.0   Max.   :4966.000  \n",
       "                                                                            \n",
       " resp_ip_bytes      \n",
       " Min.   :      0.0  \n",
       " 1st Qu.:      0.0  \n",
       " Median :     40.0  \n",
       " Mean   :    159.3  \n",
       " 3rd Qu.:     40.0  \n",
       " Max.   :1575940.0  \n",
       "                    "
      ]
     },
     "metadata": {},
     "output_type": "display_data"
    }
   ],
   "source": [
    "summary(conndata)"
   ]
  },
  {
   "cell_type": "code",
   "execution_count": 4,
   "metadata": {},
   "outputs": [
    {
     "data": {
      "text/html": [
       "<table>\n",
       "<caption>A matrix: 2 × 3 of type dbl</caption>\n",
       "<thead>\n",
       "\t<tr><th></th><th scope=col>icmp</th><th scope=col>tcp</th><th scope=col>udp</th></tr>\n",
       "</thead>\n",
       "<tbody>\n",
       "\t<tr><th scope=row>FALSE</th><td>0.8683921</td><td>0.1649403</td><td>0.3135747</td></tr>\n",
       "\t<tr><th scope=row>TRUE</th><td>0.1316079</td><td>0.8350597</td><td>0.6864253</td></tr>\n",
       "</tbody>\n",
       "</table>\n"
      ],
      "text/latex": [
       "A matrix: 2 × 3 of type dbl\n",
       "\\begin{tabular}{r|lll}\n",
       "  & icmp & tcp & udp\\\\\n",
       "\\hline\n",
       "\tFALSE & 0.8683921 & 0.1649403 & 0.3135747\\\\\n",
       "\tTRUE & 0.1316079 & 0.8350597 & 0.6864253\\\\\n",
       "\\end{tabular}\n"
      ],
      "text/markdown": [
       "\n",
       "A matrix: 2 × 3 of type dbl\n",
       "\n",
       "| <!--/--> | icmp | tcp | udp |\n",
       "|---|---|---|---|\n",
       "| FALSE | 0.8683921 | 0.1649403 | 0.3135747 |\n",
       "| TRUE | 0.1316079 | 0.8350597 | 0.6864253 |\n",
       "\n"
      ],
      "text/plain": [
       "               proto\n",
       "missingduration icmp      tcp       udp      \n",
       "          FALSE 0.8683921 0.1649403 0.3135747\n",
       "          TRUE  0.1316079 0.8350597 0.6864253"
      ]
     },
     "metadata": {},
     "output_type": "display_data"
    }
   ],
   "source": [
    "mtab0=data.frame(\n",
    "    missingduration=is.na(conndata[,\"duration\"]),\n",
    "    proto=conndata[,\"proto\"])\n",
    "mtab=table(mtab0)\n",
    "(apply(mtab,2,function(x)x/sum(x)))"
   ]
  },
  {
   "cell_type": "code",
   "execution_count": 5,
   "metadata": {
    "scrolled": true
   },
   "outputs": [
    {
     "name": "stderr",
     "output_type": "stream",
     "text": [
      "Warning message in xy.coords(x, y, xlabel, ylabel, log):\n",
      "“98 y values <= 0 omitted from logarithmic plot”\n"
     ]
    },
    {
     "data": {
      "image/png": "[encoded data removed]",
      "text/plain": [
       "plot without title"
      ]
     },
     "metadata": {
      "image/png": {
       "height": 420,
       "width": 420
      }
     },
     "output_type": "display_data"
    }
   ],
   "source": [
    "nbreaks=101 \n",
    "thist=hist(conndata[,\"duration\"],breaks=nbreaks,plot=FALSE)\n",
    "\n",
    "plot(thist$mids,thist$density,log=\"y\",type=\"b\",\n",
    "     xlab=\"duration\",ylab=\"histogram density\")\n",
    "threshold=1200 \n",
    "abline(v=threshold,col=2) "
   ]
  },
  {
   "cell_type": "markdown",
   "metadata": {},
   "source": [
    "Here we see that there are supposedly 5 outliers. We can verify whether each point is an outlier with different statistical tests. We first want use Grubbs test but this relys on our data being approximately normally distrubted. But our data contains missing values so we use mean imputation to impute some data. "
   ]
  },
  {
   "cell_type": "code",
   "execution_count": null,
   "metadata": {},
   "outputs": [],
   "source": [
    "conndatamean=conndata\n",
    "conndatamean[is.na(conndatamean[,\"logduration\"]),\n",
    "              \"logduration\"]=\n",
    "    mean(na.omit(conndatamean[,\"logduration\"]))\n",
    "\n",
    "tdata=conndatamean[conndatamean[,\"logduration\"]<log(threshold),]\n",
    "lm2=lm(logduration~proto+service +ts +resp_ip+day,\n",
    "       data=tdata)\n",
    "ts1=summary(lm1)\n",
    "ts2=summary(lm2)"
   ]
  },
  {
   "cell_type": "markdown",
   "metadata": {},
   "source": [
    "Now we have imputed data we can test for normality by using a variety of methods. First we try a density plot to allow us to make a visual judgement."
   ]
  },
  {
   "cell_type": "code",
   "execution_count": null,
   "metadata": {},
   "outputs": [],
   "source": [
    "plot(density(conndatamean[,\"duration\"]))"
   ]
  },
  {
   "cell_type": "markdown",
   "metadata": {},
   "source": [
    "Then, more formally, we can test using Shapiro-Wilk test via the following:"
   ]
  },
  {
   "cell_type": "code",
   "execution_count": null,
   "metadata": {},
   "outputs": [],
   "source": [
    "shapiro.test(conndatamean$value)\n"
   ]
  },
  {
   "cell_type": "code",
   "execution_count": null,
   "metadata": {},
   "outputs": [],
   "source": [
    "#I hope this is noramlly distrubuted otherwise i dont know what \n",
    "#to do lmao\n"
   ]
  },
  {
   "cell_type": "markdown",
   "metadata": {},
   "source": [
    "The Grubbs test detects one outlier at a time (highest or lowest value), so the null and alternative hypotheses are as follows:\n",
    "\n",
    "H_0: The highest value is not an outlier\n",
    "H_1: The highest value is an outlier\n"
   ]
  },
  {
   "cell_type": "code",
   "execution_count": 6,
   "metadata": {},
   "outputs": [
    {
     "data": {
      "text/plain": [
       "\n",
       "\tGrubbs test for one outlier\n",
       "\n",
       "data:  conndata[, \"duration\"]\n",
       "G = 157.45858, U = 0.36486, p-value < 2.2e-16\n",
       "alternative hypothesis: highest value 5993.18 is an outlier\n"
      ]
     },
     "metadata": {},
     "output_type": "display_data"
    }
   ],
   "source": [
    "library(outliers)\n",
    "test <- grubbs.test(conndata[,\"duration\"])\n",
    "test"
   ]
  },
  {
   "cell_type": "markdown",
   "metadata": {},
   "source": [
    "This comfirms what we saw visually in the histogram above."
   ]
  },
  {
   "cell_type": "markdown",
   "metadata": {},
   "source": [
    "Grubbs test can only test the highest or lowest value so we can use Rosner's test since it is designed to detect several outliers at once and it is designed to avoid the problem of 'masking', which is where  an outlier that is close in value to another outlier can go undetected."
   ]
  },
  {
   "cell_type": "code",
   "execution_count": 5,
   "metadata": {},
   "outputs": [
    {
     "name": "stderr",
     "output_type": "stream",
     "text": [
      "\n",
      "Attaching package: ‘EnvStats’\n",
      "\n",
      "\n",
      "The following objects are masked from ‘package:stats’:\n",
      "\n",
      "    predict, predict.lm\n",
      "\n",
      "\n",
      "The following object is masked from ‘package:base’:\n",
      "\n",
      "    print.default\n",
      "\n",
      "\n"
     ]
    },
    {
     "ename": "ERROR",
     "evalue": "Error in `[.data.frame`(conndata, , \"logduration\"): undefined columns selected\n",
     "output_type": "error",
     "traceback": [
      "Error in `[.data.frame`(conndata, , \"logduration\"): undefined columns selected\nTraceback:\n",
      "1. rosnerTest(conndata[, \"logduration\"], k = 5)",
      "2. conndata[, \"logduration\"]",
      "3. `[.data.frame`(conndata, , \"logduration\")",
      "4. stop(\"undefined columns selected\")"
     ]
    }
   ],
   "source": [
    "install.packages(\"Envstats\")\n",
    "library(EnvStats)\n",
    "test <- rosnerTest(conndata[,\"duration\"], k = 5)\n",
    "test"
   ]
  },
  {
   "cell_type": "code",
   "execution_count": 8,
   "metadata": {},
   "outputs": [
    {
     "data": {
      "text/plain": [
       "\n",
       "Call:\n",
       "lm(formula = logduration ~ proto + service + ts + day, data = conndata[conndata[, \n",
       "    \"duration\"] < 1200, ])\n",
       "\n",
       "Residuals:\n",
       "    Min      1Q  Median      3Q     Max \n",
       "-6.7122 -1.2961 -0.6053  0.7149 10.2256 \n",
       "\n",
       "Coefficients:\n",
       "                  Estimate Std. Error t value Pr(>|t|)    \n",
       "(Intercept)     -4.289e+03  1.148e+03  -3.737 0.000187 ***\n",
       "prototcp        -3.098e+00  4.208e-02 -73.616  < 2e-16 ***\n",
       "protoudp         1.609e+00  1.535e-01  10.481  < 2e-16 ***\n",
       "servicedhcp     -1.118e+00  9.475e-01  -1.180 0.237989    \n",
       "servicedns      -3.526e-01  1.619e-01  -2.179 0.029361 *  \n",
       "serviceftp       5.373e+00  3.065e-01  17.532  < 2e-16 ***\n",
       "serviceftp-data -1.041e+00  4.889e-01  -2.129 0.033263 *  \n",
       "servicehttp      3.166e-01  2.746e-02  11.529  < 2e-16 ***\n",
       "servicesmtp      8.030e-02  9.360e-01   0.086 0.931629    \n",
       "servicessh       4.047e+00  2.597e-01  15.581  < 2e-16 ***\n",
       "servicessl       1.690e+00  7.200e-02  23.473  < 2e-16 ***\n",
       "ts               3.220e-06  8.618e-07   3.737 0.000187 ***\n",
       "day             -7.416e-01  7.662e-02  -9.679  < 2e-16 ***\n",
       "---\n",
       "Signif. codes:  0 ‘***’ 0.001 ‘**’ 0.01 ‘*’ 0.05 ‘.’ 0.1 ‘ ’ 1\n",
       "\n",
       "Residual standard error: 1.621 on 39019 degrees of freedom\n",
       "  (187905 observations deleted due to missingness)\n",
       "Multiple R-squared:  0.2273,\tAdjusted R-squared:  0.227 \n",
       "F-statistic: 956.4 on 12 and 39019 DF,  p-value: < 2.2e-16\n"
      ]
     },
     "metadata": {},
     "output_type": "display_data"
    }
   ],
   "source": [
    "daybreak=1331960000.0\n",
    "conndata[,\"day\"]=0 + (conndata[,\"ts\"]>daybreak)\n",
    "conndata[,\"logduration\"]=log(conndata[,\"duration\"])\n",
    "lm1=lm(logduration~proto+service +ts +day,\n",
    "       data=conndata[conndata[,\"duration\"]<1200,])\n",
    "summary(lm1)"
   ]
  },
  {
   "cell_type": "code",
   "execution_count": null,
   "metadata": {},
   "outputs": [],
   "source": [
    "# Indicator for missings\n",
    "x1_miss_ind <- is.na(x1)\n",
    "x2_miss_ind <- is.na(x2)\n",
    "x3_miss_ind <- is.na(x3)\n",
    "\n",
    "# Density of observed data\n",
    "plot(density(conndata['duration'][x1_miss_ind == FALSE]),\n",
    "     lwd = 2, \n",
    "     main = \"Density Pre and Post Mean Imputation\",\n",
    "     xlab = \"Duration\")\n",
    " \n",
    "# Density of observed & imputed data\n",
    "points(density(conndatamean['duration']), \n",
    "       lwd = 2, \n",
    "       type = \"l\", \n",
    "       col = \"red\")\n",
    " \n",
    "# Legend\n",
    "legend(\"topleft\",\n",
    "       c(\"Before Imputation\", \"After Imputation\"),\n",
    "       lty = 1,\n",
    "       lwd = 2,\n",
    "       col = c(\"black\", \"red\"))"
   ]
  },
  {
   "cell_type": "code",
   "execution_count": null,
   "metadata": {},
   "outputs": [],
   "source": [
    "round(summary(conndata['duration'][x1_miss_ind == FALSE]), 2)\n",
    "round(summary(conndata['duration']), 2)"
   ]
  },
  {
   "cell_type": "markdown",
   "metadata": {},
   "source": [
    "Here we hope to see that the mean is the same as it should be but our IQR's have changed in such a way indicating a large bias."
   ]
  },
  {
   "cell_type": "markdown",
   "metadata": {},
   "source": [
    "Now we use the \"Hmisc\" data analysis package. Hmisc is useful for many things but its 'aregImpute' function allows mean imputation using aditive regression or bootstrapping."
   ]
  },
  {
   "cell_type": "code",
   "execution_count": null,
   "metadata": {},
   "outputs": [],
   "source": [
    "install.packages(\"Hmisc\")\n",
    "library(Hmisc)\n",
    "\n",
    "impute_arg<- aregImpute(~logduration~proto+service +ts +id.resp_p+day, data=conndatamean, n.impute = 5)\n",
    "impute_arg"
   ]
  },
  {
   "cell_type": "code",
   "execution_count": null,
   "metadata": {},
   "outputs": [],
   "source": []
  }
 ],
 "metadata": {
  "language_info": {
   "codemirror_mode": "r",
   "file_extension": ".r",
   "mimetype": "text/x-r-source",
   "name": "R",
   "pygments_lexer": "r",
   "version": "4.0.3"
  }
 },
 "nbformat": 4,
 "nbformat_minor": 4
}
